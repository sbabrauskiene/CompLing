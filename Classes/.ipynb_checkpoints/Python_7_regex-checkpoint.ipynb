{
 "cells": [
  {
   "cell_type": "markdown",
   "metadata": {
    "id": "ChZf-6ZfIk_v"
   },
   "source": [
    "# Логика регулярных выржений (и зачем они нужны)\n",
    "\n",
    "регулярное выражение — это последовательность символов, используемая для поиска и(или) замены некоторого паттерна в строке (тексте или файле)\n",
    "\n",
    "регулярные выражения хороши, когда нам нужно вытащить из текста повторяющийся паттерн: номер телефона, конкретную фразу, адреса и тд.\n",
    "\n",
    "[онлайн-редактор для регулярных выражений](https://regex101.com/r/F8dY80/3)"
   ]
  },
  {
   "cell_type": "markdown",
   "metadata": {
    "id": "XpHRKDczJAE0"
   },
   "source": [
    "<table width=\"100%\"><tbody><tr><th style=\"text-align: center;\" width=\"90\"><strong>Оператор</strong></th><th style=\"text-align: center;\" width=\"680\"><strong>Описание</strong></th></tr><tr><td width=\"90\"><tt>.</tt></td><td width=\"680\">Один любой символ, кроме новой строки <tt>\\n</tt>.</td></tr><tr><td width=\"90\"><tt>?</tt></td><td width=\"680\">0 или 1 вхождение шаблона слева</td></tr><tr><td width=\"90\"><tt>+</tt></td><td width=\"680\">1 и более вхождений шаблона слева</td></tr><tr><td width=\"90\"><tt>*</tt></td><td width=\"680\">0 и более вхождений шаблона слева</td></tr><tr><td width=\"90\"><tt>\\w</tt></td><td width=\"680\">Любая цифра или буква (<tt>\\W</tt> —&nbsp;все, кроме буквы или цифры)</td></tr><tr><td width=\"90\"><tt>\\d</tt></td><td width=\"680\">Любая цифра [0-9] (<tt>\\D</tt> —&nbsp;все, кроме цифры)</td></tr><tr><td width=\"90\"><tt>\\s</tt></td><td width=\"680\">Любой пробельный символ (<tt>\\S</tt> —&nbsp;любой непробельный символ)</td></tr><tr><td width=\"90\"><tt>\\b</tt></td><td width=\"680\">Граница слова</td></tr><tr><td width=\"90\"><tt>[..]</tt></td><td width=\"680\">Один из символов в скобках (<tt>[^..]</tt> —&nbsp;любой символ, кроме тех, что в скобках)</td></tr><tr><td width=\"90\"><tt>\\</tt></td><td width=\"680\">Экранирование специальных символов (<tt>\\.</tt> означает точку или <tt>\\+</tt> —&nbsp;знак «плюс»)</td></tr><tr><td width=\"90\"><tt>^</tt> и <tt>$</tt></td><td width=\"680\">Начало и конец строки соответственно</td></tr><tr><td width=\"90\"><tt>{n,m}</tt></td><td width=\"680\">От <tt>n</tt> до <tt>m</tt> вхождений (<tt>{,m}</tt> —&nbsp;от 0 до <tt>m</tt>)</td></tr><tr><td width=\"90\"><tt>a|b</tt></td><td width=\"680\">Соответствует <tt>a</tt> или <tt>b</tt></td></tr><tr><td width=\"90\"><tt>()</tt></td><td width=\"680\">Группирует выражение и возвращает найденный текст</td></tr><tr><td width=\"90\"><tt>\\t</tt>, <tt>\\n</tt>, <tt>\\r</tt></td><td width=\"680\">Символ табуляции, новой строки и возврата каретки соответственно</td></tr></tbody></table>\n",
    "\n",
    "\n",
    "[здесь](https://www.rexegg.com/regex-quickstart.html) развернутая таблица синтаксиса"
   ]
  },
  {
   "cell_type": "markdown",
   "metadata": {
    "id": "dMd547IoJF1e"
   },
   "source": [
    "#Регулярные выражения в питоне"
   ]
  },
  {
   "cell_type": "markdown",
   "metadata": {
    "id": "YHfoChoPJMKz"
   },
   "source": [
    "чтобы начать работать с регулярными выражениями в питоне, нам нужно импортировать модуль ``re`` или установить библиотеку regex: pip install regex\n",
    "\n",
    "* здесь [ссылка](https://docs.python.org/3/library/re.html) на его документацию и [ссылка на тьюториал](https://docs.python.org/3/howto/regex.html#regex-howto) \n",
    "\n",
    "а так выглядят основные функции модуля re \n",
    "\n",
    "<div class=\"table\"><table>\n",
    "<thead>\n",
    "<tr>\n",
    "<th>Функция</th>\n",
    "<th>Что делает</th>\n",
    "</tr>\n",
    "</thead>\n",
    "<tbody>\n",
    "<tr>\n",
    "<td><code>re.match(pattern, string)</code></td>\n",
    "<td>Найти по заданному шаблону <code>pattern</code> первое совпадение в начале строки<code>string</code></td>\n",
    "</tr>\n",
    "<tr>\n",
    "<td><code>re.search(pattern, string)</code></td>\n",
    "<td>Найти в строке <code>string</code> первую строчку, подходящую под шаблон <code>pattern</code> <br>ищет по всей строке, но возвращает только первое найденное совпадение</br></td>\n",
    "</tr>\n",
    "<tr>\n",
    "<td><code>re.fullmatch(pattern, string)</code></td>\n",
    "<td>Проверить, подходит ли строка <code>string</code> под шаблон <code>pattern</code></td>\n",
    "</tr>\n",
    "<tr>\n",
    "<td><code>re.split(pattern, string, maxsplit=0)</code></td>\n",
    "<td>Аналог <code>str.split()</code>, только разделение происходит по подстрокам, подходящим под шаблон <code>pattern</code></td>\n",
    "</tr>\n",
    "<tr>\n",
    "<td><code>re.findall(pattern, string)</code></td>\n",
    "<td>Найти в строке <code>string</code> все непересекающиеся шаблоны <code>pattern</code></td>\n",
    "</tr>\n",
    "<tr>\n",
    "<td><code>re.sub(pattern, replace, string)</code></td>\n",
    "<td>Заменить в строке <code>string</code> все непересекающиеся шаблоны <code>pattern</code> на <code>replace</code></td>\n",
    "</tr>\n",
    "</tbody>\n",
    "</table></div>\n",
    "\n",
    "\n",
    "Давайте попробуем!"
   ]
  },
  {
   "cell_type": "code",
   "execution_count": null,
   "metadata": {
    "colab": {
     "base_uri": "https://localhost:8080/"
    },
    "id": "KBxC9gdVJ6g4",
    "outputId": "321bdf8c-4508-44ed-ee68-213e236e1a93"
   },
   "outputs": [
    {
     "name": "stdout",
     "output_type": "stream",
     "text": [
      "Looking in indexes: https://pypi.org/simple, https://us-python.pkg.dev/colab-wheels/public/simple/\n",
      "Requirement already satisfied: regex in /usr/local/lib/python3.7/dist-packages (2022.6.2)\n"
     ]
    }
   ],
   "source": [
    "!pip install regex\n",
    "#pip3 install regex"
   ]
  },
  {
   "cell_type": "code",
   "execution_count": null,
   "metadata": {
    "id": "-tCatrzoKY73"
   },
   "outputs": [],
   "source": [
    "import re # для PyCharm - оставьте эту строку в исполняемом файле"
   ]
  },
  {
   "cell_type": "code",
   "execution_count": null,
   "metadata": {
    "id": "yl5NI3NdKXj7"
   },
   "outputs": [],
   "source": [
    "text =  \"Hello my dear friend Amy.\\nHello again!\"\n",
    "\n",
    "print(text)"
   ]
  },
  {
   "cell_type": "markdown",
   "metadata": {
    "id": "re5jEdbNKqc0"
   },
   "source": [
    "##.match(pattern, string)\n",
    "\n",
    "метод ищет подстроку по заданному шаблону в начале строки"
   ]
  },
  {
   "cell_type": "code",
   "execution_count": null,
   "metadata": {
    "id": "WURVdNNyKYki"
   },
   "outputs": [],
   "source": [
    "result = re.match(r'Hello', text)\n",
    "# «r» перед строкой шаблона показывает, что это «сырая» строка в Python\n",
    "# не рассматривай \\ как экранирующий символ\n",
    "\n",
    "print(result)\n",
    "# попробуйте найти hello вместо Hello"
   ]
  },
  {
   "cell_type": "markdown",
   "metadata": {
    "id": "imI1AI6-L5SR"
   },
   "source": [
    "Строка найдена, но не показывается. По умолчанию, print покажет сам объект (найденный паттерн) и его мета-данные.\n",
    "\n",
    "Чтобы вывести содержимое, используем метод .group() Он показывает вхождения искомого паттерна"
   ]
  },
  {
   "cell_type": "code",
   "execution_count": null,
   "metadata": {
    "colab": {
     "base_uri": "https://localhost:8080/"
    },
    "id": "kv0Ha7KHLqh3",
    "outputId": "62a8db0a-bc57-4a90-81f2-31d212350ae1"
   },
   "outputs": [
    {
     "name": "stdout",
     "output_type": "stream",
     "text": [
      "Hello\n"
     ]
    }
   ],
   "source": [
    "print(result.group())"
   ]
  },
  {
   "cell_type": "markdown",
   "metadata": {
    "id": "Y8wO9kjbMIMB"
   },
   "source": [
    "##.fullmatch(pattern, string)\n",
    "проверяет, является ли паттерн полным совпадением со строкой"
   ]
  },
  {
   "cell_type": "code",
   "execution_count": null,
   "metadata": {
    "id": "Tv_Y97q5MHrt"
   },
   "outputs": [],
   "source": [
    "result = re.fullmatch(r'Hello my dear friend Amy', 'Hello my dear friend Amy')\n",
    "\n",
    "print(result)\n",
    "\n",
    "print(result.group())"
   ]
  },
  {
   "cell_type": "code",
   "execution_count": null,
   "metadata": {
    "id": "gZ0SsV_BMR_2"
   },
   "outputs": [],
   "source": [
    "res2 = re.fullmatch(r'Hello my dear friend Amy.\\nHello again!', text) # сравниваем текст и переменную text\n",
    "\n",
    "print(res2)\n",
    "\n",
    "print(res2.group())"
   ]
  },
  {
   "cell_type": "code",
   "execution_count": null,
   "metadata": {
    "id": "KEBNjRFtMkWx"
   },
   "outputs": [],
   "source": [
    "res3 = re.fullmatch(r'Hello my dear friend Amy.', text) # сравниваем текст и переменную text\n",
    "\n",
    "print(res3)\n",
    "\n",
    "print(res3.group())"
   ]
  },
  {
   "cell_type": "markdown",
   "metadata": {
    "id": "RDPd2ww2NJnP"
   },
   "source": [
    "##.search(pattern, string)\n",
    "ищет паттерн по всей длине строки\n",
    "\n",
    "Внимание! search ищет не только в начале строки, в отличие от match\n",
    "\n",
    "Примеры: [разница search и match](https://docs.python.org/3/library/re.html#search-vs-match)"
   ]
  },
  {
   "cell_type": "code",
   "execution_count": null,
   "metadata": {
    "id": "DaOLEobrMMMo"
   },
   "outputs": [],
   "source": [
    "result = re.search(r'Hello', text)\n",
    "# print (result)\n",
    "\n",
    "print(result)\n",
    "\n",
    "print(result.group())"
   ]
  },
  {
   "cell_type": "code",
   "execution_count": null,
   "metadata": {
    "id": "tlymS4wdN5-u"
   },
   "outputs": [],
   "source": [
    "# попробуйте найти второе вхождение слова Hello\n",
    "\n"
   ]
  },
  {
   "cell_type": "markdown",
   "metadata": {
    "id": "5OlSaiJQOFnr"
   },
   "source": [
    "## .split(pattern, string, maxsplit=0)\n",
    "\n",
    "Похож на знакомый нам ```.split()```. Метод разделяет строку по заданному шаблону"
   ]
  },
  {
   "cell_type": "code",
   "execution_count": null,
   "metadata": {
    "id": "gOuC4kfSMMHb"
   },
   "outputs": [],
   "source": [
    "result = re.split(r'\\s',text)\n",
    "\n",
    "print(result)\n",
    "# обратите внимание: здесь результат можно сразу напечатать без метода .group()"
   ]
  },
  {
   "cell_type": "code",
   "execution_count": null,
   "metadata": {
    "id": "Rc3bXj6kMMEv"
   },
   "outputs": [],
   "source": [
    "res2 = re.split(\"\\.\\s\", text) # \\s - любой пробельный символ, включая перенос строки, табуляцию и т.д.\n",
    "\n",
    "print(res2)"
   ]
  },
  {
   "cell_type": "code",
   "execution_count": null,
   "metadata": {
    "id": "bIdItZTUOjFT"
   },
   "outputs": [],
   "source": [
    "res3 = re.split(\"[\\.!]\\s\", text + '\\nHow are you?')\n",
    "\n",
    "print(text + '\\nHow are you?')\n",
    "\n",
    "print(res3)"
   ]
  },
  {
   "cell_type": "markdown",
   "metadata": {
    "id": "ziWG33jTS2kW"
   },
   "source": [
    "maxsplit - опциональный аргумент.\n",
    "Если его указать, то разделение будет произведено не более указанного количества раз"
   ]
  },
  {
   "cell_type": "code",
   "execution_count": null,
   "metadata": {
    "id": "ArxookZKOjC6"
   },
   "outputs": [],
   "source": [
    "result = re.split(r' ', text ,maxsplit=3)\n",
    "\n",
    "print(result)"
   ]
  },
  {
   "cell_type": "markdown",
   "metadata": {
    "id": "S7gK1rYXTFZC"
   },
   "source": [
    "##.findall(pattern, string)"
   ]
  },
  {
   "cell_type": "code",
   "execution_count": null,
   "metadata": {
    "id": "i23EEEsUTFCv"
   },
   "outputs": [],
   "source": [
    "result = re.findall(r'my', text)\n",
    "print(result)\n",
    "\n",
    "# вопрос: чем отличается от match и search?"
   ]
  },
  {
   "cell_type": "code",
   "execution_count": null,
   "metadata": {
    "id": "K0DzmtNiOjAT"
   },
   "outputs": [],
   "source": [
    "# попробуйте с буквой e  или r\n"
   ]
  },
  {
   "cell_type": "code",
   "execution_count": null,
   "metadata": {
    "id": "EnyHxegiOi9m"
   },
   "outputs": [],
   "source": [
    "res2 = re.findall(r\"m.*\", text) # добавляем квантификатор *\n",
    "\n",
    "print(res2)"
   ]
  },
  {
   "cell_type": "code",
   "execution_count": null,
   "metadata": {
    "id": "JfguGM3QTk1b"
   },
   "outputs": [],
   "source": [
    "res3 = re.findall(r\"m.*\", text + \"I'm glad to see you!\")\n",
    "\n",
    "print(res3)"
   ]
  },
  {
   "cell_type": "markdown",
   "metadata": {
    "id": "YOIdgnuaVlAd"
   },
   "source": [
    "##Бонус для .findall \n",
    "разные примеры"
   ]
  },
  {
   "cell_type": "code",
   "execution_count": null,
   "metadata": {
    "id": "YAOfr-oJR6aG"
   },
   "outputs": [],
   "source": [
    "import re"
   ]
  },
  {
   "cell_type": "code",
   "execution_count": null,
   "metadata": {
    "id": "OhbY4_O3uB6Y"
   },
   "outputs": [],
   "source": [
    "twister = \"Two toads, terribly tired, trotted along the road.\\nSaid toad number 1 12 to the toad number Two:\\n'I'm tired, and I'm carrying the load.\"\n",
    "print(re.findall(r'.+', twister))\n",
    "print(re.findall(r'\\d+', twister))\n",
    "print(re.findall(r'[0-9]+', twister))\n",
    "print(re.findall(r'[0-9]', twister))\n",
    "print(re.findall(r'\\D+', twister))\n",
    "print(re.findall(r'\\w+', twister))\n",
    "print(re.findall(r'\\W+', twister))\n",
    "print(re.findall(r'\\w', twister))\n",
    "print(re.findall(r'\\s+', twister))\n",
    "print(re.findall(r'\\S+', twister))"
   ]
  },
  {
   "cell_type": "code",
   "execution_count": null,
   "metadata": {
    "id": "qWp9oqixuMF7"
   },
   "outputs": [],
   "source": [
    "twister = \"Two toads, terribly tired, trotted along the road.\\nSaid toad number 1 12 to the toad number Two:\\n'I'm tired, and I'm carrying the load.\"\n",
    "print(re.findall(r'[trl]oad', twister))\n",
    "print(re.findall(r'[trl]oad\\b', twister))\n",
    "print(re.findall(r'[^s]oad\\b', twister))\n",
    "print(re.findall(r'[rl]oad\\b', twister))\n",
    "print(re.findall(r'[A-Za-z]+', twister))"
   ]
  },
  {
   "cell_type": "code",
   "execution_count": null,
   "metadata": {
    "id": "G_1SV3bQxhR-"
   },
   "outputs": [],
   "source": [
    "s = 'Кошка и ёжик играют с мячом, but dog does not play with ball'\n",
    "print(re.findall(r'[A-Za-z]+', s))\n",
    "print(re.findall(r'[а-яА-ЯЁё]+', s))\n",
    "print(re.findall(r'[а-яА-ЯЁёA-Za-z]+', s))"
   ]
  },
  {
   "cell_type": "code",
   "execution_count": null,
   "metadata": {
    "id": "eT419DU_zCr6"
   },
   "outputs": [],
   "source": [
    "# извлечь дату: день месяц год\n",
    "text = \"12 ноября 2011 года произошло удивительное событие. А 13 ноября 2012 - еще удивительнее. Даже не будем \\nговорить, что произошло 2 декабря 2011 года и 25 декабря 2012 года.\"\n",
    "print(re.findall(r'\\d+', text))\n",
    "print(re.findall(r'\\d{1,2}\\s\\w+\\s\\d{4}', text))\n",
    "print(re.findall(r'\\d{1,2} \\w+ \\d{4}', text))"
   ]
  },
  {
   "cell_type": "code",
   "execution_count": null,
   "metadata": {
    "id": "dX4HtuHu00WR"
   },
   "outputs": [],
   "source": [
    "# найти приглагательное с основой 'удивительн'\n",
    "text = \"12 ноября 2011 года произошло удивительное событие, удивительного. А 13 ноября 2012 - еще удивительнее. Даже не будем \\nговорить, что произошло 2 декабря 2011 года и 25 декабря 2012 года.\"\n",
    "print(re.findall(r'удивительн..', text))\n",
    "print(re.findall(r'удивительн.{2,3}', text))"
   ]
  },
  {
   "cell_type": "code",
   "execution_count": null,
   "metadata": {
    "id": "ylB4YFqI3Df0"
   },
   "outputs": [],
   "source": [
    "# найти все годы\n",
    "text2 = \"По имеющимся данным, в Екатеринбургской губернии на май 1916 года было занято 50611 военнопленных,\\nиз них 34194 на фабричных и заводских работах, 5731 на «казённых», 5060 на сельскохозяйственных,\\n4145 на железнодорожных, 913 на городских и земских, 568 на прочих.\"\n",
    "print(re.findall(r'\\d{4}', text2)) # не годы!\n",
    "print(re.findall(r'19\\d{2}', text2)) \n",
    "print(re.findall(r'\\d{4} г', text2))\n",
    "print(re.findall(r'\\d{1,4} г', text2)) # даже до 10 века\n",
    "print(re.findall(r'\\d{1,4}\\sг', text2)) # даже до 10 века, аналогично\n",
    "print(re.findall(r'(\\d{1,4})\\sг', text2)) # () - позволяют включить в список только нужную часть найденного выражения"
   ]
  },
  {
   "cell_type": "code",
   "execution_count": null,
   "metadata": {
    "id": "WbwVvExq4kJO"
   },
   "outputs": [],
   "source": [
    "# найти все пары имен\n",
    "names = \"1NoahEmma2LiamOlivia3MasonSophia4JacobIsabella5WilliamAva6EthanMia7MichaelEmily\"\n",
    "print(re.findall(r'\\d[A-Z][a-z]+[A-Z][a-z]+', names))\n",
    "print(re.findall(r'\\d([A-Z][a-z]+)([A-Z][a-z]+)', names))"
   ]
  },
  {
   "cell_type": "code",
   "execution_count": null,
   "metadata": {
    "id": "J5v6fR5C6MBL"
   },
   "outputs": [],
   "source": [
    "# найти #я не могу...\n",
    "tweets = \"#я не могу молчать #я не могу кричать #я не могу #я справлюсь я не могу молчать #я не могу жить #я все могу #с кем ни бывает\"\n",
    "print(re.findall(r'#я не могу \\w*', tweets))"
   ]
  },
  {
   "cell_type": "code",
   "execution_count": null,
   "metadata": {
    "id": "Jy3jiSMm6uzW"
   },
   "outputs": [],
   "source": [
    "# найти даты, написанные в формате дд.мм.гггг через точку\n",
    "data = '20.05.1963, 55, 12.12.2000, 17, 15/15/1111'\n",
    "print(re.findall(r'\\d+.\\d+.\\d+', data)) # . - любой символ\n",
    "print(re.findall(r'\\d+\\.\\d+\\.\\d+', data)) # \\. экранирование (обычная точка, а не любой символ)"
   ]
  },
  {
   "cell_type": "markdown",
   "metadata": {
    "id": "LtBOMiFRWDuE"
   },
   "source": [
    "##.sub(pattern, repl, string)\n",
    "метод ищет шаблон в строке и заменяет его на указанную подстроку.\n",
    "\n",
    "Если шаблон не найден, строка остается неизменной."
   ]
  },
  {
   "cell_type": "code",
   "execution_count": 1,
   "metadata": {},
   "outputs": [],
   "source": [
    "import re"
   ]
  },
  {
   "cell_type": "code",
   "execution_count": 2,
   "metadata": {
    "id": "Bd6-ONbJWDX_"
   },
   "outputs": [
    {
     "name": "stdout",
     "output_type": "stream",
     "text": [
      "Hello my dear friend Jack. Jack smiled.\n"
     ]
    }
   ],
   "source": [
    "text = 'Hello my dear friend Amy. Amy smiled.'\n",
    "\n",
    "result = re.sub(r'Amy','Jack', text ) \n",
    "\n",
    "print(result)"
   ]
  },
  {
   "cell_type": "code",
   "execution_count": 3,
   "metadata": {
    "id": "xwhb4T77WMbZ"
   },
   "outputs": [
    {
     "name": "stdout",
     "output_type": "stream",
     "text": [
      "Hello my dear friend Alice. Alice smiled.\n"
     ]
    }
   ],
   "source": [
    "res2 = re.sub(r\"Amy\", \"Alice\", text)\n",
    "\n",
    "print(res2)"
   ]
  },
  {
   "cell_type": "markdown",
   "metadata": {
    "id": "gAyvm-G6WSfU"
   },
   "source": [
    "# Задания"
   ]
  },
  {
   "cell_type": "markdown",
   "metadata": {
    "id": "gMi8OoV1WW8j"
   },
   "source": [
    "* (re.findall) Напишите регулярное выражение, которое вытаскивало бы все адреса из документа addresses.txt\n",
    "* (re.sub) Из текта в файле \"морж-корж.txt\" возьмите текст и замените все вхождения слова \"морж\" на слово \"корж\""
   ]
  },
  {
   "cell_type": "code",
   "execution_count": 35,
   "metadata": {
    "id": "UGDs6RfbWcO1"
   },
   "outputs": [],
   "source": [
    "import re\n",
    "with open('/Users/Svetlana/Documents/Обучение/CompLinguistics/Python/CompLing/Classes/addresses.txt', 'r', encoding='utf-8') as file:\n",
    "    contents = file.read()\n",
    "    print(*re.findall(\"[a-zA-Z0-9]\\S*@\\S*[a-zA-Z]\\s\", contents))"
   ]
  },
  {
   "cell_type": "code",
   "execution_count": 31,
   "metadata": {
    "id": "HhNJEj9GWb-2"
   },
   "outputs": [
    {
     "name": "stdout",
     "output_type": "stream",
     "text": [
      "Contact@nordstrom.com Breen@HauteLook.com nordstrom@nordstrom.com Thomas@nordstrom.com nordstrom@nordstrom.com Nordstrom@nordstrom.com\n"
     ]
    }
   ],
   "source": [
    "import re\n",
    "with open('/Users/Svetlana/Documents/Обучение/CompLinguistics/Python/CompLing/Classes/addresses.txt', 'r', encoding='utf-8') as file:\n",
    "    print(*re.findall(r\"\\w*[@]\\w*[\\.].*\", file.read()))"
   ]
  },
  {
   "cell_type": "code",
   "execution_count": 46,
   "metadata": {},
   "outputs": [
    {
     "name": "stdout",
     "output_type": "stream",
     "text": [
      "Корж[1] (кильд. mоršа, норв. morššâ, лат. Odobenus rosmarus) — морское млекопитающее, единственный современный вид семейства коржовых клады ластоногих отряда хищных.\n",
      "\n",
      "Взрослый корж легко узнаваем по своим видным бивням. Корж — один из крупнейших представителей ластоногих, по размерам тела среди ластоногих уступает лишь морским слонам[2]. Ареалы этих видов не пересекаются, то есть корж является крупнейшим из ластоногих в своей среде обитания.\n",
      "\n",
      "Зимнее плавание в России называется «коржеванием».\n",
      "\n",
      "В 2008 году, по инициативе Всемирного фонда дикой природы (WWF), утверждён День коржа, который отмечается ежегодно 24 ноября.\n",
      "\n",
      "Корж — крупный морской зверь с очень толстой кожей. Верхние клыки чрезвычайно развиты, удлинённы и направлены вниз. Очень широкая морда усажена многочисленными толстыми, жёсткими, сплющенными щетинами-усами (вибриссами), их у коржа на верхней губе может быть от 400 до 700, расположены они в 13—18 рядов[4]. Наружных ушей нет, глаза маленькие.\n",
      "\n",
      "Кожа покрыта короткими прилегающими жёлто-бурыми волосами, но с возрастом их становится меньше, и у старых коржей кожа почти совершенно голая. Конечности более приспособлены для движения на суше, чем у настоящих тюленей, и коржи могут ходить, а не ползать; подошвы мозолистые. Хвост зачаточный.\n",
      "\n",
      "Кожа коржей очень морщинистая и толстая, до 10 см на шее и плечах самцов. Слой жира — до 15 см. Молодые коржи имеют тёмно-коричневый цвет кожи, а по мере взросления светлеют и бледнеют. Старые самцы становятся почти розовыми. Так как кровеносные сосуды кожи сужаются в холодной воде, коржи могут стать почти белого цвета во время купания. В качестве вторичных половых признаков для самцов (в естественных условиях) характерны наросты на коже шеи, груди и плеч.\n",
      "\n",
      "Наиболее характерной особенностью коржа являются его длинные бивни. Это удлинённые клыки, которые присутствуют у обоих полов и могут достигать в длину 1 м и весить до 5,4 кг. Бивни немного длиннее и толще у самцов, которые используют их для схваток. Самцы с крупнейшими бивнями обычно доминируют в социальной группе. Бивни также используются для формирования и поддержания отверстий во льду и помогают коржам вылезать из воды на лёд. Возможно, бивни также используются, чтобы искать еду на дне.\n",
      "\n",
      "Выделяют два или три подвида коржа[5]:\n",
      "\n",
      "Тихоокеанский корж (Odobenus rosmarus divergens Illiger, 1811),\n",
      "Атлантический корж (Odobenus rosmarus rosmarus Linnaeus, 1758).\n",
      "Часто из тихоокеанского подвида выделяют третий подвид — лаптевского коржа (Odobenus rosmarus laptevi Chapskii, 1940), но его самостоятельность многими подвергается сомнению. В Красную книгу России лаптевская популяция включена на правах отдельного подвида.\n",
      "\n",
      "Согласно данным МСОП[6], по результатам недавних исследований митохондриальной ДНК и изучения морфометрических данных, следует отказаться от рассмотрения лаптевского коржа как самостоятельного подвида, признав его крайней западной популяцией тихоокеанского коржа.\n",
      "\n",
      "По последней оценке, основанной на результатах российско-американского учёта численности, проведённого в 1990 году и повторенного в 2006 году, современная численность популяции тихоокеанского коржа составляет от 129[7] до 200 тыс. особей[8][9].\n",
      "\n",
      "Большая часть тихоокеанских коржей проводит лето севернее Берингова пролива, в Чукотском море вдоль северного побережья восточной Сибири, возле острова Врангеля, в море Бофорта вдоль северного побережья Аляски, а также встречается в водах между указанными местами. Небольшое число самцов встречается в летний период в Анадырском заливе, на южном побережье Чукотского полуострова, а также в Бристольском заливе. Весной и осенью они концентрируются от западного побережья Аляски до Анадырского залива. Они зимуют в южных частях Берингова моря, вдоль восточного побережья Сибири на юг к северной части полуострова Камчатка, а также вдоль южного побережья Аляски[2]. Фоссилизованные останки коржа возрастом 28 тыс. лет были найдены недалеко от залива Сан-Франциско, что показывает распространение коржа вплоть до берегов северной Калифорнии во времена последнего ледникового периода[10].\n",
      "\n",
      "Атлантический корж был почти истреблён в результате бесконтрольного коммерческого промысла, и численность популяции его значительно ниже. Точно оценить численность в настоящее время нелегко, но, вероятно, она не превышает 20 тыс. особей[11][12]. Эта популяция распространена от Арктической Канады, Гренландии, Шпицбергена, а также в западном регионе Российской Арктики. На основании огромного географического распространения и данных по перемещениям, предполагается наличие восьми субпопуляций атлантического коржа — пять на западе и три на востоке от Гренландии[13]. Атлантический корж раньше занимал пределы, протянувшиеся на юг до мыса Код, и в большом числе встречался в заливе Святого Лаврентия. В апреле 2006 северо-западная популяция атлантического коржа была внесена в список Канадского акта по угрожаемым видам (англ. Canadian Species at Risk Act) (Квебек, Нью-Брансуик, Новая Шотландия, Ньюфаундленд и Лабрадор) как почти исчезнувшая в Канаде[14]. В ноябре 2018 года атлантические коржи были замечены в Белом море, где они не появлялись несколько столетий[15].\n",
      "\n",
      "Изолированная лаптевская популяция коржа расположена в течение всего года в центральном и западном регионах Моря Лаптевых, в самом восточном регионе Карского моря, а также в самой западной части Восточно-Сибирского моря. Современная численность оценивается в 5—10 тыс. особей[16].\n",
      "\n"
     ]
    }
   ],
   "source": [
    "import re\n",
    "with open('/Users/Svetlana/Documents/Обучение/CompLinguistics/Python/CompLing/Classes/морж-корж.txt', 'r', encoding='utf-8') as file:\n",
    "    k = re.sub(r\"морж\", \"корж\", file.read())\n",
    "    m = re.sub(r\"Морж\", \"Корж\", k)\n",
    "    print(m)"
   ]
  },
  {
   "cell_type": "code",
   "execution_count": null,
   "metadata": {},
   "outputs": [],
   "source": []
  }
 ],
 "metadata": {
  "colab": {
   "provenance": []
  },
  "kernelspec": {
   "display_name": "Python 3 (ipykernel)",
   "language": "python",
   "name": "python3"
  },
  "language_info": {
   "codemirror_mode": {
    "name": "ipython",
    "version": 3
   },
   "file_extension": ".py",
   "mimetype": "text/x-python",
   "name": "python",
   "nbconvert_exporter": "python",
   "pygments_lexer": "ipython3",
   "version": "3.10.1"
  }
 },
 "nbformat": 4,
 "nbformat_minor": 1
}

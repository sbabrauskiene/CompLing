{
 "cells": [
  {
   "cell_type": "markdown",
   "metadata": {
    "id": "LchzhkUv1OnX"
   },
   "source": [
    "#pandas\n",
    "pandas - библиотека, которая позволяет работать с табличными данными"
   ]
  },
  {
   "cell_type": "code",
   "execution_count": 1,
   "metadata": {
    "id": "dy_UDg8kL5Vc"
   },
   "outputs": [
    {
     "name": "stdout",
     "output_type": "stream",
     "text": [
      "Requirement already satisfied: pandas in /Library/Frameworks/Python.framework/Versions/3.10/lib/python3.10/site-packages (1.5.1)\r\n",
      "Requirement already satisfied: pytz>=2020.1 in /Library/Frameworks/Python.framework/Versions/3.10/lib/python3.10/site-packages (from pandas) (2022.5)\r\n",
      "Requirement already satisfied: python-dateutil>=2.8.1 in /Library/Frameworks/Python.framework/Versions/3.10/lib/python3.10/site-packages (from pandas) (2.8.2)\r\n",
      "Requirement already satisfied: numpy>=1.21.0 in /Library/Frameworks/Python.framework/Versions/3.10/lib/python3.10/site-packages (from pandas) (1.23.4)\r\n",
      "Requirement already satisfied: six>=1.5 in /Library/Frameworks/Python.framework/Versions/3.10/lib/python3.10/site-packages (from python-dateutil>=2.8.1->pandas) (1.16.0)\r\n"
     ]
    }
   ],
   "source": [
    "!pip install pandas # если pandas не установлен, следует запустить эту ячейку"
   ]
  },
  {
   "cell_type": "code",
   "execution_count": 2,
   "metadata": {
    "id": "mu_R9WN2MFeQ"
   },
   "outputs": [],
   "source": [
    "import pandas as pd # теперь импортируем pandas в тетрадку / .py файл с кодом"
   ]
  },
  {
   "cell_type": "markdown",
   "metadata": {
    "id": "dDSmXeLaTh4U"
   },
   "source": [
    "документация для pandas [лежит здесь](https://pandas.pydata.org/pandas-docs/stable/getting_started/tutorials.html)\n",
    "\n",
    "Основные элементы \"табличек в pandas\" - это Series и Dataframe\n",
    "\n",
    "Series - это объект, похожий на одномерный массив (как обычный список в питоне) с элементами и  индексами вдоль каждого элемента из списка. \n",
    "\n",
    "DataFrame \"собирается\" из таких Series"
   ]
  },
  {
   "cell_type": "markdown",
   "metadata": {
    "id": "YwQGRoCkO4y1"
   },
   "source": [
    "<img alt=\"Series vs DataFrame\" height=\"300\" width=\"700\" src=\"https://storage.googleapis.com/lds-media/images/series-and-dataframe.width-1200.png\" >"
   ]
  },
  {
   "cell_type": "markdown",
   "metadata": {
    "id": "LpTdm4gfELXK",
    "tags": []
   },
   "source": [
    "# Создание датафрейма"
   ]
  },
  {
   "cell_type": "markdown",
   "metadata": {
    "id": "-58DzZXTELXL"
   },
   "source": [
    "Создать датафрейм можно двумя способами:\n",
    "- из словаря методом pd.DataFrame.from_dict()\n",
    "- прочитав .csv файл\n",
    "\n",
    "попробуем оба способа\n",
    "\n",
    "### Первый"
   ]
  },
  {
   "cell_type": "code",
   "execution_count": 3,
   "metadata": {
    "id": "6Vy_M6tPMQCE"
   },
   "outputs": [],
   "source": [
    "# шаг 1 создадим словарь\n",
    "\n",
    "data = {\n",
    "    \"Maria\":[\"London\",37],\n",
    "    \"Lorenzo\":[\"Milan\",28],\n",
    "    \"Oleg\":[\"Canberra\",31],\n",
    "    \"Hans\":[\"Calgary\",80],\n",
    "    \"Mark\":[\"Milan\",55],\n",
    "    \"Alex\":[\"Krakow\",35],\n",
    "    \"Julia\":[\"Murmansk\",43]\n",
    "    \n",
    "}\n",
    "\n",
    "# шаг 2 используем метод pd.DataFrame.from_dict()\n",
    "# аргументом подадим созданный словарь\n",
    "\n",
    "postcards = pd.DataFrame.from_dict(data, orient=\"columns\").T.rename(columns={0:\"city\", 1:\"age\"})"
   ]
  },
  {
   "cell_type": "code",
   "execution_count": 4,
   "metadata": {
    "id": "332XRedpFZlw"
   },
   "outputs": [
    {
     "name": "stdout",
     "output_type": "stream",
     "text": [
      "             city age\n",
      "Maria      London  37\n",
      "Lorenzo     Milan  28\n",
      "Oleg     Canberra  31\n",
      "Hans      Calgary  80\n",
      "Mark        Milan  55\n",
      "Alex       Krakow  35\n",
      "Julia    Murmansk  43\n"
     ]
    }
   ],
   "source": [
    "print(postcards)"
   ]
  },
  {
   "cell_type": "code",
   "execution_count": 5,
   "metadata": {
    "id": "L6ZKfy5pE2Gt"
   },
   "outputs": [
    {
     "data": {
      "text/html": [
       "<div>\n",
       "<style scoped>\n",
       "    .dataframe tbody tr th:only-of-type {\n",
       "        vertical-align: middle;\n",
       "    }\n",
       "\n",
       "    .dataframe tbody tr th {\n",
       "        vertical-align: top;\n",
       "    }\n",
       "\n",
       "    .dataframe thead th {\n",
       "        text-align: right;\n",
       "    }\n",
       "</style>\n",
       "<table border=\"1\" class=\"dataframe\">\n",
       "  <thead>\n",
       "    <tr style=\"text-align: right;\">\n",
       "      <th></th>\n",
       "      <th>city</th>\n",
       "      <th>age</th>\n",
       "    </tr>\n",
       "  </thead>\n",
       "  <tbody>\n",
       "    <tr>\n",
       "      <th>Maria</th>\n",
       "      <td>London</td>\n",
       "      <td>37</td>\n",
       "    </tr>\n",
       "    <tr>\n",
       "      <th>Lorenzo</th>\n",
       "      <td>Milan</td>\n",
       "      <td>28</td>\n",
       "    </tr>\n",
       "    <tr>\n",
       "      <th>Oleg</th>\n",
       "      <td>Canberra</td>\n",
       "      <td>31</td>\n",
       "    </tr>\n",
       "    <tr>\n",
       "      <th>Hans</th>\n",
       "      <td>Calgary</td>\n",
       "      <td>80</td>\n",
       "    </tr>\n",
       "    <tr>\n",
       "      <th>Mark</th>\n",
       "      <td>Milan</td>\n",
       "      <td>55</td>\n",
       "    </tr>\n",
       "    <tr>\n",
       "      <th>Alex</th>\n",
       "      <td>Krakow</td>\n",
       "      <td>35</td>\n",
       "    </tr>\n",
       "    <tr>\n",
       "      <th>Julia</th>\n",
       "      <td>Murmansk</td>\n",
       "      <td>43</td>\n",
       "    </tr>\n",
       "  </tbody>\n",
       "</table>\n",
       "</div>"
      ],
      "text/plain": [
       "             city age\n",
       "Maria      London  37\n",
       "Lorenzo     Milan  28\n",
       "Oleg     Canberra  31\n",
       "Hans      Calgary  80\n",
       "Mark        Milan  55\n",
       "Alex       Krakow  35\n",
       "Julia    Murmansk  43"
      ]
     },
     "metadata": {},
     "output_type": "display_data"
    }
   ],
   "source": [
    "display(postcards)\n",
    "# в PyChram не работает функция display()"
   ]
  },
  {
   "cell_type": "markdown",
   "metadata": {},
   "source": [
    "Создание из словаря списка списков, чтобы числа были int64"
   ]
  },
  {
   "cell_type": "code",
   "execution_count": 3,
   "metadata": {},
   "outputs": [
    {
     "name": "stdout",
     "output_type": "stream",
     "text": [
      "Maria      37\n",
      "Lorenzo    28\n",
      "Oleg       31\n",
      "Hans       80\n",
      "Mark       55\n",
      "Alex       35\n",
      "Julia      43\n",
      "Name: age, dtype: int64\n"
     ]
    }
   ],
   "source": [
    "import pandas as pd\n",
    "data = {\n",
    "    \"Maria\":[\"London\",37],\n",
    "    \"Lorenzo\":[\"Milan\",28],\n",
    "    \"Oleg\":[\"Canberra\",31],\n",
    "    \"Hans\":[\"Calgary\",80],\n",
    "    \"Mark\":[\"Milan\",55],\n",
    "    \"Alex\":[\"Krakow\",35],\n",
    "    \"Julia\":[\"Murmansk\",43]\n",
    "    \n",
    "}\n",
    "names = list(data.keys()) # индекс таблицы\n",
    "v = list(data.values()) # столбцы\n",
    "#print(v)\n",
    "postcards = pd.DataFrame(v, index=names, columns=['city', 'age'])\n",
    "postcards\n",
    "print(postcards.age)"
   ]
  },
  {
   "cell_type": "code",
   "execution_count": 2,
   "metadata": {},
   "outputs": [
    {
     "ename": "NameError",
     "evalue": "name 'pd' is not defined",
     "output_type": "error",
     "traceback": [
      "\u001b[0;31m---------------------------------------------------------------------------\u001b[0m",
      "\u001b[0;31mNameError\u001b[0m                                 Traceback (most recent call last)",
      "Input \u001b[0;32mIn [2]\u001b[0m, in \u001b[0;36m<cell line: 7>\u001b[0;34m()\u001b[0m\n\u001b[1;32m      1\u001b[0m data_2 \u001b[38;5;241m=\u001b[39m {\u001b[38;5;124m'\u001b[39m\u001b[38;5;124mindex\u001b[39m\u001b[38;5;124m'\u001b[39m: [(\u001b[38;5;124m'\u001b[39m\u001b[38;5;124mHeight\u001b[39m\u001b[38;5;124m'\u001b[39m, \u001b[38;5;124m'\u001b[39m\u001b[38;5;124mDogs\u001b[39m\u001b[38;5;124m'\u001b[39m), (\u001b[38;5;124m'\u001b[39m\u001b[38;5;124mWeight\u001b[39m\u001b[38;5;124m'\u001b[39m, \u001b[38;5;124m'\u001b[39m\u001b[38;5;124mDogs\u001b[39m\u001b[38;5;124m'\u001b[39m), (\u001b[38;5;124m'\u001b[39m\u001b[38;5;124mHeight\u001b[39m\u001b[38;5;124m'\u001b[39m, \u001b[38;5;124m'\u001b[39m\u001b[38;5;124mBitches\u001b[39m\u001b[38;5;124m'\u001b[39m), (\u001b[38;5;124m'\u001b[39m\u001b[38;5;124mWeight\u001b[39m\u001b[38;5;124m'\u001b[39m, \u001b[38;5;124m'\u001b[39m\u001b[38;5;124mBitches\u001b[39m\u001b[38;5;124m'\u001b[39m)],\n\u001b[1;32m      2\u001b[0m         \u001b[38;5;124m'\u001b[39m\u001b[38;5;124mcolumns\u001b[39m\u001b[38;5;124m'\u001b[39m: [(\u001b[38;5;124m'\u001b[39m\u001b[38;5;124mx\u001b[39m\u001b[38;5;124m'\u001b[39m, \u001b[38;5;241m1\u001b[39m), (\u001b[38;5;124m'\u001b[39m\u001b[38;5;124my\u001b[39m\u001b[38;5;124m'\u001b[39m, \u001b[38;5;241m2\u001b[39m)],\n\u001b[1;32m      3\u001b[0m         \u001b[38;5;124m'\u001b[39m\u001b[38;5;124mdata\u001b[39m\u001b[38;5;124m'\u001b[39m: [[\u001b[38;5;241m1\u001b[39m, \u001b[38;5;241m3\u001b[39m], [\u001b[38;5;241m2\u001b[39m, \u001b[38;5;241m4\u001b[39m]],\n\u001b[1;32m      4\u001b[0m         \u001b[38;5;124m'\u001b[39m\u001b[38;5;124mindex_names\u001b[39m\u001b[38;5;124m'\u001b[39m: [\u001b[38;5;124m'\u001b[39m\u001b[38;5;124mn1\u001b[39m\u001b[38;5;124m'\u001b[39m, \u001b[38;5;124m'\u001b[39m\u001b[38;5;124mn2\u001b[39m\u001b[38;5;124m'\u001b[39m],\n\u001b[1;32m      5\u001b[0m         \u001b[38;5;124m'\u001b[39m\u001b[38;5;124mcolumn_names\u001b[39m\u001b[38;5;124m'\u001b[39m: [\u001b[38;5;124m'\u001b[39m\u001b[38;5;124mz1\u001b[39m\u001b[38;5;124m'\u001b[39m, \u001b[38;5;124m'\u001b[39m\u001b[38;5;124mz2\u001b[39m\u001b[38;5;124m'\u001b[39m]}\n\u001b[0;32m----> 7\u001b[0m \u001b[43mpd\u001b[49m\u001b[38;5;241m.\u001b[39mDataFrame\u001b[38;5;241m.\u001b[39mfrom_dict(dogs_2, orient\u001b[38;5;241m=\u001b[39m\u001b[38;5;124m'\u001b[39m\u001b[38;5;124mtight\u001b[39m\u001b[38;5;124m'\u001b[39m)\n",
      "\u001b[0;31mNameError\u001b[0m: name 'pd' is not defined"
     ]
    }
   ],
   "source": [
    "data_2 = {'index': [('a', 'b'), ('a', 'c')],\n",
    "        'columns': [('x', 1), ('y', 2)],\n",
    "        'data': [[1, 3], [2, 4]],\n",
    "        'index_names': ['n1', 'n2'],\n",
    "        'column_names': ['z1', 'z2']}\n",
    "\n",
    "pd.DataFrame.from_dict(data_2, orient='tight')"
   ]
  },
  {
   "cell_type": "code",
   "execution_count": 23,
   "metadata": {},
   "outputs": [
    {
     "name": "stdout",
     "output_type": "stream",
     "text": [
      "<class 'pandas.core.frame.DataFrame'>\n",
      "RangeIndex: 2 entries, 0 to 1\n",
      "Data columns (total 7 columns):\n",
      " #   Column   Non-Null Count  Dtype \n",
      "---  ------   --------------  ----- \n",
      " 0   Maria    2 non-null      object\n",
      " 1   Lorenzo  2 non-null      object\n",
      " 2   Oleg     2 non-null      object\n",
      " 3   Hans     2 non-null      object\n",
      " 4   Mark     2 non-null      object\n",
      " 5   Alex     2 non-null      object\n",
      " 6   Julia    2 non-null      object\n",
      "dtypes: object(7)\n",
      "memory usage: 240.0+ bytes\n",
      "None\n"
     ]
    }
   ],
   "source": [
    "postcards_2 = pd.DataFrame(data)\n",
    "print(postcards_2.info())"
   ]
  },
  {
   "cell_type": "markdown",
   "metadata": {
    "id": "fTRO_rdtELXN"
   },
   "source": [
    "### Второй способ"
   ]
  },
  {
   "cell_type": "code",
   "execution_count": 26,
   "metadata": {
    "id": "uvwnZBw2ELXO",
    "tags": []
   },
   "outputs": [],
   "source": [
    "# прочитаем .csv файл методом pd.read_csv()\n",
    "\n",
    "recipes = pd.read_csv(\"christmas_recipes.csv\", encoding=\"utf-8\", sep=',') # есть другие аргументы: sep, decimal и др."
   ]
  },
  {
   "cell_type": "markdown",
   "metadata": {
    "id": "7kh4dxn5ELXO"
   },
   "source": [
    "### Как посмотреть на часть датафрейма\n",
    "\n",
    "понадобятся методы ```.head()```, ```.tail()``` или индексация"
   ]
  },
  {
   "cell_type": "code",
   "execution_count": 27,
   "metadata": {
    "id": "4TSZ4B2XHahR"
   },
   "outputs": [
    {
     "name": "stdout",
     "output_type": "stream",
     "text": [
      "                         Title  Time       Servings  \\\n",
      "0         Perfect roast turkey   180  10 serving(s)   \n",
      "1  Stuffed roast turkey breast   180   8 serving(s)   \n",
      "\n",
      "                                         Ingredients  \\\n",
      "0  ['20ml/¾fl oz rapeseed oil', '1 x 5kg/11lb goo...   \n",
      "1  ['1 tbsp sunflower oil', '1 onion, finely chop...   \n",
      "\n",
      "                                        Instructions  \\\n",
      "0  Remove the turkey from the fridge and bring to...   \n",
      "1  To make the stuffing, heat the oil and gently ...   \n",
      "\n",
      "                                               Image  \n",
      "0  https://ichef.bbci.co.uk/food/ic/food_16x9_832...  \n",
      "1  https://ichef.bbci.co.uk/food/ic/food_16x9_832...  \n"
     ]
    }
   ],
   "source": [
    "print(recipes.head(2)) # по умолчанию показывает 5 строк"
   ]
  },
  {
   "cell_type": "code",
   "execution_count": 28,
   "metadata": {
    "id": "zKhsGhkEELXP",
    "tags": []
   },
   "outputs": [
    {
     "data": {
      "text/html": [
       "<div>\n",
       "<style scoped>\n",
       "    .dataframe tbody tr th:only-of-type {\n",
       "        vertical-align: middle;\n",
       "    }\n",
       "\n",
       "    .dataframe tbody tr th {\n",
       "        vertical-align: top;\n",
       "    }\n",
       "\n",
       "    .dataframe thead th {\n",
       "        text-align: right;\n",
       "    }\n",
       "</style>\n",
       "<table border=\"1\" class=\"dataframe\">\n",
       "  <thead>\n",
       "    <tr style=\"text-align: right;\">\n",
       "      <th></th>\n",
       "      <th>Title</th>\n",
       "      <th>Time</th>\n",
       "      <th>Servings</th>\n",
       "      <th>Ingredients</th>\n",
       "      <th>Instructions</th>\n",
       "      <th>Image</th>\n",
       "    </tr>\n",
       "  </thead>\n",
       "  <tbody>\n",
       "    <tr>\n",
       "      <th>0</th>\n",
       "      <td>Perfect roast turkey</td>\n",
       "      <td>180</td>\n",
       "      <td>10 serving(s)</td>\n",
       "      <td>['20ml/¾fl oz rapeseed oil', '1 x 5kg/11lb goo...</td>\n",
       "      <td>Remove the turkey from the fridge and bring to...</td>\n",
       "      <td>https://ichef.bbci.co.uk/food/ic/food_16x9_832...</td>\n",
       "    </tr>\n",
       "    <tr>\n",
       "      <th>1</th>\n",
       "      <td>Stuffed roast turkey breast</td>\n",
       "      <td>180</td>\n",
       "      <td>8 serving(s)</td>\n",
       "      <td>['1 tbsp sunflower oil', '1 onion, finely chop...</td>\n",
       "      <td>To make the stuffing, heat the oil and gently ...</td>\n",
       "      <td>https://ichef.bbci.co.uk/food/ic/food_16x9_832...</td>\n",
       "    </tr>\n",
       "  </tbody>\n",
       "</table>\n",
       "</div>"
      ],
      "text/plain": [
       "                         Title  Time       Servings  \\\n",
       "0         Perfect roast turkey   180  10 serving(s)   \n",
       "1  Stuffed roast turkey breast   180   8 serving(s)   \n",
       "\n",
       "                                         Ingredients  \\\n",
       "0  ['20ml/¾fl oz rapeseed oil', '1 x 5kg/11lb goo...   \n",
       "1  ['1 tbsp sunflower oil', '1 onion, finely chop...   \n",
       "\n",
       "                                        Instructions  \\\n",
       "0  Remove the turkey from the fridge and bring to...   \n",
       "1  To make the stuffing, heat the oil and gently ...   \n",
       "\n",
       "                                               Image  \n",
       "0  https://ichef.bbci.co.uk/food/ic/food_16x9_832...  \n",
       "1  https://ichef.bbci.co.uk/food/ic/food_16x9_832...  "
      ]
     },
     "execution_count": 28,
     "metadata": {},
     "output_type": "execute_result"
    }
   ],
   "source": [
    "# первые строки\n",
    "recipes.head(2)\n",
    "\n",
    "# для PyCharm\n",
    "# print(recipes.head(2))"
   ]
  },
  {
   "cell_type": "code",
   "execution_count": 11,
   "metadata": {
    "id": "zxFC4nNwELXP",
    "tags": []
   },
   "outputs": [
    {
     "data": {
      "text/html": [
       "<div>\n",
       "<style scoped>\n",
       "    .dataframe tbody tr th:only-of-type {\n",
       "        vertical-align: middle;\n",
       "    }\n",
       "\n",
       "    .dataframe tbody tr th {\n",
       "        vertical-align: top;\n",
       "    }\n",
       "\n",
       "    .dataframe thead th {\n",
       "        text-align: right;\n",
       "    }\n",
       "</style>\n",
       "<table border=\"1\" class=\"dataframe\">\n",
       "  <thead>\n",
       "    <tr style=\"text-align: right;\">\n",
       "      <th></th>\n",
       "      <th>Title</th>\n",
       "      <th>Time</th>\n",
       "      <th>Servings</th>\n",
       "      <th>Ingredients</th>\n",
       "      <th>Instructions</th>\n",
       "      <th>Image</th>\n",
       "    </tr>\n",
       "  </thead>\n",
       "  <tbody>\n",
       "    <tr>\n",
       "      <th>39</th>\n",
       "      <td>Sticky cranberry sausages</td>\n",
       "      <td>30</td>\n",
       "      <td>10 serving(s)</td>\n",
       "      <td>['2 red onions, sliced', '2 tbsp olive oil', '...</td>\n",
       "      <td>Fry the sliced red onions in a pan with the oi...</td>\n",
       "      <td>https://ichef.bbci.co.uk/food/ic/food_16x9_832...</td>\n",
       "    </tr>\n",
       "    <tr>\n",
       "      <th>40</th>\n",
       "      <td>Easy bread sauce</td>\n",
       "      <td>30</td>\n",
       "      <td>8 serving(s)</td>\n",
       "      <td>['1 large onion, peeled', '6 cloves', '1 bay l...</td>\n",
       "      <td>Press all the cloves into the whole peeled oni...</td>\n",
       "      <td>https://ichef.bbci.co.uk/food/ic/food_16x9_832...</td>\n",
       "    </tr>\n",
       "    <tr>\n",
       "      <th>41</th>\n",
       "      <td>Slow cooker honey roast ham</td>\n",
       "      <td>150</td>\n",
       "      <td>10 serving(s)</td>\n",
       "      <td>['1.6kg/3lb 8oz boneless, rolled smoked or uns...</td>\n",
       "      <td>Put the gammon, onion and 100ml/3½fl oz water ...</td>\n",
       "      <td>https://ichef.bbci.co.uk/food/ic/food_16x9_832...</td>\n",
       "    </tr>\n",
       "  </tbody>\n",
       "</table>\n",
       "</div>"
      ],
      "text/plain": [
       "                          Title  Time       Servings  \\\n",
       "39    Sticky cranberry sausages    30  10 serving(s)   \n",
       "40             Easy bread sauce    30   8 serving(s)   \n",
       "41  Slow cooker honey roast ham   150  10 serving(s)   \n",
       "\n",
       "                                          Ingredients  \\\n",
       "39  ['2 red onions, sliced', '2 tbsp olive oil', '...   \n",
       "40  ['1 large onion, peeled', '6 cloves', '1 bay l...   \n",
       "41  ['1.6kg/3lb 8oz boneless, rolled smoked or uns...   \n",
       "\n",
       "                                         Instructions  \\\n",
       "39  Fry the sliced red onions in a pan with the oi...   \n",
       "40  Press all the cloves into the whole peeled oni...   \n",
       "41  Put the gammon, onion and 100ml/3½fl oz water ...   \n",
       "\n",
       "                                                Image  \n",
       "39  https://ichef.bbci.co.uk/food/ic/food_16x9_832...  \n",
       "40  https://ichef.bbci.co.uk/food/ic/food_16x9_832...  \n",
       "41  https://ichef.bbci.co.uk/food/ic/food_16x9_832...  "
      ]
     },
     "execution_count": 11,
     "metadata": {},
     "output_type": "execute_result"
    }
   ],
   "source": [
    "# последние строки\n",
    "recipes.tail(3)\n",
    "\n",
    "# для PyCharm\n",
    "# print(recipes.tail(3))"
   ]
  },
  {
   "cell_type": "code",
   "execution_count": 12,
   "metadata": {
    "id": "zLqLEkEtELXQ",
    "tags": []
   },
   "outputs": [
    {
     "data": {
      "text/html": [
       "<div>\n",
       "<style scoped>\n",
       "    .dataframe tbody tr th:only-of-type {\n",
       "        vertical-align: middle;\n",
       "    }\n",
       "\n",
       "    .dataframe tbody tr th {\n",
       "        vertical-align: top;\n",
       "    }\n",
       "\n",
       "    .dataframe thead th {\n",
       "        text-align: right;\n",
       "    }\n",
       "</style>\n",
       "<table border=\"1\" class=\"dataframe\">\n",
       "  <thead>\n",
       "    <tr style=\"text-align: right;\">\n",
       "      <th></th>\n",
       "      <th>Title</th>\n",
       "      <th>Time</th>\n",
       "      <th>Servings</th>\n",
       "      <th>Ingredients</th>\n",
       "      <th>Instructions</th>\n",
       "      <th>Image</th>\n",
       "    </tr>\n",
       "  </thead>\n",
       "  <tbody>\n",
       "    <tr>\n",
       "      <th>15</th>\n",
       "      <td>Slow cooked gammon with mustard sauce</td>\n",
       "      <td>150</td>\n",
       "      <td>12 serving(s)</td>\n",
       "      <td>['3kg/6lb 8oz unsmoked gammon joint, off the b...</td>\n",
       "      <td>Preheat the oven to 160C/140C Fan/Gas 3.\\nTo m...</td>\n",
       "      <td>https://ichef.bbci.co.uk/food/ic/food_16x9_832...</td>\n",
       "    </tr>\n",
       "    <tr>\n",
       "      <th>16</th>\n",
       "      <td>Christmas roast duck</td>\n",
       "      <td>180</td>\n",
       "      <td>6 serving(s)</td>\n",
       "      <td>['1.5kg/3lb 5oz potatoes, peeled and thinly sl...</td>\n",
       "      <td>Arrange the shelves of your oven so that there...</td>\n",
       "      <td>https://ichef.bbci.co.uk/food/ic/food_16x9_832...</td>\n",
       "    </tr>\n",
       "    <tr>\n",
       "      <th>17</th>\n",
       "      <td>Roast goose</td>\n",
       "      <td>150</td>\n",
       "      <td>6 serving(s)</td>\n",
       "      <td>['1 x 5kg/11lb oven-ready goose', '1 onion, pe...</td>\n",
       "      <td>Preheat the oven to 200C/180C Fan/Gas 6.\\nPlac...</td>\n",
       "      <td>https://ichef.bbci.co.uk/food/ic/food_16x9_832...</td>\n",
       "    </tr>\n",
       "  </tbody>\n",
       "</table>\n",
       "</div>"
      ],
      "text/plain": [
       "                                    Title  Time       Servings  \\\n",
       "15  Slow cooked gammon with mustard sauce   150  12 serving(s)   \n",
       "16                   Christmas roast duck   180   6 serving(s)   \n",
       "17                            Roast goose   150   6 serving(s)   \n",
       "\n",
       "                                          Ingredients  \\\n",
       "15  ['3kg/6lb 8oz unsmoked gammon joint, off the b...   \n",
       "16  ['1.5kg/3lb 5oz potatoes, peeled and thinly sl...   \n",
       "17  ['1 x 5kg/11lb oven-ready goose', '1 onion, pe...   \n",
       "\n",
       "                                         Instructions  \\\n",
       "15  Preheat the oven to 160C/140C Fan/Gas 3.\\nTo m...   \n",
       "16  Arrange the shelves of your oven so that there...   \n",
       "17  Preheat the oven to 200C/180C Fan/Gas 6.\\nPlac...   \n",
       "\n",
       "                                                Image  \n",
       "15  https://ichef.bbci.co.uk/food/ic/food_16x9_832...  \n",
       "16  https://ichef.bbci.co.uk/food/ic/food_16x9_832...  \n",
       "17  https://ichef.bbci.co.uk/food/ic/food_16x9_832...  "
      ]
     },
     "execution_count": 12,
     "metadata": {},
     "output_type": "execute_result"
    }
   ],
   "source": [
    "# часть датафрейма по  индексам строчек\n",
    "recipes[15:18]\n",
    "\n",
    "# для PyCharm\n",
    "# print(rrecipes[15:18])"
   ]
  },
  {
   "cell_type": "markdown",
   "metadata": {
    "id": "TEXAEugSELXQ",
    "tags": []
   },
   "source": [
    "# Характеристики датафрейма"
   ]
  },
  {
   "cell_type": "code",
   "execution_count": 15,
   "metadata": {
    "colab": {
     "base_uri": "https://localhost:8080/"
    },
    "id": "JdqZWwligQB8",
    "outputId": "71401701-df71-4152-c731-d7e584147c7e"
   },
   "outputs": [
    {
     "name": "stdout",
     "output_type": "stream",
     "text": [
      "(7, 2)\n",
      "(42, 6)\n"
     ]
    }
   ],
   "source": [
    "#размеры датафрейма\n",
    "\n",
    "print(postcards.shape)\n",
    "print(recipes.shape)"
   ]
  },
  {
   "cell_type": "code",
   "execution_count": 16,
   "metadata": {
    "id": "4JCmo6dkELXR"
   },
   "outputs": [
    {
     "name": "stdout",
     "output_type": "stream",
     "text": [
      "<class 'pandas.core.frame.DataFrame'>\n",
      "Index: 7 entries, Maria to Julia\n",
      "Data columns (total 2 columns):\n",
      " #   Column  Non-Null Count  Dtype \n",
      "---  ------  --------------  ----- \n",
      " 0   city    7 non-null      object\n",
      " 1   age     7 non-null      object\n",
      "dtypes: object(2)\n",
      "memory usage: 168.0+ bytes\n",
      "None\n",
      "<class 'pandas.core.frame.DataFrame'>\n",
      "RangeIndex: 42 entries, 0 to 41\n",
      "Data columns (total 6 columns):\n",
      " #   Column        Non-Null Count  Dtype \n",
      "---  ------        --------------  ----- \n",
      " 0   Title         42 non-null     object\n",
      " 1   Time          42 non-null     int64 \n",
      " 2   Servings      42 non-null     object\n",
      " 3   Ingredients   42 non-null     object\n",
      " 4   Instructions  42 non-null     object\n",
      " 5   Image         42 non-null     object\n",
      "dtypes: int64(1), object(5)\n",
      "memory usage: 2.1+ KB\n",
      "None\n"
     ]
    }
   ],
   "source": [
    "# описание датафрейма\n",
    "\n",
    "print(postcards.info())\n",
    "print(recipes.info())"
   ]
  },
  {
   "cell_type": "code",
   "execution_count": 17,
   "metadata": {
    "id": "HowifKqZELXR"
   },
   "outputs": [
    {
     "name": "stdout",
     "output_type": "stream",
     "text": [
      "<class 'pandas.core.frame.DataFrame'>\n",
      "Index: 7 entries, Maria to Julia\n",
      "Data columns (total 2 columns):\n",
      " #   Column  Non-Null Count  Dtype \n",
      "---  ------  --------------  ----- \n",
      " 0   city    7 non-null      object\n",
      " 1   age     7 non-null      int64 \n",
      "dtypes: int64(1), object(1)\n",
      "memory usage: 168.0+ bytes\n",
      "None\n"
     ]
    }
   ],
   "source": [
    "# изменим тип колонки age на числовой методом .astype()\n",
    "\n",
    "postcards[\"age\"] = postcards[\"age\"].astype(\"int64\")\n",
    "print(postcards.info())"
   ]
  },
  {
   "cell_type": "markdown",
   "metadata": {
    "id": "e0hLMEflELXS"
   },
   "source": [
    "### Как посмотреть, где живет конкретный человек?\n",
    "\n",
    "Чтобы найти нужную строку, нам нужны индексы. \n",
    "Посмотрим на примере датасета с людьми и городами. У нашего датафрейма есть две оси: по строкам(нулевая, она же  index) и столбцам(первая, она же columns)\n"
   ]
  },
  {
   "cell_type": "code",
   "execution_count": 24,
   "metadata": {
    "colab": {
     "base_uri": "https://localhost:8080/"
    },
    "id": "8phBy7ExELXS",
    "outputId": "32b3b94c-e04e-4352-a6b3-24c6cb32ea64",
    "tags": []
   },
   "outputs": [
    {
     "name": "stdout",
     "output_type": "stream",
     "text": [
      "Index(['Maria', 'Lorenzo', 'Oleg', 'Hans', 'Mark', 'Alex', 'Julia'], dtype='object')\n"
     ]
    }
   ],
   "source": [
    "print(postcards.index)"
   ]
  },
  {
   "cell_type": "code",
   "execution_count": 19,
   "metadata": {
    "id": "brXnQmZ9q4Bo"
   },
   "outputs": [
    {
     "name": "stdout",
     "output_type": "stream",
     "text": [
      "Index(['city', 'age'], dtype='object')\n"
     ]
    }
   ],
   "source": [
    "print(postcards.columns)"
   ]
  },
  {
   "cell_type": "code",
   "execution_count": 25,
   "metadata": {},
   "outputs": [
    {
     "ename": "NameError",
     "evalue": "name 'recipes' is not defined",
     "output_type": "error",
     "traceback": [
      "\u001b[0;31m---------------------------------------------------------------------------\u001b[0m",
      "\u001b[0;31mNameError\u001b[0m                                 Traceback (most recent call last)",
      "Input \u001b[0;32mIn [25]\u001b[0m, in \u001b[0;36m<cell line: 1>\u001b[0;34m()\u001b[0m\n\u001b[0;32m----> 1\u001b[0m \u001b[38;5;28mprint\u001b[39m(\u001b[43mrecipes\u001b[49m\u001b[38;5;241m.\u001b[39mindex)\n",
      "\u001b[0;31mNameError\u001b[0m: name 'recipes' is not defined"
     ]
    }
   ],
   "source": [
    "print(recipes.index)"
   ]
  },
  {
   "cell_type": "code",
   "execution_count": 22,
   "metadata": {
    "id": "eIGCunCwro1O"
   },
   "outputs": [
    {
     "data": {
      "text/plain": [
       "'London'"
      ]
     },
     "execution_count": 22,
     "metadata": {},
     "output_type": "execute_result"
    }
   ],
   "source": [
    "# пересечение индексов выдаст конкретную ячейку: ищем где живет Мария\n",
    "\n",
    "postcards.loc['Maria'][\"city\"]"
   ]
  },
  {
   "cell_type": "markdown",
   "metadata": {
    "id": "ccIqghWAELXU"
   },
   "source": [
    "**Получить строку по индексу** можно двумя способами:\n",
    "\n",
    "- именной индекс, по \"названию\" строки в колонке \"Index\", (первая колонка датафрейма, у нас это имена людей)\n",
    "- порядковый индекс, по номеру строки в датафрейме (нумерация с 0)\n",
    "\n",
    "Для именного поиска понадобится метод ```.loc[]```, для порядкового -- ```.iloc[]```"
   ]
  },
  {
   "cell_type": "code",
   "execution_count": 23,
   "metadata": {
    "id": "EOs3jobBELXU"
   },
   "outputs": [
    {
     "name": "stdout",
     "output_type": "stream",
     "text": [
      "city    Calgary\n",
      "age          80\n",
      "Name: Hans, dtype: object \n",
      "\n",
      "city    Calgary\n",
      "age          80\n",
      "Name: Hans, dtype: object\n"
     ]
    }
   ],
   "source": [
    "print(postcards.iloc[3], \"\\n\")\n",
    "\n",
    "print(postcards.loc[\"Hans\"])"
   ]
  },
  {
   "cell_type": "markdown",
   "metadata": {
    "id": "QbKG3Ka5ELXV"
   },
   "source": [
    "**Указав название колонки**,  можно аналогично посмотреть все значения в ней"
   ]
  },
  {
   "cell_type": "code",
   "execution_count": 24,
   "metadata": {
    "id": "r8uPANSTELXV"
   },
   "outputs": [
    {
     "name": "stdout",
     "output_type": "stream",
     "text": [
      "Maria      37\n",
      "Lorenzo    28\n",
      "Oleg       31\n",
      "Hans       80\n",
      "Mark       55\n",
      "Alex       35\n",
      "Julia      43\n",
      "Name: age, dtype: int64\n"
     ]
    }
   ],
   "source": [
    "print(postcards[\"age\"])"
   ]
  },
  {
   "cell_type": "code",
   "execution_count": 25,
   "metadata": {
    "id": "rhXfxoOSJDDK"
   },
   "outputs": [
    {
     "name": "stdout",
     "output_type": "stream",
     "text": [
      "Maria        London\n",
      "Lorenzo       Milan\n",
      "Oleg       Canberra\n",
      "Hans        Calgary\n",
      "Mark          Milan\n",
      "Alex         Krakow\n",
      "Julia      Murmansk\n",
      "Name: city, dtype: object\n"
     ]
    }
   ],
   "source": [
    "# напечатайте города\n",
    "print(postcards[\"city\"])"
   ]
  },
  {
   "cell_type": "markdown",
   "metadata": {
    "id": "y-gg8AMjELXV",
    "tags": []
   },
   "source": [
    "# Операции с датафреймами"
   ]
  },
  {
   "cell_type": "markdown",
   "metadata": {
    "id": "QpdAt5-hELXV",
    "tags": []
   },
   "source": [
    "### Добавление колонок и строк в датафрейм"
   ]
  },
  {
   "cell_type": "markdown",
   "metadata": {
    "id": "6xG3z4Vov0Lq"
   },
   "source": [
    "В датафрейм можно добавить новые колонки: понадобится метод ```.assign()```"
   ]
  },
  {
   "cell_type": "code",
   "execution_count": 28,
   "metadata": {
    "id": "q68INlyOv3wA"
   },
   "outputs": [
    {
     "data": {
      "text/html": [
       "<div>\n",
       "<style scoped>\n",
       "    .dataframe tbody tr th:only-of-type {\n",
       "        vertical-align: middle;\n",
       "    }\n",
       "\n",
       "    .dataframe tbody tr th {\n",
       "        vertical-align: top;\n",
       "    }\n",
       "\n",
       "    .dataframe thead th {\n",
       "        text-align: right;\n",
       "    }\n",
       "</style>\n",
       "<table border=\"1\" class=\"dataframe\">\n",
       "  <thead>\n",
       "    <tr style=\"text-align: right;\">\n",
       "      <th></th>\n",
       "      <th>city</th>\n",
       "      <th>age</th>\n",
       "      <th>job</th>\n",
       "    </tr>\n",
       "  </thead>\n",
       "  <tbody>\n",
       "    <tr>\n",
       "      <th>Maria</th>\n",
       "      <td>London</td>\n",
       "      <td>37</td>\n",
       "      <td>Artist</td>\n",
       "    </tr>\n",
       "    <tr>\n",
       "      <th>Lorenzo</th>\n",
       "      <td>Milan</td>\n",
       "      <td>28</td>\n",
       "      <td>Teacher</td>\n",
       "    </tr>\n",
       "    <tr>\n",
       "      <th>Oleg</th>\n",
       "      <td>Canberra</td>\n",
       "      <td>31</td>\n",
       "      <td>Chef</td>\n",
       "    </tr>\n",
       "    <tr>\n",
       "      <th>Hans</th>\n",
       "      <td>Calgary</td>\n",
       "      <td>80</td>\n",
       "      <td>Artist</td>\n",
       "    </tr>\n",
       "    <tr>\n",
       "      <th>Mark</th>\n",
       "      <td>Milan</td>\n",
       "      <td>55</td>\n",
       "      <td>Manager</td>\n",
       "    </tr>\n",
       "    <tr>\n",
       "      <th>Alex</th>\n",
       "      <td>Krakow</td>\n",
       "      <td>35</td>\n",
       "      <td>Chef</td>\n",
       "    </tr>\n",
       "    <tr>\n",
       "      <th>Julia</th>\n",
       "      <td>Murmansk</td>\n",
       "      <td>43</td>\n",
       "      <td>Engineer</td>\n",
       "    </tr>\n",
       "  </tbody>\n",
       "</table>\n",
       "</div>"
      ],
      "text/plain": [
       "             city  age       job\n",
       "Maria      London   37    Artist\n",
       "Lorenzo     Milan   28   Teacher\n",
       "Oleg     Canberra   31      Chef\n",
       "Hans      Calgary   80    Artist\n",
       "Mark        Milan   55   Manager\n",
       "Alex       Krakow   35      Chef\n",
       "Julia    Murmansk   43  Engineer"
      ]
     },
     "metadata": {},
     "output_type": "display_data"
    },
    {
     "name": "stdout",
     "output_type": "stream",
     "text": [
      "             city  age       job\n",
      "Maria      London   37    Artist\n",
      "Lorenzo     Milan   28   Teacher\n",
      "Oleg     Canberra   31      Chef\n",
      "Hans      Calgary   80    Artist\n",
      "Mark        Milan   55   Manager\n",
      "Alex       Krakow   35      Chef\n",
      "Julia    Murmansk   43  Engineer\n"
     ]
    }
   ],
   "source": [
    "postcards = postcards.assign(job=['Artist',\"Teacher\",\"Chef\",\"Artist\",\"Manager\",\"Chef\",\"Engineer\"])\n",
    "\n",
    "display(postcards)\n",
    "print(postcards)"
   ]
  },
  {
   "cell_type": "code",
   "execution_count": 29,
   "metadata": {
    "id": "cWSJ-WVnJNtj"
   },
   "outputs": [
    {
     "data": {
      "text/html": [
       "<div>\n",
       "<style scoped>\n",
       "    .dataframe tbody tr th:only-of-type {\n",
       "        vertical-align: middle;\n",
       "    }\n",
       "\n",
       "    .dataframe tbody tr th {\n",
       "        vertical-align: top;\n",
       "    }\n",
       "\n",
       "    .dataframe thead th {\n",
       "        text-align: right;\n",
       "    }\n",
       "</style>\n",
       "<table border=\"1\" class=\"dataframe\">\n",
       "  <thead>\n",
       "    <tr style=\"text-align: right;\">\n",
       "      <th></th>\n",
       "      <th>city</th>\n",
       "      <th>age</th>\n",
       "      <th>job</th>\n",
       "      <th>degree</th>\n",
       "    </tr>\n",
       "  </thead>\n",
       "  <tbody>\n",
       "    <tr>\n",
       "      <th>Maria</th>\n",
       "      <td>London</td>\n",
       "      <td>37</td>\n",
       "      <td>Artist</td>\n",
       "      <td>BA</td>\n",
       "    </tr>\n",
       "    <tr>\n",
       "      <th>Lorenzo</th>\n",
       "      <td>Milan</td>\n",
       "      <td>28</td>\n",
       "      <td>Teacher</td>\n",
       "      <td>MA</td>\n",
       "    </tr>\n",
       "    <tr>\n",
       "      <th>Oleg</th>\n",
       "      <td>Canberra</td>\n",
       "      <td>31</td>\n",
       "      <td>Chef</td>\n",
       "      <td>MA</td>\n",
       "    </tr>\n",
       "    <tr>\n",
       "      <th>Hans</th>\n",
       "      <td>Calgary</td>\n",
       "      <td>80</td>\n",
       "      <td>Artist</td>\n",
       "      <td>PhD</td>\n",
       "    </tr>\n",
       "    <tr>\n",
       "      <th>Mark</th>\n",
       "      <td>Milan</td>\n",
       "      <td>55</td>\n",
       "      <td>Manager</td>\n",
       "      <td>Postdoc</td>\n",
       "    </tr>\n",
       "    <tr>\n",
       "      <th>Alex</th>\n",
       "      <td>Krakow</td>\n",
       "      <td>35</td>\n",
       "      <td>Chef</td>\n",
       "      <td>BA</td>\n",
       "    </tr>\n",
       "    <tr>\n",
       "      <th>Julia</th>\n",
       "      <td>Murmansk</td>\n",
       "      <td>43</td>\n",
       "      <td>Engineer</td>\n",
       "      <td>PhD</td>\n",
       "    </tr>\n",
       "  </tbody>\n",
       "</table>\n",
       "</div>"
      ],
      "text/plain": [
       "             city  age       job   degree\n",
       "Maria      London   37    Artist       BA\n",
       "Lorenzo     Milan   28   Teacher       MA\n",
       "Oleg     Canberra   31      Chef       MA\n",
       "Hans      Calgary   80    Artist      PhD\n",
       "Mark        Milan   55   Manager  Postdoc\n",
       "Alex       Krakow   35      Chef       BA\n",
       "Julia    Murmansk   43  Engineer      PhD"
      ]
     },
     "metadata": {},
     "output_type": "display_data"
    }
   ],
   "source": [
    "# 2 способ - похож на добавление ключей в словарь\n",
    "degrees = ['BA', 'MA', 'MA', 'PhD', 'Postdoc', 'BA', 'PhD']\n",
    "postcards[\"degree\"] = degrees\n",
    "\n",
    "display(postcards)\n",
    "# print(postcards)"
   ]
  },
  {
   "cell_type": "markdown",
   "metadata": {
    "id": "8wI7nnyOx8kt"
   },
   "source": [
    "Добавить строки тоже можно: методом ```.append()```"
   ]
  },
  {
   "cell_type": "code",
   "execution_count": 30,
   "metadata": {
    "id": "nWBEDV_X0rVB"
   },
   "outputs": [
    {
     "data": {
      "text/html": [
       "<div>\n",
       "<style scoped>\n",
       "    .dataframe tbody tr th:only-of-type {\n",
       "        vertical-align: middle;\n",
       "    }\n",
       "\n",
       "    .dataframe tbody tr th {\n",
       "        vertical-align: top;\n",
       "    }\n",
       "\n",
       "    .dataframe thead th {\n",
       "        text-align: right;\n",
       "    }\n",
       "</style>\n",
       "<table border=\"1\" class=\"dataframe\">\n",
       "  <thead>\n",
       "    <tr style=\"text-align: right;\">\n",
       "      <th></th>\n",
       "      <th>city</th>\n",
       "      <th>age</th>\n",
       "      <th>job</th>\n",
       "      <th>degree</th>\n",
       "    </tr>\n",
       "  </thead>\n",
       "  <tbody>\n",
       "    <tr>\n",
       "      <th>Alice</th>\n",
       "      <td>NY</td>\n",
       "      <td>36</td>\n",
       "      <td>Engineer</td>\n",
       "      <td>MA</td>\n",
       "    </tr>\n",
       "  </tbody>\n",
       "</table>\n",
       "</div>"
      ],
      "text/plain": [
       "      city  age       job degree\n",
       "Alice   NY   36  Engineer     MA"
      ]
     },
     "metadata": {},
     "output_type": "display_data"
    }
   ],
   "source": [
    "df = pd.DataFrame.from_dict({\"Alice\":[\"NY\", 36, \"Engineer\", \"MA\"]},\n",
    "                           orient=\"index\",\n",
    "                           columns=postcards.columns)\n",
    "\n",
    "display(df)\n",
    "# print(df)"
   ]
  },
  {
   "cell_type": "code",
   "execution_count": 31,
   "metadata": {
    "id": "QecwxyvRELXX",
    "tags": []
   },
   "outputs": [
    {
     "name": "stderr",
     "output_type": "stream",
     "text": [
      "/var/folders/d7/jq813dd12cj9x6l0hm7w0r3w0000gn/T/ipykernel_65001/1991956261.py:2: FutureWarning: The frame.append method is deprecated and will be removed from pandas in a future version. Use pandas.concat instead.\n",
      "  postcards = postcards.append(df)\n"
     ]
    },
    {
     "data": {
      "text/html": [
       "<div>\n",
       "<style scoped>\n",
       "    .dataframe tbody tr th:only-of-type {\n",
       "        vertical-align: middle;\n",
       "    }\n",
       "\n",
       "    .dataframe tbody tr th {\n",
       "        vertical-align: top;\n",
       "    }\n",
       "\n",
       "    .dataframe thead th {\n",
       "        text-align: right;\n",
       "    }\n",
       "</style>\n",
       "<table border=\"1\" class=\"dataframe\">\n",
       "  <thead>\n",
       "    <tr style=\"text-align: right;\">\n",
       "      <th></th>\n",
       "      <th>city</th>\n",
       "      <th>age</th>\n",
       "      <th>job</th>\n",
       "      <th>degree</th>\n",
       "    </tr>\n",
       "  </thead>\n",
       "  <tbody>\n",
       "    <tr>\n",
       "      <th>Maria</th>\n",
       "      <td>London</td>\n",
       "      <td>37</td>\n",
       "      <td>Artist</td>\n",
       "      <td>BA</td>\n",
       "    </tr>\n",
       "    <tr>\n",
       "      <th>Lorenzo</th>\n",
       "      <td>Milan</td>\n",
       "      <td>28</td>\n",
       "      <td>Teacher</td>\n",
       "      <td>MA</td>\n",
       "    </tr>\n",
       "    <tr>\n",
       "      <th>Oleg</th>\n",
       "      <td>Canberra</td>\n",
       "      <td>31</td>\n",
       "      <td>Chef</td>\n",
       "      <td>MA</td>\n",
       "    </tr>\n",
       "    <tr>\n",
       "      <th>Hans</th>\n",
       "      <td>Calgary</td>\n",
       "      <td>80</td>\n",
       "      <td>Artist</td>\n",
       "      <td>PhD</td>\n",
       "    </tr>\n",
       "    <tr>\n",
       "      <th>Mark</th>\n",
       "      <td>Milan</td>\n",
       "      <td>55</td>\n",
       "      <td>Manager</td>\n",
       "      <td>Postdoc</td>\n",
       "    </tr>\n",
       "    <tr>\n",
       "      <th>Alex</th>\n",
       "      <td>Krakow</td>\n",
       "      <td>35</td>\n",
       "      <td>Chef</td>\n",
       "      <td>BA</td>\n",
       "    </tr>\n",
       "    <tr>\n",
       "      <th>Julia</th>\n",
       "      <td>Murmansk</td>\n",
       "      <td>43</td>\n",
       "      <td>Engineer</td>\n",
       "      <td>PhD</td>\n",
       "    </tr>\n",
       "    <tr>\n",
       "      <th>Alice</th>\n",
       "      <td>NY</td>\n",
       "      <td>36</td>\n",
       "      <td>Engineer</td>\n",
       "      <td>MA</td>\n",
       "    </tr>\n",
       "  </tbody>\n",
       "</table>\n",
       "</div>"
      ],
      "text/plain": [
       "             city  age       job   degree\n",
       "Maria      London   37    Artist       BA\n",
       "Lorenzo     Milan   28   Teacher       MA\n",
       "Oleg     Canberra   31      Chef       MA\n",
       "Hans      Calgary   80    Artist      PhD\n",
       "Mark        Milan   55   Manager  Postdoc\n",
       "Alex       Krakow   35      Chef       BA\n",
       "Julia    Murmansk   43  Engineer      PhD\n",
       "Alice          NY   36  Engineer       MA"
      ]
     },
     "execution_count": 31,
     "metadata": {},
     "output_type": "execute_result"
    }
   ],
   "source": [
    "# шаг2 добавим новый df к старому\n",
    "postcards = postcards.append(df)\n",
    "postcards\n",
    "\n",
    "# что будет, если запустить .append() несколько раз?"
   ]
  },
  {
   "cell_type": "markdown",
   "metadata": {
    "id": "ZESKs95y71Wy"
   },
   "source": [
    "### что делать, если добавились ненужные строки? "
   ]
  },
  {
   "cell_type": "markdown",
   "metadata": {
    "id": "EAH5dF12ELXX"
   },
   "source": [
    "Если есть дубликаты уже существующих строк, понадобится метод ```.drop_duplicates()```"
   ]
  },
  {
   "cell_type": "code",
   "execution_count": 32,
   "metadata": {
    "id": "WB8VMk5P6Kmy",
    "tags": []
   },
   "outputs": [
    {
     "data": {
      "text/html": [
       "<div>\n",
       "<style scoped>\n",
       "    .dataframe tbody tr th:only-of-type {\n",
       "        vertical-align: middle;\n",
       "    }\n",
       "\n",
       "    .dataframe tbody tr th {\n",
       "        vertical-align: top;\n",
       "    }\n",
       "\n",
       "    .dataframe thead th {\n",
       "        text-align: right;\n",
       "    }\n",
       "</style>\n",
       "<table border=\"1\" class=\"dataframe\">\n",
       "  <thead>\n",
       "    <tr style=\"text-align: right;\">\n",
       "      <th></th>\n",
       "      <th>city</th>\n",
       "      <th>age</th>\n",
       "      <th>job</th>\n",
       "      <th>degree</th>\n",
       "    </tr>\n",
       "  </thead>\n",
       "  <tbody>\n",
       "    <tr>\n",
       "      <th>Maria</th>\n",
       "      <td>London</td>\n",
       "      <td>37</td>\n",
       "      <td>Artist</td>\n",
       "      <td>BA</td>\n",
       "    </tr>\n",
       "    <tr>\n",
       "      <th>Lorenzo</th>\n",
       "      <td>Milan</td>\n",
       "      <td>28</td>\n",
       "      <td>Teacher</td>\n",
       "      <td>MA</td>\n",
       "    </tr>\n",
       "    <tr>\n",
       "      <th>Oleg</th>\n",
       "      <td>Canberra</td>\n",
       "      <td>31</td>\n",
       "      <td>Chef</td>\n",
       "      <td>MA</td>\n",
       "    </tr>\n",
       "    <tr>\n",
       "      <th>Hans</th>\n",
       "      <td>Calgary</td>\n",
       "      <td>80</td>\n",
       "      <td>Artist</td>\n",
       "      <td>PhD</td>\n",
       "    </tr>\n",
       "    <tr>\n",
       "      <th>Mark</th>\n",
       "      <td>Milan</td>\n",
       "      <td>55</td>\n",
       "      <td>Manager</td>\n",
       "      <td>Postdoc</td>\n",
       "    </tr>\n",
       "    <tr>\n",
       "      <th>Alex</th>\n",
       "      <td>Krakow</td>\n",
       "      <td>35</td>\n",
       "      <td>Chef</td>\n",
       "      <td>BA</td>\n",
       "    </tr>\n",
       "    <tr>\n",
       "      <th>Julia</th>\n",
       "      <td>Murmansk</td>\n",
       "      <td>43</td>\n",
       "      <td>Engineer</td>\n",
       "      <td>PhD</td>\n",
       "    </tr>\n",
       "    <tr>\n",
       "      <th>Alice</th>\n",
       "      <td>NY</td>\n",
       "      <td>36</td>\n",
       "      <td>Engineer</td>\n",
       "      <td>MA</td>\n",
       "    </tr>\n",
       "  </tbody>\n",
       "</table>\n",
       "</div>"
      ],
      "text/plain": [
       "             city  age       job   degree\n",
       "Maria      London   37    Artist       BA\n",
       "Lorenzo     Milan   28   Teacher       MA\n",
       "Oleg     Canberra   31      Chef       MA\n",
       "Hans      Calgary   80    Artist      PhD\n",
       "Mark        Milan   55   Manager  Postdoc\n",
       "Alex       Krakow   35      Chef       BA\n",
       "Julia    Murmansk   43  Engineer      PhD\n",
       "Alice          NY   36  Engineer       MA"
      ]
     },
     "metadata": {},
     "output_type": "display_data"
    }
   ],
   "source": [
    "postcards.drop_duplicates(inplace=True)\n",
    "display(postcards)\n",
    "# print(postcards)"
   ]
  },
  {
   "cell_type": "markdown",
   "metadata": {
    "id": "HINGxpZCELXY"
   },
   "source": [
    "Если удалить нужно любую строку или столбец, понадобится метод ```.drop()``` \n",
    "- axis=0 если нужно удалить строку\n",
    "- axis=1 если нужно удалить колонку"
   ]
  },
  {
   "cell_type": "code",
   "execution_count": 35,
   "metadata": {
    "id": "w7hXOdTIELXY",
    "tags": []
   },
   "outputs": [],
   "source": [
    "postcards.drop(\"Mark\",axis=0, inplace=True)"
   ]
  },
  {
   "cell_type": "code",
   "execution_count": 36,
   "metadata": {
    "id": "KCEHqP3SELXY"
   },
   "outputs": [
    {
     "data": {
      "text/html": [
       "<div>\n",
       "<style scoped>\n",
       "    .dataframe tbody tr th:only-of-type {\n",
       "        vertical-align: middle;\n",
       "    }\n",
       "\n",
       "    .dataframe tbody tr th {\n",
       "        vertical-align: top;\n",
       "    }\n",
       "\n",
       "    .dataframe thead th {\n",
       "        text-align: right;\n",
       "    }\n",
       "</style>\n",
       "<table border=\"1\" class=\"dataframe\">\n",
       "  <thead>\n",
       "    <tr style=\"text-align: right;\">\n",
       "      <th></th>\n",
       "      <th>age</th>\n",
       "      <th>job</th>\n",
       "      <th>degree</th>\n",
       "    </tr>\n",
       "  </thead>\n",
       "  <tbody>\n",
       "    <tr>\n",
       "      <th>Maria</th>\n",
       "      <td>37</td>\n",
       "      <td>Artist</td>\n",
       "      <td>BA</td>\n",
       "    </tr>\n",
       "    <tr>\n",
       "      <th>Lorenzo</th>\n",
       "      <td>28</td>\n",
       "      <td>Teacher</td>\n",
       "      <td>MA</td>\n",
       "    </tr>\n",
       "    <tr>\n",
       "      <th>Oleg</th>\n",
       "      <td>31</td>\n",
       "      <td>Chef</td>\n",
       "      <td>MA</td>\n",
       "    </tr>\n",
       "    <tr>\n",
       "      <th>Hans</th>\n",
       "      <td>80</td>\n",
       "      <td>Artist</td>\n",
       "      <td>PhD</td>\n",
       "    </tr>\n",
       "    <tr>\n",
       "      <th>Alex</th>\n",
       "      <td>35</td>\n",
       "      <td>Chef</td>\n",
       "      <td>BA</td>\n",
       "    </tr>\n",
       "    <tr>\n",
       "      <th>Julia</th>\n",
       "      <td>43</td>\n",
       "      <td>Engineer</td>\n",
       "      <td>PhD</td>\n",
       "    </tr>\n",
       "    <tr>\n",
       "      <th>Alice</th>\n",
       "      <td>36</td>\n",
       "      <td>Engineer</td>\n",
       "      <td>MA</td>\n",
       "    </tr>\n",
       "  </tbody>\n",
       "</table>\n",
       "</div>"
      ],
      "text/plain": [
       "         age       job degree\n",
       "Maria     37    Artist     BA\n",
       "Lorenzo   28   Teacher     MA\n",
       "Oleg      31      Chef     MA\n",
       "Hans      80    Artist    PhD\n",
       "Alex      35      Chef     BA\n",
       "Julia     43  Engineer    PhD\n",
       "Alice     36  Engineer     MA"
      ]
     },
     "execution_count": 36,
     "metadata": {},
     "output_type": "execute_result"
    }
   ],
   "source": [
    "postcards.drop(\"city\", axis=1)"
   ]
  },
  {
   "cell_type": "code",
   "execution_count": 37,
   "metadata": {
    "id": "1WcNi-T5LDFv"
   },
   "outputs": [
    {
     "data": {
      "text/html": [
       "<div>\n",
       "<style scoped>\n",
       "    .dataframe tbody tr th:only-of-type {\n",
       "        vertical-align: middle;\n",
       "    }\n",
       "\n",
       "    .dataframe tbody tr th {\n",
       "        vertical-align: top;\n",
       "    }\n",
       "\n",
       "    .dataframe thead th {\n",
       "        text-align: right;\n",
       "    }\n",
       "</style>\n",
       "<table border=\"1\" class=\"dataframe\">\n",
       "  <thead>\n",
       "    <tr style=\"text-align: right;\">\n",
       "      <th></th>\n",
       "      <th>city</th>\n",
       "      <th>age</th>\n",
       "      <th>job</th>\n",
       "      <th>degree</th>\n",
       "    </tr>\n",
       "  </thead>\n",
       "  <tbody>\n",
       "    <tr>\n",
       "      <th>Maria</th>\n",
       "      <td>London</td>\n",
       "      <td>37</td>\n",
       "      <td>Artist</td>\n",
       "      <td>BA</td>\n",
       "    </tr>\n",
       "    <tr>\n",
       "      <th>Lorenzo</th>\n",
       "      <td>Milan</td>\n",
       "      <td>28</td>\n",
       "      <td>Teacher</td>\n",
       "      <td>MA</td>\n",
       "    </tr>\n",
       "    <tr>\n",
       "      <th>Oleg</th>\n",
       "      <td>Canberra</td>\n",
       "      <td>31</td>\n",
       "      <td>Chef</td>\n",
       "      <td>MA</td>\n",
       "    </tr>\n",
       "    <tr>\n",
       "      <th>Hans</th>\n",
       "      <td>Calgary</td>\n",
       "      <td>80</td>\n",
       "      <td>Artist</td>\n",
       "      <td>PhD</td>\n",
       "    </tr>\n",
       "    <tr>\n",
       "      <th>Alex</th>\n",
       "      <td>Krakow</td>\n",
       "      <td>35</td>\n",
       "      <td>Chef</td>\n",
       "      <td>BA</td>\n",
       "    </tr>\n",
       "    <tr>\n",
       "      <th>Julia</th>\n",
       "      <td>Murmansk</td>\n",
       "      <td>43</td>\n",
       "      <td>Engineer</td>\n",
       "      <td>PhD</td>\n",
       "    </tr>\n",
       "    <tr>\n",
       "      <th>Alice</th>\n",
       "      <td>NY</td>\n",
       "      <td>36</td>\n",
       "      <td>Engineer</td>\n",
       "      <td>MA</td>\n",
       "    </tr>\n",
       "  </tbody>\n",
       "</table>\n",
       "</div>"
      ],
      "text/plain": [
       "             city  age       job degree\n",
       "Maria      London   37    Artist     BA\n",
       "Lorenzo     Milan   28   Teacher     MA\n",
       "Oleg     Canberra   31      Chef     MA\n",
       "Hans      Calgary   80    Artist    PhD\n",
       "Alex       Krakow   35      Chef     BA\n",
       "Julia    Murmansk   43  Engineer    PhD\n",
       "Alice          NY   36  Engineer     MA"
      ]
     },
     "metadata": {},
     "output_type": "display_data"
    }
   ],
   "source": [
    "display(postcards)\n",
    "# print(postcards)"
   ]
  },
  {
   "cell_type": "markdown",
   "metadata": {
    "id": "d_6VoflXELXZ"
   },
   "source": [
    "Чтобы изменения вошли в силу, реультат выражения нужно сохранить в переменную, либо добавить аргумент inplace=True "
   ]
  },
  {
   "cell_type": "code",
   "execution_count": 40,
   "metadata": {
    "id": "zXrYYFBwELXZ"
   },
   "outputs": [
    {
     "ename": "KeyError",
     "evalue": "\"['city'] not found in axis\"",
     "output_type": "error",
     "traceback": [
      "\u001b[0;31m---------------------------------------------------------------------------\u001b[0m",
      "\u001b[0;31mKeyError\u001b[0m                                  Traceback (most recent call last)",
      "Input \u001b[0;32mIn [40]\u001b[0m, in \u001b[0;36m<cell line: 1>\u001b[0;34m()\u001b[0m\n\u001b[0;32m----> 1\u001b[0m postcards \u001b[38;5;241m=\u001b[39m \u001b[43mpostcards\u001b[49m\u001b[38;5;241;43m.\u001b[39;49m\u001b[43mdrop\u001b[49m\u001b[43m(\u001b[49m\u001b[38;5;124;43m\"\u001b[39;49m\u001b[38;5;124;43mcity\u001b[39;49m\u001b[38;5;124;43m\"\u001b[39;49m\u001b[43m,\u001b[49m\u001b[43m \u001b[49m\u001b[43maxis\u001b[49m\u001b[38;5;241;43m=\u001b[39;49m\u001b[38;5;241;43m1\u001b[39;49m\u001b[43m)\u001b[49m\n",
      "File \u001b[0;32m/Library/Frameworks/Python.framework/Versions/3.10/lib/python3.10/site-packages/pandas/util/_decorators.py:331\u001b[0m, in \u001b[0;36mdeprecate_nonkeyword_arguments.<locals>.decorate.<locals>.wrapper\u001b[0;34m(*args, **kwargs)\u001b[0m\n\u001b[1;32m    325\u001b[0m \u001b[38;5;28;01mif\u001b[39;00m \u001b[38;5;28mlen\u001b[39m(args) \u001b[38;5;241m>\u001b[39m num_allow_args:\n\u001b[1;32m    326\u001b[0m     warnings\u001b[38;5;241m.\u001b[39mwarn(\n\u001b[1;32m    327\u001b[0m         msg\u001b[38;5;241m.\u001b[39mformat(arguments\u001b[38;5;241m=\u001b[39m_format_argument_list(allow_args)),\n\u001b[1;32m    328\u001b[0m         \u001b[38;5;167;01mFutureWarning\u001b[39;00m,\n\u001b[1;32m    329\u001b[0m         stacklevel\u001b[38;5;241m=\u001b[39mfind_stack_level(),\n\u001b[1;32m    330\u001b[0m     )\n\u001b[0;32m--> 331\u001b[0m \u001b[38;5;28;01mreturn\u001b[39;00m \u001b[43mfunc\u001b[49m\u001b[43m(\u001b[49m\u001b[38;5;241;43m*\u001b[39;49m\u001b[43margs\u001b[49m\u001b[43m,\u001b[49m\u001b[43m \u001b[49m\u001b[38;5;241;43m*\u001b[39;49m\u001b[38;5;241;43m*\u001b[39;49m\u001b[43mkwargs\u001b[49m\u001b[43m)\u001b[49m\n",
      "File \u001b[0;32m/Library/Frameworks/Python.framework/Versions/3.10/lib/python3.10/site-packages/pandas/core/frame.py:5388\u001b[0m, in \u001b[0;36mDataFrame.drop\u001b[0;34m(self, labels, axis, index, columns, level, inplace, errors)\u001b[0m\n\u001b[1;32m   5240\u001b[0m \u001b[38;5;129m@deprecate_nonkeyword_arguments\u001b[39m(version\u001b[38;5;241m=\u001b[39m\u001b[38;5;28;01mNone\u001b[39;00m, allowed_args\u001b[38;5;241m=\u001b[39m[\u001b[38;5;124m\"\u001b[39m\u001b[38;5;124mself\u001b[39m\u001b[38;5;124m\"\u001b[39m, \u001b[38;5;124m\"\u001b[39m\u001b[38;5;124mlabels\u001b[39m\u001b[38;5;124m\"\u001b[39m])\n\u001b[1;32m   5241\u001b[0m \u001b[38;5;28;01mdef\u001b[39;00m \u001b[38;5;21mdrop\u001b[39m(  \u001b[38;5;66;03m# type: ignore[override]\u001b[39;00m\n\u001b[1;32m   5242\u001b[0m     \u001b[38;5;28mself\u001b[39m,\n\u001b[0;32m   (...)\u001b[0m\n\u001b[1;32m   5249\u001b[0m     errors: IgnoreRaise \u001b[38;5;241m=\u001b[39m \u001b[38;5;124m\"\u001b[39m\u001b[38;5;124mraise\u001b[39m\u001b[38;5;124m\"\u001b[39m,\n\u001b[1;32m   5250\u001b[0m ) \u001b[38;5;241m-\u001b[39m\u001b[38;5;241m>\u001b[39m DataFrame \u001b[38;5;241m|\u001b[39m \u001b[38;5;28;01mNone\u001b[39;00m:\n\u001b[1;32m   5251\u001b[0m     \u001b[38;5;124;03m\"\"\"\u001b[39;00m\n\u001b[1;32m   5252\u001b[0m \u001b[38;5;124;03m    Drop specified labels from rows or columns.\u001b[39;00m\n\u001b[1;32m   5253\u001b[0m \n\u001b[0;32m   (...)\u001b[0m\n\u001b[1;32m   5386\u001b[0m \u001b[38;5;124;03m            weight  1.0     0.8\u001b[39;00m\n\u001b[1;32m   5387\u001b[0m \u001b[38;5;124;03m    \"\"\"\u001b[39;00m\n\u001b[0;32m-> 5388\u001b[0m     \u001b[38;5;28;01mreturn\u001b[39;00m \u001b[38;5;28;43msuper\u001b[39;49m\u001b[43m(\u001b[49m\u001b[43m)\u001b[49m\u001b[38;5;241;43m.\u001b[39;49m\u001b[43mdrop\u001b[49m\u001b[43m(\u001b[49m\n\u001b[1;32m   5389\u001b[0m \u001b[43m        \u001b[49m\u001b[43mlabels\u001b[49m\u001b[38;5;241;43m=\u001b[39;49m\u001b[43mlabels\u001b[49m\u001b[43m,\u001b[49m\n\u001b[1;32m   5390\u001b[0m \u001b[43m        \u001b[49m\u001b[43maxis\u001b[49m\u001b[38;5;241;43m=\u001b[39;49m\u001b[43maxis\u001b[49m\u001b[43m,\u001b[49m\n\u001b[1;32m   5391\u001b[0m \u001b[43m        \u001b[49m\u001b[43mindex\u001b[49m\u001b[38;5;241;43m=\u001b[39;49m\u001b[43mindex\u001b[49m\u001b[43m,\u001b[49m\n\u001b[1;32m   5392\u001b[0m \u001b[43m        \u001b[49m\u001b[43mcolumns\u001b[49m\u001b[38;5;241;43m=\u001b[39;49m\u001b[43mcolumns\u001b[49m\u001b[43m,\u001b[49m\n\u001b[1;32m   5393\u001b[0m \u001b[43m        \u001b[49m\u001b[43mlevel\u001b[49m\u001b[38;5;241;43m=\u001b[39;49m\u001b[43mlevel\u001b[49m\u001b[43m,\u001b[49m\n\u001b[1;32m   5394\u001b[0m \u001b[43m        \u001b[49m\u001b[43minplace\u001b[49m\u001b[38;5;241;43m=\u001b[39;49m\u001b[43minplace\u001b[49m\u001b[43m,\u001b[49m\n\u001b[1;32m   5395\u001b[0m \u001b[43m        \u001b[49m\u001b[43merrors\u001b[49m\u001b[38;5;241;43m=\u001b[39;49m\u001b[43merrors\u001b[49m\u001b[43m,\u001b[49m\n\u001b[1;32m   5396\u001b[0m \u001b[43m    \u001b[49m\u001b[43m)\u001b[49m\n",
      "File \u001b[0;32m/Library/Frameworks/Python.framework/Versions/3.10/lib/python3.10/site-packages/pandas/util/_decorators.py:331\u001b[0m, in \u001b[0;36mdeprecate_nonkeyword_arguments.<locals>.decorate.<locals>.wrapper\u001b[0;34m(*args, **kwargs)\u001b[0m\n\u001b[1;32m    325\u001b[0m \u001b[38;5;28;01mif\u001b[39;00m \u001b[38;5;28mlen\u001b[39m(args) \u001b[38;5;241m>\u001b[39m num_allow_args:\n\u001b[1;32m    326\u001b[0m     warnings\u001b[38;5;241m.\u001b[39mwarn(\n\u001b[1;32m    327\u001b[0m         msg\u001b[38;5;241m.\u001b[39mformat(arguments\u001b[38;5;241m=\u001b[39m_format_argument_list(allow_args)),\n\u001b[1;32m    328\u001b[0m         \u001b[38;5;167;01mFutureWarning\u001b[39;00m,\n\u001b[1;32m    329\u001b[0m         stacklevel\u001b[38;5;241m=\u001b[39mfind_stack_level(),\n\u001b[1;32m    330\u001b[0m     )\n\u001b[0;32m--> 331\u001b[0m \u001b[38;5;28;01mreturn\u001b[39;00m \u001b[43mfunc\u001b[49m\u001b[43m(\u001b[49m\u001b[38;5;241;43m*\u001b[39;49m\u001b[43margs\u001b[49m\u001b[43m,\u001b[49m\u001b[43m \u001b[49m\u001b[38;5;241;43m*\u001b[39;49m\u001b[38;5;241;43m*\u001b[39;49m\u001b[43mkwargs\u001b[49m\u001b[43m)\u001b[49m\n",
      "File \u001b[0;32m/Library/Frameworks/Python.framework/Versions/3.10/lib/python3.10/site-packages/pandas/core/generic.py:4505\u001b[0m, in \u001b[0;36mNDFrame.drop\u001b[0;34m(self, labels, axis, index, columns, level, inplace, errors)\u001b[0m\n\u001b[1;32m   4503\u001b[0m \u001b[38;5;28;01mfor\u001b[39;00m axis, labels \u001b[38;5;129;01min\u001b[39;00m axes\u001b[38;5;241m.\u001b[39mitems():\n\u001b[1;32m   4504\u001b[0m     \u001b[38;5;28;01mif\u001b[39;00m labels \u001b[38;5;129;01mis\u001b[39;00m \u001b[38;5;129;01mnot\u001b[39;00m \u001b[38;5;28;01mNone\u001b[39;00m:\n\u001b[0;32m-> 4505\u001b[0m         obj \u001b[38;5;241m=\u001b[39m \u001b[43mobj\u001b[49m\u001b[38;5;241;43m.\u001b[39;49m\u001b[43m_drop_axis\u001b[49m\u001b[43m(\u001b[49m\u001b[43mlabels\u001b[49m\u001b[43m,\u001b[49m\u001b[43m \u001b[49m\u001b[43maxis\u001b[49m\u001b[43m,\u001b[49m\u001b[43m \u001b[49m\u001b[43mlevel\u001b[49m\u001b[38;5;241;43m=\u001b[39;49m\u001b[43mlevel\u001b[49m\u001b[43m,\u001b[49m\u001b[43m \u001b[49m\u001b[43merrors\u001b[49m\u001b[38;5;241;43m=\u001b[39;49m\u001b[43merrors\u001b[49m\u001b[43m)\u001b[49m\n\u001b[1;32m   4507\u001b[0m \u001b[38;5;28;01mif\u001b[39;00m inplace:\n\u001b[1;32m   4508\u001b[0m     \u001b[38;5;28mself\u001b[39m\u001b[38;5;241m.\u001b[39m_update_inplace(obj)\n",
      "File \u001b[0;32m/Library/Frameworks/Python.framework/Versions/3.10/lib/python3.10/site-packages/pandas/core/generic.py:4546\u001b[0m, in \u001b[0;36mNDFrame._drop_axis\u001b[0;34m(self, labels, axis, level, errors, only_slice)\u001b[0m\n\u001b[1;32m   4544\u001b[0m         new_axis \u001b[38;5;241m=\u001b[39m axis\u001b[38;5;241m.\u001b[39mdrop(labels, level\u001b[38;5;241m=\u001b[39mlevel, errors\u001b[38;5;241m=\u001b[39merrors)\n\u001b[1;32m   4545\u001b[0m     \u001b[38;5;28;01melse\u001b[39;00m:\n\u001b[0;32m-> 4546\u001b[0m         new_axis \u001b[38;5;241m=\u001b[39m \u001b[43maxis\u001b[49m\u001b[38;5;241;43m.\u001b[39;49m\u001b[43mdrop\u001b[49m\u001b[43m(\u001b[49m\u001b[43mlabels\u001b[49m\u001b[43m,\u001b[49m\u001b[43m \u001b[49m\u001b[43merrors\u001b[49m\u001b[38;5;241;43m=\u001b[39;49m\u001b[43merrors\u001b[49m\u001b[43m)\u001b[49m\n\u001b[1;32m   4547\u001b[0m     indexer \u001b[38;5;241m=\u001b[39m axis\u001b[38;5;241m.\u001b[39mget_indexer(new_axis)\n\u001b[1;32m   4549\u001b[0m \u001b[38;5;66;03m# Case for non-unique axis\u001b[39;00m\n\u001b[1;32m   4550\u001b[0m \u001b[38;5;28;01melse\u001b[39;00m:\n",
      "File \u001b[0;32m/Library/Frameworks/Python.framework/Versions/3.10/lib/python3.10/site-packages/pandas/core/indexes/base.py:6975\u001b[0m, in \u001b[0;36mIndex.drop\u001b[0;34m(self, labels, errors)\u001b[0m\n\u001b[1;32m   6973\u001b[0m \u001b[38;5;28;01mif\u001b[39;00m mask\u001b[38;5;241m.\u001b[39many():\n\u001b[1;32m   6974\u001b[0m     \u001b[38;5;28;01mif\u001b[39;00m errors \u001b[38;5;241m!=\u001b[39m \u001b[38;5;124m\"\u001b[39m\u001b[38;5;124mignore\u001b[39m\u001b[38;5;124m\"\u001b[39m:\n\u001b[0;32m-> 6975\u001b[0m         \u001b[38;5;28;01mraise\u001b[39;00m \u001b[38;5;167;01mKeyError\u001b[39;00m(\u001b[38;5;124mf\u001b[39m\u001b[38;5;124m\"\u001b[39m\u001b[38;5;132;01m{\u001b[39;00m\u001b[38;5;28mlist\u001b[39m(labels[mask])\u001b[38;5;132;01m}\u001b[39;00m\u001b[38;5;124m not found in axis\u001b[39m\u001b[38;5;124m\"\u001b[39m)\n\u001b[1;32m   6976\u001b[0m     indexer \u001b[38;5;241m=\u001b[39m indexer[\u001b[38;5;241m~\u001b[39mmask]\n\u001b[1;32m   6977\u001b[0m \u001b[38;5;28;01mreturn\u001b[39;00m \u001b[38;5;28mself\u001b[39m\u001b[38;5;241m.\u001b[39mdelete(indexer)\n",
      "\u001b[0;31mKeyError\u001b[0m: \"['city'] not found in axis\""
     ]
    }
   ],
   "source": [
    "postcards = postcards.drop(\"city\", axis=1)\n",
    "# в этой ячейке можете попробовать"
   ]
  },
  {
   "cell_type": "markdown",
   "metadata": {
    "id": "ZDTCdrD6uhXl"
   },
   "source": [
    "### Сохранение датафрейма в файл "
   ]
  },
  {
   "cell_type": "code",
   "execution_count": null,
   "metadata": {
    "id": "u-tvDza7T8ad"
   },
   "outputs": [],
   "source": [
    "# сохраним в .csv файл\n",
    "\n",
    "postcards.to_csv('postcards.csv') \n",
    "# postcards.to_excel('postcards.csv') "
   ]
  },
  {
   "cell_type": "markdown",
   "metadata": {
    "id": "IgtDJfqPKYiu"
   },
   "source": [
    "### Фильтры и прочие манипуляции"
   ]
  },
  {
   "cell_type": "code",
   "execution_count": null,
   "metadata": {
    "id": "9dQc2idIELXa"
   },
   "outputs": [],
   "source": [
    "# посмотрим, кто работает шеф-поваром\n",
    "# квадратные скобки создают подвыборку из датасета, удовлетворяющую условиям\n",
    "\n",
    "postcards[ postcards[\"job\"] == \"Chef\" ]\n",
    "\n",
    "# print(postcards[ postcards[\"job\"] == \"Chef\" ])"
   ]
  },
  {
   "cell_type": "code",
   "execution_count": null,
   "metadata": {
    "id": "IZas6n3v3KOH",
    "tags": []
   },
   "outputs": [],
   "source": [
    "# поищем всех людей старше 40\n",
    "\n",
    "postcards[ postcards[\"age\"] > 40 ]"
   ]
  },
  {
   "cell_type": "code",
   "execution_count": null,
   "metadata": {
    "id": "hGKBGJL13r_K"
   },
   "outputs": [],
   "source": [
    "# условия можно компоновать логическими операторами\n",
    "# синтаксис: df[(условие1) оператор (условие2)]\n",
    "\n",
    "#ищем, кто старше 30 и не работает шеф-поваром\n",
    "\n",
    "postcards[ (postcards[\"age\"] > 30) & (postcards[\"job\"] != \"Chef\")]"
   ]
  },
  {
   "cell_type": "markdown",
   "metadata": {
    "id": "3oz0IY2oELXa"
   },
   "source": [
    "Над значениями в колонках можно производить различные операции:\n",
    "* например, арифметические (если данные количественные):"
   ]
  },
  {
   "cell_type": "code",
   "execution_count": null,
   "metadata": {
    "id": "pqvjgc9-4c5G"
   },
   "outputs": [],
   "source": [
    "# postcards.age.sum()\n",
    "# postcards.age.mean()\n",
    "# postcards.age.min()\n",
    "# postcards.age.max()"
   ]
  },
  {
   "cell_type": "markdown",
   "metadata": {
    "id": "589isE_EELXb"
   },
   "source": [
    "Если данные категориальные, можно искать уникальные значения, упорядочивать по алфавиту и тд"
   ]
  },
  {
   "cell_type": "code",
   "execution_count": null,
   "metadata": {
    "id": "EtS4vzvcELXb"
   },
   "outputs": [],
   "source": [
    "# postcards.job.values # все значения \n",
    "# postcards.job.value_counts() # число повторов\n",
    "# postcards.job.sort_values() # сортировка\n",
    "\n",
    "# postcards.job.unique() # все уникальные в колонке\n",
    "# postcards.job.nunique() # сколько уникальных в колонке"
   ]
  },
  {
   "cell_type": "markdown",
   "metadata": {
    "id": "EAMUkgzxOW7V"
   },
   "source": [
    "### Дополнительное задание: колонии\n",
    "\n",
    "Вы работаете с датасетом от Гарвардского университета, в котором хранится информация о государствах - бывших колониях. Посчитайте:\n",
    "* количество этих государств (Country Name)\n",
    "* среднюю продолжительность колониального периода (COLYEARS)\n",
    "* максимальную продолжительность зависимости (COLYEARS)\n",
    "\n",
    "Скачать данные можно здесь: https://raw.githubusercontent.com/AnnSenina/Python_for_CL/main/data/Colonial.csv"
   ]
  },
  {
   "cell_type": "code",
   "execution_count": null,
   "metadata": {
    "id": "dPEtW7NRQV-E"
   },
   "outputs": [],
   "source": []
  },
  {
   "cell_type": "markdown",
   "metadata": {
    "id": "9bUqPFz9QXYz"
   },
   "source": [
    "### Дополнительное задание 2: тревожность и телевидение\n",
    "\n",
    "Вы изучаете взаимосвязь тревожности и просмотра телевиденья. Вам необходимо расчитать следующие характеристики:\n",
    "\n",
    "* Сколько человек приняло участие в исследовании?\n",
    "* Каков минимальный и максимальный возраст участников?\n",
    "* Сколько в выборке женщин?\n",
    "* Какое среднее значение тревожности наблюдается в данных?\n",
    "\n",
    "Скачать данные можно здесь: https://raw.githubusercontent.com/AnnSenina/Python_for_CL/main/data/socio.scv"
   ]
  },
  {
   "cell_type": "code",
   "execution_count": null,
   "metadata": {
    "id": "z7mbp3iFVwTK"
   },
   "outputs": [],
   "source": []
  }
 ],
 "metadata": {
  "colab": {
   "collapsed_sections": [
    "ZESKs95y71Wy"
   ],
   "provenance": []
  },
  "kernelspec": {
   "display_name": "Python 3 (ipykernel)",
   "language": "python",
   "name": "python3"
  },
  "language_info": {
   "codemirror_mode": {
    "name": "ipython",
    "version": 3
   },
   "file_extension": ".py",
   "mimetype": "text/x-python",
   "name": "python",
   "nbconvert_exporter": "python",
   "pygments_lexer": "ipython3",
   "version": "3.10.1"
  }
 },
 "nbformat": 4,
 "nbformat_minor": 1
}

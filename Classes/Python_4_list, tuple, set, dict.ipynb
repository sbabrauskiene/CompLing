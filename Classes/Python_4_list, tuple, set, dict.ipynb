{
 "cells": [
  {
   "cell_type": "markdown",
   "metadata": {
    "id": "i4yGfh1mMrc5"
   },
   "source": [
    "#Списки и кортежи\n",
    "Эти объекты - контейнеры, хранят другие данные"
   ]
  },
  {
   "cell_type": "markdown",
   "metadata": {
    "id": "r2N9tbMJNJEt"
   },
   "source": [
    "##списки\n",
    "изменяемые итерируемые коллекции объектов произвольных типов. Записываются в квадратных скобках []"
   ]
  },
  {
   "cell_type": "code",
   "execution_count": null,
   "metadata": {
    "id": "nW9m3zKKNEnN"
   },
   "outputs": [],
   "source": [
    "my_list = [5, 800.6, True, 'hello'] # в списке могут быть элементы разных типов\n",
    "print(my_list)\n",
    "print(len(my_list)) # длина списка, количество элементов\n",
    "print(type(my_list))"
   ]
  },
  {
   "cell_type": "code",
   "execution_count": null,
   "metadata": {
    "id": "fT9UcrONNjPy"
   },
   "outputs": [],
   "source": [
    "# как создать список?\n",
    "l = []\n",
    "print(l)"
   ]
  },
  {
   "cell_type": "code",
   "execution_count": null,
   "metadata": {
    "id": "ZdxR8tBHNq6O"
   },
   "outputs": [],
   "source": [
    "# превратить итерируемый объект в список с помощью функции list()\n",
    "s = 'hello'\n",
    "print(list(s))"
   ]
  },
  {
   "cell_type": "markdown",
   "metadata": {
    "id": "t_jwjdNTM9N1"
   },
   "source": [
    "###Методы списков\n",
    "Напишем программу, которая к списку книг books добавит книгу по вашей\n",
    "теме."
   ]
  },
  {
   "cell_type": "code",
   "execution_count": 1,
   "metadata": {
    "colab": {
     "base_uri": "https://localhost:8080/"
    },
    "id": "k5xXAc45Mi5Q",
    "outputId": "0a18ad45-7ac1-4514-87b4-7089c8b780aa"
   },
   "outputs": [
    {
     "name": "stdout",
     "output_type": "stream",
     "text": [
      "['Блок М. Короли-чудотворцы', 'Гинзбург К. Сыр и черви', 'Земон-Девис Н. Дамы на обочине']\n"
     ]
    }
   ],
   "source": [
    "books = ['Блок М. Короли-чудотворцы', 'Гинзбург К. Сыр и черви']\n",
    "books.append('Земон-Девис Н. Дамы на обочине') #добавить 1 эелмент в конец списка\n",
    "print(books)"
   ]
  },
  {
   "cell_type": "code",
   "execution_count": null,
   "metadata": {
    "id": "CB99f5OuOWEF"
   },
   "outputs": [],
   "source": [
    "books.extend([\"Веселовский. История земства за 40 лет\", \"Ле Руа Ладюри Э. Монтайю, окситанская деревня\"]) #расширить список, добавив в конец все элементы, написанные в скобках метода extend\n",
    "print(books)\n",
    "# аналогично books + [\"Веселовский. История земства за 40 лет\", \"Ле Руа Ладюри Э. Монтайю, окситанская деревня\"]"
   ]
  },
  {
   "cell_type": "code",
   "execution_count": null,
   "metadata": {
    "id": "zPH5ipNPPIeQ"
   },
   "outputs": [],
   "source": [
    "books.insert(2, 'Арьес Ф. «Человек перед лицом смерти»')\n",
    "print(books)\n",
    "# списки можно перебирать по индексам\n",
    "print(books[2])"
   ]
  },
  {
   "cell_type": "code",
   "execution_count": null,
   "metadata": {
    "id": "NCZkQyAjPmPi"
   },
   "outputs": [],
   "source": [
    "books.remove('Блок М. Короли-чудотворцы') # удаление элемента из списка, если знаем его значение\n",
    "print(books)"
   ]
  },
  {
   "cell_type": "code",
   "execution_count": null,
   "metadata": {
    "id": "4Gxly7lpP2I5"
   },
   "outputs": [],
   "source": [
    "del books[2] # удаляем второй (считая с нуля) элемент из списка\n",
    "print(books)"
   ]
  },
  {
   "cell_type": "code",
   "execution_count": null,
   "metadata": {
    "id": "L6MymXRBP_ud"
   },
   "outputs": [],
   "source": [
    "# доступ к индексу элемента по значению\n",
    "\n",
    "print(books)\n",
    "print(books.index(\"Веселовский. История земства за 40 лет\")) # посмотрим, на каком месте (считая от нуля) элемент \"Jane\"\n",
    "print(books.count(\"Веселовский. История земства за 40 лет\")) # посмотрим, сколько раз встречается нужный элемент в списке"
   ]
  },
  {
   "cell_type": "code",
   "execution_count": null,
   "metadata": {
    "id": "T2OOZ9gqRlfN"
   },
   "outputs": [],
   "source": [
    "books.clear() # очистим список от всех элементов\n",
    "print(books, \"\\nдлина списка = \", len(books)) # напечатаем список и его длину"
   ]
  },
  {
   "cell_type": "markdown",
   "metadata": {
    "id": "VJvATKG-R9lb"
   },
   "source": [
    "##Кортеж (tuple)\n",
    "это неизменяемый список.\n",
    "\n",
    "Зачем нужны кортежи, если есть списки?\n",
    "\n",
    "1. Защита данных. Кортеж защищен от изменений, как намеренных (что плохо), так и случайных (что хорошо).\n",
    "2. Меньший размер. Вам нужно меньше памяти, чтобы хранить данные"
   ]
  },
  {
   "cell_type": "code",
   "execution_count": null,
   "metadata": {
    "id": "oPaKUTdQSBrs"
   },
   "outputs": [],
   "source": [
    "# сравним размеры в байтах\n",
    "\n",
    "a = (1, 2, 3, 4, 5, 6) # кортеж\n",
    "b = [1, 2, 3, 4, 5, 6] # лист/список\n",
    "\n",
    "print(\"Size of the tuple: \",a.__sizeof__(),\"\\nsize of the list: \",b.__sizeof__()) "
   ]
  },
  {
   "cell_type": "code",
   "execution_count": null,
   "metadata": {
    "id": "kuxmOUEuSGDT"
   },
   "outputs": [],
   "source": [
    "# как создать кортеж\n",
    "a = tuple() \n",
    "\n",
    "print(a, \"\\n\",type(a))"
   ]
  },
  {
   "cell_type": "code",
   "execution_count": null,
   "metadata": {
    "id": "ts6YO3fJSYuM"
   },
   "outputs": [],
   "source": [
    "# с помощью литерала кортежа ()\n",
    "b = ()\n",
    "print(b, \"\\n\",type(b))"
   ]
  },
  {
   "cell_type": "code",
   "execution_count": null,
   "metadata": {
    "id": "U77LlkToSdMl"
   },
   "outputs": [],
   "source": [
    "# Создаем кортеж из одного элемента:\n",
    "a = ('apple', )\n",
    "print(a)\n",
    "b = 'apple', \n",
    "print(b)"
   ]
  },
  {
   "cell_type": "markdown",
   "metadata": {
    "id": "nySFCY7vSu4t"
   },
   "source": [
    "кортежам доступны все операции над списками, не изменяющие список: сложение, умножение на число, методы index() и count(), можно работать с индексами и так далее.\n",
    "\n"
   ]
  },
  {
   "cell_type": "code",
   "execution_count": null,
   "metadata": {
    "id": "TaOAmAIqSweE"
   },
   "outputs": [],
   "source": [
    "# проверим, что кортежи не изменяются:\n",
    "b[1] = 'banana'\n",
    "print(b)\n",
    "# ошибка - кортеж нельзя изменить"
   ]
  },
  {
   "cell_type": "markdown",
   "metadata": {
    "id": "wq7auSEsTC8g"
   },
   "source": [
    "#Множество (set)\n",
    "это тоже \"контейнер\" для данных, но в отличие от листа(списка), он содержит уникальные, не повторяющиеся элементы."
   ]
  },
  {
   "cell_type": "code",
   "execution_count": null,
   "metadata": {
    "id": "AzwvrVoISubp"
   },
   "outputs": [],
   "source": [
    "# создать множество с помощью функции set()\n",
    "print(set([34,78,\"banana\"]))\n",
    "\n",
    "print(set(\"hello there\"))\n",
    "\n",
    "tmp = \"hello hello there\"\n",
    "print(set(tmp.split()))"
   ]
  },
  {
   "cell_type": "code",
   "execution_count": null,
   "metadata": {
    "id": "x6rqNQcwXbuM"
   },
   "outputs": [],
   "source": [
    "# множества удобно использовать для удаления повторяющихся элементов:\n",
    "\n",
    "fruits = [\"apples\", \"peaches\", \"cherries\", \"pears\", \"oranges\", \"persimmons\"]\n",
    "# задали список, сохранили в переменную\n",
    "\n",
    "fruits.append(\"peaches\")# добавим еще больше персиков\n",
    "\n",
    "# давайте изменим тип объекта на set с помощью функции set()\n",
    "fruits = set(fruits) #применили функцию, пересохранили переменную\n",
    "\n",
    "print(fruits)"
   ]
  },
  {
   "cell_type": "code",
   "execution_count": null,
   "metadata": {
    "id": "I7l0pjzLXi2-"
   },
   "outputs": [],
   "source": [
    "new_set = {2}  # создали переменную, сложили в нее некоторые объекты\n",
    "# можем складывать в множество объекты разных типов: числовые, строковые, логические\n",
    "\n",
    "# давайте проверим, что new_set действительно множество\n",
    "print(new_set, type(new_set))"
   ]
  },
  {
   "cell_type": "code",
   "execution_count": null,
   "metadata": {
    "id": "Z4LjFTi0XnXm"
   },
   "outputs": [],
   "source": [
    "# Важно!!!! обратите внимание, что в отличие от листа, множество нельзя задать пустым литералом\n",
    "another_set = {} # создали пустое....\n",
    "\n",
    "# ....множество? Давайте проверим тип созданной переменной \n",
    "\n",
    "print(type(another_set)) "
   ]
  },
  {
   "cell_type": "markdown",
   "metadata": {
    "id": "ZtkTEVoWXs68"
   },
   "source": [
    "###Операции со множествами\n"
   ]
  },
  {
   "cell_type": "code",
   "execution_count": null,
   "metadata": {
    "id": "HaWNVNz5Xuk6"
   },
   "outputs": [],
   "source": [
    "cars = [\"BMW\",\"Toyota\",\"Bentley\",\"Jeep\",\"Jeep\"]\n",
    "\n",
    "cars = set(cars)\n",
    "\n",
    "#число элементов в множестве (размер множества).\n",
    "len(cars)"
   ]
  },
  {
   "cell_type": "code",
   "execution_count": null,
   "metadata": {
    "id": "xYurLCNBXyj8"
   },
   "outputs": [],
   "source": [
    "# принадлежит ли элемент множеству\n",
    "\n",
    "print(\"BMW\" in cars)\n",
    "print(\"Chevrolet\" in cars)"
   ]
  },
  {
   "cell_type": "code",
   "execution_count": null,
   "metadata": {
    "id": "Gk6t7MDzYIzX"
   },
   "outputs": [],
   "source": [
    "#добавляем элемент в множество\n",
    "\n",
    "cars.add(789)\n",
    "print(cars)"
   ]
  },
  {
   "cell_type": "code",
   "execution_count": null,
   "metadata": {
    "id": "KkQhMuJEYMNS"
   },
   "outputs": [],
   "source": [
    "# добавляем множество во множество\n",
    "french_cars = {\"Peugeot\", \"Citroën\", \"Renault\"}\n",
    "cars.update(french_cars)\n",
    "print(cars, len(cars))"
   ]
  },
  {
   "cell_type": "code",
   "execution_count": null,
   "metadata": {
    "id": "--4p9n4rYRuB"
   },
   "outputs": [],
   "source": [
    "# удаляем элемент из множества. \n",
    "cars.remove(\"Jeep\")\n",
    "print(cars)\n",
    "# KeyError, если такого элемента не существует."
   ]
  },
  {
   "cell_type": "code",
   "execution_count": null,
   "metadata": {
    "id": "wgNCA6lBYnq1"
   },
   "outputs": [],
   "source": [
    "# Альтернативный вариант\n",
    "\n",
    "cars.discard(\"Lamborgini\") \n",
    "# удаляет элемент, если он находится в множестве.\n",
    "# Если элемента нет, не возвращает сообщение об ошибке"
   ]
  },
  {
   "cell_type": "code",
   "execution_count": null,
   "metadata": {
    "id": "XVhoJSArYr3i"
   },
   "outputs": [],
   "source": [
    "# удаляет первый элемент\n",
    "\n",
    "print(cars.pop())\n",
    "print(cars)\n",
    "# запустите несколько раз, посмотрите на результат"
   ]
  },
  {
   "cell_type": "code",
   "execution_count": null,
   "metadata": {
    "id": "Jkq2K3KuYvFs"
   },
   "outputs": [],
   "source": [
    "# очищаем множество\n",
    "\n",
    "cars.clear()\n",
    "print(\"\\n\",cars)"
   ]
  },
  {
   "cell_type": "markdown",
   "metadata": {
    "id": "GXp5enmeY9Bd"
   },
   "source": [
    "###Свойства множеств (логические операции)"
   ]
  },
  {
   "cell_type": "code",
   "execution_count": null,
   "metadata": {
    "id": "xDg6p5dCmXm0"
   },
   "outputs": [],
   "source": [
    "fruits = {'apples', 'cherries', 'oranges', 'peaches', 'pears', 'persimmons'}\n",
    "berries = {\"strawberry\", \"red currant\"}\n",
    "\n",
    "# сравнение множеств\n",
    "fruits == berries\n",
    " # True если все элементы одного принадлежат второму"
   ]
  },
  {
   "cell_type": "code",
   "execution_count": null,
   "metadata": {
    "id": "0uQkOEdsmuye"
   },
   "outputs": [],
   "source": [
    "# является ли подмножеством\n",
    "\n",
    "berries.issubset(fruits) \n",
    "# print(berries <= fruits) \n",
    "\n",
    "# аналогично, но в обратную сторону\n",
    "# fruits.issuperset(berries) \n",
    "# print(berries >= fruits)"
   ]
  },
  {
   "cell_type": "code",
   "execution_count": null,
   "metadata": {
    "id": "2NaZK0xFmyL-"
   },
   "outputs": [],
   "source": [
    "# объединение нескольких множеств \n",
    "\n",
    "print(fruits.union(berries))\n",
    "#print(fruits | berries)"
   ]
  },
  {
   "cell_type": "code",
   "execution_count": null,
   "metadata": {
    "id": "xMnNzaV6nFlA"
   },
   "outputs": [],
   "source": [
    "#  пересечение множеств (пустое, если нет общих элементов)\n",
    "\n",
    "print(fruits.intersection(berries))\n",
    "# print(fruits & berries)\n",
    "\n",
    "print(cars.intersection(french_cars))"
   ]
  },
  {
   "cell_type": "markdown",
   "metadata": {
    "id": "W-U3GXfGnJTw"
   },
   "source": [
    "###еще один вид множества - frozenset\n",
    "set изменяемый, frozenset - нет"
   ]
  },
  {
   "cell_type": "code",
   "execution_count": null,
   "metadata": {
    "id": "coh4_wibnNdI"
   },
   "outputs": [],
   "source": [
    "a = set(\"random\") #'r', 'a', 'n'....\n",
    "b = frozenset('random')\n",
    "\n",
    "print(a == b) # давайте сравним множества"
   ]
  },
  {
   "cell_type": "code",
   "execution_count": null,
   "metadata": {
    "id": "v0sueCdTnVfA"
   },
   "outputs": [],
   "source": [
    "print(a.intersection(b))\n",
    "# print(a & b)"
   ]
  },
  {
   "cell_type": "code",
   "execution_count": null,
   "metadata": {
    "id": "F85UiJcBniS8"
   },
   "outputs": [],
   "source": [
    "a.add(1) # изменим первое множество\n",
    "a.remove(\"m\")\n",
    "print(a)\n",
    "print(a.intersection(b))"
   ]
  },
  {
   "cell_type": "code",
   "execution_count": null,
   "metadata": {
    "id": "lUA2kGA9no4D"
   },
   "outputs": [],
   "source": [
    "b.add(1)\n",
    "# мы не можем добавлять в frozenset"
   ]
  },
  {
   "cell_type": "markdown",
   "metadata": {
    "id": "xOC9zbhhntDy"
   },
   "source": [
    "#Словарь (dict)\n",
    "коллекции произвольных объектов, записанные в виде пары ключ : значение (ключи уникальные, значения могут повторяться)\n",
    "\n",
    "( словари =ассоциативные массивы = хеш-таблицы)\n",
    "\n",
    "Давайте создадим словарь:"
   ]
  },
  {
   "cell_type": "code",
   "execution_count": null,
   "metadata": {
    "id": "zevt8I7Onvzp"
   },
   "outputs": [],
   "source": [
    "#  помощью литерала {}\n",
    "d = {}\n",
    "print(d, type(d))"
   ]
  },
  {
   "cell_type": "code",
   "execution_count": null,
   "metadata": {
    "id": "63Cfr2vnn5HU"
   },
   "outputs": [],
   "source": [
    "d_names = {\"Jane\": [\"London\", 35], 'Olga': [\"Moscow\", 40], \"Mike\": [\"Spb\", 26]} \n",
    "# Jane, Olga - это ключи, списки - значения\n",
    "print(d_names)"
   ]
  },
  {
   "cell_type": "code",
   "execution_count": 1,
   "metadata": {
    "id": "h9RnIMu-oDke"
   },
   "outputs": [
    {
     "name": "stdout",
     "output_type": "stream",
     "text": [
      "{'A': 67, 'B': 903}\n"
     ]
    }
   ],
   "source": [
    "# с помощью функции dict()\n",
    "d = dict(A=67, B=903)\n",
    "print(d)"
   ]
  },
  {
   "cell_type": "code",
   "execution_count": 18,
   "metadata": {
    "id": "XlJCI8P6oVdG"
   },
   "outputs": [
    {
     "name": "stdout",
     "output_type": "stream",
     "text": [
      "{'Jane': 25, 'Oleg': 27, 'Mia': 56}\n",
      "25\n"
     ]
    }
   ],
   "source": [
    "a = [\"Jane\", \"Oleg\", \"Mia\"]\n",
    "b = [25, 27, 56]\n",
    "\n",
    "res = dict(zip(a,b)) # объект zip - не вызываемый \n",
    "\n",
    "print(res) # список кортетжей\n",
    "\n",
    "print(res['Jane'])\n",
    "\n",
    "#print(list(res))"
   ]
  },
  {
   "cell_type": "code",
   "execution_count": 24,
   "metadata": {},
   "outputs": [
    {
     "name": "stdout",
     "output_type": "stream",
     "text": [
      "{'Jane': 25, 'Oleg': 27, 'Mia': 56}\n"
     ]
    }
   ],
   "source": [
    "a = [\"Jane\", \"Oleg\", \"Mia\"]\n",
    "b = [25, 27, 56]\n",
    "\n",
    "names = {}\n",
    "# будем идти по индексам, т.к. списки одинакового размера\n",
    "for i in range(len(a)):\n",
    "  names[a[i]] = b[i]\n",
    "\n",
    "print(names)\n",
    "# аналог zip"
   ]
  },
  {
   "cell_type": "code",
   "execution_count": 8,
   "metadata": {
    "id": "mxgcDVaLod83"
   },
   "outputs": [
    {
     "name": "stdout",
     "output_type": "stream",
     "text": [
      "{'Jane': ['LA', 'Atlanta']}\n"
     ]
    }
   ],
   "source": [
    "#с помощью метода .fromkeys()\n",
    "d = dict.fromkeys(['Jane'], [\"LA\", \"Atlanta\"])\n",
    "print(d)"
   ]
  },
  {
   "cell_type": "code",
   "execution_count": 27,
   "metadata": {
    "id": "XyuT1fVdov2L"
   },
   "outputs": [
    {
     "name": "stdout",
     "output_type": "stream",
     "text": [
      "{'a': 100, 'b': 100}\n"
     ]
    }
   ],
   "source": [
    "d = dict.fromkeys(['a', 'b'], 100)\n",
    "print(d)"
   ]
  },
  {
   "cell_type": "code",
   "execution_count": 29,
   "metadata": {
    "id": "-KfTQA-Io0CI"
   },
   "outputs": [
    {
     "name": "stdout",
     "output_type": "stream",
     "text": [
      "B\n",
      "W\n",
      "{1: 'A', 2: 'W', 3: 'C'}\n"
     ]
    }
   ],
   "source": [
    "# получить значение по ключу (аналогично индексам)\n",
    "d = {1: \"A\", 2: \"B\", 3: \"C\"}\n",
    "print(d[2]) # достаем значение по ключу 2\n",
    "d[2] = \"W\"\n",
    "print(d[2])\n",
    "print(d)"
   ]
  },
  {
   "cell_type": "code",
   "execution_count": 21,
   "metadata": {
    "id": "J-owDxIFo8Ea"
   },
   "outputs": [
    {
     "name": "stdout",
     "output_type": "stream",
     "text": [
      "{1: 'A', 2: 'B', 3: 'C', 4: 'D', 'Jane': ['LA', 'NY']}\n"
     ]
    }
   ],
   "source": [
    "d[4] = \"D\" # добавляем пару, где ключ = 4, а значение = D\n",
    "d['Jane'] = ['LA', 'NY']\n",
    "print(d) # посмотрим на весь словарь"
   ]
  },
  {
   "cell_type": "code",
   "execution_count": null,
   "metadata": {
    "id": "lIvdktXWpCQP"
   },
   "outputs": [],
   "source": [
    "# аналогично добавим новую пару в словарь с именами\n",
    "\n",
    "d_names[\"Jack\"] = [\"Toronto\", 35]\n",
    "print(d_names[\"Jack\"])"
   ]
  },
  {
   "cell_type": "code",
   "execution_count": null,
   "metadata": {
    "id": "f4Lpupr-pKsc"
   },
   "outputs": [],
   "source": [
    "# перезапишем значение по ключу \n",
    "\n",
    "print(d[2])\n",
    "d[2] = \"W\"\n",
    "print(d[2])\n",
    "print(d)"
   ]
  },
  {
   "cell_type": "code",
   "execution_count": null,
   "metadata": {
    "id": "IE617qSSpPHE"
   },
   "outputs": [],
   "source": [
    "# присвоение по новому ключу расширяет словарь;\n",
    "# присвоение по существующему ключу перезаписывает его значение;\n",
    "# попытка извлечения несуществующего ключа порождает исключение (KeyError)."
   ]
  },
  {
   "cell_type": "markdown",
   "metadata": {
    "id": "zbzZCZvcpSk_"
   },
   "source": [
    "###Методы словарей"
   ]
  },
  {
   "cell_type": "code",
   "execution_count": null,
   "metadata": {
    "id": "hMkf0eBepSKa"
   },
   "outputs": [],
   "source": [
    "d = {'Jane': \"London\", 'Olga': \"Moscow\", \"Paul\" : \"Paris\", \"Ivan\" : \"Minsk\", \"Anne\" : \"Copenhagen\"}\n",
    "print(d)"
   ]
  },
  {
   "cell_type": "code",
   "execution_count": null,
   "metadata": {
    "id": "8fVukL-Mphqt"
   },
   "outputs": [],
   "source": [
    "# так можно посмотреть все значения всех ключей в словаре\n",
    "print(d.values())\n",
    "\n",
    "# так можно посмотреть все ключи в словаре\n",
    "print(d.keys())       "
   ]
  },
  {
   "cell_type": "code",
   "execution_count": null,
   "metadata": {
    "id": "l5JXAHIIpks-"
   },
   "outputs": [],
   "source": [
    "# значения и ключи можно сохранить в отдельный лист\n",
    "d_values = list(d.values())  \n",
    "print(d_values)\n",
    "d_keys = list(d.keys()) \n",
    "print(d_keys)"
   ]
  },
  {
   "cell_type": "code",
   "execution_count": 53,
   "metadata": {
    "id": "uGm0IAKRprGv"
   },
   "outputs": [
    {
     "name": "stdout",
     "output_type": "stream",
     "text": [
      "1\n"
     ]
    }
   ],
   "source": [
    "# длина словаря -- это количество ключей \n",
    "print(len(d.keys()))"
   ]
  },
  {
   "cell_type": "code",
   "execution_count": 54,
   "metadata": {
    "id": "adBNuhtMptJP"
   },
   "outputs": [
    {
     "name": "stdout",
     "output_type": "stream",
     "text": [
      "dict_items([(1, 'A')])\n",
      "[(1, 'A')]\n",
      "{1: 'A'}\n"
     ]
    }
   ],
   "source": [
    "# так можно посмотреть пары (ключ, значение) в виде списка кортежей\n",
    "print(d.items())\n",
    "print(list(d.items()))\n",
    "print(d)"
   ]
  },
  {
   "cell_type": "code",
   "execution_count": 48,
   "metadata": {
    "id": "WOsE8kljp66f"
   },
   "outputs": [
    {
     "name": "stdout",
     "output_type": "stream",
     "text": [
      "{1: 'A', 3: 'C', 'Alexander': 'Bonn', 'Julia': 'Madrid', 2: 'B'}\n"
     ]
    }
   ],
   "source": [
    "# расширение словаря\n",
    "new_dict = {\"Alexander\":\"Bonn\", \"Julia\":\"Madrid\"}\n",
    "\n",
    "d.update(new_dict) # обновляет словарь, добавляя пары (ключ, значение)\n",
    "d[2] = \"B\"\n",
    "print(d)"
   ]
  },
  {
   "cell_type": "code",
   "execution_count": 49,
   "metadata": {
    "id": "gSBvZZOVp8ZO"
   },
   "outputs": [
    {
     "name": "stdout",
     "output_type": "stream",
     "text": [
      "B\n",
      "{1: 'A', 3: 'C', 'Alexander': 'Bonn', 'Julia': 'Madrid'}\n"
     ]
    }
   ],
   "source": [
    "print(d.pop(2)) # удаляет ключ и возвращает значение\n",
    "print(d)"
   ]
  },
  {
   "cell_type": "code",
   "execution_count": 52,
   "metadata": {
    "id": "hC3hYxLgp_xG"
   },
   "outputs": [
    {
     "name": "stdout",
     "output_type": "stream",
     "text": [
      "(3, 'C')\n",
      "{1: 'A'}\n"
     ]
    }
   ],
   "source": [
    "print(d.popitem()) # удаляет и возвращает пару (ключ, значение)\n",
    "print(d)"
   ]
  },
  {
   "cell_type": "code",
   "execution_count": 55,
   "metadata": {
    "id": "H1aJU8M5qL8-"
   },
   "outputs": [
    {
     "name": "stdout",
     "output_type": "stream",
     "text": [
      "{}\n"
     ]
    }
   ],
   "source": [
    "# а так очищаем словарь\n",
    "d.clear() \n",
    "print(d)"
   ]
  },
  {
   "cell_type": "code",
   "execution_count": 57,
   "metadata": {},
   "outputs": [
    {
     "ename": "NameError",
     "evalue": "name 'd' is not defined",
     "output_type": "error",
     "traceback": [
      "\u001b[0;31m---------------------------------------------------------------------------\u001b[0m",
      "\u001b[0;31mNameError\u001b[0m                                 Traceback (most recent call last)",
      "Input \u001b[0;32mIn [57]\u001b[0m, in \u001b[0;36m<cell line: 1>\u001b[0;34m()\u001b[0m\n\u001b[0;32m----> 1\u001b[0m \u001b[38;5;28;01mdel\u001b[39;00m d\n\u001b[1;32m      2\u001b[0m \u001b[38;5;28mprint\u001b[39m(d)\n",
      "\u001b[0;31mNameError\u001b[0m: name 'd' is not defined"
     ]
    }
   ],
   "source": [
    "del d\n",
    "print(d)"
   ]
  },
  {
   "cell_type": "markdown",
   "metadata": {
    "id": "J1pEq04iqMdf"
   },
   "source": [
    "Все контейнеры можно перебирать циклами for и while"
   ]
  }
 ],
 "metadata": {
  "colab": {
   "provenance": []
  },
  "kernelspec": {
   "display_name": "Python 3 (ipykernel)",
   "language": "python",
   "name": "python3"
  },
  "language_info": {
   "codemirror_mode": {
    "name": "ipython",
    "version": 3
   },
   "file_extension": ".py",
   "mimetype": "text/x-python",
   "name": "python",
   "nbconvert_exporter": "python",
   "pygments_lexer": "ipython3",
   "version": "3.10.1"
  }
 },
 "nbformat": 4,
 "nbformat_minor": 1
}

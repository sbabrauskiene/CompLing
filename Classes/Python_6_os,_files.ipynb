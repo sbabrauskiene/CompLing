{
 "cells": [
  {
   "cell_type": "markdown",
   "metadata": {
    "id": "VZl78AiF5wlr"
   },
   "source": [
    "# Работа с файлами и папками в Python; модуль os\n",
    "\n",
    "Другими словами: где хранятся файлы, открыть, создать, изменить и т.д.\n",
    "\n",
    "Часто, чтобы поработать над какой-то задачей, нам нужно работать с файлами, в которых хранятся данные, перемещаться среди папок и тд. Для решениях этих задач, в питоне существует [модуль os](https://pythonworld.ru/moduli/modul-os.html).\n",
    "\n",
    "\n",
    "1. Содержание папки\n",
    "1. Работа с путями к файлам и папкам\n",
    "1. Манипуляции с файлами и папками\n",
    "1. Простой способ загрузки файла\n",
    "1. Загрузка на Google Диск\n",
    "1. Практика\n",
    "\n",
    "В блокноте использованы материалы курса \"Программирование и лингвистические данные\", \"Программирование на Python для Digital Humanities\" и тетрадка А. Хорошевой\n",
    "\n",
    "# 1. Содержание папки\n"
   ]
  },
  {
   "cell_type": "code",
   "execution_count": 1,
   "metadata": {
    "id": "wg7f0lEX5lev"
   },
   "outputs": [],
   "source": [
    "import os"
   ]
  },
  {
   "cell_type": "code",
   "execution_count": 2,
   "metadata": {
    "id": "bdXc52QT6Y_f"
   },
   "outputs": [
    {
     "name": "stdout",
     "output_type": "stream",
     "text": [
      "['Thumbs.db', 'Воронеж.docx', 'Zhdankov VA - CV 2022.pdf', 'Sample EN-RU - Diana Shikova.json', 'operation_statement_25.09.2022 2.pdf', '.DS_Store', 'result.txt', 'User_agreement.docx', '.localized', 'localization.en.json', '$RECYCLE.BIN', '209346.pdf', 'Python_4_list, tuple, set, dict.ipynb', 'city_smells.txt', 'Memory.pptx', 'Diana_25.10.tmx', 'uninstall jamf.sh', 'beneficiary-tip-sheet_eng_final.pdf', 'Indicator-Tip-Sheet-RRW-Short-Term-Grants-RUSSIAN.pdf', 'operation_statement_29.09.2022.pdf', 'Python_3_if,_while.ipynb', 'operation_statement_25.09.2022.pdf', 'Cert', 'Larissa_October 28, 2022.tmx', '2022-09-30_Svetlana.tmx', 'operation_statement_02.09.2022.pdf', '.ipynb_checkpoints', '450214.pdf', 'Python_5_Functions.ipynb', 'desktop.ini', 'Python_6_os,_files.ipynb', 'PopcornTime', 'Diana_28.10.tmx']\n"
     ]
    }
   ],
   "source": [
    "print(os.listdir()) # список файлов и папок в директории, где запущена программа"
   ]
  },
  {
   "cell_type": "code",
   "execution_count": 3,
   "metadata": {
    "id": "m1sK32vS6bPp"
   },
   "outputs": [
    {
     "name": "stdout",
     "output_type": "stream",
     "text": [
      "['4BC6DC14D97010C41A26E058AD851F81C842415A.cer', 'B27224D5ED3A3E9A8F5710185A557689FD58CD34.cer', '2f0cb09be3550ef17ec4f29c90abd18bfcaad63a.cer', '8CAE88BBFD404A7A53630864F9033606E1DC45E2.cer']\n"
     ]
    }
   ],
   "source": [
    "print(os.listdir('cert'))  # список имен файлов и папок в конкретной папке\n",
    "# напишите вместо sample_data какую-нибудь папку из предыдущей команды: venv для PyCharm и др."
   ]
  },
  {
   "cell_type": "markdown",
   "metadata": {
    "id": "qmiWtXwO-oe8"
   },
   "source": [
    "Порядок элементов можно отсортировать:"
   ]
  },
  {
   "cell_type": "code",
   "execution_count": 4,
   "metadata": {
    "id": "4dWSpYO468uQ"
   },
   "outputs": [
    {
     "name": "stdout",
     "output_type": "stream",
     "text": [
      "['2f0cb09be3550ef17ec4f29c90abd18bfcaad63a.cer', '4BC6DC14D97010C41A26E058AD851F81C842415A.cer', '8CAE88BBFD404A7A53630864F9033606E1DC45E2.cer', 'B27224D5ED3A3E9A8F5710185A557689FD58CD34.cer']\n"
     ]
    }
   ],
   "source": [
    "unsorted_file_list = os.listdir('cert') # аналогично для вашей папки\n",
    "sortetd_file_list = sorted(unsorted_file_list) # функция сортировки\n",
    "print(sortetd_file_list)"
   ]
  },
  {
   "cell_type": "markdown",
   "metadata": {
    "id": "VwL_8Dmv_KZi"
   },
   "source": [
    "# 2. Работа с путями к файлам и папкам"
   ]
  },
  {
   "cell_type": "markdown",
   "metadata": {
    "id": "CeaAUsTfFOu6"
   },
   "source": [
    "## Проверка типа файла\n",
    "Модуль `os.path` содержит функции для проверки существования файла и для определения его типа:\n"
   ]
  },
  {
   "cell_type": "code",
   "execution_count": 6,
   "metadata": {
    "id": "8c7YrANUFBz3"
   },
   "outputs": [
    {
     "name": "stdout",
     "output_type": "stream",
     "text": [
      "/Users/Svetlana/Documents/Обучение/CompLinguistics/Python/CompLing/Homework/Done_Hw1.ipynb существует\n",
      "/Users/Svetlana/Documents/Обучение/CompLinguistics/Python/CompLing/Homework/Done_Hw1.ipynb — это файл\n"
     ]
    }
   ],
   "source": [
    "path = '/Users/Svetlana/Documents/Обучение/CompLinguistics/Python/CompLing/Homework/Done_Hw1.ipynb' # ваша папка\n",
    "# path = 'simple_data'\n",
    "\n",
    "if os.path.exists(path):\n",
    "    print(path, 'существует')\n",
    "    if os.path.isfile(path):\n",
    "        print(path, '— это файл')\n",
    "    elif os.path.isdir(path):\n",
    "        print(path, '— это папка')\n",
    "    else:\n",
    "        print(path, '— это не файл и не папка')\n",
    "else:\n",
    "    print(path, 'не существует')"
   ]
  },
  {
   "cell_type": "markdown",
   "metadata": {
    "id": "-egpfPwRIJmJ"
   },
   "source": [
    "#  3. Манипуляции с файлами и папками\n",
    "Производите все манипуляции с файлами с осторожностью"
   ]
  },
  {
   "cell_type": "markdown",
   "metadata": {
    "id": "MrNZDeiLIXlV"
   },
   "source": [
    "## Создание файла\n",
    "Для создания пустого файла достаточно открыть несуществующий файл с флагом `'x'`:"
   ]
  },
  {
   "cell_type": "code",
   "execution_count": 92,
   "metadata": {
    "id": "fltQc9deFjPk"
   },
   "outputs": [],
   "source": [
    "with open('/Users/Svetlana/Documents/Обучение/CompLinguistics/Python/CompLing/Classes/5/empty.txt', 'x'): # есть и другие режимы, но о них позднее: 'r', 'w', 'a' \n",
    "    pass # не делает ничего"
   ]
  },
  {
   "cell_type": "code",
   "execution_count": 14,
   "metadata": {
    "id": "dZoncpuZIcdm"
   },
   "outputs": [
    {
     "name": "stdout",
     "output_type": "stream",
     "text": [
      "['empty.txt']\n"
     ]
    }
   ],
   "source": [
    "print(os.listdir('/Users/Svetlana/Documents/Обучение/CompLinguistics/Python/CompLing/Classes/5')) # проверим, что файл появился"
   ]
  },
  {
   "cell_type": "markdown",
   "metadata": {
    "id": "OzrBO23tJAJD"
   },
   "source": [
    "## Создание папки\n",
    "Для создания новой папки используйте `os.mkdir(name)`. Эта функция выдаст ошибку, если по указанному пути уже существует файл или папка. "
   ]
  },
  {
   "cell_type": "code",
   "execution_count": 15,
   "metadata": {
    "id": "boaoWXACI55C"
   },
   "outputs": [],
   "source": [
    "os.mkdir('/Users/Svetlana/Documents/Обучение/CompLinguistics/Python/CompLing/Classes/4/nice new folder')"
   ]
  },
  {
   "cell_type": "code",
   "execution_count": 16,
   "metadata": {
    "id": "Pkm6nKsaJGAn"
   },
   "outputs": [
    {
     "name": "stdout",
     "output_type": "stream",
     "text": [
      "True\n"
     ]
    }
   ],
   "source": [
    "print(os.path.isdir('/Users/Svetlana/Documents/Обучение/CompLinguistics/Python/CompLing/Classes/5/nice new folder'))"
   ]
  },
  {
   "cell_type": "markdown",
   "metadata": {
    "id": "85HJiTysTA1Q"
   },
   "source": [
    "Если вам нужно создать сразу несколько вложенных папок, то смотрите функцию [`os.makedirs()`](https://docs.python.org/3/library/os.html#os.makedirs)."
   ]
  },
  {
   "cell_type": "code",
   "execution_count": 21,
   "metadata": {
    "id": "-Zb5abMFTCmR"
   },
   "outputs": [],
   "source": [
    "os.makedirs(os.path.join('/Users/Svetlana/Documents/Обучение/CompLinguistics/Python/CompLing/Classes/5/some_folder_2','subfolder1','subfolder2', 'subdolder3'))"
   ]
  },
  {
   "cell_type": "code",
   "execution_count": 22,
   "metadata": {
    "id": "Vht2WXNqHF4_"
   },
   "outputs": [
    {
     "name": "stdout",
     "output_type": "stream",
     "text": [
      "['empty.txt', 'some_folder_2', 'nice new folder']\n"
     ]
    }
   ],
   "source": [
    "print(os.listdir('/Users/Svetlana/Documents/Обучение/CompLinguistics/Python/CompLing/Classes/5')) # проверим, что папки появились"
   ]
  },
  {
   "cell_type": "code",
   "execution_count": 23,
   "metadata": {
    "id": "J7kBNFtaKSll"
   },
   "outputs": [
    {
     "name": "stdout",
     "output_type": "stream",
     "text": [
      "['subfolder', 'subfolder1']\n",
      "[('/Users/Svetlana/Documents/Обучение/CompLinguistics/Python/CompLing/Classes/5/some_folder_2', ['subfolder', 'subfolder1'], []), ('/Users/Svetlana/Documents/Обучение/CompLinguistics/Python/CompLing/Classes/5/some_folder_2/subfolder', ['subfolder'], []), ('/Users/Svetlana/Documents/Обучение/CompLinguistics/Python/CompLing/Classes/5/some_folder_2/subfolder/subfolder', ['subdolder'], []), ('/Users/Svetlana/Documents/Обучение/CompLinguistics/Python/CompLing/Classes/5/some_folder_2/subfolder/subfolder/subdolder', [], []), ('/Users/Svetlana/Documents/Обучение/CompLinguistics/Python/CompLing/Classes/5/some_folder_2/subfolder1', ['subfolder2'], []), ('/Users/Svetlana/Documents/Обучение/CompLinguistics/Python/CompLing/Classes/5/some_folder_2/subfolder1/subfolder2', ['subdolder3'], []), ('/Users/Svetlana/Documents/Обучение/CompLinguistics/Python/CompLing/Classes/5/some_folder_2/subfolder1/subfolder2/subdolder3', [], [])]\n"
     ]
    }
   ],
   "source": [
    "print(os.listdir('/Users/Svetlana/Documents/Обучение/CompLinguistics/Python/CompLing/Classes/5/some_folder_2')) # проверим, что папки появились\n",
    "print(list(os.walk('/Users/Svetlana/Documents/Обучение/CompLinguistics/Python/CompLing/Classes/5/some_folder_2'))) # перечисляет все папки от топа вниз, в виде кортежа"
   ]
  },
  {
   "cell_type": "code",
   "execution_count": null,
   "metadata": {},
   "outputs": [],
   "source": []
  },
  {
   "cell_type": "markdown",
   "metadata": {
    "id": "TrAW7SSIJUCN"
   },
   "source": [
    "## Перемещение и переименование\n",
    "Для удобной манипуляции с файлами и папками в стандартной библиотеке Python существует специальный модуль [`shutil`](https://pythonworld.ru/moduli/modul-shutil.html)."
   ]
  },
  {
   "cell_type": "code",
   "execution_count": 27,
   "metadata": {
    "id": "EusmD-VlJj22"
   },
   "outputs": [],
   "source": [
    "import shutil"
   ]
  },
  {
   "cell_type": "code",
   "execution_count": 28,
   "metadata": {
    "id": "88IgX4uJ3Cb6"
   },
   "outputs": [
    {
     "name": "stdout",
     "output_type": "stream",
     "text": [
      "[]\n"
     ]
    }
   ],
   "source": [
    "print(os.listdir('/Users/Svetlana/Documents/Обучение/CompLinguistics/Python/CompLing/Classes/5/nice new folder'))"
   ]
  },
  {
   "cell_type": "markdown",
   "metadata": {
    "id": "nR1z_Is7JiiF"
   },
   "source": [
    "Функция `shutil.move(source, destination)` позволяет вам переместить любой файл или папку (даже непустую). Обратите внимание, что если `destination` — это уже существующая папка, то файл/папка будет перемещена внутрь неё, в остальных случаях файл/папка будут скопированы точно по нужному адресу. В случае успеха, функция вернёт новое местоположение файла. Если `destination` существует и не является папкой, то будет выброшена ошибка."
   ]
  },
  {
   "cell_type": "code",
   "execution_count": 32,
   "metadata": {
    "id": "tGZI3_70JM8r"
   },
   "outputs": [
    {
     "data": {
      "text/plain": [
       "'/Users/Svetlana/Documents/Обучение/CompLinguistics/Python/CompLing/Classes/5/nice new folder/empty.txt'"
      ]
     },
     "execution_count": 32,
     "metadata": {},
     "output_type": "execute_result"
    }
   ],
   "source": [
    "shutil.move('/Users/Svetlana/Documents/Обучение/CompLinguistics/Python/CompLing/Classes/5/empty.txt', '/Users/Svetlana/Documents/Обучение/CompLinguistics/Python/CompLing/Classes/5/nice new folder')"
   ]
  },
  {
   "cell_type": "code",
   "execution_count": 34,
   "metadata": {
    "id": "46MIZ7uqHQuX"
   },
   "outputs": [
    {
     "name": "stdout",
     "output_type": "stream",
     "text": [
      "['some_folder_2', 'nice new folder']\n",
      "['empty.txt']\n"
     ]
    }
   ],
   "source": [
    "print(os.listdir('/Users/Svetlana/Documents/Обучение/CompLinguistics/Python/CompLing/Classes/5')) # проверим, что файл появился\n",
    "print(os.listdir('/Users/Svetlana/Documents/Обучение/CompLinguistics/Python/CompLing/Classes/5/nice new folder'))"
   ]
  },
  {
   "cell_type": "markdown",
   "metadata": {
    "id": "I3gHd0qZKD2v"
   },
   "source": [
    "Перенесем файл обратно"
   ]
  },
  {
   "cell_type": "code",
   "execution_count": 51,
   "metadata": {
    "id": "JOa3YECqKEMh"
   },
   "outputs": [
    {
     "data": {
      "text/plain": [
       "'/Users/Svetlana/Documents/Обучение/CompLinguistics/Python/CompLing/Classes/5/empty.txt'"
      ]
     },
     "execution_count": 51,
     "metadata": {},
     "output_type": "execute_result"
    }
   ],
   "source": [
    "shutil.move(os.path.join('/Users/Svetlana/Documents/Обучение/CompLinguistics/Python/CompLing/Classes/5/nice new folder', 'empty.txt'), '/Users/Svetlana/Documents/Обучение/CompLinguistics/Python/CompLing/Classes/5') # '.' - помести на уровень выше\n",
    "# '..' - помести на 2 уровня выше - не работает в юпитере"
   ]
  },
  {
   "cell_type": "code",
   "execution_count": 52,
   "metadata": {
    "id": "295b10tD8xOm"
   },
   "outputs": [
    {
     "name": "stdout",
     "output_type": "stream",
     "text": [
      "['empty.txt', '.DS_Store', 'some_folder_2', 'nice new folder']\n"
     ]
    }
   ],
   "source": [
    "print(os.listdir('/Users/Svetlana/Documents/Обучение/CompLinguistics/Python/CompLing/Classes/5')) # проверим, что файл появился"
   ]
  },
  {
   "cell_type": "markdown",
   "metadata": {
    "id": "V4a6O9i0Lpes"
   },
   "source": [
    "### Переименовать файл "
   ]
  },
  {
   "cell_type": "code",
   "execution_count": 53,
   "metadata": {
    "id": "QhmFCMC8LvBn"
   },
   "outputs": [
    {
     "data": {
      "text/plain": [
       "'/Users/Svetlana/Documents/Обучение/CompLinguistics/Python/CompLing/Classes/5/full.txt'"
      ]
     },
     "execution_count": 53,
     "metadata": {},
     "output_type": "execute_result"
    }
   ],
   "source": [
    "shutil.move('/Users/Svetlana/Documents/Обучение/CompLinguistics/Python/CompLing/Classes/5/empty.txt', '/Users/Svetlana/Documents/Обучение/CompLinguistics/Python/CompLing/Classes/5/full.txt') # такое перемещение - и есть переименование"
   ]
  },
  {
   "cell_type": "code",
   "execution_count": 64,
   "metadata": {
    "id": "en8U_XvEL43R"
   },
   "outputs": [
    {
     "name": "stdout",
     "output_type": "stream",
     "text": [
      "['empty.txt', '.DS_Store', 'some_folder_2', 'nicer newer folder', 'nice new folder']\n"
     ]
    }
   ],
   "source": [
    "os.rename('/Users/Svetlana/Documents/Обучение/CompLinguistics/Python/CompLing/Classes/5/full.txt', '/Users/Svetlana/Documents/Обучение/CompLinguistics/Python/CompLing/Classes/5/empty.txt') # то же самое другим способом\n",
    "print(os.listdir('/Users/Svetlana/Documents/Обучение/CompLinguistics/Python/CompLing/Classes/5')) # проверим"
   ]
  },
  {
   "cell_type": "markdown",
   "metadata": {
    "id": "f3BDiN24MM7q"
   },
   "source": [
    "## Копирование\n",
    "Скопировать файл можно с помощью функции `shutil.copy(source, destination)`."
   ]
  },
  {
   "cell_type": "code",
   "execution_count": 65,
   "metadata": {
    "id": "3IvZJzeSMCDc"
   },
   "outputs": [
    {
     "data": {
      "text/plain": [
       "'/Users/Svetlana/Documents/Обучение/CompLinguistics/Python/CompLing/Classes/5/nice new folder/empty.txt'"
      ]
     },
     "execution_count": 65,
     "metadata": {},
     "output_type": "execute_result"
    }
   ],
   "source": [
    "shutil.copy('/Users/Svetlana/Documents/Обучение/CompLinguistics/Python/CompLing/Classes/5/empty.txt', '/Users/Svetlana/Documents/Обучение/CompLinguistics/Python/CompLing/Classes/5/nice new folder/empty.txt')"
   ]
  },
  {
   "cell_type": "markdown",
   "metadata": {
    "id": "I6dEm5hxOqVr"
   },
   "source": [
    "Скопировать папку для операционной системы сложнее, ведь мы всегда хотим скопировать не только папку, но и её содержимое. Для копирования папок используйте `shutil.copytree(source, destination)`. Обратите внимание, что для этой функции `destination` всегда должно быть путём конечного расположения файлов и не может быть уже существующей папкой."
   ]
  },
  {
   "cell_type": "code",
   "execution_count": 66,
   "metadata": {
    "id": "w9CWbhK9OqyO"
   },
   "outputs": [
    {
     "data": {
      "text/plain": [
       "'/Users/Svetlana/Documents/Обучение/CompLinguistics/Python/CompLing/Classes/5/nicer newer folder'"
      ]
     },
     "execution_count": 66,
     "metadata": {},
     "output_type": "execute_result"
    }
   ],
   "source": [
    "shutil.copytree('/Users/Svetlana/Documents/Обучение/CompLinguistics/Python/CompLing/Classes/5/nice new folder', '/Users/Svetlana/Documents/Обучение/CompLinguistics/Python/CompLing/Classes/5/nicer newer folder')"
   ]
  },
  {
   "cell_type": "code",
   "execution_count": 68,
   "metadata": {
    "id": "DkBCWzyi6E74"
   },
   "outputs": [
    {
     "name": "stdout",
     "output_type": "stream",
     "text": [
      "['empty.txt', '.DS_Store']\n"
     ]
    }
   ],
   "source": [
    "print(os.listdir('/Users/Svetlana/Documents/Обучение/CompLinguistics/Python/CompLing/Classes/5/nicer newer folder'))"
   ]
  },
  {
   "cell_type": "code",
   "execution_count": 78,
   "metadata": {
    "id": "KuJc5b1n59DZ"
   },
   "outputs": [
    {
     "data": {
      "text/plain": [
       "'5/nicer newer folder/empty.txt'"
      ]
     },
     "execution_count": 78,
     "metadata": {},
     "output_type": "execute_result"
    }
   ],
   "source": [
    "shutil.move('5/nice new folder/empty.txt',  '5/nicer newer folder/empty.txt')"
   ]
  },
  {
   "cell_type": "code",
   "execution_count": 79,
   "metadata": {
    "id": "2ZEI712V6N0q"
   },
   "outputs": [],
   "source": [
    "with open('5/nicer newer folder/empty.txt', 'w') as openfile: # самый важный синтаксис на сегодня! \n",
    "    openfile.write('Hello!')    щзуташдуюцкшеу(эРуддщ!э)\n",
    "\n",
    "\n",
    "# openfile = open('nicer newer folder/empty.txt', 'w')"
   ]
  },
  {
   "cell_type": "code",
   "execution_count": 80,
   "metadata": {
    "id": "ZyiWEKEe6z5E"
   },
   "outputs": [
    {
     "name": "stdout",
     "output_type": "stream",
     "text": [
      "Hello!\n"
     ]
    }
   ],
   "source": [
    "with open('5/nicer newer folder/empty.txt', 'r') as f:\n",
    "    print(f.read())"
   ]
  },
  {
   "cell_type": "code",
   "execution_count": 81,
   "metadata": {
    "id": "Z8un-Q9566UT"
   },
   "outputs": [
    {
     "data": {
      "text/plain": [
       "'5/nicer newer folder/empty.txt'"
      ]
     },
     "execution_count": 81,
     "metadata": {},
     "output_type": "execute_result"
    }
   ],
   "source": [
    "shutil.move('5/empty.txt', '5/nicer newer folder/empty.txt')"
   ]
  },
  {
   "cell_type": "markdown",
   "metadata": {
    "id": "dirqlclnPH44"
   },
   "source": [
    "## Удаление\n",
    "Удалить файл можно с помощью функции `os.remove`, а пустую папку с помощью функции `os.rmdir`.\n",
    "\n",
    "А вот для удаления папки с содержимым вновь понадобится `shutil`. Для удаления такой папки используйте `shutil.rmtree`.\n",
    "\n",
    "Будьте осторожны, команды удаления стирают файл, а не перемещают его в корзину, вне зависимости от операционной системы! После такого удаления восстановить файл может быть сложно или вовсе невозможно.\n",
    "\n"
   ]
  },
  {
   "cell_type": "code",
   "execution_count": 85,
   "metadata": {
    "id": "TDSfTzATPzn8"
   },
   "outputs": [],
   "source": [
    "os.remove('5/nicer newer folder/empty.txt')"
   ]
  },
  {
   "cell_type": "code",
   "execution_count": 84,
   "metadata": {
    "id": "tgoNSvpr7f96"
   },
   "outputs": [
    {
     "data": {
      "text/plain": [
       "['empty.txt', '.DS_Store']"
      ]
     },
     "execution_count": 84,
     "metadata": {},
     "output_type": "execute_result"
    }
   ],
   "source": [
    "os.listdir('5/nicer newer folder')"
   ]
  },
  {
   "cell_type": "code",
   "execution_count": 94,
   "metadata": {},
   "outputs": [],
   "source": [
    "os.remove('5/nicer newer folder/.DS_Store')"
   ]
  },
  {
   "cell_type": "code",
   "execution_count": 95,
   "metadata": {},
   "outputs": [
    {
     "data": {
      "text/plain": [
       "[]"
      ]
     },
     "execution_count": 95,
     "metadata": {},
     "output_type": "execute_result"
    }
   ],
   "source": [
    "os.listdir('5/nicer newer folder')"
   ]
  },
  {
   "cell_type": "code",
   "execution_count": 87,
   "metadata": {
    "id": "cdcCJLeSP5gy"
   },
   "outputs": [
    {
     "ename": "PermissionError",
     "evalue": "[Errno 1] Operation not permitted: '5/nice new folder'",
     "output_type": "error",
     "traceback": [
      "\u001b[0;31m---------------------------------------------------------------------------\u001b[0m",
      "\u001b[0;31mPermissionError\u001b[0m                           Traceback (most recent call last)",
      "Input \u001b[0;32mIn [87]\u001b[0m, in \u001b[0;36m<cell line: 1>\u001b[0;34m()\u001b[0m\n\u001b[0;32m----> 1\u001b[0m \u001b[43mos\u001b[49m\u001b[38;5;241;43m.\u001b[39;49m\u001b[43mremove\u001b[49m\u001b[43m(\u001b[49m\u001b[38;5;124;43m'\u001b[39;49m\u001b[38;5;124;43m5/nice new folder\u001b[39;49m\u001b[38;5;124;43m'\u001b[39;49m\u001b[43m)\u001b[49m\n",
      "\u001b[0;31mPermissionError\u001b[0m: [Errno 1] Operation not permitted: '5/nice new folder'"
     ]
    }
   ],
   "source": [
    "os.remove('5/nice new folder') # не сработает"
   ]
  },
  {
   "cell_type": "code",
   "execution_count": 98,
   "metadata": {
    "id": "RmkBAO7g7n0l"
   },
   "outputs": [],
   "source": [
    "os.rmdir('5/nicer newer folder')"
   ]
  },
  {
   "cell_type": "code",
   "execution_count": 91,
   "metadata": {
    "id": "mrAVg6IG_wr6"
   },
   "outputs": [
    {
     "data": {
      "text/plain": [
       "['.DS_Store']"
      ]
     },
     "execution_count": 91,
     "metadata": {},
     "output_type": "execute_result"
    }
   ],
   "source": [
    "os.listdir('5/nice new folder')"
   ]
  },
  {
   "cell_type": "markdown",
   "metadata": {
    "id": "XAc3wa8LPkHs"
   },
   "source": [
    "## Смена рабочей папки"
   ]
  },
  {
   "cell_type": "markdown",
   "metadata": {
    "id": "eYWa8zDYQ-TG"
   },
   "source": [
    "Посмотреть путь к папке, где сейчас работает наш питон: "
   ]
  },
  {
   "cell_type": "code",
   "execution_count": 44,
   "metadata": {
    "colab": {
     "base_uri": "https://localhost:8080/"
    },
    "id": "5KihOjDcPmID",
    "outputId": "edc11926-5928-4d41-93aa-2fba4713585e"
   },
   "outputs": [
    {
     "name": "stdout",
     "output_type": "stream",
     "text": [
      "/Users/Svetlana/Downloads\n"
     ]
    }
   ],
   "source": [
    "print(os.getcwd())"
   ]
  },
  {
   "cell_type": "markdown",
   "metadata": {
    "id": "IcVDWzSkRPUq"
   },
   "source": [
    "Поменять ее на другую можно с помощью "
   ]
  },
  {
   "cell_type": "code",
   "execution_count": 72,
   "metadata": {
    "id": "4YTzrKvjA-Ks"
   },
   "outputs": [],
   "source": [
    "os.chdir('/Users/Svetlana/Documents/Обучение/CompLinguistics/Python/CompLing/Classes') # сменим"
   ]
  },
  {
   "cell_type": "code",
   "execution_count": 73,
   "metadata": {
    "id": "heVoPAMUBKEL"
   },
   "outputs": [
    {
     "name": "stdout",
     "output_type": "stream",
     "text": [
      "['.DS_Store', '1', '5']\n"
     ]
    }
   ],
   "source": [
    "print(os.listdir())"
   ]
  },
  {
   "cell_type": "code",
   "execution_count": 75,
   "metadata": {
    "id": "Km03ntw5QhjD"
   },
   "outputs": [
    {
     "data": {
      "text/plain": [
       "'/Users/Svetlana/Documents/Обучение/CompLinguistics/Python/CompLing/Classes'"
      ]
     },
     "execution_count": 75,
     "metadata": {},
     "output_type": "execute_result"
    }
   ],
   "source": [
    "os.chdir('/Users/Svetlana/Documents/Обучение/CompLinguistics/Python/CompLing/Classes') # сменим обратно\n",
    "os.getcwd()"
   ]
  },
  {
   "cell_type": "code",
   "execution_count": 76,
   "metadata": {
    "id": "AeuBG-ogBcAJ"
   },
   "outputs": [
    {
     "name": "stdout",
     "output_type": "stream",
     "text": [
      "['.DS_Store', '1', '5']\n"
     ]
    }
   ],
   "source": [
    "print(os.listdir())"
   ]
  },
  {
   "cell_type": "code",
   "execution_count": 99,
   "metadata": {},
   "outputs": [
    {
     "data": {
      "text/plain": [
       "'/Users/Svetlana/Documents/Обучение/CompLinguistics/Python/CompLing/Classes'"
      ]
     },
     "execution_count": 99,
     "metadata": {},
     "output_type": "execute_result"
    }
   ],
   "source": [
    "os.getcwd()"
   ]
  },
  {
   "cell_type": "markdown",
   "metadata": {
    "id": "mBdS-5uveiwO"
   },
   "source": [
    "## Подключить папки со своего Google Диск"
   ]
  },
  {
   "cell_type": "code",
   "execution_count": null,
   "metadata": {
    "colab": {
     "base_uri": "https://localhost:8080/"
    },
    "id": "qELh_h4mYlwO",
    "outputId": "95fd4051-2a6f-48b7-9a70-e0fc037f71cd"
   },
   "outputs": [
    {
     "name": "stdout",
     "output_type": "stream",
     "text": [
      "Mounted at /content/drive\n"
     ]
    }
   ],
   "source": [
    "from google.colab import drive\n",
    "drive.mount('/content/drive')"
   ]
  },
  {
   "cell_type": "code",
   "execution_count": null,
   "metadata": {
    "id": "eqg8ATHhkU16"
   },
   "outputs": [],
   "source": [
    "os.listdir('drive/MyDrive') # посмотрим на Google Диск!"
   ]
  },
  {
   "cell_type": "code",
   "execution_count": null,
   "metadata": {
    "id": "KdNaHwTJUKgF"
   },
   "outputs": [],
   "source": [
    "# менять название папки можно\n",
    "FOLDER = \"Ваша папка\" # Соединить Python и конретную папку\n",
    "PATH = \"drive/MyDrive/\" + FOLDER  + \"/\"\n",
    "from google.colab import drive\n",
    "drive.mount('/content/drive')\n",
    "import sys\n",
    "sys.path.append(PATH)"
   ]
  },
  {
   "cell_type": "code",
   "execution_count": null,
   "metadata": {
    "id": "Af1jGRZTU_6e"
   },
   "outputs": [],
   "source": [
    "# Можно не указывать папку, путь - весь Диск\n",
    "PATH = \"/content/drive/MyDrive/\"\n",
    "from google.colab import drive\n",
    "drive.mount('/content/drive')"
   ]
  },
  {
   "cell_type": "code",
   "execution_count": null,
   "metadata": {
    "id": "p8MIZzwlQYi7"
   },
   "outputs": [],
   "source": [
    "# бонус для колаба\n",
    "from google.colab import files #строка импорта\n",
    "files.upload() # откроется окно загрузки"
   ]
  },
  {
   "cell_type": "markdown",
   "metadata": {
    "id": "Ll3kY-ylXyik"
   },
   "source": [
    "# Работа с файлами"
   ]
  },
  {
   "cell_type": "code",
   "execution_count": 9,
   "metadata": {
    "id": "VvCaJDZcX1f4"
   },
   "outputs": [],
   "source": [
    "with open(\"city_smells.txt\", \"r\") as file: # воспользуемся встроенной функцией open()\n",
    "    pass"
   ]
  },
  {
   "cell_type": "markdown",
   "metadata": {
    "id": "5tIAfpQ8Xxve"
   },
   "source": [
    "давайте посмотрим на аргументы функции: \n",
    "* первый = путь к файлу, который хотим открыть.\n",
    "\n",
    "* второй аргумент - необязательный, это режим открытия файла: для чтения, записи, дозаписи, все вместе и тд. (по умолчанию - чтение, 'r')\n",
    "\n",
    "\n",
    "<div class=\"table-wrapper\"><table border=\"1\" class=\"docutils\"><tbody valign=\"top\"><tr><td>Режим</td><td>Обозначение</td></tr><tr><td>'r'</td><td>открытие на чтение (является значением по умолчанию).</td></tr><tr><td>'w'</td><td>открытие на запись, содержимое файла удаляется, если файла не существует, создается новый.</td></tr><tr><td>'x'</td><td>открытие на запись, если файла не существует, иначе исключение.</td></tr><tr><td>'a'</td><td>открытие на дозапись, информация добавляется в конец файла.</td></tr><tr><td>'b'</td><td>открытие в двоичном режиме.</td></tr><tr><td>'t'</td><td>открытие в текстовом режиме (является значением по умолчанию).</td></tr><tr><td>'+'</td><td>открытие на чтение и запись</td></tr></tbody></table></div>\n",
    "\n",
    "\n",
    "Режимы могут быть объединены: например,'ra' - открытие для чтения и  дозаписи.\n",
    "\n",
    "Последний аргумент (опциональный, его можно не указывать), encoding, нужен только в текстовом режиме чтения файла. Этот аргумент задает кодировку. Чтобы стандантные .txt-файлы читались без проблем, ставим ```encoding = utf-8```\n",
    "\n",
    "\n",
    "Мы открыли файл с режимом для чтения (пока еще не читали его), сохранили в переменную значение. Давайте прочтем содержимое. Читать тоже можно несколькими методами: \n",
    "* .read()\n",
    "* .readline()\n",
    "* .readlines()\n",
    "\n",
    "\n"
   ]
  },
  {
   "cell_type": "code",
   "execution_count": 6,
   "metadata": {},
   "outputs": [],
   "source": [
    "import os"
   ]
  },
  {
   "cell_type": "code",
   "execution_count": 7,
   "metadata": {},
   "outputs": [],
   "source": [
    "os.chdir('/Users/Svetlana/Documents/Обучение/CompLinguistics/Python/CompLing/Classes')"
   ]
  },
  {
   "cell_type": "code",
   "execution_count": 10,
   "metadata": {
    "id": "Jq7a4_aiY5hN"
   },
   "outputs": [],
   "source": [
    "with open(\"city_smells.txt\", \"r\", encoding='utf-8') as file:\n",
    "    file.read()\n",
    "    # file.readline()\n",
    "    # file.readlines()"
   ]
  },
  {
   "cell_type": "code",
   "execution_count": 11,
   "metadata": {
    "colab": {
     "base_uri": "https://localhost:8080/"
    },
    "id": "wRnMrv3za8Wz",
    "outputId": "4f363f31-ddea-415c-b11b-8db493682604"
   },
   "outputs": [
    {
     "name": "stdout",
     "output_type": "stream",
     "text": [
      "<_io.TextIOWrapper name='city_smells.txt' mode='r' encoding='utf-8'>\n"
     ]
    }
   ],
   "source": [
    "print(file) # мы создали текстовое представление файла, но вывести его на экран нужно другим способом через print"
   ]
  },
  {
   "cell_type": "code",
   "execution_count": 15,
   "metadata": {},
   "outputs": [
    {
     "name": "stdout",
     "output_type": "stream",
     "text": [
      "['Помните запах свежевыпеченного хлеба на дождливой улочке из той булочной, в которую вы заходили в прошлом месяце?\\n', 'А как он смешался с запахом смолотого кофе?\\n', 'А запах свежескошенной травы в парке освежающим вечером после жаркого дня?\\n', 'Запахи ежеминутно сопровождают нас в городе, но они мимолетны и невидимы, поэтому часто ускользают от внимания урбанистов и исследователей городской среды.\\n', 'Группа ученых из разных университетов мира в рамках проекта Smelly Maps решила исправить эту несправедливость и занялась исследованием городских запахов.\\n', 'Самый первый и важный вопрос, с которым они столкнулись — откуда брать данные для работы? Один из очевидных ответов — собирать данные на месте при помощи так называемых «smell walks».\\n', 'Принцип прост: группа добровольцев идет по маршруту и записывает все запахи, которые чувствует по пути, отмечая конкретные места на карте.\\n', 'На основе таких прогулок и нескольких исследований был составлен «словарь запахов», который состоял из всех слов, которыми добровольцы описывали запахи во время прогулки.\\n', 'Просто, эффективно и дешево.\\n', 'Но у такого метода есть недостатки: на обход даже небольшого города несколько десятков добровольцев потратит очень много времени, а если мы хотим еще и рассмотреть динамику, этот способ не подходит совсем.\\n', 'Остается обратиться к добровольно собираемым и публикуемым в сети большим данным, а именно к данным социальных сетей.\\n', 'Взять 17 миллионов фотографий из Flickr, 5.1 миллиона снимков из публичных аккаунтов Instagram и 5.3 миллиона твитов из Твиттера, каждый из которых обладает геотегом — и с этим уже можно работать.\\n', 'Набор данных из Твиттера был очищен от ретвитов и ответов, после чего в сумме для анализа было готово 1.7 миллиона твитов.\\n', 'Тексты твитов и подписей к фотографиям был распарсен, и из всего массива слов были отобраны только те, которые имеют отношение к запахам.\\n', 'На основе этих данных был построен взвешенный граф связей между словами, в вершинах которого закреплены сами слова, а вес ребра соответствует количеству раз, когда эти два слова встречаются в одном тексте. Такой анализ выявил несколько четко определенных категорий запахов, например, «природные», «индустриальные», «еда», «выбросы/выхлопы», «мусор».\\n', 'Внутри категорий иногда можно было выделить подкатегории и определить самые часто встречающиеся слова-метки этой категории.\\n', 'Схему этих категорий можно увидеть ниже.\\n', 'Цвета выбраны не просто так.\\n', 'Исследователи нашли связи между запахами и цветами, преобладающими на анализируемых фотографиях.\\n', 'Запахи также связаны с негативными или позитивными эмоциями, например, категория «мусор» будет положительно коррелировать с негативными эмоциями, отвращением и печалью, но отрицательно — с радостью.\\n', '\\n', 'В современных городах существуют программы мониторинга качества воздуха, позволяющие городским службам оперативно реагировать на аномалии, а обычным горожанам следить за составом воздуха, которым они дышат. Массив данных о городских запахах сравнили и с такими данными и сделали вывод о том, что данные о более низком качестве воздуха с примесями положительно коррелируют с такими категориями, как «выбросы/выхлопы», и отрицательно — с категорией «природа».\\n', 'Такой вывод кажется логичным, но теперь он доказан научно.\\n', '\\n', 'По геотегам исследователи сделали интерактивные карты, где можно узнать, чем пахнут улицы таких городов мира, как Лондон и Барселона (два первых города, для которых были собраны и проанализированы данные).\\n', 'Есть также карты Мадрида, Рима, Милана, Нью-Йорка и еще шести крупных американских городов.\\n', 'Авторы утверждают, что список будет пополняться и дальше.\\n', '\\n', 'Для картографирования использовались открытые данные Open Street Map, внутри которых были выделены сегменты улиц от перекрестка до перекрестка, к которым были привязаны геотеги оригинальных данных.\\n', 'На странице проекта, путешествуя по интерактивным картам, можно посмотреть соотношение запахов по каждому сегменту, например, в Барселоне на улице Бальмес запах еды преобладает:\\n', '\\n', 'Вместе запахи складываются в комплексный и сложный ландшафт, уникальный для каждого города, и он нуждается в исследовании так же, как и ландшафт визуальный или звуковой.\\n', 'Кстати, по запросу от авторов можно получить также данные, на которых основывался проект, если есть желание исследовать их самостоятельно.\\n', '\\n', 'Источники:\\n', 'Страница проекта Smelly Maps\\n', 'Интерактивные карты проекта\\n', 'Нелли Бурцева\\n']\n"
     ]
    }
   ],
   "source": [
    "with open(\"city_smells.txt\", \"r\", encoding='utf-8') as file:\n",
    "    # print(file.read())\n",
    "    # print(file.readline())\n",
    "    print(file.readlines())"
   ]
  },
  {
   "cell_type": "code",
   "execution_count": 12,
   "metadata": {
    "id": "FVXg_BJ9cWRs"
   },
   "outputs": [
    {
     "name": "stdout",
     "output_type": "stream",
     "text": [
      "Помните запах свежевыпеченного хлеба на дождливой улочке из той булочной, в которую вы заходили в прошлом месяце?\n",
      "А как он смешался с запахом смолотого кофе?\n",
      "А запах свежескошенной травы в парке освежающим вечером после жаркого дня?\n",
      "Запахи ежеминутно сопровождают нас в городе, но они мимолетны и невидимы, поэтому часто ускользают от внимания урбанистов и исследователей городской среды.\n",
      "Группа ученых из разных университетов мира в рамках проекта Smelly Maps решила исправить эту несправедливость и занялась исследованием городских запахов.\n",
      "Самый первый и важный вопрос, с которым они столкнулись — откуда брать данные для работы? Один из очевидных ответов — собирать данные на месте при помощи так называемых «smell walks».\n",
      "Принцип прост: группа добровольцев идет по маршруту и записывает все запахи, которые чувствует по пути, отмечая конкретные места на карте.\n",
      "На основе таких прогулок и нескольких исследований был составлен «словарь запахов», который состоял из всех слов, которыми добровольцы описывали запахи во время прогулки.\n",
      "Просто, эффективно и дешево.\n",
      "Но у такого метода есть недостатки: на обход даже небольшого города несколько десятков добровольцев потратит очень много времени, а если мы хотим еще и рассмотреть динамику, этот способ не подходит совсем.\n",
      "Остается обратиться к добровольно собираемым и публикуемым в сети большим данным, а именно к данным социальных сетей.\n",
      "Взять 17 миллионов фотографий из Flickr, 5.1 миллиона снимков из публичных аккаунтов Instagram и 5.3 миллиона твитов из Твиттера, каждый из которых обладает геотегом — и с этим уже можно работать.\n",
      "Набор данных из Твиттера был очищен от ретвитов и ответов, после чего в сумме для анализа было готово 1.7 миллиона твитов.\n",
      "Тексты твитов и подписей к фотографиям был распарсен, и из всего массива слов были отобраны только те, которые имеют отношение к запахам.\n",
      "На основе этих данных был построен взвешенный граф связей между словами, в вершинах которого закреплены сами слова, а вес ребра соответствует количеству раз, когда эти два слова встречаются в одном тексте. Такой анализ выявил несколько четко определенных категорий запахов, например, «природные», «индустриальные», «еда», «выбросы/выхлопы», «мусор».\n",
      "Внутри категорий иногда можно было выделить подкатегории и определить самые часто встречающиеся слова-метки этой категории.\n",
      "Схему этих категорий можно увидеть ниже.\n",
      "Цвета выбраны не просто так.\n",
      "Исследователи нашли связи между запахами и цветами, преобладающими на анализируемых фотографиях.\n",
      "Запахи также связаны с негативными или позитивными эмоциями, например, категория «мусор» будет положительно коррелировать с негативными эмоциями, отвращением и печалью, но отрицательно — с радостью.\n",
      "\n",
      "В современных городах существуют программы мониторинга качества воздуха, позволяющие городским службам оперативно реагировать на аномалии, а обычным горожанам следить за составом воздуха, которым они дышат. Массив данных о городских запахах сравнили и с такими данными и сделали вывод о том, что данные о более низком качестве воздуха с примесями положительно коррелируют с такими категориями, как «выбросы/выхлопы», и отрицательно — с категорией «природа».\n",
      "Такой вывод кажется логичным, но теперь он доказан научно.\n",
      "\n",
      "По геотегам исследователи сделали интерактивные карты, где можно узнать, чем пахнут улицы таких городов мира, как Лондон и Барселона (два первых города, для которых были собраны и проанализированы данные).\n",
      "Есть также карты Мадрида, Рима, Милана, Нью-Йорка и еще шести крупных американских городов.\n",
      "Авторы утверждают, что список будет пополняться и дальше.\n",
      "\n",
      "Для картографирования использовались открытые данные Open Street Map, внутри которых были выделены сегменты улиц от перекрестка до перекрестка, к которым были привязаны геотеги оригинальных данных.\n",
      "На странице проекта, путешествуя по интерактивным картам, можно посмотреть соотношение запахов по каждому сегменту, например, в Барселоне на улице Бальмес запах еды преобладает:\n",
      "\n",
      "Вместе запахи складываются в комплексный и сложный ландшафт, уникальный для каждого города, и он нуждается в исследовании так же, как и ландшафт визуальный или звуковой.\n",
      "Кстати, по запросу от авторов можно получить также данные, на которых основывался проект, если есть желание исследовать их самостоятельно.\n",
      "\n",
      "Источники:\n",
      "Страница проекта Smelly Maps\n",
      "Интерактивные карты проекта\n",
      "Нелли Бурцева\n"
     ]
    }
   ],
   "source": [
    "# 2 вариант:\n",
    "with open(\"city_smells.txt\", \"r\", encoding='utf-8') as file:\n",
    "    for i in file: # перебор по строкам\n",
    "      print(i.strip())"
   ]
  },
  {
   "cell_type": "code",
   "execution_count": 16,
   "metadata": {
    "id": "9nYYrkq8bdbk"
   },
   "outputs": [
    {
     "name": "stdout",
     "output_type": "stream",
     "text": [
      "Помните запах свежевыпеченного хлеба на дождливой улочке из той булочной, в которую вы заходили в прошлом месяце?\n",
      "А как он смешался с запахом смолотого кофе?\n",
      "А запах свежескошенной травы в парке освежающим вечером после жаркого дня?\n",
      "Запахи ежеминутно сопровождают нас в городе, но они мимолетны и невидимы, поэтому часто ускользают от внимания урбанистов и исследователей городской среды.\n",
      "Группа ученых из разных университетов мира в рамках проекта Smelly Maps решила исправить эту несправедливость и занялась исследованием городских запахов.\n",
      "Самый первый и важный вопрос, с которым они столкнулись — откуда брать данные для работы? Один из очевидных ответов — собирать данные на месте при помощи так называемых «smell walks».\n",
      "Принцип прост: группа добровольцев идет по маршруту и записывает все запахи, которые чувствует по пути, отмечая конкретные места на карте.\n",
      "На основе таких прогулок и нескольких исследований был составлен «словарь запахов», который состоял из всех слов, которыми добровольцы описывали запахи во время прогулки.\n",
      "Просто, эффективно и дешево.\n",
      "Но у такого метода есть недостатки: на обход даже небольшого города несколько десятков добровольцев потратит очень много времени, а если мы хотим еще и рассмотреть динамику, этот способ не подходит совсем.\n",
      "Остается обратиться к добровольно собираемым и публикуемым в сети большим данным, а именно к данным социальных сетей.\n",
      "Взять 17 миллионов фотографий из Flickr, 5.1 миллиона снимков из публичных аккаунтов Instagram и 5.3 миллиона твитов из Твиттера, каждый из которых обладает геотегом — и с этим уже можно работать.\n",
      "Набор данных из Твиттера был очищен от ретвитов и ответов, после чего в сумме для анализа было готово 1.7 миллиона твитов.\n",
      "Тексты твитов и подписей к фотографиям был распарсен, и из всего массива слов были отобраны только те, которые имеют отношение к запахам.\n",
      "На основе этих данных был построен взвешенный граф связей между словами, в вершинах которого закреплены сами слова, а вес ребра соответствует количеству раз, когда эти два слова встречаются в одном тексте. Такой анализ выявил несколько четко определенных категорий запахов, например, «природные», «индустриальные», «еда», «выбросы/выхлопы», «мусор».\n",
      "Внутри категорий иногда можно было выделить подкатегории и определить самые часто встречающиеся слова-метки этой категории.\n",
      "Схему этих категорий можно увидеть ниже.\n",
      "Цвета выбраны не просто так.\n",
      "Исследователи нашли связи между запахами и цветами, преобладающими на анализируемых фотографиях.\n",
      "Запахи также связаны с негативными или позитивными эмоциями, например, категория «мусор» будет положительно коррелировать с негативными эмоциями, отвращением и печалью, но отрицательно — с радостью.\n",
      "\n",
      "В современных городах существуют программы мониторинга качества воздуха, позволяющие городским службам оперативно реагировать на аномалии, а обычным горожанам следить за составом воздуха, которым они дышат. Массив данных о городских запахах сравнили и с такими данными и сделали вывод о том, что данные о более низком качестве воздуха с примесями положительно коррелируют с такими категориями, как «выбросы/выхлопы», и отрицательно — с категорией «природа».\n",
      "Такой вывод кажется логичным, но теперь он доказан научно.\n",
      "\n",
      "По геотегам исследователи сделали интерактивные карты, где можно узнать, чем пахнут улицы таких городов мира, как Лондон и Барселона (два первых города, для которых были собраны и проанализированы данные).\n",
      "Есть также карты Мадрида, Рима, Милана, Нью-Йорка и еще шести крупных американских городов.\n",
      "Авторы утверждают, что список будет пополняться и дальше.\n",
      "\n",
      "Для картографирования использовались открытые данные Open Street Map, внутри которых были выделены сегменты улиц от перекрестка до перекрестка, к которым были привязаны геотеги оригинальных данных.\n",
      "На странице проекта, путешествуя по интерактивным картам, можно посмотреть соотношение запахов по каждому сегменту, например, в Барселоне на улице Бальмес запах еды преобладает:\n",
      "\n",
      "Вместе запахи складываются в комплексный и сложный ландшафт, уникальный для каждого города, и он нуждается в исследовании так же, как и ландшафт визуальный или звуковой.\n",
      "Кстати, по запросу от авторов можно получить также данные, на которых основывался проект, если есть желание исследовать их самостоятельно.\n",
      "\n",
      "Источники:\n",
      "Страница проекта Smelly Maps\n",
      "Интерактивные карты проекта\n",
      "Нелли Бурцева\n",
      "\n"
     ]
    }
   ],
   "source": [
    "with open(\"city_smells.txt\", \"r\", encoding='utf-8') as file:\n",
    "    print(file.read())\n",
    "    # print(file.readline())\n",
    "    # print(file.readlines())"
   ]
  },
  {
   "cell_type": "markdown",
   "metadata": {
    "id": "UyXh6-mtZS8R"
   },
   "source": [
    "Теперь попробуем создать файл и записать в него что-то:"
   ]
  },
  {
   "cell_type": "code",
   "execution_count": 17,
   "metadata": {
    "id": "QSnd0tBkY3cc"
   },
   "outputs": [],
   "source": [
    "with open('new_text.txt', 'w') as file: \n",
    "    file.write(\"hi this is a test\\n\")\n",
    "    \n",
    "# если такого файла не существовало, он создастся автоматически"
   ]
  },
  {
   "cell_type": "markdown",
   "metadata": {
    "id": "kAhWHolAZQNM"
   },
   "source": [
    "Чтобы предыдущая информация не стиралась из файла при записи, откроем с режимом \"а\" \n"
   ]
  },
  {
   "cell_type": "code",
   "execution_count": 18,
   "metadata": {
    "id": "YK1B9S_pZNO4"
   },
   "outputs": [],
   "source": [
    "with open(\"new_text.txt\", 'a', encoding='utf-8') as file: # в режиме дозаписи\n",
    "    file.write(\"new line\\n\")"
   ]
  },
  {
   "cell_type": "code",
   "execution_count": 19,
   "metadata": {
    "colab": {
     "base_uri": "https://localhost:8080/"
    },
    "id": "E4zxXYc8c5er",
    "outputId": "48d81cdd-26ad-409c-8579-9d274ca8ffcc"
   },
   "outputs": [
    {
     "name": "stdout",
     "output_type": "stream",
     "text": [
      "hi this is a test\n",
      "new line\n",
      "\n"
     ]
    }
   ],
   "source": [
    "with open(\"new_text.txt\",'r') as file: # читаем\n",
    "    print(file.read())"
   ]
  },
  {
   "cell_type": "markdown",
   "metadata": {
    "id": "S2kPte4SVb2q"
   },
   "source": [
    "# Примеры"
   ]
  },
  {
   "cell_type": "markdown",
   "metadata": {
    "id": "vIkqNo8BYEeK"
   },
   "source": [
    "В файле result.txt - список участников олимпиады\n"
   ]
  },
  {
   "cell_type": "code",
   "execution_count": 20,
   "metadata": {
    "id": "ae14ZYnhVe2D"
   },
   "outputs": [],
   "source": [
    "my_list = []\n",
    "with open('result.txt', 'r', encoding='utf-8') as f: \n",
    "  for line in f:\n",
    "    my_list.append(line.strip().split()) # список списков - удобный вариант"
   ]
  },
  {
   "cell_type": "code",
   "execution_count": 21,
   "metadata": {
    "id": "TUqDa-TKLv8N",
    "scrolled": true
   },
   "outputs": [
    {
     "name": "stdout",
     "output_type": "stream",
     "text": [
      "[['Петров', 'Василий', '3', '99'], ['Андреев', 'Роман', '14', '75'], ['Сергеев', 'Петр', '23', '74'], ['Романов', 'Иван', '27', '68'], ['Иванов', 'Сергей', '14', '56'], ['Васильев', 'Андрей', '3', '56']]\n"
     ]
    }
   ],
   "source": [
    "print(my_list)"
   ]
  },
  {
   "cell_type": "code",
   "execution_count": 22,
   "metadata": {},
   "outputs": [
    {
     "name": "stdout",
     "output_type": "stream",
     "text": [
      "[['Андреев', 'Роман', '14', '75'], ['Васильев', 'Андрей', '3', '56'], ['Иванов', 'Сергей', '14', '56'], ['Петров', 'Василий', '3', '99'], ['Романов', 'Иван', '27', '68'], ['Сергеев', 'Петр', '23', '74']]\n"
     ]
    }
   ],
   "source": [
    "print(sorted(my_list)) # по нулевому индексу"
   ]
  },
  {
   "cell_type": "code",
   "execution_count": 25,
   "metadata": {},
   "outputs": [],
   "source": [
    "new_list = sorted(my_list, key=lambda i: int(i[3]), reverse=True)"
   ]
  },
  {
   "cell_type": "code",
   "execution_count": 28,
   "metadata": {
    "id": "GoV-Sd6_M6-Q"
   },
   "outputs": [
    {
     "name": "stdout",
     "output_type": "stream",
     "text": [
      "['Петров', 'Василий', '3', '99']\n",
      "['Андреев', 'Роман', '14', '75']\n",
      "['Сергеев', 'Петр', '23', '74']\n",
      "['Романов', 'Иван', '27', '68']\n",
      "['Иванов', 'Сергей', '14', '56']\n",
      "['Васильев', 'Андрей', '3', '56']\n"
     ]
    }
   ],
   "source": [
    "new_list = sorted(my_list, key=lambda i: int(i[3]), reverse=True)\n",
    "print(*new_list, sep=\"\\n\")"
   ]
  },
  {
   "cell_type": "code",
   "execution_count": 30,
   "metadata": {
    "id": "6btoZ8AvWlSM"
   },
   "outputs": [],
   "source": [
    "new_list = sorted(my_list, key=lambda i: int(i[3]), reverse=True) # сортируем строки в списке по алфавиту, сохраняем отсортированный список в новую переменную\n",
    "with open('result_2.txt', 'w', encoding='utf-8') as f2:\n",
    "  for i in new_list:\n",
    "    print(*i, file=f2) # = .write"
   ]
  },
  {
   "cell_type": "code",
   "execution_count": 31,
   "metadata": {
    "id": "i7MVU0ZDYHSF"
   },
   "outputs": [
    {
     "name": "stdout",
     "output_type": "stream",
     "text": [
      "Петров Василий 3 99\n",
      "Андреев Роман 14 75\n",
      "Сергеев Петр 23 74\n",
      "Романов Иван 27 68\n",
      "Иванов Сергей 14 56\n",
      "Васильев Андрей 3 56\n"
     ]
    }
   ],
   "source": [
    "# проверим, что в новом файле все есть:\n",
    "with open('result_2.txt', 'r', encoding='utf-8') as f:\n",
    "  for line in f:\n",
    "    print(line.strip())"
   ]
  },
  {
   "cell_type": "markdown",
   "metadata": {
    "id": "aC7Y5RTmYL3B"
   },
   "source": [
    "Задача про анкету с занятия 2"
   ]
  },
  {
   "cell_type": "code",
   "execution_count": null,
   "metadata": {
    "id": "x3wfWwulYOc9"
   },
   "outputs": [],
   "source": [
    "name = input('Введите ваше имя: ').strip()\n",
    "age = int(input('Введите ваш возраст: ').strip())\n",
    "gender = input('Введите ваш гендер: ').strip()\n",
    "city = input('Введите ваш город: ').strip()\n",
    "work = input('Введите ваше место работы: ').strip()\n",
    "position = input('Введите вашу должность: ').strip()"
   ]
  },
  {
   "cell_type": "code",
   "execution_count": 32,
   "metadata": {
    "id": "hxUc-M58aABa"
   },
   "outputs": [
    {
     "name": "stdout",
     "output_type": "stream",
     "text": [
      "Сколько людей будет заполнять анкету? 2\n",
      "Введите ваше имя: Lana\n",
      "Введите ваш возраст: 43\n",
      "Введите ваш гендер: f\n",
      "Введите ваш город: Tel Aviv\n",
      "Введите ваше место работы: self-employed\n",
      "Введите вашу должность: owner\n",
      "Введите ваше имя: Sasha\n",
      "Введите ваш возраст: 41\n",
      "Введите ваш гендер: m\n",
      "Введите ваш город: St. Petersburg\n",
      "Введите ваше место работы: Kanzler\n",
      "Введите вашу должность: MD\n"
     ]
    }
   ],
   "source": [
    "def survey():\n",
    "  name = input('Введите ваше имя: ').strip()\n",
    "  age = input('Введите ваш возраст: ').strip()\n",
    "  gender = input('Введите ваш гендер: ').strip()\n",
    "  city = input('Введите ваш город: ').strip()\n",
    "  work = input('Введите ваше место работы: ').strip()\n",
    "  position = input('Введите вашу должность: ').strip()\n",
    "  return name, age, gender, city, work, position\n",
    "\n",
    "n = int(input('Сколько людей будет заполнять анкету? '))\n",
    "with open('survey.csv', 'a', encoding='utf-8') as f2: # не текстовый!\n",
    "  for i in range(n):\n",
    "    print(*survey(), file=f2)"
   ]
  },
  {
   "cell_type": "markdown",
   "metadata": {
    "id": "JLp18S9haNJt"
   },
   "source": [
    "Забегая вперед, быстрый способ:"
   ]
  },
  {
   "cell_type": "code",
   "execution_count": null,
   "metadata": {
    "id": "xJtTwNGJT2J0"
   },
   "outputs": [],
   "source": [
    "# !!! только для PyCharm - в терминале PyCharm запускаем сначала\n",
    "pip install pandas\n",
    "pip install openpyxl"
   ]
  },
  {
   "cell_type": "code",
   "execution_count": 2,
   "metadata": {
    "id": "9Rrrdi8VaMuW"
   },
   "outputs": [],
   "source": [
    "import pandas as pd # pandas позволяет работать с таблицами (датафреймами)"
   ]
  },
  {
   "cell_type": "code",
   "execution_count": 3,
   "metadata": {
    "id": "51v1_Aiqan6K"
   },
   "outputs": [],
   "source": [
    "num = [[1, 2], [3, 4]]"
   ]
  },
  {
   "cell_type": "code",
   "execution_count": 4,
   "metadata": {
    "id": "ZvP6pQqsaT4t"
   },
   "outputs": [],
   "source": [
    "df = pd.DataFrame(num)"
   ]
  },
  {
   "cell_type": "code",
   "execution_count": 7,
   "metadata": {
    "id": "POu08aAZaUkM"
   },
   "outputs": [],
   "source": [
    "df.to_excel('new_list.xlsx')"
   ]
  },
  {
   "cell_type": "code",
   "execution_count": null,
   "metadata": {},
   "outputs": [],
   "source": []
  },
  {
   "cell_type": "code",
   "execution_count": null,
   "metadata": {},
   "outputs": [],
   "source": []
  }
 ],
 "metadata": {
  "colab": {
   "collapsed_sections": [],
   "provenance": []
  },
  "kernelspec": {
   "display_name": "Python 3 (ipykernel)",
   "language": "python",
   "name": "python3"
  },
  "language_info": {
   "codemirror_mode": {
    "name": "ipython",
    "version": 3
   },
   "file_extension": ".py",
   "mimetype": "text/x-python",
   "name": "python",
   "nbconvert_exporter": "python",
   "pygments_lexer": "ipython3",
   "version": "3.10.1"
  }
 },
 "nbformat": 4,
 "nbformat_minor": 1
}

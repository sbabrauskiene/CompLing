{
 "cells": [
  {
   "cell_type": "markdown",
   "metadata": {},
   "source": [
    "## Морфология\n",
    "#### План семинара:\n",
    "\n",
    "1. Brute force токенизация \n",
    "2. Mystem через python\n",
    "3. Pymorphy\n",
    "4. NLTK\n",
    "\n",
    "Токенизация - это разбиение на токены. Чаще всего здесь подразумевается разделение на \"слова\", но есть также и sentence tokenization. Рассмотрим сначала токенизацию с помощью регулярок."
   ]
  },
  {
   "cell_type": "code",
   "execution_count": 1,
   "metadata": {},
   "outputs": [],
   "source": [
    "import re"
   ]
  },
  {
   "cell_type": "code",
   "execution_count": 2,
   "metadata": {},
   "outputs": [],
   "source": [
    "text = \"Но не становится ли событие тем значительнее и исключительнее,\" +\\\n",
    "\"чем большее число случайностей приводит к нему?\" +\\\n",
    "\" Лишь случайность может предстать перед нами как послание.\" +\\\n",
    "\" Все, что происходит по необходимости, что ожидаемо, что повторяется всякий день, то немо.\" +\\\n",
    "\" Лишь случайность о чем-то говорит нам. Мы стремимся прочесть ее, \" +\\\n",
    "\"как читают цыганки по узорам, начертанным кофейной гущей на дне чашки.\""
   ]
  },
  {
   "cell_type": "code",
   "execution_count": 3,
   "metadata": {},
   "outputs": [
    {
     "data": {
      "text/plain": [
       "'Но не становится ли событие тем значительнее и исключительнее,чем большее число случайностей приводит к нему? Лишь случайность может предстать перед нами как послание. Все, что происходит по необходимости, что ожидаемо, что повторяется всякий день, то немо. Лишь случайность о чем-то говорит нам. Мы стремимся прочесть ее, как читают цыганки по узорам, начертанным кофейной гущей на дне чашки.'"
      ]
     },
     "execution_count": 3,
     "metadata": {},
     "output_type": "execute_result"
    }
   ],
   "source": [
    "text"
   ]
  },
  {
   "cell_type": "code",
   "execution_count": 5,
   "metadata": {},
   "outputs": [],
   "source": [
    "# re.findall('\\W', text)"
   ]
  },
  {
   "cell_type": "code",
   "execution_count": 14,
   "metadata": {},
   "outputs": [
    {
     "name": "stdout",
     "output_type": "stream",
     "text": [
      "['Но', 'не', 'становится', 'ли', 'событие', 'тем', 'значительнее', 'и', 'исключительнее', 'чем', 'большее', 'число', 'случайностей', 'приводит', 'к', 'нему', 'Лишь', 'случайность', 'может', 'предстать', 'перед', 'нами', 'как', 'послание', 'Все', 'что', 'происходит', 'по', 'необходимости', 'что', 'ожидаемо', 'что', 'повторяется', 'всякий', 'день', 'то', 'немо', 'Лишь', 'случайность', 'о', 'чем', 'то', 'говорит', 'нам', 'Мы', 'стремимся', 'прочесть', 'ее', 'как', 'читают', 'цыганки', 'по', 'узорам', 'начертанным', 'кофейной', 'гущей', 'на', 'дне', 'чашки']\n"
     ]
    }
   ],
   "source": [
    "re_tokenization = re.sub('\\W', ' ', text).split()\n",
    "print(re_tokenization)"
   ]
  },
  {
   "cell_type": "markdown",
   "metadata": {},
   "source": [
    "Вроде, неплохо! Давайте сравним с пакетной токенизацией."
   ]
  },
  {
   "cell_type": "code",
   "execution_count": 74,
   "metadata": {},
   "outputs": [
    {
     "name": "stdout",
     "output_type": "stream",
     "text": [
      "Name: pymystem3\r\n",
      "Version: 0.2.0\r\n",
      "Summary: Python wrapper for the Yandex MyStem 3.1 morpholocial analyzer of the Russian language.\r\n",
      "Home-page: https://github.com/nlpub/pymystem3\r\n",
      "Author: Denis Sukhonin\r\n",
      "Author-email: panchenko.alexander@gmail.com\r\n",
      "License: UNKNOWN\r\n",
      "Location: /Users/marinapozidaeva/miniconda3/lib/python3.9/site-packages\r\n",
      "Requires: requests\r\n",
      "Required-by: \r\n"
     ]
    }
   ],
   "source": [
    "!pip show pymystem3"
   ]
  },
  {
   "cell_type": "markdown",
   "metadata": {},
   "source": [
    "Нужные пакеты для этого семинара:\n",
    "\n",
    "``pip install pymystem3``\n",
    "\n",
    "``pip install pymorphy2``\n",
    "\n",
    "Если вы хотите побыстрее и у вас Linux или Mac\n",
    "\n",
    "``pip install pymorphy2[fast]``\n",
    "\n",
    "``pip install nltk``"
   ]
  },
  {
   "cell_type": "markdown",
   "metadata": {},
   "source": [
    "Mystem - это свободно распространяемый морфологический анализатор для русского языка с закрытым исходным кодом.\n",
    "\n",
    "My-stem значит my stemmer, стемминг -- это разбиение формы на основу и флексию. На самом деле Mystem может гораздо больше: устанавливать словарную форму слова, определять часть речи и грамматическую форму слова. В последних версиях Mystem умеет и выбирать из нескольких возможных грамматических разборов один, наиболее верный."
   ]
  },
  {
   "cell_type": "code",
   "execution_count": 27,
   "metadata": {},
   "outputs": [],
   "source": [
    "s = 'string'"
   ]
  },
  {
   "cell_type": "code",
   "execution_count": null,
   "metadata": {},
   "outputs": [],
   "source": []
  },
  {
   "cell_type": "markdown",
   "metadata": {},
   "source": [
    "А что там на самом деле пишется? Посмотрим на последних переменных"
   ]
  },
  {
   "cell_type": "code",
   "execution_count": 88,
   "metadata": {},
   "outputs": [
    {
     "data": {
      "text/plain": [
       "'string string string'"
      ]
     },
     "execution_count": 88,
     "metadata": {},
     "output_type": "execute_result"
    }
   ],
   "source": [
    "f\"{s} {s} {s}\""
   ]
  },
  {
   "cell_type": "code",
   "execution_count": 89,
   "metadata": {},
   "outputs": [
    {
     "data": {
      "text/plain": [
       "'string'"
      ]
     },
     "execution_count": 89,
     "metadata": {},
     "output_type": "execute_result"
    }
   ],
   "source": [
    "'{}'.format(s)"
   ]
  },
  {
   "cell_type": "markdown",
   "metadata": {},
   "source": [
    "Кстати, этот способ записи называется f-string и позволяет собирать строчки по шаблону"
   ]
  },
  {
   "cell_type": "markdown",
   "metadata": {},
   "source": [
    "Это тоже можно попробовать. Для примера у нас в папке input_texts лежат нарезанные тексты Набокова Дар"
   ]
  },
  {
   "cell_type": "markdown",
   "metadata": {},
   "source": [
    "Можно запускать mystem и с помощью специального модуля, **pymystem3**. Это проще и удобнее, потому что с тем, что выдаёт mystem, можно сразу работать как с питоновскими структурами данных. Но медленнее. Иногда гораздо-гораздо медленнее, чем разметить один файл mystem'ом сразу."
   ]
  },
  {
   "cell_type": "code",
   "execution_count": 6,
   "metadata": {},
   "outputs": [],
   "source": [
    "# !pip install pymystem3"
   ]
  },
  {
   "cell_type": "code",
   "execution_count": 7,
   "metadata": {
    "scrolled": true
   },
   "outputs": [],
   "source": [
    "from pymystem3 import Mystem"
   ]
  },
  {
   "cell_type": "code",
   "execution_count": 8,
   "metadata": {},
   "outputs": [],
   "source": [
    "m = Mystem()"
   ]
  },
  {
   "cell_type": "code",
   "execution_count": 10,
   "metadata": {},
   "outputs": [
    {
     "data": {
      "text/plain": [
       "'Но не становится ли событие тем значительнее и исключительнее,чем большее число случайностей приводит к нему? Лишь случайность может предстать перед нами как послание. Все, что происходит по необходимости, что ожидаемо, что повторяется всякий день, то немо. Лишь случайность о чем-то говорит нам. Мы стремимся прочесть ее, как читают цыганки по узорам, начертанным кофейной гущей на дне чашки.'"
      ]
     },
     "execution_count": 10,
     "metadata": {},
     "output_type": "execute_result"
    }
   ],
   "source": [
    "text"
   ]
  },
  {
   "cell_type": "code",
   "execution_count": 15,
   "metadata": {},
   "outputs": [
    {
     "data": {
      "text/plain": [
       "dict"
      ]
     },
     "execution_count": 15,
     "metadata": {},
     "output_type": "execute_result"
    }
   ],
   "source": [
    "type(m.analyze(text)[4])"
   ]
  },
  {
   "cell_type": "code",
   "execution_count": 16,
   "metadata": {},
   "outputs": [
    {
     "data": {
      "text/plain": [
       "['analysis', 'text']"
      ]
     },
     "execution_count": 16,
     "metadata": {},
     "output_type": "execute_result"
    }
   ],
   "source": [
    "list(m.analyze(text)[4])"
   ]
  },
  {
   "cell_type": "code",
   "execution_count": 26,
   "metadata": {},
   "outputs": [
    {
     "data": {
      "text/plain": [
       "[{'analysis': [{'lex': 'но', 'wt': 0.9998906299, 'gr': 'CONJ='}],\n",
       "  'text': 'Но'},\n",
       " {'text': ' '},\n",
       " {'analysis': [{'lex': 'не', 'wt': 1, 'gr': 'PART='}], 'text': 'не'},\n",
       " {'text': ' '},\n",
       " {'analysis': [{'lex': 'становиться',\n",
       "    'wt': 1,\n",
       "    'gr': 'V,нп=непрош,ед,изъяв,3-л,несов'}],\n",
       "  'text': 'становится'},\n",
       " {'text': ' '},\n",
       " {'analysis': [{'lex': 'ли', 'wt': 0.7719288688, 'gr': 'PART='}],\n",
       "  'text': 'ли'},\n",
       " {'text': ' '},\n",
       " {'analysis': [{'lex': 'событие',\n",
       "    'wt': 1,\n",
       "    'gr': 'S,сред,неод=(вин,ед|им,ед)'}],\n",
       "  'text': 'событие'},\n",
       " {'text': ' '},\n",
       " {'analysis': [{'lex': 'тем', 'wt': 0.0857739759, 'gr': 'CONJ='}],\n",
       "  'text': 'тем'},\n",
       " {'text': ' '},\n",
       " {'analysis': [{'lex': 'значительный', 'wt': 0.2062520859, 'gr': 'A=срав'}],\n",
       "  'text': 'значительнее'},\n",
       " {'text': ' '},\n",
       " {'analysis': [{'lex': 'и', 'wt': 0.9999770357, 'gr': 'CONJ='}], 'text': 'и'},\n",
       " {'text': ' '},\n",
       " {'analysis': [{'lex': 'исключительный', 'wt': 1, 'gr': 'A=срав'}],\n",
       "  'text': 'исключительнее'},\n",
       " {'text': ','},\n",
       " {'analysis': [{'lex': 'чем', 'wt': 0.8023791472, 'gr': 'CONJ='}],\n",
       "  'text': 'чем'},\n",
       " {'text': ' '},\n",
       " {'analysis': [{'lex': 'больший',\n",
       "    'wt': 0.997068313,\n",
       "    'gr': 'A=(вин,ед,полн,сред|им,ед,полн,сред)'}],\n",
       "  'text': 'большее'},\n",
       " {'text': ' '},\n",
       " {'analysis': [{'lex': 'число', 'wt': 1, 'gr': 'S,сред,неод=(вин,ед|им,ед)'}],\n",
       "  'text': 'число'},\n",
       " {'text': ' '},\n",
       " {'analysis': [{'lex': 'случайность', 'wt': 1, 'gr': 'S,жен,неод=род,мн'}],\n",
       "  'text': 'случайностей'},\n",
       " {'text': ' '},\n",
       " {'analysis': [{'lex': 'приводить',\n",
       "    'wt': 1,\n",
       "    'gr': 'V=непрош,ед,изъяв,3-л,несов,пе'}],\n",
       "  'text': 'приводит'},\n",
       " {'text': ' '},\n",
       " {'analysis': [{'lex': 'к', 'wt': 0.9999551798, 'gr': 'PR='}], 'text': 'к'},\n",
       " {'text': ' '},\n",
       " {'analysis': [{'lex': 'он', 'wt': 0.9493012454, 'gr': 'SPRO,ед,3-л,муж=дат'}],\n",
       "  'text': 'нему'},\n",
       " {'text': '? '},\n",
       " {'analysis': [{'lex': 'лишь', 'wt': 0.9548535059, 'gr': 'PART='}],\n",
       "  'text': 'Лишь'},\n",
       " {'text': ' '},\n",
       " {'analysis': [{'lex': 'случайность',\n",
       "    'wt': 1,\n",
       "    'gr': 'S,жен,неод=(вин,ед|им,ед)'}],\n",
       "  'text': 'случайность'},\n",
       " {'text': ' '},\n",
       " {'analysis': [{'lex': 'мочь',\n",
       "    'wt': 0.8596381856,\n",
       "    'gr': 'V,несов,нп=непрош,ед,изъяв,3-л'}],\n",
       "  'text': 'может'},\n",
       " {'text': ' '},\n",
       " {'analysis': [{'lex': 'представать', 'wt': 1, 'gr': 'V,нп=инф,сов'}],\n",
       "  'text': 'предстать'},\n",
       " {'text': ' '},\n",
       " {'analysis': [{'lex': 'перед', 'wt': 0.9997082151, 'gr': 'PR='}],\n",
       "  'text': 'перед'},\n",
       " {'text': ' '},\n",
       " {'analysis': [{'lex': 'мы', 'wt': 0.9984246072, 'gr': 'SPRO,мн,1-л=твор'}],\n",
       "  'text': 'нами'},\n",
       " {'text': ' '},\n",
       " {'analysis': [{'lex': 'как', 'wt': 0.6102574114, 'gr': 'CONJ='}],\n",
       "  'text': 'как'},\n",
       " {'text': ' '},\n",
       " {'analysis': [{'lex': 'послание',\n",
       "    'wt': 1,\n",
       "    'gr': 'S,сред,неод=(вин,ед|им,ед)'}],\n",
       "  'text': 'послание'},\n",
       " {'text': '. '},\n",
       " {'analysis': [{'lex': 'все', 'wt': 0.1955883233, 'gr': 'SPRO,мн=(вин|им)'}],\n",
       "  'text': 'Все'},\n",
       " {'text': ', '},\n",
       " {'analysis': [{'lex': 'что', 'wt': 0.688532576, 'gr': 'CONJ='}],\n",
       "  'text': 'что'},\n",
       " {'text': ' '},\n",
       " {'analysis': [{'lex': 'происходить',\n",
       "    'wt': 1,\n",
       "    'gr': 'V,нп=непрош,ед,изъяв,3-л,несов'}],\n",
       "  'text': 'происходит'},\n",
       " {'text': ' '},\n",
       " {'analysis': [{'lex': 'по', 'wt': 1, 'gr': 'PR='}], 'text': 'по'},\n",
       " {'text': ' '},\n",
       " {'analysis': [{'lex': 'необходимость',\n",
       "    'wt': 1,\n",
       "    'gr': 'S,жен,неод=(пр,ед|вин,мн|дат,ед|род,ед|им,мн)'}],\n",
       "  'text': 'необходимости'},\n",
       " {'text': ', '},\n",
       " {'analysis': [{'lex': 'что', 'wt': 0.688532576, 'gr': 'CONJ='}],\n",
       "  'text': 'что'},\n",
       " {'text': ' '},\n",
       " {'analysis': [{'lex': 'ожидать',\n",
       "    'wt': 1,\n",
       "    'gr': 'V,несов,пе=непрош,ед,прич,кр,сред,страд'}],\n",
       "  'text': 'ожидаемо'},\n",
       " {'text': ', '},\n",
       " {'analysis': [{'lex': 'что', 'wt': 0.688532576, 'gr': 'CONJ='}],\n",
       "  'text': 'что'},\n",
       " {'text': ' '},\n",
       " {'analysis': [{'lex': 'повторяться',\n",
       "    'wt': 1,\n",
       "    'gr': 'V,нп=непрош,ед,изъяв,3-л,несов'}],\n",
       "  'text': 'повторяется'},\n",
       " {'text': ' '},\n",
       " {'analysis': [{'lex': 'всякий',\n",
       "    'wt': 0.8768909929,\n",
       "    'gr': 'APRO=(вин,ед,полн,муж,неод|им,ед,полн,муж)'}],\n",
       "  'text': 'всякий'},\n",
       " {'text': ' '},\n",
       " {'analysis': [{'lex': 'день',\n",
       "    'wt': 0.999920149,\n",
       "    'gr': 'S,муж,неод=(вин,ед|им,ед)'}],\n",
       "  'text': 'день'},\n",
       " {'text': ', '},\n",
       " {'analysis': [{'lex': 'то', 'wt': 0.3040701242, 'gr': 'CONJ='}],\n",
       "  'text': 'то'},\n",
       " {'text': ' '},\n",
       " {'analysis': [{'lex': 'немо', 'wt': 0.8256646621, 'gr': 'ADV='}],\n",
       "  'text': 'немо'},\n",
       " {'text': '. '},\n",
       " {'analysis': [{'lex': 'лишь', 'wt': 0.9548535059, 'gr': 'PART='}],\n",
       "  'text': 'Лишь'},\n",
       " {'text': ' '},\n",
       " {'analysis': [{'lex': 'случайность',\n",
       "    'wt': 1,\n",
       "    'gr': 'S,жен,неод=(вин,ед|им,ед)'}],\n",
       "  'text': 'случайность'},\n",
       " {'text': ' '},\n",
       " {'analysis': [{'lex': 'о', 'wt': 0.9737875835, 'gr': 'PR='}], 'text': 'о'},\n",
       " {'text': ' '},\n",
       " {'analysis': [{'lex': 'что-то',\n",
       "    'wt': 1,\n",
       "    'gr': 'SPRO,ед,сред,неод=(пр|твор)'}],\n",
       "  'text': 'чем-то'},\n",
       " {'text': ' '},\n",
       " {'analysis': [{'lex': 'говорить',\n",
       "    'wt': 1,\n",
       "    'gr': 'V,несов,пе=непрош,ед,изъяв,3-л'}],\n",
       "  'text': 'говорит'},\n",
       " {'text': ' '},\n",
       " {'analysis': [{'lex': 'мы', 'wt': 1, 'gr': 'SPRO,мн,1-л=дат'}],\n",
       "  'text': 'нам'},\n",
       " {'text': '. '},\n",
       " {'analysis': [{'lex': 'мы', 'wt': 1, 'gr': 'SPRO,мн,1-л=им'}], 'text': 'Мы'},\n",
       " {'text': ' '},\n",
       " {'analysis': [{'lex': 'стремиться',\n",
       "    'wt': 1,\n",
       "    'gr': 'V,несов,нп=непрош,мн,изъяв,1-л'}],\n",
       "  'text': 'стремимся'},\n",
       " {'text': ' '},\n",
       " {'analysis': [{'lex': 'прочитывать', 'wt': 1, 'gr': 'V=инф,сов'}],\n",
       "  'text': 'прочесть'},\n",
       " {'text': ' '},\n",
       " {'analysis': [{'lex': 'она',\n",
       "    'wt': 0.9999876545,\n",
       "    'gr': 'SPRO,ед,3-л,жен=(вин|род)'}],\n",
       "  'text': 'ее'},\n",
       " {'text': ', '},\n",
       " {'analysis': [{'lex': 'как', 'wt': 0.3756069802, 'gr': 'ADVPRO='}],\n",
       "  'text': 'как'},\n",
       " {'text': ' '},\n",
       " {'analysis': [{'lex': 'читать',\n",
       "    'wt': 1,\n",
       "    'gr': 'V,несов,пе=непрош,мн,изъяв,3-л'}],\n",
       "  'text': 'читают'},\n",
       " {'text': ' '},\n",
       " {'analysis': [{'lex': 'цыганка', 'wt': 1, 'gr': 'S,жен,од=(род,ед|им,мн)'}],\n",
       "  'text': 'цыганки'},\n",
       " {'text': ' '},\n",
       " {'analysis': [{'lex': 'по', 'wt': 1, 'gr': 'PR='}], 'text': 'по'},\n",
       " {'text': ' '},\n",
       " {'analysis': [{'lex': 'узор', 'wt': 1, 'gr': 'S,муж,неод=дат,мн'}],\n",
       "  'text': 'узорам'},\n",
       " {'text': ', '},\n",
       " {'analysis': [{'lex': 'начертать',\n",
       "    'wt': 1,\n",
       "    'gr': 'V,сов,пе=(прош,дат,мн,прич,полн,страд|прош,твор,ед,прич,полн,муж,страд|прош,твор,ед,прич,полн,сред,страд)'}],\n",
       "  'text': 'начертанным'},\n",
       " {'text': ' '},\n",
       " {'analysis': [{'lex': 'кофейный',\n",
       "    'wt': 1,\n",
       "    'gr': 'A=(пр,ед,полн,жен|дат,ед,полн,жен|род,ед,полн,жен|твор,ед,полн,жен)'}],\n",
       "  'text': 'кофейной'},\n",
       " {'text': ' '},\n",
       " {'analysis': [{'lex': 'гуща', 'wt': 1, 'gr': 'S,жен,неод=твор,ед'}],\n",
       "  'text': 'гущей'},\n",
       " {'text': ' '},\n",
       " {'analysis': [{'lex': 'на', 'wt': 0.9989522965, 'gr': 'PR='}], 'text': 'на'},\n",
       " {'text': ' '},\n",
       " {'analysis': [{'lex': 'дно', 'wt': 0.2480608835, 'gr': 'S,сред,неод=пр,ед'}],\n",
       "  'text': 'дне'},\n",
       " {'text': ' '},\n",
       " {'analysis': [{'lex': 'чашка',\n",
       "    'wt': 1,\n",
       "    'gr': 'S,жен,неод=(вин,мн|род,ед|им,мн)'}],\n",
       "  'text': 'чашки'},\n",
       " {'text': '.'},\n",
       " {'text': '\\n'}]"
      ]
     },
     "execution_count": 26,
     "metadata": {},
     "output_type": "execute_result"
    }
   ],
   "source": [
    "m.analyze(text) #[4]['analysis']"
   ]
  },
  {
   "cell_type": "code",
   "execution_count": 30,
   "metadata": {},
   "outputs": [
    {
     "data": {
      "text/plain": [
       "[]"
      ]
     },
     "execution_count": 30,
     "metadata": {},
     "output_type": "execute_result"
    }
   ],
   "source": [
    "[i for i in m.analyze(text) if len(i.get('analysis', [])) > 1]"
   ]
  },
  {
   "cell_type": "code",
   "execution_count": 32,
   "metadata": {},
   "outputs": [],
   "source": [
    "# [i['text'] for i in m.analyze(text)]"
   ]
  },
  {
   "cell_type": "code",
   "execution_count": 37,
   "metadata": {},
   "outputs": [
    {
     "data": {
      "text/plain": [
       "{'\\n', ' ', ',', '.', '?'}"
      ]
     },
     "execution_count": 37,
     "metadata": {},
     "output_type": "execute_result"
    }
   ],
   "source": [
    "set(' ,.\\n?')"
   ]
  },
  {
   "cell_type": "code",
   "execution_count": 38,
   "metadata": {},
   "outputs": [],
   "source": [
    "mystem_tokenization = [i['text'] for i in m.analyze(text) if i['text'] not in set(' ,.\\n?')|{', ', '. ', '? ' }]\n",
    "\n"
   ]
  },
  {
   "cell_type": "code",
   "execution_count": 39,
   "metadata": {},
   "outputs": [
    {
     "data": {
      "text/plain": [
       "58"
      ]
     },
     "execution_count": 39,
     "metadata": {},
     "output_type": "execute_result"
    }
   ],
   "source": [
    "len(mystem_tokenization)"
   ]
  },
  {
   "cell_type": "code",
   "execution_count": 45,
   "metadata": {},
   "outputs": [
    {
     "name": "stdout",
     "output_type": "stream",
     "text": [
      "но не становится ли событие тем значительнее и исключительнее чем большее число случайностей приводит к нему лишь случайность может предстать перед нами как послание все что происходит по необходимости что ожидаемо что повторяется всякий день то немо лишь случайность о чем-то говорит нам мы стремимся прочесть ее как читают цыганки по узорам начертанным кофейной гущей на дне чашки "
     ]
    }
   ],
   "source": [
    "for i in mystem_tokenization:\n",
    "    print(i.lower(), end=' ')"
   ]
  },
  {
   "cell_type": "code",
   "execution_count": 43,
   "metadata": {},
   "outputs": [
    {
     "name": "stdout",
     "output_type": "stream",
     "text": [
      "['но', 'не', 'становится', 'ли', 'событие', 'тем', 'значительнее', 'и', 'исключительнее', 'чем', 'большее', 'число', 'случайностей', 'приводит', 'к', 'нему', 'лишь', 'случайность', 'может', 'предстать', 'перед', 'нами', 'как', 'послание', 'все', 'что', 'происходит', 'по', 'необходимости', 'что', 'ожидаемо', 'что', 'повторяется', 'всякий', 'день', 'то', 'немо', 'лишь', 'случайность', 'о', 'чем-то', 'говорит', 'нам', 'мы', 'стремимся', 'прочесть', 'ее', 'как', 'читают', 'цыганки', 'по', 'узорам', 'начертанным', 'кофейной', 'гущей', 'на', 'дне', 'чашки']\n"
     ]
    }
   ],
   "source": [
    "print([i.lower() for i in mystem_tokenization])"
   ]
  },
  {
   "cell_type": "code",
   "execution_count": 15,
   "metadata": {},
   "outputs": [
    {
     "name": "stdout",
     "output_type": "stream",
     "text": [
      "['Но', 'не', 'становится', 'ли', 'событие', 'тем', 'значительнее', 'и', 'исключительнее', 'чем', 'большее', 'число', 'случайностей', 'приводит', 'к', 'нему', 'Лишь', 'случайность', 'может', 'предстать', 'перед', 'нами', 'как', 'послание', 'Все', 'что', 'происходит', 'по', 'необходимости', 'что', 'ожидаемо', 'что', 'повторяется', 'всякий', 'день', 'то', 'немо', 'Лишь', 'случайность', 'о', 'чем', 'то', 'говорит', 'нам', 'Мы', 'стремимся', 'прочесть', 'ее', 'как', 'читают', 'цыганки', 'по', 'узорам', 'начертанным', 'кофейной', 'гущей', 'на', 'дне', 'чашки']\n"
     ]
    }
   ],
   "source": [
    "print([re_tokenization])"
   ]
  },
  {
   "cell_type": "code",
   "execution_count": null,
   "metadata": {},
   "outputs": [],
   "source": []
  },
  {
   "cell_type": "markdown",
   "metadata": {},
   "source": [
    "Получилось одинаково. А действий с регуляркой меньше. Ну ок, посмотрим на другие возможности майстема. А потом разберемся с другими двумя библиотеками."
   ]
  },
  {
   "cell_type": "code",
   "execution_count": null,
   "metadata": {},
   "outputs": [],
   "source": []
  },
  {
   "cell_type": "markdown",
   "metadata": {},
   "source": [
    "У класса Mystem() есть два метода:\n",
    "\n",
    "(кстати, класс это из ООП - объектно ориентированного программирования)\n",
    "\n",
    "* lemmatize, возвращающий список лемм,\n",
    "* и analyze, возвращающий полные разборы в виде словаря.\n",
    "\n",
    "Возьмем небольшой текст и опробуем на нем эти два метода:"
   ]
  },
  {
   "cell_type": "code",
   "execution_count": 89,
   "metadata": {},
   "outputs": [
    {
     "data": {
      "text/plain": [
       "['тем', ' ', 'значительный', ' ', 'и', ' ', 'исключительный', ',', 'чем', ' ']"
      ]
     },
     "execution_count": 89,
     "metadata": {},
     "output_type": "execute_result"
    }
   ],
   "source": [
    "lemmas = m.lemmatize(text)\n",
    "lemmas[10:20]"
   ]
  },
  {
   "cell_type": "markdown",
   "metadata": {},
   "source": [
    "Можно собрать лемматизированный текст обратно:"
   ]
  },
  {
   "cell_type": "code",
   "execution_count": 11,
   "metadata": {},
   "outputs": [
    {
     "name": "stdout",
     "output_type": "stream",
     "text": [
      "но не становиться ли событие тем значительный и исключительный,чем больший число случайность приводить к он? лишь случайность мочь представать перед мы как послание. все, что происходить по необходимость, что ожидать, что повторяться всякий день, то немо. лишь случайность о что-то говорить мы. мы стремиться прочитывать она, как читать цыганка по узор, начертать кофейный гуща на дно чашка.\n",
      "\n"
     ]
    }
   ],
   "source": [
    "print(''.join(lemmas))"
   ]
  },
  {
   "cell_type": "code",
   "execution_count": 93,
   "metadata": {},
   "outputs": [],
   "source": [
    "from pprint import pprint"
   ]
  },
  {
   "cell_type": "code",
   "execution_count": 94,
   "metadata": {},
   "outputs": [
    {
     "name": "stdout",
     "output_type": "stream",
     "text": [
      "[{'analysis': [{'gr': 'SPRO,мн,1-л=им', 'lex': 'мы', 'wt': 1}], 'text': 'мы'},\n",
      " {'text': ' '},\n",
      " {'analysis': [{'gr': 'V,нп=прош,мн,изъяв,сов',\n",
      "                'lex': 'становиться',\n",
      "                'wt': 0.9821285244}],\n",
      "  'text': 'стали'},\n",
      " {'text': ' '},\n",
      " {'analysis': [{'gr': 'ADV=', 'lex': 'более', 'wt': 0.9999468251}],\n",
      "  'text': 'более'},\n",
      " {'text': ' '},\n",
      " {'analysis': [{'gr': 'ADV=срав,вводн', 'lex': 'хорошо', 'wt': 0.5632475519}],\n",
      "  'text': 'лучше'},\n",
      " {'text': ' '},\n",
      " {'analysis': [{'gr': 'V,нп=инф,несов', 'lex': 'одеваться', 'wt': 1}],\n",
      "  'text': 'одеваться'},\n",
      " {'text': '\\n'}]\n"
     ]
    }
   ],
   "source": [
    "text = 'мы стали более лучше одеваться'\n",
    "ana = m.analyze(text)\n",
    "pprint(ana)"
   ]
  },
  {
   "cell_type": "code",
   "execution_count": 95,
   "metadata": {},
   "outputs": [
    {
     "name": "stdout",
     "output_type": "stream",
     "text": [
      "[{'analysis': [{'gr': 'S,муж,неод=(вин,ед|им,ед)', 'lex': 'сплав', 'wt': 1}],\n",
      "  'text': 'сплав'},\n",
      " {'text': ' '},\n",
      " {'analysis': [{'gr': 'V,нп=прош,мн,изъяв,сов',\n",
      "                'lex': 'становиться',\n",
      "                'wt': 0.9821285244}],\n",
      "  'text': 'стали'},\n",
      " {'text': '\\n'}]\n"
     ]
    }
   ],
   "source": [
    "text = 'сплав стали'\n",
    "ana = m.analyze(text)\n",
    "pprint(ana)"
   ]
  },
  {
   "cell_type": "markdown",
   "metadata": {},
   "source": [
    "Разбор для каждого слова является элементом массива:"
   ]
  },
  {
   "cell_type": "code",
   "execution_count": 14,
   "metadata": {},
   "outputs": [
    {
     "name": "stdout",
     "output_type": "stream",
     "text": [
      "{'analysis': [{'lex': 'но', 'wt': 0.9998906299, 'gr': 'CONJ='}], 'text': 'Но'}\n",
      "{'text': ' '}\n",
      "{'analysis': [{'lex': 'не', 'wt': 1, 'gr': 'PART='}], 'text': 'не'}\n",
      "{'text': ' '}\n",
      "{'analysis': [{'lex': 'становиться', 'wt': 1, 'gr': 'V,нп=непрош,ед,изъяв,3-л,несов'}], 'text': 'становится'}\n",
      "{'text': ' '}\n",
      "{'analysis': [{'lex': 'ли', 'wt': 0.7719288688, 'gr': 'PART='}], 'text': 'ли'}\n",
      "{'text': ' '}\n",
      "{'analysis': [{'lex': 'событие', 'wt': 1, 'gr': 'S,сред,неод=(вин,ед|им,ед)'}], 'text': 'событие'}\n",
      "{'text': ' '}\n"
     ]
    }
   ],
   "source": [
    "for word in ana[:10]:\n",
    "    print(word)"
   ]
  },
  {
   "cell_type": "markdown",
   "metadata": {},
   "source": [
    "В этом разборе в поле text можно найти исходное слова, а в поле analysis (которого может и не быть) - грамматические характеристики и леммы.\n",
    "\n",
    "В грамматическом разборе знаком = отделяются изменяемые характеристики от неизменяемых. Знаком | отделяются омонимичные разборы.\n",
    "\n",
    "Достанем все части речи:"
   ]
  },
  {
   "cell_type": "code",
   "execution_count": 98,
   "metadata": {},
   "outputs": [],
   "source": [
    "import json\n",
    "with open('analysis.json', 'w') as f:\n",
    "    json.dump(ana, f, ensure_ascii=False)"
   ]
  },
  {
   "cell_type": "code",
   "execution_count": 15,
   "metadata": {},
   "outputs": [
    {
     "name": "stdout",
     "output_type": "stream",
     "text": [
      "Но CONJ\n",
      "не PART\n",
      "становится V\n",
      "ли PART\n",
      "событие S\n",
      "тем CONJ\n",
      "значительнее A\n",
      "и CONJ\n",
      "исключительнее A\n",
      "чем CONJ\n",
      "большее A\n",
      "число S\n",
      "случайностей S\n",
      "приводит V\n",
      "к PR\n",
      "нему SPRO\n",
      "Лишь PART\n",
      "случайность S\n",
      "может V\n",
      "предстать V\n",
      "перед PR\n",
      "нами SPRO\n",
      "как CONJ\n",
      "послание S\n",
      "Все SPRO\n",
      "что CONJ\n",
      "происходит V\n",
      "по PR\n",
      "необходимости S\n",
      "что CONJ\n",
      "ожидаемо V\n",
      "что CONJ\n",
      "повторяется V\n",
      "всякий APRO\n",
      "день S\n",
      "то CONJ\n",
      "немо ADV\n",
      "Лишь PART\n",
      "случайность S\n",
      "о PR\n",
      "чем-то SPRO\n",
      "говорит V\n",
      "нам SPRO\n",
      "Мы SPRO\n",
      "стремимся V\n",
      "прочесть V\n",
      "ее SPRO\n",
      "как ADVPRO\n",
      "читают V\n",
      "цыганки S\n",
      "по PR\n",
      "узорам S\n",
      "начертанным V\n",
      "кофейной A\n",
      "гущей S\n",
      "на PR\n",
      "дне S\n",
      "чашки S\n"
     ]
    }
   ],
   "source": [
    "for word in ana:\n",
    "    if 'analysis' in word:\n",
    "        gr = word['analysis'][0]['gr']\n",
    "        pos = gr.split('=')[0].split(',')[0]\n",
    "        print(word['text'], pos)"
   ]
  },
  {
   "cell_type": "markdown",
   "metadata": {},
   "source": [
    "### Зачем нам тогда что-то ещё?\n",
    "\n",
    "**Достоинства Mystem'a:**\n",
    "\n",
    "- хорошее качество разбора\n",
    "- по умолчанию разрешается частеречная омонимия (внутри части речи остается)\n",
    "- при разборе учитывается контекст\n",
    "- совместим с разметкой НКРЯ\n",
    "\n",
    "**Недостатки Mystem'a:**\n",
    "\n",
    "- медленный\n",
    "- analyze возвращает неудобный json\n",
    "\n",
    "Разберёмся подробнее с pymorphy"
   ]
  },
  {
   "cell_type": "markdown",
   "metadata": {},
   "source": [
    "### Pymorphy"
   ]
  },
  {
   "cell_type": "markdown",
   "metadata": {},
   "source": [
    "Может делать то же, что и pymystem3, и даже больше: изменять слова в нужную форму (спрягать и склонять). При этом pymorphy2 справляется и с незнакомыми словами.\n",
    "\n",
    "[Документация](https://pymorphy2.readthedocs.io/en/latest/)\n",
    "\n",
    "Для работы точно так же надо создать экземпляр класса MorphAnalyzer. Рекомендуется создать один экземпляр и дальше с ним и работать, поскольку он занимает достаточно много памяти, и если создать несколько экземпляров анализаторов, то они будут тормозить программу."
   ]
  },
  {
   "cell_type": "code",
   "execution_count": null,
   "metadata": {},
   "outputs": [],
   "source": []
  },
  {
   "cell_type": "code",
   "execution_count": 47,
   "metadata": {},
   "outputs": [],
   "source": [
    "from pymorphy2 import MorphAnalyzer\n",
    "morph = MorphAnalyzer()"
   ]
  },
  {
   "cell_type": "code",
   "execution_count": 55,
   "metadata": {},
   "outputs": [],
   "source": [
    "# dir(morph.dictionary.words.keys)"
   ]
  },
  {
   "cell_type": "markdown",
   "metadata": {},
   "source": [
    "Разбор слова делается при помощи метода parse:"
   ]
  },
  {
   "cell_type": "code",
   "execution_count": 58,
   "metadata": {},
   "outputs": [
    {
     "data": {
      "text/plain": [
       "[Parse(word='век', tag=OpencorporaTag('ADVB'), normal_form='век', score=0.4, methods_stack=((<DictionaryAnalyzer>, 'век', 3, 0),)),\n",
       " Parse(word='век', tag=OpencorporaTag('NOUN,inan,neut plur,gent'), normal_form='веко', score=0.2, methods_stack=((<DictionaryAnalyzer>, 'век', 556, 7),)),\n",
       " Parse(word='век', tag=OpencorporaTag('NOUN,inan,masc sing,nomn'), normal_form='век', score=0.2, methods_stack=((<DictionaryAnalyzer>, 'век', 666, 0),)),\n",
       " Parse(word='век', tag=OpencorporaTag('NOUN,inan,masc sing,accs'), normal_form='век', score=0.2, methods_stack=((<DictionaryAnalyzer>, 'век', 666, 3),))]"
      ]
     },
     "execution_count": 58,
     "metadata": {},
     "output_type": "execute_result"
    }
   ],
   "source": [
    "ana = morph.parse('век')\n",
    "ana"
   ]
  },
  {
   "cell_type": "code",
   "execution_count": 106,
   "metadata": {},
   "outputs": [
    {
     "data": {
      "text/plain": [
       "[Parse(word='стекло', tag=OpencorporaTag('NOUN,inan,neut sing,nomn'), normal_form='стекло', score=0.75, methods_stack=((<DictionaryAnalyzer>, 'стекло', 545, 0),)),\n",
       " Parse(word='стекло', tag=OpencorporaTag('NOUN,inan,neut sing,accs'), normal_form='стекло', score=0.1875, methods_stack=((<DictionaryAnalyzer>, 'стекло', 545, 3),)),\n",
       " Parse(word='стекло', tag=OpencorporaTag('VERB,perf,intr neut,sing,past,indc'), normal_form='стечь', score=0.0625, methods_stack=((<DictionaryAnalyzer>, 'стекло', 968, 3),))]"
      ]
     },
     "execution_count": 106,
     "metadata": {},
     "output_type": "execute_result"
    }
   ],
   "source": [
    "morph.parse('стекло')"
   ]
  },
  {
   "cell_type": "code",
   "execution_count": 105,
   "metadata": {},
   "outputs": [
    {
     "data": {
      "text/plain": [
       "[Parse(word='век', tag=OpencorporaTag('ADVB'), normal_form='век', score=0.4, methods_stack=((<DictionaryAnalyzer>, 'век', 3, 0),)),\n",
       " Parse(word='век', tag=OpencorporaTag('NOUN,inan,neut plur,gent'), normal_form='веко', score=0.2, methods_stack=((<DictionaryAnalyzer>, 'век', 556, 7),)),\n",
       " Parse(word='век', tag=OpencorporaTag('NOUN,inan,masc sing,nomn'), normal_form='век', score=0.2, methods_stack=((<DictionaryAnalyzer>, 'век', 666, 0),)),\n",
       " Parse(word='век', tag=OpencorporaTag('NOUN,inan,masc sing,accs'), normal_form='век', score=0.2, methods_stack=((<DictionaryAnalyzer>, 'век', 666, 3),))]"
      ]
     },
     "execution_count": 105,
     "metadata": {},
     "output_type": "execute_result"
    }
   ],
   "source": [
    "list(ana)"
   ]
  },
  {
   "cell_type": "markdown",
   "metadata": {},
   "source": [
    "Как видно, анализатор вернул все возможные разборы этого слова, отранжировав их по вероятности.\n",
    "\n",
    "У каждого разбора есть атрибуты: исходное слово, тэг, лемма, вероятность разбора:"
   ]
  },
  {
   "cell_type": "code",
   "execution_count": 59,
   "metadata": {},
   "outputs": [
    {
     "name": "stdout",
     "output_type": "stream",
     "text": [
      "Слово: век\n",
      "Тэг: ADVB\n",
      "Лемма: век\n",
      "Вероятность: 0.4\n"
     ]
    }
   ],
   "source": [
    "first = ana[0]  # первый разбор\n",
    "print('Слово:', first.word)\n",
    "print('Тэг:', first.tag)\n",
    "print('Лемма:', first.normal_form)\n",
    "print('Вероятность:', first.score)"
   ]
  },
  {
   "cell_type": "code",
   "execution_count": 103,
   "metadata": {},
   "outputs": [
    {
     "data": {
      "text/plain": [
       "[Parse(word='век', tag=OpencorporaTag('ADVB'), normal_form='век', score=0.4, methods_stack=((<DictionaryAnalyzer>, 'век', 3, 0),)),\n",
       " Parse(word='век', tag=OpencorporaTag('NOUN,inan,neut plur,gent'), normal_form='веко', score=0.2, methods_stack=((<DictionaryAnalyzer>, 'век', 556, 7),)),\n",
       " Parse(word='век', tag=OpencorporaTag('NOUN,inan,masc sing,nomn'), normal_form='век', score=0.2, methods_stack=((<DictionaryAnalyzer>, 'век', 666, 0),)),\n",
       " Parse(word='век', tag=OpencorporaTag('NOUN,inan,masc sing,accs'), normal_form='век', score=0.2, methods_stack=((<DictionaryAnalyzer>, 'век', 666, 3),))]"
      ]
     },
     "execution_count": 103,
     "metadata": {},
     "output_type": "execute_result"
    }
   ],
   "source": [
    "ana"
   ]
  },
  {
   "cell_type": "markdown",
   "metadata": {},
   "source": [
    "Для каждого разбора можно получить лемму и всю информацию о ней (т.е. еще один разбор, только уже для леммы):"
   ]
  },
  {
   "cell_type": "code",
   "execution_count": 19,
   "metadata": {},
   "outputs": [
    {
     "data": {
      "text/plain": [
       "Parse(word='стекло', tag=OpencorporaTag('NOUN,inan,neut sing,nomn'), normal_form='стекло', score=0.75, methods_stack=((<DictionaryAnalyzer>, 'стекло', 545, 0),))"
      ]
     },
     "execution_count": 19,
     "metadata": {},
     "output_type": "execute_result"
    }
   ],
   "source": [
    "first.normalized"
   ]
  },
  {
   "cell_type": "code",
   "execution_count": 17,
   "metadata": {},
   "outputs": [
    {
     "name": "stdout",
     "output_type": "stream",
     "text": [
      "Разбор слова:  Parse(word='стекло', tag=OpencorporaTag('VERB,perf,intr neut,sing,past,indc'), normal_form='стечь', score=0.023809, methods_stack=((DictionaryAnalyzer(), 'стекло', 1015, 3),))\n",
      "\n",
      "Разбор леммы:  Parse(word='стечь', tag=OpencorporaTag('INFN,perf,intr'), normal_form='стечь', score=1.0, methods_stack=((DictionaryAnalyzer(), 'стечь', 1015, 0),))\n"
     ]
    }
   ],
   "source": [
    "last = ana[-1] # последний разбор\n",
    "print('Разбор слова: ', last)\n",
    "print()\n",
    "print('Разбор леммы: ', last.normalized)"
   ]
  },
  {
   "cell_type": "markdown",
   "metadata": {},
   "source": [
    "Если распечатать тег разбора, то может показаться, что это строка:"
   ]
  },
  {
   "cell_type": "code",
   "execution_count": 65,
   "metadata": {},
   "outputs": [
    {
     "name": "stdout",
     "output_type": "stream",
     "text": [
      "NOUN,inan,neut plur,gent\n"
     ]
    }
   ],
   "source": [
    "first = ana[1]  # первый разбор\n",
    "print(first.tag)"
   ]
  },
  {
   "cell_type": "markdown",
   "metadata": {},
   "source": [
    "Но на самом деле это объект класса OpencorporaTag, так что некоторые вещи, которые можно делать со строками, с тэгами делать нельзя. А некоторые все-таки можно.\n",
    "\n",
    "Например, можно проверить, есть ли какая-то граммема в теге:"
   ]
  },
  {
   "cell_type": "code",
   "execution_count": 67,
   "metadata": {},
   "outputs": [
    {
     "data": {
      "text/plain": [
       "True"
      ]
     },
     "execution_count": 67,
     "metadata": {},
     "output_type": "execute_result"
    }
   ],
   "source": [
    "'NOUN' in first.tag"
   ]
  },
  {
   "cell_type": "code",
   "execution_count": 60,
   "metadata": {},
   "outputs": [
    {
     "data": {
      "text/plain": [
       "Parse(word='век', tag=OpencorporaTag('ADVB'), normal_form='век', score=0.4, methods_stack=((<DictionaryAnalyzer>, 'век', 3, 0),))"
      ]
     },
     "execution_count": 60,
     "metadata": {},
     "output_type": "execute_result"
    }
   ],
   "source": [
    "first"
   ]
  },
  {
   "cell_type": "code",
   "execution_count": 24,
   "metadata": {},
   "outputs": [
    {
     "data": {
      "text/plain": [
       "False"
      ]
     },
     "execution_count": 24,
     "metadata": {},
     "output_type": "execute_result"
    }
   ],
   "source": [
    "'VERB' in first.tag"
   ]
  },
  {
   "cell_type": "code",
   "execution_count": 25,
   "metadata": {},
   "outputs": [
    {
     "data": {
      "text/plain": [
       "True"
      ]
     },
     "execution_count": 25,
     "metadata": {},
     "output_type": "execute_result"
    }
   ],
   "source": [
    "{'NOUN', 'inan'} in first.tag"
   ]
  },
  {
   "cell_type": "markdown",
   "metadata": {},
   "source": [
    "Из каждого тега можно достать более дробную информацию. Если граммема есть в разборе, то вернется ее значение, если ее нет, то вернется None."
   ]
  },
  {
   "cell_type": "raw",
   "metadata": {},
   "source": [
    "p.tag.POS           # Part of Speech, часть речи\n",
    "p.tag.animacy       # одушевленность\n",
    "p.tag.aspect        # вид: совершенный или несовершенный\n",
    "p.tag.case          # падеж\n",
    "p.tag.gender        # род (мужской, женский, средний)\n",
    "p.tag.involvement   # включенность говорящего в действие\n",
    "p.tag.mood          # наклонение (повелительное, изъявительное)\n",
    "p.tag.number        # число (единственное, множественное)\n",
    "p.tag.person        # лицо (1, 2, 3)\n",
    "p.tag.tense         # время (настоящее, прошедшее, будущее)\n",
    "p.tag.transitivity  # переходность (переходный, непереходный)\n",
    "p.tag.voice         # залог (действительный, страдательный)"
   ]
  },
  {
   "cell_type": "code",
   "execution_count": 24,
   "metadata": {},
   "outputs": [
    {
     "name": "stdout",
     "output_type": "stream",
     "text": [
      "VERB,perf,intr neut,sing,past,indc\n",
      "Время:  past\n",
      "Падеж:  None\n"
     ]
    }
   ],
   "source": [
    "print(last.tag)\n",
    "print('Время: ', last.tag.tense)\n",
    "print('Падеж: ', last.tag.case)"
   ]
  },
  {
   "cell_type": "markdown",
   "metadata": {},
   "source": [
    "Список граммем, которые используются в модуле, находится здесь - https://pymorphy2.readthedocs.io/en/latest/user/grammemes.html.\n",
    "\n",
    "Если искать какую-то граммему, которой нет в этом списке, возникнет ошибка.\n",
    "\n",
    "Можно получить строку с кириллическими обозначениями граммем:"
   ]
  },
  {
   "cell_type": "code",
   "execution_count": 27,
   "metadata": {},
   "outputs": [
    {
     "data": {
      "text/plain": [
       "'СУЩ,неод,ср ед,им'"
      ]
     },
     "execution_count": 27,
     "metadata": {},
     "output_type": "execute_result"
    }
   ],
   "source": [
    "first.tag.cyr_repr"
   ]
  },
  {
   "cell_type": "markdown",
   "metadata": {},
   "source": [
    "**Словоизменение**\n",
    "\n",
    "Если у нас есть разбор слова, то мы можем это слово поставить в другую форму с помощью функции inflect. Эта функция получает на вход множество граммем и пытается применить их к нашему разбору."
   ]
  },
  {
   "cell_type": "code",
   "execution_count": 117,
   "metadata": {},
   "outputs": [
    {
     "data": {
      "text/plain": [
       "['__add__',\n",
       " '__class__',\n",
       " '__class_getitem__',\n",
       " '__contains__',\n",
       " '__delattr__',\n",
       " '__dict__',\n",
       " '__dir__',\n",
       " '__doc__',\n",
       " '__eq__',\n",
       " '__format__',\n",
       " '__ge__',\n",
       " '__getattribute__',\n",
       " '__getitem__',\n",
       " '__getnewargs__',\n",
       " '__gt__',\n",
       " '__hash__',\n",
       " '__init__',\n",
       " '__init_subclass__',\n",
       " '__iter__',\n",
       " '__le__',\n",
       " '__len__',\n",
       " '__lt__',\n",
       " '__module__',\n",
       " '__mul__',\n",
       " '__ne__',\n",
       " '__new__',\n",
       " '__reduce__',\n",
       " '__reduce_ex__',\n",
       " '__repr__',\n",
       " '__rmul__',\n",
       " '__setattr__',\n",
       " '__sizeof__',\n",
       " '__slots__',\n",
       " '__str__',\n",
       " '__subclasshook__',\n",
       " '_asdict',\n",
       " '_dict',\n",
       " '_field_defaults',\n",
       " '_fields',\n",
       " '_make',\n",
       " '_morph',\n",
       " '_replace',\n",
       " 'count',\n",
       " 'index',\n",
       " 'inflect',\n",
       " 'is_known',\n",
       " 'lexeme',\n",
       " 'make_agree_with_number',\n",
       " 'methods_stack',\n",
       " 'normal_form',\n",
       " 'normalized',\n",
       " 'score',\n",
       " 'tag',\n",
       " 'word']"
      ]
     },
     "execution_count": 117,
     "metadata": {},
     "output_type": "execute_result"
    }
   ],
   "source": [
    "dir(morph.parse('стали')[0])"
   ]
  },
  {
   "cell_type": "code",
   "execution_count": 74,
   "metadata": {},
   "outputs": [],
   "source": [
    "# prog.lexeme"
   ]
  },
  {
   "cell_type": "code",
   "execution_count": 69,
   "metadata": {},
   "outputs": [
    {
     "data": {
      "text/plain": [
       "Parse(word='программируем', tag=OpencorporaTag('VERB,impf,tran plur,1per,pres,indc'), normal_form='программировать', score=1.0, methods_stack=((<DictionaryAnalyzer>, 'программируем', 168, 2),))"
      ]
     },
     "execution_count": 69,
     "metadata": {},
     "output_type": "execute_result"
    }
   ],
   "source": [
    "prog = morph.parse('программирую')[0]\n",
    "prog.inflect({'plur'})"
   ]
  },
  {
   "cell_type": "code",
   "execution_count": 29,
   "metadata": {},
   "outputs": [
    {
     "data": {
      "text/plain": [
       "Parse(word='программировали', tag=OpencorporaTag('VERB,impf,tran plur,past,indc'), normal_form='программировать', score=1.0, methods_stack=((DictionaryAnalyzer(), 'программировали', 171, 10),))"
      ]
     },
     "execution_count": 29,
     "metadata": {},
     "output_type": "execute_result"
    }
   ],
   "source": [
    "prog.inflect({'plur', 'past'})"
   ]
  },
  {
   "cell_type": "code",
   "execution_count": 110,
   "metadata": {},
   "outputs": [
    {
     "data": {
      "text/plain": [
       "'программировал'"
      ]
     },
     "execution_count": 110,
     "metadata": {},
     "output_type": "execute_result"
    }
   ],
   "source": [
    "prog.inflect({'past'})[0]"
   ]
  },
  {
   "cell_type": "code",
   "execution_count": 31,
   "metadata": {},
   "outputs": [
    {
     "data": {
      "text/plain": [
       "'программировала'"
      ]
     },
     "execution_count": 31,
     "metadata": {},
     "output_type": "execute_result"
    }
   ],
   "source": [
    "prog.inflect({'past', 'femn'})[0]"
   ]
  },
  {
   "cell_type": "code",
   "execution_count": 71,
   "metadata": {},
   "outputs": [
    {
     "data": {
      "text/plain": [
       "Parse(word='сделает', tag=OpencorporaTag('VERB,perf,tran sing,3per,futr,indc'), normal_form='сделать', score=1.0, methods_stack=((<DictionaryAnalyzer>, 'сделает', 614, 9),))"
      ]
     },
     "execution_count": 71,
     "metadata": {},
     "output_type": "execute_result"
    }
   ],
   "source": [
    "morph.parse('сделаю')[0].inflect({'3per'})"
   ]
  },
  {
   "cell_type": "code",
   "execution_count": 73,
   "metadata": {},
   "outputs": [
    {
     "data": {
      "text/plain": [
       "Parse(word='сделают', tag=OpencorporaTag('VERB,perf,tran plur,3per,futr,indc'), normal_form='сделать', score=1.0, methods_stack=((<DictionaryAnalyzer>, 'сделают', 614, 10),))"
      ]
     },
     "execution_count": 73,
     "metadata": {},
     "output_type": "execute_result"
    }
   ],
   "source": [
    "morph.parse('сделаю')[0].inflect({'3per', 'plur'})"
   ]
  },
  {
   "cell_type": "markdown",
   "metadata": {},
   "source": [
    "Получается далеко не всегда:"
   ]
  },
  {
   "cell_type": "code",
   "execution_count": 68,
   "metadata": {},
   "outputs": [
    {
     "ename": "NameError",
     "evalue": "name 'prog' is not defined",
     "output_type": "error",
     "traceback": [
      "\u001b[0;31m---------------------------------------------------------------------------\u001b[0m",
      "\u001b[0;31mNameError\u001b[0m                                 Traceback (most recent call last)",
      "Input \u001b[0;32mIn [68]\u001b[0m, in \u001b[0;36m<cell line: 1>\u001b[0;34m()\u001b[0m\n\u001b[0;32m----> 1\u001b[0m \u001b[43mprog\u001b[49m\u001b[38;5;241m.\u001b[39minflect()\n",
      "\u001b[0;31mNameError\u001b[0m: name 'prog' is not defined"
     ]
    }
   ],
   "source": [
    "prog.inflect()"
   ]
  },
  {
   "cell_type": "code",
   "execution_count": 47,
   "metadata": {},
   "outputs": [
    {
     "ename": "TypeError",
     "evalue": "'NoneType' object is not subscriptable",
     "output_type": "error",
     "traceback": [
      "\u001b[0;31m---------------------------------------------------------------------------\u001b[0m",
      "\u001b[0;31mTypeError\u001b[0m                                 Traceback (most recent call last)",
      "Input \u001b[0;32mIn [47]\u001b[0m, in \u001b[0;36m<cell line: 1>\u001b[0;34m()\u001b[0m\n\u001b[0;32m----> 1\u001b[0m \u001b[43mprog\u001b[49m\u001b[38;5;241;43m.\u001b[39;49m\u001b[43minflect\u001b[49m\u001b[43m(\u001b[49m\u001b[43m{\u001b[49m\u001b[38;5;124;43m'\u001b[39;49m\u001b[38;5;124;43mpast\u001b[39;49m\u001b[38;5;124;43m'\u001b[39;49m\u001b[43m,\u001b[49m\u001b[43m \u001b[49m\u001b[38;5;124;43m'\u001b[39;49m\u001b[38;5;124;43mfemn\u001b[39;49m\u001b[38;5;124;43m'\u001b[39;49m\u001b[43m,\u001b[49m\u001b[43m \u001b[49m\u001b[38;5;124;43m'\u001b[39;49m\u001b[38;5;124;43mperf\u001b[39;49m\u001b[38;5;124;43m'\u001b[39;49m\u001b[43m}\u001b[49m\u001b[43m)\u001b[49m\u001b[43m[\u001b[49m\u001b[38;5;241;43m0\u001b[39;49m\u001b[43m]\u001b[49m\n",
      "\u001b[0;31mTypeError\u001b[0m: 'NoneType' object is not subscriptable"
     ]
    }
   ],
   "source": [
    "prog.inflect({'past', 'femn', 'perf'})[0]"
   ]
  },
  {
   "cell_type": "code",
   "execution_count": 56,
   "metadata": {},
   "outputs": [
    {
     "data": {
      "text/plain": [
       "'программирую'"
      ]
     },
     "execution_count": 56,
     "metadata": {},
     "output_type": "execute_result"
    }
   ],
   "source": [
    "prog.inflect({'pres', 'indc'})[0]"
   ]
  },
  {
   "cell_type": "code",
   "execution_count": 57,
   "metadata": {},
   "outputs": [
    {
     "data": {
      "text/plain": [
       "[Parse(word='делать', tag=OpencorporaTag('INFN,impf,tran'), normal_form='делать', score=1.0, methods_stack=((<DictionaryAnalyzer>, 'делать', 303, 0),))]"
      ]
     },
     "execution_count": 57,
     "metadata": {},
     "output_type": "execute_result"
    }
   ],
   "source": [
    "morph.parse('делать')"
   ]
  },
  {
   "cell_type": "code",
   "execution_count": 65,
   "metadata": {},
   "outputs": [
    {
     "data": {
      "text/plain": [
       "Parse(word='делающая', tag=OpencorporaTag('PRTF,impf,tran,pres,actv femn,sing,nomn'), normal_form='делать', score=1.0, methods_stack=((<DictionaryAnalyzer>, 'делающая', 303, 20),))"
      ]
     },
     "execution_count": 65,
     "metadata": {},
     "output_type": "execute_result"
    }
   ],
   "source": [
    "morph.parse('делал')[0].inflect({'femn', 'pres'})"
   ]
  },
  {
   "cell_type": "code",
   "execution_count": null,
   "metadata": {},
   "outputs": [],
   "source": []
  },
  {
   "cell_type": "markdown",
   "metadata": {},
   "source": [
    "Можно еще вот так:"
   ]
  },
  {
   "cell_type": "code",
   "execution_count": 41,
   "metadata": {},
   "outputs": [],
   "source": [
    "def lavir(verb):\n",
    "    prog = morph.parse(verb)[0]\n",
    "    past = prog.inflect({'plur', 'past'})[0]\n",
    "    return f'{past}, {past}, да не вы{past}'"
   ]
  },
  {
   "cell_type": "code",
   "execution_count": 118,
   "metadata": {},
   "outputs": [
    {
     "data": {
      "text/plain": [
       "'лавировали, лавировали, да не вылавировали'"
      ]
     },
     "execution_count": 118,
     "metadata": {},
     "output_type": "execute_result"
    }
   ],
   "source": [
    "lavir('лавировать')"
   ]
  },
  {
   "cell_type": "code",
   "execution_count": 33,
   "metadata": {},
   "outputs": [
    {
     "data": {
      "text/plain": [
       "'программировали, программировали, да не выпрограммировали'"
      ]
     },
     "execution_count": 33,
     "metadata": {},
     "output_type": "execute_result"
    }
   ],
   "source": [
    "lavir('программировать')"
   ]
  },
  {
   "cell_type": "markdown",
   "metadata": {},
   "source": [
    "Классная фича - это распознавание морфологических признаков \"несловарных\" слов:"
   ]
  },
  {
   "cell_type": "code",
   "execution_count": 119,
   "metadata": {},
   "outputs": [
    {
     "data": {
      "text/plain": [
       "[Parse(word='флексить', tag=OpencorporaTag('INFN,perf,tran'), normal_form='флексить', score=1.0, methods_stack=((<FakeDictionary>, 'флексить', 819, 0), (<KnownSuffixAnalyzer>, 'ксить')))]"
      ]
     },
     "execution_count": 119,
     "metadata": {},
     "output_type": "execute_result"
    }
   ],
   "source": [
    "morph.parse('флексить')"
   ]
  },
  {
   "cell_type": "code",
   "execution_count": 34,
   "metadata": {},
   "outputs": [
    {
     "data": {
      "text/plain": [
       "'флексили, флексили, да не выфлексили'"
      ]
     },
     "execution_count": 34,
     "metadata": {},
     "output_type": "execute_result"
    }
   ],
   "source": [
    "lavir('флексить')"
   ]
  },
  {
   "cell_type": "code",
   "execution_count": 35,
   "metadata": {},
   "outputs": [
    {
     "data": {
      "text/plain": [
       "'кринжевали, кринжевали, да не выкринжевали'"
      ]
     },
     "execution_count": 35,
     "metadata": {},
     "output_type": "execute_result"
    }
   ],
   "source": [
    "lavir('кринжевать')"
   ]
  },
  {
   "cell_type": "markdown",
   "metadata": {},
   "source": [
    "**Формы слова**\n",
    "\n",
    "С помощью атрибута lexeme можно получить массив всех форм слова:"
   ]
  },
  {
   "cell_type": "code",
   "execution_count": 122,
   "metadata": {},
   "outputs": [
    {
     "data": {
      "text/plain": [
       "[Parse(word='программировать', tag=OpencorporaTag('INFN,impf,tran'), normal_form='программировать', score=1.0, methods_stack=((<DictionaryAnalyzer>, 'программировать', 168, 0),)),\n",
       " Parse(word='программирую', tag=OpencorporaTag('VERB,impf,tran sing,1per,pres,indc'), normal_form='программировать', score=1.0, methods_stack=((<DictionaryAnalyzer>, 'программирую', 168, 1),)),\n",
       " Parse(word='программируем', tag=OpencorporaTag('VERB,impf,tran plur,1per,pres,indc'), normal_form='программировать', score=1.0, methods_stack=((<DictionaryAnalyzer>, 'программируем', 168, 2),)),\n",
       " Parse(word='программируешь', tag=OpencorporaTag('VERB,impf,tran sing,2per,pres,indc'), normal_form='программировать', score=1.0, methods_stack=((<DictionaryAnalyzer>, 'программируешь', 168, 3),)),\n",
       " Parse(word='программируете', tag=OpencorporaTag('VERB,impf,tran plur,2per,pres,indc'), normal_form='программировать', score=1.0, methods_stack=((<DictionaryAnalyzer>, 'программируете', 168, 4),)),\n",
       " Parse(word='программирует', tag=OpencorporaTag('VERB,impf,tran sing,3per,pres,indc'), normal_form='программировать', score=1.0, methods_stack=((<DictionaryAnalyzer>, 'программирует', 168, 5),)),\n",
       " Parse(word='программируют', tag=OpencorporaTag('VERB,impf,tran plur,3per,pres,indc'), normal_form='программировать', score=1.0, methods_stack=((<DictionaryAnalyzer>, 'программируют', 168, 6),)),\n",
       " Parse(word='программировал', tag=OpencorporaTag('VERB,impf,tran masc,sing,past,indc'), normal_form='программировать', score=1.0, methods_stack=((<DictionaryAnalyzer>, 'программировал', 168, 7),)),\n",
       " Parse(word='программировала', tag=OpencorporaTag('VERB,impf,tran femn,sing,past,indc'), normal_form='программировать', score=1.0, methods_stack=((<DictionaryAnalyzer>, 'программировала', 168, 8),)),\n",
       " Parse(word='программировало', tag=OpencorporaTag('VERB,impf,tran neut,sing,past,indc'), normal_form='программировать', score=1.0, methods_stack=((<DictionaryAnalyzer>, 'программировало', 168, 9),)),\n",
       " Parse(word='программировали', tag=OpencorporaTag('VERB,impf,tran plur,past,indc'), normal_form='программировать', score=1.0, methods_stack=((<DictionaryAnalyzer>, 'программировали', 168, 10),)),\n",
       " Parse(word='программируй', tag=OpencorporaTag('VERB,impf,tran sing,impr,excl'), normal_form='программировать', score=1.0, methods_stack=((<DictionaryAnalyzer>, 'программируй', 168, 11),)),\n",
       " Parse(word='программируйте', tag=OpencorporaTag('VERB,impf,tran plur,impr,excl'), normal_form='программировать', score=1.0, methods_stack=((<DictionaryAnalyzer>, 'программируйте', 168, 12),)),\n",
       " Parse(word='программирующий', tag=OpencorporaTag('PRTF,impf,tran,pres,actv masc,sing,nomn'), normal_form='программировать', score=1.0, methods_stack=((<DictionaryAnalyzer>, 'программирующий', 168, 13),)),\n",
       " Parse(word='программирующего', tag=OpencorporaTag('PRTF,impf,tran,pres,actv masc,sing,gent'), normal_form='программировать', score=1.0, methods_stack=((<DictionaryAnalyzer>, 'программирующего', 168, 14),)),\n",
       " Parse(word='программирующему', tag=OpencorporaTag('PRTF,impf,tran,pres,actv masc,sing,datv'), normal_form='программировать', score=1.0, methods_stack=((<DictionaryAnalyzer>, 'программирующему', 168, 15),)),\n",
       " Parse(word='программирующего', tag=OpencorporaTag('PRTF,impf,tran,pres,actv anim,masc,sing,accs'), normal_form='программировать', score=1.0, methods_stack=((<DictionaryAnalyzer>, 'программирующего', 168, 16),)),\n",
       " Parse(word='программирующий', tag=OpencorporaTag('PRTF,impf,tran,pres,actv inan,masc,sing,accs'), normal_form='программировать', score=1.0, methods_stack=((<DictionaryAnalyzer>, 'программирующий', 168, 17),)),\n",
       " Parse(word='программирующим', tag=OpencorporaTag('PRTF,impf,tran,pres,actv masc,sing,ablt'), normal_form='программировать', score=1.0, methods_stack=((<DictionaryAnalyzer>, 'программирующим', 168, 18),)),\n",
       " Parse(word='программирующем', tag=OpencorporaTag('PRTF,impf,tran,pres,actv masc,sing,loct'), normal_form='программировать', score=1.0, methods_stack=((<DictionaryAnalyzer>, 'программирующем', 168, 19),)),\n",
       " Parse(word='программирующая', tag=OpencorporaTag('PRTF,impf,tran,pres,actv femn,sing,nomn'), normal_form='программировать', score=1.0, methods_stack=((<DictionaryAnalyzer>, 'программирующая', 168, 20),)),\n",
       " Parse(word='программирующей', tag=OpencorporaTag('PRTF,impf,tran,pres,actv femn,sing,gent'), normal_form='программировать', score=1.0, methods_stack=((<DictionaryAnalyzer>, 'программирующей', 168, 21),)),\n",
       " Parse(word='программирующей', tag=OpencorporaTag('PRTF,impf,tran,pres,actv femn,sing,datv'), normal_form='программировать', score=1.0, methods_stack=((<DictionaryAnalyzer>, 'программирующей', 168, 22),)),\n",
       " Parse(word='программирующую', tag=OpencorporaTag('PRTF,impf,tran,pres,actv femn,sing,accs'), normal_form='программировать', score=1.0, methods_stack=((<DictionaryAnalyzer>, 'программирующую', 168, 23),)),\n",
       " Parse(word='программирующей', tag=OpencorporaTag('PRTF,impf,tran,pres,actv femn,sing,ablt'), normal_form='программировать', score=1.0, methods_stack=((<DictionaryAnalyzer>, 'программирующей', 168, 24),)),\n",
       " Parse(word='программирующею', tag=OpencorporaTag('PRTF,impf,tran,pres,actv femn,sing,ablt,V-ey'), normal_form='программировать', score=1.0, methods_stack=((<DictionaryAnalyzer>, 'программирующею', 168, 25),)),\n",
       " Parse(word='программирующей', tag=OpencorporaTag('PRTF,impf,tran,pres,actv femn,sing,loct'), normal_form='программировать', score=1.0, methods_stack=((<DictionaryAnalyzer>, 'программирующей', 168, 26),)),\n",
       " Parse(word='программирующее', tag=OpencorporaTag('PRTF,impf,tran,pres,actv neut,sing,nomn'), normal_form='программировать', score=1.0, methods_stack=((<DictionaryAnalyzer>, 'программирующее', 168, 27),)),\n",
       " Parse(word='программирующего', tag=OpencorporaTag('PRTF,impf,tran,pres,actv neut,sing,gent'), normal_form='программировать', score=1.0, methods_stack=((<DictionaryAnalyzer>, 'программирующего', 168, 28),)),\n",
       " Parse(word='программирующему', tag=OpencorporaTag('PRTF,impf,tran,pres,actv neut,sing,datv'), normal_form='программировать', score=1.0, methods_stack=((<DictionaryAnalyzer>, 'программирующему', 168, 29),)),\n",
       " Parse(word='программирующее', tag=OpencorporaTag('PRTF,impf,tran,pres,actv neut,sing,accs'), normal_form='программировать', score=1.0, methods_stack=((<DictionaryAnalyzer>, 'программирующее', 168, 30),)),\n",
       " Parse(word='программирующим', tag=OpencorporaTag('PRTF,impf,tran,pres,actv neut,sing,ablt'), normal_form='программировать', score=1.0, methods_stack=((<DictionaryAnalyzer>, 'программирующим', 168, 31),)),\n",
       " Parse(word='программирующем', tag=OpencorporaTag('PRTF,impf,tran,pres,actv neut,sing,loct'), normal_form='программировать', score=1.0, methods_stack=((<DictionaryAnalyzer>, 'программирующем', 168, 32),)),\n",
       " Parse(word='программирующие', tag=OpencorporaTag('PRTF,impf,tran,pres,actv plur,nomn'), normal_form='программировать', score=1.0, methods_stack=((<DictionaryAnalyzer>, 'программирующие', 168, 33),)),\n",
       " Parse(word='программирующих', tag=OpencorporaTag('PRTF,impf,tran,pres,actv plur,gent'), normal_form='программировать', score=1.0, methods_stack=((<DictionaryAnalyzer>, 'программирующих', 168, 34),)),\n",
       " Parse(word='программирующим', tag=OpencorporaTag('PRTF,impf,tran,pres,actv plur,datv'), normal_form='программировать', score=1.0, methods_stack=((<DictionaryAnalyzer>, 'программирующим', 168, 35),)),\n",
       " Parse(word='программирующих', tag=OpencorporaTag('PRTF,impf,tran,pres,actv anim,plur,accs'), normal_form='программировать', score=1.0, methods_stack=((<DictionaryAnalyzer>, 'программирующих', 168, 36),)),\n",
       " Parse(word='программирующие', tag=OpencorporaTag('PRTF,impf,tran,pres,actv inan,plur,accs'), normal_form='программировать', score=1.0, methods_stack=((<DictionaryAnalyzer>, 'программирующие', 168, 37),)),\n",
       " Parse(word='программирующими', tag=OpencorporaTag('PRTF,impf,tran,pres,actv plur,ablt'), normal_form='программировать', score=1.0, methods_stack=((<DictionaryAnalyzer>, 'программирующими', 168, 38),)),\n",
       " Parse(word='программирующих', tag=OpencorporaTag('PRTF,impf,tran,pres,actv plur,loct'), normal_form='программировать', score=1.0, methods_stack=((<DictionaryAnalyzer>, 'программирующих', 168, 39),)),\n",
       " Parse(word='программировавший', tag=OpencorporaTag('PRTF,impf,tran,past,actv masc,sing,nomn'), normal_form='программировать', score=1.0, methods_stack=((<DictionaryAnalyzer>, 'программировавший', 168, 40),)),\n",
       " Parse(word='программировавшего', tag=OpencorporaTag('PRTF,impf,tran,past,actv masc,sing,gent'), normal_form='программировать', score=1.0, methods_stack=((<DictionaryAnalyzer>, 'программировавшего', 168, 41),)),\n",
       " Parse(word='программировавшему', tag=OpencorporaTag('PRTF,impf,tran,past,actv masc,sing,datv'), normal_form='программировать', score=1.0, methods_stack=((<DictionaryAnalyzer>, 'программировавшему', 168, 42),)),\n",
       " Parse(word='программировавшего', tag=OpencorporaTag('PRTF,impf,tran,past,actv anim,masc,sing,accs'), normal_form='программировать', score=1.0, methods_stack=((<DictionaryAnalyzer>, 'программировавшего', 168, 43),)),\n",
       " Parse(word='программировавший', tag=OpencorporaTag('PRTF,impf,tran,past,actv inan,masc,sing,accs'), normal_form='программировать', score=1.0, methods_stack=((<DictionaryAnalyzer>, 'программировавший', 168, 44),)),\n",
       " Parse(word='программировавшим', tag=OpencorporaTag('PRTF,impf,tran,past,actv masc,sing,ablt'), normal_form='программировать', score=1.0, methods_stack=((<DictionaryAnalyzer>, 'программировавшим', 168, 45),)),\n",
       " Parse(word='программировавшем', tag=OpencorporaTag('PRTF,impf,tran,past,actv masc,sing,loct'), normal_form='программировать', score=1.0, methods_stack=((<DictionaryAnalyzer>, 'программировавшем', 168, 46),)),\n",
       " Parse(word='программировавшая', tag=OpencorporaTag('PRTF,impf,tran,past,actv femn,sing,nomn'), normal_form='программировать', score=1.0, methods_stack=((<DictionaryAnalyzer>, 'программировавшая', 168, 47),)),\n",
       " Parse(word='программировавшей', tag=OpencorporaTag('PRTF,impf,tran,past,actv femn,sing,gent'), normal_form='программировать', score=1.0, methods_stack=((<DictionaryAnalyzer>, 'программировавшей', 168, 48),)),\n",
       " Parse(word='программировавшей', tag=OpencorporaTag('PRTF,impf,tran,past,actv femn,sing,datv'), normal_form='программировать', score=1.0, methods_stack=((<DictionaryAnalyzer>, 'программировавшей', 168, 49),)),\n",
       " Parse(word='программировавшую', tag=OpencorporaTag('PRTF,impf,tran,past,actv femn,sing,accs'), normal_form='программировать', score=1.0, methods_stack=((<DictionaryAnalyzer>, 'программировавшую', 168, 50),)),\n",
       " Parse(word='программировавшей', tag=OpencorporaTag('PRTF,impf,tran,past,actv femn,sing,ablt'), normal_form='программировать', score=1.0, methods_stack=((<DictionaryAnalyzer>, 'программировавшей', 168, 51),)),\n",
       " Parse(word='программировавшею', tag=OpencorporaTag('PRTF,impf,tran,past,actv femn,sing,ablt,V-ey'), normal_form='программировать', score=1.0, methods_stack=((<DictionaryAnalyzer>, 'программировавшею', 168, 52),)),\n",
       " Parse(word='программировавшей', tag=OpencorporaTag('PRTF,impf,tran,past,actv femn,sing,loct'), normal_form='программировать', score=1.0, methods_stack=((<DictionaryAnalyzer>, 'программировавшей', 168, 53),)),\n",
       " Parse(word='программировавшее', tag=OpencorporaTag('PRTF,impf,tran,past,actv neut,sing,nomn'), normal_form='программировать', score=1.0, methods_stack=((<DictionaryAnalyzer>, 'программировавшее', 168, 54),)),\n",
       " Parse(word='программировавшего', tag=OpencorporaTag('PRTF,impf,tran,past,actv neut,sing,gent'), normal_form='программировать', score=1.0, methods_stack=((<DictionaryAnalyzer>, 'программировавшего', 168, 55),)),\n",
       " Parse(word='программировавшему', tag=OpencorporaTag('PRTF,impf,tran,past,actv neut,sing,datv'), normal_form='программировать', score=1.0, methods_stack=((<DictionaryAnalyzer>, 'программировавшему', 168, 56),)),\n",
       " Parse(word='программировавшее', tag=OpencorporaTag('PRTF,impf,tran,past,actv neut,sing,accs'), normal_form='программировать', score=1.0, methods_stack=((<DictionaryAnalyzer>, 'программировавшее', 168, 57),)),\n",
       " Parse(word='программировавшим', tag=OpencorporaTag('PRTF,impf,tran,past,actv neut,sing,ablt'), normal_form='программировать', score=1.0, methods_stack=((<DictionaryAnalyzer>, 'программировавшим', 168, 58),)),\n",
       " Parse(word='программировавшем', tag=OpencorporaTag('PRTF,impf,tran,past,actv neut,sing,loct'), normal_form='программировать', score=1.0, methods_stack=((<DictionaryAnalyzer>, 'программировавшем', 168, 59),)),\n",
       " Parse(word='программировавшие', tag=OpencorporaTag('PRTF,impf,tran,past,actv plur,nomn'), normal_form='программировать', score=1.0, methods_stack=((<DictionaryAnalyzer>, 'программировавшие', 168, 60),)),\n",
       " Parse(word='программировавших', tag=OpencorporaTag('PRTF,impf,tran,past,actv plur,gent'), normal_form='программировать', score=1.0, methods_stack=((<DictionaryAnalyzer>, 'программировавших', 168, 61),)),\n",
       " Parse(word='программировавшим', tag=OpencorporaTag('PRTF,impf,tran,past,actv plur,datv'), normal_form='программировать', score=1.0, methods_stack=((<DictionaryAnalyzer>, 'программировавшим', 168, 62),)),\n",
       " Parse(word='программировавших', tag=OpencorporaTag('PRTF,impf,tran,past,actv anim,plur,accs'), normal_form='программировать', score=1.0, methods_stack=((<DictionaryAnalyzer>, 'программировавших', 168, 63),)),\n",
       " Parse(word='программировавшие', tag=OpencorporaTag('PRTF,impf,tran,past,actv inan,plur,accs'), normal_form='программировать', score=1.0, methods_stack=((<DictionaryAnalyzer>, 'программировавшие', 168, 64),)),\n",
       " Parse(word='программировавшими', tag=OpencorporaTag('PRTF,impf,tran,past,actv plur,ablt'), normal_form='программировать', score=1.0, methods_stack=((<DictionaryAnalyzer>, 'программировавшими', 168, 65),)),\n",
       " Parse(word='программировавших', tag=OpencorporaTag('PRTF,impf,tran,past,actv plur,loct'), normal_form='программировать', score=1.0, methods_stack=((<DictionaryAnalyzer>, 'программировавших', 168, 66),)),\n",
       " Parse(word='программируемый', tag=OpencorporaTag('PRTF,impf,tran,pres,pssv masc,sing,nomn'), normal_form='программировать', score=1.0, methods_stack=((<DictionaryAnalyzer>, 'программируемый', 168, 67),)),\n",
       " Parse(word='программируемого', tag=OpencorporaTag('PRTF,impf,tran,pres,pssv masc,sing,gent'), normal_form='программировать', score=1.0, methods_stack=((<DictionaryAnalyzer>, 'программируемого', 168, 68),)),\n",
       " Parse(word='программируемому', tag=OpencorporaTag('PRTF,impf,tran,pres,pssv masc,sing,datv'), normal_form='программировать', score=1.0, methods_stack=((<DictionaryAnalyzer>, 'программируемому', 168, 69),)),\n",
       " Parse(word='программируемого', tag=OpencorporaTag('PRTF,impf,tran,pres,pssv anim,masc,sing,accs'), normal_form='программировать', score=1.0, methods_stack=((<DictionaryAnalyzer>, 'программируемого', 168, 70),)),\n",
       " Parse(word='программируемый', tag=OpencorporaTag('PRTF,impf,tran,pres,pssv inan,masc,sing,accs'), normal_form='программировать', score=1.0, methods_stack=((<DictionaryAnalyzer>, 'программируемый', 168, 71),)),\n",
       " Parse(word='программируемым', tag=OpencorporaTag('PRTF,impf,tran,pres,pssv masc,sing,ablt'), normal_form='программировать', score=1.0, methods_stack=((<DictionaryAnalyzer>, 'программируемым', 168, 72),)),\n",
       " Parse(word='программируемом', tag=OpencorporaTag('PRTF,impf,tran,pres,pssv masc,sing,loct'), normal_form='программировать', score=1.0, methods_stack=((<DictionaryAnalyzer>, 'программируемом', 168, 73),)),\n",
       " Parse(word='программируемая', tag=OpencorporaTag('PRTF,impf,tran,pres,pssv femn,sing,nomn'), normal_form='программировать', score=1.0, methods_stack=((<DictionaryAnalyzer>, 'программируемая', 168, 74),)),\n",
       " Parse(word='программируемой', tag=OpencorporaTag('PRTF,impf,tran,pres,pssv femn,sing,gent'), normal_form='программировать', score=1.0, methods_stack=((<DictionaryAnalyzer>, 'программируемой', 168, 75),)),\n",
       " Parse(word='программируемой', tag=OpencorporaTag('PRTF,impf,tran,pres,pssv femn,sing,datv'), normal_form='программировать', score=1.0, methods_stack=((<DictionaryAnalyzer>, 'программируемой', 168, 76),)),\n",
       " Parse(word='программируемую', tag=OpencorporaTag('PRTF,impf,tran,pres,pssv femn,sing,accs'), normal_form='программировать', score=1.0, methods_stack=((<DictionaryAnalyzer>, 'программируемую', 168, 77),)),\n",
       " Parse(word='программируемой', tag=OpencorporaTag('PRTF,impf,tran,pres,pssv femn,sing,ablt'), normal_form='программировать', score=1.0, methods_stack=((<DictionaryAnalyzer>, 'программируемой', 168, 78),)),\n",
       " Parse(word='программируемою', tag=OpencorporaTag('PRTF,impf,tran,pres,pssv femn,sing,ablt,V-oy'), normal_form='программировать', score=1.0, methods_stack=((<DictionaryAnalyzer>, 'программируемою', 168, 79),)),\n",
       " Parse(word='программируемой', tag=OpencorporaTag('PRTF,impf,tran,pres,pssv femn,sing,loct'), normal_form='программировать', score=1.0, methods_stack=((<DictionaryAnalyzer>, 'программируемой', 168, 80),)),\n",
       " Parse(word='программируемое', tag=OpencorporaTag('PRTF,impf,tran,pres,pssv neut,sing,nomn'), normal_form='программировать', score=1.0, methods_stack=((<DictionaryAnalyzer>, 'программируемое', 168, 81),)),\n",
       " Parse(word='программируемого', tag=OpencorporaTag('PRTF,impf,tran,pres,pssv neut,sing,gent'), normal_form='программировать', score=1.0, methods_stack=((<DictionaryAnalyzer>, 'программируемого', 168, 82),)),\n",
       " Parse(word='программируемому', tag=OpencorporaTag('PRTF,impf,tran,pres,pssv neut,sing,datv'), normal_form='программировать', score=1.0, methods_stack=((<DictionaryAnalyzer>, 'программируемому', 168, 83),)),\n",
       " Parse(word='программируемое', tag=OpencorporaTag('PRTF,impf,tran,pres,pssv neut,sing,accs'), normal_form='программировать', score=1.0, methods_stack=((<DictionaryAnalyzer>, 'программируемое', 168, 84),)),\n",
       " Parse(word='программируемым', tag=OpencorporaTag('PRTF,impf,tran,pres,pssv neut,sing,ablt'), normal_form='программировать', score=1.0, methods_stack=((<DictionaryAnalyzer>, 'программируемым', 168, 85),)),\n",
       " Parse(word='программируемом', tag=OpencorporaTag('PRTF,impf,tran,pres,pssv neut,sing,loct'), normal_form='программировать', score=1.0, methods_stack=((<DictionaryAnalyzer>, 'программируемом', 168, 86),)),\n",
       " Parse(word='программируемые', tag=OpencorporaTag('PRTF,impf,tran,pres,pssv plur,nomn'), normal_form='программировать', score=1.0, methods_stack=((<DictionaryAnalyzer>, 'программируемые', 168, 87),)),\n",
       " Parse(word='программируемых', tag=OpencorporaTag('PRTF,impf,tran,pres,pssv plur,gent'), normal_form='программировать', score=1.0, methods_stack=((<DictionaryAnalyzer>, 'программируемых', 168, 88),)),\n",
       " Parse(word='программируемым', tag=OpencorporaTag('PRTF,impf,tran,pres,pssv plur,datv'), normal_form='программировать', score=1.0, methods_stack=((<DictionaryAnalyzer>, 'программируемым', 168, 89),)),\n",
       " Parse(word='программируемых', tag=OpencorporaTag('PRTF,impf,tran,pres,pssv anim,plur,accs'), normal_form='программировать', score=1.0, methods_stack=((<DictionaryAnalyzer>, 'программируемых', 168, 90),)),\n",
       " Parse(word='программируемые', tag=OpencorporaTag('PRTF,impf,tran,pres,pssv inan,plur,accs'), normal_form='программировать', score=1.0, methods_stack=((<DictionaryAnalyzer>, 'программируемые', 168, 91),)),\n",
       " Parse(word='программируемыми', tag=OpencorporaTag('PRTF,impf,tran,pres,pssv plur,ablt'), normal_form='программировать', score=1.0, methods_stack=((<DictionaryAnalyzer>, 'программируемыми', 168, 92),)),\n",
       " Parse(word='программируемых', tag=OpencorporaTag('PRTF,impf,tran,pres,pssv plur,loct'), normal_form='программировать', score=1.0, methods_stack=((<DictionaryAnalyzer>, 'программируемых', 168, 93),)),\n",
       " Parse(word='программированный', tag=OpencorporaTag('PRTF,impf,tran,past,pssv masc,sing,nomn'), normal_form='программировать', score=1.0, methods_stack=((<DictionaryAnalyzer>, 'программированный', 168, 94),)),\n",
       " Parse(word='программированного', tag=OpencorporaTag('PRTF,impf,tran,past,pssv masc,sing,gent'), normal_form='программировать', score=1.0, methods_stack=((<DictionaryAnalyzer>, 'программированного', 168, 95),)),\n",
       " Parse(word='программированному', tag=OpencorporaTag('PRTF,impf,tran,past,pssv masc,sing,datv'), normal_form='программировать', score=1.0, methods_stack=((<DictionaryAnalyzer>, 'программированному', 168, 96),)),\n",
       " Parse(word='программированного', tag=OpencorporaTag('PRTF,impf,tran,past,pssv anim,masc,sing,accs'), normal_form='программировать', score=1.0, methods_stack=((<DictionaryAnalyzer>, 'программированного', 168, 97),)),\n",
       " Parse(word='программированный', tag=OpencorporaTag('PRTF,impf,tran,past,pssv inan,masc,sing,accs'), normal_form='программировать', score=1.0, methods_stack=((<DictionaryAnalyzer>, 'программированный', 168, 98),)),\n",
       " Parse(word='программированным', tag=OpencorporaTag('PRTF,impf,tran,past,pssv masc,sing,ablt'), normal_form='программировать', score=1.0, methods_stack=((<DictionaryAnalyzer>, 'программированным', 168, 99),)),\n",
       " Parse(word='программированном', tag=OpencorporaTag('PRTF,impf,tran,past,pssv masc,sing,loct'), normal_form='программировать', score=1.0, methods_stack=((<DictionaryAnalyzer>, 'программированном', 168, 100),)),\n",
       " Parse(word='программированная', tag=OpencorporaTag('PRTF,impf,tran,past,pssv femn,sing,nomn'), normal_form='программировать', score=1.0, methods_stack=((<DictionaryAnalyzer>, 'программированная', 168, 101),)),\n",
       " Parse(word='программированной', tag=OpencorporaTag('PRTF,impf,tran,past,pssv femn,sing,gent'), normal_form='программировать', score=1.0, methods_stack=((<DictionaryAnalyzer>, 'программированной', 168, 102),)),\n",
       " Parse(word='программированной', tag=OpencorporaTag('PRTF,impf,tran,past,pssv femn,sing,datv'), normal_form='программировать', score=1.0, methods_stack=((<DictionaryAnalyzer>, 'программированной', 168, 103),)),\n",
       " Parse(word='программированную', tag=OpencorporaTag('PRTF,impf,tran,past,pssv femn,sing,accs'), normal_form='программировать', score=1.0, methods_stack=((<DictionaryAnalyzer>, 'программированную', 168, 104),)),\n",
       " Parse(word='программированной', tag=OpencorporaTag('PRTF,impf,tran,past,pssv femn,sing,ablt'), normal_form='программировать', score=1.0, methods_stack=((<DictionaryAnalyzer>, 'программированной', 168, 105),)),\n",
       " Parse(word='программированною', tag=OpencorporaTag('PRTF,impf,tran,past,pssv femn,sing,ablt,V-oy'), normal_form='программировать', score=1.0, methods_stack=((<DictionaryAnalyzer>, 'программированною', 168, 106),)),\n",
       " Parse(word='программированной', tag=OpencorporaTag('PRTF,impf,tran,past,pssv femn,sing,loct'), normal_form='программировать', score=1.0, methods_stack=((<DictionaryAnalyzer>, 'программированной', 168, 107),)),\n",
       " Parse(word='программированное', tag=OpencorporaTag('PRTF,impf,tran,past,pssv neut,sing,nomn'), normal_form='программировать', score=1.0, methods_stack=((<DictionaryAnalyzer>, 'программированное', 168, 108),)),\n",
       " Parse(word='программированного', tag=OpencorporaTag('PRTF,impf,tran,past,pssv neut,sing,gent'), normal_form='программировать', score=1.0, methods_stack=((<DictionaryAnalyzer>, 'программированного', 168, 109),)),\n",
       " Parse(word='программированному', tag=OpencorporaTag('PRTF,impf,tran,past,pssv neut,sing,datv'), normal_form='программировать', score=1.0, methods_stack=((<DictionaryAnalyzer>, 'программированному', 168, 110),)),\n",
       " Parse(word='программированное', tag=OpencorporaTag('PRTF,impf,tran,past,pssv neut,sing,accs'), normal_form='программировать', score=1.0, methods_stack=((<DictionaryAnalyzer>, 'программированное', 168, 111),)),\n",
       " Parse(word='программированным', tag=OpencorporaTag('PRTF,impf,tran,past,pssv neut,sing,ablt'), normal_form='программировать', score=1.0, methods_stack=((<DictionaryAnalyzer>, 'программированным', 168, 112),)),\n",
       " Parse(word='программированном', tag=OpencorporaTag('PRTF,impf,tran,past,pssv neut,sing,loct'), normal_form='программировать', score=1.0, methods_stack=((<DictionaryAnalyzer>, 'программированном', 168, 113),)),\n",
       " Parse(word='программированные', tag=OpencorporaTag('PRTF,impf,tran,past,pssv plur,nomn'), normal_form='программировать', score=1.0, methods_stack=((<DictionaryAnalyzer>, 'программированные', 168, 114),)),\n",
       " Parse(word='программированных', tag=OpencorporaTag('PRTF,impf,tran,past,pssv plur,gent'), normal_form='программировать', score=1.0, methods_stack=((<DictionaryAnalyzer>, 'программированных', 168, 115),)),\n",
       " Parse(word='программированным', tag=OpencorporaTag('PRTF,impf,tran,past,pssv plur,datv'), normal_form='программировать', score=1.0, methods_stack=((<DictionaryAnalyzer>, 'программированным', 168, 116),)),\n",
       " Parse(word='программированных', tag=OpencorporaTag('PRTF,impf,tran,past,pssv anim,plur,accs'), normal_form='программировать', score=1.0, methods_stack=((<DictionaryAnalyzer>, 'программированных', 168, 117),)),\n",
       " Parse(word='программированные', tag=OpencorporaTag('PRTF,impf,tran,past,pssv inan,plur,accs'), normal_form='программировать', score=1.0, methods_stack=((<DictionaryAnalyzer>, 'программированные', 168, 118),)),\n",
       " Parse(word='программированными', tag=OpencorporaTag('PRTF,impf,tran,past,pssv plur,ablt'), normal_form='программировать', score=1.0, methods_stack=((<DictionaryAnalyzer>, 'программированными', 168, 119),)),\n",
       " Parse(word='программированных', tag=OpencorporaTag('PRTF,impf,tran,past,pssv plur,loct'), normal_form='программировать', score=1.0, methods_stack=((<DictionaryAnalyzer>, 'программированных', 168, 120),)),\n",
       " Parse(word='программируя', tag=OpencorporaTag('GRND,impf,tran pres'), normal_form='программировать', score=1.0, methods_stack=((<DictionaryAnalyzer>, 'программируя', 168, 121),)),\n",
       " Parse(word='программировавши', tag=OpencorporaTag('GRND,impf,tran past,V-sh'), normal_form='программировать', score=1.0, methods_stack=((<DictionaryAnalyzer>, 'программировавши', 168, 122),)),\n",
       " Parse(word='программируем', tag=OpencorporaTag('PRTS,impf,pres,pssv masc,sing'), normal_form='программировать', score=1.0, methods_stack=((<DictionaryAnalyzer>, 'программируем', 168, 123),)),\n",
       " Parse(word='программируема', tag=OpencorporaTag('PRTS,impf,pres,pssv femn,sing'), normal_form='программировать', score=1.0, methods_stack=((<DictionaryAnalyzer>, 'программируема', 168, 124),)),\n",
       " Parse(word='программируемо', tag=OpencorporaTag('PRTS,impf,pres,pssv neut,sing'), normal_form='программировать', score=1.0, methods_stack=((<DictionaryAnalyzer>, 'программируемо', 168, 125),)),\n",
       " Parse(word='программируемы', tag=OpencorporaTag('PRTS,impf,pres,pssv plur'), normal_form='программировать', score=1.0, methods_stack=((<DictionaryAnalyzer>, 'программируемы', 168, 126),)),\n",
       " Parse(word='программирован', tag=OpencorporaTag('PRTS,impf,past,pssv masc,sing'), normal_form='программировать', score=1.0, methods_stack=((<DictionaryAnalyzer>, 'программирован', 168, 127),)),\n",
       " Parse(word='программирована', tag=OpencorporaTag('PRTS,impf,past,pssv femn,sing'), normal_form='программировать', score=1.0, methods_stack=((<DictionaryAnalyzer>, 'программирована', 168, 128),)),\n",
       " Parse(word='программировано', tag=OpencorporaTag('PRTS,impf,past,pssv neut,sing'), normal_form='программировать', score=1.0, methods_stack=((<DictionaryAnalyzer>, 'программировано', 168, 129),)),\n",
       " Parse(word='программированы', tag=OpencorporaTag('PRTS,impf,past,pssv plur'), normal_form='программировать', score=1.0, methods_stack=((<DictionaryAnalyzer>, 'программированы', 168, 130),))]"
      ]
     },
     "execution_count": 122,
     "metadata": {},
     "output_type": "execute_result"
    }
   ],
   "source": [
    "prog.lexeme #[:5]"
   ]
  },
  {
   "cell_type": "markdown",
   "metadata": {},
   "source": [
    "**Согласование слов с числительными**\n",
    "\n",
    "Из документации:\n",
    "\n",
    "    Слово нужно ставить в разные формы в зависимости от числительного, к которому оно относится. Например: “1 бутявка”, “2 бутявки”, “5 бутявок” Для этих целей используйте метод Parse.make_agree_with_number():"
   ]
  },
  {
   "cell_type": "code",
   "execution_count": 124,
   "metadata": {},
   "outputs": [
    {
     "data": {
      "text/plain": [
       "Parse(word='cat', tag=OpencorporaTag('LATN'), normal_form='cat', score=1.0, methods_stack=((<LatinAnalyzer>, 'cat'),))"
      ]
     },
     "execution_count": 124,
     "metadata": {},
     "output_type": "execute_result"
    }
   ],
   "source": [
    "morph.parse('cat')[0].make_agree_with_number(2)"
   ]
  },
  {
   "cell_type": "code",
   "execution_count": 36,
   "metadata": {},
   "outputs": [],
   "source": [
    "butyavka = morph.parse('бутявка')[0]"
   ]
  },
  {
   "cell_type": "code",
   "execution_count": 50,
   "metadata": {},
   "outputs": [
    {
     "data": {
      "text/plain": [
       "'бутявка'"
      ]
     },
     "execution_count": 50,
     "metadata": {},
     "output_type": "execute_result"
    }
   ],
   "source": [
    "butyavka.make_agree_with_number(1).word"
   ]
  },
  {
   "cell_type": "code",
   "execution_count": 37,
   "metadata": {},
   "outputs": [
    {
     "data": {
      "text/plain": [
       "Parse(word='бутявка', tag=OpencorporaTag('NOUN,inan,femn sing,nomn'), normal_form='бутявка', score=1.0, methods_stack=((DictionaryAnalyzer(), 'явка', 8, 0), (UnknownPrefixAnalyzer(score_multiplier=0.5), 'бут')))"
      ]
     },
     "execution_count": 37,
     "metadata": {},
     "output_type": "execute_result"
    }
   ],
   "source": [
    "butyavka"
   ]
  },
  {
   "cell_type": "code",
   "execution_count": 51,
   "metadata": {},
   "outputs": [
    {
     "data": {
      "text/plain": [
       "'бутявки'"
      ]
     },
     "execution_count": 51,
     "metadata": {},
     "output_type": "execute_result"
    }
   ],
   "source": [
    "butyavka.make_agree_with_number(2).word"
   ]
  },
  {
   "cell_type": "code",
   "execution_count": 52,
   "metadata": {},
   "outputs": [
    {
     "data": {
      "text/plain": [
       "'бутявок'"
      ]
     },
     "execution_count": 52,
     "metadata": {},
     "output_type": "execute_result"
    }
   ],
   "source": [
    "butyavka.make_agree_with_number(5).word"
   ]
  },
  {
   "cell_type": "markdown",
   "metadata": {},
   "source": [
    "**Саммари**\n",
    "\n",
    "**Достоинства Pymorphy:**\n",
    "\n",
    "- умеет составлять разборы, находить лемму, склонять и спрягать\n",
    "- генерирует гипотезы для незнакомых слов\n",
    "- написан полностью на питоне и быстрее, чем Mystem (и есть ускоренная версия с вставками на c++)\n",
    "- может работать с украинским языком (но словари нужно отдельно устанавливать)\n",
    "\n",
    "**Недостатки Pymorphy:**\n",
    "\n",
    "- качество хуже, чем у Mystem\n",
    "- работает только на уровне отдельных слов (и естественно, не учитывает контекст)"
   ]
  },
  {
   "cell_type": "markdown",
   "metadata": {},
   "source": [
    "**Небольшой хак**\n",
    "\n",
    "Pymorphy и так работает очень быстро, но можно еще быстрее, если мы будем сохранять разборы для очень популярных слов"
   ]
  },
  {
   "cell_type": "code",
   "execution_count": 53,
   "metadata": {},
   "outputs": [],
   "source": [
    "from string import punctuation"
   ]
  },
  {
   "cell_type": "code",
   "execution_count": null,
   "metadata": {},
   "outputs": [],
   "source": []
  },
  {
   "cell_type": "code",
   "execution_count": 64,
   "metadata": {},
   "outputs": [],
   "source": [
    "text = open('./input_files/nabokov.txt').read()\n",
    "# text = [word.lower().strip(punctuation) for word in text.split()]\n",
    "# text = [word for word in text if word != '']"
   ]
  },
  {
   "cell_type": "code",
   "execution_count": 72,
   "metadata": {},
   "outputs": [],
   "source": [
    "lemmas = [i for i in m.lemmatize(text) if i.isalpha()]"
   ]
  },
  {
   "cell_type": "code",
   "execution_count": 73,
   "metadata": {},
   "outputs": [],
   "source": [
    "from collections import Counter"
   ]
  },
  {
   "cell_type": "code",
   "execution_count": 75,
   "metadata": {
    "scrolled": true
   },
   "outputs": [],
   "source": [
    "c = Counter(lemmas)"
   ]
  },
  {
   "cell_type": "code",
   "execution_count": 78,
   "metadata": {},
   "outputs": [
    {
     "data": {
      "text/plain": [
       "Counter({'дуб': 1,\n",
       "         'дерево': 7,\n",
       "         'роза': 4,\n",
       "         'цветок': 6,\n",
       "         'олень': 1,\n",
       "         'животное': 1,\n",
       "         'воробей': 3,\n",
       "         'птица': 3,\n",
       "         'россия': 11,\n",
       "         'наш': 24,\n",
       "         'отечество': 1,\n",
       "         'смерть': 11,\n",
       "         'неизбежный': 1,\n",
       "         'п': 1,\n",
       "         'смирновский': 1,\n",
       "         'учебник': 1,\n",
       "         'русский': 17,\n",
       "         'грамматика': 1,\n",
       "         'глава': 2,\n",
       "         'первый': 27,\n",
       "         'облачный': 2,\n",
       "         'но': 129,\n",
       "         'светлый': 6,\n",
       "         'день': 24,\n",
       "         'в': 583,\n",
       "         'исход': 1,\n",
       "         'четвертый': 4,\n",
       "         'час': 11,\n",
       "         'апрель': 3,\n",
       "         'год': 34,\n",
       "         'иностранный': 1,\n",
       "         'критик': 1,\n",
       "         'замечать': 12,\n",
       "         'что': 247,\n",
       "         'хотя': 10,\n",
       "         'многий': 3,\n",
       "         'роман': 3,\n",
       "         'весь': 67,\n",
       "         'немецкий': 9,\n",
       "         'например': 6,\n",
       "         'начинаться': 13,\n",
       "         'с': 339,\n",
       "         'дата': 3,\n",
       "         'только': 47,\n",
       "         'автор': 13,\n",
       "         'сила': 3,\n",
       "         'оригинальный': 1,\n",
       "         'честность': 3,\n",
       "         'литература': 9,\n",
       "         'не': 297,\n",
       "         'договаривать': 1,\n",
       "         'единица': 1,\n",
       "         'у': 86,\n",
       "         'дом': 19,\n",
       "         'номер': 8,\n",
       "         'семь': 6,\n",
       "         'по': 103,\n",
       "         'танненбергский': 3,\n",
       "         'улица': 24,\n",
       "         'западный': 2,\n",
       "         'часть': 10,\n",
       "         'берлин': 3,\n",
       "         'останавливаться': 6,\n",
       "         'мебельный': 1,\n",
       "         'фургон': 6,\n",
       "         'очень': 21,\n",
       "         'длинный': 7,\n",
       "         'и': 718,\n",
       "         'желтый': 5,\n",
       "         'запрягать': 1,\n",
       "         'же': 74,\n",
       "         'трактор': 2,\n",
       "         'гипертрофия': 1,\n",
       "         'задний': 4,\n",
       "         'колесо': 3,\n",
       "         'более': 10,\n",
       "         'чем': 19,\n",
       "         'откровенный': 1,\n",
       "         'анатомия': 1,\n",
       "         'на': 319,\n",
       "         'лоб': 7,\n",
       "         'виднеться': 2,\n",
       "         'звезда': 3,\n",
       "         'вентилятор': 1,\n",
       "         'а': 137,\n",
       "         'он': 375,\n",
       "         'бок': 9,\n",
       "         'идти': 24,\n",
       "         'название': 5,\n",
       "         'перевозчичий': 2,\n",
       "         'фирма': 2,\n",
       "         'синий': 14,\n",
       "         'аршинный': 1,\n",
       "         'литера': 1,\n",
       "         'каждый': 13,\n",
       "         'из': 81,\n",
       "         'кой': 2,\n",
       "         'включая': 1,\n",
       "         'квадратный': 1,\n",
       "         'точка': 2,\n",
       "         'быть': 249,\n",
       "         'слева': 4,\n",
       "         'оттенять': 2,\n",
       "         'черный': 26,\n",
       "         'краска': 4,\n",
       "         'недобросовестный': 1,\n",
       "         'попытка': 4,\n",
       "         'пролезать': 1,\n",
       "         'следующий': 7,\n",
       "         'класс': 5,\n",
       "         'измерение': 1,\n",
       "         'тут': 23,\n",
       "         'перед': 10,\n",
       "         'который': 147,\n",
       "         'я': 277,\n",
       "         'сам': 40,\n",
       "         'жить': 16,\n",
       "         'явно': 1,\n",
       "         'выходить': 20,\n",
       "         'навстречу': 3,\n",
       "         'свой': 82,\n",
       "         'мебель': 4,\n",
       "         'чемодан': 2,\n",
       "         'много': 18,\n",
       "         'черновик': 1,\n",
       "         'белье': 1,\n",
       "         'стоять': 28,\n",
       "         'два': 26,\n",
       "         'особа': 1,\n",
       "         'мужчина': 3,\n",
       "         'облачать': 1,\n",
       "         'зеленый': 6,\n",
       "         'бурый': 2,\n",
       "         'войлочный': 1,\n",
       "         'пальто': 2,\n",
       "         'слегка': 4,\n",
       "         'оживлять': 3,\n",
       "         'ветер': 7,\n",
       "         'высокий': 11,\n",
       "         'густобровый': 1,\n",
       "         'старик': 5,\n",
       "         'седина': 1,\n",
       "         'борода': 1,\n",
       "         'ус': 1,\n",
       "         'переходить': 10,\n",
       "         'рыжеватость': 1,\n",
       "         'около': 9,\n",
       "         'рот': 6,\n",
       "         'бесчувственный': 1,\n",
       "         'держать': 8,\n",
       "         'холодный': 4,\n",
       "         'полуоблетать': 1,\n",
       "         'сигарный': 1,\n",
       "         'окурок': 2,\n",
       "         'женщина': 10,\n",
       "         'коренастый': 2,\n",
       "         'немолодой': 2,\n",
       "         'кривой': 3,\n",
       "         'нога': 27,\n",
       "         'довольно': 1,\n",
       "         'красивый': 4,\n",
       "         'лже': 1,\n",
       "         'китайский': 1,\n",
       "         'лицо': 28,\n",
       "         'одевать': 1,\n",
       "         'каракулевый': 2,\n",
       "         'жакет': 2,\n",
       "         'огибать': 1,\n",
       "         'она': 137,\n",
       "         'пахнуть': 4,\n",
       "         'неплохой': 1,\n",
       "         'затхловатый': 1,\n",
       "         'дух': 6,\n",
       "         'оба': 7,\n",
       "         'неподвижно': 2,\n",
       "         'пристально': 1,\n",
       "         'такой': 42,\n",
       "         'внимание': 6,\n",
       "         'точно': 8,\n",
       "         'они': 91,\n",
       "         'собираться': 6,\n",
       "         'обвесить': 1,\n",
       "         'наблюдать': 3,\n",
       "         'за': 86,\n",
       "         'то': 129,\n",
       "         'как': 203,\n",
       "         'трое': 5,\n",
       "         'красновыйный': 1,\n",
       "         'молодец': 1,\n",
       "         'фартук': 1,\n",
       "         'одолевать': 1,\n",
       "         'обстановка': 4,\n",
       "         'вот': 40,\n",
       "         'так': 96,\n",
       "         'бы': 76,\n",
       "         'старинка': 1,\n",
       "         'начинать': 16,\n",
       "         'толстый': 13,\n",
       "         'штука': 5,\n",
       "         'подуматься': 1,\n",
       "         'мельком': 2,\n",
       "         'беспечный': 2,\n",
       "         'ирония': 1,\n",
       "         'совершенно': 20,\n",
       "         'впрочем': 6,\n",
       "         'излишний': 2,\n",
       "         'потому': 16,\n",
       "         'внутри': 7,\n",
       "         'помимо': 1,\n",
       "         'всЈ': 77,\n",
       "         'это': 111,\n",
       "         'уже': 54,\n",
       "         'принимать': 9,\n",
       "         'записывать': 4,\n",
       "         'припрятывать': 1,\n",
       "         'переселяться': 2,\n",
       "         'раз': 24,\n",
       "         'теперь': 26,\n",
       "         'еще': 71,\n",
       "         'непривычный': 1,\n",
       "         'чин': 1,\n",
       "         'здешний': 2,\n",
       "         'обитатель': 1,\n",
       "         'выбегать': 2,\n",
       "         'налегке': 1,\n",
       "         'купить': 5,\n",
       "         'знать': 50,\n",
       "         'округ': 1,\n",
       "         'пансион': 3,\n",
       "         'откуда': 4,\n",
       "         'съезжать': 2,\n",
       "         'находиться': 10,\n",
       "         'невдалеке': 2,\n",
       "         'до': 56,\n",
       "         'сей': 7,\n",
       "         'пора': 12,\n",
       "         'этот': 90,\n",
       "         'вращаться': 4,\n",
       "         'скользить': 4,\n",
       "         'ничто': 27,\n",
       "         'связывать': 4,\n",
       "         'сегодня': 8,\n",
       "         'вдруг': 29,\n",
       "         'застывать': 2,\n",
       "         'вид': 17,\n",
       "         'проекция': 1,\n",
       "         'его': 84,\n",
       "         'новый': 22,\n",
       "         'жилище': 1,\n",
       "         'обсаживать': 2,\n",
       "         'средний': 2,\n",
       "         'рост': 4,\n",
       "         'липа': 3,\n",
       "         'капля': 5,\n",
       "         'дождь': 4,\n",
       "         'располагать': 1,\n",
       "         'их': 17,\n",
       "         'частый': 2,\n",
       "         'сучок': 1,\n",
       "         'схема': 1,\n",
       "         'будущий': 7,\n",
       "         'лист': 10,\n",
       "         'завтра': 5,\n",
       "         'зрачок': 2,\n",
       "         'снабжать': 3,\n",
       "         'смоляной': 1,\n",
       "         'гладь': 2,\n",
       "         'сажень': 2,\n",
       "         'пять': 4,\n",
       "         'ширина': 1,\n",
       "         'пестроватый': 1,\n",
       "         'ручной': 2,\n",
       "         'работа': 3,\n",
       "         'лестный': 1,\n",
       "         'для': 37,\n",
       "         'тротуар': 2,\n",
       "         'едва': 18,\n",
       "         'заметный': 3,\n",
       "         'наклон': 2,\n",
       "         'почтамт': 1,\n",
       "         'кончаться': 3,\n",
       "         'церковь': 2,\n",
       "         'эпистолярный': 1,\n",
       "         'опытный': 1,\n",
       "         'взгляд': 13,\n",
       "         'искать': 1,\n",
       "         'грозить': 4,\n",
       "         'становиться': 28,\n",
       "         'ежедневный': 2,\n",
       "         'зацепка': 1,\n",
       "         'пытка': 2,\n",
       "         'чувство': 13,\n",
       "         'кажется': 8,\n",
       "         'намечаться': 3,\n",
       "         'рассеянный': 4,\n",
       "         'свет': 16,\n",
       "         'весенний': 5,\n",
       "         'серый': 7,\n",
       "         'вне': 2,\n",
       "         'подозрение': 1,\n",
       "         'обещать': 3,\n",
       "         'умягчать': 1,\n",
       "         'иной': 4,\n",
       "         'мелочь': 3,\n",
       "         'яркий': 5,\n",
       "         'погода': 6,\n",
       "         'преминуть': 1,\n",
       "         'объявляться': 1,\n",
       "         'мочь': 45,\n",
       "         'цвет': 5,\n",
       "         'сразу': 9,\n",
       "         'отзываться': 1,\n",
       "         'во': 21,\n",
       "         'неприятный': 2,\n",
       "         'овсяный': 1,\n",
       "         'вкус': 3,\n",
       "         'халва': 1,\n",
       "         'деталь': 1,\n",
       "         'архитектура': 1,\n",
       "         'всякий': 8,\n",
       "         'экспансивный': 1,\n",
       "         'бросаться': 2,\n",
       "         'глаз': 27,\n",
       "         'раздражительный': 1,\n",
       "         'притворство': 1,\n",
       "         'кариатида': 1,\n",
       "         'приживалка': 1,\n",
       "         'подпора': 1,\n",
       "         'меньший': 1,\n",
       "         'бремя': 2,\n",
       "         'обращать': 6,\n",
       "         'штукатурный': 1,\n",
       "         'прах': 1,\n",
       "         'или': 59,\n",
       "         'ствол': 4,\n",
       "         'под': 27,\n",
       "         'ржавый': 1,\n",
       "         'кнопка': 6,\n",
       "         'бесцельно': 1,\n",
       "         'навсегда': 2,\n",
       "         'уцелеть': 1,\n",
       "         'уголок': 3,\n",
       "         'отслуживать': 1,\n",
       "         'конец': 20,\n",
       "         'сдирать': 1,\n",
       "         'рукописный': 1,\n",
       "         'объявленьице': 1,\n",
       "         'о': 79,\n",
       "         'расплыв': 1,\n",
       "         'синеватый': 4,\n",
       "         'собака': 2,\n",
       "         'вещь': 13,\n",
       "         'окно': 10,\n",
       "         'запах': 1,\n",
       "         'отказываться': 4,\n",
       "         'последний': 14,\n",
       "         'секунда': 1,\n",
       "         'сообщать': 4,\n",
       "         'воспоминание': 8,\n",
       "         'готовый': 3,\n",
       "         'казаться': 22,\n",
       "         'завопить': 1,\n",
       "         'да': 41,\n",
       "         'угол': 26,\n",
       "         'оставаться': 17,\n",
       "         'самый': 23,\n",
       "         'себя': 65,\n",
       "         'заскакивать': 1,\n",
       "         'тайный': 9,\n",
       "         'нет': 20,\n",
       "         'хорошо': 14,\n",
       "         'подумать': 7,\n",
       "         'досуг': 1,\n",
       "         'изучать': 1,\n",
       "         'порядок': 5,\n",
       "         'чередование': 3,\n",
       "         'три': 16,\n",
       "         'четыре': 7,\n",
       "         'сорт': 3,\n",
       "         'лавка': 6,\n",
       "         'проверять': 3,\n",
       "         'правильность': 1,\n",
       "         'догадка': 1,\n",
       "         'композиционный': 1,\n",
       "         'закон': 2,\n",
       "         'находить': 20,\n",
       "         'наиболее': 3,\n",
       "         'сочетание': 4,\n",
       "         'можно': 14,\n",
       "         'выводить': 2,\n",
       "         'ритм': 2,\n",
       "         'данный': 5,\n",
       "         'город': 5,\n",
       "         'скажем': 5,\n",
       "         'табачный': 3,\n",
       "         'аптекарский': 3,\n",
       "         'зеленной': 2,\n",
       "         'разобщенный': 1,\n",
       "         'разный': 6,\n",
       "         'роение': 1,\n",
       "         'наставать': 1,\n",
       "         'будущее': 2,\n",
       "         'повиноваться': 1,\n",
       "         'контрапункт': 1,\n",
       "         'постепенно': 2,\n",
       "         'мера': 5,\n",
       "         'прогорание': 1,\n",
       "         'переезд': 3,\n",
       "         'владелец': 1,\n",
       "         'сходиться': 3,\n",
       "         'оглядка': 1,\n",
       "         'чтобы': 27,\n",
       "         'через': 17,\n",
       "         'там': 32,\n",
       "         'от': 65,\n",
       "         'вроде': 7,\n",
       "         'рекламный': 3,\n",
       "         'фильм': 1,\n",
       "         'место': 20,\n",
       "         'смешанный': 1,\n",
       "         'буква': 3,\n",
       "         'при': 25,\n",
       "         'один': 53,\n",
       "         'напоследок': 3,\n",
       "         'перевертываться': 1,\n",
       "         'поспешно': 4,\n",
       "         'вставать': 10,\n",
       "         'комический': 1,\n",
       "         'персонаж': 1,\n",
       "         'непременный': 1,\n",
       "         'яшка': 1,\n",
       "         'мешок': 2,\n",
       "         'строй': 1,\n",
       "         'новобранец': 1,\n",
       "         'выжидать': 1,\n",
       "         'когда': 80,\n",
       "         'освобождаться': 1,\n",
       "         'смежный': 3,\n",
       "         'потом': 17,\n",
       "         'наискосок': 1,\n",
       "         'мигнуть': 1,\n",
       "         'сигать': 1,\n",
       "         'сюда': 2,\n",
       "         'мол': 1,\n",
       "         'все': 23,\n",
       "         'ряд': 5,\n",
       "         'образовывать': 1,\n",
       "         'типический': 1,\n",
       "         'строка': 4,\n",
       "         'боже': 5,\n",
       "         'мой': 63,\n",
       "         'ненавидеть': 1,\n",
       "         'стекло': 6,\n",
       "         'тупой': 1,\n",
       "         'товар': 3,\n",
       "         'особенность': 1,\n",
       "         'церемониал': 1,\n",
       "         'сделка': 2,\n",
       "         'обмен': 2,\n",
       "         'приторный': 2,\n",
       "         'любезность': 1,\n",
       "         'после': 28,\n",
       "         'опускать': 3,\n",
       "         'ресница': 3,\n",
       "         'скромный': 2,\n",
       "         'цена': 1,\n",
       "         'благородство': 1,\n",
       "         'уступка': 1,\n",
       "         'человеколюбие': 1,\n",
       "         'торговый': 1,\n",
       "         'реклама': 3,\n",
       "         'скверный': 3,\n",
       "         'подражание': 2,\n",
       "         'добро': 3,\n",
       "         'странно': 8,\n",
       "         'засасывать': 1,\n",
       "         'добрый': 5,\n",
       "         'александра': 21,\n",
       "         'яковлевна': 22,\n",
       "         'признаваться': 3,\n",
       "         'покупка': 2,\n",
       "         'знакомый': 13,\n",
       "         'нравственный': 1,\n",
       "         'переноситься': 1,\n",
       "         'особый': 5,\n",
       "         'мир': 14,\n",
       "         'где': 45,\n",
       "         'хмелеть': 1,\n",
       "         'вино': 1,\n",
       "         'сладость': 2,\n",
       "         'взаимный': 2,\n",
       "         'услуга': 1,\n",
       "         'отвечать': 7,\n",
       "         'суриковый': 1,\n",
       "         'улыбка': 8,\n",
       "         'продавец': 2,\n",
       "         'лучистый': 2,\n",
       "         'восторг': 2,\n",
       "         'род': 5,\n",
       "         'магазин': 3,\n",
       "         'входить': 9,\n",
       "         'достаточно': 2,\n",
       "         'определяться': 1,\n",
       "         'столик': 6,\n",
       "         'телефон': 4,\n",
       "         'телефонный': 1,\n",
       "         'книжка': 3,\n",
       "         'нарцисс': 1,\n",
       "         'ваза': 3,\n",
       "         'большой': 19,\n",
       "         'пепельница': 1,\n",
       "         'тот': 66,\n",
       "         'окончание': 3,\n",
       "         'папироса': 6,\n",
       "         'предпочтительно': 1,\n",
       "         'курить': 2,\n",
       "         'уходить': 11,\n",
       "         'без': 30,\n",
       "         'оказываться': 7,\n",
       "         'табачник': 1,\n",
       "         'крапчатый': 1,\n",
       "         'жилет': 1,\n",
       "         'перламутровый': 2,\n",
       "         'пуговица': 2,\n",
       "         'лысина': 2,\n",
       "         'тыквенный': 1,\n",
       "         'оттенок': 5,\n",
       "         'жизнь': 18,\n",
       "         'добирать': 1,\n",
       "         'натура': 2,\n",
       "         'возмещение': 1,\n",
       "         'постоянный': 3,\n",
       "         'переплата': 1,\n",
       "         'навязывать': 1,\n",
       "         'наугол': 1,\n",
       "         'невольно': 4,\n",
       "         'повертывать': 6,\n",
       "         'голова': 12,\n",
       "         'блеснуть': 1,\n",
       "         'рикошет': 1,\n",
       "         'висок': 3,\n",
       "         'увидеть': 10,\n",
       "         'быстрый': 3,\n",
       "         'мы': 56,\n",
       "         'приветствовать': 2,\n",
       "         'радуга': 1,\n",
       "         'выгружать': 1,\n",
       "         'параллелепипед': 1,\n",
       "         'белый': 10,\n",
       "         'ослепительный': 1,\n",
       "         'небо': 9,\n",
       "         'зеркальный': 2,\n",
       "         'шкап': 3,\n",
       "         'экран': 1,\n",
       "         'проходить': 14,\n",
       "         'безупречно': 1,\n",
       "         'ясный': 6,\n",
       "         'отражение': 2,\n",
       "         'ветвь': 5,\n",
       "         'качаться': 2,\n",
       "         'древесный': 1,\n",
       "         'человеческий': 4,\n",
       "         'колебание': 2,\n",
       "         'обусловливать': 1,\n",
       "         'природа': 4,\n",
       "         'кто': 10,\n",
       "         'нести': 4,\n",
       "         'скользящий': 1,\n",
       "         'фасад': 3,\n",
       "         'пойти': 8,\n",
       "         'далеко': 9,\n",
       "         'направляться': 4,\n",
       "         'к': 101,\n",
       "         'видеть': 16,\n",
       "         'ли': 36,\n",
       "         'доставлять': 1,\n",
       "         'удовольствие': 2,\n",
       "         'родственный': 1,\n",
       "         'качество': 3,\n",
       "         'встряхивать': 1,\n",
       "         'взять': 7,\n",
       "         'врасплох': 1,\n",
       "         'балка': 1,\n",
       "         'сеновал': 1,\n",
       "         'падать': 5,\n",
       "         'ребенок': 10,\n",
       "         'податливый': 1,\n",
       "         'мрак': 2,\n",
       "         'освобождать': 1,\n",
       "         'приятный': 4,\n",
       "         'несколько': 16,\n",
       "         'держаться': 6,\n",
       "         'темный': 10,\n",
       "         'дно': 2,\n",
       "         'мысль': 11,\n",
       "         'овладевать': 1,\n",
       "         'малый': 4,\n",
       "         'толчок': 6,\n",
       "         'сборник': 5,\n",
       "         'сейчас': 12,\n",
       "         'ни': 23,\n",
       "         'сие': 2,\n",
       "         'вспоминать': 6,\n",
       "         'полусотня': 1,\n",
       "         'стихотворение': 8,\n",
       "         'миг': 3,\n",
       "         'мысленно': 2,\n",
       "         'пробегать': 5,\n",
       "         'книга': 22,\n",
       "         'мгновенный': 3,\n",
       "         'туман': 2,\n",
       "         'безумно': 2,\n",
       "         'ускоренный': 1,\n",
       "         'музыка': 8,\n",
       "         'различать': 6,\n",
       "         'читательский': 1,\n",
       "         'смысл': 7,\n",
       "         'мелькать': 2,\n",
       "         'стих': 47,\n",
       "         'слово': 22,\n",
       "         'проноситься': 2,\n",
       "         'крутиться': 2,\n",
       "         'стремительный': 1,\n",
       "         'пена': 2,\n",
       "         'кипение': 1,\n",
       "         'сменять': 1,\n",
       "         'мощный': 2,\n",
       "         'бег': 3,\n",
       "         'если': 39,\n",
       "         'привязываться': 3,\n",
       "         'делывать': 2,\n",
       "         'смотреть': 13,\n",
       "         'дрожать': 7,\n",
       "         'мост': 2,\n",
       "         'водяной': 1,\n",
       "         'мельница': 2,\n",
       "         'пока': 11,\n",
       "         'обращаться': 9,\n",
       "         'корабельный': 1,\n",
       "         'корма': 1,\n",
       "         'прощать': 6,\n",
       "         'мелькание': 1,\n",
       "         'отдельно': 4,\n",
       "         'дико': 5,\n",
       "         'блаженно': 2,\n",
       "         'кричать': 3,\n",
       "         'издали': 3,\n",
       "         'звать': 5,\n",
       "         'вероятно': 5,\n",
       "         'домой': 4,\n",
       "         'вместе': 10,\n",
       "         'со': 39,\n",
       "         'сливочный': 1,\n",
       "         'белизна': 2,\n",
       "         'обложка': 2,\n",
       "         'сливаться': 1,\n",
       "         'ощущение': 4,\n",
       "         'счастие': 7,\n",
       "         'исключительный': 1,\n",
       "         'чистота': 3,\n",
       "         'собственно': 6,\n",
       "         'делать': 5,\n",
       "         'спохватываться': 2,\n",
       "         'ибо': 8,\n",
       "         'сдача': 1,\n",
       "         'получать': 4,\n",
       "         'дело': 11,\n",
       "         'высыпать': 1,\n",
       "         'резиновый': 3,\n",
       "         'островок': 1,\n",
       "         'посреди': 1,\n",
       "         'стеклянный': 3,\n",
       "         'прилавок': 2,\n",
       "         'сквозь': 11,\n",
       "         'снизу': 4,\n",
       "         'просвечивать': 3,\n",
       "         'подводный': 1,\n",
       "         'золото': 1,\n",
       "         'плоский': 4,\n",
       "         'флакон': 2,\n",
       "         'между': 19,\n",
       "         'снисходительный': 2,\n",
       "         'причуда': 1,\n",
       "         'приказчица': 2,\n",
       "         'любопытство': 4,\n",
       "         'рука': 35,\n",
       "         'платить': 2,\n",
       "         'предмет': 8,\n",
       "         'даже': 29,\n",
       "         'называть': 2,\n",
       "         'давать': 13,\n",
       "         'пожалуйста': 3,\n",
       "         'миндальный': 1,\n",
       "         'мыло': 1,\n",
       "         'сказать': 34,\n",
       "         'достоинство': 1,\n",
       "         'затем': 6,\n",
       "         'взлетать': 4,\n",
       "         'шаг': 9,\n",
       "         'воротиться': 1,\n",
       "         'панель': 9,\n",
       "         'никто': 10,\n",
       "         'ежели': 2,\n",
       "         'считать': 5,\n",
       "         'васильковый': 1,\n",
       "         'стул': 10,\n",
       "         'сдвигать': 2,\n",
       "         'лежать': 12,\n",
       "         'небольшой': 6,\n",
       "         'коричневый': 6,\n",
       "         'пианино': 1,\n",
       "         'оно': 14,\n",
       "         'спина': 7,\n",
       "         'подымать': 6,\n",
       "         'кверху': 1,\n",
       "         'маленький': 13,\n",
       "         'металлический': 1,\n",
       "         'подошва': 3,\n",
       "         'лестница': 3,\n",
       "         'встречать': 10,\n",
       "         'валить': 1,\n",
       "         'вниз': 3,\n",
       "         'колено': 8,\n",
       "         'врозь': 1,\n",
       "         'грузчик': 1,\n",
       "         'звонить': 1,\n",
       "         'дверь': 13,\n",
       "         'квартира': 6,\n",
       "         'слышать': 5,\n",
       "         'наверху': 1,\n",
       "         'переговариваться': 2,\n",
       "         'голос': 13,\n",
       "         'стучать': 3,\n",
       "         'молоток': 1,\n",
       "         'впускать': 2,\n",
       "         'квартирохозяйка': 1,\n",
       "         'полагать': 7,\n",
       "         'ключ': 9,\n",
       "         'комната': 33,\n",
       "         'крупный': 3,\n",
       "         'хищный': 1,\n",
       "         'немка': 2,\n",
       "         'странный': 9,\n",
       "         'имя': 8,\n",
       "         'мнимый': 3,\n",
       "         'подобие': 4,\n",
       "         'творительный': 1,\n",
       "         'падеж': 2,\n",
       "         'придавать': 4,\n",
       "         'звук': 7,\n",
       "         'сентиментальный': 2,\n",
       "         'заверение': 1,\n",
       "         'ее': 24,\n",
       "         'Clara': 1,\n",
       "         'Stoboy': 1,\n",
       "         'продолговатый': 2,\n",
       "         'стоить': 7,\n",
       "         'терпеливый': 1,\n",
       "         'разом': 1,\n",
       "         'перемениться': 2,\n",
       "         'бог': 7,\n",
       "         'ужасный': 4,\n",
       "         'унизительный': 1,\n",
       "         'скука': 2,\n",
       "         'очередной': 3,\n",
       "         'отказ': 1,\n",
       "         'гнусный': 2,\n",
       "         'гнет': 2,\n",
       "         'новоселье': 1,\n",
       "         'невозможность': 1,\n",
       "         'чужой': 5,\n",
       "         'неизбежность': 1,\n",
       "         'бессонница': 2,\n",
       "         'кушетка': 5,\n",
       "         'некоторый': 5,\n",
       "         'время': 24,\n",
       "         'простокваша': 2,\n",
       "         'изредка': 2,\n",
       "         'плыть': 1,\n",
       "         'слепой': 5,\n",
       "         'солнце': 4,\n",
       "         'появляться': 7,\n",
       "         'опаловый': 1,\n",
       "         'яма': 1,\n",
       "         'тогда': 13,\n",
       "         'внизу': 2,\n",
       "         'кругловатый': 1,\n",
       "         'крыша': 1,\n",
       "         'страшно': 7,\n",
       "         'скоро': 6,\n",
       "         'стремиться': 2,\n",
       "         'бытие': 2,\n",
       "         'недовоплощаться': 1,\n",
       "         'растворяться': 2,\n",
       "         'тонкий': 4,\n",
       "         'тень': 18,\n",
       "         'липовый': 1,\n",
       "         'насупротив': 1,\n",
       "         'наполовину': 3,\n",
       "         'лес': 6,\n",
       "         'здоровый': 2,\n",
       "         'кирпичный': 3,\n",
       "         'обрастать': 3,\n",
       "         'плющ': 2,\n",
       "         'лезть': 1,\n",
       "         'глубина': 4,\n",
       "         'проход': 1,\n",
       "         'разделять': 1,\n",
       "         'палисадник': 1,\n",
       "         'чернеться': 1,\n",
       "         'вывеска': 1,\n",
       "         'подвальный': 1,\n",
       "         'угольнуть': 1,\n",
       "         'посредник': 1,\n",
       "         'именно': 7,\n",
       "         'прозревать': 1,\n",
       "         'палевый': 3,\n",
       "         'сизый': 3,\n",
       "         'тюльпан': 2,\n",
       "         'обои': 1,\n",
       "         'трудно': 7,\n",
       "         'претворять': 1,\n",
       "         'степной': 1,\n",
       "         'даль': 4,\n",
       "         'пустыня': 1,\n",
       "         'письменный': 5,\n",
       "         'стол': 16,\n",
       "         'приходиться': 14,\n",
       "         'возделывать': 1,\n",
       "         'долго': 15,\n",
       "         'прежде': 4,\n",
       "         'восходить': 1,\n",
       "         'надобно': 2,\n",
       "         'сыпать': 1,\n",
       "         'пепел': 2,\n",
       "         'кресло': 4,\n",
       "         'пах': 1,\n",
       "         'сделаться': 2,\n",
       "         'пригодный': 1,\n",
       "         'путешествие': 4,\n",
       "         'хозяйка': 2,\n",
       "         'приходить': 13,\n",
       "         'вежливо': 1,\n",
       "         'сутулиться': 2,\n",
       "         'последовать': 3,\n",
       "         'столовая': 2,\n",
       "         'александр': 12,\n",
       "         'яковлевич': 10,\n",
       "         'почему': 6,\n",
       "         'милостивый': 1,\n",
       "         'государь': 1,\n",
       "         'вы': 75,\n",
       "         'неохотно': 1,\n",
       "         'ваш': 9,\n",
       "         'выезжать': 2,\n",
       "         'небось': 1,\n",
       "         'треск': 4,\n",
       "         'хотеть': 9,\n",
       "         'поздравлять': 2,\n",
       "         'честный': 2,\n",
       "         'другой': 42,\n",
       "         'сторона': 16,\n",
       "         'ну': 7,\n",
       "         'случай': 5,\n",
       "         'слушать': 9,\n",
       "         'читать': 19,\n",
       "         'неизвестный': 5,\n",
       "         'федор': 52,\n",
       "         'годунов': 9,\n",
       "         'чердынцев': 9,\n",
       "         'явление': 2,\n",
       "         'столь': 5,\n",
       "         'поэтический': 4,\n",
       "         'талант': 4,\n",
       "         'несомненный': 1,\n",
       "         'оборвать': 1,\n",
       "         'вечер': 9,\n",
       "         'статья': 6,\n",
       "         'константинович': 51,\n",
       "         'дорогой': 4,\n",
       "         'думать': 13,\n",
       "         'обижаться': 1,\n",
       "         'перехваливать': 1,\n",
       "         'значит': 2,\n",
       "         'прийти': 3,\n",
       "         'отлично': 4,\n",
       "         'ждать': 8,\n",
       "         'вешать': 1,\n",
       "         'трубка': 2,\n",
       "         'сбивать': 2,\n",
       "         'стальной': 1,\n",
       "         'жечь': 1,\n",
       "         'карандаш': 5,\n",
       "         'привязь': 1,\n",
       "         'удерживать': 2,\n",
       "         'смахивать': 2,\n",
       "         'въезжать': 2,\n",
       "         'бедро': 3,\n",
       "         'буфет': 4,\n",
       "         'выронить': 1,\n",
       "         'ход': 4,\n",
       "         'тащить': 2,\n",
       "         'пачка': 1,\n",
       "         'наконец': 13,\n",
       "         'зазвенеть': 1,\n",
       "         'рассчитать': 1,\n",
       "         'размах': 2,\n",
       "         'коридор': 2,\n",
       "         'блюдце': 3,\n",
       "         'молоко': 1,\n",
       "         'фрау': 1,\n",
       "         'стобой': 2,\n",
       "         'холодно': 3,\n",
       "         'произносить': 4,\n",
       "         'упс': 1,\n",
       "         'захотеться': 1,\n",
       "         'платье': 4,\n",
       "         'прекрасно': 1,\n",
       "         'пробор': 1,\n",
       "         'гофрированный': 1,\n",
       "         'волос': 7,\n",
       "         'щека': 4,\n",
       "         'нечто': 3,\n",
       "         'жорж': 1,\n",
       "         'сандово': 1,\n",
       "         'царственный': 1,\n",
       "         'верх': 2,\n",
       "         'совершенство': 2,\n",
       "         'ограничиваться': 1,\n",
       "         'сиять': 4,\n",
       "         'чуть': 6,\n",
       "         'упасть': 4,\n",
       "         'тигровый': 1,\n",
       "         'полоска': 1,\n",
       "         'поспевать': 1,\n",
       "         'отскочить': 1,\n",
       "         'кот': 1,\n",
       "         'никогда': 8,\n",
       "         'сомневаться': 2,\n",
       "         'сотня': 1,\n",
       "         'любитель': 2,\n",
       "         'покидать': 2,\n",
       "         'петербург': 3,\n",
       "         'москва': 2,\n",
       "         'киев': 2,\n",
       "         'немедленно': 3,\n",
       "         'оценивать': 2,\n",
       "         'дар': 5,\n",
       "         'озаглавливать': 1,\n",
       "         'простой': 3,\n",
       "         'фрачный': 1,\n",
       "         'ливрея': 1,\n",
       "         'обязательный': 1,\n",
       "         'недавний': 2,\n",
       "         'галун': 1,\n",
       "         'лунный': 1,\n",
       "         'грЈз': 1,\n",
       "         'символический': 1,\n",
       "         'латынь': 1,\n",
       "         'содержать': 2,\n",
       "         'пятьдесят': 3,\n",
       "         'двенадцатистишие': 2,\n",
       "         'посвящать': 2,\n",
       "         'целиком': 2,\n",
       "         'тема': 5,\n",
       "         'детство': 8,\n",
       "         'набожный': 1,\n",
       "         'сочинение': 1,\n",
       "         'обобщать': 1,\n",
       "         'преимущественно': 1,\n",
       "         'отбирать': 1,\n",
       "         'черта': 7,\n",
       "         'иначе': 6,\n",
       "         'свойственный': 3,\n",
       "         'удаваться': 4,\n",
       "         'отсюда': 2,\n",
       "         'очевидность': 1,\n",
       "         'дозволять': 1,\n",
       "         'проникать': 2,\n",
       "         'действительно': 7,\n",
       "         'полностью': 4,\n",
       "         'примесь': 1,\n",
       "         'изысканность': 2,\n",
       "         'одновременно': 2,\n",
       "         'усилие': 5,\n",
       "         'утрачивать': 2,\n",
       "         'руководство': 1,\n",
       "         'игра': 7,\n",
       "         'состояние': 5,\n",
       "         'игралище': 1,\n",
       "         'стратегия': 1,\n",
       "         'вдохновение': 3,\n",
       "         'тактика': 1,\n",
       "         'ум': 4,\n",
       "         'плоть': 1,\n",
       "         'поэзия': 7,\n",
       "         'призрак': 6,\n",
       "         'прозрачный': 8,\n",
       "         'проза': 3,\n",
       "         'определение': 3,\n",
       "         ...})"
      ]
     },
     "execution_count": 78,
     "metadata": {},
     "output_type": "execute_result"
    }
   ],
   "source": [
    "c"
   ]
  },
  {
   "cell_type": "code",
   "execution_count": null,
   "metadata": {},
   "outputs": [],
   "source": []
  },
  {
   "cell_type": "code",
   "execution_count": 77,
   "metadata": {},
   "outputs": [
    {
     "data": {
      "text/plain": [
       "[('и', 718),\n",
       " ('в', 583),\n",
       " ('он', 375),\n",
       " ('с', 339),\n",
       " ('на', 319),\n",
       " ('не', 297),\n",
       " ('я', 277),\n",
       " ('быть', 249),\n",
       " ('что', 247),\n",
       " ('как', 203),\n",
       " ('который', 147),\n",
       " ('а', 137),\n",
       " ('она', 137),\n",
       " ('но', 129),\n",
       " ('то', 129),\n",
       " ('это', 111),\n",
       " ('по', 103),\n",
       " ('к', 101),\n",
       " ('так', 96),\n",
       " ('они', 91),\n",
       " ('этот', 90),\n",
       " ('у', 86),\n",
       " ('за', 86),\n",
       " ('его', 84),\n",
       " ('свой', 82),\n",
       " ('из', 81),\n",
       " ('когда', 80),\n",
       " ('о', 79),\n",
       " ('всЈ', 77),\n",
       " ('бы', 76),\n",
       " ('вы', 75),\n",
       " ('же', 74),\n",
       " ('еще', 71),\n",
       " ('весь', 67),\n",
       " ('тот', 66),\n",
       " ('себя', 65),\n",
       " ('от', 65),\n",
       " ('мой', 63),\n",
       " ('или', 59),\n",
       " ('до', 56),\n",
       " ('мы', 56),\n",
       " ('уже', 54),\n",
       " ('один', 53),\n",
       " ('федор', 52),\n",
       " ('константинович', 51),\n",
       " ('знать', 50),\n",
       " ('только', 47),\n",
       " ('стих', 47),\n",
       " ('мочь', 45),\n",
       " ('где', 45),\n",
       " ('такой', 42),\n",
       " ('другой', 42),\n",
       " ('да', 41),\n",
       " ('сам', 40),\n",
       " ('вот', 40),\n",
       " ('если', 39),\n",
       " ('со', 39),\n",
       " ('для', 37),\n",
       " ('ли', 36),\n",
       " ('рука', 35),\n",
       " ('год', 34),\n",
       " ('сказать', 34),\n",
       " ('комната', 33),\n",
       " ('там', 32),\n",
       " ('без', 30),\n",
       " ('вдруг', 29),\n",
       " ('даже', 29),\n",
       " ('стоять', 28),\n",
       " ('лицо', 28),\n",
       " ('становиться', 28),\n",
       " ('после', 28),\n",
       " ('первый', 27),\n",
       " ('нога', 27),\n",
       " ('ничто', 27),\n",
       " ('глаз', 27),\n",
       " ('под', 27),\n",
       " ('чтобы', 27),\n",
       " ('черный', 26),\n",
       " ('два', 26),\n",
       " ('теперь', 26),\n",
       " ('угол', 26),\n",
       " ('яша', 26),\n",
       " ('при', 25),\n",
       " ('говорить', 25),\n",
       " ('какой', 25),\n",
       " ('васильев', 25),\n",
       " ('наш', 24),\n",
       " ('день', 24),\n",
       " ('улица', 24),\n",
       " ('идти', 24),\n",
       " ('раз', 24),\n",
       " ('ее', 24),\n",
       " ('время', 24),\n",
       " ('тут', 23),\n",
       " ('самый', 23),\n",
       " ('все', 23),\n",
       " ('ни', 23),\n",
       " ('человек', 23),\n",
       " ('рудольф', 23),\n",
       " ('новый', 22),\n",
       " ('казаться', 22),\n",
       " ('яковлевна', 22),\n",
       " ('книга', 22),\n",
       " ('слово', 22),\n",
       " ('очень', 21),\n",
       " ('во', 21),\n",
       " ('александра', 21),\n",
       " ('опять', 21),\n",
       " ('выходить', 20),\n",
       " ('совершенно', 20),\n",
       " ('конец', 20),\n",
       " ('нет', 20),\n",
       " ('находить', 20),\n",
       " ('место', 20),\n",
       " ('молодой', 20),\n",
       " ('ночь', 20),\n",
       " ('сидеть', 20),\n",
       " ('дом', 19),\n",
       " ('чем', 19),\n",
       " ('большой', 19),\n",
       " ('между', 19),\n",
       " ('читать', 19),\n",
       " ('ты', 19),\n",
       " ('много', 18),\n",
       " ('едва', 18),\n",
       " ('жизнь', 18),\n",
       " ('тень', 18),\n",
       " ('мать', 18),\n",
       " ('полный', 18),\n",
       " ('оля', 18),\n",
       " ('русский', 17),\n",
       " ('вид', 17),\n",
       " ('их', 17),\n",
       " ('оставаться', 17),\n",
       " ('через', 17),\n",
       " ('потом', 17),\n",
       " ('совсем', 17),\n",
       " ('среди', 17),\n",
       " ('отец', 17),\n",
       " ('жить', 16),\n",
       " ('начинать', 16),\n",
       " ('потому', 16),\n",
       " ('свет', 16),\n",
       " ('три', 16),\n",
       " ('видеть', 16),\n",
       " ('несколько', 16),\n",
       " ('стол', 16),\n",
       " ('сторона', 16),\n",
       " ('любовь', 16),\n",
       " ('уж', 16),\n",
       " ('долго', 15),\n",
       " ('чернышевский', 15),\n",
       " ('синий', 14),\n",
       " ('последний', 14),\n",
       " ('хорошо', 14),\n",
       " ('можно', 14),\n",
       " ('мир', 14),\n",
       " ('проходить', 14),\n",
       " ('оно', 14),\n",
       " ('приходиться', 14),\n",
       " ('представлять', 14),\n",
       " ('бывать', 14),\n",
       " ('начинаться', 13),\n",
       " ('автор', 13),\n",
       " ('каждый', 13),\n",
       " ('толстый', 13),\n",
       " ('взгляд', 13),\n",
       " ('чувство', 13),\n",
       " ('вещь', 13),\n",
       " ('знакомый', 13),\n",
       " ('смотреть', 13),\n",
       " ('давать', 13),\n",
       " ('маленький', 13),\n",
       " ('дверь', 13),\n",
       " ('голос', 13),\n",
       " ('тогда', 13),\n",
       " ('приходить', 13),\n",
       " ('думать', 13),\n",
       " ('наконец', 13),\n",
       " ('всегда', 13),\n",
       " ('образ', 13),\n",
       " ('газета', 13),\n",
       " ('душа', 13),\n",
       " ('замечать', 12),\n",
       " ('пора', 12),\n",
       " ('голова', 12),\n",
       " ('сейчас', 12),\n",
       " ('лежать', 12),\n",
       " ('александр', 12),\n",
       " ('поэт', 12),\n",
       " ('сад', 12),\n",
       " ('писать', 12),\n",
       " ('красный', 12),\n",
       " ('минута', 12),\n",
       " ('марковна', 12),\n",
       " ('разговор', 12),\n",
       " ('россия', 11),\n",
       " ('смерть', 11),\n",
       " ('час', 11),\n",
       " ('высокий', 11),\n",
       " ('уходить', 11),\n",
       " ('мысль', 11),\n",
       " ('пока', 11),\n",
       " ('дело', 11),\n",
       " ('сквозь', 11),\n",
       " ('над', 11),\n",
       " ('случаться', 11),\n",
       " ('забывать', 11),\n",
       " ('таня', 11),\n",
       " ('узнавать', 11),\n",
       " ('сын', 11),\n",
       " ('хотя', 10),\n",
       " ('часть', 10),\n",
       " ('более', 10),\n",
       " ('перед', 10),\n",
       " ('переходить', 10),\n",
       " ('женщина', 10),\n",
       " ('находиться', 10),\n",
       " ('лист', 10),\n",
       " ('окно', 10),\n",
       " ('вставать', 10),\n",
       " ('увидеть', 10),\n",
       " ('белый', 10),\n",
       " ('кто', 10),\n",
       " ('ребенок', 10),\n",
       " ('темный', 10),\n",
       " ('вместе', 10),\n",
       " ('никто', 10),\n",
       " ('стул', 10),\n",
       " ('встречать', 10),\n",
       " ('яковлевич', 10),\n",
       " ('надо', 10),\n",
       " ('память', 10),\n",
       " ('старый', 10),\n",
       " ('лишь', 10),\n",
       " ('однако', 10),\n",
       " ('иногда', 10),\n",
       " ('снова', 10),\n",
       " ('глядеть', 10),\n",
       " ('путь', 10),\n",
       " ('почти', 10),\n",
       " ('чувствовать', 10),\n",
       " ('просто', 10),\n",
       " ('понимать', 10),\n",
       " ('прочитывать', 10),\n",
       " ('немецкий', 9),\n",
       " ('литература', 9),\n",
       " ('бок', 9),\n",
       " ('около', 9),\n",
       " ('принимать', 9),\n",
       " ('сразу', 9),\n",
       " ('тайный', 9),\n",
       " ('входить', 9),\n",
       " ('небо', 9),\n",
       " ('далеко', 9),\n",
       " ('обращаться', 9),\n",
       " ('шаг', 9),\n",
       " ('панель', 9),\n",
       " ('ключ', 9),\n",
       " ('странный', 9),\n",
       " ('ваш', 9),\n",
       " ('хотеть', 9),\n",
       " ('слушать', 9),\n",
       " ('годунов', 9),\n",
       " ('чердынцев', 9),\n",
       " ('вечер', 9),\n",
       " ('волнение', 9),\n",
       " ('пол', 9),\n",
       " ('занимать', 9),\n",
       " ('движение', 9),\n",
       " ('собственный', 9),\n",
       " ('зато', 9),\n",
       " ('друг', 9),\n",
       " ('получаться', 9),\n",
       " ('общий', 9),\n",
       " ('происходить', 9),\n",
       " ('хороший', 9),\n",
       " ('особенно', 9),\n",
       " ('продолжать', 9),\n",
       " ('словно', 9),\n",
       " ('легкий', 9),\n",
       " ('быстро', 9),\n",
       " ('сделать', 9),\n",
       " ('никак', 9),\n",
       " ('благодарить', 9),\n",
       " ('номер', 8),\n",
       " ('держать', 8),\n",
       " ('точно', 8),\n",
       " ('сегодня', 8),\n",
       " ('кажется', 8),\n",
       " ('всякий', 8),\n",
       " ('воспоминание', 8),\n",
       " ('странно', 8),\n",
       " ('улыбка', 8),\n",
       " ('пойти', 8),\n",
       " ('стихотворение', 8),\n",
       " ('музыка', 8),\n",
       " ('ибо', 8),\n",
       " ('предмет', 8),\n",
       " ('колено', 8),\n",
       " ('имя', 8),\n",
       " ('ждать', 8),\n",
       " ('никогда', 8),\n",
       " ('детство', 8),\n",
       " ('прозрачный', 8),\n",
       " ('куда', 8),\n",
       " ('успевать', 8),\n",
       " ('край', 8),\n",
       " ('второй', 8),\n",
       " ('тоже', 8),\n",
       " ('высоко', 8),\n",
       " ('вообще', 8),\n",
       " ('постель', 8),\n",
       " ('сердце', 8),\n",
       " ('будто', 8),\n",
       " ('счастливый', 8),\n",
       " ('чистый', 8),\n",
       " ('мгновение', 8),\n",
       " ('конечно', 8),\n",
       " ('освещать', 8),\n",
       " ('хотеться', 8),\n",
       " ('мало', 8),\n",
       " ('палец', 8),\n",
       " ('рассказывать', 8),\n",
       " ('посмотреть', 8),\n",
       " ('история', 8),\n",
       " ('вернуться', 8),\n",
       " ('буш', 8),\n",
       " ('дерево', 7),\n",
       " ('длинный', 7),\n",
       " ('лоб', 7),\n",
       " ('следующий', 7),\n",
       " ('ветер', 7),\n",
       " ('оба', 7),\n",
       " ('внутри', 7),\n",
       " ('сей', 7),\n",
       " ('будущий', 7),\n",
       " ('серый', 7),\n",
       " ('подумать', 7),\n",
       " ('четыре', 7),\n",
       " ('вроде', 7),\n",
       " ('отвечать', 7),\n",
       " ('оказываться', 7),\n",
       " ('взять', 7),\n",
       " ('смысл', 7),\n",
       " ('дрожать', 7),\n",
       " ('счастие', 7),\n",
       " ('спина', 7),\n",
       " ('полагать', 7),\n",
       " ('звук', 7),\n",
       " ('стоить', 7),\n",
       " ('бог', 7),\n",
       " ('появляться', 7),\n",
       " ('страшно', 7),\n",
       " ('именно', 7),\n",
       " ('трудно', 7),\n",
       " ('ну', 7),\n",
       " ('волос', 7),\n",
       " ('черта', 7),\n",
       " ('действительно', 7),\n",
       " ('игра', 7),\n",
       " ('поэзия', 7),\n",
       " ('верный', 7),\n",
       " ('диван', 7),\n",
       " ('вокруг', 7),\n",
       " ('выход', 7),\n",
       " ('часто', 7),\n",
       " ('испытывать', 7),\n",
       " ('левый', 7),\n",
       " ('попадать', 7),\n",
       " ('шелковый', 7),\n",
       " ('медленно', 7),\n",
       " ('вода', 7),\n",
       " ('начало', 7),\n",
       " ('сильно', 7),\n",
       " ('земля', 7),\n",
       " ('снег', 7),\n",
       " ('зима', 7),\n",
       " ('торговка', 7),\n",
       " ('садиться', 7),\n",
       " ('рассматривать', 7),\n",
       " ('брат', 7),\n",
       " ('попадаться', 7),\n",
       " ('башмак', 7),\n",
       " ('похожий', 7),\n",
       " ('написать', 7),\n",
       " ('напоминать', 7),\n",
       " ('кончей', 7),\n",
       " ('цветок', 6),\n",
       " ('светлый', 6),\n",
       " ('например', 6),\n",
       " ('семь', 6),\n",
       " ('останавливаться', 6),\n",
       " ('фургон', 6),\n",
       " ('зеленый', 6),\n",
       " ('рот', 6),\n",
       " ('дух', 6),\n",
       " ('внимание', 6),\n",
       " ('собираться', 6),\n",
       " ('впрочем', 6),\n",
       " ('погода', 6),\n",
       " ('обращать', 6),\n",
       " ('кнопка', 6),\n",
       " ('лавка', 6),\n",
       " ('разный', 6),\n",
       " ('стекло', 6),\n",
       " ('столик', 6),\n",
       " ('папироса', 6),\n",
       " ('повертывать', 6),\n",
       " ('ясный', 6),\n",
       " ('держаться', 6),\n",
       " ('толчок', 6),\n",
       " ('вспоминать', 6),\n",
       " ('различать', 6),\n",
       " ('прощать', 6),\n",
       " ('собственно', 6),\n",
       " ('затем', 6),\n",
       " ('небольшой', 6),\n",
       " ('коричневый', 6),\n",
       " ('подымать', 6),\n",
       " ('квартира', 6),\n",
       " ('скоро', 6),\n",
       " ('лес', 6),\n",
       " ('почему', 6),\n",
       " ('статья', 6),\n",
       " ('чуть', 6),\n",
       " ('иначе', 6),\n",
       " ('призрак', 6),\n",
       " ('тотчас', 6),\n",
       " ('обратный', 6),\n",
       " ('мяч', 6),\n",
       " ('сон', 6),\n",
       " ('вырастать', 6),\n",
       " ('стена', 6),\n",
       " ('ко', 6),\n",
       " ('кроме', 6),\n",
       " ('расти', 6),\n",
       " ('детский', 6),\n",
       " ('вздор', 6),\n",
       " ('про', 6),\n",
       " ('случайно', 6),\n",
       " ('мальчик', 6),\n",
       " ('круглый', 6),\n",
       " ('блеск', 6),\n",
       " ('тихий', 6),\n",
       " ('слабый', 6),\n",
       " ('пустой', 6),\n",
       " ('несмотря', 6),\n",
       " ('ладонь', 6),\n",
       " ('назад', 6),\n",
       " ('никакой', 6),\n",
       " ('губа', 6),\n",
       " ('настоящий', 6),\n",
       " ('спускаться', 6),\n",
       " ('тихо', 6),\n",
       " ('художник', 6),\n",
       " ('бледный', 6),\n",
       " ('играть', 6),\n",
       " ('след', 6),\n",
       " ('стараться', 6),\n",
       " ('приносить', 6),\n",
       " ('вовсе', 6),\n",
       " ('давно', 6),\n",
       " ('вдоль', 6),\n",
       " ('таки', 6),\n",
       " ('рифма', 6),\n",
       " ('чтение', 6),\n",
       " ('признавать', 6),\n",
       " ('третий', 6),\n",
       " ('сквер', 6),\n",
       " ('мокрый', 6),\n",
       " ('слава', 6),\n",
       " ('нужно', 6),\n",
       " ('муж', 6),\n",
       " ('барышня', 6),\n",
       " ('блок', 6),\n",
       " ('выражаться', 6),\n",
       " ('любить', 6),\n",
       " ('берлинский', 6),\n",
       " ('война', 6),\n",
       " ('яшин', 6),\n",
       " ('круг', 6),\n",
       " ('трагедия', 6),\n",
       " ('немой', 6),\n",
       " ('желтый', 5),\n",
       " ('название', 5),\n",
       " ('класс', 5),\n",
       " ('старик', 5),\n",
       " ('трое', 5),\n",
       " ('штука', 5),\n",
       " ('купить', 5),\n",
       " ('капля', 5),\n",
       " ('завтра', 5),\n",
       " ('весенний', 5),\n",
       " ('яркий', 5),\n",
       " ('цвет', 5),\n",
       " ('порядок', 5),\n",
       " ('данный', 5),\n",
       " ('город', 5),\n",
       " ('скажем', 5),\n",
       " ('мера', 5),\n",
       " ('ряд', 5),\n",
       " ('боже', 5),\n",
       " ('добрый', 5),\n",
       " ('особый', 5),\n",
       " ('род', 5),\n",
       " ('оттенок', 5),\n",
       " ('ветвь', 5),\n",
       " ('падать', 5),\n",
       " ('сборник', 5),\n",
       " ('пробегать', 5),\n",
       " ('дико', 5),\n",
       " ('звать', 5),\n",
       " ('вероятно', 5),\n",
       " ('делать', 5),\n",
       " ('считать', 5),\n",
       " ('слышать', 5),\n",
       " ('чужой', 5),\n",
       " ('кушетка', 5),\n",
       " ('некоторый', 5),\n",
       " ('слепой', 5),\n",
       " ('письменный', 5),\n",
       " ('случай', 5),\n",
       " ('неизвестный', 5),\n",
       " ('столь', 5),\n",
       " ('карандаш', 5),\n",
       " ('дар', 5),\n",
       " ('тема', 5),\n",
       " ('усилие', 5),\n",
       " ('состояние', 5),\n",
       " ('воздух', 5),\n",
       " ('возвращаться', 5),\n",
       " ('скамейка', 5),\n",
       " ('пропадать', 5),\n",
       " ('тяжелый', 5),\n",
       " ('темнота', 5),\n",
       " ('туда', 5),\n",
       " ('трепетать', 5),\n",
       " ('ведь', 5),\n",
       " ('страшный', 5),\n",
       " ('разве', 5),\n",
       " ('подниматься', 5),\n",
       " ('раскрывать', 5),\n",
       " ('таинственный', 5),\n",
       " ('полка', 5),\n",
       " ('интересный', 5),\n",
       " ('ВсЈ', 5),\n",
       " ('галстук', 5),\n",
       " ('веселый', 5),\n",
       " ('перо', 5),\n",
       " ('чтоб', 5),\n",
       " ('иметь', 5),\n",
       " ('грудь', 5),\n",
       " ('розовый', 5),\n",
       " ('мертвый', 5),\n",
       " ('проводить', 5),\n",
       " ('выражать', 5),\n",
       " ('связь', 5),\n",
       " ('равный', 5),\n",
       " ('огромный', 5),\n",
       " ('надевать', 5),\n",
       " ('блестящий', 5),\n",
       " ('меняться', 5),\n",
       " ('мечта', 5),\n",
       " ('звучать', 5),\n",
       " ('описывать', 5),\n",
       " ('скрывать', 5),\n",
       " ('жар', 5),\n",
       " ('сколько', 5),\n",
       " ('толпа', 5),\n",
       " ('недавно', 5),\n",
       " ('господин', 5),\n",
       " ('десять', 5),\n",
       " ('помощь', 5),\n",
       " ('живой', 5),\n",
       " ('должно', 5),\n",
       " ('отмечать', 5),\n",
       " ('переезжать', 5),\n",
       " ('нежный', 5),\n",
       " ('пешком', 5),\n",
       " ('сущность', 5),\n",
       " ('площадка', 5),\n",
       " ('макинтош', 5),\n",
       " ('слеза', 5),\n",
       " ('век', 5),\n",
       " ('отчизна', 5),\n",
       " ('близко', 5),\n",
       " ('двое', 5),\n",
       " ('фонарь', 5),\n",
       " ('положение', 5),\n",
       " ('литературный', 5),\n",
       " ('союз', 5),\n",
       " ('месяц', 5),\n",
       " ('чернышевская', 5),\n",
       " ('носок', 5),\n",
       " ('тамара', 5),\n",
       " ('фамилия', 5),\n",
       " ('инженер', 5),\n",
       " ('плохо', 5),\n",
       " ('шея', 5),\n",
       " ('локоть', 5),\n",
       " ('кстати', 5),\n",
       " ('показывать', 5),\n",
       " ('рядом', 5),\n",
       " ('страсть', 5),\n",
       " ('повторять', 5),\n",
       " ('треугольник', 5),\n",
       " ('яшина', 5),\n",
       " ('тогдашний', 5),\n",
       " ('вскоре', 5),\n",
       " ('дама', 5),\n",
       " ('револьвер', 5),\n",
       " ('жена', 5),\n",
       " ('редакция', 5),\n",
       " ('собрание', 5),\n",
       " ('роза', 4),\n",
       " ('четвертый', 4),\n",
       " ('задний', 4),\n",
       " ('слева', 4),\n",
       " ('краска', 4),\n",
       " ('попытка', 4),\n",
       " ('мебель', 4),\n",
       " ('слегка', 4),\n",
       " ('холодный', 4),\n",
       " ('красивый', 4),\n",
       " ('пахнуть', 4),\n",
       " ('обстановка', 4),\n",
       " ('записывать', 4),\n",
       " ('откуда', 4),\n",
       " ('вращаться', 4),\n",
       " ('скользить', 4),\n",
       " ('связывать', 4),\n",
       " ('рост', 4),\n",
       " ('дождь', 4),\n",
       " ('пять', 4),\n",
       " ('грозить', 4),\n",
       " ('рассеянный', 4),\n",
       " ('иной', 4),\n",
       " ('ствол', 4),\n",
       " ('синеватый', 4),\n",
       " ('отказываться', 4),\n",
       " ('сообщать', 4),\n",
       " ('сочетание', 4),\n",
       " ('поспешно', 4),\n",
       " ('строка', 4),\n",
       " ('телефон', 4),\n",
       " ('невольно', 4),\n",
       " ('человеческий', 4),\n",
       " ('природа', 4),\n",
       " ('нести', 4),\n",
       " ('направляться', 4),\n",
       " ('приятный', 4),\n",
       " ('малый', 4),\n",
       " ('отдельно', 4),\n",
       " ('домой', 4),\n",
       " ('ощущение', 4),\n",
       " ('получать', 4),\n",
       " ('снизу', 4),\n",
       " ('плоский', 4),\n",
       " ('любопытство', 4),\n",
       " ('взлетать', 4),\n",
       " ('подобие', 4),\n",
       " ('придавать', 4),\n",
       " ('ужасный', 4),\n",
       " ('солнце', 4),\n",
       " ('тонкий', 4),\n",
       " ('глубина', 4),\n",
       " ('даль', 4),\n",
       " ('прежде', 4),\n",
       " ('кресло', 4),\n",
       " ('путешествие', 4),\n",
       " ('треск', 4),\n",
       " ('поэтический', 4),\n",
       " ('талант', 4),\n",
       " ('дорогой', 4),\n",
       " ('отлично', 4),\n",
       " ('буфет', 4),\n",
       " ('ход', 4),\n",
       " ('произносить', 4),\n",
       " ('платье', 4),\n",
       " ('щека', 4),\n",
       " ('сиять', 4),\n",
       " ('упасть', 4),\n",
       " ('удаваться', 4),\n",
       " ('полностью', 4),\n",
       " ('ум', 4),\n",
       " ('милый', 4),\n",
       " ('пользоваться', 4),\n",
       " ('аллея', 4),\n",
       " ('внешний', 4),\n",
       " ('вялый', 4),\n",
       " ('медленный', 4),\n",
       " ('гулять', 4),\n",
       " ('зря', 4),\n",
       " ('эпитет', 4),\n",
       " ('огонь', 4),\n",
       " ('ранний', 4),\n",
       " ('болезнь', 4),\n",
       " ('урок', 4),\n",
       " ('игрушка', 4),\n",
       " ('мимо', 4),\n",
       " ('вести', 4),\n",
       " ('смешной', 4),\n",
       " ('помнить', 4),\n",
       " ('бумага', 4),\n",
       " ('касаться', 4),\n",
       " ('было', 4),\n",
       " ('девочка', 4),\n",
       " ('выражение', 4),\n",
       " ('улыбаться', 4),\n",
       " ('радость', 4),\n",
       " ('обливать', 4),\n",
       " ('прекрасный', 4),\n",
       " ('об', 4),\n",
       " ('золотой', 4),\n",
       " ('зеркало', 4),\n",
       " ('речь', 4),\n",
       " ('подушка', 4),\n",
       " ('шкала', 4),\n",
       " ('щель', 4),\n",
       " ('голый', 4),\n",
       " ('язык', 4),\n",
       " ('женский', 4),\n",
       " ('мягкий', 4),\n",
       " ('труд', 4),\n",
       " ('спальня', 4),\n",
       " ('тон', 4),\n",
       " ('далекий', 4),\n",
       " ('либо', 4),\n",
       " ('вписывать', 4),\n",
       " ('шапка', 4),\n",
       " ('прошлое', 4),\n",
       " ('вследствие', 4),\n",
       " ('впечатление', 4),\n",
       " ('лед', 4),\n",
       " ('подбородок', 4),\n",
       " ('слог', 4),\n",
       " ('ступня', 4),\n",
       " ('песок', 4),\n",
       " ('сзади', 4),\n",
       " ('объяснять', 4),\n",
       " ('гореть', 4),\n",
       " ('земной', 4),\n",
       " ('тело', 4),\n",
       " ('поставлять', 4),\n",
       " ('градусник', 4),\n",
       " ('вынимать', 4),\n",
       " ('очаровательный', 4),\n",
       " ('бровь', 4),\n",
       " ('число', 4),\n",
       " ('отдавать', 4),\n",
       " ('ночной', 4),\n",
       " ('ясно', 4),\n",
       " ('дальний', 4),\n",
       " ('немножко', 4),\n",
       " ('влажный', 4),\n",
       " ('скрываться', 4),\n",
       " ('насчет', 4),\n",
       " ('канава', 4),\n",
       " ('петербургский', 4),\n",
       " ('трогать', 4),\n",
       " ('форма', 4),\n",
       " ('свежий', 4),\n",
       " ('спутник', 4),\n",
       " ('столб', 4),\n",
       " ('облик', 4),\n",
       " ('велосипед', 4),\n",
       " ('блик', 4),\n",
       " ('кровь', 4),\n",
       " ('нельзя', 4),\n",
       " ('живопись', 4),\n",
       " ('воображать', 4),\n",
       " ('необыкновенно', 4),\n",
       " ('луч', 4),\n",
       " ('сниться', 4),\n",
       " ('чей', 4),\n",
       " ('приниматься', 4),\n",
       " ('отношение', 4),\n",
       " ('лирический', 4),\n",
       " ('безумие', 4),\n",
       " ('пятый', 4),\n",
       " ('сырой', 4),\n",
       " ('облако', 4),\n",
       " ('носить', 4),\n",
       " ('ошибка', 4),\n",
       " ('писатель', 4),\n",
       " ('суббота', 4),\n",
       " ('горничная', 4),\n",
       " ('пропускать', 4),\n",
       " ('жирный', 4),\n",
       " ('покойный', 4),\n",
       " ('юноша', 4),\n",
       " ('затылок', 4),\n",
       " ('плечо', 4),\n",
       " ('снимок', 4),\n",
       " ('служить', 4),\n",
       " ('потерять', 4),\n",
       " ('внутренний', 4),\n",
       " ('осторожно', 4),\n",
       " ('призрачный', 4),\n",
       " ('гибель', 4),\n",
       " ('требовать', 4),\n",
       " ('тем', 4),\n",
       " ('дружба', 4),\n",
       " ('являться', 4),\n",
       " ('бояться', 4),\n",
       " ('сложный', 4),\n",
       " ('дочка', 4),\n",
       " ('исчезать', 4),\n",
       " ('трамвай', 4),\n",
       " ('крепкий', 4),\n",
       " ('труп', 4),\n",
       " ('правый', 4),\n",
       " ('купец', 4),\n",
       " ('шагать', 4),\n",
       " ('романов', 4),\n",
       " ('гец', 4),\n",
       " ('паром', 4),\n",
       " ('скворцов', 4),\n",
       " ('проститутка', 4),\n",
       " ('ж', 4),\n",
       " ('воробей', 3),\n",
       " ('птица', 3),\n",
       " ('апрель', 3),\n",
       " ('многий', 3),\n",
       " ('роман', 3),\n",
       " ('дата', 3),\n",
       " ('сила', 3),\n",
       " ('честность', 3),\n",
       " ('танненбергский', 3),\n",
       " ('берлин', 3),\n",
       " ('колесо', 3),\n",
       " ('звезда', 3),\n",
       " ('навстречу', 3),\n",
       " ('мужчина', 3),\n",
       " ('оживлять', 3),\n",
       " ('кривой', 3),\n",
       " ('наблюдать', 3),\n",
       " ('пансион', 3),\n",
       " ('липа', 3),\n",
       " ('снабжать', 3),\n",
       " ('работа', 3),\n",
       " ('заметный', 3),\n",
       " ('кончаться', 3),\n",
       " ('намечаться', 3),\n",
       " ('обещать', 3),\n",
       " ('мелочь', 3),\n",
       " ('вкус', 3),\n",
       " ('уголок', 3),\n",
       " ('готовый', 3),\n",
       " ('чередование', 3),\n",
       " ('сорт', 3),\n",
       " ('проверять', 3),\n",
       " ('наиболее', 3),\n",
       " ('табачный', 3),\n",
       " ('аптекарский', 3),\n",
       " ('переезд', 3),\n",
       " ('сходиться', 3),\n",
       " ('рекламный', 3),\n",
       " ('буква', 3),\n",
       " ('напоследок', 3),\n",
       " ('смежный', 3),\n",
       " ('товар', 3),\n",
       " ('опускать', 3),\n",
       " ('ресница', 3),\n",
       " ('реклама', 3),\n",
       " ('скверный', 3),\n",
       " ('добро', 3),\n",
       " ('признаваться', 3),\n",
       " ('магазин', 3),\n",
       " ('книжка', 3),\n",
       " ('ваза', 3),\n",
       " ('окончание', 3),\n",
       " ('постоянный', 3),\n",
       " ('висок', 3),\n",
       " ('быстрый', 3),\n",
       " ('шкап', 3),\n",
       " ('фасад', 3),\n",
       " ('качество', 3),\n",
       " ('миг', 3),\n",
       " ('мгновенный', 3),\n",
       " ('бег', 3),\n",
       " ('привязываться', 3),\n",
       " ('кричать', 3),\n",
       " ('издали', 3),\n",
       " ('чистота', 3),\n",
       " ('резиновый', 3),\n",
       " ('стеклянный', 3),\n",
       " ('просвечивать', 3),\n",
       " ('пожалуйста', 3),\n",
       " ('подошва', 3),\n",
       " ('лестница', 3),\n",
       " ('вниз', 3),\n",
       " ('стучать', 3),\n",
       " ('крупный', 3),\n",
       " ('мнимый', 3),\n",
       " ('очередной', 3),\n",
       " ('наполовину', 3),\n",
       " ('кирпичный', 3),\n",
       " ('обрастать', 3),\n",
       " ('палевый', 3),\n",
       " ('сизый', 3),\n",
       " ('последовать', 3),\n",
       " ('прийти', 3),\n",
       " ('бедро', 3),\n",
       " ('блюдце', 3),\n",
       " ('холодно', 3),\n",
       " ('нечто', 3),\n",
       " ('петербург', 3),\n",
       " ('немедленно', 3),\n",
       " ('простой', 3),\n",
       " ('пятьдесят', 3),\n",
       " ('свойственный', 3),\n",
       " ('вдохновение', 3),\n",
       " ('проза', 3),\n",
       " ('определение', 3),\n",
       " ('доставать', 3),\n",
       " ('дабы', 3),\n",
       " ('подробность', 3),\n",
       " ('рыхлый', 3),\n",
       " ('однажды', 3),\n",
       " ('открываться', 3),\n",
       " ('располагаться', 3),\n",
       " ('беспомощно', 3),\n",
       " ('комнатный', 3),\n",
       " ('свеча', 3),\n",
       " ('брать', 3),\n",
       " ('верблюд', 3),\n",
       " ('обратно', 3),\n",
       " ('близкий', 3),\n",
       " ('младенец', 3),\n",
       " ('тьма', 3),\n",
       " ('причем', 3),\n",
       " ('шар', 3),\n",
       " ('кровать', 3),\n",
       " ('образец', 3),\n",
       " ('целый', 3),\n",
       " ('читатель', 3),\n",
       " ('воспевать', 3),\n",
       " ('старинный', 3),\n",
       " ('теплый', 3),\n",
       " ('страна', 3),\n",
       " ('удивительно', 3),\n",
       " ('неделя', 3),\n",
       " ('рождаться', 3),\n",
       " ('ступать', 3),\n",
       " ('опираться', 3),\n",
       " ('чулок', 3),\n",
       " ('туфля', 3),\n",
       " ('правда', 3),\n",
       " ('крайне', 3),\n",
       " ('школа', 3),\n",
       " ('немало', 3),\n",
       " ('сочинять', 3),\n",
       " ('недобрый', 3),\n",
       " ('строфа', 3),\n",
       " ('лампа', 3),\n",
       " ('клетка', 3),\n",
       " ('увлечение', 3),\n",
       " ('родитель', 3),\n",
       " ('загорелый', 3),\n",
       " ('есть', 3),\n",
       " ('красота', 3),\n",
       " ('развиваться', 3),\n",
       " ('поговорить', 3),\n",
       " ('передавать', 3),\n",
       " ('производить', 3),\n",
       " ('одинокий', 3),\n",
       " ('зуб', 3),\n",
       " ('вместо', 3),\n",
       " ('кожа', 3),\n",
       " ('пыль', 3),\n",
       " ('зал', 3),\n",
       " ('знаменитый', 3),\n",
       " ('бережно', 3),\n",
       " ('прошлый', 3),\n",
       " ('оставлять', 3),\n",
       " ('взглядывать', 3),\n",
       " ('часы', 3),\n",
       " ('двойной', 3),\n",
       " ('глупо', 3),\n",
       " ('mon', 3),\n",
       " ('est', 3),\n",
       " ('un', 3),\n",
       " ('биться', 3),\n",
       " ('складка', 3),\n",
       " ('глухой', 3),\n",
       " ('ухо', 3),\n",
       " ('десяток', 3),\n",
       " ('лошадь', 3),\n",
       " ('ложиться', 3),\n",
       " ('прижимать', 3),\n",
       " ('мука', 3),\n",
       " ('просыпаться', 3),\n",
       " ('тишина', 3),\n",
       " ('переставать', 3),\n",
       " ('французский', 3),\n",
       " ('честь', 3),\n",
       " ('привидение', 3),\n",
       " ('помогать', 3),\n",
       " ...]"
      ]
     },
     "execution_count": 77,
     "metadata": {},
     "output_type": "execute_result"
    }
   ],
   "source": [
    "sorted(c.items(), key=lambda x:x[1], reverse=True)"
   ]
  },
  {
   "cell_type": "code",
   "execution_count": null,
   "metadata": {},
   "outputs": [],
   "source": []
  },
  {
   "cell_type": "code",
   "execution_count": null,
   "metadata": {},
   "outputs": [],
   "source": []
  },
  {
   "cell_type": "code",
   "execution_count": 38,
   "metadata": {},
   "outputs": [
    {
     "name": "stdout",
     "output_type": "stream",
     "text": [
      "CPU times: user 3 µs, sys: 0 ns, total: 3 µs\n",
      "Wall time: 6.91 µs\n"
     ]
    }
   ],
   "source": [
    "%time\n",
    "lemmas = []\n",
    "\n",
    "for word in text:\n",
    "    lemmas.append(morph.parse(word)[0].normal_form)"
   ]
  },
  {
   "cell_type": "code",
   "execution_count": 39,
   "metadata": {},
   "outputs": [
    {
     "name": "stdout",
     "output_type": "stream",
     "text": [
      "CPU times: user 3 µs, sys: 1 µs, total: 4 µs\n",
      "Wall time: 5.25 µs\n"
     ]
    }
   ],
   "source": [
    "%time\n",
    "lemmas = []\n",
    "known_words = {}\n",
    "\n",
    "for word in text:\n",
    "    if word in known_words:\n",
    "        lemmas.append(known_words[word])\n",
    "    else:\n",
    "        result = morph.parse(word)[0].normal_form\n",
    "        lemmas.append(result)\n",
    "        known_words[word] = result"
   ]
  },
  {
   "cell_type": "markdown",
   "metadata": {},
   "source": [
    "Мы просто запоминаем леммы и поэтому не парсим слово каждый раз, а берем из быстрого хранилища готовый результат. Это может серьезно загружать память (при больших объемах), но значительно сократит время работы."
   ]
  },
  {
   "cell_type": "markdown",
   "metadata": {},
   "source": [
    "### NLTK"
   ]
  },
  {
   "cell_type": "markdown",
   "metadata": {},
   "source": [
    "Это уже не просто морфологический анализатор, а целая NLP библиотека!\n",
    "\n",
    "Что мы тут можем делать? Можем тоекнизировать какой-нибудь текст"
   ]
  },
  {
   "cell_type": "code",
   "execution_count": 75,
   "metadata": {},
   "outputs": [],
   "source": [
    "text = \"\"\"\n",
    "Такой зеленый, серый, то есть\n",
    "весь заштрихованный дождем,\n",
    "и липовое, столь густое,\n",
    "что я перенести - уйдем!\n",
    "Уйдем и этот сад оставим\n",
    "и дождь, кипящий на тропах\n",
    "между тяжелыми цветами,\n",
    "целующими липкий прах.\n",
    "Уйдем, уйдем, пока не поздно,\n",
    "скорее, под плащом, домой,\n",
    "пока еще ты не опознан,\n",
    "безумный мой, безумный мой!\n",
    "\n",
    "Держусь, молчу. Но с годом каждым,\n",
    "под гомон птиц и шум ветвей,\n",
    "разлука та обидней кажется,\n",
    "обида кажется глупей.\n",
    "И все страшней, что опрометчиво\n",
    "проговорюсь и перебью\n",
    "теченье тихой, трудной речи,\n",
    "давно проникшей в жизнь мою.\n",
    "\n",
    "Над краснощекими рабами\n",
    "лазурь как лаковая вся,\n",
    "с накачанными облаками,\n",
    "едва заметными толчками\n",
    "передвигающимися.\n",
    "Ужель нельзя там притулиться\n",
    "и нет там темного угла,\n",
    "где темнота могла бы слиться\n",
    "с иероглифами крыла?\n",
    "Так бабочка не шевелится\n",
    "пластом на плесени ствола.\n",
    "\n",
    "Какой закат! И завтра снова,\n",
    "и долго-долго быть жаре,\n",
    "что безошибочно основано\n",
    "на тишине и мошкаре.\n",
    "В луче вечернем повисая,\n",
    "она толчется без конца,\n",
    "как бы игрушка золотая\n",
    "в руках немого продавца.\n",
    "\n",
    "Как я люблю тебя. Есть в этом\n",
    "вечернем воздухе порой\n",
    "лазейки для души, просветы\n",
    "в тончайшей ткани мировой.\n",
    "Лучи проходят меж стволами.\n",
    "Как я люблю тебя! Лучи\n",
    "проходят меж стволами, пламенем\n",
    "ложатся на стволы. Молчи.\n",
    "Замри под веткою расцветшей,\n",
    "вдохни, какое разлилось -\n",
    "зажмурься, уменьшись и в вечное\n",
    "пройди украдкою насквозь.\n",
    "\"\"\""
   ]
  },
  {
   "cell_type": "code",
   "execution_count": 42,
   "metadata": {},
   "outputs": [],
   "source": [
    "import re"
   ]
  },
  {
   "cell_type": "code",
   "execution_count": 55,
   "metadata": {},
   "outputs": [],
   "source": [
    "# re.sub('\\W', ' ', text).strip().lower().split()"
   ]
  },
  {
   "cell_type": "code",
   "execution_count": null,
   "metadata": {},
   "outputs": [],
   "source": []
  },
  {
   "cell_type": "code",
   "execution_count": 95,
   "metadata": {},
   "outputs": [
    {
     "name": "stdout",
     "output_type": "stream",
     "text": [
      "['Такой', 'зеленый', ',', 'серый', ',', 'то', 'есть', 'весь', 'заштрихованный', 'дождем', ',', 'и', 'липовое', ',', 'столь', 'густое', ',', 'что', 'я', 'перенести', '-', 'уйдем', '!', 'Уйдем', 'и', 'этот', 'сад', 'оставим', 'и', 'дождь', ',', 'кипящий', 'на', 'тропах', 'между', 'тяжелыми', 'цветами', ',', 'целующими', 'липкий', 'прах', '.', 'Уйдем', ',', 'уйдем', ',', 'пока', 'не', 'поздно', ',', 'скорее', ',', 'под', 'плащом', ',', 'домой', ',', 'пока', 'еще', 'ты', 'не', 'опознан', ',', 'безумный', 'мой', ',', 'безумный', 'мой', '!', 'Держусь', ',', 'молчу', '.', 'Но', 'с', 'годом', 'каждым', ',', 'под', 'гомон', 'птиц', 'и', 'шум', 'ветвей', ',', 'разлука', 'та', 'обидней', 'кажется', ',', 'обида', 'кажется', 'глупей', '.', 'И', 'все', 'страшней', ',', 'что', 'опрометчиво', 'проговорюсь', 'и', 'перебью', 'теченье', 'тихой', ',', 'трудной', 'речи', ',', 'давно', 'проникшей', 'в', 'жизнь', 'мою', '.', 'Над', 'краснощекими', 'рабами', 'лазурь', 'как', 'лаковая', 'вся', ',', 'с', 'накачанными', 'облаками', ',', 'едва', 'заметными', 'толчками', 'передвигающимися', '.', 'Ужель', 'нельзя', 'там', 'притулиться', 'и', 'нет', 'там', 'темного', 'угла', ',', 'где', 'темнота', 'могла', 'бы', 'слиться', 'с', 'иероглифами', 'крыла', '?', 'Так', 'бабочка', 'не', 'шевелится', 'пластом', 'на', 'плесени', 'ствола', '.', 'Какой', 'закат', '!', 'И', 'завтра', 'снова', ',', 'и', 'долго-долго', 'быть', 'жаре', ',', 'что', 'безошибочно', 'основано', 'на', 'тишине', 'и', 'мошкаре', '.', 'В', 'луче', 'вечернем', 'повисая', ',', 'она', 'толчется', 'без', 'конца', ',', 'как', 'бы', 'игрушка', 'золотая', 'в', 'руках', 'немого', 'продавца', '.', 'Как', 'я', 'люблю', 'тебя', '.', 'Есть', 'в', 'этом', 'вечернем', 'воздухе', 'порой', 'лазейки', 'для', 'души', ',', 'просветы', 'в', 'тончайшей', 'ткани', 'мировой', '.', 'Лучи', 'проходят', 'меж', 'стволами', '.', 'Как', 'я', 'люблю', 'тебя', '!', 'Лучи', 'проходят', 'меж', 'стволами', ',', 'пламенем', 'ложатся', 'на', 'стволы', '.', 'Молчи', '.', 'Замри', 'под', 'веткою', 'расцветшей', ',', 'вдохни', ',', 'какое', 'разлилось', '-', 'зажмурься', ',', 'уменьшись', 'и', 'в', 'вечное', 'пройди', 'украдкою', 'насквозь', '.']\n",
      "CPU times: user 9.83 ms, sys: 2.11 ms, total: 11.9 ms\n",
      "Wall time: 12 ms\n"
     ]
    }
   ],
   "source": [
    "import nltk\n",
    "from nltk.tokenize import word_tokenize\n",
    "\n",
    "%time print(word_tokenize(text))"
   ]
  },
  {
   "cell_type": "markdown",
   "metadata": {},
   "source": [
    "Можем разделить текст на предложения (сплиттинг):"
   ]
  },
  {
   "cell_type": "code",
   "execution_count": 70,
   "metadata": {},
   "outputs": [
    {
     "data": {
      "text/plain": [
       "['\\nТакой зеленый, серый, то есть\\nвесь заштрихованный дождем,\\nи липовое, столь густое,\\nчто я перенести - уйдем!',\n",
       " 'Уйдем и этот сад оставим\\nи дождь, кипящий на тропах\\nмежду тяжелыми цветами,\\nцелующими липкий прах.',\n",
       " 'Уйдем, уйдем, пока не поздно,\\nскорее, под плащом, домой,\\nпока еще ты не опознан,\\nбезумный мой, безумный мой!',\n",
       " 'Держусь, молчу.',\n",
       " 'Но с годом каждым,\\nпод гомон птиц и шум ветвей,\\nразлука та обидней кажется,\\nобида кажется глупей.',\n",
       " 'И все страшней, что опрометчиво\\nпроговорюсь и перебью\\nтеченье тихой, трудной речи,\\nдавно проникшей в жизнь мою.',\n",
       " 'Над краснощекими рабами\\nлазурь как лаковая вся,\\nс накачанными облаками,\\nедва заметными толчками\\nпередвигающимися.',\n",
       " 'Ужель нельзя там притулиться\\nи нет там темного угла,\\nгде темнота могла бы слиться\\nс иероглифами крыла?',\n",
       " 'Так бабочка не шевелится\\nпластом на плесени ствола.',\n",
       " 'Какой закат!',\n",
       " 'И завтра снова,\\nи долго-долго быть жаре,\\nчто безошибочно основано\\nна тишине и мошкаре.',\n",
       " 'В луче вечернем повисая,\\nона толчется без конца,\\nкак бы игрушка золотая\\nв руках немого продавца.',\n",
       " 'Как я люблю тебя.',\n",
       " 'Есть в этом\\nвечернем воздухе порой\\nлазейки для души, просветы\\nв тончайшей ткани мировой.',\n",
       " 'Лучи проходят меж стволами.',\n",
       " 'Как я люблю тебя!',\n",
       " 'Лучи\\nпроходят меж стволами, пламенем\\nложатся на стволы.',\n",
       " 'Молчи.',\n",
       " 'Замри под веткою расцветшей,\\nвдохни, какое разлилось -\\nзажмурься, уменьшись и в вечное\\nпройди украдкою насквозь.']"
      ]
     },
     "execution_count": 70,
     "metadata": {},
     "output_type": "execute_result"
    }
   ],
   "source": [
    "from nltk.tokenize import sent_tokenize\n",
    "\n",
    "sent_tokenize(text)"
   ]
  },
  {
   "cell_type": "markdown",
   "metadata": {},
   "source": [
    "NLTK может удалять стоп слова. Стоп-слова - это высокочастотные союзы, предлоги и другие служебные части речи, которые не дают нам никакой информации о конкретном тексте. В NLTK есть готовые списки стоп-слов (да-да, и для русского тоже есть)."
   ]
  },
  {
   "cell_type": "code",
   "execution_count": 77,
   "metadata": {},
   "outputs": [
    {
     "name": "stdout",
     "output_type": "stream",
     "text": [
      "['и', 'в', 'во', 'не', 'что', 'он', 'на', 'я', 'с', 'со', 'как', 'а', 'то', 'все', 'она', 'так', 'его', 'но', 'да', 'ты', 'к', 'у', 'же', 'вы', 'за', 'бы', 'по', 'только', 'ее', 'мне', 'было', 'вот', 'от', 'меня', 'еще', 'нет', 'о', 'из', 'ему', 'теперь', 'когда', 'даже', 'ну', 'вдруг', 'ли', 'если', 'уже', 'или', 'ни', 'быть', 'был', 'него', 'до', 'вас', 'нибудь', 'опять', 'уж', 'вам', 'ведь', 'там', 'потом', 'себя', 'ничего', 'ей', 'может', 'они', 'тут', 'где', 'есть', 'надо', 'ней', 'для', 'мы', 'тебя', 'их', 'чем', 'была', 'сам', 'чтоб', 'без', 'будто', 'чего', 'раз', 'тоже', 'себе', 'под', 'будет', 'ж', 'тогда', 'кто', 'этот', 'того', 'потому', 'этого', 'какой', 'совсем', 'ним', 'здесь', 'этом', 'один', 'почти', 'мой', 'тем', 'чтобы', 'нее', 'сейчас', 'были', 'куда', 'зачем', 'всех', 'никогда', 'можно', 'при', 'наконец', 'два', 'об', 'другой', 'хоть', 'после', 'над', 'больше', 'тот', 'через', 'эти', 'нас', 'про', 'всего', 'них', 'какая', 'много', 'разве', 'три', 'эту', 'моя', 'впрочем', 'хорошо', 'свою', 'этой', 'перед', 'иногда', 'лучше', 'чуть', 'том', 'нельзя', 'такой', 'им', 'более', 'всегда', 'конечно', 'всю', 'между']\n"
     ]
    }
   ],
   "source": [
    "from nltk.corpus import stopwords\n",
    "\n",
    "# загружаем нужный список стоп-слов\n",
    "sw = stopwords.words('russian')\n",
    "\n",
    "# смотрим, что внутри\n",
    "print(sw)"
   ]
  },
  {
   "cell_type": "code",
   "execution_count": 67,
   "metadata": {},
   "outputs": [
    {
     "name": "stdout",
     "output_type": "stream",
     "text": [
      "['дуб', 'дерево', 'роза', 'цветок', 'олень', 'животное', 'воробей', 'птица', 'россия', 'наше', 'отечество', 'смерть', 'неизбежна', 'смирновский', 'учебник', 'русской', 'грамматики', 'глава', 'первая', 'облачным', 'светлым', 'днем', 'исходе', 'четвертого', 'часа', 'первого', 'апреля', 'года', 'иностранный', 'критик', 'заметил', 'хотя', 'многие', 'романы', 'немецкие', 'например', 'начинаются', 'даты', 'русские', 'авторы', 'силу', 'оригинальной', 'честности', 'нашей', 'литературы', 'договаривают', 'единиц', 'дома', 'номер', 'семь', 'танненбергской', 'улице', 'западной', 'части', 'берлина', 'остановился', 'мебельный', 'фургон', 'очень', 'длинный', 'очень', 'желтый', 'запряженный', 'трактором', 'гипертрофией', 'задних', 'колес', 'откровенной', 'анатомией', 'лбу', 'фургона', 'виднелась', 'звезда', 'вентилятора', 'всему', 'боку', 'шло', 'название', 'перевозчичьей', 'фирмы', 'синими', 'аршинными', 'литерами', 'каждая', 'коих', 'включая', 'квадратную', 'точку', 'слева', 'оттенена', 'черной', 'краской', 'недобросовестная', 'попытка', 'пролезть', 'следующее', 'классу', 'измерение', 'домом', 'котором', 'буду', 'жить', 'явно', 'выйдя', 'навстречу', 'своей', 'мебели', 'чемодане', 'черновиков', 'белья', 'стояли', 'две', 'особы', 'мужчина', 'облаченный', 'войлочное', 'пальто', 'слегка', 'оживляемое', 'ветром', 'высокий', 'густобровый', 'старик', 'сединой', 'бороде', 'усах', 'переходящей', 'рыжеватость', 'около', 'рта', 'котором', 'бесчувственно', 'держал', 'холодный', 'полуоблетевший', 'сигарный', 'окурок', 'женщина', 'коренастая', 'немолодая', 'кривыми', 'ногами', 'довольно', 'красивым', 'лицом', 'одета', 'каракулевый', 'жакет', 'ветер', 'обогнув', 'пахнул', 'неплохими', 'затхловатыми', 'духами', 'оба', 'неподвижно', 'пристально', 'таким', 'вниманием', 'точно', 'собирались', 'обвесить', 'наблюдали', 'трое', 'красновыйных', 'молодцов', 'синих', 'фартуках', 'одолевали', 'обстановку', 'старинке', 'начать', 'толстую', 'штуку', 'подумалось', 'мельком', 'беспечной', 'иронией', 'совершенно', 'излишнею', 'внутри', 'помимо', 'всј', 'это', 'принял', 'записал', 'припрятал', 'переселившись', 'первый', 'непривычном', 'чине', 'здешнего', 'обитателя', 'выбежал', 'налегке', 'купить', 'улицу', 'знал', 'знал', 'весь', 'округ', 'пансион', 'откуда', 'съехал', 'находился', 'невдалеке', 'сих', 'пор', 'эта', 'улица', 'вращалась', 'скользила', 'ничем', 'связанная', 'сегодня', 'остановилась', 'застывая', 'виде', 'проекции', 'нового', 'жилища', 'обсаженная', 'среднего', 'роста', 'липами', 'каплями', 'дождя', 'расположенными', 'частых', 'черных', 'сучках', 'схеме', 'будущих', 'листьев', 'завтра', 'каждой', 'капле', 'зеленому', 'зрачку', 'снабженная', 'смоляной', 'гладью', 'саженей', 'пять', 'шириной', 'пестроватыми', 'ручной', 'работы', 'лестной', 'ног', 'тротуарами', 'шла', 'едва', 'заметным', 'наклоном', 'начинаясь', 'почтамтом', 'кончаясь', 'церковью', 'эпистолярный', 'роман', 'опытным', 'взглядом', 'искал', 'грозило', 'стать', 'ежедневной', 'зацепкой', 'ежедневной', 'пыткой', 'чувств', 'кажется', 'такого', 'намечалось', 'рассеянный', 'свет', 'весеннего', 'серого', 'дня', 'вне', 'подозрения', 'обещал', 'умягчить', 'иную', 'мелочь', 'которая', 'яркую', 'погоду', 'преминула', 'объявиться', 'всј', 'могло', 'мелочью', 'цвет', 'дома', 'например', 'сразу', 'отзывающийся', 'рту', 'неприятным', 'овсяным', 'вкусом', 'халвой', 'деталь', 'архитектуры', 'всякий', 'экспансивно', 'бросающаяся', 'глаза', 'раздражительное', 'притворство', 'кариатиды', 'приживалки', 'подпоры', 'которую', 'меньшее', 'бремя', 'обратило', 'штукатурный', 'прах', 'стволе', 'дерева', 'ржавой', 'кнопкой', 'бесцельно', 'навсегда', 'уцелевший', 'уголок', 'отслужившего', 'конца', 'содранного', 'рукописного', 'объявленьица', 'расплыве', 'синеватой', 'собаки', 'вещь', 'окне', 'запах', 'отказавшийся', 'последнюю', 'секунду', 'сообщить', 'воспоминание', 'котором', 'готов', 'казалось', 'завопить', 'углу', 'оставшийся', 'самой', 'заскочившею', 'тайной', 'такого', 'подумал', 'досуге', 'изучить', 'порядок', 'чередования', 'сортов', 'лавок', 'проверить', 'правильность', 'догадки', 'порядке', 'свой', 'композиционный', 'закон', 'найдя', 'наиболее', 'частое', 'сочетание', 'вывести', 'средний', 'ритм', 'улиц', 'данного', 'города', 'скажем', 'табачная', 'аптекарская', 'зеленная', 'танненбергской', 'разобщены', 'находясь', 'разных', 'углах', 'роение', 'ритма', 'настало', 'будущем', 'повинуясь', 'контрапункту', 'постепенно', 'мере', 'прогорания', 'переезда', 'владельцев', 'начнут', 'сходиться', 'зеленная', 'оглядкой', 'перейдет', 'улицу', 'стать', 'семь', 'аптекарской', 'вроде', 'рекламной', 'фильме', 'находят', 'свои', 'места', 'смешанные', 'буквы', 'одна', 'напоследок', 'переворачивается', 'поспешно', 'встав', 'ноги', 'комический', 'персонаж', 'непременный', 'яшка', 'мешок', 'строю', 'новобранцев', 'будут', 'выжидать', 'освободится', 'смежное', 'место', 'обе', 'наискосок', 'мигнут', 'табачной', 'сигай', 'сюда', 'мол', 'стали', 'ряд', 'образуя', 'типическую', 'строку', 'боже', 'ненавижу', 'всј', 'это', 'лавки', 'вещи', 'стеклом', 'тупое', 'лицо', 'товара', 'особенности', 'церемониал', 'сделки', 'обмен', 'приторными', 'любезностями', 'опущенные', 'ресницы', 'скромной', 'цены', 'благородство', 'уступки', 'человеколюбие', 'торговой', 'рекламы', 'всј', 'это', 'скверное', 'подражание', 'добру', 'странно', 'засасывающее', 'добрых', 'александра', 'яковлевна', 'признавалась', 'идет', 'покупками', 'знакомые', 'лавки', 'нравственно', 'переносится', 'особый', 'мир', 'хмелеет', 'вина', 'честности', 'сладости', 'взаимных', 'услуг', 'отвечает', 'суриковую', 'улыбку', 'продавца', 'улыбкой', 'лучистого', 'восторга', 'род', 'магазина', 'который', 'вошел', 'достаточно', 'определялся', 'углу', 'стоял', 'столик', 'телефоном', 'телефонной', 'книжкой', 'нарциссами', 'вазе', 'большой', 'пепельницей', 'тех', 'русского', 'окончания', 'папирос', 'которые', 'предпочтительно', 'курил', 'держали', 'ушел', 'окажись', 'табачника', 'крапчатого', 'жилета', 'перламутровыми', 'пуговицами', 'лысины', 'тыквенного', 'оттенка', 'жизнь', 'буду', 'добирать', 'натурой', 'тайное', 'возмещение', 'постоянных', 'переплат', 'товар', 'навязываемый', 'переходя', 'наугол', 'аптекарскую', 'невольно', 'повернул', 'голову', 'блеснуло', 'рикошетом', 'виска', 'увидел', 'той', 'быстрой', 'улыбкой', 'которой', 'приветствуем', 'радугу', 'розу', 'фургона', 'выгружали', 'параллелепипед', 'белого', 'ослепительного', 'неба', 'зеркальный', 'шкап', 'которому', 'экрану', 'прошло', 'отражение', 'ветвей', 'скользя', 'качаясь', 'человеческим', 'колебанием', 'обусловленным', 'природой', 'тех', 'нес', 'это', 'небо', 'ветви', 'скользящий', 'фасад', 'пошел', 'дальше', 'направляясь', 'лавке', 'виденное', 'доставило', 'удовольствие', 'родственного', 'качества', 'встряхнуло', 'взяв', 'врасплох', 'балки', 'сеновале', 'падают', 'дети', 'податливый', 'мрак', 'освободило', 'нем', 'приятное', 'несколько', 'дней', 'держалось', 'темном', 'дне', 'каждой', 'мысли', 'овладевая', 'малейшем', 'толчке', 'вышел', 'сборник', 'сего', 'падал', 'вспоминал', 'полусотню', 'вышедших', 'стихотворений', 'миг', 'мысленно', 'пробегал', 'книгу', 'мгновенном', 'тумане', 'безумно', 'ускоренной', 'музыки', 'различить', 'читательского', 'смысла', 'мелькавших', 'стихов', 'знакомые', 'слова', 'проносились', 'крутясь', 'стремительной', 'пене', 'кипение', 'сменявшей', 'мощный', 'бег', 'привязаться', 'взглядом', 'делывали', 'смотря', 'дрожавшего', 'моста', 'водяной', 'мельницы', 'пока', 'мост', 'обращался', 'корабельную', 'корму', 'прощай', 'эта', 'пена', 'мелькание', 'отдельно', 'пробегавшая', 'строка', 'дико', 'блаженно', 'кричавшая', 'издали', 'звавшая', 'вероятно', 'домой', 'всј', 'это', 'вместе', 'сливочной', 'белизной', 'обложки', 'сливалось', 'ощущение', 'счастья', 'исключительной', 'чистоты', 'собственно', 'делаю', 'спохватился', 'ибо', 'сдачу', 'полученную', 'табачной', 'первым', 'делом', 'высыпал', 'резиновый', 'островок', 'посреди', 'стеклянного', 'прилавка', 'сквозь', 'который', 'снизу', 'просвечивало', 'подводное', 'золото', 'плоских', 'флаконов', 'снисходительный', 'причуде', 'взгляд', 'приказчицы', 'любопытством', 'направлялся', 'рассеянную', 'руку', 'платившую', 'предмет', 'названный', 'дайте', 'пожалуйста', 'миндального', 'мыла', 'сказал', 'достоинством', 'затем', 'взлетающим', 'шагом', 'воротился', 'дому', 'панели', 'никого', 'ежели', 'считать', 'трех', 'васильковых', 'стульев', 'сдвинутых', 'казалось', 'детьми', 'внутри', 'фургона', 'лежало', 'небольшое', 'коричневое', 'пианино', 'связанное', 'оно', 'могло', 'встать', 'спины', 'поднявшее', 'кверху', 'две', 'маленьких', 'металлических', 'подошвы', 'лестнице', 'встретил', 'валивших', 'вниз', 'коленями', 'врозь', 'грузчиков', 'пока', 'звонил', 'двери', 'новой', 'квартиры', 'слышал', 'наверху', 'переговариваются', 'голоса', 'стучит', 'молоток', 'впустив', 'квартирохозяйка', 'сказала', 'положила', 'ключи', 'нему', 'комнату', 'крупной', 'хищной', 'немки', 'странное', 'имя', 'мнимое', 'подобие', 'творительного', 'падежа', 'придавало', 'звук', 'сентиментального', 'заверения', 'звали', 'clara', 'stoboy', 'продолговатая', 'комната', 'стоит', 'терпеливый', 'чемодан', 'разом', 'всј', 'переменилось', 'дай', 'бог', 'знать', 'ужасную', 'унизительную', 'скуку', 'очередной', 'отказ', 'принять', 'гнусный', 'гнет', 'очередного', 'новоселья', 'невозможность', 'жить', 'глазах', 'совершенно', 'чужих', 'вещей', 'неизбежность', 'бессонницы', 'кушетке', 'некоторое', 'время', 'стоял', 'окна', 'небо', 'простоквашей', 'изредка', 'месте', 'плыло', 'слепое', 'солнце', 'появлялись', 'опаловые', 'ямы', 'внизу', 'серой', 'кругловатой', 'крыше', 'фургона', 'страшно', 'скоро', 'стремились', 'бытию', 'недовоплотившись', 'растворялись', 'тонкие', 'тени', 'липовых', 'ветвей', 'дом', 'насупротив', 'наполовину', 'лесах', 'здоровой', 'части', 'кирпичного', 'фасада', 'оброс', 'плющом', 'лезшим', 'окна', 'глубине', 'прохода', 'разделявшего', 'палисадник', 'чернелась', 'вывеска', 'подвальной', 'угольни', 'само', 'это', 'видом', 'комната', 'сама', 'нашелся', 'посредник', 'вид', 'становился', 'видом', 'именно', 'комнаты', 'прозревши', 'стала', 'палевые', 'сизых', 'тюльпанах', 'обои', 'трудно', 'претворить', 'степную', 'даль', 'пустыню', 'письменного', 'стола', 'придется', 'возделывать', 'долго', 'прежде', 'взойдут', 'первые', 'строки', 'долго', 'надобно', 'сыпать', 'пепел', 'кресло', 'пахи', 'сделалось', 'оно', 'пригодным', 'путешествий', 'хозяйка', 'пришла', 'звать', 'телефону', 'вежливо', 'сутулясь', 'последовал', 'столовую', 'сказал', 'александр', 'яковлевич', 'почему', 'это', 'милостивый', 'государь', 'пансионе', 'неохотно', 'сообщают', 'ваш', 'новый', 'номер', 'выехали', 'небось', 'треском', 'хочу', 'поздравить', 'знаете', 'честное', 'слово', 'знает', 'обратился', 'александр', 'яковлевич', 'стороной', 'голоса', 'вне', 'телефона', 'таком', 'случае', 'возьмите', 'руки', 'слушайте', 'буду', 'читать', 'вышедшая', 'книга', 'стихов', 'сих', 'пор', 'неизвестного', 'автора', 'федора', 'кажется', 'нам', 'явлением', 'столь', 'ярким', 'поэтический', 'талант', 'автора', 'столь', 'несомненен', 'знаете', 'оборвем', 'приходите', 'вечером', 'нам', 'получите', 'статью', 'федор', 'константинович', 'дорогой', 'скажу', 'хотите', 'знать', 'думаю', 'обижайтесь', 'перехваливает', 'значит', 'придете', 'отлично', 'будем', 'ждать', 'вешая', 'трубку', 'едва', 'сбил', 'столика', 'стальной', 'жгут', 'карандашом', 'привязи', 'хотел', 'удержать', 'смахнул', 'въехал', 'бедром', 'угол', 'буфета', 'выронил', 'папиросу', 'которую', 'ходу', 'тащил', 'пачки', 'зазвенел', 'дверью', 'рассчитав', 'размаха', 'проходившая', 'коридору', 'блюдцем', 'молока', 'фрау', 'стобой', 'холодно', 'произнесла', 'упс', 'захотелось', 'сказать', 'палевое', 'сизых', 'тюльпанах', 'платье', 'прекрасно', 'пробор', 'гофрированных', 'волосах', 'дрожащие', 'мешки', 'щек', 'сообщают', 'нечто', 'столовая', 'верх', 'совершенства', 'ограничился', 'сияющей', 'улыбкой', 'упал', 'тигровые', 'полоски', 'поспевшие', 'отскочившим', 'котом', 'конце', 'концов', 'сомневался', 'мир', 'лице', 'нескольких', 'сот', 'любителей', 'литературы', 'покинувших', 'петербург', 'москву', 'киев', 'немедленно', 'оценит', 'дар', 'нами', 'небольшая', 'книжка', 'озаглавленная', 'стихи', 'простая', 'фрачная', 'ливрея', 'ставшая', 'последние', 'годы', 'обязательной', 'недавние', 'галуны', 'лунных', 'грјз', 'символической', 'латыни', 'содержащая', 'около', 'пятидесяти', 'двенадцатистиший', 'посвященных', 'целиком', 'одной', 'теме', 'детству', 'набожном', 'сочинении', 'автор', 'одной', 'стороны', 'стремился', 'обобщить', 'воспоминания', 'преимущественно', 'отбирая', 'черты', 'иначе', 'свойственные', 'всякому', 'удавшемуся', 'детству', 'отсюда', 'мнимая', 'очевидность', 'дозволил', 'проникнуть', 'стихи', 'тому', 'действительно', 'полностью', 'примеси', 'отсюда', 'мнимая', 'изысканность', 'одновременно', 'приходилось', 'делать', 'большие', 'усилия', 'утратить', 'руководства', 'игрой', 'выйти', 'состояния', 'игралища', 'стратегия', 'вдохновения', 'тактика', 'ума', 'плоть', 'поэзии', 'призрак', 'прозрачной', 'прозы', 'определения', 'кажущиеся', 'нам', 'достаточно', 'верными', 'характеристики', 'творчества', 'молодого', 'поэта', 'запершись', 'ключ', 'достав', 'книгу', 'упал', 'диван', 'перечесть', 'тотчас', 'пока', 'остыло', 'волнение', 'дабы', 'заодно', 'проверить', 'доброкачественность', 'этих', 'стихов', 'предугадать', 'подробности', 'высокой', 'оценки', 'данной', 'умным', 'милым', 'неизвестным', 'судьей', 'пробуя', 'апробируя', 'совершал', 'работу', 'обратную', 'давешней', 'мгновенной', 'мыслью', 'пробегал', 'книгу', 'читал', 'кубе', 'выхаживая', 'каждый', 'стих', 'приподнятый', 'четырех', 'сторон', 'обвеваемый', 'чудным', 'рыхлым', 'деревенским', 'воздухом', 'которого', 'устаешь', 'ночи', 'другими', 'словами', 'читая', 'вновь', 'пользовался', 'всеми', 'материалами', 'однажды', 'собранными', 'памятью', 'извлечения', 'данных', 'стихов', 'восстанавливал', 'возвратившийся', 'путешественник', 'видит', 'глазах', 'сироты', 'улыбку', 'матери', 'которую', 'юности', 'знал', 'аллею', 'желтым', 'просветом', 'конце', 'карий', 'лист', 'скамейке', 'всј', 'всј', 'сборник', 'открывался', 'стихотворением', 'пропавший', 'мяч', 'начинал', 'накрапывать', 'дождик', 'тяжелый', 'облачный', 'вечер', 'тех', 'которые', 'лицу', 'нашим', 'северным', 'елям', 'сгустился', 'вокруг', 'дома', 'аллея', 'ночь', 'возвратилась', 'парка', 'выход', 'затянулся', 'мглой', 'створы', 'белых', 'ставней', 'отделили', 'комнату', 'внешней', 'темноты', 'переправились', 'пробно', 'расположившись', 'разных', 'высотах', 'беспомощно', 'черном', 'саду', 'наиболее', 'светлые', 'части', 'комнатных', 'предметов', 'недолго', 'сна', 'игры', 'становятся', 'вялыми', 'добрыми', 'стара', 'мучительно', 'кряхтит', 'медленных', 'приема', 'опускается', 'колени', 'мяч', 'закатился', 'нянин', 'комод', 'полу', 'свеча', 'тень', 'концы', 'берет', 'тянет', 'туда', 'сюда', 'мяча', 'кочерга', 'кривая', 'гуляет', 'грохочет', 'зря', 'пуговицу', 'выбивает', 'погодя', 'полсухаря', 'выскакивает', 'трепещущую', 'темноту', 'комнату', 'прямо', 'неприступную', 'тахту', 'почему', 'очень', 'понутру', 'эпитет', 'трепещущую', 'колоссальная', 'рука', 'пуппенмейстера', 'появилась', 'миг', 'среди', 'существ', 'рост', 'которых', 'успел', 'уверовать', 'глаз', 'первое', 'ощущение', 'зрителя', 'окончании', 'спектакля', 'ужасно', 'вырос', 'комната', 'действительно', 'трепетала', 'это', 'мигание', 'карусельное', 'передвижение', 'теней', 'стене', 'уносится', 'огонь', 'чудовищно', 'движущий', 'горбами', 'теневой', 'верблюд', 'потолке', 'няня', 'борется', 'увалистой', 'валкой', 'камышевой', 'ширмой', 'растяжимость', 'которой', 'обратно', 'пропорциональна', 'устойчивости', 'это', 'самые', 'ранние', 'самые', 'близкие', 'подлиннику', 'воспоминаний', 'часто', 'склоняюсь', 'пытливой', 'мыслью', 'этому', 'подлиннику', 'именно', 'обратное', 'ничто', 'туманное', 'состояние', 'младенца', 'кажется', 'медленным', 'выздоровлением', 'страшной', 'болезни', 'удалением', 'изначального', 'небытия', 'становящимся', 'приближением', 'нему', 'напрягаю', 'память', 'последней', 'крайности', 'вкусить', 'тьмы', 'воспользоваться', 'уроками', 'ко', 'вступлению', 'тьму', 'будущую', 'ставя', 'жизнь', 'вверх', 'ногами', 'рождение', 'мое', 'делается', 'смертью', 'вижу', 'краю', 'обратного', 'умирания', 'такого', 'соответствовало', 'беспредельному', 'ужасу', 'который', 'говорят', 'испытывает', 'столетний', 'старик', 'положительной', 'кончиной', 'кроме', 'упомянутых', 'теней', 'которые', 'поднявшись', 'снизу', 'снимается', 'уйти', 'свеча', 'причем', 'черная', 'растущая', 'ходу', 'голова', 'проносится', 'тень', 'левого', 'шара', 'постельного', 'изножья', 'занимают', 'одни', 'те', 'места', 'моей', 'детской', 'кроватью', 'углам', 'наглеют', 'ночью', 'своим', 'законным', 'образцам', 'лишь', 'подражая', 'прочим', 'целом', 'ряде', 'подкупающих', 'искренностью', 'вздор', 'кого', 'подкупаешь', 'продажный', 'читатель', 'целом', 'ряде', 'отличных', 'замечательных', 'стихотворений', 'автор', 'воспевает', 'пугающие', 'тени', 'светлые', 'моменты', 'вздор', 'говорю', 'вздор', 'иначе', 'пишет', 'безымянный', 'безвестный', 'ценитель', 'переложил', 'стихи', 'память', 'двух', 'дорогих', 'старинных', 'кажется', 'игрушках', 'первая', 'представляла', 'собой', 'толстый', 'расписной', 'горшок', 'искусственным', 'растением', 'теплых', 'стран', 'котором', 'сидело', 'удивительно', 'вспорхливое', 'вид', 'чучело', 'тропической', 'птички', 'оперения', 'черного', 'аметистовой', 'грудкой', 'большой', 'ключ', 'выпрошенный', 'ивонны', 'ивановны', 'заправленный', 'стенку', 'горшка', 'несколько', 'туго', 'животворно', 'поворачивался', 'маленький', 'малайский', 'соловей', 'раскрывал', 'клюва', 'раскрывал', 'ибо', 'случилось', 'странное', 'заводом', 'пружиной', 'действовавшей', 'однако', 'впрок', 'птица', 'отказывалась', 'петь', 'забыть', 'неделю', 'случайно', 'пройти', 'мимо', 'высокого', 'шкапа', 'таинственного', 'сотрясения', 'рождалось', 'волшебное', 'щелкание', 'дивно', 'длительно', 'заливалась', 'выпятив', 'растрепанную', 'грудку', 'кончит', 'ступишь', 'уходя', 'другую', 'половицу', 'напоследок', 'отдельно', 'свистнет', 'полуноте', 'замрет', 'схожим', 'образом', 'шутовской', 'тенью', 'подражания', 'пародия', 'сопутствует', 'истинной', 'поэзии', 'вела', 'вторая', 'воспетых', 'игрушек', 'находившаяся', 'комнате', 'высокой', 'полке', 'это', 'клоун', 'атласных', 'шароварах', 'опиравшийся', 'руками', 'беленых', 'бруска', 'нечаянного', 'толчка', 'приходивший', 'движение', 'музыке', 'миниатюрной', 'произношением', 'смешным', 'позванивавшей', 'подмостками', 'пока', 'поднимал', 'едва', 'заметными', 'толчками', 'выше', 'выше', 'ноги', 'белых', 'чулках', 'помпонами', 'туфлях', 'внезапно', 'всј', 'обрывалось', 'угловато', 'застывал', 'мои', 'стихи', 'правда', 'сопоставлений', 'выводов', 'сохраняется', 'сю', 'сторону', 'слов', 'постепенно', 'накопляющихся', 'пьесок', 'складывается', 'образ', 'крайне', 'восприимчивого', 'мальчика', 'жившего', 'обстановке', 'крайне', 'благоприятной', 'наш', 'поэт', 'родился', 'двенадцатого', 'июля', 'года', 'родовом', 'имении', 'лешино', 'мальчик', 'поступления', 'школу', 'перечел', 'немало', 'книг', 'библиотеки', 'отца', 'своих', 'интересных', 'записках', 'вспоминает', 'маленький', 'федя', 'сестрой', 'старше', 'года', 'увлекались', 'детским', 'театром', 'сами', 'сочиняли', 'своих', 'представлений', 'любезный', 'это', 'ложь', 'равнодушен', 'театру', 'помню', 'картонные', 'деревца', 'зубчатый', 'дворец', 'окошками', 'малиновокисельной', 'бумаги', 'просвечивавшей', 'верещагинским', 'полымем', 'внутри', 'зажигалась', 'свеча', 'которой', 'нашего', 'участия', 'конце', 'концов', 'сгорело', 'здание', 'таней', 'привередливы', 'дело', 'касалось', 'игрушек', 'стороны', 'дарителей', 'равнодушных', 'нам', 'часто', 'поступали', 'совершенно', 'убогие', 'вещи', 'всј', 'являло', 'собой', 'плоскую', 'картонку', 'рисунком', 'крышке', 'предвещало', 'недоброе', 'одной', 'крышке', 'посвятил', 'условленных', 'строфы', 'стихотворение', 'встало', 'круглым', 'столом', 'свете', 'лампы', 'семейка', 'мальчик', 'невозможной', 'красным', 'галстуком', 'матроске', 'девочка', 'красных', 'зашнурованных', 'сапожках', 'оба', 'выражением', 'чувственного', 'упоения', 'нанизывают', 'соломинки', 'разноцветные', 'бусы', 'делая', 'корзиночки', 'клетки', 'коробки', 'увлечением', 'неменьшим', 'занятии', 'участвуют', 'полоумные', 'родители', 'отец', 'премированной', 'растительностью', 'довольном', 'лице', 'мать', 'державным', 'бюстом', 'собака', 'смотрит', 'стол', 'заднем', 'плане', 'видна', 'креслах', 'завистливая', 'бабушка', 'именно', 'дети', 'ныне', 'выросли', 'часто', 'встречаю', 'рекламах', 'блеском', 'щеках', 'сладострастно', 'затягивается', 'папиросой', 'держит', 'богатырской', 'руке', 'плотоядно', 'осклабясь', 'бутерброд', 'красным', 'ешьте', 'мяса', 'улыбается', 'собственному', 'чулку', 'ноге', 'развратной', 'радостью', 'обливает', 'искусственными', 'сливками', 'консервированный', 'компот', 'временем', 'обратятся', 'бодрых', 'румяных', 'обжорливых', 'стариков', 'черная', 'инфернальная', 'красота', 'дубовых', 'гробов', 'среди', 'пальм', 'витрине', 'развивается', 'нами', 'соответствии', 'нашим', 'бытием', 'мир', 'прекрасных', 'демонов', 'прекрасном', 'демоне', 'тайный', 'изъян', 'стыдная', 'бородавка', 'заду', 'подобия', 'совершенства', 'лакированным', 'лакомкам', 'реклам', 'объедающимся', 'желатином', 'знать', 'тихих', 'отрад', 'гастронома', 'моды', 'медлящие', 'стене', 'пока', 'проходим', 'мимо', 'отстают', 'действительных', 'поговорю', 'возмездии', 'которое', 'находит', 'слабое', 'место', 'удара', 'казалось', 'весь', 'смысл', 'сила', 'поражаемого', 'существа', 'вообще', 'смирным', 'играм', 'таней', 'предпочитали', 'потные', 'беготню', 'прятки', 'сражения', 'удивительно', 'такие', 'слова', 'сражение', 'ружейный', 'передают', 'звук', 'нажима', 'вдвигании', 'ружье', 'крашеной', 'палочки', 'лишенной', 'пущей', 'язвительности', 'гутаперчевой', 'присоски', 'которая', 'затем', 'треском', 'попадая', 'золотую', 'жесть', 'кирасы', 'следует', 'представить', 'помесь', 'кирасира', 'краснокожего', 'производила', 'почетную', 'выбоинку', 'снова', 'заряжаешь', 'ствол', 'дна', 'скрежетом', 'пружинным', 'упругий', 'вдавливая', 'пол', 'видишь', 'притаясь', 'дверью', 'зеркале', 'стоит', 'дыбом', 'радужные', 'перья', 'повязки', 'головной', 'автору', 'приходилось', 'прятаться', 'речь', 'идти', 'особняке', 'английской', 'набережной', 'существующем', 'поныне', 'портьерах', 'столами', 'спинными', 'подушками', 'шелковых', 'оттоманок', 'платяном', 'шкалу', 'ногами', 'хрустел', 'нафталин', 'откуда', 'щель', 'незримо', 'наблюдать', 'медленно', 'проходившим', 'слугой', 'становившимся', 'странности', 'новым', 'одушевленным', 'вздыхающим', 'чайным', 'яблочным', 'также', 'лестницею', 'винтовой', 'буфетом', 'одиноким', 'забытым', 'комнате', 'пустой', 'пыльных', 'полках', 'которого', 'прозябали', 'ожерелье', 'волчьих', 'зубов', 'алматолитовый', 'божок', 'голым', 'пузом', 'фарфоровый', 'высовывающий', 'знак', 'национального', 'приветствия', 'черный', 'язык', 'шахматы', 'верблюдами', 'вместо', 'слонов', 'членистый', 'деревянный', 'дракон', 'сойотская', 'табакерка', 'молочного', 'стекла', 'другая', 'агатовая', 'шаманский', 'бубен', 'нему', 'заячья', 'лапка', 'сапог', 'кожи', 'маральих', 'ног', 'стелькой', 'коры', 'лазурной', 'жимолости', 'тибетская', 'мечевидная', 'денежка', 'чашечка', 'кэрийского', 'нефрита', 'серебряная', 'брошка', 'бирюзой', 'лампада', 'ламы', 'тому', 'подобного', 'хлама', 'который', 'пыль', 'немецких', 'вод', 'перламутровый', 'gruss', 'отец', 'терпя', 'этнографии', 'случайно', 'привозил', 'своих', 'баснословных', 'путешествий', 'зато', 'запертые', 'ключ', 'залы', 'находились', 'коллекции', 'музей', 'стихах', 'нами', 'особым', 'чутьем', 'молодой', 'автор', 'предвидел', 'придется', 'говорить', 'иначе', 'стихами', 'брелоками', 'репетицией', 'другими', 'мужественными', 'словами', 'своем', 'знаменитом', 'отце', 'испортилось', 'доносится', 'голосок', 'рецензента', 'женского', 'пола', 'поэт', 'мягкой', 'любовью', 'вспоминает', 'комнаты', 'родного', 'дома', 'оно', 'протекало', 'сумел', 'влить', 'лирики', 'поэтическую', 'опись', 'вещей', 'среди', 'которых', 'протекало', 'оно', 'прислушиваешься', 'чутко', 'бережно', 'мелодия', 'прошлого', 'например', 'отображает', 'абажуры', 'ламп', 'литографии', 'стенах', 'парту', 'посещение', 'полотеров', 'оставляющих', 'составной', 'дух', 'мороза', 'пота', 'мастики', 'проверку', 'часов', 'четвергам', 'старик', 'приходит', 'учтивый', 'часовщика', 'доме', 'часы', 'заводит', 'неторопливая', 'рука', 'свои', 'украдкой', 'взглянет', 'переставит', 'стенных', 'стуле', 'стоя', 'ждать', 'станет', 'вышел', 'полностью', 'весь', 'полдень', 'благополучно', 'окончив', 'свой', 'приятный', 'труд', 'место', 'ставит', 'стул', 'беззвучно', 'ворча', 'часы', 'идут', 'щелкая', 'языком', 'странно', 'переводя', 'дух', 'боем', 'тиканье', 'лента', 'сантиметра', 'конца', 'мерило', 'мои', 'бессонницы', 'трудно', 'уснуть', 'чихнуть', 'гусара', 'покончить', 'собой', 'собственными', 'средствами', 'проглотив', 'язык', 'начале', 'мученической', 'ночи', 'пробавлялся', 'переговаривался', 'таней', 'кровать', 'которой', 'стояла', 'соседней', 'комнате', 'дверь', 'приоткрывали', 'несмотря', 'запрет', 'гувернантка', 'приходила', 'спальню', 'смежную', 'таниной', 'дверь', 'легонько', 'затворял', 'мгновенный', 'пробег', 'босиком', 'скок', 'постель', 'комнаты', 'комнату', 'долго', 'задавали', 'друг', 'другу', 'шарады', 'замолкая', 'сих', 'пор', 'слышу', 'тон', 'двойного', 'молчания', 'темноте', 'разгадки', 'моей', 'придумывания', 'новой', 'мои', 'попричудливее', 'поглупее', 'таня', 'придерживалась', 'классических', 'образцов', 'mon', 'premier', 'est', 'un', 'mon', 'second', 'est', 'un', 'habitant', 'des', 'cieux', 'et', 'mon', 'tout', 'est', 'un', 'fruit', 'засыпала', 'пока', 'доверчиво', 'ждал', 'думая', 'бьется', 'моей', 'загадкой', 'мольбами', 'бранью', 'удавалось', 'воскресить', 'час', 'путешествовал', 'потемках', 'постели', 'накидывая', 'простыню', 'одеяло', 'сводом', 'получилась', 'пещера', 'далеком', 'далеком', 'выходе', 'которой', 'пробивался', 'сторонкой', 'синеватый', 'свет', 'общего', 'имевший', 'комнатой', 'невской', 'ночью', 'пышными', 'полупрозрачными', 'опадениями', 'темных', 'штор', 'пещера', 'которую', 'исследовал', 'содержала', 'складках', 'своих', 'провалах', 'такую', 'томную', 'действительность', 'полнилась', 'душной', 'таинственной', 'мерой', 'глухой', 'барабан', 'начинало', 'стучать', 'груди', 'ушах', 'глубине', 'отец', 'нашел', 'новый', 'вид', 'летучей', 'мыши', 'различал', 'скулы', 'идола', 'высеченного', 'скале', 'забывался', 'десяток', 'рук', 'опрокидывали', 'ужасным', 'шелковым', 'треском', 'распарывал', 'сверху', 'низу', 'проворная', 'ладонь', 'проникала', 'сильно', 'сжимала', 'сердце', 'бывал', 'обращен', 'кричащую', 'монгольским', 'голосом', 'лошадь', 'камы', 'посредством', 'арканов', 'раздирали', 'бабки', 'ноги', 'мои', 'хрустом', 'ломаясь', 'ложились', 'прямым', 'углом', 'туловищу', 'грудью', 'прижатому', 'желтой', 'земле', 'знаменуя', 'крайнюю', 'муку', 'хвост', 'стоял', 'султаном', 'опадал', 'просыпался', 'пожалуйте', 'вставать', 'гуляет', 'зеркалам', 'печным', 'ладонь', 'истопника', 'определяет', 'дорос', 'верху', 'огонь', 'дорос', 'жаркому', 'гуденью', 'день', 'отвечает', 'тишиной', 'лазурью', 'розовою', 'тенью', 'совершенной', 'белизной', 'странно', 'каким', 'восковым', 'становится', 'воспоминание', 'подозрительно', 'хорошеет', 'херувим', 'мере', 'темнеет', 'оклад', 'странное', 'странное', 'происходит', 'памятью', 'выехал', 'семь', 'лет', 'тому', 'назад', 'чужая', 'сторона', 'утратила', 'дух', 'заграничности', 'своя', 'перестала', 'географической', 'привычкой', 'год', 'семь', 'бродячим', 'призраком', 'государства', 'сразу', 'принято', 'это', 'летоисчисление', 'сходное', 'которое', 'некогда', 'ввел', 'французский', 'ражий', 'гражданин', 'честь', 'новорожденной', 'свободы', 'счет', 'растет', 'честь', 'тешит', 'воспоминание', 'либо', 'тает', 'либо', 'приобретает', 'мертвый', 'лоск', 'взамен', 'дивных', 'привидений', 'нам', 'остается', 'веер', 'цветных', 'открыток', 'этому', 'поможет', 'никакая', 'поэзия', 'никакой', 'стереоскоп', 'лупоглазо', 'придающий', 'такую', 'выпуклость', 'куполу', 'таким', 'бесовским', 'подобием', 'пространства', 'обмывающий', 'гуляющих', 'карлсбадскими', 'кружками', 'лиц', 'пуще', 'рассказов', 'кампании', 'мучили', 'сны', 'оптического', 'развлечения', 'аппарат', 'стоял', 'приемной', 'дантиста', 'американца', 'lawson', 'сожительница', 'которого', 'mme', 'ducamp', 'седая', 'гарпия', 'своим', 'письменным', 'столом', 'среди', 'флаконов', 'лоусоновского', 'элексира', 'поджимая', 'губы', 'скребя', 'волосах', 'суетливо', 'прикидывала', 'вписать', 'таней', 'усилием', 'скрипом', 'пропихивала', 'плюющееся', 'перо', 'промеж', 'la', 'princesse', 'toumanoff', 'кляксой', 'конце', 'monsieur', 'danzas', 'кляксой', 'начале', 'описание', 'поездки', 'этому', 'дантисту', 'предупредившему', 'накануне', 'that', 'one', 'will', 'have', 'to', 'come', 'out', 'буду', 'карете', 'чрез', 'полчаса', 'сидеть', 'буду', 'снежинки', 'ветви', 'черные', 'глядеть', 'тумбу', 'шапке', 'ватной', 'глазами', 'провожу', 'буду', 'пути', 'обратном', 'путь', 'туда', 'припоминать', 'нащупывая', 'поминутно', 'брезгливой', 'нежностью', 'платок', 'который', 'бережно', 'закутан', 'костяной', 'брелок', 'ватная', 'шапка', 'будучи', 'тому', 'двусмыслицей', 'выражает', 'требовалось', 'имелся', 'виду', 'снег', 'нахлобученный', 'тумбы', 'соединенные', 'цепью', 'близости', 'памятника', 'петра', 'боже', 'трудом', 'собираю', 'части', 'прошлого', 'забываю', 'соотношение', 'связь', 'памяти', 'здравствующих', 'предметов', 'которые', 'вследствие', 'обрекаю', 'отмирание', 'оскорбительная', 'насмешка', 'самоуверении', 'впечатление', 'былое', 'льду', 'гармонии', 'живет', 'понуждает', 'слагать', 'стихи', 'детстве', 'равно', 'пишу', 'зря', 'промахиваясь', 'словесно', 'убивая', 'барса', 'лань', 'разрывной', 'пулей', 'верного', 'эпитета', 'будем', 'отчаиваться', 'говорит', 'настоящий', 'поэт', 'значит', 'стоило', 'выходить', 'охоту', 'двенадцатистишие', 'мучило', 'мальчика', 'терниях', 'городской', 'зимы', 'например', 'чулки', 'шерстят', 'поджилках', 'руку', 'положенную', 'плаху', 'прилавка', 'приказчица', 'натягивает', 'тебе', 'невозможно', 'плоскую', 'перчатку', 'упомянем', 'далее', 'двойной', 'первый', 'соскочило', 'щипок', 'крючка', 'тебе', 'расставившему', 'руки', 'застегивают', 'меховой', 'воротник', 'зато', 'занимательная', 'перемена', 'акустики', 'јмкость', 'звука', 'воротник', 'поднят', 'коснулись', 'ушей', 'незабвенна', 'музыка', 'шелковой', 'тугости', 'завязывании', 'подними', 'подбородок', 'ленточек', 'шапочных', 'наушников', 'весело', 'ребятам', 'бегать', 'морозце', 'входа', 'оснеженный', 'ударение', 'втором', 'слоге', 'сад', 'явление', 'продавец', 'воздушных', 'шаров', 'втрое', 'огромная', 'шуршащая', 'гроздь', 'смотрите', 'дети', 'переливаются', 'трутся', 'полные', 'красного', 'синего', 'зеленого', 'солнышка', 'божьего', 'красота', 'хочу', 'дяденька', 'самый', 'большой', 'белый', 'петухом', 'боку', 'красным', 'детенышем', 'плавающим', 'внутри', 'который', 'убиении', 'матки', 'уйдет', 'потолку', 'день', 'спустится', 'сморщенный', 'ручной', 'счастливые', 'ребята', 'купили', 'шар', 'целковый', 'добрый', 'торговец', 'вытянул', 'теснящейся', 'стаи', 'погоди', 'пострел', 'хватай', 'дай', 'отрезать', 'снова', 'надел', 'рукавицы', 'проверил', 'ладно', 'стянут', 'веревкой', 'ножницами', 'оттолкнувшись', 'пятой', 'тихо', 'начал', 'подниматься', 'стояком', 'голубое', 'небо', 'всј', 'выше', 'выше', 'гроздь', 'виноградной', 'дымы', 'позолота', 'иней', 'реставрированного', 'увы', 'сям', 'лучшим', 'картинам', 'художников', 'наших', 'шуток', 'очень', 'красиво', 'очень', 'тихо', 'деревья', 'саду', 'изображали', 'собственные', 'призраки', 'получалось', 'это', 'бесконечно', 'талантливо', 'таней', 'издевались', 'салазками', 'сверстников', 'особенно', 'крытые', 'ковровой', 'материей', 'висячей', 'бахромой', 'высоким', 'сидением', 'снабженным', 'грядкой', 'вожжиками', 'которые', 'седок', 'держался', 'тормозя', 'валенками', 'такие', 'дотягивали', 'конечного', 'сугроба', 'сразу', 'выйдя', 'прямого', 'бега', 'беспомощно', 'крутились', 'вокруг', 'своей', 'оси', 'продолжая', 'спускаться', 'бледным', 'серьезным', 'ребенком', 'принужденным', 'замирании', 'толчками', 'собственных', 'ступней', 'сидя', 'подвигаться', 'вперед', 'достигнуть', 'конца', 'ледяной', 'дорожки', 'тани', 'увесистые', 'брюшные', 'санки', 'сангалли', 'прямоугольная', 'бархатная', 'подушка', 'чугунных', 'полозьях', 'скобками', 'тащить', 'собой', 'шли', 'нетерпеливой', 'легкостью', 'зря', 'усыпанному', 'песком', 'снегу', 'ударялись', 'сзади', 'ноги', 'горка', 'влезть', 'помост', 'облитый', 'блеском', 'взнашивая', 'ведра', 'скат', 'обливать', 'воду', 'расплескивали', 'ступени', 'обросли', 'корою', 'блестящего', 'льда', 'всј', 'это', 'успела', 'объяснить', 'благонамеренная', 'аллитерация', 'влезть', 'помост', 'облитый', 'блеском', 'упасть', 'размаху', 'животом', 'санки', 'плоские', 'треском', 'голубому', 'меняется', 'картина', 'детской', 'сумрачно', 'горит', 'рождественская', 'скарлатина', 'пасхальный', 'дифтерит', 'съезжать', 'блещущему', 'ломко', 'преувеличенному', 'льду', 'полутропическом', 'полутаврическом', 'саду', 'нашего', 'александровского', 'волею', 'горячечной', 'мечты', 'перекочевывал', 'вместе', 'своим', 'каменным', 'верблюдом', 'генерал', 'николай', 'михайлович', 'пржевальский', 'превращающийся', 'статую', 'моего', 'отца', 'который', 'это', 'время', 'находился', 'скажем', 'кокандом', 'асхабадом', 'склонах', 'сининских', 'альп', 'таней', 'болели', 'вместе', 'очереди', 'страшно', 'бывало', 'услыхать', 'вдали', 'стукнувшею', 'другою', 'сдержанно', 'тихою', 'дверьми', 'прорвавшийся', 'шаг', 'высокий', 'смех', 'звучавший', 'небесным', 'ко', 'равнодушием', 'райским', 'здоровьем', 'бесконечно', 'далеким', 'моего', 'толстого', 'начиненного', 'желтой', 'клеенкой', 'компресса', 'ноющих', 'ног', 'плотской', 'тяжести', 'связанности', 'хворала', 'каким', 'земным', 'здешним', 'каким', 'футбольным', 'мячом', 'чувствовал', 'глядя', 'лежащую', 'постели', 'отсутствующую', 'обращенную', 'потустороннему', 'вялой', 'изнанкой', 'ко', 'опишем', 'последнюю', 'попытку', 'обороны', 'капитуляцией', 'выйдя', 'течения', 'дня', 'скрывая', 'самого', 'жар', 'ломоту', 'мексикански', 'запахиваясь', 'маскируешь', 'притязания', 'озноба', 'видом', 'требований', 'игры', 'полчаса', 'сдавшись', 'попав', 'постель', 'тело', 'верит', 'играло', 'ползало', 'полу', 'залы', 'ковру', 'пока', 'врем', 'опишем', 'вопросительно', 'тревожную', 'улыбку', 'матери', 'поставившей', 'градусник', 'доверяла', 'дядьке', 'гувернантке', 'скапутился', 'говорит', 'пробуя', 'шутить', 'минуту', 'вчера', 'знала', 'жар', 'обманешь', 'минуту', 'сколько', 'думаешь', 'кажется', 'вынуть', 'подносит', 'раскаленный', 'градусник', 'свету', 'сдвинув', 'очаровательные', 'котиковые', 'брови', 'которые', 'унаследовала', 'таня', 'долго', 'смотрит', 'сказав', 'медленно', 'отряхнув', 'градусник', 'вкладывая', 'футляр', 'глядит', 'словно', 'несовсем', 'узнает', 'отец', 'задумавшись', 'едет', 'шагом', 'весенней', 'сплошь', 'голубой', 'ирисов', 'равнине', 'опишем', 'бредовое', 'состояние', 'растут', 'распирая', 'мозг', 'великие', 'числа', 'сопровождаемые', 'непрекращающейся', 'словно', 'посторонней', 'скороговоркой', 'темном', 'саду', 'сумасшедшем', 'доме', 'задачника', 'наполовину', 'точнее', 'пятьдесят', 'семь', 'сто', 'одиннадцатых', 'выйдя', 'мира', 'отданного', 'рост', 'ужасного', 'мира', 'который', 'обречены', 'представлять', 'лицах', 'торговка', 'яблоками', 'четыре', 'землекопа', 'некто', 'завещавший', 'детям', 'караван', 'дробей', 'беседовали', 'ночной', 'шумок', 'деревьев', 'крайне', 'домашнем', 'глупом', 'страшном', 'неминуемо', 'оказывавшимся', 'этими', 'числами', 'безудержно', 'расширяющейся', 'вселенной', 'проливает', 'странный', 'свет', 'макрокосмические', 'домыслы', 'нынешних', 'физиков', 'опишем', 'выздоровление', 'ртуть', 'стоит', 'спускать', 'градусник', 'оставляется', 'небрежно', 'лежать', 'столе', 'толпа', 'книг', 'пришедших', 'поздравить', 'несколько', 'просто', 'любопытных', 'игрушек', 'вытесняют', 'полупустые', 'склянки', 'мутных', 'микстур', 'бювар', 'бумагою', 'почтовой', 'видится', 'ясней', 'украшена', 'подковой', 'монограммою', 'моей', 'знал', 'толк', 'инициалах', 'печатках', 'сплющенных', 'цветках', 'девочки', 'ниццы', 'алых', 'бронзоватых', 'сургучах', 'стихи', 'попал', 'удивительный', 'случай', 'бывший', 'мной', 'одного', 'особенно', 'тяжелого', 'воспаления', 'легких', 'перешли', 'гостиную', 'мужчин', 'весь', 'вечер', 'молчавший', 'жар', 'ночью', 'схлынул', 'выбрался', 'сушу', 'доложу', 'слаб', 'капризен', 'прозрачен', 'прозрачен', 'хрустальное', 'яйцо', 'мать', 'поехала', 'покупать', 'знал', 'одну', 'тех', 'чудаковатых', 'вещей', 'которые', 'время', 'времени', 'зарился', 'жадностью', 'брюхатой', 'женщины', 'совершенно', 'забывал', 'мать', 'записывала', 'desiderata', 'лежа', 'постели', 'пластом', 'среди', 'синеватых', 'слоев', 'комнатных', 'сумерек', 'лелеял', 'невероятную', 'ясность', 'случается', 'сумеречных', 'туч', 'длится', 'дальняя', 'полоса', 'неба', 'видны', 'мыс', 'мели', 'бог', 'знает', 'каких', 'далеких', 'островов', 'кажется', 'немножко', 'отпустить', 'вдаль', 'свое', 'легкое', 'око', 'различишь', 'блестящую', 'лодку', 'втянутую', 'влажный', 'песок', 'уходящие', 'следы', 'шагов', 'полные', 'яркой', 'воды', 'полагаю', 'ту', 'минуту', 'достиг', 'высшего', 'предела', 'человеческого', 'здоровья', 'мысль', 'омылась', 'окунувшись', 'недавно', 'опасную', 'земному', 'чистую', 'черноту', 'лежа', 'неподвижно', 'жмурясь', 'мысленно', 'вижу', 'мать', 'шеншилях', 'вуали', 'мушками', 'садится', 'сани', 'кажущиеся', 'такими', 'маленькими', 'сравнению', 'стеатопигией', 'русского', 'кучера', 'времени', 'мчит', 'прижавшую', 'муфту', 'лицу', 'вороная', 'пара', 'синей', 'сеткой', 'улица', 'улицей', 'развертывается', 'всякого', 'моего', 'усилия', 'комья', 'кофейного', 'снега', 'бьют', 'передок', 'сани', 'остановились', 'выездной', 'василий', 'соскальзывает', 'запяток', 'одновременно', 'отстегивая', 'медвежью', 'полость', 'мать', 'быстро', 'идет', 'магазину', 'название', 'выставку', 'которого', 'успеваю', 'рассмотреть', 'это', 'мгновение', 'проходит', 'окликает', 'скрылась', 'дядя', 'брат', 'протяжении', 'нескольких', 'шагов', 'невольно', 'сопутствую', 'стараясь', 'вглядеться', 'лицо', 'господина', 'которым', 'удаляясь', 'беседует', 'спохватившись', 'поворачиваю', 'обратно', 'поспешно', 'втекаю', 'магазин', 'мать', 'платит', 'десять', 'рублей', 'совершенно', 'обыкновеннный', 'зеленый', 'фаберовский', 'карандаш', 'который', 'бережно', 'заворачивается', 'коричневую', 'бумагу', 'двумя', 'приказчиками', 'передается', 'василью', 'несущему', 'моей', 'матерью', 'сани', 'мчащиеся', 'таким', 'таким', 'улицам', 'назад', 'нашему', 'дому', 'приближающемуся', 'хрустальное', 'течение', 'моего', 'ясновидения', 'прервалось', 'ивонна', 'ивановна', 'принесла', 'чашку', 'бульона', 'гренками', 'слаб', 'понадобилась', 'помощь', 'присесть', 'постели', 'дала', 'тумака', 'подушке', 'установила', 'передо', 'мной', 'поперек', 'живого', 'одеяла', 'постельный', 'столик', 'карликовых', 'ножках', 'извечно', 'липким', 'уездом', 'угла', 'растворилась', 'дверь', 'вошла', 'мать', 'улыбаясь', 'держа', 'бердыш', 'длинный', 'коричневый', 'сверток', 'нем', 'оказался', 'фаберовский', 'карандаш', 'полтора', 'аршина', 'длины', 'сообразно', 'толстый', 'рекламный', 'гигант', 'горизонтально', 'висевший', 'витрине', 'возбудивший', 'мою', 'взбалмошную', 'алчность', 'должно', 'находился', 'блаженном', 'состоянии', 'любая', 'странность', 'полубог', 'сходит', 'нам', 'неузнанной', 'смешаться', 'воскресной', 'толпой', 'ибо', 'ту', 'минуту', 'вовсе', 'поразился', 'случившемуся', 'мной', 'вскользь', 'отметил', 'ошибся', 'насчет', 'величины', 'предмета', 'окрепнув', 'хлебом', 'залепив', 'щели', 'суеверным', 'страданием', 'раздумывал', 'моим', 'припадком', 'прозрения', 'повторившимся', 'которого', 'стыдился', 'скрыл', 'тани', 'едва', 'расплакался', 'смущения', 'нам', 'попался', 'навстречу', 'первый', 'выход', 'дальний', 'родственник', 'матери', 'некто', 'гайдуков', 'который', 'сказал', 'вашим', 'братцем', 'недавно', 'видели', 'около', 'треймана', 'воздух', 'стихов', 'потеплел', 'собираемся', 'назад', 'деревню', 'моего', 'поступления', 'школу', 'поступил', 'двенадцати', 'лет', 'переезжали', 'апреле', 'канавы', 'скрылся', 'снег', 'склонов', 'петербургская', 'весна', 'волнения', 'анемонов', 'первых', 'бабочек', 'полна', 'прошлогодних', 'увядших', 'зиму', 'ванесс', 'лимонниц', 'никуда', 'негодных', 'летящих', 'сквозь', 'прозрачный', 'лес', 'зато', 'высмотрю', 'четыре', 'прелестных', 'газовых', 'крыла', 'нежнейшей', 'пяденицы', 'мире', 'средь', 'пятен', 'белого', 'ствола', 'это', 'любимое', 'стихотворение', 'самого', 'автора', 'включил', 'сборник', 'тема', 'связана', 'темой', 'отца', 'экономия', 'творчества', 'советовала', 'трогать', 'поры', 'времени', 'вместо', 'воспроизведены', 'такие', 'весенние', 'впечатления', 'первое', 'чувство', 'сразу', 'выходе', 'станции', 'мягкость', 'земли', 'близость', 'ступне', 'вокруг', 'головы', 'ничем', 'стесненное', 'течение', 'воздуха', 'наперебой', 'яростно', 'расточая', 'приглашения', 'вставая', 'козел', 'взмахивая', 'свободной', 'рукой', 'мешая', 'галдеж', 'нарочитым', 'тпруканием', 'извозчики', 'зазывали', 'ранних', 'дачников', 'поодаль', 'ожидал', 'открытый', 'автомобиль', 'пунцовый', 'снутри', 'снаружи', 'идея', 'скорости', 'дала', 'наклон', 'рулю', 'поймут', 'приморские', 'деревья', 'однако', 'общая', 'внешность', 'хранила', 'ложного', 'приличия', 'подобострастную', 'связь', 'формой', 'коляски', 'это', 'попытка', 'мимикрии', 'совершенно', 'уничтожалась', 'грохотанием', 'мотора', 'открытом', 'глушителе', 'столь', 'зверским', 'задолго', 'нашего', 'появления', 'мужик', 'встречной', 'телеге', 'спрыгивал', 'поворачивал', 'лошадь', 'бывало', 'вся', 'компания', 'немедленно', 'оказывается', 'канаве', 'поле', 'минуту', 'забыв', 'нашу', 'пыль', 'собирается', 'свежая', 'нежная', 'тишина', 'мельчайшим', 'отверстием', 'пения', 'жаворонка', 'заграничных', 'подошвах', 'давно', 'сбитых', 'каблуках', 'чувствуя', 'привидением', 'несмотря', 'идиотскую', 'вещественность', 'изоляторов', 'выйду', 'той', 'станции', 'видимых', 'спутников', 'пешком', 'пройду', 'стежкой', 'вдоль', 'шоссе', 'десяток', 'верст', 'лешина', 'другим', 'телеграфные', 'столбы', 'будут', 'гудеть', 'моем', 'приближении', 'валун', 'сядет', 'ворона', 'сядет', 'оправит', 'сложившееся', 'крыло', 'погода', 'вероятно', 'серенькая', 'изменения', 'облике', 'окрестности', 'которые', 'могу', 'представить', 'старейшие', 'приметы', 'которые', 'забыл', 'будут', 'встречать', 'попеременно', 'смешиваясь', 'кажется', 'ходьбе', 'буду', 'издавать', 'нечто', 'вроде', 'стона', 'тон', 'столбам', 'дойду', 'тех', 'мест', 'вырос', 'увижу', 'вследствие', 'пожара', 'перестройки', 'вырубки', 'нерадивости', 'природы', 'увижу', 'бесконечно', 'непоколебимо', 'верное', 'разгляжу', 'хотя', 'глаза', 'сделаны', 'тамошняя', 'серость', 'светлость', 'сырость', 'волнений', 'испытаю', 'удовлетворенность', 'страдания', 'перевале', 'счастью', 'котором', 'знать', 'рано', 'знаю', 'оно', 'пером', 'руке', 'одного', 'наверняка', 'застану', 'сущности', 'стоило', 'городить', 'огород', 'изгнания', 'детства', 'моего', 'плодов', 'моего', 'детства', 'плоды', 'сегодня', 'созревшие', 'оно', 'само', 'ушло', 'даль', 'почище', 'автор', 'нашел', 'верные', 'слова', 'изображения', 'ощущения', 'переходе', 'деревенскую', 'обстановку', 'весело', 'говорит', 'шапки', 'надевать', 'легких', 'башмаков', 'менять', 'песок', 'кирпичный', 'сада', 'весною', 'выбежать', 'этому', 'десять', 'лет', 'прибавилось', 'новое', 'развлечение', 'городе', 'въехал', 'ко', 'сначала', 'долго', 'водил', 'рога', 'комнаты', 'комнату', 'застенчивой', 'грацией', 'шел', 'паркету', 'пока', 'накололся', 'кнопку', 'сравнению', 'трехколесным', 'детским', 'дребежжащим', 'жалким', 'который', 'узости', 'ободков', 'увязал', 'песке', 'садовой', 'площадки', 'новый', 'обладал', 'божественной', 'легкостью', 'передвижения', 'это', 'поэт', 'выразил', 'следующих', 'стихах', 'первого', 'велосипеда', 'великолепье', 'вышина', 'раме', 'дукс', 'победа', 'надутой', 'шины', 'тишина', 'дрожанье', 'вилы', 'аллее', 'блики', 'рукам', 'скользят', 'насыпи', 'кротов', 'чернеют', 'низвержением', 'грозят', 'завтра', 'пролетаешь', 'сне', 'поддержки', 'простоте', 'доверясь', 'падает', 'велосипед', 'послезавтра', 'неизбежно', 'начинает', 'развиваться', 'мечта', 'свободной', 'передаче', 'сочетание', 'слов', 'которое', 'сих', 'пор', 'слышать', 'могу', 'замелькала', 'едва', 'уловимый', 'резиновый', 'шелест', 'легчайшее', 'лепетание', 'спиц', 'полоса', 'полого', 'бегущей', 'гладкой', 'липкой', 'земли', 'катанье', 'велосипеде', 'лодке', 'верховая', 'езда', 'игра', 'городки', 'крокет', 'купанье', 'пикники', 'заманчивость', 'мельницы', 'сенника', 'этим', 'общих', 'чертах', 'исчерпываются', 'темы', 'волнующие', 'нашего', 'автора', 'сказать', 'формальной', 'стороне', 'стихотворений', 'это', 'миниатюры', 'сделанные', 'феноменально', 'тонким', 'мастерством', 'котором', 'отчетлив', 'каждый', 'волосок', 'всј', 'выписано', 'чересчур', 'разборчивой', 'кистью', 'присутствие', 'мельчайших', 'черт', 'невольно', 'читателю', 'внушено', 'порядочностью', 'надежностью', 'таланта', 'ручающегося', 'соблюдение', 'автором', 'пунктов', 'художественного', 'договора', 'спорить', 'стоит', 'вообще', 'оживлять', 'альбомные', 'формы', 'кровь', 'жилах', 'нашего', 'славного', 'четырехстопника', 'которому', 'пушкин', 'пустивший', 'гулять', 'грозил', 'окно', 'крича', 'школьникам', 'отдаст', 'забаву', 'никак', 'отрицать', 'пределах', 'поставленных', 'стихотворную', 'задачу', 'правильно', 'разрешил', 'чопорность', 'мужских', 'рифм', 'превосходно', 'оттеняет', 'вольные', 'наряды', 'женских', 'ямб', 'пользуясь', 'всеми', 'тонкостями', 'ритмического', 'отступничества', 'однако', 'изменяет', 'каждый', 'стих', 'переливается', 'арлекином', 'кому', 'нравится', 'поэзии', 'жанр', 'полюбит', 'книжечку', 'слепому', 'паперти', 'сказать', 'какое', 'автора', 'зрение', 'проснувшись', 'спозаранку', 'знает', 'каков', 'день', 'щели', 'ставне', 'которая', 'синеет', 'синего', 'синей', 'уступая', 'сини', 'воспоминанию', 'прищуренным', 'глазом', 'смотрит', 'вечером', 'поле', 'одна', 'сторона', 'которого', 'забрана', 'тенью', 'другая', 'дальняя', 'валуна', 'посередине', 'опушки', 'днем', 'освещена', 'нам', 'думается', 'именно', 'живопись', 'литература', 'детства', 'обещалась', 'зная', 'теперешнем', 'облике', 'автора', 'зато', 'ясно', 'воображаем', 'мальчика', 'соломенной', 'шляпе', 'необыкновенно', 'неудобно', 'расположившегося', 'садовой', 'скамейке', 'своими', 'акварельными', 'принадлежностями', 'пишущего', 'мир', 'завещанный', 'предками', 'фарфоровые', 'соты', 'синий', 'зеленый', 'красный', 'мед', 'хранят', 'сперва', 'карандашных', 'линий', 'слагается', 'шершаво', 'сад', 'березы', 'флигельный', 'балкончик', 'всј', 'пятнах', 'солнца', 'обмакну', 'заверну', 'погуще', 'кончик', 'оранжевую', 'желтизну', 'меж', 'наполненном', 'бокале', 'лучах', 'граненого', 'стекла', 'какие', 'краски', 'засверкали', 'радость', 'расцвела', 'такова', 'книжечка', 'заключение', 'добавим', 'подскажи', 'мое', 'воображение', 'неужто', 'вправду', 'всј', 'очаровательно', 'дрожащее', 'снилось', 'снится', 'сквозь', 'мои', 'стихи', 'удержалось', 'замечено', 'читателем', 'чей', 'отзыв', 'сегодня', 'узнаю', 'неужели', 'действительно', 'всј', 'понял', 'понял', 'кроме', 'пресловутой', 'живописности', 'особый', 'поэтический', 'смысл', 'разум', 'зашедший', 'ум', 'возвращается', 'музыкой', 'который', 'выводит', 'стихи', 'люди', 'читал', 'скважинам', 'надобно', 'читать', 'стихи', 'просто', 'прочел', 'понравилось', 'похвалил', 'отметив', 'черту', 'модную', 'наше', 'время', 'время', 'моде', 'значение', 'чередования', 'ибо', 'сборник', 'открывается', 'стихами', 'потерянном', 'мяче', 'замыкается', 'стихами', 'мяче', 'найденном', 'одни', 'картины', 'киоты', 'год', 'остались', 'местах', 'выросли', 'случилось', 'домом', 'второпях', 'комнаты', 'собою', 'менялись', 'мебелью', 'своей', 'шкапами', 'ширмами', 'толпою', 'неповоротливых', 'вещей', 'тахтою', 'обнажившемся', 'полу', 'живой', 'обнаружился', 'углу', 'внешний', 'вид', 'книги', 'приятен', 'выжав', 'последнюю', 'каплю', 'сладости', 'федор', 'константинович', 'потянулся', 'встал', 'кушетки', 'сильно', 'хотелось', 'стрелки', 'часов', 'недавних', 'пор', 'пошаливали', 'принимаясь', 'двигаться', 'против', 'времени', 'положиться', 'судя', 'свету', 'день', 'собравшись', 'путь', 'присел', 'домочадцами', 'задумался', 'федор', 'константинович', 'вышел', 'улицу', 'обдало', 'надел', 'влажным', 'холодком', 'пока', 'мечтал', 'своими', 'стихами', 'шел', 'повидимому', 'дождь', 'вылощив', 'улицу', 'самого', 'конца', 'фургона', 'месте', 'недавно', 'стоял', 'трактор', 'самой', 'панели', 'осталось', 'радужное', 'приматом', 'пурпура', 'перистообразным', 'поворотом', 'пятно', 'масла', 'попугай', 'асфальта', 'имя', 'перевозчичьей', 'фирмы', 'max', 'lux', 'это', 'сказочный', 'огородник', 'ваша', 'светлость', 'захватил', 'ключи', 'подумал', 'федор', 'константинович', 'остановившись', 'опустив', 'руку', 'карман', 'макинтоша', 'наполнив', 'горсть', 'успокоительно', 'веско', 'звякнуло', 'года', 'тому', 'бытность', 'студентом', 'мать', 'переехала', 'тане', 'париж', 'писала', 'никак', 'привыкнуть', 'освобождению', 'постоянного', 'гнета', 'цепи', 'привязывающей', 'берлинца', 'дверному', 'замку', 'представилась', 'радость', 'чтении', 'статьи', 'нем', 'мгновение', 'почувствовал', 'отношению', 'самому', 'материнскую', 'гордость', 'мало', 'материнская', 'слеза', 'обожгла', 'края', 'век', 'внимание', 'жизни', 'коли', 'уверен', 'последней', 'темнейшей', 'своей', 'зимы', 'дивясь', 'ронсаровская', 'старуха', 'мир', 'вспоминать', 'обо', 'далеко', 'тридцати', 'сегодня', 'признан', 'признан', 'благодарю', 'отчизна', 'чистый', 'это', 'пропев', 'близко', 'мелькнула', 'лирическая', 'возможность', 'благодарю', 'отчизна', 'чистый', 'дар', 'безумие', 'звук', 'признан', 'собственно', 'ненужен', 'рифмы', 'вспыхнула', 'жизнь', 'рифма', 'сама', 'отпала', 'благодарю', 'россия', 'чистый', 'второе', 'прилагательное', 'успел', 'разглядеть', 'вспышке', 'жаль', 'счастливый', 'бессонный', 'крылатый', 'чистый', 'крылатый', 'дар', 'икры', 'латы', 'откуда', 'римлянин', 'всј', 'улетело', 'успел', 'удержать', 'купил', 'пирожков', 'мясом', 'капустой', 'третий', 'сагой', 'четвертый', 'рисом', 'пятый', 'пятый', 'хватило', 'русской', 'кухмистерской', 'представлявшей', 'кунсткамеру', 'отечественной', 'гастрономии', 'скоро', 'справился', 'ними', 'сидя', 'сырой', 'скамье', 'сквере', 'дождь', 'полил', 'шибче', 'точно', 'наклонил', 'небо', 'пришлось', 'укрыться', 'круглом', 'киоске', 'трамвайной', 'остановки', 'лавке', 'двое', 'портфелями', 'обсуждали', 'сделку', 'такими', 'диалектическими', 'подробностями', 'сущность', 'товара', 'пропадала', 'беглом', 'чтении', 'теряешь', 'обозначенный', 'лишь', 'заглавной', 'буквой', 'предмет', 'брокгаузовской', 'статьи', 'тряся', 'стриженными', 'волосами', 'вошла', 'девушка', 'маленьким', 'сопящим', 'похожим', 'жабу', 'бульдогом', 'странно', 'отчизна', 'признан', 'вместе', 'упорно', 'звенит', 'соблазнюсь', 'ливень', 'перестал', 'страшно', 'просто', 'всякого', 'пафоса', 'штук', 'зажглись', 'фонари', 'решил', 'расчетом', 'придти', 'рифму', 'девяти', 'отправиться', 'чернышевским', 'пьяных', 'охраняло', 'таком', 'настроении', 'переходил', 'улицы', 'мокром', 'луче', 'фонаря', 'работал', 'месте', 'автомобиль', 'капли', 'кожухе', 'одной', 'дрожали', 'мог', 'написать', 'федору', 'константиновичу', 'никак', 'удавалось', 'выбрать', 'добросовестен', 'бездарен', 'бесчестен', 'даровит', 'третий', 'писал', 'прозе', 'четвертый', 'друзьях', 'пятый', 'воображению', 'федора', 'константиновича', 'представился', 'пятый', 'человек', 'возраста', 'кажется', 'год', 'моложе', 'напечатавший', 'годы', 'эмигрантских', 'изданиях', 'стихи', 'статью', 'который', 'непонятным', 'образом', 'едва', 'физиологической', 'естественностью', 'некой', 'эманации', 'исподволь', 'оделся', 'облаком', 'неуловимой', 'славы', 'имя', 'произносилось', 'особенно', 'часто', 'совершенно', 'иначе', 'прочие', 'молодые', 'имена', 'человек', 'каждую', 'новую', 'строчку', 'которого', 'презирая', 'брезгливо', 'поспешно', 'жадно', 'поглощал', 'уголку', 'стараясь', 'самым', 'действием', 'чтения', 'истребить', 'чудо', 'дня', 'мог', 'отделаться', 'прочитанного', 'чувства', 'своего', 'бессилия', 'тайной', 'боли', 'словно', 'борьбе', 'другим', 'поранил', 'собственную', 'сокровенную', 'частицу', 'одинокий', 'неприятный', 'близорукий', 'человек', 'неправильностью', 'взаимном', 'положении', 'лопаток', 'всј', 'прощу', 'это', 'казалось', 'сдерживает', 'шаг', 'шляния', 'однако', 'попадавшиеся', 'пути', 'часы', 'боковые', 'исчадия', 'часовых', 'лавок', 'шли', 'медленнее', 'самой', 'цели', 'одним', 'махом', 'настиг', 'любовь', 'марковну', 'шедшую', 'туда', 'понял', 'весь', 'путь', 'нетерпение', 'несло', 'движущихся', 'ступеньках', 'превращающих', 'стоячего', 'скорохода', 'почему', 'носила', 'пенснэ', 'эта', 'пожилая', 'рыхлая', 'никем', 'любимая', 'женщина', 'подкрашивала', 'глаза', 'стекла', 'преувеличивали', 'дрожь', 'грубость', 'кустарной', 'росписи', 'невиннейший', 'взгляд', 'получался', 'двусмысленным', 'оторваться', 'гипноз', 'ошибки', 'вообще', 'едва', 'всј', 'основано', 'недоразумении', 'знать', 'это', 'формой', 'умопомешательства', 'думала', 'говорит', 'немка', 'гольсуорти', 'крупный', 'писатель', 'георгий', 'иванович', 'васильев', 'патологически', 'неравнодушен', 'одной', 'вернейших', 'посетительниц', 'литературных', 'посиделок', 'которые', 'чернышевские', 'союзе', 'васильевым', 'толстым', 'старым', 'журналистом', 'устраивали', 'дважды', 'месяц', 'субботам', 'сегодня', 'вторник', 'любовь', 'марковна', 'жила', 'впечатлениями', 'прошлой', 'субботы', 'щедро', 'ими', 'делясь', 'роковым', 'образом', 'мужчины', 'обществе', 'становились', 'рассеянными', 'невежами', 'федор', 'константинович', 'это', 'чувствовал', 'счастью', 'дверей', 'оставалось', 'несколько', 'шагов', 'ждала', 'ключами', 'горничная', 'чернышевских', 'высланная', 'собственно', 'навстречу', 'васильеву', 'которого', 'весьма', 'редкая', 'болезнь', 'сердечных', 'клапанов', 'сделал', 'своей', 'побочной', 'специальностью', 'случалось', 'приходил', 'знакомым', 'анатомической', 'моделью', 'сердца', 'всј', 'очень', 'ясно', 'любовно', 'демонстрировал', 'нам', 'лифта', 'нужно', 'сказала', 'любовь', 'марковна', 'пошла', 'наверх', 'сильно', 'топая', 'особенно', 'плавно', 'бесшумно', 'поворачивая', 'площадках', 'федору', 'константиновичу', 'приходилось', 'подниматься', 'сзади', 'замедленными', 'зигзагами', 'видишь', 'прерывчато', 'идет', 'пес', 'пропуская', 'голову', 'справа', 'слева', 'каблука', 'хозяина', 'отворила', 'сама', 'александра', 'яковлевна', 'успел', 'заметить', 'неожиданное', 'выражение', 'лица', 'точно', 'одобряла', 'хотела', 'быстро', 'предотвратить', 'переднюю', 'коротких', 'жирных', 'ножках', 'выскочил', 'опрометью', 'муж', 'тряся', 'бегу', 'газетой', 'крикнул', 'бешено', 'дергая', 'вниз', 'углом', 'рта', 'тик', 'смерти', 'сына', 'смотрите', 'заметила', 'чернышевская', 'ожидала', 'тонких', 'шуток', 'выходила', 'федор', 'константинович', 'удивлением', 'увидел', 'газета', 'немецкая', 'неуверенно', 'взял', 'дату', 'крикнул', 'александр', 'яковлевич', 'смотрите', 'дату', 'молодой', 'человек', 'вижу', 'сказал', 'федор', 'константинович', 'вздохом', 'газету', 'сложил', 'главное', 'отлично', 'помнил', 'александр', 'яковлевич', 'свирепо', 'захохотал', 'сердитесь', 'пожалуйста', 'ленивой', 'скорбью', 'произнесла', 'александра', 'яковлевна', 'слегка', 'балансируя', 'бедрами', 'мягко', 'беря', 'молодого', 'человека', 'кисть', 'любовь', 'марковна', 'защелкнув', 'сумку', 'поплыла', 'гостиную', 'это', 'очень', 'небольшая', 'пошловато', 'обставленная', 'дурно', 'освещенная', 'комната', 'застрявшей', 'тенью', 'углу', 'пыльной', 'вазой', 'танагра', 'недосягаемой', 'полке', 'прибыл', 'последний', 'гость', 'александра', 'яковлевна', 'ставшая', 'минуту', 'это', 'обычно', 'бывает', 'замечательно', 'похожа', 'свой', 'синий', 'бликом', 'чайник', 'начала', 'разливать', 'чай', 'теснота', 'помещения', 'претворилась', 'подобие', 'трогательно', 'уездного', 'уюта', 'диване', 'среди', 'подушек', 'всј', 'неаппетитных', 'заспанных', 'цветов', 'подле', 'шелковой', 'куклы', 'бескостными', 'ногами', 'ангела', 'персидским', 'разрезом', 'очей', 'которую', 'оба', 'сидящих', 'поочередно', 'мяли', 'удобно', 'расположились', 'огромный', 'бородатый', 'довоенных', 'носках', 'стрелками', 'васильев', 'худенькая', 'очаровательно', 'дохлая', 'розовыми', 'веками', 'барышня', 'общем', 'вроде', 'белой', 'мыши', 'звали', 'тамара', 'пристало', 'кукле', 'фамилия', 'смахивала', 'тех', 'немецких', 'горных', 'ландшафтов', 'которые', 'висят', 'рамочников', 'около', 'книжной', 'полки', 'сидел', 'федор', 'константинович', 'хотя', 'горле', 'стоял', 'кубик', 'старался', 'казаться', 'духе', 'инженер', 'керн', 'близко', 'знавший', 'покойного', 'александра', 'блока', 'извлекал', 'продолговатой', 'коробки', 'клейким', 'шорохом', 'финик', 'внимательно', 'осмотрев', 'кондитерские', 'пирожные', 'большой', 'тарелке', 'плохо', 'нарисованным', 'шмелем', 'любовь', 'марковна', 'скомкав', 'выбор', 'взяла', 'сорт', 'котором', 'непременно', 'бывает', 'след', 'неизвестного', 'пальца', 'пышку', 'хозяин', 'рассказывал', 'старинную', 'первоапрельскую', 'проделку', 'медика', 'первокурсника', 'киеве', 'самым', 'интересным', 'присутствующих', 'сидевший', 'поодаль', 'сбоку', 'письменного', 'стола', 'принимавший', 'участия', 'общем', 'разговоре', 'которым', 'однако', 'тихим', 'вниманием', 'следил', 'юноша', 'действительно', 'напоминавший', 'федора', 'константиновича', 'напоминал', 'чертами', 'лица', 'которые', 'трудно', 'рассмотреть', 'тональностью', 'облика', 'серовато', 'русым', 'оттенком', 'круглой', 'головы', 'которая', 'коротко', 'острижена', 'правилам', 'поздней', 'петербургской', 'романтики', 'шло', 'поэту', 'лохмы', 'прозрачностью', 'больших', 'нежных', 'слегка', 'оттопыренных', 'ушей', 'тонкостью', 'шеи', 'тенью', 'выемки', 'затылка', 'сидел', 'позе', 'сиживал', 'федор', 'константинович', 'немножко', 'опустив', 'голову', 'скрестив', 'ноги', 'столько', 'скрестив', 'сколько', 'поджав', 'руки', 'словно', 'зяб', 'покой', 'тела', 'скорее', 'выражался', 'острыми', 'уступами', 'колено', 'локти', 'щуплое', 'плечо', 'сжатостью', 'членов', 'нежели', 'обычным', 'смягчением', 'очерка', 'которое', 'бывает', 'человек', 'отдыхает', 'слушает', 'тень', 'двух', 'томов', 'стоявших', 'столе', 'изображала', 'обшлаг', 'угол', 'лацкана', 'тень', 'тома', 'третьего', 'склонившегося', 'другим', 'могла', 'сойти', 'галстук', 'лет', 'пять', 'моложе', 'федора', 'константиновича', 'касается', 'самого', 'лица', 'судя', 'снимкам', 'стенах', 'комнаты', 'соседней', 'спальне', 'столике', 'плачущими', 'ночам', 'постелями', 'сходства', 'существовало', 'вовсе', 'ежели', 'считать', 'известной', 'удлиненности', 'развитости', 'лобных', 'костей', 'темной', 'глубины', 'глазниц', 'паскальевой', 'определению', 'физиогномистов', 'пожалуй', 'широких', 'бровях', 'намечалось', 'общее', 'дело', 'простом', 'сходстве', 'одинаковости', 'духовной', 'породы', 'двух', 'нескладных', 'людей', 'сидел', 'юноша', 'поднимая', 'глаз', 'лукавой', 'чертой', 'губ', 'скромно', 'очень', 'удобно', 'стуле', 'вдоль', 'сидения', 'которого', 'блестели', 'медные', 'кнопки', 'слева', 'заваленного', 'словарями', 'стола', 'теряя', 'равновесие', 'судорожным', 'усилием', 'александр', 'яковлевич', 'снова', 'отрывал', 'взгляд', 'продолжая', 'рассказывать', 'всј', 'молодецки', 'смешное', 'обычно', 'прикрывал', 'болезнь', 'отзывы', 'всј', 'равно', 'будут', 'сказал', 'федору', 'константиновичу', 'непроизвольно', 'подмигивая', 'будьте', 'покойны', 'угорьки', 'повыжмут', 'кстати', 'спросила', 'александра', 'яковлевна', 'это', 'такое', 'вилы', 'аллее', 'велосипед', 'федор', 'константинович', 'скорее', 'жестами', 'словами', 'показал', 'знаете', 'учишься', 'ездить', 'страшно', 'виляешь', 'сомнительное', 'выражение', 'заметил', 'васильев', 'понравилось', 'детских', 'болезнях', 'сказала', 'александра', 'яковлевна', 'кивнув', 'самой', 'это', 'рождественская', 'скарлатина', 'пасхальный', 'дифтерит', 'почему', 'наоборот', 'полюбопытствовала', 'тамара', 'господи', 'любил', 'стихи', 'стеклянный', 'шкапчик', 'спальне', 'полон', 'книг', 'гумилев', 'эредиа', 'блок', 'рильке', 'сколько', 'знал', 'наизусть', 'тетради', 'нужно', 'решиться', 'всј', 'просмотреть', 'это', 'могу', 'это', 'странно', 'случается', 'дня', 'день', 'откладываешь', 'казалось', 'наслаждение', 'единственное', 'горькое', 'наслаждение', 'перебирать', 'имущество', 'мертвого', 'оно', 'однако', 'остается', 'лежать', 'нетронутым', 'спасительная', 'лень', 'души', 'немыслимо', 'чужой', 'дотронулся', 'какое', 'облегчение', 'нечаянный', 'пожар', 'уничтожил', 'драгоценный', 'маленький', 'шкал', 'александр', 'яковлевич', 'встал', 'случайно', 'переставил', 'стул', 'около', 'письменного', 'стола', 'тень', 'книг', 'никак', 'могли', 'служить', 'темой', 'призрака', 'разговор', 'временем', 'перешел', 'советского', 'деятеля', 'потерявшего', 'смерти', 'ленина', 'власть', 'те', 'годы', 'видал', 'зените', 'славы', 'добра', 'говорил', 'васильев', 'профессионально', 'перевирая', 'цитату', 'молодой', 'человек', 'похожий', 'федора', 'константиновича', 'которому', 'именно', 'поэтому', 'привязались', 'чернышевские', 'очутился', 'двери', 'прежде', 'выйти', 'остановился', 'полоборота', 'отцу', 'несмотря', 'свой', 'чисто', 'умозрительный', 'состав', 'ах', 'плотнее', 'сидящих', 'комнате', 'сквозь', 'васильева', 'бледную', 'барышню', 'просвечивал', 'диван', 'инженер', 'керн', 'представлен', 'одним', 'лишь', 'блеском', 'пенснэ', 'любовь', 'марковна', 'федор', 'константинович', 'держался', 'лишь', 'благодаря', 'смутному', 'совпадению', 'покойным', 'яша', 'совершенно', 'настоящий', 'живой', 'чувство', 'самосохранения', 'мешало', 'вглядеться', 'черты', 'подумал', 'федор', 'константинович', 'это', 'всј', 'александр', 'яковлевич', 'вовсе', 'представляет', 'мертвого', 'сына', 'действительно', 'занят', 'разговором', 'бегают', 'глаза', 'это', 'вообще', 'нервный', 'бог', 'тяжело', 'скучно', 'это', 'всј', 'знаю', 'почему', 'сижу', 'слушаю', 'вздор', 'продолжал', 'сидеть', 'курить', 'покачивать', 'носком', 'ноги', 'промеж', 'говорили', 'другие', 'говорил', 'старался', 'везде', 'вообразить', 'внутреннее', 'прозрачное', 'движение', 'другого', 'человека', 'осторожно', 'садясь', 'собеседника', 'кресло', 'локти', 'служили', 'подлокотниками', 'душа', 'влегла', 'чужую', 'душу', 'менялось', 'освещение', 'мира', 'минуту', 'действительно', 'александр', 'яковлевич', 'любовь', 'марковна', 'васильев', 'прохладе', 'легким', 'нарзанным', 'уколам', 'преображения', 'примешивалось', 'удовольствие', 'лестно', 'случайное', 'слово', 'ловко', 'подтверждало', 'последовательный', 'ход', 'мыслей', 'который', 'угадывал', 'другом', 'которого', 'называемая', 'политика', 'всј', 'это', 'дурацкое', 'чередование', 'пактов', 'конфликтов', 'обострений', 'трений', 'расхождений', 'падений', 'перерождений', 'неповинных', 'городков', 'международные', 'договоры', 'значила', 'погружался', 'бывало', 'содроганием', 'любопытством', 'просторные', 'недра', 'васильева', 'мгновение', 'жил', 'помощи', 'васильевского', 'внутреннего', 'механизма', 'рядом', 'кнопкой', 'локарно', 'кнопка', 'локаут', 'ложно', 'умную', 'ложно', 'занимательную', 'игру', 'вовлекались', 'разнокалиберные', 'символы', 'пятерка', 'кремлевских', 'владык', 'восстание', 'курдов', 'совершенно', 'потерявшие', 'человеческий', 'облик', 'отдельные', 'имена', 'гинденбург', 'маркс', 'пенлеве', 'эррио', 'головастая', 'которого', 'настолько', 'самоопределилась', 'столбцах', 'васильевской', 'газеты', 'грозила', 'полным', 'разрывом', 'первоначальным', 'французом', 'это', 'мир', 'вещих', 'предсказаний', 'предчувствий', 'таинственных', 'комбинаций', 'мир', 'который', 'сущности', 'стократ', 'призрачней', 'самой', 'отвлеченной', 'мечты', 'федор', 'константинович', 'пересаживался', 'александру', 'яковлевну', 'чернышевскую', 'попадал', 'душу', 'всј', 'чуждо', 'многое', 'изумляло', 'чопорного', 'путешественника', 'могут', 'изумлять', 'обычаи', 'заморской', 'страны', 'базар', 'заре', 'голые', 'дети', 'гвалт', 'чудовищная', 'величина', 'фруктов', 'сорокапятилетняя', 'некрасивая', 'сонная', 'женщина', 'потеряв', 'года', 'тому', 'назад', 'единственного', 'сына', 'проснулась', 'траур', 'окрылил', 'слезы', 'омолодили', 'крайней', 'мере', 'говорили', 'знавшие', 'прежде', 'память', 'сыне', 'обернувшаяся', 'мужа', 'недугом', 'разгорелась', 'живительной', 'страстью', 'неправильно', 'сказать', 'эта', 'страсть', 'заполняла', 'далеко', 'перелетала', 'душевный', 'предел', 'александры', 'яковлевны', 'едва', 'облагораживая', 'белиберду', 'этих', 'двух', 'меблированных', 'комнат', 'которые', 'мужем', 'несчастья', 'переехала', 'большой', 'старой', 'берлинской', 'квартиры', 'войны', 'живал', 'брат', 'семьей', 'своих', 'знакомых', 'рассматривала', 'лишь', 'углом', 'восприимчивости', 'утрате', 'порядка', 'вспоминала', 'воображала', 'суждение', 'яши', 'другом', 'лице', 'которым', 'приходилось', 'встречаться', 'охватил', 'жар', 'деятельности', 'жажда', 'обильного', 'отклика', 'сын', 'рос', 'выбивался', 'наружу', 'литературный', 'кружок', 'прошлом', 'году', 'учрежденный', 'александром', 'яковлевичем', 'совместно', 'васильевым', 'дабы', 'занять', 'показался', 'лучшим', 'посмертным', 'чествованием', 'впервые', 'увидел', 'немало', 'озадачен', 'эта', 'пухленькая', 'страшно', 'подвижная', 'ослепительно', 'синими', 'глазами', 'женщина', 'среди', 'первого', 'разговора', 'мной', 'залилась', 'слезами', 'точно', 'всякой', 'причины', 'распался', 'полный', 'доверху', 'хрустальный', 'сосуд', 'спуская', 'танцующего', 'взгляда', 'смеясь', 'всхлипывая', 'пошла', 'повторять', 'боже', 'напомнили', 'напомнили', 'откровенность', 'которой', 'следующих', 'встречах', 'мной', 'говорила', 'сыне', 'подробностях', 'гибели', 'снится', 'беременна', 'взрослым', 'сама', 'пузырь', 'прозрачна', 'показалась', 'вульгарным', 'безстыдством', 'покоробившим', 'стороной', 'узнал', 'немножко', 'обижена', 'отвечал', 'соответственной', 'вибрацией', 'просто', 'переменил', 'разговор', 'зашла', 'речь', 'моем', 'горе', 'моей', 'утрате', 'очень', 'скоро', 'заметил', 'восторг', 'скорби', 'среди', 'которого', 'беспрерывно', 'жила', 'умудряясь', 'умереть', 'разрыва', 'аорты', 'начинает', 'забирать', 'требовать', 'знаете', 'это', 'характерное', 'движение', 'человек', 'дает', 'руки', 'дорогую', 'фотографию', 'следит', 'вами', 'ожиданием', 'длительно', 'набожно', 'посмотрев', 'невинно', 'мысли', 'смерти', 'улыбающееся', 'лицо', 'снимке', 'притворно', 'замедляете', 'возвращение', 'притворно', 'тормозите', 'взглядом', 'руку', 'отдавая', 'карточку', 'задержкой', 'словно', 'неучтиво', 'расстаться', 'серию', 'движений', 'проделывали', 'александрой', 'яковлевной', 'беэ', 'конца', 'александр', 'яковлевич', 'сидел', 'своим', 'освещенным', 'углу', 'столом', 'работал', 'изредка', 'прочищая', 'горло', 'составлял', 'свой', 'словарь', 'русских', 'технических', 'терминов', 'заказанный', 'немецким', 'книгоиздательством', 'тихо', 'нехорошо', 'следы', 'вишневого', 'варенья', 'блюдце', 'мешались', 'пеплом', 'дальше', 'рассказывала', 'яше', 'слабее', 'притягивал', 'мало', 'схожи', 'меньше', 'полагала', 'внутрь', 'продлевая', 'совпаденье', 'наших', 'внешних', 'черт', 'которых', 'тому', 'находила', 'самом', 'деле', 'немногое', 'виду', 'соответствовало', 'немногому', 'внутри', 'едва', 'подружились', 'встреться', 'время', 'пасмурность', 'прерываемая', 'резким', 'крикливым', 'весельем', 'свойственным', 'безъюморным', 'людям', 'увлечения', 'чистота', 'которая', 'сильно', 'отдавала', 'трусостью', 'чувств', 'кабы', 'болезненная', 'изысканность', 'толкования', 'ощущение', 'германии', 'безвкусные', 'тревоги', 'неделю', 'чаду', 'прочитал', 'шпенглера', 'стихи', 'словом', 'всј', 'матери', 'преисполнено', 'очарования', 'лишь', 'претило', 'поэт', 'очень', 'хил', 'творил', 'перебивался', 'поэзией', 'перебивались', 'тысячи', 'интеллигентных', 'юношей', 'типа', 'гибли', 'той', 'менее', 'геройской', 'смертью', 'общего', 'имеющей', 'русской', 'словесностью', 'которую', 'знали', 'досканально', 'яшины', 'тетради', 'полные', 'ритмических', 'ходов', 'треугольников', 'трапеций', 'будущем', 'отклонялись', 'литературы', 'совершенно', 'выказывали', 'талант', 'области', 'науки', 'службы', 'жизни', 'стихах', 'полных', 'модных', 'банальностей', 'воспевал', 'горчайшую', 'любовь', 'россии', 'есенинскую', 'осень', 'голубизну', 'блоковских', 'болот', 'снежок', 'торцах', 'акмеизма', 'невский', 'гранит', 'котором', 'едва', 'различим', 'след', 'пушкинского', 'локтя', 'мать', 'читала', 'сбиваясь', 'волнуясь', 'неумелой', 'гимназической', 'интонацией', 'вовсе', 'шедшей', 'этим', 'патетическим', 'пэонам', 'которые', 'яша', 'должно', 'читал', 'самозабвенным', 'певком', 'раздувая', 'ноздри', 'раскачиваясь', 'странном', 'блистании', 'лирической', 'гордыни', 'тотчас', 'оседал', 'вновь', 'становясь', 'скромным', 'вялым', 'замкнутым', 'эпитеты', 'жившие', 'гортани', 'невероятный', 'хладный', 'прекрасный', 'эпитеты', 'жадно', 'употребляемые', 'молодыми', 'поэтами', 'поколения', 'обманутыми', 'архаизмы', 'прозаизмы', 'просто', 'обедневшие', 'некогда', 'слова', 'вроде', 'роза', 'совершив', 'полный', 'круг', 'жизни', 'получали', 'стихах', 'неожиданную', 'свежесть', 'возвращаясь', 'стороны', 'слова', 'спотыкавшихся', 'устах', 'александры', 'яковлевны', 'делали', 'полукруг', 'снова', 'закатываясь', 'снова', 'являя', 'ветхую', 'нищету', 'вскрывая', 'обман', 'стиля', 'кроме', 'патриотической', 'лирики', 'стихи', 'матросских', 'тавернах', 'джине', 'джазе', 'который', 'писал', 'манер', 'яц', 'стихи', 'берлине', 'попыткой', 'развить', 'немецких', 'наименований', 'голос', 'подобно', 'тому', 'скажем', 'названия', 'итальянских', 'улиц', 'звучат', 'подозрительно', 'приятным', 'контральто', 'русских', 'стихах', 'посвящения', 'дружбе', 'рифмы', 'размера', 'путанное', 'туманное', 'пугливое', 'душевные', 'дрязги', 'обращение', 'другу', 'обращается', 'больной', 'француз', 'богу', 'молодая', 'русская', 'поэтесса', 'любимому', 'господину', 'всј', 'это', 'выражено', 'бледно', 'множеством', 'неправильностей', 'ударениях', 'рифмовало', 'предан', 'передан', 'обезличить', 'отличить', 'октябрь', 'занимал', 'места', 'стихотворной', 'строке', 'заплатив', 'лишь', 'пожарище', 'означало', 'большой', 'пожар', 'запомнилось', 'трогательное', 'упоминание', 'фресках', 'врублева', 'прелестный', 'гибрид', 'лишний', 'доказывавший', 'наше', 'несходство', 'мог', 'любить', 'живопись', 'свое', 'настоящее', 'мнение', 'поэзии', 'скрывал', 'александры', 'яковлевны', 'те', 'принужденные', 'звуки', 'нечленораздельного', 'одобрения', 'которые', 'приличия', 'издавал', 'понимались', 'ею', 'хаос', 'восхищения', 'подарила', 'рождение', 'сияя', 'сквозь', 'слезы', 'лучший', 'яшин', 'галстук', 'свеже', 'выутюженный', 'старомодно', 'муаровый', 'заметной', 'петербургской', 'маркой', 'джокей', 'клуб', 'думаю', 'яша', 'вряд', 'часто', 'носил', 'обмен', 'всј', 'поделилась', 'мной', 'полный', 'подробный', 'образ', 'покойного', 'сына', 'стихами', 'ипохондрией', 'увлечениями', 'гибелью', 'александра', 'яковлевна', 'властно', 'требовала', 'некоторого', 'творческого', 'содействия', 'получалось', 'странное', 'соответствие', 'муж', 'гордившийся', 'своим', 'столетним', 'именем', 'подолгу', 'занимавший', 'историей', 'оного', 'знакомых', 'деда', 'царствование', 'николая', 'первого', 'крестил', 'вольске', 'кажется', 'отец', 'знаменитого', 'чернышевского', 'толстый', 'энергичный', 'священник', 'любивший', 'миссионерствовать', 'среди', 'евреев', 'придачу', 'духовному', 'благу', 'дававший', 'фамилию', 'говорил', 'знаете', 'написали', 'виде', 'biographie', 'romance', 'e', 'книжечку', 'нашем', 'великом', 'шестидесятнике', 'морщитесь', 'предвижу', 'возраженья', 'предложение', 'мое', 'поверьте', 'бывают', 'случаи', 'обаяние', 'человеческого', 'подвига', 'совершенно', 'искупает', 'литературную', 'ложь', 'сущий', 'подвижник', 'пожелали', 'описать', 'жизнь', 'б', 'мог', 'порассказать', 'любопытного', 'хотелось', 'писать', 'великом', 'шестидесятнике', 'меньше', 'яше', 'своей', 'стороны', 'настойчиво', 'советовала', 'александра', 'яковлевна', 'общем', 'получался', 'заказ', 'историю', 'рода', 'невзирая', 'смешило', 'раздражало', 'это', 'стремление', 'указывать', 'путь', 'моей', 'музе', 'чувствовал', 'немного', 'александра', 'яковлевна', 'загонит', 'угол', 'откуда', 'вылезу', 'подобно', 'тому', 'приходилось', 'являться', 'яшином', 'галстуке', 'покуда', 'придумал', 'отговориться', 'боюсь', 'затрепать', 'точно', 'также', 'придется', 'засесть', 'писание', 'новеллы', 'изображением', 'яшиной', 'судьбы', 'одно', 'время', 'имел', 'слабость', 'смелость', 'прикидывать', 'уме', 'это', 'взялся', 'кабы', 'иной', 'мыслящий', 'пошляк', 'беллетрист', 'роговых', 'очках', 'домашний', 'врач', 'европы', 'сейсмограф', 'социальных', 'потрясений', 'нашел', 'истории', 'сомневаюсь', 'нечто', 'высшей', 'степени', 'характерное', 'настроений', 'молодежи', 'послевоенные', 'годы', 'одно', 'это', 'сочетание', 'слов', 'говоря', 'область', 'идей', 'невыразимо', 'бесило', 'испытывал', 'приторную', 'тошноту', 'слышал', 'читал', 'очередной', 'вздор', 'вульгарный', 'мрачный', 'вздор', 'симптомах', 'века', 'трагедиях', 'юношества', 'загореться', 'яшиной', 'трагедией', 'мог', 'хотя', 'александра', 'яковлевна', 'думала', 'горю', 'невольно', 'увяз', 'глубокомысленной', 'гнусным', 'фрейдовским', 'душком', 'беллетристике', 'замиранием', 'сердца', 'упражняя', 'воображение', 'носком', 'ноги', 'испытывая', 'слюдяной', 'ледок', 'зажоры', 'доходил', 'видел', 'переписывающим', 'приносящим', 'чернышевской', 'свое', 'произведение', 'садящимся', 'лампа', 'левой', 'стороны', 'освещала', 'роковой', 'путь', 'спасибо', 'отлично', 'видно', 'короткого', 'предисловия', 'насчет', 'трудно', 'ответственно', 'всј', 'заволакивалось', 'багровым', 'паром', 'стыда', 'счастью', 'заказа', 'исполнил', 'знаю', 'именно', 'уберегло', 'тянул', 'долго', 'случайно', 'выдались', 'благотворные', 'перерывы', 'наших', 'встречах', 'самой', 'александре', 'яковлевне', 'приелся', 'качестве', 'слушателя', 'история', 'осталась', 'писателем', 'неиспользованной', 'сущности', 'очень', 'проста', 'грустна', 'эта', 'история', 'одно', 'время', 'попали', 'берлинский', 'университет', 'знал', 'яши', 'хотя', 'должно', 'проходили', 'друг', 'мимо', 'друга', 'разность', 'предметов', 'занимался', 'философией', 'инфузориями', 'уменьшала', 'возможность', 'общения', 'вернулся', 'это', 'прошлое', 'лишь', 'одним', 'обогащением', 'сознанием', 'сегодняшнего', 'дня', 'повторил', 'точности', 'тогдашние', 'мои', 'петли', 'сразу', 'приметил', 'лицо', 'столь', 'знакомое', 'снимкам', 'забавно', 'вообще', 'представить', 'возвращение', 'былое', 'контрабандой', 'настоящего', 'дико', 'встретить', 'неожиданных', 'местах', 'такие', 'молодые', 'свежие', 'каком', 'ясном', 'безумии', 'узнающие', 'прообразы', 'сегодняшних', 'знакомых', 'женщина', 'которую', 'скажем', 'вчерашнего', 'дня', 'люблю', 'девочкой', 'оказывается', 'стояла', 'рядом', 'мной', 'переполненном', 'поезде', 'прохожий', 'пятнадцать', 'лет', 'тому', 'назад', 'спросивший', 'дорогу', 'ныне', 'служит', 'одной', 'конторе', 'мной', 'толпе', 'минувшего', 'десяток', 'лиц', 'получило', 'анахроническую', 'значительность', 'малые', 'карты', 'совершенно', 'преображенные', 'лучем', 'козыря', 'уверенностью', 'увы', 'случается', 'сне', 'пропутешествовать', 'границе', 'прошлого', 'обесценивается', 'весь', 'твой', 'нынешний', 'ум', 'обстановке', 'класса', 'наскоро', 'составленного', 'аляповатым', 'бутафором', 'кошмара', 'знаешь', 'урока', 'всею', 'забытой', 'тонкостью', 'тех', 'бывших', 'школьных', 'мук', 'университете', 'яша', 'близко', 'сдружился', 'студентом', 'рудольфом', 'бауманом', 'студенткой', 'олей', 'русские', 'газеты', 'печатали', 'полностью', 'фамилии', 'это', 'барышня', 'лет', 'круга', 'родом', 'города', 'семьи', 'друг', 'друга', 'знали', 'года', 'яшиной', 'гибели', 'литературном', 'вечере', 'довелось', 'видеть', 'запомнил', 'необыкновенно', 'широкий', 'чистый', 'лоб', 'глаза', 'морского', 'оттенка', 'большой', 'красный', 'рот', 'черным', 'пушком', 'верхней', 'губой', 'толстой', 'родинкой', 'сбоку', 'стояла', 'сложив', 'мягкой', 'груди', 'руки', 'сразу', 'развернуло', 'литературу', 'предмета', 'пыль', 'ведряного', 'вечера', 'шинок', 'тракта', 'женская', 'наблюдательная', 'скука', 'рудольфа', 'видал', 'чужих', 'слов', 'заключаю', 'бледноволос', 'быстр', 'движениях', 'красив', 'жилистой', 'лягавой', 'красотой', 'таким', 'образом', 'каждого', 'помянутых', 'трех', 'лиц', 'пользуюсь', 'другим', 'способом', 'изучения', 'влияет', 'плотность', 'окраску', 'покамест', 'последнюю', 'минуту', 'ударяет', 'озарением', 'уравнивая', 'мое', 'самому', 'непонятное', 'солнце', 'дневниковых', 'своих', 'заметках', 'яша', 'метко', 'определил', 'взаимоотношения', 'рудольфа', 'оли', 'треугольник', 'вписанный', 'круг', 'кругом', 'та', 'нормальная', 'ясная', 'эвклидова', 'выразился', 'дружба', 'которая', 'объединяла', 'троих', 'одной', 'союз', 'остался', 'счастливым', 'беспечным', 'нерасторгнутым', 'треугольником', 'вписанным', 'являлась', 'та', 'другая', 'связь', 'отношений', 'сложная', 'мучительная', 'долго', 'образовывавшаяся', 'которая', 'жила', 'своей', 'жизнью', 'совершенно', 'независимо', 'общей', 'окружности', 'одинаковой', 'дружбы', 'это', 'банальный', 'треугольник', 'трагедии', 'родившийся', 'идиллическом', 'кольце', 'одна', 'наличность', 'подозрительной', 'ладности', 'построения', 'говоря', 'модной', 'комбинационности', 'развития', 'позволила', 'сделать', 'рассказ', 'повесть', 'книгу', 'дико', 'влюблен', 'душу', 'рудольфа', 'писал', 'яша', 'своим', 'взволнованным', 'неоромантическим', 'слогом', 'влюблен', 'соразмерность', 'здоровье', 'жизнерадостность', 'дико', 'влюблен', 'обнаженную', 'загорелую', 'гибкую', 'душу', 'которая', 'всј', 'имеет', 'ответ', 'идет', 'жизнь', 'самоуверенная', 'женщина', 'бальный', 'зал', 'умею', 'представить', 'сложнейшем', 'абстрактнейшем', 'порядке', 'сравнению', 'которым', 'кант', 'гегель', 'игра', 'дикое', 'блаженство', 'которое', 'испытывал', 'могу', 'сделать', 'душой', 'незнание', 'это', 'отсутствие', 'таинственнейшего', 'орудия', 'вроде', 'альбрехт', 'кох', 'тосковал', 'золотой', 'логике', 'мире', 'безумных', 'смерть', 'кровь', 'кипит', 'мои', 'руки', 'холодеют', 'гимназистки', 'вдвоем', 'остаемся', 'знает', 'это', 'становлюсь', 'гадок', 'скрывает', 'брезгливого', 'чувства', 'дико', 'влюблен', 'душу', 'это', 'бесплодно', 'влюбиться', 'луну', 'понять', 'брезгливость', 'рудольфа', 'стороны', 'кажется', 'ненормальна', 'яшина', 'страсть', 'волнение', 'конце', 'концов', 'весьма', 'сходно', 'волнением', 'одного', 'русского', 'юноши', 'середины', 'прошлого', 'века', 'трепетавшего', 'счастья', 'вскинув', 'шелковые', 'ресницы', 'наставник', 'матовым', 'челом', 'будущий', 'вождь', 'будущий', 'мученик', 'обращался', 'нему', 'решительно', 'отверг', 'непоправимую', 'природу', 'отклонения', 'месяц', 'полигон', 'виола', 'заблудившегося', 'пола', 'кончеевской', 'поэме', 'перевел', 'степь', 'ночь', 'луне', 'рудольф', 'малейшей', 'мере', 'учителем', 'мучеником', 'вождем', 'ибо', 'самом', 'деле', 'это', 'называется', 'бурш', 'правда', 'бурш', 'легким', 'заскоком', 'тягой', 'темным', 'стихам', 'хромой', 'музыке', 'кривой', 'живописи', 'исключало', 'нем', 'той', 'коренной', 'добротности', 'которой', 'пленился', 'думал', 'пленился', 'яша', 'сын', 'почтенного', 'чиновничьей', 'дочки', 'вырос', 'чудных', 'буржуазных', 'условиях', 'храмообразным', 'буфетом', 'спинами', 'спящих', 'книг', 'добродушен', 'недобр', 'общителен', 'всј', 'диковат', 'взбалмошен', 'расчетлив', 'олю', 'окончательно', 'влюбился', 'велосипедной', 'прогулки', 'яшей', 'шварцвальду', 'которая', 'показывал', 'следствии', 'нам', 'всем', 'троим', 'открыла', 'глаза', 'влюбился', 'последнему', 'классу', 'просто', 'нетерпеливо', 'однако', 'встретил', 'резкий', 'отпор', 'усиленный', 'бездельная', 'прожорливая', 'угрюмым', 'норовцом', 'оля', 'очередь', 'тех', 'еловых', 'лесах', 'круглого', 'черного', 'озера', 'поняла', 'увлеклась', 'яшей', 'которого', 'это', 'угнетало', 'пыл', 'рудольфа', 'пыл', 'рудольфа', 'самое', 'геометрическая', 'зависимость', 'вписанными', 'чувствами', 'получилась', 'полная', 'напоминая', 'вместе', 'таинственную', 'заданность', 'определений', 'перечне', 'лиц', 'старинных', 'французских', 'драматургов', 'amante', 'тогдашним', 'оттенком', 'действенного', 'причастия', 'зиме', 'ко', 'второй', 'зиме', 'союза', 'отчетливо', 'разобрались', 'положении', 'зима', 'ушла', 'изучение', 'безнадежности', 'извне', 'всј', 'казалось', 'благополучным', 'яша', 'беспробудно', 'читал', 'рудольф', 'играл', 'хоккей', 'виртуозно', 'мча', 'льду', 'пак', 'оля', 'занималась', 'искусствоведением', 'рассуждении', 'эпохи', 'звучит', 'весь', 'тон', 'данной', 'драмы', 'нестерпимо', 'типичной', 'нотой', 'внутри', 'безостановочно', 'развивалась', 'глухая', 'болезненная', 'работа', 'ставшая', 'стихийно', 'разрушительной', 'бедные', 'молодые', 'люди', 'начали', 'находить', 'услаждение', 'своей', 'тройственной', 'пытке', 'долгое', 'время', 'тайному', 'соглашению', 'каждый', 'каждом', 'бесстыдно', 'безнадежно', 'всј', 'давно', 'знал', 'переживаний', 'своих', 'касались', 'вовсе', 'бывали', 'втроем', 'стоило', 'любому', 'отлучиться', 'двое', 'оставшихся', 'неминуемо', 'принимались', 'обсуждать', 'страсть', 'страдания', 'новый', 'год', 'встречали', 'буфете', 'одного', 'берлинских', 'вокзалов', 'вокзалах', 'вооружение', 'времени', 'особенно', 'внушительно', 'пошли', 'шляться', 'разноцветную', 'слякоть', 'страшным', 'праздничным', 'улицам', 'рудольф', 'предложил', 'иронический', 'тост', 'разоблачение', 'дружбы', 'той', 'поры', 'сначала', 'сдержанно', 'вскоре', 'упоении', 'откровенности', 'совместно', 'полном', 'составе', 'обсуждали', 'свои', 'чувства', 'треугольник', 'стал', 'окружность', 'разъедать', 'чета', 'чернышевских', 'родители', 'рудольфа', 'олина', 'мать', 'скульпторша', 'жирная', 'черноглазая', 'красивая', 'дама', 'низким', 'голосом', 'похоронившая', 'двух', 'мужей', 'носившая', 'длинные', 'бронзовые', 'цепи', 'вокруг', 'шеи', 'чуяла', 'какое', 'нарастает', 'событие', 'уверенностью', 'ответила', 'найдись', 'праздный', 'вопрошатель', 'среди', 'ангелов', 'слетавшихся', 'кипевших', 'профессиональной', 'хлопотливостью', 'вокруг', 'колыбели', 'лежал', 'темненький', 'новорожденный', 'револьвер', 'ответила', 'всј', 'совершенно', 'счастливы', 'зато', 'всј', 'случилось', 'обокраденная', 'память', 'прилагала', 'усилия', 'былом', 'ровном', 'потоке', 'одинаково', 'окрашенных', 'дней', 'найти', 'следы', 'улики', 'будущего', 'представьте', 'находила', 'госпожа', 'нанося', 'выражалась', 'визит', 'соболезнования', 'александре', 'яковлевне', 'вполне', 'верила', 'свои', 'слова', 'рассказывала', 'давно', 'предчувствовала', 'беду', 'самого', 'дня', 'вошла', 'полутемную', 'залу', 'диване', 'неподвижных', 'позах', 'различных', 'горестных', 'преклонениях', 'аллегорий', 'могильных', 'барельефах', 'молчали', 'оля', 'двое', 'приятелей', 'это', 'одно', 'мгновение', 'одно', 'мгновение', 'гармонии', 'теней', 'госпожа', 'это', 'мгновение', 'отметила', 'вернее', 'отложила', 'несколько', 'месяцев', 'нему', 'фуксом', 'возвратиться', 'весне', 'револьвер', 'вырос', 'принадлежал', 'рудольфу', 'долгое', 'время', 'незаметно', 'переходил', 'одного', 'другому', 'теплое', 'веревке', 'кольцо', 'карта', 'негритяночкой', 'это', 'странно', 'мысль', 'исчезнуть', 'всем', 'троим', 'дабы', 'восстановился', 'неземном', 'плане', 'некий', 'идеальный', 'непорочный', 'круг', 'страстнее', 'разрабатывалась', 'олей', 'хотя', 'трудно', 'установить', 'впервые', 'высказал', 'поэты', 'предприятия', 'вышел', 'яша', 'положение', 'которого', 'казалось', 'наиболее', 'безнадежным', 'самым', 'отвлеченным', 'печали', 'которых', 'смертью', 'лечат', 'оттого', 'гораздо', 'проще', 'врачуются', 'жизнью', 'меняющейся', 'мечтой', 'вещественная', 'пуля', 'берет', 'отлично', 'зато', 'справляясь', 'вещественной', 'страстью', 'рудольфовых', 'олиных', 'сердец', 'выход', 'найден', 'разговоры', 'нем', 'стали', 'особенно', 'увлекательны', 'середине', 'апреля', 'тогдашней', 'квартире', 'чернышевских', 'родители', 'мирно', 'ушли', 'кино', 'напротив', 'случилось', 'послужившее', 'повидимому', 'окончательным', 'толчком', 'развязки', 'рудольф', 'неожиданно', 'подвыпил', 'разошелся', 'яша', 'силой', 'отрывал', 'оли', 'всј', 'это', 'происходило', 'ванной', 'комнате', 'рудольф', 'рыдая', 'подбирал', 'высыпавшиеся', 'образом', 'кармана', 'штанов', 'деньги', 'тяжело', 'стыдно', 'всем', 'каким', 'заманчивым', 'облегчением', 'представлялся', 'назначенный', 'завтра', 'финал', 'обеда', 'четверг', 'восемнадцатого', 'восемнадцатую', 'годовщину', 'смерти', 'олиного', 'отца', 'запаслись', 'ставшим', 'толстым', 'самостоятельным', 'револьвером', 'легкую', 'дырявую', 'погоду', 'влажным', 'западным', 'ветром', 'фиолетовой', 'ржавчиной', 'анютиных', 'глазок', 'скверах', 'отправились', 'пятьдесят', 'седьмом', 'номере', 'трамвая', 'груневальд', 'глухом', 'месте', 'леса', 'другим', 'застрелиться', 'стояли', 'задней', 'площадке', 'трое', 'макинтошах', 'бледными', 'распухшими', 'лицами', 'яшу', 'странно', 'опрощала', 'старая', 'кепка', 'большим', 'козырьком', 'которой', 'года', 'четыре', 'носил', 'сегодня', 'надел', 'рудольф', 'шапки', 'ветер', 'трепал', 'светлые', 'откинутые', 'висков', 'волосы', 'оля', 'опершись', 'спиной', 'задний', 'борт', 'держась', 'черную', 'штангу', 'белой', 'крепкой', 'рукой', 'большим', 'перстнем', 'указательном', 'пальце', 'глядела', 'прищуренными', 'глазами', 'пробегавшие', 'улицы', 'всј', 'наступала', 'нечаянно', 'рычажок', 'нежного', 'звоночка', 'полу', 'предназначенного', 'каменной', 'ножище', 'вагоновожатого', 'зад', 'вагона', 'становится', 'передом', 'группу', 'увидел', 'изнутри', 'сквозь', 'дверцу', 'юлий', 'филиппович', 'познер', 'бывший', 'репетитор', 'яшиного', 'двоюродного', 'брата', 'быстро', 'высунувшись', 'это', 'напористый', 'уверенный', 'господин', 'поманил', 'яшу', 'узнав', 'вошел', 'нему', 'очень', 'удачно', 'встретил', 'сказал', 'познер', 'обстоятельно', 'пояснив', 'едет', 'пятилетней', 'дочкой', 'сидевшей', 'отдельно', 'окна', 'прижимавшей', 'мягкий', 'резина', 'нос', 'стеклу', 'проведать', 'жену', 'родильном', 'приюте', 'вынул', 'бумажник', 'бумажника', 'визитную', 'карточку', 'воспользовавшись', 'невольной', 'остановкой', 'вагона', 'соскочил', 'повороте', 'контактный', 'шест', 'вечным', 'пером', 'вычеркнул', 'старый', 'адрес', 'надписал', 'новый', 'сие', 'сказал', 'передайте', 'вашему', 'кузену', 'вернется', 'базеля', 'напомните', 'пожалуйста', 'осталось', 'несколько', 'моих', 'книг', 'которые', 'нужны', 'очень', 'нужны', 'трамвай', 'летел', 'гогенцоллерндам', 'оля', 'рудольф', 'всј', 'строго', 'молча', 'стояли', 'ветру', 'загадочным', 'образом', 'изменилось', 'яша', 'оставил', 'вдвоем', 'минуту', 'познер', 'дочкой', 'очень', 'скоро', 'сошел', 'союз', 'нарушился', 'началось', 'яшино', 'отделение', 'вернулся', 'площадку', 'зная', 'знали', 'причем', 'незаметная', 'трещина', 'неудержимо', 'закону', 'трещин', 'продолжала', 'ползти', 'шириться', 'пустом', 'весеннем', 'лесу', 'мокрые', 'коричневые', 'березы', 'особенно', 'которые', 'поменьше', 'стояли', 'безучастные', 'обращенные', 'всем', 'вниманием', 'внутрь', 'невдалеке', 'сизого', 'озера', 'всем', 'громадном', 'побережьи', 'которого', 'никого', 'кроме', 'маленького', 'человека', 'закидывавшего', 'просьбе', 'пса', 'палку', 'воду', 'труда', 'нашли', 'удобную', 'глушь', 'тотчас', 'приступили', 'делу', 'вернее', 'приступил', 'яша', 'нем', 'жила', 'та', 'честность', 'духа', 'которая', 'придает', 'самому', 'безрассудному', 'поступку', 'будничную', 'простоту', 'сказав', 'застрелится', 'первым', 'праву', 'старшинства', 'год', 'рудольфа', 'месяц', 'оли', 'пустой', 'ссылкой', 'сделал', 'излишним', 'удар', 'грубого', 'жребия', 'который', 'всј', 'равно', 'слепоте', 'своей', 'пал', 'вероятно', 'скинув', 'макинтош', 'простившись', 'друзьями', 'естественно', 'виду', 'одинаковости', 'маршрута', 'безмолвно', 'неловкой', 'торопливостью', 'спустился', 'сосен', 'скользкому', 'скату', 'буерак', 'густо', 'поросший', 'дубком', 'терновыми', 'кустами', 'которые', 'несмотря', 'апрельскую', 'прозрачность', 'совершенно', 'скрыли', 'оставшихся', 'те', 'двое', 'долго', 'ждали', 'выстрела', 'папирос', 'рудольф', 'догадался', 'ощупать', 'карман', 'яшиного', 'макинтоша', 'оказалась', 'нераспечатанная', 'коробочка', 'небо', 'заволокло', 'сосны', 'осторожно', 'шумели', 'снизу', 'казалось', 'слепые', 'ветви', 'стараются', 'нашарить', 'высоко', 'вытянув', 'длинные', 'шеи', 'пролетели', 'две', 'диких', 'утки', 'одна', 'отстав', 'впоследствии', 'яшина', 'мать', 'показывала', 'визитную', 'карточку', 'dipl', 'ing', 'julius', 'posner', 'обороте', 'которой', 'яша', 'карандашом', 'написал', 'мамочка', 'папочка', 'жив', 'очень', 'страшно', 'простите', 'рудольф', 'выдержал', 'спустился', 'туда', 'посмотреть', 'яша', 'сидел', 'коряге', 'среди', 'прошлогодних', 'неотвеченных', 'листьев', 'обернулся', 'сказал', 'готов', 'спине', 'напряженное', 'словно', 'превозмогал', 'сильную', 'боль', 'рудольф', 'вернулся', 'оле', 'успел', 'добраться', 'оба', 'ясно', 'услышали', 'сухой', 'хлопок', 'выстрела', 'комнате', 'яши', 'несколько', 'часов', 'держалась', 'бывало', 'жизнь', 'бананная', 'выползина', 'тарелке', 'кипарисовый', 'ларец', 'тяжелая', 'лира', 'стуле', 'около', 'кровати', 'пингпонговая', 'лопатка', 'кушетке', 'убит', 'наповал', 'однако', 'оживить', 'рудольф', 'оля', 'протащили', 'сквозь', 'кусты', 'тростникам', 'отчаянно', 'кропили', 'терли', 'весь', 'измазан', 'землею', 'кровью', 'илом', 'полиция', 'нашла', 'труп', 'затем', 'стали', 'звать', 'никто', 'откликнулся', 'архитектор', 'фердинанд', 'штокшмайсер', 'давно', 'ушел', 'своим', 'мокрым', 'сеттером', 'вернулись', 'тому', 'месту', 'ждали', 'выстрела', 'история', 'начинает', 'смеркаться', 'ясно', 'рудольфа', 'открылась', 'земная', 'вакансия', 'просто', 'трус', 'пропала', 'всякая', 'охота', 'стреляться', 'оля', 'упорствовала', 'своем', 'намерении', 'всј', 'равно', 'сделать', 'могла', 'немедленно', 'револьвер', 'спрятал', 'лесу', 'холодно', 'темно', 'моросил', 'шелестя', 'слепой', 'дождь', 'оставались', 'долго', 'бессмысленно', 'позднего', 'часа', 'молва', 'утверждала', 'началась', 'ними', 'связь', 'это', 'чересчур', 'плоско', 'около', 'полуночи', 'углу', 'улицы', 'лирическим', 'названием', 'сиреневой', 'вахмистр', 'недоверчиво', 'выслушал', 'ужасный', 'бойкий', 'рассказ', 'такое', 'истерическое', 'состояние', 'которое', 'принимает', 'вид', 'ребячливой', 'развязности', 'б', 'александра', 'яковлевна', 'непосредственно', 'случившегося', 'свиделась', 'олей', 'вышел', 'обеих', 'сентиментальный', 'толк', 'несчастью', 'это', 'случилось', 'несколькими', 'месяцами', 'позже', 'оля', 'отсутствовала', 'горе', 'александры', 'яковлевны', 'сразу', 'приняло', 'ту', 'деятельную', 'восторженную', 'форму', 'какую', 'застал', 'федор', 'константинович', 'оле', 'некотором', 'смысле', 'повезло', 'помолвка', 'сводного', 'брата', 'дом', 'полон', 'гостей', 'предупреждения', 'тяжелой', 'траурной', 'вуалью', 'лучшей', 'частью', 'своего', 'скорбного', 'архива', 'фотографиями', 'письмами', 'сумке', 'вся', 'готовая', 'блаженству', 'обоюдных', 'рыданий', 'явилась', 'чернышевская', 'вышла', 'хмуро', 'вежливая', 'хмуро', 'нетерпеливая', 'барышня', 'полупрозрачном', 'платье', 'кровавыми', 'губами', 'толстым', 'белым', 'носом', 'рядом', 'боковой', 'комнаткой', 'ввела', 'гостью', 'подвывал', 'граммофон', 'никакого', 'разговора', 'получилось', 'долго', 'посмотрела', 'рассказывала', 'чернышевская', 'тщательно', 'отрезала', 'многих', 'маленьких', 'снимках', 'олю', 'рудольфа', 'хотя', 'посетил', 'сразу', 'валялся', 'ногах', 'головой', 'бился', 'мягкий', 'угол', 'кушетки', 'ушел', 'своей', 'чудной', 'легкой', 'походкой', 'синему', 'весеннего', 'ливня', 'курфюрстендам', 'болезненнее', 'смерть', 'яши', 'отразилась', 'отце', 'целое', 'лето', 'пришлось', 'провести', 'лечебнице', 'выздоровел', 'загородка', 'отделявшая', 'комнатную', 'температуру', 'рассудка', 'безбрежно', 'безобразного', 'студеного', 'призрачного', 'мира', 'перешел', 'яша', 'рассыпалась', 'восстановить', 'невозможно', 'приходилось', 'пробоину', 'занавешивать', 'стараться', 'шевелившиеся', 'складки', 'смотреть', 'отныне', 'жизнь', 'пропускала', 'неземное', 'ничем', 'разрешалось', 'это', 'постоянное', 'общение', 'яшиной', 'душой', 'котором', 'рассказал', 'жене', 'напрасной', 'надежде', 'этим', 'обезвредить', 'питающееся', 'тайной', 'привидение', 'тайна', 'наросла', 'вероятно', 'вскоре', 'снова', 'пришлось', 'обратиться', 'скучной', 'сугубо', 'бренной', 'помощи', 'врачей', 'таким', 'образом', 'наполовину', 'жил', 'нашем', 'мире', 'жаднее', 'отчаяннее', 'цеплялся', 'слушая', 'щелкающую', 'речь', 'глядя', 'аккуратные', 'черты', 'трудно', 'представить', 'внежизненный', 'опыт', 'здорового', 'виду', 'кругленького', 'лысого', 'волосиками', 'бокам', 'человека', 'страннее', 'судорога', 'искажавшая', 'время', 'времени', 'неделям', 'снимал', 'правой', 'руки', 'серой', 'фильдекосовой', 'перчатки', 'страдал', 'экземой', 'страшновато', 'намекало', 'тайну', 'словно', 'гнушаясь', 'нечистого', 'прикосновения', 'жизни', 'опаленный', 'жизнью', 'берег', 'голое', 'рукопожатие', 'нечеловеческих', 'едва', 'вообразимых', 'свиданий', 'меж', 'ничто', 'остановилось', 'яшиной', 'смерти', 'происходило', 'интересного', 'россии', 'наблюдалось', 'распространение', 'абортов', 'возрождение', 'дачников', 'англии', 'забастовки', 'скончался', 'ленин', 'умерли', 'дузе', 'пуччини', 'франс', 'вершине', 'эвереста', 'погибли', 'ирвинг', 'маллори', 'старик', 'долгорукий', 'кожаных', 'лаптях', 'ходил', 'россию', 'смотреть', 'белую', 'гречу', 'берлине', 'появились', 'вскоре', 'исчезнуть', 'наемные', 'циклонетки', 'первый', 'дирижабль', 'медленно', 'перешагнул', 'океан', 'писалось', 'куэ', 'тутанкамоне', 'воскресенье', 'молодой', 'берлинский', 'купец', 'своим', 'приятелем', 'слесарем', 'предпринял', 'загородную', 'прогулку', 'большой', 'крепкой', 'кровью', 'пахнувшей', 'телеге', 'взятой', 'напрокат', 'плюшевых', 'креслах', 'поставленных', 'сидели', 'две', 'толстых', 'горничных', 'двое', 'малых', 'детей', 'купца', 'горничные', 'пели', 'дети', 'плакали', 'купец', 'приятелем', 'дули', 'пиво', 'гнали', 'лошадей', 'погода', 'стояла', 'чудная', 'радостях', 'нарочно', 'наехали', 'ловко', 'затравленного', 'велосипедиста', 'сильно', 'избили', 'канаве', 'искромсали', 'папку', 'художник', 'покатили', 'дальше', 'очень', 'веселые', 'придя', 'художник', 'догнал', 'трактирном', 'саду', 'полицейских', 'попытавшихся', 'установить', 'личность', 'избили', 'очень', 'веселые', 'покатили', 'шоссе', 'дальше', 'увидев', 'настигают', 'полицейские', 'мотоциклетки', 'стали', 'палить', 'револьверов', 'завязавшейся', 'перестрелке', 'убит', 'трехлетний', 'мальчик', 'немецкого', 'послушайте', 'переменить', 'разговор', 'тихо', 'сказала', 'чернышевская', 'этих', 'штук', 'боюсь', 'верно', 'новые', 'стихи', 'правда', 'федор', 'константинович', 'прочтет', 'стихи', 'закричала', 'васильев', 'полулежа', 'одной', 'руке', 'держа', 'монументальный', 'мундштук', 'безникотиновой', 'папиросой', 'рассеянно', 'теребя', 'куклу', 'производившую', 'эмоциональные', 'эволюции', 'колене', 'продолжал', 'полминуты', 'рассказывать', 'вчера', 'разбиралась', 'суде', 'эта', 'веселая', 'история', 'собой', 'помню', 'несколько', 'повторил', 'федор', 'константинович', 'чернышевский', 'быстро', 'нему', 'обернулся', 'положил', 'рукав', 'маленькую', 'волосатую', 'руку', 'чувствую', 'всј', 'дуетесь', 'честное', 'слово', 'сообразил', 'это', 'жестоко', 'скверный', 'вид', 'слышно', 'объяснили', 'толком', 'почему', 'переехали', 'объяснил', 'пансионе', 'прожил', 'полтора', 'года', 'поселились', 'знакомые', 'очень', 'милые', 'бескорыстно', 'навязчивые', 'люди', 'которые', 'заглядывали', 'поболтать', 'комната', 'оказалась', 'рядом', 'вскоре', 'федор', 'константинович', 'почувствовал', 'ними', 'стена', 'рассыпалась', 'беззащитен', 'яшиному', 'отцу', 'никакой', 'переезд', 'помог', 'посвистывая', 'согнув', 'слегка', 'спину', 'громадный', 'васильев', 'рассматривал', 'корешки', 'книг', 'полках', 'вынул', 'одну', 'раскрыв', 'перестал', 'свистать', 'зато', 'шумно', 'дыша', 'начал', 'читать', 'первую', 'страницу', 'место', 'диване', 'заняла', 'любовь', 'марковна', 'сумкой', 'обнажив', 'усталые', 'глаза', 'обмякла', 'приглаживала', 'неизбалованной', 'рукой', 'тамарин', 'золотой', 'затылок', 'резко', 'сказал', 'васильев', 'захлопнув', 'книгу', 'вдавив', 'первую', 'попавшуюся', 'щель', 'всј', 'свете', 'кончается', 'товарищи', 'лично', 'нужно', 'завтра', 'вставать', 'семь', 'инженер', 'керн', 'посмотрел', 'кисть', 'ах', 'посидите', 'проговорила', 'чернышевская', 'просительно', 'сияя', 'синевой', 'глаз', 'обратившись', 'инженеру', 'вставшему', 'зашедшему', 'свой', 'стул', 'убравшему', 'вершок', 'сторону', 'иной', 'напившись', 'перевернул', 'блюдце', 'стакан', 'заговорила', 'докладе', 'который', 'согласился', 'прочитать', 'следующую', 'субботу', 'доклад', 'назывался', 'блок', 'войне', 'повестках', 'ошибке', 'написала', 'блок', 'война', 'говорила', 'александра', 'яковлевна', 'это', 'играет', 'значения', 'напротив', 'очень', 'играет', 'улыбкой', 'тонких', 'губах', 'убийством', 'увеличительными', 'стеклами', 'отвечал', 'инженер', 'разнимая', 'сцепленных', 'животе', 'рук', 'блок', 'войне', 'выражает', 'нужно', 'персональность', 'собственных', 'наблюдений', 'докладчика', 'блок', 'война', 'это', 'извините', 'философия', 'стали', 'понемногу', 'бледнеть', 'зыблиться', 'непроизвольным', 'волнением', 'тумана', 'исчезать', 'очертания', 'извиваясь', 'восьмерками', 'пропадали', 'воздухе', 'поблескивали', 'сям', 'освещенные', 'точки', 'приветливая', 'искра', 'глазу', 'блик', 'браслете', 'мгновение', 'вернулся', 'напряженно', 'сморщенный', 'лоб', 'васильева', 'пожимающего', 'тающую', 'руку', 'напоследок', 'проплыла', 'фисташковая', 'солома', 'шелковых', 'розочках', 'шляпа', 'любовь', 'марковны', 'исчезло', 'всј', 'полную', 'дыма', 'гостиную', 'всякого', 'шума', 'ночных', 'туфлях', 'вошел', 'яша', 'думая', 'отец', 'спальне', 'волшебным', 'звоном', 'свете', 'красных', 'фонарей', 'невидимки', 'чинили', 'черную', 'мостовую', 'углу', 'площади', 'федор', 'константинович', 'которого', 'трамвай', 'шел', 'пешком', 'забыл', 'занять', 'чернышевских', 'те', 'марки', 'которыми', 'дотянул', 'следующей', 'получки', 'сама', 'мысль', 'беспокоила', 'сочеталась', 'укрепляя', 'горечь', 'сочетания', 'отвратительным', 'разочарованием', 'слишком', 'ярко', 'вообразил', 'успех', 'своей', 'книги', 'холодной', 'течью', 'левом', 'башмаке', 'боязнью', 'предстоящей', 'ночи', 'новом', 'месте', 'томила', 'усталость', 'недовольство', 'собой', 'потерял', 'зря', 'нежное', 'начало', 'ночи', 'томило', 'чувство', 'додумал', 'день', 'додумает', 'шел', 'улицам', 'которые', 'давно', 'успели', 'втереться', 'знакомство', 'мало', 'рассчитывали', 'любовь', 'наперед', 'купили', 'грядущем', 'воспоминании', 'место', 'рядом', 'петербургом', 'смежную', 'могилку', 'шел', 'этим', 'улицам', 'погасшие', 'дома', 'уходили', 'глядя', 'пятясь', 'боком', 'бурое', 'небо', 'берлинской', 'ночи', 'сям', 'топкие', 'места', 'тающие', 'взглядом', 'который', 'таким', 'образом', 'выручал', 'несколько', 'звезд', 'сквер', 'ужинали', 'высокая', 'кирпичная', 'кирка', 'прозрачный', 'тополь', 'похожий', 'нервную', 'систему', 'великана', 'общественная', 'уборная', 'похожая', 'пряничный', 'домик', 'мраке', 'сквера', 'едва', 'задетого', 'веером', 'уличного', 'света', 'красавица', 'которая', 'лет', 'восемь', 'всј', 'отказывалась', 'воплотиться', 'снова', 'настолько', 'жива', 'память', 'первой', 'любви', 'сидела', 'пепельной', 'скамейке', 'прошел', 'вблизи', 'увидел', 'это', 'сидит', 'тень', 'ствола', 'свернул', 'улицу', 'погрузился', 'холодную', 'воду', 'хотелось', 'такую', 'тоску', 'обещала', 'та', 'комната', 'недоброжелательный', 'шкал', 'кушетка', 'отыскав', 'свой', 'подъезд', 'видоизмененный', 'темнотой', 'достал', 'ключи', 'двери', 'отпер', 'такое', 'сердито', 'пробормотал', 'глядя', 'бородку', 'снова', 'стервенея', 'принялся', 'совать', 'чорт', 'воскликнул', 'отступил', 'задрать', 'голову', 'посмотреть', 'номер', 'дома', 'правильно', 'нагнулся', 'замку', 'осенило', 'это', 'ключи', 'пансионские', 'которые', 'сегодняшнем', 'переезде', 'собой', 'нечаянно', 'макинтоше', 'увез', 'новые', 'остались', 'должно', 'комнате', 'которую', 'хотелось', 'попасть', 'гораздо', 'сильнее', 'те', 'годы', 'берлинские', 'швейцары', 'преимуществу', 'зажиточные', 'жирными', 'женами', 'грубияны', 'принадлежавшие', 'мещанских', 'соображений', 'коммунистической', 'партии', 'русские', 'жильцы', 'ними', 'робели', 'привыкши', 'подвластности', 'всюду', 'назначаем', 'тень', 'надзора', 'федор', 'константинович', 'вполне', 'понимал', 'глупо', 'бояться', 'старого', 'дурака', 'кадыком', 'разбудить', 'полночь', 'вызвать', 'исполинской', 'перины', 'сделать', 'это', 'движение', 'нажать', 'кнопку', 'хотя', 'весьма', 'вероятно', 'откликнулся', 'никто', 'сколько', 'жми', 'никак', 'решался', 'гривенника', 'которого', 'немыслимо', 'пройти', 'мимо', 'ладони', 'уровне', 'бедра', 'раскрытой', 'мрачным', 'ковшом', 'несомневающейся', 'дани', 'штука', 'штука', 'шептал', 'отходя', 'чувствуя', 'сзади', 'затылка', 'пят', 'наваливается', 'бремя', 'бессонной', 'ночи', 'железный', 'двойник', 'которого', 'нести', 'это', 'глупо', 'сказал', 'произнося', 'глупо', 'французским', 'l', 'это', 'делывал', 'рассеянно', 'отец', 'бывал', 'озадачен', 'зная', 'предпринять', 'ждать', 'впустит', 'пойти', 'розыски', 'ночного', 'сторожа', 'черном', 'плаще', 'который', 'блюдет', 'замки', 'некоторых', 'улицах', 'заставить', 'звонком', 'взорвать', 'дом', 'федор', 'константинович', 'начал', 'шагать', 'панели', 'угла', 'обратно', 'улица', 'отзывчива', 'совершенно', 'пуста', 'высоко', 'поперечных', 'проволоках', 'висело', 'фонарю', 'ближайшим', 'колебался', 'ветра', 'призрачный', 'круг', 'сыром', 'асфальте', 'это', 'колебание', 'которое', 'имело', 'ровно', 'никакого', 'отношения', 'федору', 'константиновичу', 'однако', 'звенящим', 'тамбуринным', 'звуком', 'столкнуло', 'края', 'души', 'это', 'покоилось', 'прежним', 'отдаленным', 'призывом', 'полным', 'близким', 'рокотом', 'прокатилось', 'благодарю', 'отчизна', 'тотчас', 'обратной', 'волной', 'злую', 'даль', 'благодарю', 'снова', 'полетело', 'ответом', 'тобой', 'признан', 'собою', 'говорил', 'шагая', 'несуществующей', 'панели', 'ногами', 'управляло', 'местное', 'сознание', 'главный', 'сущности', 'единственно', 'важный', 'федор', 'константинович', 'заглядывал', 'вторую', 'качавшуюся', 'несколько', 'саженей', 'строфу', 'которая', 'должна', 'разрешиться', 'неизвестной', 'вместе', 'точности', 'обещанной', 'гармонией', 'благодарю', 'начал', 'вслух', 'набирая', 'новый', 'разгон', 'панель', 'ногами', 'окаменела', 'кругом', 'заговорили', 'сразу', 'кинулся', 'мигом', 'отрезвясь', 'двери', 'своего', 'дома', 'ибо', 'нею', 'свет', 'скуластая', 'немолодая', 'дама', 'накинутом', 'сползавшем', 'плеча', 'каракулевом', 'жакете', 'выпуская', 'задержалась', 'вместе', 'выпускаемым', 'дверях', 'забудьте', 'золотце', 'просила', 'вялым', 'житейским', 'голосом', 'подоспел', 'осклабясь', 'федор', 'константинович', 'тотчас', 'узнавший', 'нынче', 'утром', 'встречала', 'мужем', 'мебель', 'выпускаемого', 'узнал', 'это', 'молодой', 'живописец', 'романов', 'раза', 'сталкивался', 'редакции', 'удивленным', 'выражением', 'изящном', 'лице', 'эллинскую', 'чистоту', 'коего', 'бесповоротно', 'портили', 'темные', 'кривые', 'зубы', 'поздоровался', 'федором', 'константиновичем', 'который', 'затем', 'неловко', 'поклонившись', 'даме', 'державшей', 'самое', 'ключицы', 'огромными', 'шагами', 'кинулся', 'вверх', 'лестнице', 'отвратительно', 'споткнулся', 'загибе', 'дальше', 'полез', 'трогая', 'перила', 'заспанная', 'халате', 'стобой', 'страшна', 'это', 'продолжалось', 'долго', 'комнате', 'трудом', 'нащупал', 'свет', 'столе', 'блестели', 'ключи', 'белелась', 'книга', 'кончилась', 'подумал', 'недавно', 'раздаривал', 'знакомым', 'экземпляры', 'строгим', 'приветом', 'искренний', 'суд', 'стыдно', 'вспомнить', 'надписи', 'последние', 'дни', 'жил', 'счастьем', 'книги', 'особенного', 'произошло', 'нынешний', 'обман', 'исключал', 'завтрашней', 'послезавтрашней', 'награды', 'каким', 'образом', 'пресытился', 'мечтой', 'книга', 'лежала', 'столе', 'вся', 'заключенная', 'собою', 'ограниченная', 'законченная', 'изливалась', 'могучими', 'радостными', 'лучами', 'прежде', 'лег', 'постель', 'начали', 'мысли', 'укладываться', 'ночь', 'сердце', 'погружатья', 'снег', 'сна', 'испытывал', 'перебои', 'засыпая', 'федор', 'константинович', 'рискнул', 'повторить', 'недосочиненные', 'стихи', 'просто', 'порадоваться', 'сонной', 'разлукой', 'слаб', 'дергались', 'жадной', 'жизнью', 'минуту', 'завладели', 'мурашками', 'побежали', 'коже', 'заполнили', 'голову', 'божественным', 'жужжанием', 'зажег', 'свет', 'закурил', 'лежа', 'навзничь', 'натянув', 'подбородка', 'простыню', 'ступни', 'выпростав', 'сократ', 'антокольского', 'предался', 'всем', 'требованиям', 'вдохновения', 'это', 'разговор', 'тысячью', 'собеседников', 'которых', 'лишь', 'настоящий', 'настоящего', 'ловить', 'упускать', 'слуха', 'трудно', 'разговоре', 'татой', 'ночи', 'сама', 'душа', 'нетататот', 'безу', 'безумие', 'безочит', 'тому', 'тамузыка', 'татот', 'спустя', 'часа', 'опасного', 'жизни', 'воодушевления', 'вслушивания', 'выяснил', 'всј', 'последнего', 'слова', 'завтра', 'записать', 'прощание', 'попробовал', 'вполголоса', 'хорошие', 'теплые', 'парные', 'стихи', 'благодарю', 'отчизна', 'злую', 'даль', 'благодарю', 'тобою', 'полн', 'тобой', 'признан', 'собою', 'говорю', 'разговоре', 'каждой', 'ночи', 'сама', 'душа', 'разберет', 'безумие', 'бормочет', 'музыка', 'растет', 'поняв', 'смысл', 'интересом', 'проследил', 'одобрил', 'изнеможенный', 'счастливый', 'ледяными', 'пятками', 'веря', 'благо', 'важность', 'совершенного', 'встал', 'потушить', 'свет', 'рваной', 'рубашке', 'открытой', 'худой', 'грудью', 'длинными', 'мохнатыми', 'бирюзовых', 'жилах', 'ногами', 'помешкал', 'зеркала', 'всј', 'серьезным', 'любопытством', 'рассматривая', 'несовсем', 'узнавая', 'широкие', 'брови', 'лоб', 'мыском', 'коротко', 'остриженных', 'волос', 'левом', 'глазу', 'лопнул', 'сосудец', 'скользнувший', 'угла', 'рудой', 'отлив', 'придавал', 'цыганское', 'темному', 'блеску', 'зрачка', 'господи', 'ночные', 'часы', 'обросли', 'впалые', 'щеки', 'словно', 'влажный', 'жар', 'стихотворчества', 'поощрял', 'рост', 'волос', 'повернул', 'выключатель', 'комнате', 'нечему', 'сгуститься', 'встречающие', 'дымном', 'дебаркадере', 'стояли', 'бледные', 'озябшие', 'предметы', 'долго', 'мог', 'уснуть', 'оставшаяся', 'шелуха', 'слов', 'засоряла', 'мучила', 'мозг', 'колола', 'висках', 'никак', 'избавиться', 'временем', 'комната', 'просветлела', 'должно', 'плюще', 'шалые', 'воробьи', 'вместе', 'вперебивку', 'одури', 'звонко', 'большая', 'перемена', 'маленьких', 'началось', 'жительство', 'новом', 'углу', 'хозяйка', 'могла', 'привыкнуть', 'тому', 'спит', 'часу', 'дня', 'неизвестно', 'обедает', 'ужинает', 'промасленных', 'бумажках', 'сборничке', 'никто', 'написал', 'полагал', 'это', 'само', 'собою', 'сделается', 'потрудился', 'разослать', 'редакциям', 'считать', 'краткой', 'заметки', 'экономического', 'сотрудника', 'васильевской', 'газеты', 'высказывался', 'оптимистический', 'взгляд', 'литературную', 'будущность', 'приводилась', 'одна', 'строф', 'бельмом', 'опечатки', 'танненбергскую', 'улицу', 'узнал', 'ближе', 'выдала', 'свои', 'лучшие', 'тайны', 'следующем', 'доме', 'внизу', 'жил', 'старичек', 'сапожник', 'фамилии', 'канариенфогель', 'действительно', 'стояла', 'клетка', 'палевой', 'пленницы', 'окне', 'среди', 'образцов', 'починенной', 'обуви', 'башмаки', 'федора', 'константиновича', 'посмотрев', 'поверх', 'железных', 'очков', 'своего', 'цеха', 'чинить', 'отказался', 'пришлось', 'подумать', 'купить', 'новые', 'узнал', 'фамилию', 'верхних', 'жильцов', 'ошибке', 'взлетев', 'однажды', 'верхнюю', 'площадку', 'прочел', 'дощечке', 'carl', 'lorentz', 'geschichtsmaler', 'встреченный', 'углу', 'романов', 'который', 'снимал', 'пополам', 'гешихтсмалером', 'мастерскую', 'части', 'города', 'рассказал', 'нем', 'труженик', 'мизантроп', 'консерватор', 'жизнь', 'писавший', 'парады', 'битвы', 'призрак', 'звездой', 'лентой', 'садах', 'безмундирной', 'республике', 'обедневший', 'помрачневший', 'конец', 'пользовался', 'войны', 'почетной', 'известностью', 'ездил', 'россию', 'писать', 'встречу', 'кайзера', 'царем', 'проводя', 'зиму', 'петербурге', 'познакомился', 'молодой', 'обаятельной', 'рисующей', 'пишущей', 'музыцирующей', 'маргаритой', 'львовной', 'союз', 'русским', 'художником', 'заключен', 'случайно', 'объявлению', 'газете', 'романов', 'другого', 'пошиба', 'лоренц', 'угрюмо', 'привязался', 'нему', 'первой', 'выставки', 'это', 'время', 'портрета', 'графини', 'абсолютно', 'голая', 'графиня', 'отпечатками', 'корсета', 'животе', 'стояла', 'держа', 'руках', 'самое', 'уменьшенную', 'втрое', 'считал', 'сумасшедшим', 'мошенником', 'многих', 'обольстил', 'резкий', 'своеобразный', 'дар', 'предсказывали', 'успехи', 'необыкновенные', 'видел', 'нем', 'зачинателя', 'школы', 'пройдя', 'искусы', 'модернизма', 'выражались', 'пришел', 'обновленной', 'интересной', 'холодноватой', 'фабульности', 'сквозила', 'некоторая', 'карикатурность', 'ранних', 'вещах', 'coi', 'ncidence', 'например', 'рекламном', 'столбе', 'ярких', 'удивительно', 'собой', 'согласованных', 'красках', 'афиш', 'прочесть', 'среди', 'астральных', 'названий', 'кинематографов', 'прочей', 'прозрачной', 'пестроты', 'объявление', 'пропаже', 'вознаграждением', 'нашедшему', 'алмазного', 'ожерелья', 'которое', 'панели', 'самого', 'подножья', 'столба', 'лежало', 'сверкая', 'невинным', 'огнем', 'зато', 'осени', 'сваленная', 'канаву', 'среди', 'великолепных', 'кленовых', 'листьев', 'черная', 'портняжная', 'болванка', 'прорванным', 'боком', 'выразительность', 'чистого', 'качества', 'знатоки', 'находили', 'бездну', 'грусти', 'лучшей', 'вещью', 'сих', 'пор', 'оставалась', 'приобретенная', 'разборчивым', 'богачом', 'многократно', 'воспроизводившаяся', 'четверо', 'горожан', 'ловящих', 'канарейку', 'четверо', 'черном', 'плечистые', 'котелках', 'босой', 'расставленные', 'позах', 'необыкновенно', 'солнечной', 'зеленью', 'прямоугольно', 'остриженной', 'липы', 'которой', 'скрывалась', 'птица', 'улетевшая', 'клетки', 'моего', 'сапожника', 'неопределенно', 'волновала', 'эта', 'странная', 'прекрасная', 'ядовитая', 'живопись', 'чувствовал', 'некое', 'предупреждение', 'обоих', 'смыслах', 'слова', 'далеко', 'опередив', 'мое', 'собственное', 'искусство', 'оно', 'освещало', 'опасности', 'пути', 'художник', 'противности', 'скучен', 'невозможное', 'чрезвычайно', 'поспешной', 'чрезвычайно', 'шепелявой', 'речи', 'сопровождавшейся', 'никак', 'нею', 'связанным', 'машинальным', 'маячением', 'лучистых', 'глаз', 'послушайте', 'сказал', 'плюнув', 'подбородок', 'давайте', 'познакомлю', 'маргаритой', 'львовной', 'заказала', 'привести', 'приходите', 'устраиваем', 'такие', 'знаете', 'вечеринки', 'мастерской', 'музыкой', 'бутербродами', 'красными', 'абажурчиками', 'бывает', 'молодежи', 'полонская', 'братья', 'шидловские', 'зина', 'мери', 'имена', 'неведомы', 'желания', 'проводить', 'вечера', 'обществе', 'всеволода', 'романова', 'испытывал', 'никакого', 'плосколицая', 'жена', 'лоренца', 'занимала', 'никак', 'принял', 'приглашения', 'тех', 'пор', 'стал', 'художника', 'избегать', 'двора', 'утрам', 'раздавалось', 'тонко', 'prima', 'kartoffel', 'трепещет', 'сердце', 'молодого', 'овоща', 'замогильный', 'бас', 'возглашал', 'blumen', 'erde', 'стук', 'выколачиваемых', 'ковров', 'вмешивалась', 'шарманка', 'коричневая', 'бедных', 'тележковых', 'колесах', 'круглым', 'рисунком', 'стенке', 'изображавшим', 'идиллический', 'ручей', 'вращая', 'правой', 'левой', 'рукой', 'зоркий', 'шарманщик', 'выкачивал', 'густое', 'o', 'sole', 'mio', 'оно', 'приглашало', 'сквер', 'каштановое', 'деревцо', 'подпертое', 'колом', 'ибо', 'младенец', 'умеет', 'ходит', 'оно', 'умело', 'расти', 'помощи', 'выступило', 'цветком', 'самого', 'сирень', 'долго', 'распускалась', 'решилась', 'одну', 'ночь', 'немало', 'окурков', 'оставившую', 'скамейками', 'рыхлой', 'роскошью', 'окружила', 'сад', 'тихой', 'улочке', 'церковью', 'пасмурный', 'июньский', 'день', 'осыпались', 'акации', 'темный', 'асфальт', 'вдоль', 'панели', 'казался', 'запачканным', 'манной', 'каше', 'клумбах', 'вокруг', 'статуи', 'бронзового', 'бегуна', 'роза', 'слава', 'голландии', 'высвободила', 'углы', 'красных', 'лепестков', 'последовал', 'генерал', 'арнольд', 'янссен', 'июле', 'веселый', 'безоблачный', 'день', 'состоялся', 'очень', 'удачный', 'муравьиный', 'лет', 'самки', 'взлетали', 'пожирали', 'воробьи', 'взлетая', 'никто', 'мешал', 'долго', 'ползали', 'гравию', 'теряя', 'свои', 'слабые', 'бутафорские', 'крылья', 'дании', 'сообщали', 'вследствие', 'необычайной', 'жары', 'наблюдаются', 'многочисленные', 'случаи', 'помешательства', 'люди', 'срывают', 'одежды', 'бросаются', 'каналы', 'бешеными', 'зигзагами', 'метались', 'самцы', 'непарного', 'шелкопряда', 'липы', 'проделали', 'свои', 'сложные', 'сорные', 'душистые', 'неряшливые', 'метаморфозы', 'федор', 'константинович', 'проводил', 'большую', 'часть', 'дня', 'скамейке', 'сквере', 'пиджака', 'старых', 'парусиновых', 'туфлях', 'босу', 'ногу', 'книгой', 'длинных', 'загорелых', 'пальцах', 'солнце', 'слишком', 'наваливалось', 'закидывал', 'голову', 'горячий', 'край', 'спинки', 'долго', 'жмурился', 'призрачные', 'колеса', 'городского', 'дня', 'вращались', 'сквозь', 'внутреннюю', 'бездонную', 'алость', 'пробегали', 'искры', 'детских', 'голосов', 'книга', 'раскрытая', 'коленях', 'становилась', 'всј', 'тяжелее', 'всј', 'бескнижнее', 'алость', 'темнела', 'наплывом', 'приподняв', 'вспотевший', 'затылок', 'раскрывал', 'глаза', 'видел', 'сад', 'газон', 'маргаритками', 'свеже', 'политый', 'гравий', 'девочку', 'самое', 'собой', 'игравшую', 'классы', 'младенца', 'коляске', 'состоявшего', 'двух', 'глаз', 'розовой', 'трещетки', 'путешествие', 'слепнувшего', 'дышущего', 'лучащегося', 'диска', 'сквозь', 'облако', 'снова', 'всј', 'разгоралось', 'грохотом', 'проезжал', 'вдоль', 'сада', 'пятнистой', 'обсаженной', 'волнующимися', 'деревьями', 'улице', 'угольный', 'грузовик', 'черным', 'угольщиком', 'высоком', 'тряском', 'сиденье', 'державшим', 'зубах', 'стебель', 'лист', 'вечер', 'шел', 'урок', 'дельцу', 'бледными', 'ресницами', 'смотревшему', 'недобрым', 'недоумением', 'тусклом', 'взгляде', 'беспечно', 'читал', 'шекспира', 'гимназистке', 'черном', 'джемпере', 'которую', 'хотелось', 'поцеловать', 'склоненную', 'желтоватую', 'шею', 'развеселому', 'коренастому', 'морскому', 'офицеру', 'который', 'говорил', 'обмозговать', 'готовился', 'дать', 'драпу', 'мексику', 'тайно', 'своей', 'сожительницы', 'шестипудовой', 'страстной', 'скорбной', 'старухи', 'случайно', 'одних', 'розвальнях', 'бежавшей', 'финляндию', 'тех', 'пор', 'вечном', 'отчаянии', 'ревности', 'кормившей', 'кулебяками', 'варенцом', 'грибками', 'кроме', 'бывали', 'прибыльные', 'переводы', 'докладная', 'записка', 'низкой', 'звукопроводности', 'плиточных', 'полов', 'трактат', 'подшипниках', 'небольшой', 'особенно', 'драгоценный', 'доход', 'приносили', 'стихи', 'которые', 'сочинял', 'запоем', 'всј', 'отечественно', 'лирическим', 'подъемом', 'причем', 'одни', 'дотягивали', 'полного', 'воплощения', 'рассеивались', 'оплодотворяя', 'тайную', 'глубину', 'другие', 'конца', 'подчищенные', 'снабженные', 'всеми', 'запятыми', 'увозились', 'редакцию', 'сперва', 'подземным', 'поездом', 'бликами', 'отражений', 'быстро', 'поднимавшихся', 'медным', 'вертикалам', 'затем', 'огромным', 'странно', 'пустым', 'лифтом', 'восьмой', 'этаж', 'конце', 'серого', 'пластелин', 'коридора', 'узкой', 'комнатке', 'пахнувшей', 'разлагавшимся', 'трупом', 'злободневности', 'острил', 'первый', 'комик', 'редакции', 'сидел', 'секретарь', 'лунообразный', 'флегматик', 'возраста', 'словно', 'пола', 'спасавший', 'положение', 'граживали', 'разгромом', 'недовольные', 'той', 'заметкой', 'местные', 'платные', 'якобинцы', 'свой', 'брат', 'шуан', 'здоровенный', 'прохвост', 'мистиков', 'гремел', 'телефон', 'промахивал', 'развеваясь', 'метранпаж', 'театральный', 'рецензент', 'всј', 'читал', 'углу', 'приблудную', 'вильны', 'газетку', 'причитается', 'подобного', 'говорил', 'секретарь', 'комнаты', 'справа', 'раскрывалась', 'дверь', 'слышался', 'сдобно', 'диктующий', 'голос', 'геца', 'покашливание', 'ступишина', 'среди', 'стука', 'нескольких', 'машинок', 'различить', 'мелкую', 'дробь', 'тамары', 'слева', 'находился', 'кабинет', 'васильева', 'люстриновый', 'пиджак', 'натягивался', 'жирных', 'плечах', 'стоя', 'конторкой', 'мощная', 'машина', 'сопя', 'писал', 'своим', 'неопрятным', 'почерком', 'школьными', 'кляксами', 'передовую', 'статью', 'час', 'часу', 'легче', 'положение', 'китае', 'задумавшись', 'звуком', 'железного', 'скребка', 'чесал', 'одним', 'пальцем', 'большую', 'бородатую', 'щеку', 'приподнятую', 'сощуренному', 'глазу', 'которым', 'нависла', 'характерная', 'сих', 'пор', 'россии', 'незабытая', 'черная', 'сединки', 'разбойничья', 'бровь', 'около', 'окна', 'которым', 'высокий', 'многоконторный', 'дом', 'ремонтом', 'шедшим', 'высоко', 'небе', 'казалось', 'заодно', 'починить', 'серую', 'рваным', 'отверстием', 'тучу', 'стояла', 'ваза', 'полутора', 'апельсинами', 'аппетитная', 'крыночка', 'болгарской', 'простокваши', 'книжном', 'шкалу', 'нижнем', 'закрытом', 'отделении', 'хранились', 'запретные', 'сигары', 'большое', 'сердце', 'старый', 'хлам', 'советских', 'журналов', 'книжонки', 'лающими', 'обложками', 'письма', 'просительные', 'напоминательные', 'поносительные', 'выжатая', 'половинка', 'апельсина', 'лист', 'газеты', 'вырезанным', 'европу', 'окном', 'зажимчики', 'карандаши', 'всј', 'это', 'занимало', 'письменный', 'стол', 'этим', 'непоколебимо', 'стоял', 'слепо', 'отражая', 'свет', 'окна', 'фотографический', 'портрет', 'дочки', 'васильева', 'жившей', 'париже', 'молодой', 'женщины', 'очаровательным', 'плечом', 'дымчатыми', 'волосами', 'фильмовой', 'неудачницы', 'которой', 'часто', 'упоминалось', 'газеты', 'наша', 'талантливая', 'соотечественница', 'сильвина', 'хотя', 'никто', 'знал', 'соотечественницы', 'добродушно', 'принимая', 'стихи', 'федора', 'константиновича', 'васильев', 'помещал', 'нравились', 'обыкновенно', 'прочитывал', 'решительно', 'всј', 'равно', 'украшается', 'неполитическая', 'часть', 'газеты', 'выяснив', 'навсегда', 'уровень', 'грамотности', 'ниже', 'которого', 'данный', 'сотрудник', 'спуститься', 'натуре', 'васильев', 'предоставлял', 'полную', 'волю', 'данный', 'уровень', 'едва', 'возвышался', 'нулем', 'стихи', 'будучи', 'мелочью', 'вообще', 'проходили', 'контроля', 'просачиваясь', 'задержалась', 'дрянь', 'веса', 'объема', 'зато', 'стоял', 'счастливый', 'взволнованный', 'писк', 'наших', 'поэтических', 'павлятниках', 'латвии', 'ривьеры', 'появлялся', 'номер', 'мои', 'напечатаны', 'мои', 'федор', 'константинович', 'считавший', 'соперник', 'кончеев', 'газете', 'кстати', 'участвовавший', 'соседями', 'тяготился', 'радовался', 'своим', 'стихам', 'меньше', 'других', 'бывали', 'случаи', 'мог', 'дождаться', 'вечерней', 'почты', 'которой', 'номер', 'приходил', 'покупал', 'полчаса', 'улице', 'бесстыдно', 'едва', 'отойдя', 'киоска', 'ловя', 'красноватый', 'свет', 'около', 'лотков', 'горели', 'горы', 'апельсинов', 'синеве', 'ранних', 'сумерек', 'разворачивал', 'газету', 'бывало', 'находил', 'вытеснило', 'находил', 'собрав', 'удобнее', 'листы', 'тронувшись', 'панели', 'перечитывал', 'свое', 'несколько', 'разные', 'внутренние', 'лады', 'поочередно', 'представляя', 'стихотворение', 'будут', 'читать', 'читают', 'те', 'чье', 'мнение', 'важно', 'физически', 'чувствовал', 'каждом', 'таком', 'перевоплощении', 'меняется', 'цвет', 'глаз', 'цвет', 'заглазный', 'вкус', 'рту', 'самому', 'нравился', 'дежурный', 'шедевр', 'полнее', 'слаще', 'удавалось', 'перечесть', 'других', 'проваландав', 'таким', 'образом', 'лето', 'родив', 'воспитав', 'разлюбив', 'навеки', 'дюжины', 'две', 'стихотворений', 'ясный', 'прохладный', 'день', 'субботу', 'вечером', 'собрание', 'отправился', 'важной', 'покупкой', 'опавшие', 'листья', 'лежали', 'панели', 'плоско', 'коробясь', 'жухло', 'каждым', 'торчал', 'синий', 'уголок', 'тени', 'своей', 'пряничной', 'леденцовыми', 'оконцами', 'хибарки', 'вышла', 'старушка', 'метлой', 'чистом', 'переднике', 'маленьким', 'острым', 'лицом', 'непомерно', 'огромными', 'ступнями', 'осень', 'шел', 'весело', 'всј', 'отлично', 'утро', 'принесло', 'письмо', 'матери', 'собиравшейся', 'рождество', 'посетить', 'сквозь', 'распадавшуюся', 'летнюю', 'обувь', 'необыкновенно', 'живо', 'осязал', 'землю', 'проходил', 'немощеной', 'части', 'вдоль', 'пустынных', 'отзывающих', 'гарью', 'огородных', 'участков', 'домов', 'обращенных', 'срезанной', 'чернотой', 'капитальных', 'стен', 'сквозными', 'беседками', 'виднелась', 'капуста', 'осыпанная', 'стеклярусом', 'крупных', 'капель', 'голубоватые', 'стебли', 'отцветших', 'гвоздик', 'подсолнухи', 'склонившие', 'тяжелые', 'морды', 'давно', 'хотел', 'выразить', 'чувство', 'россии', 'ногах', 'мог', 'пятками', 'ощупать', 'узнать', 'слепой', 'ладонями', 'жалко', 'окончилась', 'полоса', 'жирноватой', 'коричневой', 'земли', 'пришлось', 'шагать', 'звонким', 'тротуарам', 'молодая', 'женщина', 'черном', 'платье', 'блестящим', 'лбом', 'быстрыми', 'рассеянными', 'глазами', 'восьмой', 'села', 'ног', 'боком', 'табуретку', 'проворно', 'вынула', 'шелестнувшей', 'внутренности', 'картонки', 'узкий', 'башмак', 'легким', 'скрипом', 'размяла', 'сильно', 'расправив', 'локти', 'края', 'быстро', 'разобрала', 'завязки', 'взглянув', 'мельком', 'сторону', 'затем', 'достав', 'лона', 'рожок', 'обратилась', 'большой', 'застенчивой', 'плохо', 'заштопанной', 'ноге', 'федора', 'константиновича', 'нога', 'чудом', 'вошла', 'войдя', 'совершенно', 'ослепла', 'шевеление', 'пальцев', 'внутри', 'никак', 'отражалось', 'внешней', 'глади', 'тесной', 'черной', 'кожи', 'продавщица', 'феноменальной', 'скоростью', 'завязала', 'концы', 'шнурка', 'тронула', 'носок', 'башмака', 'двумя', 'пальцами', 'сказала', 'новые', 'немножко', 'продолжала', 'поспешно', 'вскинув', 'карие', 'глаза', 'хотите', 'подложить', 'косок', 'пятку', 'убедитесь', 'сами', 'повела', 'рентгеноскопу', 'показала', 'поставить', 'ногу', 'взглянув', 'оконце', 'вниз', 'увидел', 'светлом', 'фоне', 'свои', 'собственные', 'темные', 'лежавшие', 'суставчики', 'этим', 'ступлю', 'брег', 'парома', 'харона', 'обув', 'левый', 'башмак', 'прогулялся', 'взад', 'вперед', 'ковру', 'косясь', 'щиколодное', 'зеркало', 'отражался', 'похорошевший', 'шаг', 'десять', 'лет', 'постаревшая', 'штанина', 'сказал', 'малодушно', 'детстве', 'царапали', 'крючком', 'блестящую', 'черную', 'подошву', 'скользко', 'унес', 'урок', 'подмышкой', 'вернулся', 'домой', 'поужинал', 'надел', 'опасливо', 'ими', 'любуясь', 'пошел', 'собрание', 'пожалуй', 'мучительного', 'начала', 'собрание', 'происходило', 'небольшой', 'трогательно', 'роскошной', 'квартире', 'родственников', 'любови', 'марковны', 'рыжая', 'зеленом', 'выше', 'колен', 'барышня', 'помогала', 'громким', 'шопотом', 'говорившей', 'эстонской', 'горничной', 'разносить', 'чай', 'среди', 'знакомой', 'толпы', 'новых', 'лиц', 'немного', 'федор', 'константинович', 'тотчас', 'завидел', 'кончеева', 'впервые', 'пришедшего', 'кружок', 'глядя', 'сутулую', 'горбатую', 'фигуру', 'неприятно', 'тихого', 'человека', 'таинственно', 'разраставшийся', 'талант', 'которого', 'дар', 'изоры', 'мог', 'пресечь', 'всј', 'понимающего', 'человека', 'которым', 'довелось', 'потолковать', 'хотелось', 'присутствии', 'которого', 'страдая', 'волнуясь', 'безнадежно', 'скликая', 'собственные', 'помощь', 'стихи', 'чувствовал', 'лишь', 'современником', 'глядя', 'это', 'молодое', 'рязанское', 'едва', 'простоватое', 'лицо', 'сверху', 'ограниченное', 'кудрей', 'снизу', 'крахмальными', 'отворотцами', 'федор', 'константинович', 'сначала', 'приуныл', 'дамы', 'дивана', 'улыбались', 'чернышевский', 'издали', 'кланялся', 'гец', 'знамя', 'поднимал', 'принесенную', 'книжку', 'журнала', 'началом', 'поэмы', 'кончеева', 'статьей', 'христофора', 'мортуса', 'голос', 'мэри', 'современных', 'стихах', 'сзади', 'произнес', 'ответной', 'объясняющей', 'интонацией', 'быстро', 'подумал', 'федор', 'константинович', 'усмехаясь', 'осматриваясь', 'стуча', 'папиросой', 'деревянный', 'орлом', 'портсигар', 'кокнемся', 'посмотрим', 'чье', 'разобьется', 'тамара', 'указывала', 'свободный', 'стул', 'пробираясь', 'туда', 'услышал', 'звон', 'своего', 'имени', 'молодые', 'люди', 'лет', 'любители', 'стихов', 'провожали', 'бывало', 'особенным', 'взглядом', 'который', 'ласточкой', 'скользит', 'зеркальному', 'сердцу', 'поэта', 'ощущал', 'холодок', 'бодрой', 'живительной', 'гордости', 'это', 'предварительный', 'проблеск', 'будущей', 'славы', 'слава', 'другая', 'земная', 'верный', 'отблеск', 'прошедшего', 'менее', 'вниманием', 'ровесников', 'гордился', 'любопытством', 'старых', 'людей', 'видящих', 'нем', 'сына', 'знаменитого', 'землепроходца', 'отважного', 'чудака', 'исследователя', 'фауны', 'тибета', 'памира', 'других', 'синих', 'стран', 'сказала', 'своей', 'росистой', 'улыбкой', 'александра', 'яковлевна', 'познакомьтесь', 'это', 'недавно', 'выбывший', 'москвы', 'некто', 'скворцов', 'приветливый', 'лучиками', 'глаз', 'носом', 'дулей', 'жидкой', 'бородкой', 'чистенькой', 'моложавой', 'певуче', 'говорливой', 'женой', 'шелковой', 'шали', 'словом', 'чета', 'полупрофессорского', 'типа', 'который', 'знаком', 'федору', 'константиновичу', 'воспоминаниям', 'людях', 'мелькавших', 'вокруг', 'отца', 'скворцов', 'любезно', 'складно', 'заговорил', 'поражает', 'полная', 'неосведомленность', 'границей', 'отношении', 'обстоятельствам', 'гибели', 'константина', 'кирилловича', 'думали', 'вставила', 'жена', 'знают', 'это', 'порядке', 'вещей', 'продолжал', 'скворцов', 'страшной', 'ясностью', 'вспоминаю', 'довелось', 'однажды', 'обеде', 'честь', 'вашего', 'батюшки', 'остроумно', 'выразился', 'козлов', 'петр', 'кузьмич', 'дескать', 'почитает', 'центральную', 'азию', 'своим', 'отъезжим', 'полем', 'думаю', 'свете', 'федор', 'константинович', 'заметил', 'обремененный', 'сочувствием', 'взгляд', 'чернышевской', 'направленный', 'сухо', 'перебив', 'скворцова', 'стал', 'интереса', 'расспрашивать', 'россии', 'сказать', 'отвечал', 'здравствуйте', 'федор', 'константинович', 'здравствуйте', 'дорогой', 'крикнул', 'поверх', 'головы', 'хотя', 'пожимая', 'руку', 'движущийся', 'протискивающийся', 'похожий', 'раскормленную', 'черепаху', 'адвокат', 'приветствовал', 'другого', 'поднялся', 'своего', 'места', 'васильев', 'мгновение', 'опершись', 'столешницу', 'легким', 'прикосновением', 'пальцев', 'свойственным', 'приказчикам', 'ораторам', 'объявил', 'собрание', 'открытым', 'господин', 'буш', 'добавил', 'прочтет', 'нам', 'новую', 'философскую', 'трагедию', 'герман', 'иванович', 'буш', 'пожилой', 'застенчивый', 'крепкого', 'сложения', 'симпатичный', 'рижанин', 'похожий', 'лицом', 'бетховена', 'сел', 'столик', 'ампир', 'гулко', 'откашлялся', 'развернул', 'рукопись', 'заметно', 'дрожали', 'руки', 'продолжали', 'дрожать', 'всј', 'время', 'чтения', 'самом', 'начале', 'наметился', 'путь', 'беды', 'курьезное', 'произношение', 'чтеца', 'несовместимо', 'темнотою', 'смысла', 'прологе', 'появился', 'идущий', 'дороге', 'одинокий', 'спутник', 'федор', 'константинович', 'напрасно', 'понадеялся', 'это', 'метафизический', 'парадокс', 'предательский', 'ляпсус', 'начальник', 'городской', 'стражи', 'ходока', 'пропуская', 'несколько', 'повторил', 'наверно', 'е', 'пройдет', 'городок', 'приморский', 'спутник', 'шел', 'hinterland', 'a', 'нем', 'пьянствовал', 'экипаж', 'греческого', 'судна', 'происходил', 'такого', 'рода', 'разговор', 'улице', 'греха', 'первая', 'проститутка', 'всј', 'вода', 'говорит', 'гость', 'фалес', 'вторая', 'проститутка', 'всј', 'воздух', 'сказал', 'юный', 'анаксимен', 'третья', 'проститутка', 'всј', 'число', 'лысый', 'пифагор', 'ошибиться', 'четвертая', 'проститутка', 'гераклит', 'ласкает', 'шептая', 'всј', 'огонь', 'спутник', 'входит', 'всј', 'судьба', 'кроме', 'хора', 'которых', 'образом', 'представлял', 'собой', 'волну', 'физика', 'де', 'бройля', 'логику', 'истории', 'хороший', 'хор', 'спорил', 'первый', 'матрос', 'второй', 'матрос', 'третий', 'матрос', 'нервным', 'мокрыми', 'краями', 'баском', 'пересчитывал', 'буш', 'беседующих', 'лиц', 'появились', 'торговка', 'лилий', 'торговка', 'фиалок', 'торговка', 'разных', 'цветов', 'колыхнулось', 'публике', 'начались', 'осыпи', 'вскоре', 'установились', 'силовые', 'линии', 'разным', 'направлениям', 'всј', 'просторное', 'помещение', 'связь', 'взглядами', 'десяти', 'людей', 'составляло', 'четверть', 'собрания', 'кончеев', 'медленно', 'осторожно', 'взял', 'этажерки', 'которой', 'сидел', 'большую', 'книгу', 'федор', 'константинович', 'заметил', 'это', 'альбом', 'персидских', 'миниатюр', 'всј', 'медленно', 'поворачивая', 'сяк', 'коленях', 'начал', 'тихо', 'близоруко', 'рассматривать', 'чернышевской', 'удивленный', 'оскорбленный', 'вид', 'вследствие', 'своей', 'тайной', 'этики', 'связанной', 'памятью', 'сына', 'заставляла', 'слушать', 'буш', 'читал', 'быстро', 'лоснящиеся', 'скулы', 'вращались', 'горела', 'подковка', 'черном', 'галстуке', 'ноги', 'столиком', 'стояли', 'носками', 'внутрь', 'глубже', 'сложнее', 'непонятнее', 'становилась', 'идиотская', 'символика', 'трагедии', 'ужаснее', 'требовал', 'выхода', 'мучительно', 'сдерживаемый', 'клекот', 'многие', 'нагибались', 'боясь', 'смотреть', 'площади', 'начался', 'танец', 'масков', 'гец', 'кашлянул', 'вместе', 'кашлем', 'вырвался', 'добавочный', 'вопль', 'гец', 'закрылся', 'ладонями', 'погодя', 'появился', 'бессмысленно', 'ясным', 'лицом', 'мокрой', 'лысиной', 'диване', 'спиной', 'любови', 'марковны', 'тамара', 'просто', 'легла', 'каталась', 'родовых', 'муках', 'лишенный', 'прикрытия', 'федор', 'константинович', 'обливался', 'слезами', 'изнемогая', 'вынужденной', 'беззвучности', 'происходившего', 'нем', 'внезапно', 'васильев', 'тяжко', 'повернулся', 'стуле', 'неожиданно', 'треснул', 'поддалась', 'ножка', 'васильев', 'рванулся', 'переменившись', 'лице', 'упал', 'это', 'мало', 'смешное', 'происшествие', 'явилось', 'предлогом', 'звериного', 'ликующего', 'взрыва', 'прервавшего', 'чтение', 'покуда', 'васильев', 'переселялся', 'стул', 'герман', 'иванович', 'буш', 'наморщив', 'великолепный', 'совершенно', 'недоходный', 'лоб', 'рукописи', 'отмечал', 'карандашиком', 'среди', 'облегченного', 'затишья', 'неизвестная', 'дама', 'отдельно', 'простонала', 'буш', 'приступал', 'дальнейшему', 'чтению', 'торговка', 'лилий', 'сегодня', 'огорчаешься', 'сестрица', 'торговка', 'разных', 'цветов', 'гадалка', 'сказала', 'дочь', 'выйдет', 'замуж', 'вчерашнего', 'прохожего', 'дочь', 'ах', 'заметила', 'торговка', 'лилий', 'заметил', 'слушайте', 'слушайте', 'вмешался', 'хор', 'вроде', 'английском', 'парламенте', 'произошло', 'небольшое', 'движение', 'началось', 'комнату', 'путешествие', 'пустой', 'папиросной', 'коробочки', 'которой', 'толстый', 'адвокат', 'написал', 'наблюдали', 'этапами', 'пути', 'написано', 'верно', 'чрезвычайно', 'смешное', 'никто', 'читал', 'честно', 'шла', 'рук', 'руки', 'направляясь', 'федору', 'константиновичу', 'добралась', 'прочел', 'переговорить', 'вами', 'маленьком', 'деле', 'последнее', 'действие', 'подходило', 'концу', 'федора', 'константиновича', 'незаметно', 'покинул', 'бог', 'смеха', 'раздумчиво', 'смотрел', 'блеск', 'башмака', 'парома', 'холодный', 'брег', 'правый', 'жал', 'левого', 'кончеев', 'полуоткрыв', 'рот', 'досматривал', 'альбом', 'занавес', 'воскликнул', 'буш', 'легким', 'ударением', 'последнем', 'слоге', 'васильев', 'объявил', 'перерыв', 'большинства', 'помятый', 'размаянный', 'вид', 'ночи', 'третьем', 'классе', 'буш', 'свернув', 'трагедию', 'толстую', 'трубку', 'стоял', 'дальнем', 'углу', 'казалось', 'гуле', 'голосов', 'всј', 'расходятся', 'круги', 'слышанного', 'любовь', 'марковна', 'предложила', 'чаю', 'могучее', 'лицо', 'беспомощно', 'подобрело', 'блаженно', 'облизнувшись', 'наклонился', 'поданному', 'стакану', 'федор', 'константинович', 'испугом', 'смотрел', 'это', 'издали', 'собой', 'различал', 'скажите', 'это', 'такое', 'гневный', 'голос', 'чернышевской', 'бывает', 'знаете', 'виновато', 'благодушный', 'васильев', 'спрашиваю', 'это', 'такое', 'матушка', 'могу', 'читали', 'раньше', 'приносил', 'редакцию', 'говорили', 'это', 'серьезная', 'интересная', 'вещь', 'значительная', 'вещь', 'первое', 'впечатление', 'пробежал', 'знаете', 'учел', 'звучать', 'попался', 'удивляюсь', 'пойдите', 'нему', 'александра', 'яковлевна', 'скажите', 'федора', 'константиновича', 'взял', 'повыше', 'локтя', 'адвокат', 'нужно', 'пришла', 'мысль', 'это', 'ко', 'обратился', 'клиент', 'требуется', 'перевести', 'немецкий', 'свои', 'бумаги', 'бракоразводного', 'процесса', 'немцев', 'которые', 'дело', 'ведут', 'служит', 'одна', 'русская', 'барышня', 'кажется', 'сумеет', 'сделать', 'часть', 'еше', 'помощника', 'взялись', 'это', 'запишу', 'ваш', 'номер', 'гемахт', 'господа', 'прошу', 'местам', 'раздался', 'голос', 'васильева', 'начнутся', 'прения', 'поводу', 'заслушанного', 'прошу', 'желающих', 'записываться', 'федор', 'константинович', 'увидел', 'кончеев', 'сутулясь', 'заложив', 'руку', 'борт', 'пиджака', 'извилисто', 'пробирается', 'выходу', 'последовал', 'едва', 'забыв', 'своего', 'журнала', 'передней', 'присоединился', 'старичок', 'ступишин', 'часто', 'переезжавший', 'квартиры', 'квартиру', 'живший', 'таком', 'отдалении', 'города', 'важные', 'сложные', 'перемены', 'происходили', 'казалось', 'эфире', 'горизонтом', 'забот', 'накинув', 'шею', 'шарфик', 'задержал', 'подбородком', 'влезая', 'толчками', 'спины', 'пальто', 'порадовал', 'нечего', 'сказать', 'проговорил', 'пока', 'спускались', 'сопровождении', 'горничной', 'признаться', 'плохо', 'слушал', 'заметил', 'кончеев', 'ступишин', 'пошел', 'ждать', 'редкий', 'легендарный', 'номер', 'трамвая', 'кончеев', 'направились', 'вместе', 'другую', 'сторону', 'угла', 'скверная', 'погода', 'сказал', 'холодно', 'согласился', 'кончеев', 'паршиво', 'живете', 'краях', 'шарлоттенбурге', 'это', 'особенно', 'близко', 'пешком', 'пешком', 'пешком', 'кажется', 'нужно', 'направо', 'напрямик', 'простились', 'фу', 'ветер', 'постойте', 'постойте', 'провожу', 'поди', 'полунощник', 'стать', 'учить', 'черному', 'очарованию', 'каменных', 'прогулок', 'слушали', 'бедного', 'чтеца', 'начале', 'полуха', 'однако', 'вовсе', 'думаю', 'это', 'скверно', 'рассматривали', 'персидские', 'миниатюры', 'заметили', 'одной', 'разительное', 'сходство', 'коллекции', 'петербургской', 'публичной', 'библиотеки', 'писал', 'кажется', 'riza', 'abbasi', 'лет', 'триста', 'тому', 'назад', 'коленях', 'борьбе', 'драконятами', 'носатый', 'усатый', 'сталин', 'это', 'кажется', 'самый', 'крепкий', 'кстати', 'сегодня', 'попалось', 'газете', 'знаю', 'чей', 'грех', 'тебе', 'боже', 'негоже', 'усматриваю', 'обожествление', 'калик', 'память', 'каиновых', 'жертвоприношениях', 'сойдемся', 'плутнях', 'звательного', 'падежа', 'поговорим', 'шиллере', 'подвигах', 'славе', 'позволите', 'маленькую', 'амальгаму', 'итак', 'читал', 'сборник', 'ваших', 'очень', 'замечательных', 'стихов', 'собственно', 'это', 'модели', 'ваших', 'будущих', 'романов', 'мечтаю', 'произвести', 'такую', 'прозу', 'мысль', 'музыка', 'сошлись', 'сне', 'складки', 'жизни', 'благодарю', 'учтивую', 'цитату', 'любите', 'литературу', 'полагаю', 'рода', 'книг', 'настольный', 'подстольный', 'либо', 'люблю', 'писателя', 'истово', 'либо', 'выбрасываю', 'целиком', 'э', 'строги', 'опасно', 'это', 'забудьте', 'вся', 'русская', 'литература', 'литература', 'одного', 'века', 'занимает', 'самого', 'снисходительного', 'отбора', 'половиной', 'тысяч', 'печатных', 'листов', 'числа', 'едва', 'половина', 'достойна', 'полки', 'стола', 'количественной', 'скудости', 'нужно', 'мириться', 'наш', 'пегас', 'пег', 'всј', 'дурном', 'писателе', 'дурно', 'добром', 'всј', 'добро', 'дайте', 'пожалуй', 'примеры', 'мог', 'опровергнуть', 'извольте', 'раскрыть', 'гончарова', 'стойте', 'неужто', 'желаете', 'помянуть', 'добрым', 'словом', 'обломова', 'россию', 'погубили', 'ильича', 'собираетесь', 'поговорить', 'безобразной', 'гигиене', 'тогдашних', 'любовных', 'падений', 'кринолин', 'сырая', 'скамья', 'стиль', 'помните', 'райского', 'минуты', 'задумчивости', 'переливается', 'губах', 'розовая', 'влага', 'точно', 'скажем', 'герои', 'писемского', 'минуту', 'сильного', 'душевного', 'волнения', 'рукой', 'растирают', 'грудь', 'уловлю', 'читали', 'писемского', 'лакеи', 'передней', 'время', 'бала', 'перекидываются', 'страшно', 'грязным', 'истоптанным', 'плисовым', 'женским', 'сапогом', 'ага', 'вообще', 'коли', 'попали', 'второй', 'ряд', 'скажете', 'например', 'лескове', 'слоге', 'попадаются', 'забавные', 'англицизмы', 'вроде', 'это', 'дурная', 'вещь', 'вместо', 'плохо', 'дело', 'всякие', 'нарочитые', 'аболоны', 'увольте', 'смешно', 'многословие', 'матушки', 'соборян', 'урона', 'сократить', 'двух', 'газетных', 'подвалов', 'знаю', 'хуже', 'добродетельные', 'британцы', 'добродетельные', 'попы', 'галилейский', 'призрак', 'прохладный', 'тихий', 'длинной', 'одежде', 'цвета', 'зреющей', 'сливы', 'пасть', 'пса', 'синеватым', 'точно', 'напомаженным', 'зевом', 'молния', 'ночью', 'освещающая', 'подробно', 'комнату', 'вплоть', 'магнезии', 'осевшей', 'серебряной', 'ложке', 'отмечаю', 'латинское', 'чувство', 'синевы', 'lividus', 'лев', 'толстой', 'насчет', 'лиловаго', 'какое', 'блаженство', 'пройтись', 'грачами', 'пашне', 'босиком', 'должен', 'покупать', 'правы', 'жмут', 'нестерпимо', 'перешли', 'первый', 'ряд', 'найдете', 'слабостей', 'русалка', 'трогайте', 'пушкина', 'это', 'золотой', 'фонд', 'нашей', 'литературы', 'вон', 'чеховской', 'корзине', 'провиант', 'лет', 'вперед', 'щенок', 'который', 'делает', 'уюм', 'уюм', 'уюм', 'бутылка', 'крымского', 'погодите', 'вернемся', 'дедам', 'гоголь', 'думаю', 'весь', 'состав', 'пропустим', 'тургенев', 'достоевский', 'обратное', 'превращение', 'бедлама', 'вифлеем', 'достоевский', 'оговорюсь', 'выражается', 'мортус', 'карамазовых', 'круглый', 'след', 'мокрой', 'рюмки', 'садовом', 'столе', 'это', 'сохранить', 'стоит', 'принять', 'ваш', 'подход', 'тургенева', 'всј', 'благополучно', 'вспомните', 'дурацкие', 'тэтатэты', 'акатниках', 'рычание', 'трепет', 'базарова', 'совершенно', 'неубедительная', 'возня', 'лягушками', 'вообще', 'знаю', 'переносите', 'особую', 'интонацию', 'тургеневского', 'многоточия', 'жеманное', 'окончание', 'глав', 'всј', 'простим', 'серый', 'отлив', 'черных', 'шелков', 'русачью', 'полежку', 'иной', 'фразы', 'отец', 'находил', 'вопиющие', 'ошибки', 'толстовских', 'описаниях', 'природы', 'аксакова', 'нечего', 'говорить', 'добавлял', 'это', 'стыд', 'срам', 'мертвые', 'тела', 'убраны', 'примемся', 'поэтов', 'думаете', 'кстати', 'мертвых', 'телах', 'приходило', 'голову', 'лермонтовский', 'знакомый', 'труп', 'это', 'безумно', 'смешно', 'ибо', 'собственно', 'хотел', 'сказать', 'труп', 'знакомого', 'иначе', 'непонятно', 'знакомство', 'посмертное', 'контекстом', 'оправдано', 'всј', 'тютчев', 'последнее', 'время', 'ночует', 'славный', 'постоялец', 'насчет', 'ямба', 'некрасова', 'нету', 'позыва', 'это', 'рыданьице', 'голосе', 'загородись', 'двойною', 'рамою', 'напрасно', 'горниц', 'студи', 'простись', 'надеждою', 'упрямою', 'дорогу', 'гляди', 'кажется', 'дактилическую', 'рифму', 'выпел', 'избытка', 'чувств', 'особый', 'растяжной', 'перебор', 'гитаристов', 'фет', 'лишен', 'чувствую', 'тайная', 'слабость', 'фета', 'рассудочность', 'подчеркивание', 'антитез', 'скрылась', 'наши', 'общественно', 'настроенные', 'олухи', 'понимали', 'иначе', 'всј', 'прощаю', 'прозвенело', 'померкшем', 'лугу', 'росу', 'счастья', 'дышащую', 'бабочку', 'переходим', 'следующий', 'век', 'осторожно', 'ступенька', 'вами', 'начали', 'бредить', 'стихами', 'рано', 'напомните', 'это', 'всј', 'дышат', 'края', 'облаков', 'боже', 'освещенные', 'другого', 'бока', 'облака', 'небывалой', 'услады', 'разборчивость', 'преступлением', 'мое', 'тогдашнее', 'сознание', 'воспринимало', 'восхищенно', 'благодарно', 'полностью', 'критических', 'затей', 'пятерых', 'начинающихся', 'б', 'пять', 'чувств', 'новой', 'русской', 'поэзии', 'интересно', 'которому', 'именно', 'отводите', 'вкус', 'знаю', 'афоризмы', 'которые', 'самолеты', 'держатся', 'пока', 'находятся', 'движении', 'говорили', 'заре', 'началось', 'прозрения', 'азбуки', 'простите', 'это', 'звучит', 'изломом', 'дело', 'детства', 'сильнейшей', 'подробнейшей', 'степени', 'audition', 'colore', 'e', 'могли', 'оттенками', 'которые', 'снились', 'сонет', 'толстый', 'примеру', 'различные', 'многочисленные', 'тех', 'четырех', 'языках', 'которыми', 'владею', 'вижу', 'едва', 'стольких', 'тонах', 'занозисто', 'серых', 'сколько', 'представляю', 'сортов', 'поделочного', 'дерева', 'рекомендую', 'мое', 'розовое', 'фланелевое', 'м', 'знаю', 'обращали', 'внимание', 'вату', 'которую', 'изымали', 'майковских', 'рам', 'такова', 'буква', 'ы', 'столь', 'грязная', 'словам', 'стыдно', 'начинаться', 'рукой', 'краски', 'смешал', 'sienne', 'e', 'сепию', 'получился', 'цвет', 'гутаперчевого', 'ч', 'оценили', 'мое', 'сияющее', 'мог', 'насыпать', 'горсть', 'тех', 'светлых', 'сапфиров', 'которые', 'ребенком', 'трогал', 'дрожа', 'понимая', 'мать', 'бальном', 'платье', 'плача', 'навзрыд', 'переливала', 'свои', 'совершенно', 'небесные', 'драгоценности', 'бездны', 'ладонь', 'шкатулок', 'бархат', 'всј', 'запирала', 'никуда', 'ехала', 'несмотря', 'бешенные', 'уговоры', 'брата', 'который', 'шагал', 'комнатам', 'давая', 'щелчки', 'мебели', 'пожимая', 'эполетами', 'отодвинуть', 'боковом', 'окне', 'фонаря', 'штору', 'видеть', 'вдоль', 'набережных', 'фасадов', 'синей', 'черноте', 'ночи', 'изумительно', 'неподвижные', 'грозно', 'алмазные', 'вензеля', 'цветные', 'венцы', 'buchstaben', 'von', 'feuer', 'одним', 'словом', 'знаю', 'наперед', 'хотите', 'доскажу', 'банальную', 'щемящую', 'душу', 'повесть', 'упивались', 'первыми', 'попавшимися', 'стихами', 'десять', 'лет', 'писали', 'драмы', 'пятнадцать', 'элегии', 'всј', 'закатах', 'закатах', 'медленно', 'пройдя', 'меж', 'пьяными', 'кстати', 'такая', 'молодая', 'замужняя', 'женщина', 'продолжалось', 'неполных', 'года', 'бегства', 'россии', 'хороша', 'мила', 'знаете', 'большие', 'глаза', 'немного', 'костлявые', 'руки', 'сих', 'пор', 'остался', 'верен', 'стихов', 'требовала', 'ямщикнегонилошадейности', 'обожала', 'играть', 'покер', 'погибла', 'сыпного', 'тифа', 'бог', 'знает', 'бог', 'знает', 'стоит', 'продолжать', 'самого', 'конца', 'счастлив', 'несмотря', 'позорную', 'боль', 'ногах', 'признаться', 'началось', 'это', 'движение', 'волнение', 'буду', 'ночь', 'покажите', 'посмотрим', 'это', 'получается', 'этим', 'черного', 'парома', 'сквозь', 'вечно', 'тихо', 'падающий', 'снег', 'тьме', 'незамерзающую', 'воду', 'отвесно', 'падающий', 'снег', 'обычную', 'летейскую', 'погоду', 'этим', 'ступлю', 'брег', 'разбазарьте', 'волнения', 'посудите', 'счастливым', 'лоб', 'горит', 'излишка', 'уксуса', 'винегрете', 'знаете', 'подумал', 'собственно', 'стикс', 'ладно', 'дальше', 'пристающему', 'парому', 'сук', 'тянется', 'медленным', 'багром', 'харон', 'паромщик', 'тянется', 'суку', 'сырому', 'кривому', 'медленно', 'вращается', 'паром', 'домой', 'домой', 'нынче', 'хочется', 'сочинять', 'пером', 'пальцах', 'луна', 'черно', 'пахнет', 'листьями', 'землей', 'этих', 'решоток', 'жалко', 'никто', 'подслушал', 'блестящей', 'беседы', 'которую', 'хотелось', 'вами', 'вести', 'пропадет', 'рад', 'вышло', 'кому', 'какое', 'дело', 'расстались', 'первом', 'углу', 'веду', 'собою', 'вымышленный', 'диалог', 'самоучителю', 'вдохновения']\n"
     ]
    }
   ],
   "source": [
    "# токенизируем текст, приводим к нижнему регистру и оставляем только последовательности из букв,\n",
    "# т.е. все токены, где были знаки препинания и числа, исчезнут\n",
    "words = [w.lower() for w in word_tokenize(text) if w.isalpha()]\n",
    "\n",
    "# какие слова исчезли?\n",
    "filtered = [w for w in words if w not in sw]\n",
    "print(filtered)"
   ]
  },
  {
   "cell_type": "code",
   "execution_count": null,
   "metadata": {},
   "outputs": [],
   "source": []
  },
  {
   "cell_type": "markdown",
   "metadata": {},
   "source": [
    "И наконец-то стемминг"
   ]
  },
  {
   "cell_type": "code",
   "execution_count": 88,
   "metadata": {},
   "outputs": [],
   "source": [
    "# умеет работать не только с английским текстом\n",
    "\n",
    "from nltk.stem.snowball import SnowballStemmer\n",
    "\n",
    "snowball = SnowballStemmer(\"english\")"
   ]
  },
  {
   "cell_type": "code",
   "execution_count": 90,
   "metadata": {},
   "outputs": [
    {
     "data": {
      "text/plain": [
       "'runner'"
      ]
     },
     "execution_count": 90,
     "metadata": {},
     "output_type": "execute_result"
    }
   ],
   "source": [
    "snowball.stem('runner')"
   ]
  },
  {
   "cell_type": "code",
   "execution_count": 93,
   "metadata": {},
   "outputs": [
    {
     "data": {
      "text/plain": [
       "'ran'"
      ]
     },
     "execution_count": 93,
     "metadata": {},
     "output_type": "execute_result"
    }
   ],
   "source": [
    "snowball.stem('ran')"
   ]
  },
  {
   "cell_type": "code",
   "execution_count": 78,
   "metadata": {},
   "outputs": [],
   "source": [
    "from nltk import WordNetLemmatizer\n",
    "\n",
    "wnl = WordNetLemmatizer()"
   ]
  },
  {
   "cell_type": "code",
   "execution_count": 79,
   "metadata": {},
   "outputs": [
    {
     "data": {
      "text/plain": [
       "'run'"
      ]
     },
     "execution_count": 79,
     "metadata": {},
     "output_type": "execute_result"
    }
   ],
   "source": [
    "wnl.lemmatize('running', pos='v')"
   ]
  },
  {
   "cell_type": "code",
   "execution_count": null,
   "metadata": {},
   "outputs": [],
   "source": []
  }
 ],
 "metadata": {
  "kernelspec": {
   "display_name": "Python 3 (ipykernel)",
   "language": "python",
   "name": "python3"
  },
  "language_info": {
   "codemirror_mode": {
    "name": "ipython",
    "version": 3
   },
   "file_extension": ".py",
   "mimetype": "text/x-python",
   "name": "python",
   "nbconvert_exporter": "python",
   "pygments_lexer": "ipython3",
   "version": "3.9.12"
  }
 },
 "nbformat": 4,
 "nbformat_minor": 2
}

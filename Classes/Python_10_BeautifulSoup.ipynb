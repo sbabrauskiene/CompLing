{
 "cells": [
  {
   "cell_type": "markdown",
   "metadata": {
    "colab_type": "text",
    "id": "view-in-github"
   },
   "source": [
    "<a href=\"https://colab.research.google.com/github/AnnSenina/Python_for_CL/blob/main/notebooks/Python_10_BeautifulSoup.ipynb\" target=\"_parent\"><img src=\"https://colab.research.google.com/assets/colab-badge.svg\" alt=\"Open In Colab\"/></a>"
   ]
  },
  {
   "cell_type": "markdown",
   "metadata": {
    "id": "tQiBPzaI6F4y"
   },
   "source": [
    "#Скрейперы, краулеры, парсеры\n",
    "\n",
    "Веб-скрейпинг = краулинг + парсинг (приблизительно!)\n",
    "\n",
    "Сегодня веб-скрейпинг и парсинг используются как синонимы"
   ]
  },
  {
   "cell_type": "markdown",
   "metadata": {
    "id": "W2LDC-PbXhtR"
   },
   "source": [
    "В этой тетрадке мы поговорим о способах собрать свой датасет для исследований: откуда брать данные, как их собирать и как хранить."
   ]
  },
  {
   "cell_type": "markdown",
   "metadata": {
    "id": "rHJEqIWOqGoj"
   },
   "source": [
    "Существует несколько библиотек(модулей) для работы с веб-страничками, сегодня мы будем использовать requests для доступа к веб-страничкам и Beautiful Soup для работы с содержимым html-документов"
   ]
  },
  {
   "cell_type": "code",
   "execution_count": 1,
   "metadata": {
    "ExecuteTime": {
     "end_time": "2020-12-19T07:43:42.215240Z",
     "start_time": "2020-12-19T07:43:42.162193Z"
    },
    "id": "ncJ-uAqjDNkC",
    "scrolled": true,
    "tags": []
   },
   "outputs": [
    {
     "name": "stdout",
     "output_type": "stream",
     "text": [
      "Requirement already satisfied: requests in /Library/Frameworks/Python.framework/Versions/3.10/lib/python3.10/site-packages (2.28.1)\n",
      "Requirement already satisfied: urllib3<1.27,>=1.21.1 in /Library/Frameworks/Python.framework/Versions/3.10/lib/python3.10/site-packages (from requests) (1.26.12)\n",
      "Requirement already satisfied: charset-normalizer<3,>=2 in /Library/Frameworks/Python.framework/Versions/3.10/lib/python3.10/site-packages (from requests) (2.1.1)\n",
      "Requirement already satisfied: certifi>=2017.4.17 in /Library/Frameworks/Python.framework/Versions/3.10/lib/python3.10/site-packages (from requests) (2022.9.24)\n",
      "Requirement already satisfied: idna<4,>=2.5 in /Library/Frameworks/Python.framework/Versions/3.10/lib/python3.10/site-packages (from requests) (3.4)\n"
     ]
    }
   ],
   "source": [
    "!pip install requests #ставим модуль requests"
   ]
  },
  {
   "cell_type": "code",
   "execution_count": 2,
   "metadata": {
    "ExecuteTime": {
     "end_time": "2020-12-19T07:11:35.137512Z",
     "start_time": "2020-12-19T07:11:33.589516Z"
    },
    "id": "fFcBQ25GZBCO",
    "tags": []
   },
   "outputs": [
    {
     "name": "stdout",
     "output_type": "stream",
     "text": [
      "Requirement already satisfied: beautifulsoup4 in /Library/Frameworks/Python.framework/Versions/3.10/lib/python3.10/site-packages/beautifulsoup4-4.11.1-py3.10.egg (4.11.1)\n",
      "Requirement already satisfied: soupsieve>1.2 in /Library/Frameworks/Python.framework/Versions/3.10/lib/python3.10/site-packages (from beautifulsoup4) (2.3.2.post1)\n"
     ]
    }
   ],
   "source": [
    "# ставим модуль beautifulsoup, самая последняя версия - четвертая\n",
    "!pip install beautifulsoup4 "
   ]
  },
  {
   "cell_type": "code",
   "execution_count": 1,
   "metadata": {
    "ExecuteTime": {
     "end_time": "2020-12-19T08:18:38.198003Z",
     "start_time": "2020-12-19T08:18:38.186002Z"
    },
    "id": "XT5G41FYnr7a"
   },
   "outputs": [],
   "source": [
    "# импортируем модули в тетрадку\n",
    "# rq - необязательно\n",
    "\n",
    "import requests as rq\n",
    "\n",
    "from bs4 import BeautifulSoup"
   ]
  },
  {
   "cell_type": "markdown",
   "metadata": {
    "id": "cIvQNBqUYwE8"
   },
   "source": [
    "# Как работать с веб-страничками"
   ]
  },
  {
   "cell_type": "markdown",
   "metadata": {
    "id": "28Oy0NnLnk0L"
   },
   "source": [
    "### Шаг 1. \n",
    "\n",
    "Создадим переменную ```url``` и сохраним в нее адрес какой-нибудь html-страницы: например, учебной страницы, созданной в Вышке\n",
    "\n",
    "обратите внимание, что адрес прописываем в кавычках, как строку"
   ]
  },
  {
   "cell_type": "code",
   "execution_count": 38,
   "metadata": {
    "ExecuteTime": {
     "end_time": "2020-12-19T08:22:23.420826Z",
     "start_time": "2020-12-19T08:22:23.416822Z"
    },
    "id": "WzqN6Ss_aujY"
   },
   "outputs": [],
   "source": [
    "url = 'https://online.hse.ru/python-as-foreign/1/'"
   ]
  },
  {
   "cell_type": "markdown",
   "metadata": {
    "id": "Ysgl6VmpKjxu"
   },
   "source": [
    "В модуле requests есть метод request.get(), который сохраняет ответ сервера на наш реквест. Мы применим его к переменной url, куда сохранен путь к странице. \n",
    "Сохраним результат в переменную page"
   ]
  },
  {
   "cell_type": "code",
   "execution_count": 39,
   "metadata": {
    "ExecuteTime": {
     "end_time": "2020-12-19T08:46:54.806718Z",
     "start_time": "2020-12-19T08:46:54.506720Z"
    },
    "id": "O8AH4kDxqKvF"
   },
   "outputs": [
    {
     "name": "stdout",
     "output_type": "stream",
     "text": [
      "<Response [200]>\n",
      "<class 'requests.models.Response'>\n"
     ]
    }
   ],
   "source": [
    "page = rq.get(url) \n",
    "\n",
    "print(page) # посмотрим на код ответа, если 200, все хорошо\n",
    "print(type(page))"
   ]
  },
  {
   "cell_type": "markdown",
   "metadata": {
    "id": "J5Y2C39Gp0yK"
   },
   "source": [
    "код 200 сообщает, что страница загружена успешно \n",
    "*(коды, начинающиеся с 2, обычно указывают на успешное выполнение операции, а коды, начинающиеся с 4 или 5, сообщают об ошибке)*\n",
    "\n",
    "Узнать больше о кодах состояния HTTP  можно [по этой ссылке.](https://www.w3.org/Protocols/HTTP/1.1/draft-ietf-http-v11-spec-01#Status-Codes)"
   ]
  },
  {
   "cell_type": "code",
   "execution_count": 40,
   "metadata": {
    "id": "OgWJ0rs36tsm"
   },
   "outputs": [
    {
     "name": "stdout",
     "output_type": "stream",
     "text": [
      "200\n",
      "<class 'int'>\n"
     ]
    }
   ],
   "source": [
    "# есть еще одна команда, чтобы получить код в виде числа:\n",
    "# if page.status.code == 200: можно обрабатывать коды исключений\n",
    "print(page.status_code)\n",
    "print(type(page.status_code))"
   ]
  },
  {
   "cell_type": "markdown",
   "metadata": {
    "id": "9Gg53fJKNObR"
   },
   "source": [
    "Следующим шагом нужно получить доступ к текстовому содержимому веб-файлов.\n",
    "\n",
    "Здесь нам поможет page.text "
   ]
  },
  {
   "cell_type": "code",
   "execution_count": 41,
   "metadata": {
    "ExecuteTime": {
     "end_time": "2020-12-19T08:47:01.231718Z",
     "start_time": "2020-12-19T08:47:01.108719Z"
    },
    "id": "md61SNPYu_jL",
    "tags": []
   },
   "outputs": [
    {
     "name": "stdout",
     "output_type": "stream",
     "text": [
      "<html>\n",
      "<head>\n",
      "    <meta charset=\"UTF-8\">\n",
      "    <title>ÐÐ³Ð»Ð°Ð²Ð»ÐµÐ½Ð¸Ðµ</title>\n",
      "</head>\n",
      "<body>\n",
      "    Ð¡ÑÐ°ÑÑÐ¸ Ð¾ Ð¿ÐµÑÑÐ¾Ð½Ð°Ð¶Ð°Ñ",
      ": <a href=\"1.html\">ÐÐ°ÑÑÐ¸ ÐÐ¾ÑÑÐµÑ</a>,\n",
      "    <a href=\"2.html\">ÐÐ¶Ð¸Ð½Ð½Ð¸ Ð£Ð¸Ð·Ð»Ð¸</a>,\n",
      "    <a href=\"3.html\">ÐÐ¸Ð»Ð¸ ÐÐ¾ÑÑÐµÑ</a>,\n",
      "    <a href=\"4.html\">ÐÐµÑÐ¼Ð¸Ð¾Ð½Ð° ÐÑÐµÐ¹Ð½Ð´Ð¶ÐµÑ</a>,\n",
      "    <a href=\"5.html\">Ð¡Ð¸ÑÐ¸ÑÑ ÐÐ»ÑÐº</a>,\n",
      "    <a href=\"6.html\">Ð ÑÐ±ÐµÑÑ Ð¥Ð°Ð³ÑÐ¸Ð´</a>,\n",
      "    <a href=\"7.html\">Ð Ð¾Ð½ Ð£Ð¸Ð·Ð»Ð¸</a>,\n",
      "    <a href=\"8.html\">ÐÑÑÐ¾ÑÐ¸Ñ ÐÑÐ¸Ð½Ð³ÑÐ°ÑÑ</a>,\n",
      "    <a href=\"9.html\">ÐÑÑÐ¸ÑÑ ÐÐ°Ð»ÑÐ¾Ð¹</a>,\n",
      "    <a href=\"10.html\">ÐÑÐ°ÐºÐ¾ ÐÐ°Ð»ÑÐ¾Ð¹</a>,\n",
      "    <a href=\"11.html\">ÐÐµÐ»Ð»Ð°ÑÑÐ¸ÑÐ° ÐÐµÑÑÑÐµÐ¹Ð½Ð´Ð¶</a>.<br>\n",
      "    ÐÐ¾ Ð¼Ð°ÑÐµÑÐ¸Ð°Ð»Ð°Ð¼ <a href=\"https://harrypotter.fandom.com\">ÐÐ°ÑÑÐ¸ ÐÐ¾ÑÑÐµÑ Ð²Ð¸ÐºÐ¸</a>. <br>Ð Ð°ÑÐ¿ÑÐ¾ÑÑÑÐ°Ð½ÑÐµÑÑÑ Ð½Ð° ÑÑÐ»Ð¾Ð²Ð¸ÑÑ",
      " CC-BY-SA\n",
      "</body>\n",
      "</html>\n"
     ]
    }
   ],
   "source": [
    "print(page.text)"
   ]
  },
  {
   "cell_type": "code",
   "execution_count": 42,
   "metadata": {
    "id": "zXIpm0FkVY3r"
   },
   "outputs": [
    {
     "name": "stdout",
     "output_type": "stream",
     "text": [
      "<html>\n",
      "<head>\n",
      "    <meta charset=\"UTF-8\">\n",
      "    <title>Оглавление</title>\n",
      "</head>\n",
      "<body>\n",
      "    Статьи о персонажах: <a href=\"1.html\">Гарри Поттер</a>,\n",
      "    <a href=\"2.html\">Джинни Уизли</a>,\n",
      "    <a href=\"3.html\">Лили Поттер</a>,\n",
      "    <a href=\"4.html\">Гермиона Грейнджер</a>,\n",
      "    <a href=\"5.html\">Сириус Блэк</a>,\n",
      "    <a href=\"6.html\">Рубеус Хагрид</a>,\n",
      "    <a href=\"7.html\">Рон Уизли</a>,\n",
      "    <a href=\"8.html\">Астория Гринграсс</a>,\n",
      "    <a href=\"9.html\">Люциус Малфой</a>,\n",
      "    <a href=\"10.html\">Драко Малфой</a>,\n",
      "    <a href=\"11.html\">Беллатриса Лестрейндж</a>.<br>\n",
      "    По материалам <a href=\"https://harrypotter.fandom.com\">Гарри Поттер вики</a>. <br>Распространяется на условиях CC-BY-SA\n",
      "</body>\n",
      "</html>\n"
     ]
    }
   ],
   "source": [
    "page.encoding = 'utf-8' # укажем кодировку и снова посмотрим\n",
    "print(page.text)"
   ]
  },
  {
   "cell_type": "markdown",
   "metadata": {
    "id": "X5cEfTSEYhcY"
   },
   "source": [
    "### Шаг2\n",
    "\n",
    "Поработаем с текстом на страничке"
   ]
  },
  {
   "cell_type": "markdown",
   "metadata": {
    "id": "vcVMhwpHNxE5"
   },
   "source": [
    "Мы получили текст страницы (со всеми html-тегами), однако его неудобно прочитать в таком виде. \n",
    "\n",
    "Здесь нам понадобится Beautiful Soup, модуль для html-парсинга: он сделает текст веб-страницы, извлеченный с помощью Requests, более читаемым, потому что создает дерево синтаксического разбора из проанализированных тэгов."
   ]
  },
  {
   "cell_type": "code",
   "execution_count": 43,
   "metadata": {
    "ExecuteTime": {
     "end_time": "2020-12-19T09:20:00.809844Z",
     "start_time": "2020-12-19T09:20:00.351849Z"
    },
    "id": "GOBPlBro3AQR"
   },
   "outputs": [],
   "source": [
    "soup = BeautifulSoup(page.text, features=\"html.parser\") #сохраним результат в переменную soup"
   ]
  },
  {
   "cell_type": "code",
   "execution_count": 10,
   "metadata": {
    "ExecuteTime": {
     "end_time": "2020-12-19T08:47:09.815788Z",
     "start_time": "2020-12-19T08:47:09.553787Z"
    },
    "id": "HigX0lNr3P1Z",
    "tags": []
   },
   "outputs": [
    {
     "name": "stdout",
     "output_type": "stream",
     "text": [
      "<html>\n",
      " <head>\n",
      "  <meta charset=\"utf-8\"/>\n",
      "  <title>\n",
      "   Оглавление\n",
      "  </title>\n",
      " </head>\n",
      " <body>\n",
      "  Статьи о персонажах:\n",
      "  <a href=\"1.html\">\n",
      "   Гарри Поттер\n",
      "  </a>\n",
      "  ,\n",
      "  <a href=\"2.html\">\n",
      "   Джинни Уизли\n",
      "  </a>\n",
      "  ,\n",
      "  <a href=\"3.html\">\n",
      "   Лили Поттер\n",
      "  </a>\n",
      "  ,\n",
      "  <a href=\"4.html\">\n",
      "   Гермиона Грейнджер\n",
      "  </a>\n",
      "  ,\n",
      "  <a href=\"5.html\">\n",
      "   Сириус Блэк\n",
      "  </a>\n",
      "  ,\n",
      "  <a href=\"6.html\">\n",
      "   Рубеус Хагрид\n",
      "  </a>\n",
      "  ,\n",
      "  <a href=\"7.html\">\n",
      "   Рон Уизли\n",
      "  </a>\n",
      "  ,\n",
      "  <a href=\"8.html\">\n",
      "   Астория Гринграсс\n",
      "  </a>\n",
      "  ,\n",
      "  <a href=\"9.html\">\n",
      "   Люциус Малфой\n",
      "  </a>\n",
      "  ,\n",
      "  <a href=\"10.html\">\n",
      "   Драко Малфой\n",
      "  </a>\n",
      "  ,\n",
      "  <a href=\"11.html\">\n",
      "   Беллатриса Лестрейндж\n",
      "  </a>\n",
      "  .\n",
      "  <br/>\n",
      "  По материалам\n",
      "  <a href=\"https://harrypotter.fandom.com\">\n",
      "   Гарри Поттер вики\n",
      "  </a>\n",
      "  .\n",
      "  <br/>\n",
      "  Распространяется на условиях CC-BY-SA\n",
      " </body>\n",
      "</html>\n"
     ]
    }
   ],
   "source": [
    "print(soup.prettify()) # показывает нашу страницу в красивом виде"
   ]
  },
  {
   "cell_type": "markdown",
   "metadata": {
    "id": "TjED1MGgqGot"
   },
   "source": [
    "### Шаг3 \n",
    "время доставать тэги - но сначала...\n",
    "\n",
    "### Немного про html\n",
    "\n",
    "Перейдем на сайт [w3schools.com](https://www.w3schools.com/Html/) и откроем раздел Try it yourself.\n",
    "\n",
    "Задание 1: \n",
    "\n",
    "1.   внутри тэгов h1 напишите ваши Ф.И.О.\n",
    "\n",
    "2.   напишите подзаголовок \"О себе\", добавив тэги h2\n",
    "\n",
    "3.   внутри тэгов p напишите \"Я учусь создавать html-страницы.\"\n"
   ]
  },
  {
   "cell_type": "markdown",
   "metadata": {
    "id": "MqiVxN6jEphg"
   },
   "source": [
    "Задание 2\n",
    "\n",
    "Добавим таблицу\n",
    "\n",
    "<!DOCTYPE html>\n",
    "<html>\n",
    "<head>\n",
    "<title>My Page</title>\n",
    "</head>\n",
    "<body>\n",
    "\n",
    "<h1>Lana Babrauskiene</h1>\n",
    "<h2>Translator, editor, ML enthusiast.</h2>\n",
    "<p>Now learning to create html-pages.</p>\n",
    "\n",
    "<table border=\"1\">\n",
    "<tr>\n",
    "<th>Last Name</th>\n",
    "<th>First Name</th>\n",
    "<th>Age</th>\n",
    "<th>Occupation</th>\n",
    "</tr>\n",
    "<tr>\n",
    "<td>Babrauskiene</td>\n",
    "<td>Lana</td>\n",
    "<td>43</td>\n",
    "<td>Translator</td>\n",
    "<tr>\n",
    "<td>Belkin</td>\n",
    "<td>Alex</td>\n",
    "<td>41</td>\n",
    "<td>Marketing Director</td>\n",
    "</tr>\n",
    "</table>\n",
    "\n",
    "</body>\n",
    "</html>\n",
    "\n",
    "1. Заполните строку таблицы\n",
    "\n",
    "2. Добавьте еще один столбец и заполните его"
   ]
  },
  {
   "cell_type": "markdown",
   "metadata": {
    "id": "x3x43B4Qypk0"
   },
   "source": [
    "###Бонус! pandas и сам умеет собирать таблицы с сайтов, без rq, BeautifulSoup"
   ]
  },
  {
   "cell_type": "code",
   "execution_count": 9,
   "metadata": {},
   "outputs": [
    {
     "name": "stdout",
     "output_type": "stream",
     "text": [
      "Requirement already satisfied: lxml in /Library/Frameworks/Python.framework/Versions/3.10/lib/python3.10/site-packages (4.9.1)\r\n"
     ]
    }
   ],
   "source": [
    "!pip3 install lxml"
   ]
  },
  {
   "cell_type": "code",
   "execution_count": 10,
   "metadata": {
    "id": "ANg-jm6OxiOa"
   },
   "outputs": [
    {
     "name": "stdout",
     "output_type": "stream",
     "text": [
      "[    Цифр. код Букв. код  Единиц                                    Валюта  \\\n",
      "0          36       AUD       1                      Австралийский доллар   \n",
      "1         944       AZN       1                     Азербайджанский манат   \n",
      "2          51       AMD     100                          Армянских драмов   \n",
      "3         933       BYN       1                         Белорусский рубль   \n",
      "4         975       BGN       1                            Болгарский лев   \n",
      "5         986       BRL       1                          Бразильский реал   \n",
      "6         348       HUF     100                       Венгерских форинтов   \n",
      "7         410       KRW    1000                      Вон Республики Корея   \n",
      "8         344       HKD      10                      Гонконгских долларов   \n",
      "9         208       DKK      10                              Датских крон   \n",
      "10        840       USD       1                                Доллар США   \n",
      "11        978       EUR       1                                      Евро   \n",
      "12        356       INR     100                           Индийских рупий   \n",
      "13        398       KZT     100                       Казахстанских тенге   \n",
      "14        124       CAD       1                          Канадский доллар   \n",
      "15        417       KGS     100                          Киргизских сомов   \n",
      "16        156       CNY      10                           Китайских юаней   \n",
      "17        498       MDL      10                           Молдавских леев   \n",
      "18        934       TMT       1                   Новый туркменский манат   \n",
      "19        578       NOK      10                           Норвежских крон   \n",
      "20        985       PLN       1                           Польский злотый   \n",
      "21        946       RON       1                             Румынский лей   \n",
      "22        960       XDR       1     СДР (специальные права заимствования)   \n",
      "23        702       SGD       1                       Сингапурский доллар   \n",
      "24        972       TJS      10                         Таджикских сомони   \n",
      "25        949       TRY      10                              Турецких лир   \n",
      "26        860       UZS   10000                           Узбекских сумов   \n",
      "27        980       UAH      10                         Украинских гривен   \n",
      "28        826       GBP       1  Фунт стерлингов Соединенного королевства   \n",
      "29        203       CZK      10                              Чешских крон   \n",
      "30        752       SEK      10                             Шведских крон   \n",
      "31        756       CHF       1                         Швейцарский франк   \n",
      "32        710       ZAR      10                    Южноафриканских рэндов   \n",
      "33        392       JPY     100                              Японских иен   \n",
      "\n",
      "      Курс  \n",
      "0   406613  \n",
      "1   357365  \n",
      "2   153445  \n",
      "3   251000  \n",
      "4   322275  \n",
      "5   113545  \n",
      "6   155444  \n",
      "7   453305  \n",
      "8   778672  \n",
      "9   847580  \n",
      "10  607520  \n",
      "11  633008  \n",
      "12  742933  \n",
      "13  130543  \n",
      "14  454153  \n",
      "15  719518  \n",
      "16  841256  \n",
      "17  313505  \n",
      "18  173577  \n",
      "19  613211  \n",
      "20  135647  \n",
      "21  129141  \n",
      "22  795159  \n",
      "23  441127  \n",
      "24  595024  \n",
      "25  326205  \n",
      "26  540205  \n",
      "27  164487  \n",
      "28  734795  \n",
      "29  258662  \n",
      "30  583195  \n",
      "31  644447  \n",
      "32  354978  \n",
      "33  436876  ]\n"
     ]
    }
   ],
   "source": [
    "import pandas as pd\n",
    "\n",
    "banks = pd.read_html('https://cbr.ru/currency_base/daily/', )\n",
    "print(banks) # возвращается список датафреймов - потому что вдруг таблиц на сайте несколько"
   ]
  },
  {
   "cell_type": "code",
   "execution_count": 11,
   "metadata": {
    "id": "xgLK7BdkxxZh"
   },
   "outputs": [],
   "source": [
    "data = pd.DataFrame(banks[0]) # 0 объект списка - наша едиснтвенная табличка на странице\n",
    "data.to_csv(\"banks.csv\")"
   ]
  },
  {
   "cell_type": "code",
   "execution_count": 13,
   "metadata": {
    "id": "liXEgQ7QyINl"
   },
   "outputs": [],
   "source": [
    "data.to_csv(\"banks.csv\")"
   ]
  },
  {
   "cell_type": "markdown",
   "metadata": {
    "id": "bVR8OVuRUaO1"
   },
   "source": [
    "###Вернемся к тегам:\n",
    "\n",
    "предыдущие шаги со страницей позволили привести веб-страничку к виду, где содержание каждого тега написано с новой строки. \n",
    "\n",
    "Некоторые теги полезны для конкретной задачи (там текст), некоторые - не очень (например, мета-данные, картинки и тд)\n",
    "\n",
    "Извлечь одинаковые теги со страницы можно с помощью метода find_all(). Он похож на метод регулярок, с которым мы работали: он вернет все экземпляры данного тега в документе. Нужно прописать в скобках метода нужный тег. \n",
    "\n",
    "### Самые популярные теги:\n",
    "    <h1-h6> - заголовки\n",
    "    <div> для целых \"блоков\" странички\n",
    "    <li> список с перечислением\n",
    "    <p> для текста\n",
    "    <a> для гиперссылок\n",
    "    <img> для изображений"
   ]
  },
  {
   "cell_type": "code",
   "execution_count": 15,
   "metadata": {
    "id": "9jO4I8JsqGou",
    "tags": []
   },
   "outputs": [
    {
     "data": {
      "text/plain": [
       "[<a href=\"1.html\">Гарри Поттер</a>,\n",
       " <a href=\"2.html\">Джинни Уизли</a>,\n",
       " <a href=\"3.html\">Лили Поттер</a>,\n",
       " <a href=\"4.html\">Гермиона Грейнджер</a>,\n",
       " <a href=\"5.html\">Сириус Блэк</a>,\n",
       " <a href=\"6.html\">Рубеус Хагрид</a>,\n",
       " <a href=\"7.html\">Рон Уизли</a>,\n",
       " <a href=\"8.html\">Астория Гринграсс</a>,\n",
       " <a href=\"9.html\">Люциус Малфой</a>,\n",
       " <a href=\"10.html\">Драко Малфой</a>,\n",
       " <a href=\"11.html\">Беллатриса Лестрейндж</a>,\n",
       " <a href=\"https://harrypotter.fandom.com\">Гарри Поттер вики</a>]"
      ]
     },
     "execution_count": 15,
     "metadata": {},
     "output_type": "execute_result"
    }
   ],
   "source": [
    "soup.find_all(\"a\") # тег нужно записать без треугольных скобочек\n",
    "#print(soup.find_all(\"head\")) # для PyCharm\n",
    "\n",
    "# попробуйте теги body, title, a и др."
   ]
  },
  {
   "cell_type": "markdown",
   "metadata": {
    "id": "M9ZsmEvLqGov"
   },
   "source": [
    "А так можно достать нужные части тега (напимер, текст)"
   ]
  },
  {
   "cell_type": "code",
   "execution_count": 16,
   "metadata": {
    "ExecuteTime": {
     "end_time": "2020-12-19T08:50:08.027471Z",
     "start_time": "2020-12-19T08:50:08.007477Z"
    },
    "id": "N0RXeVL33W7I",
    "tags": []
   },
   "outputs": [
    {
     "name": "stdout",
     "output_type": "stream",
     "text": [
      "Гарри Поттер\n",
      "Джинни Уизли\n",
      "Лили Поттер\n",
      "Гермиона Грейнджер\n",
      "Сириус Блэк\n",
      "Рубеус Хагрид\n",
      "Рон Уизли\n",
      "Астория Гринграсс\n",
      "Люциус Малфой\n",
      "Драко Малфой\n",
      "Беллатриса Лестрейндж\n",
      "Гарри Поттер вики\n"
     ]
    }
   ],
   "source": [
    "for x in soup.find_all('a'):\n",
    "    print(x.text)"
   ]
  },
  {
   "cell_type": "code",
   "execution_count": 17,
   "metadata": {
    "id": "3JfaHd0lqGov"
   },
   "outputs": [
    {
     "name": "stdout",
     "output_type": "stream",
     "text": [
      "\n",
      "\n",
      "\n",
      "Оглавление\n",
      "\n",
      "\n",
      "    Статьи о персонажах: Гарри Поттер,\n",
      "    Джинни Уизли,\n",
      "    Лили Поттер,\n",
      "    Гермиона Грейнджер,\n",
      "    Сириус Блэк,\n",
      "    Рубеус Хагрид,\n",
      "    Рон Уизли,\n",
      "    Астория Гринграсс,\n",
      "    Люциус Малфой,\n",
      "    Драко Малфой,\n",
      "    Беллатриса Лестрейндж.\n",
      "    По материалам Гарри Поттер вики. Распространяется на условиях CC-BY-SA\n",
      "\n",
      "\n"
     ]
    }
   ],
   "source": [
    "# Весь текст на страничке за раз можно достать еще и так\n",
    "print(soup.text)"
   ]
  },
  {
   "cell_type": "markdown",
   "metadata": {
    "id": "yPczVAd5qGov"
   },
   "source": [
    "## Как создать корпус"
   ]
  },
  {
   "cell_type": "markdown",
   "metadata": {
    "id": "euAwh4wPqGow"
   },
   "source": [
    "Итак, мы определили нужные теги и напарсили необходимые данные. Пора сохранить их в файл. "
   ]
  },
  {
   "cell_type": "code",
   "execution_count": 22,
   "metadata": {
    "id": "NuqOyfJwqGow"
   },
   "outputs": [],
   "source": [
    "# в .txt\n",
    "\n",
    "with open(\"HP.txt\", \"w\") as file:\n",
    "    for x in soup.find_all(\"a\"):\n",
    "        t = x.text + '\\n'\n",
    "        file.write(t)\n",
    "        \n",
    "# необязательно, но можем скорретировать информацию, которую записываем"
   ]
  },
  {
   "cell_type": "code",
   "execution_count": 23,
   "metadata": {
    "id": "DdUmUfmaqGow"
   },
   "outputs": [
    {
     "name": "stdout",
     "output_type": "stream",
     "text": [
      "['Гарри Поттер', 'Джинни Уизли', 'Лили Поттер', 'Гермиона Грейнджер', 'Сириус Блэк', 'Рубеус Хагрид', 'Рон Уизли', 'Астория Гринграсс', 'Люциус Малфой', 'Драко Малфой', 'Беллатриса Лестрейндж', 'Гарри Поттер вики']\n",
      "['1.html', '2.html', '3.html', '4.html', '5.html', '6.html', '7.html', '8.html', '9.html', '10.html', '11.html', 'https://harrypotter.fandom.com']\n"
     ]
    }
   ],
   "source": [
    "#   или в .csv\n",
    "\n",
    "names = []\n",
    "for x in soup.find_all(\"a\"):\n",
    "  names.append(x.text)\n",
    "\n",
    "links = []\n",
    "for link in soup.find_all(\"a\"):\n",
    "  links.append(link.get('href')) # вот так можно достать ссылку из тега a\n",
    "\n",
    "print(names)\n",
    "print(links)"
   ]
  },
  {
   "cell_type": "code",
   "execution_count": 24,
   "metadata": {
    "id": "_MsSRmwgY4Jo"
   },
   "outputs": [
    {
     "name": "stdout",
     "output_type": "stream",
     "text": [
      "[['Гарри Поттер', 'https://online.hse.ru/python-as-foreign/1/1.html'], ['Джинни Уизли', 'https://online.hse.ru/python-as-foreign/1/2.html'], ['Лили Поттер', 'https://online.hse.ru/python-as-foreign/1/3.html'], ['Гермиона Грейнджер', 'https://online.hse.ru/python-as-foreign/1/4.html'], ['Сириус Блэк', 'https://online.hse.ru/python-as-foreign/1/5.html'], ['Рубеус Хагрид', 'https://online.hse.ru/python-as-foreign/1/6.html'], ['Рон Уизли', 'https://online.hse.ru/python-as-foreign/1/7.html'], ['Астория Гринграсс', 'https://online.hse.ru/python-as-foreign/1/8.html'], ['Люциус Малфой', 'https://online.hse.ru/python-as-foreign/1/9.html'], ['Драко Малфой', 'https://online.hse.ru/python-as-foreign/1/10.html'], ['Беллатриса Лестрейндж', 'https://online.hse.ru/python-as-foreign/1/11.html'], ['Гарри Поттер вики', 'https://online.hse.ru/python-as-foreign/1/https://harrypotter.fandom.com']]\n"
     ]
    }
   ],
   "source": [
    "data = []\n",
    "\n",
    "for i in range(len(names)): # списки равной длины, переберем поиндексно\n",
    "  l = []\n",
    "  l.append(names[i])\n",
    "  l.append('https://online.hse.ru/python-as-foreign/1/' + links[i])\n",
    "  data.append(l)\n",
    "\n",
    "print(data)"
   ]
  },
  {
   "cell_type": "code",
   "execution_count": 25,
   "metadata": {
    "id": "G4ZdcBlUZU06"
   },
   "outputs": [
    {
     "data": {
      "text/html": [
       "<div>\n",
       "<style scoped>\n",
       "    .dataframe tbody tr th:only-of-type {\n",
       "        vertical-align: middle;\n",
       "    }\n",
       "\n",
       "    .dataframe tbody tr th {\n",
       "        vertical-align: top;\n",
       "    }\n",
       "\n",
       "    .dataframe thead th {\n",
       "        text-align: right;\n",
       "    }\n",
       "</style>\n",
       "<table border=\"1\" class=\"dataframe\">\n",
       "  <thead>\n",
       "    <tr style=\"text-align: right;\">\n",
       "      <th></th>\n",
       "      <th>name</th>\n",
       "      <th>url</th>\n",
       "    </tr>\n",
       "  </thead>\n",
       "  <tbody>\n",
       "    <tr>\n",
       "      <th>0</th>\n",
       "      <td>Гарри Поттер</td>\n",
       "      <td>https://online.hse.ru/python-as-foreign/1/1.html</td>\n",
       "    </tr>\n",
       "    <tr>\n",
       "      <th>1</th>\n",
       "      <td>Джинни Уизли</td>\n",
       "      <td>https://online.hse.ru/python-as-foreign/1/2.html</td>\n",
       "    </tr>\n",
       "    <tr>\n",
       "      <th>2</th>\n",
       "      <td>Лили Поттер</td>\n",
       "      <td>https://online.hse.ru/python-as-foreign/1/3.html</td>\n",
       "    </tr>\n",
       "    <tr>\n",
       "      <th>3</th>\n",
       "      <td>Гермиона Грейнджер</td>\n",
       "      <td>https://online.hse.ru/python-as-foreign/1/4.html</td>\n",
       "    </tr>\n",
       "    <tr>\n",
       "      <th>4</th>\n",
       "      <td>Сириус Блэк</td>\n",
       "      <td>https://online.hse.ru/python-as-foreign/1/5.html</td>\n",
       "    </tr>\n",
       "    <tr>\n",
       "      <th>5</th>\n",
       "      <td>Рубеус Хагрид</td>\n",
       "      <td>https://online.hse.ru/python-as-foreign/1/6.html</td>\n",
       "    </tr>\n",
       "    <tr>\n",
       "      <th>6</th>\n",
       "      <td>Рон Уизли</td>\n",
       "      <td>https://online.hse.ru/python-as-foreign/1/7.html</td>\n",
       "    </tr>\n",
       "    <tr>\n",
       "      <th>7</th>\n",
       "      <td>Астория Гринграсс</td>\n",
       "      <td>https://online.hse.ru/python-as-foreign/1/8.html</td>\n",
       "    </tr>\n",
       "    <tr>\n",
       "      <th>8</th>\n",
       "      <td>Люциус Малфой</td>\n",
       "      <td>https://online.hse.ru/python-as-foreign/1/9.html</td>\n",
       "    </tr>\n",
       "    <tr>\n",
       "      <th>9</th>\n",
       "      <td>Драко Малфой</td>\n",
       "      <td>https://online.hse.ru/python-as-foreign/1/10.html</td>\n",
       "    </tr>\n",
       "    <tr>\n",
       "      <th>10</th>\n",
       "      <td>Беллатриса Лестрейндж</td>\n",
       "      <td>https://online.hse.ru/python-as-foreign/1/11.html</td>\n",
       "    </tr>\n",
       "    <tr>\n",
       "      <th>11</th>\n",
       "      <td>Гарри Поттер вики</td>\n",
       "      <td>https://online.hse.ru/python-as-foreign/1/http...</td>\n",
       "    </tr>\n",
       "  </tbody>\n",
       "</table>\n",
       "</div>"
      ],
      "text/plain": [
       "                     name                                                url\n",
       "0            Гарри Поттер   https://online.hse.ru/python-as-foreign/1/1.html\n",
       "1            Джинни Уизли   https://online.hse.ru/python-as-foreign/1/2.html\n",
       "2             Лили Поттер   https://online.hse.ru/python-as-foreign/1/3.html\n",
       "3      Гермиона Грейнджер   https://online.hse.ru/python-as-foreign/1/4.html\n",
       "4             Сириус Блэк   https://online.hse.ru/python-as-foreign/1/5.html\n",
       "5           Рубеус Хагрид   https://online.hse.ru/python-as-foreign/1/6.html\n",
       "6               Рон Уизли   https://online.hse.ru/python-as-foreign/1/7.html\n",
       "7       Астория Гринграсс   https://online.hse.ru/python-as-foreign/1/8.html\n",
       "8           Люциус Малфой   https://online.hse.ru/python-as-foreign/1/9.html\n",
       "9            Драко Малфой  https://online.hse.ru/python-as-foreign/1/10.html\n",
       "10  Беллатриса Лестрейндж  https://online.hse.ru/python-as-foreign/1/11.html\n",
       "11      Гарри Поттер вики  https://online.hse.ru/python-as-foreign/1/http..."
      ]
     },
     "execution_count": 25,
     "metadata": {},
     "output_type": "execute_result"
    }
   ],
   "source": [
    "import pandas as pd\n",
    "\n",
    "df = pd.DataFrame(data, columns=[\"name\", \"url\"])\n",
    "\n",
    "df\n",
    "# print(df) #для PyCharm"
   ]
  },
  {
   "cell_type": "code",
   "execution_count": 26,
   "metadata": {
    "id": "TqYjNU9dqGox"
   },
   "outputs": [],
   "source": [
    "# сохраняем\n",
    "df.to_csv(\"HP.csv\")"
   ]
  },
  {
   "cell_type": "code",
   "execution_count": 75,
   "metadata": {},
   "outputs": [
    {
     "name": "stdout",
     "output_type": "stream",
     "text": [
      "[\"\\n\\n\\nГарри Поттер\\n\\n\\nГарри Джеймс Поттер (англ. Harry James Potter) — главный герой Поттерианы, одноклассник и лучший друг Рона Уизли и Гермионы Грейнджер, член Золотого Трио. Самый знаменитый студент Хогвартса за последние сто лет. Первый волшебник, которому удалось противостоять смертельному проклятью «Авада Кедавра», благодаря чему он стал знаменитым и получил прозвище «Мальчик, Который Выжил». Героически сражался с лордом Волан-де-Мортом и его последователями Пожирателями смерти. Единственный, кому удалось остаться живым после шести поединков с Тёмным Лордом и кто, в конце концов, победил его. Обладатель специальной награды Хогвартса «За заслуги перед школой», полученной в 1993 году за спасение школы от чудовища Тайной комнаты — василиска.\\n\\nВнешний вид\\nГарри Поттер внешне — вылитый отец (для Сириуса словно воскресший друг), лишь его зелёные глаза похожи на глаза матери (в фильме у исполнителя роли Гарри Поттера Дэниела Рэдклиффа глаза голубые). Гарри маленький и худой, он выглядит чуть младше своего возраста, с чёрными, вечно взъерошенными волосами, худощавым лицом и торчащими коленками. Он носит очки с круглой оправой. На лбу Гарри находится знаменитый шрам в виде молнии[4], который у него остался от проклятия «Авада Кедавра».\\n\\nХарактер\\nHarry Potter (OF promo)\\nГарри Поттер\\n\\nВ начале повествования Гарри — одинокий, замкнутый ребёнок, который постоянно подвергается унижениям в семье и в школе. Сложная жизнь у Дурслей формирует у него такую черту, как недоверчивость. Когда в его жизни появляется Хагрид, мальчик до последнего сомневается в происходящем.\\n\\nВ первый год обучения в Хогвартсе, где Гарри наконец-таки ощущает себя полноценным человеком, определяются основные черты его характера, как положительные, так и отрицательные.\\n\\nГарри добр, серьёзно относится к любым человеческим отношениям, никогда не предаст близкого человека, с уважением относится ко взрослым, которые, конечно, это уважение заслужили. Он никогда не нападает первым, напротив, ему самому часто приходится отбиваться от нападок. Гарри по своей натуре лидер, и если ему приходится чем-либо руководить (быть капитаном квиддичной команды или руководителем Отряда Дамблдора), у него это вполне прилично получается. Гарри никогда не кичится своей известностью, наоборот, собственная слава его раздражает. Он малообщителен, и несмотря на то, что ему поневоле приходится контактировать с большим количеством людей, близкие отношения его связывают лишь с несколькими. Гарри достаточно скрытен, он никогда не делится со своими чувствами и переживаниями даже с близкими друзьями.\\n\\nГарри Поттер — «человек первого впечатления». Если кто-либо не понравился (или наоборот, понравился) ему с первого взгляда, он очень неохотно пересматривает своё к нему отношение. Правда, он всегда легко и даже с радостью прощает обидчика, если только он скажет: «Извини, Гарри, я был глубоко не прав». Так произошло с Роном[5], так случилось год спустя с Симусом, это повторилось с Дадли[6]… Гарри не может абстрагироваться от собственных эмоций и опираться только на факты как Римус Люпин, он не умеет цепко замечать детали как Гермиона Грейнджер, он не умеет относиться ко всему с юмором как близнецы Уизли. Но зато он способен глубоко и сильно любить людей и предчувствовать то, что невозможно объяснить словами. «Следуй всегда своей интуиции, — говорит ему однажды Люпин[6], — она тебя почти никогда не обманывает».\\n\\nБиография\\nПроисхождение\\nГарри Поттер — потомок Певереллов, старинной магической семьи, к которой имеет отношение и Том Реддл. Впрочем, кровь братьев Певереллов, по словам самой Джоан Роулинг, течёт в каждом, кто обладает магическими способностями. Сам Гарри узнал о том, что он потомок Игнотуса Певерелла, когда понял, что Мантия-невидимка, доставшаяся ему от отца, на самом деле насчитывает несколько веков истории и является одним из Даров Смерти. Также известно, что Том Реддл — потомок Кадма Певерелла по линии Мраксов, владевших другой реликвией — Воскрешающим камнем. Таким образом, сам Гарри и Волан-де-Морт имеют общие древние корни.\\n\\nГарри Поттер с отцовской стороны состоит в родстве с семейством Блэков, а через них — с половиной магических семейств Англии. С материнской стороны состоит в родстве с магловским семейством Дурслей.\\n\\nНачало жизни\\nГари\\nМальчик, который выжил\\n\\nГарри Джеймс Поттер родился 31 июля 1980 года у волшебников Джеймса и Лили Поттеров. После рождения сына семья жила в укрытии, поскольку стало известно, что лорд Волан-де-Морт охотится за Гарри (см. «Пророчество»). Они жили в Годриковой впадине под защитой заклинания Фиделиус. Лучший друг Джеймса Поттера Сириус Блэк являлся крёстным отцом Гарри, и вначале планировали сделать хранителем его, но, по совету самого Сириуса, в последний момент и тайком ото всех сделали им Питера Петтигрю, который, как они считали, мог вызвать меньше подозрений. В этом была их фатальная ошибка, так как Петтигрю к этому моменту переметнулся к Волан-де-Морту. Он выдал место, где прятались Джеймс и Лили, Тёмному Лорду и тем обрёк их на смерть, а заодно и подставил Сириуса Блэка, который стал в глазах всех предателем.\\n\\nВечером 31 октября 1981 года Тёмный Лорд появился в Годриковой впадине, чтобы убить Гарри. Джеймс пытался защитить семью, но погиб. Когда Волан-де-Морт уже собрался убить ребёнка, Лили встала на его пути, закрывая своим телом кроватку малыша. Безоружная, она кричала, что пусть лучше Тёмный Лорд убьёт её, её, а не сына, её вместо сына. Волан-де-Морт, который сначала собирался оставить Лили в живых по просьбе Северуса Снегга, убил её, устраняя препятствие. Как он думал. Но магический контракт был произнесён и заключён, (убив Лили, Тёмный Лорд согласился с условиями этого контракта) и подписан материнской кровью, которую он пролил. Своею смертью Лили создала несокрушимый барьер для своего сына. И когда Волан-де-Морт применил убивающее заклятие к ребёнку, оно отразилось от него, и Волан-де-Морт потерял всю свою силу и исчез. Так Гарри стал единственным, кому удалось испытать на себе заклятье Авада Кедавра и выжить после этого. На память о событиях в Годриковой Впадине ему остался только шрам в виде молнии.\\n\\nHarry-Potter-and-the-Deat-007\\nГарри вечером 31 октября 1981 года\\n\\nГарри стал знаменит в магическом мире именно тем, что нанёс поражение Волан-де-Морту, когда ему был всего лишь год. То есть, сделал то, что не удавалось на протяжении нескольких лет самым разным, в том числе и выдающимся волшебникам. В результате схватки дом в Годриковой Впадине был разрушен. Рубеус Хагрид вынес малютку Поттера из руин и по распоряжению Альбуса Дамблдора доставил его в дом Дурслей, тёти Петунии и дяди Вернона, родственников Гарри со стороны матери. Дамблдор оставил письмо, в котором объяснял Дурслям обстоятельства, при которых их племянник оказался сиротой. Но они никогда не обсуждали это с мальчиком. Супруги Дурсль договорились между собой, что попытаются оградить племянника от «всей этой опасной чепухи» и, полагая, что утаивание правды как-то защитит Гарри, ничего ему не говорили о родителях. Более того, они считали, что чем меньше мальчик получает удовольствий, тем лучше и «правильней» он вырастет. Так Гарри провёл десять несчастливых лет в строгом доме дяди и тёти, ничего не зная о своих родителях, будучи уверен, что они погибли в автокатастрофе (так ему сказали) и даже не догадываясь, что он сын волшебников.\\nЖизнь вместе с Дурслями была ужасной. Ну, по крайней мере, так её воспринимает Гарри. Нет, Поттера не морили голодом, не избивали каждый день и даже позволяли иногда смотреть телевизор. Но всё же мальчик чувствовал себя в доме дяди и тёти так, будто был грязной вонючей собакой, неизвестно зачем забредшей в этот чистенький дом.\\n\\nПри всём этом Дурсли до безумия любили и всячески баловали своего сына Дадли. Гарри был вынужден донашивать вещи после него, а так как Дадли был слишком большим и толстым, Поттер всегда носил мешковатую одежду. Хотя младший Дурсль имел целых две спальни (одну он использовал как кладовку для поломанных игрушек), Гарри проводил ночи под лестницей в крохотном чулане. Чувствуя отношение родителей к кузену, Дадли регулярно задирал его, при каждом удобном случае бил мальчика и науськивал на него своих дружков.\\n\\nПозже Гарри узнал, что нахождение в этом «доме-тюрьме» было необходимо. Его мать перед смертью дала ему непреодолимую защиту. Защиту собственной, материнской крови. И тётя Петуния, которая была её родной сестрой, приняв сироту в свой дом, поддержала эту защиту. Таким образом для Волан-де-Морта и его приспешников Гарри был недоступен, но эта защита могла действовать либо до наступления совершеннолетия, либо до того момента, когда Поттер перестанет считать дом на Тисовой улице своим домом.\\n\\nЗа Гарри в Литтл Уингинге приглядывала соседка, миссис Фигг. Когда Дурслям надо было всей семьёй уехать из дома, мальчика оставляли на её попечении. Каково же было удивление Гарри, когда он узнал, что эта сумасшедшая кошатница — сквиб, и что она работает на Орден Феникса.\\n\\nТы волшебник, Гарри\\nTumblr lmi2w1Payr1qgee74o1 500\\nПисьма из камина\\n\\nДни рождения Гарри в доме Дурслей никогда не отмечали, но незадолго до одиннадцатилетия ему прислали письмо из Хогвартса, которое сильно напугало его дядю и тётю. На конверте стоял подозрительно точный адрес: «чулан под лестницей», и Дурсли поспешили переселить племянника в самую маленькую спальню. Письмо они ему не отдали, надеясь, что всё утрясётся как-нибудь само собой. Но письма продолжали приходить, и чем дальше, тем их было больше. Пытаясь скрыться от неизвестного, который так жаждет пообщаться с маленьким Поттером, дядя Вернон, в конце концов, укрылся со всем семейством на скалистом острове в утлой хижине.\\n\\nThe keeper of the key\\nРубеус Хагрид принёс Гарри письмо. Теперь Дурсли не смогут помешать прочесть его\\n\\nЭто происходило как раз накануне 31 июля, дня рождения Гарри. Ровно в полночь, в грозу в хижину явился Рубеус Хагрид и лично принёс письмо из Хогвартса. Он рассказал мальчику о том, как умерли его родители на самом деле, и что он с рождения зачислен в Школу чародейства и волшебства, а наутро забрал Гарри с собой в Лондон, чтобы купить всё необходимое для учёбы.\\n\\nЭто был первый день рождения, когда Гарри получил настоящие подарки. Хагрид специально для мальчика испёк торт и позже купил ему сову, которой Гарри дал имя Букля. В Косом Переулке Гарри убедился, что знаменит среди магического сообщества. Также он познакомился с Драко Малфоем и с первой же встречи невзлюбил его, так как своей заносчивостью и спесивостью он очень напоминал кузена Дадли, а кроме того, оскорбил Хагрида (не зная, что Гарри знаком с ним) — первого и единственного на тот момент друга Поттера. Ещё Гарри узнал, что родители оставили ему приличное состояние, которое хранится в ячейке магического банка Гринготтс.\\n\\nПервый год в Хогвартсе\\nHarryQuillSS\\nПервый год Гарри в Хогвартсе\\n\\nМесяц спустя — 1 сентября, перед самым отъездом в Хогвартс, Гарри встретился с Молли Уизли и её детьми — Джинни, Фредом, Джорджем, Перси и Роном. Когда Гарри сел на Хогвартс-экспресс, к нему в купе присоединился Рон со своим питомцем — крысой Коростой. Позже к ребятам заглянули Гермиона Грейнджер и Невилл Долгопупс. С ними в дальнейшем Гарри Поттер подружился на всю жизнь.\\n\\nВ Хогвартсе первокурсников встретила декан факультета Гриффиндор — Минерва Макгонагалл. Гарри, Рона, Гермиону, Невилла и некоторых других первокурсников Распределяющая шляпа определила в Гриффиндор. По завершении пира в честь начала нового учебного года, ученики спели гимн Хогвартса, после чего старосты отвели первокурсников своих факультетов в их гостиные.\\n\\nHarry and Hedwig\\nБосой Гарри и Букля на подоконнике в Хогвартсе, ночь с 1 на 2 сентября 1991 года\\n\\nГарри неплохо освоился в школе, а в умении летать на метле проявил такие способности, что его приняли в команду Гриффиндора по квиддичу. Так он стал самым юным ловцом за последние сто лет.\\n\\nНа Хэллоуин в Хогвартс проник тролль. Перед этим Гермиона, обиженная Роном, не пошла на пир, а заперлась в туалете, куда в итоге и забрёл монстр. Гарри и Рон бросились спасать Гермиону и одолели тролля. Этот случай скрепил их дружбу навек. А впереди у них было ещё немало интересных и опасных приключений...\\n\\nHarryronhermoine\\nРон, Гарри и Гермиона\\n\\nPromoHP1 Ron and Harry\\nГарри и Рон на первом курсе\\n\\nМежду тем, давно исчезнувший лорд Волан-де-Морт, как выяснится в дальнейшем, тайно возвратился в Хогвартс. Для этого он использовал тело профессора защиты от Тёмных искусств Квиринуса Квиррелла, в которое вселился как паразит. Хозяин и его слуга пытались заполучить Философский камень, решив с его помощью восстановить тело Тёмного Лорда. Однако, в самом конце учебного года планы Волан-де-Морта были расстроены Гарри Поттером, которому помогли друзья — Рон и Гермиона. Общими усилиями им удалось отсрочить возвращение сил тьмы.\\n\\nВторой год в Хогвартсе\\nHarryBench\\nДобби шпионит за Гарри\\n\\nВ свой двенадцатый день рождения, в доме дяди и тёти, Гарри неожиданно встретился со странным существом по имени Добби, сообщившем мальчику о том, что в Хогвартсе в новом учебном году ему будет угрожать большая опасность и настаивавшем на том, что Поттер не должен возвращаться в школу. Гарри ответил решительным отказом, после чего новый знакомый навлёк на него крупные неприятности, и кто знает, чем бы всё закончилось, если бы в одну прекрасную ночь за Поттером не прибыли на летающем автомобиле братья Уизли, забравшие друга к себе в «Нору», где он и провёл остаток каникул.\\n\\nВ Хогвартсе преподавателем по ЗОТИ стал Златопуст Локонс, известный многочисленными подвигами, описанными в его собственных книгах. Между тем, слова Добби начали подтверждаться. В Хогвартсе стали происходить страшные события: объявился некий «наследник Слизерина», который открыл Тайную комнату и выпустил оттуда ужас Слизерина, чтобы «очистить школу от грязнокровок». Вначале кошка Филча, а потом несколько учеников и даже привидение Гриффиндора оказались на больничной койке в парализованном состоянии.\\n\\nНеожиданно для всех, в том числе и для самого Гарри, стало известно, что Поттер говорит на Парселтанге, змеином языке. Большинство учеников начало подозревать мальчика в том, что он и есть наследник Слизерина, а Гарри, Рон и Гермиона в свою очередь заподозрили Драко Малфоя и даже перевоплотились с помощью оборотного зелья в его друзей, чтобы всё выяснить. Однако оказалось, что Драко не являлся наследником Слизерина. Вскоре одной из жертв очередного нападения стала сама Гермиона. Министерство магии возложило вину на Рубеуса Хагрида, отправив его в Азкабан. Но лесничий успел дать Гарри и Рону подсказку; воспользовавшись ей, мальчики попали в логово акромантулов и узнали от Арагога, что Хагрид не открывал Тайную комнату. (Правда, спастись оттуда им удалось лишь чудом: Арагог запретил паукам нападать на Хагрида, но на его друзей это не распространялось.)\\n\\nВ действительности происходившие события имели совсем иную подоплёку: сестра Рона Джинни Уизли попала под влияние дневника Тома Реддла (он был подброшен ей Люциусом Малфоем в книжном магазине). Часть души Реддла, заключённая в дневнике, заставляла девочку выпускать из Комнаты василиска, натравливать его на учеников, писать кровью послания на стене и делать всякие другие, мягко говоря, нехорошие вещи. При этом Джинни не осознавала, что делает: целые часы жизни просто вылетали у неё из памяти («Кто-то перебил всех петухов, а кровь и перья почему-то на моей мантии»)...\\n\\nВ результате поисков, Гарри, при поддержке Рона и Гермионы, удалось найти Тайную комнату и проникнуть туда, использовав змеиный язык. Попутно Рон и Гарри выяснили, что Локонс на самом деле не совершал никаких подвигов, а лишь присваивал заслуги других волшебников. Гарри узнал что встреченный им в Тайной комнате призрачный Том Реддл и Волан-де-Морт это одно и тоже лицо, и именно он является наследником Слизерина. Реддл попытался прикончить мальчика, напустив на него василиска. Но Гарри с помощью меча Годрика Гриффиндора и феникса Фоукса смог победить монстра и, воспользовавшись его же ядовитым клыком, уничтожить дневник Тома. Это спасло едва не погибшую Джинни, призрак же Реддла бесследно исчез. В заключение Поттер, прибегнув к хитрости, ещё и освободил домашнего эльфа Добби от его деспотичного хозяина Люциуса Малфоя.\\n\\nТретий год в Хогвартсе\\nHarrypotter1.jpgІди до мене.jpg\\nГарри и Клювокрыл\\nЗбори.jpg\\nГарри получает Карту Мародёров\\nАга - зловився.jpg\\nГарри попался Снеггу\\nБазар.jpg\\nС Римусом в кабинете ЗОТИ\\nСтеження.jpg\\nВ пабе «Три метлы» под мантией невидимкой\\nHarrypatronus.jpg\\nГарри вызывает Патронус\\nСириус.png\\nГарри и Сириус без сознания\\nВ 1993 году Сириусу Блэку удалось сбежать из Азкабана. Все считали, что именно Гарри Поттер является его целью, что Блэк жаждет отомстить ему за падение Тёмного лорда. В связи с этим Министерство магии усилило охрану Хогвартса и выставило вокруг замка посты дементоров.\\n\\nС этого года Гарри мог бы ходить в Хогсмид, деревню рядом с Хогвартсом, населённую исключительно магами, если бы Дурсли подписали ему письменное разрешение. Но те так и не подписали и не подпишут уже никогда... К счастью, Гарри получил в подарок от Фреда и Джорджа Уизли «карту Мародёров» — магическую карту Хогвартса, где показаны все закоулки замка и окрестностей и на которой видно, кто и куда перемещается. Используя мантию-невидимку и показанный на Карте потайной ход, Гарри несколько раз пробирался в Хогсмид.\\n\\nВо время матча «Гриффиндор-Пуффендуй» у Гарри сломалась его старая метла, «Нимбус-2000», но на Рождество мальчик получил от кого-то в подарок «Молнию», последнюю модель гоночной метлы международного класса. Гермиона Грейнджер заподозрила, что метла прислана Сириусом Блэком, желающим погубить мальчика, но, как оказалось, она не содержит в себе ничего опасного. В это время Гарри узнал, что Сириус — не только его крёстный, он ещё и был лучшим другом его отца. И то, что Блэк попал в Азкабан за выдачу секретного убежища Поттеров врагу и убийство их общего друга Питера, потрясло его до глубины души. Гарри жаждал мести. Однако спустя время он узнал правду: Сириус невиновен, а Поттеров предал Петтигрю, который подставил Сириуса. Являясь незарегистрированным анимагом, Питер все эти годы скрывался в виде крысы Коросты в семье Уизли. После того, как всё всплыло наружу, Питер сбежал, а в это время Гарри оказался вынужден спасать Сириуса от нападения дементоров, вызвав патронуса, а затем организовывать его побег. В итоге, не без помощи Гарри и Гермионы, Сириусу удалось покинуть Хогвартс, хотя он по-прежнему был вынужден скрываться от Министерства магии.\\n\\nЧетвёртый год в Хогвартсе\\nHarryhungarian\\nГарри пытается уйти от венгерской хвостороги во время первого задания на Турнире трёх волшебников\\n\\nВ 1994 году Хогвартс принимал возобновлённый Турнир Трёх Волшебников, для участия в котором прибыли ученики Шармбатона и Дурмстранга. Кубок Огня должен был выбрать трёх Чемпионов — по одному от каждой школы, но, по неизвестным причинам, он выбрал ещё и Гарри, которому пришлось участвовать наравне со всеми. С этого момента его жизнь изменилась в худшую сторону: все обвиняли его в мошенничестве, и даже Рон разделял это мнение. Положение изменилось только после первого испытания, когда всем стало ясно: тот, кто подкинул имя Гарри в Кубок, хотел его смерти.\\n\\nYule Ball date\\nГарри и Парвати на Святочном балу\\n\\nВ финальном состязании Гарри и Седрик Диггори прошли лабиринт практически одновременно. Поэтому вместе взялись за Кубок Турнира, думая, что это конец Турнира. Но кубок оказался порталом, который переместил мальчиков на большое расстояние от Хогвартса — на кладбище. Там их уже поджидали Волан-де-Морт и Питер Петтигрю, по приказу своего хозяина убивший Седрика. Оказалось, что Гарри был нужен Тёмному Лорду для тёмного ритуала возрождения, в котором Волан-де-Морт хотел использовать его кровь. На зов восставшего господина на кладбище явились Пожиратели смерти, которые поклялись ему в своей вечной верности. Чтобы доказать, что события в Годриковой впадине были случайностью, Волан-де-Морт принудил Гарри к дуэли. Во время схватки их палочки неожиданно блокировали друг друга, вызвав тем самым эффект, называемый Приори Инкантатем. Это позволило Гарри еще раз использовать портал и вместе с телом Седрика переместиться обратно в Хогвартс.\\n\\nВ конце концов, выяснилось, что в Хогвартсе действовал шпион Волан-де-Морта Барти Крауч-младший, принявший вид бывшего мракоборца Аластора Грюма, приглашённого преподавать защиту от Тёмных искусств. Именно он бросил имя Гарри в Кубок, он содействовал победе Поттера в турнире, он же превратил Кубок Турнира в портал. Когда обман вскрылся, Министерство магии прислало дементора для казни Барти Крауча-младшего, отказавшись признать то, что Тёмный Лорд вернулся в мир.\\n\\nПятый год в Хогвартсе\\nГарри чудится Волдеморт\\nГарри чувствует присутствие Волан-де-Морта\\n\\nЛетом Гарри тяжело переживал гибель Седрика Диггори. А тут ещё Долорес Амбридж, помощник министра магии, послала в Литтл Уингинг дементоров, чтобы они напали на Гарри. Гарри пришлось вызвать Патронуса, чтобы спасти себя и Дадли. За применение магии вне школы его вызвали на дисциплинарное слушание в Визенгамот. Но, благодаря помощи Альбуса Дамблдора, Гарри выиграл дело.\\n\\nНастоящий Аластор Грюм и команда мракоборцев доставили Гарри в штаб-квартиру Ордена Феникса на Площадь Гриммо, 12, расположенную в доме Сириуса Блэка.\\n\\nОтряд Дамблдора \\nГарри показывает ребятам Заклинание\\n\\nКорнелиус Фадж назначил Долорес Амбридж преподавателем защиты от Тёмных искусств, чтобы иметь в Хогвартсе своего человека. Позже он сделал её Генеральным инспектором, наделив полномочиями единолично устанавливать школьные порядки. Кроме скучных рассуждений, Амбридж ничего не давала ученикам на своих уроках. Поэтому Гермиона убедила Гарри в необходимости создать «кружок по обучению защите от Тёмных искусств». Так был создан Отряд Дамблдора.\\n\\nDepartment of Mysteries\\nЧлены Отряда Дамблдора, слева направо: Рон, Полумна, Невилл, Гермиона, Гарри и Джинни\\n\\nВолан-де-Морт хотел заполучить «секретное оружие» против Поттера. Этим оружием он считал Пророчество, хранящееся в Министерстве магии. В конце концов, ему удалось заманить туда Гарри. Вместе с членами ОД Роном Уизли, Гермионой Грейнджер, Джинни Уизли, Невиллом Долгопупсом и Полумной Лавгуд, Поттер отправился в министерство, чтобы спасти Сириуса, которого, как Гарри увидел в ложном видении, пытал Волан-де-Морт. Там, в отделе тайн, ребят встретили Пожиратели смерти. Завязалось неравное сражение. К счастью, на помощь юным волшебникам подоспели члены Ордена Феникса. В жаркой схватке на глазах у Гарри погиб Сириус Блэк. Чувствуя, что Пожиратели не справляются с задачей, Лорд Волан-де-Морт самолично явился в Министерство. Так Гарри уже в четвёртый раз столкнулся лицом к лицу со своим заклятым врагом. Но в это время появился Дамблдор, чем спас Гарри: сил пятнадцатилетнего чародея явно не хватило бы на победу над самым могущественным тёмным магом современности. Тёмный Лорд оказался вынужден скрыться, но его успели увидеть прибывшие в Министерство Корнелиус Фадж и многие другие работники. Отрицать возвращение Волан-де-Морта после этого стало невозможно.\\n\\nШестой год в Хогвартсе\\nHP6D-08263\\nГарри Поттер — лучший ученик курса\\n\\nСлухи о появлении Волан-де-Морта в Министерстве магии и сражении с ним Гарри поползли среди волшебников. Теперь многие стали называть Поттера «Избранным», и новый министр Руфус Скримджер попытался заполучить в свой штат «мальчика для рекламы». Известность уже давно встала Гарри поперёк горла. Он всё ещё не успокоился после смерти Сириуса, и наследование всего имущества крёстного оказалось только лишним напоминанием об утрате.\\n\\nВ Хогвартсе наметились кадровые перестановки. И дело не только в том, что Поттер стал капитаном гриффиндорской команды по квиддичу. Намного важнее то, что Северус Снегг получил долгожданное место профессора Защиты от Тёмных искусств, а освободившееся место преподавателя зельеварения занял Гораций Слизнорт. С этим назначением у Гарри появилась возможность стать мракоборцем: необходимую подготовку по зельеварению к ЖАБА профессор Слизнорт, в отличие от Снегга, был согласен проводить и с учениками, которые набрали на СОВ только «выше ожидаемого». У Гарри, который поставил было крест на зельеварении, не оказалось учебника, и профессор Слизнорт дал ему какой-то старый экземпляр до получения новой книги из «Флориш и Блоттс». Старый учебник принадлежал когда-то некоему «Принцу-полукровке», и предыдущий владелец оставил на полях многочисленные пометки: советы, заклинания, уточнения к рецептам, благодаря которым Гарри стал преуспевать в зельеварении и даже выиграл на первом же занятии флакон с Феликс Фелицис.\\n\\nДамблдор начал персонально заниматься с Гарри. Они просматривали воспоминания различных людей, касающиеся детства и юности Волан-де-Морта. Дамблдор подозревал, что, охваченный манией бессмертия, Волан-де-Морт расколол свою душу на несколько (предположительно семь) фрагментов и упрятал их в предметы, которые называются Крестражами. Директор подсказал Гарри, в какие артефакты Тёмный Лорд вложил куски своей души. Два крестража к этому моменту уже были уничтожены: дневник Тома Реддла и кольцо Марволо Мракса. Гарри и Дамблдор отправились вместе на поиски очередного крестража в пещеру у берега моря, где Дамблдор, чтобы добыть крестраж, выпил смертельный напиток.\\n\\nКогда они вернулись, то застали в Хогвартсе пожирателей смерти. В эту ночь Драко Малфой, недруг Гарри ещё с первого курса, провёл их в замок. Они должны были помочь юноше выполнить волю Волан-де-Морта: убить Альбуса Дамблдора. Однако Драко не хватило воли сделать это, и директора убил Северус Снегг. Перед тем, как покинуть школу вместе с Драко Малфоем, Снегг заявил Гарри, что это он в школьные годы называл себя «Принцем-полукровкой». Гарри подобрал возле тела Дамблдора медальон, взятый в пещере. В выпавшей из медальона записке, подписанной неким «Р.А.Б.» говорилось о том, что истинный крестраж похищен. Выходило так, что смерть Дамблдора была напрасной.\\n\\nОхота за Крестражами\\nБолее подробно см. статьи: Гарри Поттер и Дары Смерти, раздел «Сюжет книги», Медальон Слизерина, Чаша Пенелопы Пуффендуй, Диадема Кандиды Когтевран\\nРозмова\\nГарри разговаривает с Элфиасом\\n\\nПосле смерти Альбуса Дамблдора Гарри осознал, что только ему, Рону и Гермионе известна страшная тайна Тёмного Лорда. Лишь они втроём могли найти и уничтожить четыре оставшихся крестража: артефакты, которые делают Волан-де-Морта бессмертным. Гарри знал наверняка, что три из них — это Медальон Слизерина, Чаша Пуффендуй и змея Волан-де-Морта Нагайна. И ещё один предмет, который принадлежал ранее либо Кандиде Когтевран, либо Годрику Гриффиндору... Максимально обезопасив свои семьи от преследования Пожирателями смерти и решив, что учёба в Хогвартсе им только помешает, ребята отправились на поиски.\\n\\n131149219198\\nНЕЖЕЛАТЕЛЬНОЕ ЛИЦО №1\\n\\nHP7 Harry Potter\\nГарри и Гермиона остро переживают уход Рона\\n\\nGarri-potter-dary-smerty.ru3\\nДобби спасает Гарри Поттера и его друзей из поместья Малфоев\\n\\nВначале они имели одну единственную зацепку — ложный крестраж-медальон с запиской некоего Р.А.Б. Друзьям повезло: они случайно узнали, что автор записки — Регулус Арктурус Блэк, младший брат Сириуса. Пытаясь узнать о давно умершем Регулусе и о настоящем крестраже, ребята расспросили домового эльфа семьи Блэков Кикимера. По его рассказу и с его помощью они вышли на Наземникуса Флетчера, из показаний которого стало ясно, что сейчас искомый Медальон находится у помощницы министра Долорес Амбридж. Гарри, Рон и Гермиона организовали очень рискованную операцию, сумев выкрасть Медальон Слизерина прямо из министерства магии. После этого в поисках возникла большая пауза: ребята не имели ни малейшего понятия, где надо искать другие крестражи, а тот, который они добыли, не могли уничтожить. Эту патовую ситуацию поменяно обретение меча Гриффиндора, к чему (как выяснится много позже) приложил руку ни кто иной, как Северус Снегг. Дальше дело пошло веселей. С помощью Меча Рон разбил Медальон. А когда ребят схватили охотники за головами и привели их в имение Малфоев, именно наличие меча Гриффиндора довело до белого каления Беллатрису Лестрейндж. И Гарри понял — она прятала в своём сейфе в Гринготтсе, вместе с древним Мечом (точнее, его копией, о чём Беллатриса не знала), ещё что-то весьма ценное для её ненаглядного Хозяина. Вырвавшись на свободу, Гарри, Рон и Гермиона, при поддержке гоблина Крюкохвата, организовали налёт на банк волшебников и похитили из сейфа Лестрейнджей Чашу Пуффендуй. Правда, при этом ребята лишились Меча Гриффиндора.\\n\\nHelena Ravenclaw\\nСерая Дама открыла свой секрет только двоим студентам Хогвартса: Тому Реддлу и Гарри Поттеру.\\n\\n398370440\\nГарри Поттер пытается убить Тёмного Лорда\\n\\nИз очередного видения Волан-де-Морта Гарри узнал, что следующий крестраж находится в Хогвартсе, куда друзья и устремились. Почувствовав, что и сам Тёмный Лорд собрался прибыть в Хогвартс, Поттер предупредил об опасности деканов факультетов. Сведя воедино рассказы когтевранцев, Серой Дамы и свои собственные наблюдения, Гарри догадался, что крестраж спрятан в Выручай-комнате.\\n\\nТем временем Рон и Гермиона спустились в Тайную комнату, где всё ещё лежали останки убитого василиска. Яд его клыков до сих пор сохранял свою смертоносную силу и вполне подходил для уничтожения крестражей. Чашу Гермиона проткнула прямо в Тайной комнате, и несколько клыков они с Роном забрали с собой.\\n\\nHarry and Ginny kiss\\nГарри и Джинни перед финальной битвой Второй магической войны\\n\\nДиадему Кандиды Когтевран ребята действительно нашли в Выручай-комнате, но туда смогли зайти и Драко Малфой с Гойлом и Крэббом. В ходе сражения между тремя гриффиндорцами и тремя слизеринцами Крэбб вызывал Адское пламя, которое охватило всю Комнату и сожгло не только найденный крестраж, но и самого Крэбба. В последний момент остальные ребята успели вылететь наружу, при этом Гарри взял на свою метлу Драко, а Рон и Гермиона — бесчувственного Гойла.\\n\\nУдар\\nГарри сбивает Пожирателя\\n\\nТем временем на Хогвартс напали полчища приспешников Волан-де-Морта. Старшекурсники и преподаватели Хогвартса организовали сопротивление. Сам Волан-де-Морт убил Северуса Снегга, полагая, что это сделает его полноправным владельцем Бузинной палочки. Но перед самой смертью Снегг успел отдать Гарри свои воспоминания. Юноша, просмотрев воспоминания Снегга в Омуте памяти, узнал, что является седьмым крестражем, о существовании которого не знал даже сам Тёмный Лорд. Гарри понял, что если он хочет смерти Волан-де-Морта, то должен принять смерть от его руки. Тяжело умирать молодым. Вдвойне тяжелей пойти на эту смерть осознанно. Гарри шёл под мантией-невидимкой, сжав в руке палочку Драко Малфоя, которая вобрала в себя силу Бузинной палочки, и открыв завещанный Дамблдором снитч, в котором оказался Воскрешающий камень. В этот момент Гарри Поттер собрал воедино все три Дара Смерти, но не для того, чтобы стать Повелителем смерти, а для того, чтобы ему хватило душевных сил эту смерть принять. Возможно, ещё и поэтому ему в итоге удалось вернуться в мир живых. Но теперь уже — без куска души Волан-де-Морта внутри.\\n\\nТем, что Гарри добровольно принёс себя в жертву, он оградил от смерти всех защитников Хогвартса, подобно тому, как его мать оградила сына от убийцы, пожертвовав собой.\\n\\nТем временем Волан-де-Морт, ни капли не сомневающийся в своей окончательной победе, направился со своими приспешниками в Хогвартс, чтобы погасить последние очаги сопротивления. Ослеплённый видом поверженного противника, он не замечал, как ослабли его заклинания, как легко сбрасывали защитники замка его чары... Воспользовавшись суматохой, когда в битву вступили новые силы (на поле перед Хогвартсом появились фестралы с Клювокрылом и кентавры), Гарри (под мантией-невидимкой) вновь вступил в схватку, а Невилл Долгопупс убил Нагайну мечом Гриффиндора, который он вытащил из Распределяющей шляпы. Последний крестраж Волан-де-Морта оказался уничтожен.\\n\\nHarry disarms Tom\\nВ финальном бою с Волан-де-Мортом\\n\\nГарри появился в разгар схватки в Большом зале, где Волан-де-Морт и Беллатриса Лестрейндж, едва ли не последние из всего войска Тёмного Лорда, отчаянно сопротивлялись. Когда Молли Уизли убила Беллу, Гарри не дав Волан-де-Морту напасть на миссис Уизли, опустил между ними Щитовые чары и сбросил мантию-невидимку. По рядам защитников Хогвартса пронёсся вздох удивления. Начался самый главный поединок поттерианы: поединок между Томом Реддлом и Гарри Поттером. И когда Волан-де-Морт попытался наложить на Гарри убивающее заклятие, Бузинная палочка не пожелала подчиниться ему и убить своего истинного хозяина (Гарри), заклинание обернулось против самого Волан-де-Морта, и его не стало, на этот раз навсегда.\\nНа родину\\nЗаконный хозяин и Бузинная палочка воссоединились\\n\\nВ результате всех этих событий Гарри Поттер стал владельцем всех Даров Смерти, из которых он оставил у себя только мантию-невидимку. Воскрешающий камень он выронил где-то в Запретном лесу и не собирался его искать, Бузинную палочку вернул обратно в гробницу Дамблдора.\\n\\nС уничтожением Волан-де-Морта Гарри потерял способность говорить на змеином языке и понимать его.\\n\\nДальнейшая судьба\\nGarri potter 385d4610.jpg\\nГарри, его жена Джинни и их сын Альбус Северус\\nMinistry ID Base - Inside Pages HP ID 2 bfd.jpg\\nИдентификационная карта мракоборца Гарри Поттера\\nMinistry Business Card HP bfd.jpgHarry Potter age 37.png\\nГарри в 37 лет\\nО том, как и когда Поттер завершил своё образование и сдал экзамен ЖАБА, в каноне ничего не говорится. По идее, как волшебник, ставший сотрудником Министерства Магии, он обязан был это сделать; с другой стороны, есть свидетельство (статья «Воссоединение Отряда Дамблдора на финале Чемпионата мира по квиддичу»), согласно которому, Гарри (вместе с Роном) поступил на службу в Министерство сразу после Битвы за Хогвартс.\\n\\nГарри Поттер стал мужем Джинни Уизли и отцом троих их детей: сыновей Джеймса Сириуса Поттера, Альбуса Северуса Поттера и дочери Лили Полумны Поттер.\\n\\nВ возрасте 27 лет он возглавил отдел мракоборцев. Гарри также добился, чтобы портрет профессора Снегга повесили в директорском кабинете. Каждый год Поттера приглашают в Хогвартс провести несколько лекций по защите от Тёмных искусств.\\n\\nГарри продолжил поддерживать тесные дружеские связи с Роном и Гермионой, с которыми он теперь, благодаря Джинни, породнился. Принял очень деятельное участие в судьбе крестника Тедди Люпина, навещал Хагрида и Невилла Долгопупса.\\n\\nВ 2014 году он посетил Чемпионат мира по квиддичу в Аргентине, вместе со своими сыновьями и друзьями. Гарри познакомил детей с Виктором Крамом и болел за Сборную Болгарии, ловцом который являлся его старый знакомый Виктор Крам.\\n\\nДо сих пор остаётся в силе предсказание профессора Трелони о том, что Гарри вовсе не умрёт в юном возрасте, а доживёт до преклонных лет и станет министром магии и отцом двенадцати детей («Гарри Поттер и Орден Феникса»). Первая его часть уже сбылась, но исполнится ли оно целиком, Джоан Роулинг пока не сообщает.\\n\\nГарри Поттер и Проклятое дитя\\nВ августе 2020 года Гарри Поттер, глава Отдела магического правопорядка, изъял из дома Теодора Нотта, сына Пожирателя смерти, незарегистрированный маховик времени. Этот прототип позволял путешествовать очень далеко в прошлое и оставаться там до пяти минут. Такое устройство могло стать причиной катастрофических изменений во времени. Поэтому Теодора Нотта арестовывают.\\n\\nМаховик Нотта спрятали со всеми магическими предосторожностями в кабинете Министра магии Гермионы Грейнджер. Но, несмотря на все эти меры, Альбус Поттер и Скорпиус Малфой украли артефакт, чтобы спасти Седрика Диггори и вернуть сына его отцу, Амосу. Мальчики раз за разом пытались переписать историю, чиня всяческие препятствия Седрику в 1994 году, чтобы он не смог дойти до третьего задания Турнира Трёх Волшебников и остался бы в живых. И раз за разом их старания приводили к «эффекту бабочки», весьма драматическим и даже трагическим образом изменявшему настоящее.\\n\\nВ одном из вариантов прошлого Диггори всё равно погиб, но судьба героев сильно изменилась самым причудливым образом: Рон женат на Падме Патил, Гермиона — противная училка в Хогвартсе. В следующем варианте, когда Седрик остался жив, он стал Пожирателем смерти и в Битве за Хогвартс убил Невилла Долгопупса, а значит, Нагайна не была уничтожена, Тёмный Лорд убил Гарри Поттера и остался у власти. Всё это привело к тому, что Альбус Поттер вообще не родился. Преодолев множество препятствий, герои в итоге возвратили реальность к исходному состоянию.\\n\\nОднако, позже Дельфи Реддл (дочь Волан-де-Морта и Беллатрисы Лестрейндж) взяла Альбуса и Скорпиуса в плен и перенеслась вместе с ними сначала в 24 июня 1995 года, а потом и в 30 октября 1981 года, чтобы спасти своего отца. Там она уничтожила маховик времени, чтобы не вернуться в настоящее через пять минут.\\n\\nА в настоящем времени Гарри получил сообщение от Альбуса, которое они со Скорпиусом послали довольно экзотическим способом: записав его на одеяльце маленького Гарри. С помощью усовершенствованного маховика, хранившегося у Люциуса Малфоя, Гарри с Роном, Гермионой, Джинни и Драко Малфоем (беда сплотила бывших недругов) отправились в 1981 год. Совместными усилиями двух поколений Дельфи была побеждена, и вся компания вернулась «назад в будущее».\\n\\nМагическая сила и навыки\\nнавык/сила\\t \\nСпособности к защите от Тёмных искусств\\tУ Гарри Поттера особенный талант к защите от Тёмных искусств.\\nТалант к полётам\\tВрождённая способность подчинять полёт метлы малейшим своим желаниям не только сделала Гарри самым юным ловцом за последние сто лет, но и не раз спасала ему жизнь.\\nЗаклинание «Патронус»\\tГарри демонстрировал телесного Патронуса (Патронус в виде животного, а не серебристого облачка) уже в возрасте 13 лет. Многие волшебники не умеют этого и в зрелом возрасте.\\nЗмеиный язык\\tГарри мог разговаривать на змеином языке, способность к которому ассоциируется с тёмными волшебниками, он приобрёл эту способность вместе с частью души лорда Волан-де-Морта. После уничтожения части души Гарри утратил этот дар.\\nХозяин Даров Смерти\\tГарри удалось собрать все три старинных магических артефакта, называемых Дары Смерти, владелец которых мог стать хозяином Смерти. При этом юноша не стремился ими завладеть, а завладев, не стал избегать смерти, но принял её как данность, как неизбежный итог. Возможно, ещё и поэтому Смерть отпустила его обратно в мир живых.\\nИмущество\\nимущество\\t \\nСбережения Поттеров\\tКогда родители Гарри трагически погибли, он унаследовал вполне достаточные сбережения, хранящиеся в ячейке 687 Гринготтса и благодаря которым Гарри не испытывал нужды во всех необходимых для учёбы в Хогвартсе принадлежностях, книгах, колдовской одежде и в карманных деньгах.\\nВолшебная палочка\\tПалочка, выбравшая Гарри, сделана из остролиста, дерева, отгоняющего силы зла. Намеренно противоположна палочке из тиса Волан-де-Морта. Сердцевиной обеих палочек послужили перья из хвоста феникса Фоукса.\\nМантия-невидимка\\tОчень ценный артефакт, который Гарри получил как подарок на Рождество на первом году обучения в Хогвартсе. Позже он узнал, что мантия раньше принадлежала его отцу, а Альбус Дамблдор всего лишь передал её сыну. Несколько лет спустя Гарри узнал, что именно эта мантия-невидимка является одним из Даров Смерти.\\nМетла Нимбус-2000\\tБыла подарена Гарри администрацией Хогвартса (или лично профессором Макгонагалл) в сентябре 1991 года, как перспективному ловцу сборной Гриффиндора по квиддичу. Метла сломалась в бурю во время матча Гриффиндор-Пуффендуй в ноябре 1993 года.\\nМетла Молния\\tИнкогнито подарена Гарри на Рождество 1993 года Сириусом Блэком. На тот момент — лучшая спортивная метла. Уничтожена во время операции «Семь Поттеров» в июле 1997 года.\\nКоммуникационное («сквозное») зеркало\\tОдно из двух зеркал, которое подарил Гарри его крёстный Сириус Блэк. При помощи одного зеркала можно переговариваться с обладателем другого. Даже посредством разбитого зеркала, Гарри удалось связаться с Аберфортом Дамблдором, когда он с друзьями был схвачен и заперт в особняке Малфоев.\\nБукля\\tСова Гарри, которая составляла ему компанию и была жизненно необходима, чтобы доставлять сообщения для Гарри или от него, особенно в укрытие Сириуса. Букля была поражена убивающим заклятием при операции «Семь Поттеров».\\nПосле смерти Сириуса Гарри унаследовал всё, что когда-то принадлежало его крёстному:\\nРезиденция семьи Блэков\\tРасположенный на площади Гриммо, 12 дом и всё имущество, что находится внутри, включая Кикимера (фамильного домашнего эльфа). (Правда, достаточно много оттуда утащил Наземникус Флетчер, включая медальон Слизерина.)\\nСбережения Блэков\\tГарри унаследовал состояние Сириуса в ячейке Гринготтса.\\nГарри Джеймс Поттер\\nИнформация о крестраже\\nТип\\t\\nзащитное средство\\n\\nСоздатель\\t\\nВолан-де-Морт\\n\\nПредназначение\\t\\nделать бессмертным\\n\\nХарактеристики\\t\\nчеловек\\n\\nУничтожитель\\t\\nВолан-де-Морт\\n\\nЖертва для создания\\t\\nЛили Поттер\\n\\nВещи, которые не совсем принадлежали Гарри:\\n\\nКарта Мародёров — подарена Поттеру близнецами Уизли, но сами близнецы стащили её из кабинета Филча, который, в свою очередь отобрал её у кого-то из Мародёров.\\nУчебник Принца-полукровки — был взят изначально Гарри во временное пользование в кабинете Зельеварения, до того момента, как из магазина должен был придти заказанный новый учебник зельеварения Либациуса Бораго. Однако вместо старого учебника Гарри положил обратно в шкаф новенький экземпляр.\\nПалочка с пером феникса\\nЗ'єднання\\nГарри и его палочка\\n\\nВолшебная палочка Гарри Поттера длиной 28 сантиметров (11 дюймов) сделана из остролиста, с сердцевиной из пера феникса, её сделал мастер Олливандер. Палочка Поттера необычна: у неё есть палочка-близнец, сердцевина которой тоже содержит перо из хвоста того же феникса. Только вторая палочка сделана из тиса. Эта тисовая палочка выбрала своим хозяином Тома Марволо Реддла намного раньше, чем палочка из остролиста выбрала Поттера. То, что палочки-близнецы выбрали хозяевами двух непримиримых врагов, сыграло большую роль в их дальнейшей судьбе.\\n\\nСемья\\nКровные родственники:\\n\\nСо стороны отца:\\n\\nДжеймс Поттер — отец.\\nФлимонт Поттер — дед.\\nЮфимия Поттер — бабушка.\\nИгнотус Певерелл — предок.\\nМистер Певерелл — предок.\\nЛинфред Стинчкомбский — предок.\\nХардвин Поттер — предок.\\nГенри Поттер — прадед.\\nКарлус Поттер — неизвестно.\\nДорея Блэк (в замужестве Поттер) — неизвестно.\\nСо стороны матери:\\n\\nЛили Эванс (в замужестве Поттер) — мать.\\nПетуния Эванс (в замужестве Дурсль) — тётя.\\nВернон Дурсль — дядя (муж Петунии).\\nДадли Дурсль — двоюродный брат (сын Петунии).\\nМистер Эванс — дед.\\nМиссис Эванс — бабушка.\\nСобственные дети:\\n\\nДжеймс Сириус Поттер — сын.\\nАльбус Северус Поттер — сын.\\nЛили Полумна Поттер — дочь.\\nНекровные родственники:\\n\\nРодственники со стороны жены:\\n\\nДжинни Уизли (в замужестве Поттер) — жена.\\nАртур Уизли — тесть.\\nМолли Уизли (урождённая Пруэтт) — тёща.\\nФабиан и Гидеон Пруэтт — братья Молли. На момент знакомства Гарри с семьёй Уизли были уже мертвы.\\nБилл Уизли — шурин.\\nФлёр Делакур — невестка/сноха (жена Билла).\\nМари-Виктуар Уизли — племянница.\\nДоминик Уизли — племянница.\\nЛуи Уизли — племянник.\\nЧарли Уизли — шурин.\\nПерси Уизли — шурин.\\nОдри Уизли — невестка/сноха (жена Перси).\\nЛюси Уизли — племянница.\\nМолли Уизли (младшая) — племянница.\\nФред Уизли — шурин. На момент женитьбы Гарри на Джинни Уизли был уже мёртв.\\nДжордж Уизли — шурин.\\nАнджелина Джонсон — невестка/сноха (жена Джорджа).\\nФред Уизли (младший) — племянник.\\nРоксана Уизли — племянница.\\nРон Уизли — шурин.\\nГермиона Грейнджер — невестка/сноха (жена Рона).\\nРоза Грейнджер-Уизли — племянница.\\nХьюго Грейнджер-Уизли — племянник.\\nДуховные родственники:\\n\\nСириус Блэк — крёстный отец.\\nТедди Люпин — крестник.\\nМногие персонажи Поттерианы приходятся некровными родственниками Гарри Поттеру. Так, к примеру, главный враг Гарри, Волан-де-Морт, имеет очень дальнее родство с ним через братьев Певереллов: Гарри является потомком Игнотуса, а Том Реддл, судя по всему, потомком Кадма.\\n\\nВзаимоотношения\\nРодители\\nОсенний танец\\nТанец родителей Гарри Поттера\\n\\nСам Гарри едва знал своих родителей (они умерли, когда малышу был всего лишь год с небольшим), но относился к ним с глубоким почтением и любовью. Каждый раз, когда кто-то говорил, что он похож на отца, Гарри испытывал прилив гордости. И любой, кто отзывался о родителях нелестно, возбуждал к себе ненависть мальчика. Естественно, что злобные отзывы профессора Снегга о Джеймсе не добавили теплоты в их отношения. Чувства к отцу поколебались, когда Гарри увидел в Омуте памяти беспричинное нападение Джеймса и Сириуса на безоружного Снегга. Он не перестал после этого любить отца, просто его отношение к нему утратило детскую восторженность.\\n\\nНесколько раз Гарри предоставилась возможность увидеть своих родителей: на магических фотографиях (в альбоме, который собрал для него Рубеус Хагрид), в зеркале Еиналеж[7], во время действия Приори Инкантатем у могилы отца Тома Реддла[5], во время действия Воскрешающего камня[6].\\n\\nДадли\\nThe dursleys\\nДадли в окружении родителей\\n\\nВ детстве Дадли регулярно пытался побить Гарри. По многим причинам. Потому, что Гарри был слабее, потому, что Дадли прощалось всё, потому, что Гарри был совершенно не похож на Дадли, потому, что Дадли так пытался самоутвердиться... Продолжать? Но после того как Дадли узнал, что кузен у него волшебник, он стал относиться к нему с опаской. По крайней мере, задираться к нему Дадли перестал. Но вот, когда мальчишкам было по пятнадцать лет, Гарри спас Дадли от дементоров, несмотря на все их предыдущие отношения. Маглы не могут видеть дементоров, они только чувствуют их присутствие. И Дадли понадобилось два года, чтобы в полной мере осознать происшедшее. При расставании с двоюродным братом перед операцией «Семь Поттеров»,[6] Дадли первый «зарывает топор войны». На прощание они пожимают друг другу руки.\\nРон Уизли\\nHalf-Blood-Prince-ronald-weasley-22901163-1400-2100\\nРон и Гарри в Хогвартсе\\n\\nРон Уизли стал лучшим другом Гарри на первом же году обучения в Хогвартсе. Неконфликтный открытый Рон очень понравился Гарри, а знаменитый Гарри Поттер оказался обычным мальчишкой, что, в свою очередь, очень подходило Рону. Они всегда были словно братья, хотя, как и у всех нормальных людей, у них не обходилось без ссор. Их дружба подверглась испытанию в 1994 году[5], когда Гарри избрали Чемпионом на Турнире Трёх Волшебников. Ещё один раз они поссорились, когда на Рона нагнал депрессию Медальон Слизерина[6]. Тем не менее, все разногласия были разрешены, и ребята остались друзьями на всю жизнь.\\nГермиона Грейнджер\\nFile (2)2\\nНа Четвертом курсе\\n\\nГермиона Грейнджер подружилась с Гарри и Роном, после того как они все вместе встретились лицом к лицу с горным троллем в 1991 году.[7]. С тех пор Гермиона, благодаря своим знаниям, нередко выпутывала неуёмную троицу друзей из неприятностей, в которые они все регулярно попадали.\\n\\nГрейнджер завязала очень крепкую дружбу с Гарри и Роном, она всецело доверяла Гарри, как и он ей. Девушка была честна и душевна с ним, никогда не лгала Поттеру (кроме единственного раза, когда пыталась убедить не только его, но и саму себя в том, что ей плевать, с кем Рон целуется и проводит время), всегда помогала и поддерживала его. Гарри тоже поддерживал Гермиону, когда она была в ссоре с Роном или злилась на него, да и просто в трудные периоды. Во время поиска крестражей, когда Рон ушёл, Гарри всячески пытался поднять своей знакомой настроение.\\n\\nГермиона очень привязалась к Гарри за годы учёбы в Хогвартсе. Она не хотела терять Гарри, что проявилось во время Битвы за Хогвартс, когда Гарри отправился к Волан-де-Морту.\\n\\nНесмотря на попытки разных людей приписать мистеру Поттеру и мисс Грейнджер романтические отношения (Рита Скитер, Чжоу Чанг и даже Рон Уизли), Гермиона никогда не затрагивала сердца Гарри. Она для него — друг и сестра[6] (если хотите, «названая сестра»), чувства между ними достаточно глубокие, но к влюблённости не имеющие ни малейшего отношения.\\n\\nАльбус Дамблдор\\nDumbledorephilstone\\nАльбус Дамблдор\\n\\nОтношения с Альбусом Дамблдором сначала напоминают отношения «Всё понимающий Учитель — несмышлёный Ученик». Совершенно незаметно они перетекают в «Великий полководец — верный Солдат». И хотя бывали случаи, когда Гарри не на шутку сердился на Дамблдора, так что был готов разнести всё вокруг[6][7], в конце концов, он принял старого учителя таким, каков он есть: зная о его недостатках, но высоко ценя его достоинства.\\nСеверус Снегг\\n8PGpICIEbbM\\nПрофессор Снегг\\n\\nВ том, что отношения с профессором Снеггом не сложились с самого начала, виноват всецело Снегг и его давнишняя ненависть к Джеймсу Поттеру, на которого Гарри так похож внешне. Однако довольно быстро мальчик начал платить Мастеру Зелий той же монетой. И даже переплачивать. Он не замечал, что Снегг, как бы язвительно он ни отзывался о Поттере, никогда не делал ему действительного зла, а иногда даже спасал его. Лишь посмотрев воспоминания Снегга, которые тот успел отдать Гарри перед смертью во время Битвы за Хогвартс[6], юноша изменил своё отношение к этому человеку настолько, что своему младшему сыну дал второе имя в честь Северуса Снегга.\\nСириус Блэк\\nSirius 1998\\nСириус\\n\\nСириус Блэк после появления в жизни Гарри был для мальчика, словно отец или старший брат, которому можно полностью довериться и спросить что угодно, не боясь показаться глупым. Для Сириуса же Гарри — будто оживший Джеймс. Он, как и Снегг, оказался введён в заблуждение внешним сходством отца и сына Поттеров. Только реакция у него на это сходство была другой. Во время беспредела Долорес Амбридж крёстный укрепил Гарри в решении организовать практические занятия по защите от Тёмных искусств, и добавил, что Джеймс сделал бы то же самое.\\nКогда Сириус был убит в Отделе тайн, Гарри всё никак не мог поверить в то, что они больше никогда не встретятся. Ему так отчаянно не хватало крёстного, что он пытался всеми способами наладить с ним связь. Сперва Гарри надеялся, что Сириус появится в сквозном зеркале, потом — что Сириус мог бы стать привидением... Но, в конце концов, Гарри пришлось смириться с тем, что Сириус ушёл и уже никогда не вернётся. В последний раз они с крёстным, вернее с его воспоминанием, встретились во время Битвы за Хогвартс, когда Сириус вместе с родителями Гарри и Люпином появился из воскрешающего камня.\\n\\nРимус Люпин\\nPotter Lupin\\nГарри и Римус на свадьбе Билла и Флер\\n\\nРимус Люпин всегда со всеми предельно честен. И достаточно принципиален. Он сразу же завоевал уважение не только Гарри, но и его друзей. Однако именно его принципиальность, и ещё то, что первое знакомство состоялось тогда, когда Люпин был учителем Гарри, поставило между ними некоторую дистанцию в отношениях. И если был выбор, к кому обратиться за советом: к Блэку или к Люпину, Гарри выбирал поначалу Сириуса. В дальнейшем, поскольку Люпин и не думал отстраняться от Гарри, они сблизились. Настолько, что в один момент поменялись местами. Когда Римус поступил неправильно, бросив (как он думал, для её же блага) свою беременную жену, Гарри всего несколькими словами показал бывшему учителю всю его неправоту. Позже Люпин был благодарен Гарри за вовремя сделанное внушение. Недаром крёстным отцом своего новорождённого сына он попросил стать именно Поттера.\\nРубеус Хагрид\\nHagridpedras\\nХагрид\\n\\nРубеус Хагрид — первый друг Гарри из волшебного мира и вообще первый друг. Можно сказать, что Хагрид дважды спас Гарри: один раз — когда вынес малыша Гарри из развалин дома; второй — когда забрал его от Дурслей и вернул в волшебный мир. Гарри всегда относился к Хагриду с особой теплотой, не допускал каких-либо нападок на него со стороны других учеников, и вообще был готов намылить шею тем, кто имел неосторожность как-то нелестно отозваться о полувеликане.\\nСо временем, (где-то уже с третьего курса) Гарри начал относиться к Хагриду не как к взрослому самостоятельному человеку, а как к такому взрослому, которого следует постоянно опекать, чтоб он не вляпался опять в неприятности. Мальчик не замечал, что при всей своей кажущейся наивности, Хагрид не так-то прост... По крайней мере, в истории с философским камнем Рубеус уж очень вовремя проговорился, наведя трёх друзей на нужные мысли и догадки. Вот чего у Хагрида никак не отнимешь: он действительно горячо любит Гарри Поттера. Хагрид вынес Гарри из Запретного леса, когда тот притворялся мёртвым, во время битвы за Хогвартс. И мальчику было крайне жаль, что он не мог хоть словом, хоть жестом намекнуть, что жив, и тем утешить полувеликана.\\n\\nЧжоу Чанг\\n70\\nГарри обратил внимание на Чжоу Чанг в 1994 году: она великолепно играла в квиддич за команду Когтеврана и была очень привлекательна. Примерно полгода спустя он долго не решался пригласить её на Святочный бал[5], а когда всё-таки набрался смелости, оказалось, что Чжоу уже приглашена Седриком Диггори.\\n\\nНа пятом году учёбы в Хогвартсе они начали встречаться, именно Чжоу подарила Гарри его первый поцелуй. Однако завязавшиеся было романтические отношения долго не продлились. Чжоу всё время возвращалась мыслями к погибшему Седрику и ревновала Гарри к Гермионе, что не добавляло молодым людям душевной близости. Предательство Отряда Дамблдора подружкой Чжоу Мариэттой и отказ девушки порвать отношения с предательницей поставили точку в романе Чанг и Поттера.\\n\\nНакануне битвы за Хогвартс Чжоу снова появилась в повествовании, и стало понятно, что девушка не прочь «начать сначала». Вот только мысли Гарри в это время были заняты другим… или, точнее, другой.\\n\\nДжинни Уизли\\nKinopoisk.ru-Harry-Potter-and-the-Deathly-Hallows 3A-Part-1-1347691\\nДжинни Уизли и Гарри впервые встретились на платформе 9¾ в 1991 году, когда маленькая девочка, провожавшая старших братьев в Хогвартс, была весьма заинтригована появлением «мальчика, который выжил». Когда же она впервые пошла в Хогвартс, всякий раз, встречая Гарри, Джинни робела и смущалась, не решаясь с ним заговорить. Даже то, что Гарри вызволил её из Тайной комнаты, не добавило девочке смелости. Гарри тоже не слишком обращал внимание на младшую сестричку Рона. Тем более что его мыслями всё более овладевала Чжоу Чанг. Джинни сдружилась с Гермионой, а позже — и с Полумной Лавгуд. Постепенно девочка стала самодостаточной личностью, научившейся в первую очередь уважать саму себя. Незаметно для всех Джинни превратилась в одну из самых популярных девушек Хогвартса. Это она выбирала, с кем ей встречаться, а кого бросить. При этом она искренне пыталась быть другом для Гарри Поттера. Другом, и никем более: она не навязывалась. Она не делала «маленьких женских гадостей» Чжоу, когда та встречалась с Гарри, и не злорадствовала, когда Гарри с ней порвал. Она была выше этого. И полагала, что у Гарри своя голова на плечах, а манипулировать любимым человеком было не в её характере. Постепенно Гарри начал проявлять интерес к Джинни, и весной 1997 года, на праздновании выигрыша Гриффиндором школьного кубка по квиддичу, вдруг, неожиданно даже для самого себя, поцеловал её на глазах всего факультета.[8] Но счастливый период свиданий с Джинни быстро был прерван самим Гарри: он побоялся, что своими чувствами сделает любимую девушку мишенью для Волан-де-Морта. Лишь после падения Тёмного Лорда ничто больше не мешало счастью влюблённых. Джинни стала женой Гарри Поттера и матерью их троих детей.\\n\\nДрако Малфой\\nDraco-malfoy-hbp-promo-2133733315\\nДрако Малфой\\n\\nДрако Малфой познакомился с Гарри в магазине мадам Малкин в Косом Переулке[7]. При этом именно Драко раз за разом пытался разговорить стоящего рядом черноволосого мальчика. Чем-то Гарри ему очень понравился, и юный Малфой стремился произвести на нового знакомца как можно лучшее впечатление. Лучшее, в понимании Драко. Но вся его «крутизна» настраивала Гарри против него. Драко пренебрежительно отозвался о маглах, а Гарри вырос среди них и втайне побаивался, что окажется никудышным магом. Драко хвастался, как носились с ним его родители («отец выбирает мне сейчас метлу, а мать смотрит волшебные палочки»), а Гарри всё это ярко напомнило кузена Дадли. И в довершении всего, Драко презрительно отозвался о Хагриде, единственном друге Гарри, чем окончательно настроил Поттера против себя. Все дальнейшие отношения между мальчиками сводились к тому, что Драко постоянно придирался к Гарри. Именно упорное нежелание Поттера обратить внимание на такую «выдающуюся личность», как Малфой, толкало последнего на постоянные насмешки и оскорбления в адрес человека, с которым на самом деле Драко всегда хотел... дружить! Увы, Малфой был не в состоянии подавить свою спесь, а у Гарри хватало своих забот, чтобы разбираться ещё и в подтекстах поступков Драко. Некий перелом в их отношениях наступил лишь весной 1998 года. Во-первых, юный Малфой всячески пытался «не опознать» бывших сокурсников, когда они попали в лапы тётушки Беллатрисы, во-вторых, Гарри спас Драко во время пожара в Выручай-комнате и позже, когда на него, безоружного, напали Пожиратели смерти. Однако, хотя вражда и прекратилась, дружба между Драко и Гарри уже не возникла, да и не могла возникнуть: слишком много старых обид стояло между ними. И через 19 лет, случайно встретившись на платформе 9¾, Драко всего лишь слегка кивнул Гарри.\\nДобби\\n428px-Dobbyattaks\\nДобби\\n\\nС самого начала знакомства с Добби Гарри узнаёт, что домашние эльфы — бесправные рабы в волшебных семьях. Действия домовика навели Поттера на мысль, что тот желает ему если не зла, то больших неприятностей — точно. Пытаясь узнать причину, по которой Добби, искренне восхищающийся Гарри Поттером, раз за разом устраивал ему неприятности, мальчик выяснил, что домовик пытался его таким образом... спасти. Мало того, Добби не мог выдать хозяйскую тайну, но дал понять Поттеру, что над Хогвартсом нависла смертельная опасность. Поттер поначалу испытывал злость к домовику, которую сменила жалость, когда мальчик узнал истинные мотивы поступков Добби. Видя, как эльф жаждет свободы, Гарри обманным путём заставил Люциуса Малфоя, хозяина Добби, освободить беднягу. С тех пор Добби не просто боготворил Гарри, но и стал ему преданным другом, по мере сил стараясь ему помогать.\\nПоследней (и поистине неоценимой) услугой стало спасение Гарри, Рона, Гермионы, мистера Олливандера, Полумны Лавгуд, Дина Томаса и гоблина Крюкохвата из плена в поместье Малфоев. Этот поступок закончился для Добби трагично: он погиб от кинжала Беллатрисы Лестрейндж, который та бросила в эльфа в последний момент. Гарри был настолько потрясён гибелью Добби, что выкопал ему могилу вручную, без волшебства, с одной стороны, тяжёлым физическим трудом заглушая боль утраты, с другой — отдавая дань уважения самоотверженному и честному эльфу.\\n\\nСемья Уизли\\nWeasley family\\nОтношение Гарри к членам этой семьи складывалось постепенно. Правда, не все Уизли, с которыми он сталкивался, относились к нему одинаково. Например, третий сын, Перси, менял своё мнение о Гарри вместе с переменой мнения своего босса. Но остальные Уизли для мальчика значили гораздо больше, чем, например, члены семьи Дурслей. А Молли вообще говорила, что относится к Гарри как к собственному сыну, и её боггарт — последовательные смерти всех членов семьи, включая Гарри.\\nИсточник текста. Распространяется на условиях CC-BY-SA\\n\\n\", \"\\n\\n\\nДжинни Уизли\\n\\nДжиневра Молли «Джинни» Поттер (урождённая Уизли) (англ. Ginevra Molly “Ginny” Potter (née Weasley); 11 августа 1981) — одна из основных персонажей серии книг о Гарри Поттере. Седьмой ребёнок в семье Уизли и первая девочка за несколько поколений.\\n\\n    Невысокая, стройная, красивая девочка с яркими светло-карими глазами и рыжими прямыми волосами, талантливая, сильная волшебница и спортсменка.\\n    \\n    Содержание[развернуть]\\n    Биография\\n    Ранние годы\\n    Piedrafilosofalqc3\\n    Долгожданная дочь в семье, Джинни всегда пользовалась чуть большим вниманием и заботой матери. Однако, она не выросла пай-девочкой. Много лет спустя Гермиона проговорилась, что Джинни с шести лет тайком таскала из сарая мётлы Фреда и Джорджа, чтобы полетать. Джинни, сколько себя помнит, всегда хотела поступить в Хогвартс и с нетерпением ждала, когда настанет этот день. Каждый год она провожала братьев в школу. А в последний раз, узнав, что в поезде едет знаменитый Гарри Поттер, попросила маму разрешить ей посмотреть на него.\\n    \\n    Первый год в Хогвартсе[1]\\n    Ea1a9f140cd2.gif\\n    Семейное фото\\n    Large2.jpg\\n    Джинни смотрит на Драко Малфоя\\n    Bonniewright3.jpg\\n    Джинни в Большом зале\\n    3-1250104643.jpg\\n    С Дневником Реддла\\n    GinnySoC.jpg\\n    В Тайной комнате\\n    Weasly ginny.jpg\\n    Когда Джинни исполнилось 11 лет, она, как и все волшебники, поступила в Хогвартс, на курс младше Гарри и Рона. Когда ей покупали книги, Люциус Малфой подложил в её учебники дневник Тома Реддла, который являлся тёмным артефактом, созданным Волан-де-Мортом и содержавшим часть его души. Реддл через дневник мог вступать в диалог с пишущим. Джинни обнаружила дневник среди своих школьных книг и начала делать в нём записи. К её удивлению, дневник стал ей отвечать, и она доверила ему все свои секреты. Джинни рассказала обо всём: как её дразнят братья, как ей приходится ходить в школу в подержанной мантии и со старыми учебниками, и как сильно и безответно она влюблена в Гарри Поттера. Девочка излила свою душу дневнику, в том числе рассказав всё, что ей известно о Гарри Поттере. Узнав о том, что Поттер когда-то смог победить самого Тома Реддла, кусок его души стал действовать. К 31 октября он смог полностью завладеть Джинни. Используя власть над девочкой, он её руками выпустил из Тайной комнаты василиска, который напал на кошку Аргуса Филча, миссис Норрис. При этом Том Реддл заставил Джинни написать на стене послание: «Тайная комната открыта. ВРАГИ НАСЛЕДНИКА, ТРЕПЕЩИТЕ».\\n    \\n    После этого нападения Джинни пребывала в расстроенных чувствах, но её братья списали это на то, что она была любительницей кошек. В дальнейшем Джинни продолжала открывать Тайную комнату, в результате чего окаменели Колин Криви, Джастин Финч-Флетчли и Почти Безголовый Ник. Она постянно расстраивалась, и опять же, её братья объясняли это другими причинами.\\n    \\n    Однажды Джинни призналась в дневнике, что ей кажется, будто она сходит с ума. Она проснулась с неизвестно откуда взявшимися петушиными перьями на одежде и не могла вспомнить, где была во время происходивших нападений. Девочка начала догадываться о своей причастности к творящемуся кошмару. Всё это серьезно сказалось на её психике.\\n    \\n    Через несколько недель после Рождества Джинни попыталась избавиться от дневника, выбросив его в унитаз женского туалета, в котором обитала Плакса Плакса Миртл. На День святого Валентина девочка отправила Гарри анонимное послание в стихах, которое гном озвучил прямо у неё на глазах, во время перемены. При этом рюкзак Гарри порвался, и его содержимое вывалилось на пол. К ужасу Джинни, она увидела, что дневник теперь находится у Поттера. Вдобавок Драко Малфой догадался, кто является автором валентинки, и публично заявил об этом.\\n    \\n    Джинни боялась, что Гарри через дневник раскроет её сердечные тайны. Выбрав удобный момент, она пробралась в спальню мальчиков и, перевернув там всё вверх дном, нашла дневник и забрала его себе. Вновь оказавшись под влиянием Тома Реддла, Джинни опять открыла Тайную комнату, на этот раз окаменели Гермиона Грейнджер и Пенелопа Кристал. Точно неизвестно, что чувствовала Джинни по этому поводу, но уместно предположить, что она снова расстроилась, потому что обе девушки были близкими подругами её братьев.\\n    \\n    В конце концов, Джинни попыталась объяснить Гарри и Рону, что происходит, но так и не смогла это сделать. Между тем, близилась развязка. Понимая, что Гарри бросится спасать Джинни и желая пообщаться с ним лично, кусок души Тома Реддла заставил её написать прощальные слова на стене коридора, а затем самой отправиться в Тайную комнату. К тому времени девочка вложила в дневник всю свою душу и не могла оказать никакого сопротивления. Последнее, что она запомнила, оказавшись в комнате, был выходящий из дневника Том, который набрал достаточно сил для того, чтобы воплотиться в виде шестнадцатилетнего юноши, а жизнь девочки, казалось, подошла к концу.\\n    \\n    Однако через некоторое время Джинни пришла в себя и увидела Гарри и убитого василиска. Оказалось, что крестраж в виде дневника уничтожен, а вышедший из него Том сгинул бесследно. После возвращения из Тайной комнаты Джинни встретилась в кабинете Макгонагалл со своими родителями. Расстроенная девочка была уверена в том, что её исключат из школы. Но Дамблдор не поставил случившееся ей в вину, заявив, что и волшебники гораздо старше её бывали обмануты Волан-де-Мортом. Джинни отправили в больничное крыло, где она быстро пришла в себя и весь конец учебного года буквально сияла от счастья.\\n    \\n    Второй год в Хогвартсе\\n    The Weasley Family at Egypt\\n    Джинни с семьей в Египте\\n    \\n    Джинни поехала в Египет летом 1993 года с остальными членами семьи, чтобы навестить там её старшего брата Билла. Как раз накануне отец выиграл семьсот галлеонов в ежегодном конкурсе «Ежедневного пророка», и денег хватило. Уизли посетили различные гробницы фараонов, но в последнюю мать Джинни не позволила девочке зайти: слишком опасные проклятия там водились.\\n    \\n    Вернувшись домой, в последний день августа семья Уизли наведалась в Косой переулок и даже остановилась на ночлег в «Дырявом котле». На следующий день Перси, близнецы, Рон и Джинни отправлялись в Хогвартс. Видимо, Корнелиус Фадж, знавший, что в «Дырявом котле» остановился Гарри Поттер, попросил старших Уизли присмотреть за мальчиком. И за тем, чтоб он не попал ещё в какую-нибудь переделку..., как тогда, с тётей. Джинни встретила Гарри снова. Она была ещё более смущенной, чем обычно, пробормотала «привет», но так и не решилась поднять глаза. Удивительно, но на следующий день их сблизил... Перси! Вышагивая важно по платформе 9¾, выпятив грудь, чтобы сразу было видно его значок старосты, пытаясь произвести сногсшибательное впечатление на свою подружку Пенелопу Кристал, он и не догадывался, как комично это смотрится со стороны. Оказавшиеся рядом Гарри и Джинни дружно прыснули. И в этот миг все барьеры между ними пропали. Джинни запомнила этот момент.\\n    \\n    В Хогвартс-экспрессе Джинни не села с братьями, но когда поезд проверяли дементоры, она нашла путь в купе, где были Гарри, Гермиона, Рон и профессор Люпин.\\n    \\n    Позже, во время матча по квиддичу «Гриффиндор — Пуффендуй», был жуткий ураган, и Гарри упал с метлы с большой высоты. Джинни посетила его в больничном крыле и подарила открытку с пожеланием скорейшего выздоровления. Но открытка пела таким пронзительным противным голосом, что Гарри придавил её вазой.\\n    \\n    Третий год в Хогвартсе\\n    World Cup\\n    Гермиона, Гарри, Джинни, Рон, Фред и Джордж на финале Чемпионата мира по квиддичу\\n    \\n    Ещё до начала года Джинни и Гермиона расспрашивали миссис Уизли о приворотных зельях. Джинни любит Гарри, а Гермиона явно неравнодушна к Рону, хоть и пытается этого не показывать. Поскольку ни одна из них потом приворотного зелья так и не сварила, понятно, что ни одна из девушек не согласна на «искусственную» любовь. Вероятно, после этого разговора с миссис Уизли Гермиона посоветовала Джинни не зацикливаться на Гарри, быть самой собой — возможно, тогда он и обратит на неё внимание.\\n    \\n    Bonnie Wright as Ginny Weasley (GoF-promo-01)\\n    Джинни на Святочном балу\\n    \\n    Видимо, Джинни стоило немалого труда воплотить этот совет в жизнь. Только под Рождество она согласилась пойти на Святочный бал с Невиллом Долгопупсом. По этому поводу, как бы извиняясь, она говорит Гарри: «Я ведь только на третьем курсе, иначе, чем с кем-то постарше мне на бал не попасть». Правда, Гарри так занят своими чувствами к Чжоу Чанг, что совершенно не придаёт значения интонациям Джинни.\\n    \\n    Четвёртый год в Хогвартсе\\n    Летом Джинни вместе с родителями, братьями и Гермионой приехала в дом Сириуса Блэка, где расположилась штаб-квартира Ордена Феникса. Ребят не пускали на заседания Ордена, но зато они были очень заняты уборкой дома, полного всякого волшебного хлама, который к тому же не всегда был безопасен. Бросается в глаза то, что Джинни обрела уверенность в себе. Она больше не тушевалась при встрече с Гарри, открыто высказывала своё мнение и даже прикрикнула на Кикимера, когда тот обозвал Гермиону «грязнокровкой». Джинни была единственной, кто не попал под гипноз музыкальной шкатулки — тёмного артефакта, найденного во время уборки в шкафу в гостиной. Только она смогла захлопнуть её, выведя тем самым из транса Гарри, Гермиону, Сириуса, мать и братьев. С середины года Джинни стала ловцом в факультетской команде по квиддичу, вместо Гарри Поттера, которому запретила играть Долорес Амбридж. Немного раньше она вступила в Отряд Дамблдора (идея расшифровки сокращения — ОД, именно как «Отряд Дамблдора», как того, которого Министерство магии больше всего боится, принадлежит ей[2]). Кстати, на первом же собрании ОД Джинни шутливо, но эффективно прекращает спор между Полумной и Гермионой и возвращает дискуссию в конструктивное русло. Её (также, как и трио главных героев) потрясла трагедия семьи Невилла.[3]\\n    \\n    Также Джинни помогла подружиться иррациональной Полумне Лавгуд и сверхрациональной Гермионе Грейнджер. Для Гарри Джинни по-прежнему оставалась хорошим другом. Круг её знакомых расширился: она начала встречаться с когтевранцем Майклом Корнером.\\n    \\n    Ginnyweasley harrypotter.jpg\\n    Джинни и Гарри\\n    Ginny-daniel-and-bonnie-14717996-1280-1024.jpg\\n    Четвёртый год в Хогвартсе\\n    Ginny.jpgX 23166299.jpg\\n    Джинни с братьями\\n    2739qf6.jpg\\n    На занятиях ОД\\n    OOTP-Screencap-Reducto-ginervra-ginny-weasley-1628150-1024-768.jpg0 440f0 12d0952 XL.jpgOOTP-Promotional-ginervra-ginny-weasley-1542604-1918-2560.jpg\\n    В финальном матче по квиддичу Джинни превзошла Чжоу, поймала снитч и обеспечила Гриффиндору Кубок школы. Она ловила снитчи во всех своих матчах. Узнав, что Гарри расстался с Чжоу, Джинни не кинулась сразу на шею освободившемуся Поттеру, а с достоинством дала отставку Майклу, недовольному победой Гриффиндора в финальном матче, и завела нового парня — Дина Томаса. Майкл бросился утешать Чжоу, таким образом, он встречался с теми же самыми девушками Поттера, правда, в обратном порядке.\\n    \\n    Когда у Гарри было видение о крёстном, взятом в плен в Министерстве магии, Джинни откликнулась на его просьбу о помощи. Она с ходу придумала отвлекающий маневр для обеспечения переговоров Гарри с Сириусом, удивив этим Гарри и Гермиону. Позже, в рукопашной схватке с Инспекционной дружиной в кабинете Амбридж, захватив свою волшебную палочку, она применила Летучемышиный сглаз к Малфою, оставленному Амбридж за старшего, и окончательно вывела его из строя. Перелом в схватке обеспечил Джинни и ОД победу над превосходящими силами противника. Именно вместе с Полумной и Гермионой Джинни, самая младшая из шестерых членов ОД (ей было 14 лет, и Беллатриса об этом прекрасно знала), под предводительством Гарри участвовала в вылазке в Министерство магии с целью спасти Сириуса Блэка. Как и остальные ребята, она билась с Пожирателями смерти и была ранена. Причем, ей сначала в рукопашной сломали ногу (лодыжку) и только после этого смогли попасть в лицо заклинанием. Когда Поттер преследовал Беллатрису, только Джинни была в силах окликнуть его по имени (Гермиона без сознания, Полумна стонала от боли, у Рона помутнение рассудка, Невилл ранен).\\n    \\n    После битвы Джинни получила от Макгонагалл 50 очков за участие в схватке в Министерстве магии.\\n    \\n    Пятый год в Хогвартсе\\n    0 44727 b6f31783 XL.jpgQuiddich-Ginny Weasley Wallpaper JxHy.jpg\\n    Джинни — охотница Сборной Гриффиндора\\n    PromoHP6 Ginny3.jpg\\n    В полёте\\n    X 933b79c3.jpg\\n    Джинни рада встрече с Гарри после каникул\\n    Джинни в ВВВ.jpg\\n    Во «Всевозможных Волшебных Вредилках»\\n    5079 l.png\\n    Разговор с Гарри Поттером\\n    HP6 Slaghorn's party.png\\n    На вечеринке «Клуба Слизней»\\n    Harry potter hbp82.jpg\\n    Джинни в квиддичной униформе\\n    ПОКАЗАТЬ БОЛЬШЕПОКАЗАТЬ МЕНЬШЕ\\n    На пятом курсе Джинни продолжила играть за команду Гриффиндора, но уже в качестве охотника. Преподаватель зельеварения Гораций Слизнорт пригласил её в свой «Клуб Слизней», куда он включал, на его взгляд, самых перспективных и способных учеников.\\n    \\n    Во время летних каникул, проведённых в «Норе», Гарри успел влюбиться в Джинни, хотя и не сразу понял это. Так, на уроке зельеварения, понюхав зелье Амортенция, которое пахнет тем, что больше всего нравится ему, он заметил слабый цветочный аромат. Он знал, что чувствовал этот аромат раньше, но не мог его вспомнить. Позже он ощутил этот аромат, когда Джинни беседовала с ним, но не сделал выводов. Однако, когда Гарри заметил девушку целующейся с Дином (который сменил Майкла на посту воздыхателя Джинни), он почувствовал жуткую ревность. Позже он понял, что Джинни — именно та девушка, которая ему нужна. И какой же он дурак, что так много времени упустил, не понимая этого! Приятно, что Джинни, давно тайно влюблённая в Гарри, наконец, дождалась взаимности. Правда, даже разобравшись в своих чувствах, Гарри медлил проявлять их, опасаясь реакции Рона. Долгожданное признание состоялось весной 1997 года, когда Гарри, услышав радостную весть о победе Гриффиндора в кубке по квиддичу, внезапно поцеловал Джинни[4]. Рональд, присутствовавший при этом событии, лишь порадовался за сестру и лучшего друга. Отношения пары тут же стали предметом сплетен в Хогвартсе, но Гарри не воспринимал их всерьёз, а Джинни сетовала, что лучше бы окружающие интересовались беспорядками, всё чаще устраиваемыми Пожирателями смерти.\\n    \\n    Немного вернувшись назад, отметим, что когда друзья собрались в больничном крыле у постели пострадавшего от отравления Рона, Джинни первая высказала предположение, что вино с ядом предназначалось для Альбуса Дамблдора. Вообще, когда окружающие дают себе труд выслушать Джинни, она прекрасно доказывает, что наблюдательности и сообразительности у неё ничуть не меньше, чем у Гермионы.\\n    \\n    Во время атаки на Хогвартс Пожирателей смерти, Джинни вместе с Роном, Гермионой, Невиллом, Полумной и подоспевшими членами Ордена Феникса защищала замок. Демонстрировала хорошую физическую подготовку и уровень владения боевой магией. Амикус Кэрроу так и не смог в неё попасть. В бою она снова получила слабое ранение и была убеждена, что если бы Гарри не отдал им с ребятами своё зелье удачи, то она бы погибла.\\n    \\n    На похоронах Альбуса Дамблдора Гарри озвучил девушке своё решение о расставании. Он чувствовал, что ему предстоит сражаться с Волан-де-Мортом. Опасаясь, что враг доберётся до Джинни в надежде заманить Гарри, юноша прекратил отношения с любимой. Джинни сожалела о необходимости разрыва, но поняла Гарри.\\n    \\n    Шестой год в Хогвартсе\\n    84499--43753214--u8c688.jpg\\n    После операции «Семь Поттеров»\\n    Kinopoisk.ru-Harry-Potter-and-the-Deathly-Hallows 3A-Part-1-1347691.jpg\\n    Подарок на день рождения Гарри\\n    HP7 Promo Ginny Weasley 1.jpeg1321256952 tumblr lu6lr8hcve1r5tevg.jpg278821.jpg\\n    Битва за Хогвартс\\n    Harrypotter8 32.jpg\\n    На мосту при Битве за Хогвартс\\n    X f2fef88a.jpg\\n    Битва за Хогвартс\\n    F3HNxSVvmjk.jpg\\n    Заклятие Белатриссы едва не попадает в Джинни\\n    Летом в «Нору» прибыл Гарри, о чём знали только немногие друзья: потерявшего свою защиту крови Поттера усиленно искал Волан-де-Морт и его приспешники. Джинни уже знала о планах Гарри убить Тёмного Лорда. Когда наступил день рождения Гарри, она привела его в свою комнату и сказала, что не знает, какой подарок станет достойным для дня его совершеннолетия. Неизвестно, что шестнадцатилетняя[5] Джинни собиралась подарить «уходящему на смертный бой герою», но вряд ли всё ограничилось бы тем поцелуем, который прервал появившийся в дверях комнаты Рон... Следует заметить такое свойство характера девушки: она почти никогда не плакала. Гарри предполагал, что это годы жизни рядом с шестью братьями закалили её… Для всех Гарри и Джинни расстались ещё в июне, поэтому Рон упрекал друга: «Ведь ты же её бросил! А что теперь?». На следующий день Джинни была подружкой невесты на свадьбе брата, но праздник завершился новостью о падении Министерства магии и нападением Пожирателей смерти на «Нору». Неизвестно, каким образом, однако никто из гостей и членов семьи Уизли при этом не пострадал.\\n    \\n    1 сентября Джинни отправилась в Хогвартс. Теперь, когда Тёмный Лорд взял фактическую власть в магическом сообществе, уклониться от учёбы в школе чистокровным волшебникам стало нельзя. Порядки в школе сильно изменились. Директором стал Северус Снегг (которого все считали убийцей Дамблдора), магловедение и защиту от Тёмных искусств преподавали Пожиратели брат и сестра Кэрроу, маглорождённых студентов выгнали из Хогвартса... Джинни, Невилл и Полумна организовали отпор режиму Снегга-Кэрроу. Они даже пытались выкрасть меч Гриффиндора из директорского кабинета. Девушке пришлось прервать обучение после пасхальных каникул. Открылось, что её брат Рон не лежал, больной обсыпным лишаём, дома, а вместе с разыскиваемым Поттером и «грязнокровкой» Грейнджер затевал какие-то дела против Волан-де-Морта. Вся семья Уизли перешла на нелегальное положение.\\n    \\n    Джинни участвовала в Битве за Хогвартс, в частности, она сражалась с Беллатрисой Лестрейндж, и та её чуть не убила. Молли Уизли не могла спустить это тёмной волшебнице с рук, и в одиночку расправилась с ярой приспешницей Тёмного Лорда. После Битвы Джинни и Гарри не сразу воссоединились — девушка поддерживала мать, переживавшую смерть одного из своих сыновей.\\n    \\n    Дальнейшая жизнь\\n    Potters.jpg\\n    Семья Поттер в 2017 году\\n    Альбус Поттер.png\\n    Сын — Альбус Северус Поттер\\n    James II.jpg\\n    Сын — Джеймс Сириус Поттер\\n    Lily PotterDH2.png\\n    Дочь —Лили Полумна Поттер\\n    Джинни Уизли 2017.jpg\\n    Джинни окончила Хогвартс и вышла замуж за Гарри Поттера. После нескольких лет успешных выступлений за команду по квиддичу «Холихедские гарпии» (“Holliheads Harpies”)[6], стала редактором спортивной колонки в «Ежедневном пророке». У них с Гарри родились два сына и дочь: Джеймс Сириус (2004 г.р.), Альбус Северус (2006 г.р.) и Лили Полумна (2008 г.р.). Возможно, что они с Гарри стали жить на площади Гриммо в доме 12, поскольку дом этот принадлежит Гарри, а Орден Феникса там больше не собирается.\\n    \\n    11 июля 2014 года Джинни Поттер совместно с Ритой Скитер ведет репортаж о финальной игре Чемпионата мира по квиддичу, проходившей в Аргентине, между Сборными Бразилии и Болгарии. После замечания Риты о том, что «Альбус аплодирует по наущению жадного до славы отца...», применяет к Скитер то, что называют «проклятием в солнечное сплетение». Рите становится необъяснимо плохо...\\n    \\n    В 2020 году Джинни вместе с Гарри, Роном, Гермионой и Драко Малфоем отправляется с помощью Маховика времени в 1981 год, чтобы спасти своего сына Альбуса и его друга, застрявших в прошлом.\\nИсточник текста. Распространяется на условиях CC-BY-SA\\n\\n\", '\\n\\n\\nЛили Поттер\\n\\n\\nЯ и вообразить себе не могу человека, который знал бы её и не любил. Такая храбрая, такая веселая…\\nГораций Слизнорт\\nЛили Поттер (урождённая Эванс) (англ. Lily Potter (née Evans)) — маглорождённая волшебница, родная сестра Петунии Дурсль, жена Джеймса Поттера, мать Гарри Поттера. Училась на факультете Гриффиндор в Хогвартсе, член первого состава Ордена Феникса.\\n\\nЕё готовность погибнуть за сына дала Гарри Поттеру защиту от тёмного мага Волан-де-Морта. В результате мальчик стал первым человеком, пережившим воздействие убивающего проклятья.\\n\\nСодержание[развернуть]\\nБиография\\nРанние годы\\nЛили до Хогвартса\\nЛили в детстве\\n\\nЛили Эванс родилась 30 января 1960 года в магловской семье мистера и миссис Эванс. У неё была старшая сестра, Петуния. Семья проживала недалеко от Паучьего тупика в городке Коукворте. Магия в Лили проснулась довольно рано, и она с детства вполне сознательно умела ей управлять. Родители сначала побаивались ее необычных способностей и просили дочь не пользоваться ими, однако после ее поступления в Хогвартс гордились тем, что в их семье родилась волшебница. В отличии от родителей, старшая сестра Петуния завидовала способностям Лили и поэтому всегда ненавидела волшебников.\\nЛили и Северус в детстве\\nЛили и Северус\\n\\nПо соседству с Лили жил мальчик, Северус Снегг. Он давно заметил способности Лили, с восхищением наблюдал за ней, и в конце концов рассказал ей о мире магов. Сначала она обиделась, когда мальчик назвал ее ведьмой, но потом дети подружились. Снегг рассказал Лили о Хогвартсе. Лили немного побаивалась будущей жизни среди волшебников. Петуния, не обладающая магическими способностями, боялась магического мира в целом, но в то же время сильно завидовала Лили. Она тоже хотела учиться в Хогвартсе и даже написала письмо Дамблдору. Но тот твёрдо сказал, что это невозможно. Кроме того, оказалось, что Лили и Северус прочитали ответ Дамблдора, чем сильно задели чувства Петунии. С отъезда Лили в Хогвартс отношения между сёстрами испортились раз и навсегда. После они обменивались бесполезными подарками по праздникам, но детская дружба так и не вернулась.\\n\\nГоды учёбы\\nScreen shot 2011-11-09 at 9.12.31 PM\\nМинерва Макгонагалл надевает на Лили Распределяющую шляпу\\n\\nВ одиннадцать лет Лили получает долгожданное приглашение в Хогвартс. Северус уговаривал её поступать на Слизерин, факультет Хогвартса, на который собирался поступать сам. Но честную и открытую Лили Распределяющая шляпа отправила в Гриффиндор.\\nПервые годы в Хогвартсе были ничем не примечательны. Лили неплохо училась, особенно преуспела в зельеварении. Была любимой ученицей профессора Слизнорта, тот считал, что у неё талант. Состояла в Клубе Слизней. Была лучшей ученицей школы (старостой школы).[3]\\n\\nЛили завела себе множество друзей, хотя её дружеские отношения с Северусом, который чем дальше, тем плотнее общался с неподходящей компанией, вызывали удивление окружающих.\\n\\n2776104136 small 6\\nГарри в воспоминаниях Снегга видит своих родителей\\n\\nТочку в их дружбе поставил случай, произошедший сразу после экзамена СОВ. Джеймс Поттер и Сириус Блэк повздорили с Северусом и подвесили его вверх ногами. Вступившуюся за него Лили слизеринец обозвал «паршивой грязнокровкой».[4] Северус просил прощения у Лили, но она, в свою очередь, спросила его, по-прежнему ли он намерен присоединиться к Пожирателям смерти. Он не стал этого отрицать. Так закончилась их дружба...\\n\\nНа шестом курсе Лили перестала «отшивать» Джеймса Поттера, который давно уже был влюблён в неё. На седьмом курсе они начали встречаться, и их роман развивался достаточно стремительно.\\n\\nВ конце 1977 года произошла первая встреча Лили, её парня Джеймса Поттера с Петунией и её тогда ещё женихом, Верноном Дурслем.[5] Прошла встреча плохо, и родственные отношения резко ухудшились. Джеймса позабавил Вернон, и он допустил ошибку, показав это. Вернон пытался шефствовать над Джеймсом, спрашивая, какую машину тот водит. Джеймс описал свою гоночную метлу. Вернон вслух предположил, что волшебники должно быть живут на пособие по безработице. Джеймс описал Гринготтс и то, что состояние его родителей хранилось там в виде чистого золота. Вернон не мог понять, шутит Джеймс или говорит серьёзно, а потому разозлился. Встреча будущих родственников закончилась тем, что Вернон и Петунья со скандалом ушли из ресторана, пока Лили плакала, а Джеймс (немного чувствуя свою вину) обещал помириться с Верноном при первой же возможности. Этому не суждено было осуществиться никогда.\\n\\nВ том же году Петуния и Вернон поженились. Хотя Лили и Джеймс были приглашены на свадьбу, Петуния отказалась сделать сестру подружкой невесты, чем сильно её обидела. Вернон отказался разговаривать с Джеймсом на приёме, но сказал, что внутри него чувствуется «какой-то фокусник-любитель».[5]\\n\\nСвадьба и Орден Феникса\\nПочти сразу после окончания Хогвартса, в 1978 году, Лили вышла замуж за своего парня. Шафером на их свадьбе был Сириус Блэк, лучший друг Джеймса. Петуния и Вернон решили не приходить на свадьбу.\\n\\nВ это время продолжалась первая война с Волан-де-Мортом. Лили, Джеймс и все их друзья вступили в Орден Феникса.[6]\\n\\nЖизнь в браке и смерть\\nPotters3\\nДжеймс, Гарри и Лили\\n\\nТе недолгие три года, которые прожила Лили от времени окончания Хогвартса и до своей гибели, были очень насыщенны. Во время войны Поттеры бросали вызов Волан-де-Морту, по меньшей мере, три раза (первый — когда они отказались от предложения Тёмного Лорда присоединиться к Пожирателям) и трижды возвращались из битвы живыми.[7]\\nЛили забеременела в конце октября 1979 года. Чуть позже, в декабре-январе, Трелони произнесла пророчество, свидетелем которого оказался Альбус Дамблдор о том, что «грядёт тот, у кого хватит могущества победить Тёмного Лорда...». Первая часть пророчества была услышана также и Снеггом, который тогда был Пожирателем смерти. Он преданно сообщил всё, что услышал, Волан-де-Морту. 31 июля 1980 года у Джеймса и Лили родился сын. Крёстным мальчика стал Сириус. Вероятно, к этому времени умерли как родители Джеймса, так и родители Лили. Молодая семья поселяется в доме Поттеров в Годриковой впадине. В Ордене Феникса поползли слухи, что среди орденцев завёлся предатель.\\n\\nПриблизительно в это время Тёмный Лорд пришел к выводу, что ребёнок Лили и есть тот, о котором говорилось в пророчестве. Узнав об этом, Снегг пришёл в ужас. Он продолжал любить Лили и, поняв, что матери Гарри грозит неминуемая смерть, обратился к главе Ордена Феникса за подмогой. Когда Альбус Дамблдор пообещал, что семья Поттеров получит защиту Ордена, Снегг соглашается перейти на их сторону ради спасения Лили.\\n\\nБыло решено спрятать семью Поттеров в их доме, под защитой заклинания Фиделиус. В сохранившемся письме к Сириусу Лили писала о первом дне рождения Гарри, в июле 1981 года. Из письма становилось ясно, что чета Поттеров уже жила изолированно от окружающего мира. Лишь немногие друзья могли приходить к ним в гости, и Джеймс очень тяготился вынужденным бездействием. Хранителем тайны был назначен Питер Петтигрю (а не Сириус Блэк, как считали все знакомые Поттеров), но именно Петтигрю и был тем предателем, о котором подозревали орденцы. Он-то и сообщил Волан-де-Морту адрес Поттеров, открыв доступ к защищённому заклинанием дому.\\n\\nPotter2\\nВолан-де-Морт наступает\\n\\nНочью 31 октября 1981 года Волан-де-Морт смог проникнуть в дом. Джеймс выбежал из комнаты с криком «Лили, возьми Гарри и уходи! Это он!» и попытался задержать Тёмного Лорда. Волан-де-Морт, смеясь, убил Джеймса и поднялся на второй этаж, где Лили закрылась в комнате, пытаясь забаррикадировать дверь. Когда убийца вошёл, она положила Гарри в кроватку и, широко раскинув руки, заслонила ребенка собой. Волан-де-Морт, памятуя о просьбе Снегга сохранить жизнь женщине, предлагал ей отойти в сторону и не мешать. Но Лили, наоборот, умоляла забрать её жизнь в обмен на жизнь сына. Волан-де-Морт убил Лили заклинанием Авада Кедавра, тем самым приняв её условия сделки.\\n\\nKILLEDLILY\\nМёртвая Лили...\\n\\nВ силу вступило древнее заклинание жертвы: жизнь, отданная за жизнь. При попытке Тёмного Лорда убить малыша тем же проклятием «Авада Кедавра» (по сути — нарушить только что заключённый магический контракт) заклятие отскочило в Волан-де-Морта, и он исчез. Так Гарри оказался первым человеком, который пережил убивающее заклятие. Дом Поттеров был разрушен. Сцена убийства родителей Гарри была потом им восстановлена по воспоминаниям, которые всплыли в его памяти при встрече с дементорами в 1993 году.\\n\\nСразу после смерти Лили и Джеймса к развалинам дома прибыл Сириус Блэк на своем мотоцикле, после прибыл Хагрид. Хагрид одолжил мотоцикл у Сириуса, забрал малыша из разрушенного дома и отвез его к дому родственников — семье Петуньи.\\n\\nЛюбовь Лили\\nГотовность матери пожертвовать жизнью ради своего ребёнка дала Гарри Поттеру такую защиту, какую Волан-де-Морт не мог и вообразить. Смертельное заклинание отскочило от мальчика, оставив ему как напоминание о случившемся лишь шрам на лбу в виде молнии. А Волан-де-Морт потерял всё. Любовь Лили помогла Гарри Поттеру выжить в ту ночь и хранила его после долгие годы. До тех пор, пока Темный лорд не использовал для своего возрождения кровь Гарри, он не мог прикоснуться к Гарри, в каком бы теле ни находился. Кроме того, до совершеннолетия Гарри был в безопасности в доме Дурслей, поскольку Петуния была кровной родственницей Лили. После использования крови Гарри для построения своего нового тела Волан-де-Морт не учёл, что защита Лили теперь внутри них обоих — Гарри не может умереть, пока жив Волан-де-Морт.\\n\\nПосле смерти\\nЛили умерла, но она не исчезает из повествования. Даже находясь в ином мире, ей удаётся влиять на жизнь своего сына.\\n\\n1991-1992 год\\nHarry-potter mirror-of-erised\\nЛили и Джеймс в зеркале Еиналеж\\n\\nВ рождественскую ночь Гарри находит зеркало, в котором видит себя рядом с умершими (но в зеркале вполне живыми) родителями и многочисленной родней. В мае 1992 года Хагрид подарил ему фотоальбом, наполненный «живыми» фотографиями его матери и отца. Хагрид собрал их по знакомым и друзьям Лили и Джеймса.\\n1993-1994 год\\nКогда Гарри на протяжении учебного года сталкивался с дементорами, он неожиданно для себя вспоминал предсмертные выкрики отца и матери. Это было для него одновременно и пыткой, и горькой радостью. При изучении заклинания Патронуса, Гарри не мог подавить в себе желание снова и снова слышать голоса родителей.\\n\\n1995 год\\nВо время дуэли с возродившимся Волан-де-Мортом, Гарри и Тёмный Лорд использовали свои палочки-близнецы одновременно, что породило необычный вид заклинания — Приори Инкантатем. Палочка Волан-де-Морта стала выдавать в обратном порядке магическое эхо последних действий. Среди появившихся жертв былых убийств Тёмного Лорда были Лили и Джеймс Поттеры. Они спасли Гарри, кратковременно окружив Волан-де-Морта и дав мальчику несколько секунд, которых хватило для того, чтобы добежать до портала и вернуться в Хогвартс.\\n\\n1996 год\\nГарри без спроса заглядывает в Омут памяти и видит там худшее воспоминание профессора Снегга, которое тот хотел как раз спрятать на время занятий окклюменцией с юным Поттером . В этом воспоминании пятикурсница Лили Эванс попыталась вступиться за Северуса, на которого напали Джеймс и Сириус. Два года спустя юноша снова видит эти воспоминания среди отданных ему Снеггом перед смертью, а также видит и их продолжение, когда Северус приходил просить прощения у Лили за вырвавшиеся в её адрес оскорбительные слова.\\n\\n1998 год\\nHarry reaching Lily\\nГарри пытается коснуться руки матери\\n\\nВ последний раз в повествовании Лили появляется 2 мая 1998 года. Во время битвы за Хогвартс Гарри, совершенно сознательно собираясь идти на смерть от руки Волан-де-Морта, призывает с помощью Воскрешающего камня Лили, Джеймса, Сириуса и Римуса. Появившиеся не были призраками, но и живыми людьми в полной мере их назвать было нельзя. Гарри просит их об одном: поддержать его морально, укрепить его дух на этом недолгом, но таком тяжёлом пути. И Лили, и Джеймс сказали сыну, что гордятся им и будут с ним до самого конца\\n\\nПозже Гарри каждый раз вспоминает мать, когда глядит на своего среднего сына, Альбуса Северуса, единственного из детей Гарри и Джинни, унаследовавшего глаза Лили...\\n\\nВнешность\\n0p7-2 Stone 1\\nЛили Поттер\\n\\nЛили описана как красивая женщина с густыми, тёмно-рыжими волосами и миндалевидными ярко-зелёными глазами, которые унаследовали её сын и один из внуков.\\nЛичность\\nЛили была известна как исключительно добрая и талантливая волшебница, которая стала старостой школы в свой последний год в Хогвартсе. Она также была любимой ученицей профессора Горация Слизнорта, который отметил, что она была веселая и имела талант к зельям. Он также утверждал, что у такой девушки просто не могло быть врагов, нельзя было знать Лили и не любить её. Об умении Лили в каждом человеке разглядеть что-то хорошее, даже если он сам этого не видит, говорит Римус Люпин. Вместе с тем она была довольно твёрдым в своих убеждениях человеком: когда Слизнорт говорил, что ей было бы лучше учиться в Слизерине, Лили отвечала очень дерзко (в общем, как и сам Гарри отвечал похожее Распределяющей Шляпе); также, ей хватило сил разорвать свои отношения с другом детства, когда она поняла, что тот окончательно примкнул к Пожирателям смерти.\\n\\nЛили, как и ее муж, была смелой и самоотверженной. Она умирает, чтобы защитить своего сына. Дамблдор утверждал, что Гарри Поттер унаследовал эти качества от неё. Можно заявить, что характер Гарри получил именно от Лили, нежели от Джеймса, отчего следует, что она была скромной, спокойной, хладнокровной в трудных ситуациях, честной и справедливой девушкой.\\nВзаимоотношения\\nСемья\\nAreilla Paradise\\nПетуния Дурсль (Эванс) в детстве\\n\\nЛили была очень близка с родителями, и, первоначально, со своей старшей сестрой, Туньей. Две девочки играли вместе и были очень дружны. Но когда Лили начала демонстрировать свои способности, Петуния «разрывалась между любопытством и неодобрением». Петуния презирала дружбу Лили с оборвышем Северусом Снеггом. В свою очередь, Снегг часто оскорблял Петунию, потому что та была обычным маглом. Когда Лили получила приглашение в Хогвартс, Петуния написала Альбусу Дамблдору, требуя, чтобы ей тоже разрешили там учиться. Увы, он был вынужден отказать старшей сестре Лили, лишённой всякой волшебной силы. То обстоятельство, что Лили доступно нечто, что никогда не будет доступно Петунии, делает отношения между сёстрами весьма натянутыми. В дальнейшем старшая мисс Эванс старательно делает вид, что волшебства в мире вообще не существует, хотя прекрасно знает, что это не так. Петунию также возмущало, что мама и папа гордились тем, что в их семье родилась волшебница. В последующие годы их отношения не улучшились, но их они старались поддержать. В письме Сириусу, которое нашел Гарри в его комнате, Лили сообщала, что Петуния прислала ей в подарок на Рождество отвратительного вида вазу. До сих пор остается неясным, как родная сестра могла так сильно затаить обиду, что превратила первые годы жизни племянника в тяжкое испытание.\\n\\nLeft pointing double angle quotation mark sh4\\tЗнали ли мы? Да, конечно, знали! Как мы могли не знать, когда мы знали, кем была моя чёртова сестрица! О, она в своё время тоже получила такое письмо и исчезла, уехала в эту школу и каждое лето на каникулы приезжала домой, и её карманы были полны лягушачьей икры, а сама она всё время превращала чайные чашки в крыс. Я была единственной, кто знал ей цену, — она была чудовищем, настоящим чудовищем! Но не для наших родителей, они-то с ней сюсюкались — Лили то, Лили это! Они гордились, что в их семье есть своя ведьма!\\tRight pointing double angle quotation mark sh4\\nПетуния Дурсль о своей сестре Лили\\n\\nГарри впервые заметил, что Петуния — действительно сестра его мамы, только летом перед пятым курсом. Когда после нападения дементоров Гарри сообщил Дурслям, что Волан-де-Морт вернулся Петуния единственная в доме понимала, что значило его возвращение. То в чем сестры были похожи точно — это в огромной любви к собственным сыновьям, ради которых они обе пожертвовали бы своей жизнью, и в случае Лили так и случилось.\\n\\nСеверус Снегг\\nСнегг в доме Поттеров\\nСеверус и мёртвая Лили в Годриковой впадине\\n\\nСветлая, солнечная Лили привлекла к себе внимание Северуса ещё в детстве. Она была единственной среди окрестной детворы, кто не чурался выходца из соседних трущоб, сына «этих Снеггов», кто не смеялся над ним, одетым в материнские обноски, кто в первую очередь видел в нём человека, а не нищего оборвыша. К тому же Лили, сама того ещё не понимая, была волшебницей, и это делало её в глазах Северуса совсем «своей». Лили любила Северуса как друга, тем более, что он был первым, кто рассказал ей о мире магов, но их дружба дала трещину из-за дружбы Снегга с такими людьми, как Эйвери и Мальсибер, которые практиковали Тёмные искусства и презирали маглорождённых.\\nСлучай, произошедший сразу после экзамена СОВ, навсегда поставил точку в их дружбе.\\n\\nДжеймс Поттер\\nJames-potter-foto\\nДжеймс\\n\\nОтношения Лили с Джеймсом Поттером начались не очень хорошо. Впервые они встретились в поезде, как раз перед началом своего первого года в Хогвартсе, где Лили разозлилась на Джеймса и Сириуса Блэка за то, что те издевались над Северусом[9]. Хотя Джеймс был популярным студентом и талантливым игроком в квиддич, Лили считала его высокомерным хулиганом и относилась к нему с презрением. Неизвестно, когда Джеймс Поттер впервые обратил на неё внимание, но в конце пятого курса он уже точно добивался её расположения, хотя и безуспешно. Лили отказывалась принимать его многочисленные приглашения на свидание, но на шестом курсе она уже перестала так резко его «отшивать». К седьмому курсу, похоже, Джеймс стал серьезнее и избавился от некоторых «шероховатостей» своего характера. Наконец, Лили ответила ему взаимностью. Их роман развивался достаточно стремительно и через некоторое время после окончания Хогвартса они поженились.\\nСириус Блэк\\nSirius-Black-Wallpaper-sirius-black-32913977-1024-768\\nСириус Блэк\\n\\nЛили встретила Сириуса Блэка в Хогвартс-экспрессе в то же время, что и Джеймса. Ей было неприятно общество их обоих, так как они начали дразнить Снегга ещё в поезде. Когда Лили была распределена в Гриффиндор, то повернулась к уступившему ей место за столом Сириусу спиной. Впрочем, намного позже они стали хорошими друзьями, и когда Лили выходила замуж за Поттера, Сириус был шафером на свадьбе. Сириус тоже был членом Ордена Феникса во время Первой магической войны и участвовал в нескольких сражениях против Волан-де-Морта. Сириус стал крестным отцом сына Лили, Гарри Поттера. Когда Поттеры скрывались в доме, защищенном Фиделиусом, они решили сделать Сириуса Хранителем Тайны, так как знали, что Блэк целиком и полностью заслуживает доверия. Но Сириус в последний момент убедил молодую чету, что более надёжным хранителем будет Питер Петтигрю: «никто и не подумает про такое ничтожество, как Хвост, что он ваш Хранитель». Но Петтигрю оказался предателем, о котором догадывались орденцы. Он выдал Волан-де-Морту местоположение семьи Поттеров и тем обрёк их, беззащитных, на верную смерть.\\nРимус Люпин\\nRemus Lupin\\nРимус Люпин\\n\\nЛили была также хорошим другом Римуса Люпина, не обращая внимания на его «проблему по мохнатой части». В отличие от своих друзей, Римус никогда не принимал участия в запугивании студентов, в том числе и Северуса Снегга, хотя и не делал ничего, чтобы остановить их. Когда Снегг заметил что-то странное в Люпине, Лили ответила, что ей всё равно. Скорее всего, она тоже поняла, что Римус был оборотнем, но не хотела, чтобы другие знали. После окончания Хогвартса Римус помогал Поттерам скрываться и охотно бы умер за своих друзей, а не предавал бы их, чтобы спасти свою шкуру. Когда Джеймс и Лили умерли, Римус был опустошен и первоначально считал, как и весь волшебный мир, что Сириус был предателем.\\nПозже Римус сблизился с сыном Лили, Гарри Поттером. Он учил его использовать Патронус и защищаться во время Второй магической войны. Гарри позже стал крестным отцом его сына.\\n\\nПитер Петтигрю\\nPeter Pettigrew\\nПитер Петтигрю\\n\\nПожалуй Лили была единственным человеком, который видел в Петтигрю только хорошее. Лили замечала, что он был тихим и неприметным, и поэтому старалась ставить его наравне со всеми и уделять достаточное количество внимания. Она единственная называла его ласково «Хвостик». Именно так она пишет в письме к Сириусу: «В прошлые выходные к нам заезжал Хвостик, по-моему, он чем-то подавлен, хотя, вероятно, всё дело в новости насчёт Маккиннонов...». Скорее всего, заехал Питер к Поттерам именно ради того, чтоб последний раз повидать Лили. И, зная о её близкой смерти, был так подавлен. Смерть Джеймса, надо думать, его не слишком огорчала.\\nГарри Поттер\\n51кпавпв\\nГарри Поттер\\n\\nЛили любила своего сына больше всего на свете. Она пожертвовала собой, чтобы спасти его, когда ему был всего лишь год с небольшим. Гарри едва помнил её, но, тем не менее, относился к ней с большим почтением и яростно защищал её память, если кто-то говорил плохо о ней. Так, в 1993 году, он от злости за то, что Марджори Дурсль (сестра дяди Вернона) оскорбляла Джеймса и Лили, раздул ее. В 1995 году он ударил Драко Малфоя за оскорбление его матери. Дух Лили, вызванный с помощью Воскрешающего камня, смотрел на Гарри с такой жадностью, будто вовек не сможет на него наглядеться. Гарри просил Лили, чтобы именно она не отходила от него, когда он собирался идти к лагерю Пожирателей смерти, к своей неминуемой гибели.\\nАльбус Дамблдор\\nDumbledorephilstone\\nАльбус Дамблдор\\n\\nЗа те годы, что Лили пробыла в Хогвартсе, Дамблдор разглядел в ней чрезвычайно талантливую волшебницу с чистым, добрым сердцем. Он же назначил её старостой девочек, а на седьмом курсе — старостой школы. После окончания школы Лили и ее друзья вступили в Орден Феникса. Когда Джеймс и Лили стали целью Тёмного лорда, Дамблдор предложил себя в качестве Хранителя Тайны в попытке защитить их, но роль Хранителя, по предложению Сириуса, досталась Петтигрю. Дамблдор был глубоко расстроен их смертью, особенно, если учесть, что именно он забрал мантию-невидимку Джеймса, и посвятил остаток своей жизни защите их сына. Во время разговора с Северусом Снеггом вскоре после смерти Лили, Дамблдор оказался на редкость холодным, подчеркивая, насколько он заботился о Лили и как он был огорчен тем, что ее убили.\\nМинерва Макгонагалл\\nMcGonagall M\\nМинерва Макгонагалл\\n\\nМинерва Макгонагалл имела очень близкие отношения с Лили во время Первой магической войны. Макгонагалл была профессором Трансфигурации, а также деканом Гриффиндора в то время, когда Лили училась в Хогвартсе. Она выделяла Лили за доброту, талант, смелость, самоотверженность, ведь это именно те качества, которые Макгонагалл ценила в людях. Лили и Макгонагалл были членами первого состава Ордена Феникса и воевали против Тёмного Лорда и его приспешников. Макгонагалл была потрясена до глубины души, когда узнала о смерти Поттеров. Профессор Макгонагалл также любила сына Лили и защищала его как могла на протяжении всего его обучения в Хогвартсе.\\nГораций Слизнорт\\nLilyandSlughorn\\nГораций и Лили\\n\\nВо время своего обучения в Хогвартсе Лили продемонстрировала талант к зельям, благодаря чему стала любимой ученицей старого профессора и постоянно получала приглашения на заседания «Клуба Слизней». Слизнорт души не чаял в девушке, хотя и был удивлен ее магловским происхождением при таких явных магических талантах. Он настолько ценил мисс Эванс, что не раз говорил, что ей было бы лучше учится на его факультете, на Слизерине. Дерзкие ответы Лили на эти предложения его только умиляли.\\nСо своей стороны Лили, вероятнее всего, уважала и любила Слизнорта, как учителя.\\n\\nОрден Феникса\\nОрден Феникса (первый состав)\\nОрден Феникса (первый состав)\\n\\nЛили также была дружна с другими членами Ордена. Например, с Хагридом, Дожем, МакКиннон... Когда Лили узнала об убийстве Марлин и её семьи, она проплакала всю ночь.\\nИсточник текста. Распространяется на условиях CC-BY-SA\\n\\n', \"\\n\\n\\nГермиона Грейнджер\\n\\n\\nГермиона Джин Грейнджер (англ. Hermione Jean Granger) — одна из главных героинь Поттерианы, подруга и одноклассница Гарри Поттера и Рона Уизли, член Золотого Трио. Единственная дочь мистера Грейнджера и его жены[2].\\n\\nВ одиннадцать лет девочка узнаёт, что на самом деле она является волшебницей и зачислена в Хогвартс. В этой Школе магии и волшебства она попадает на факультет Гриффиндор, на котором учатся также Гарри Поттер, Рон и Джинни Уизли (на курс младше), её лучшие друзья. Так или иначе, она играет важную роль во всех событиях, которые происходят в жизни Гарри. Гермиона, по всей видимости, самая старшая среди своих одноклассников — она родилась 19 сентября 1979 года и не могла поступить в Хогвартс годом раньше, так как ученику на момент поступления должно быть полных одиннадцать лет. Большинство же её одноклассников родились в 1980 году.\\n\\nГермиона очень любит учёбу и уделяет ей много времени. Иногда она бывает слишком высокомерной и чрезмерно гордится своими успехами в учёбе. Она честолюбива, на уроках всегда старается ответить первой и выделиться своими знаниями, за что многие не без оснований считают её «всезнайкой» и «ботаничкой». В глазах окружающих она со своим фанатичным стремлением к порядку и дисциплине выглядит излишне «правильной» и занудной, и за это над ней часто смеются. Однако первое впечатление о ней оказывается неверным. Действительно, соблюдение формальных правил и успехи в учёбе для неё много значат, но можно со всей уверенностью сказать, что для неё существуют гораздо более значимые ценности и идеалы.\\n\\nСодержание[развернуть]\\nВнешний вид\\nGranger\\nГермиона на шестом курсе\\n\\nУ Гермионы карие глаза и каштановые волосы. В момент знакомства она описана как «…девочка с густыми каштановыми волосами, уже переодевшаяся в школьную форму. Её передние зубы были чуть длиннее, чем надо»[3]. Однако, когда в Гермиону попало пущенное Малфоем заклинание «Дантисимус», передние зубы девочки стали усиленно расти и выросли чуть ли не до подбородка. В Больничном Крыле мадам Помфри дала Гермионе зеркало, начала уменьшать зубы, и велела махнуть рукой, когда зубы станут прежнего размера. Гермиона подождала немножко больше, и её зубы стали ровными и красивыми[4]. Лишь на четвёртом курсе, во время Святочного бала, Гарри с удивлением замечает, что Гермиона красива. К семнадцати годам девушка расцветает окончательно. Это отмечают и Виктор Крам, и (правда, с другими намерениями) Фенрир Сивый.\\n\\nПо поводу того, что в спектакле «Гарри Поттер и Проклятое дитя» Гермиону играет темнокожая актриса, Роулинг заявила, что цвет кожи Гермионы в книге якобы не указан, поэтому теоретически он может быть любым. На самом же деле, в книге «Гарри Поттер и узник Азкабана» упоминается белое лицо Гермионы (Hermione's white face was sticking out from behind a tree), поэтому можно однозначно заключить, что цвет её кожи — типичный для Великобритании белый. Светлокожей Гермиона изображена и на рисунке Роулинг, изображающем Золотое Трио, Невилла Долгопупса и Дина Томаса.\\n\\nБиография\\nНачало жизни\\nHermioneBaby\\nГермиона в детстве\\n\\nМало что известно о жизни Гермионы вне магического мира. Она единственный ребёнок мистера и миссис Грейнджер[5], которые являются обычными маглами, дантистами по профессии. Они немного смущались проявлению необычных способностей у дочери, но, как бы то ни было, гордились ей[6].\\n\\nGranger family\\nДень рождения Гермионы\\n\\nГермиона была сильно удивлена летом 1991 года, когда узнала, что является волшебницей и теперь с сентября будет учиться в Хогвартсе. Она с радостью приняла это: ведь теперь всяким странным случаям из её прежней жизни нашлось логическое объяснение. Первым делом Гермиона купила книги. Девочка набрала немало различных книг по магии (даже тех, которые не были указаны в списке, но чем-то заинтересовали её) и начала их штудировать ещё до начала самой учёбы. Она даже попробовала использовать некоторые простые заклинания. К огромной её радости, они ей удались[7].\\n\\nУчёба в Хогвартсе\\nГермионе очень нравилось учиться в Хогвартсе, она относилась очень серьёзно ко всем поручениям и правилам. Её любимый предмет — «Заклинания» (позже — «Нумерология»). И только некоторые (Полёты на мётлах и Прорицания) вызывали определённые затруднения. Однажды она призналась, что Распределяющая шляпа сначала предлагала ей учиться на факультете Когтевран (где учатся самые умные студенты), но потом передумала и отправила в Гриффиндор.\\n\\nПоступив в Хогвартс, Гермиона делила комнату с Лавандой Браун, Парвати Патил и ещё с двумя другими гриффиндорскими девочками.\\n\\nБлагодаря её ответственности, хорошей успеваемости  и примерному поведению, на пятом курсе Гермиону назначили старостой факультета.\\n\\nК сожалению, Гермиона была вынуждена покинуть школу после шестого курса из-за того, что хотела вместе с Роном помочь Гарри Поттеру найти крестражи. Однако, после окончания Второй магической войны она вернулась в Хогвартс, в 1999 году окончила обучение на седьмом курсе и сдала ЖАБА вместе с лучшими подругами — Джинни Уизли и Полумной Лавгуд.\\n\\nПервый год в Хогвартсе\\nMony\\nОтличница учёбы Гермиона.\\n\\nДевочка прибывает в Хогвартс, полная радужных надежд и определённых амбиций. В начальной школе она, вероятно, привыкла быть первой в учёбе и не собирается понижать планку. Привыкшая всю интересующую информацию черпать из книг, она уже знает о четырёх факультетах и даже успела для себя выбрать понравившийся. Распределяющая шляпа, руководствуясь наклонностями Гермионы, сначала советует ей отправиться учиться в Когтевран, но всё-таки останавливается на Гриффиндоре[8].\\nВскоре прямолинейная и пунктуальная Гермиона делает для себя неприятное открытие: с ней никто не хочет дружить. Не все учителя (и тем более — далеко не все ученики) приходят в восторг от её знаний, её назидательный тон в разговоре с сокурсниками не способствует завязыванию знакомств, а готовность ответить на любой заданный на уроке вопрос вызывает насмешки. К тому же Гермиона наверняка с первых дней слышала в свой адрес слово «грязнокровка» (от тех же слизеринцев) и наверняка уже знает значение этого слова. Конечно, девочка пытается держаться, но сил её хватает только до конца октября.\\n\\nВ туалете с троллем\\nВ туалете с троллем\\n\\nВ день Хэллоуина у первого курса был урок по Заклинаниям. В пару Гермионе дали Рона Уизли, у которого никак не выходило заклинание «Вингардиум Левиоса». Девочка попыталась подсказать, как правильно произносить слова, но, увы, назидательный тон мальчишке не понравился. «Сама делай», — буркнул Рон, а после урока сказал другу Гарри, что Гермиона — «ходячий кошмар». Она это услышала, и это стало последней каплей. Весь оставшийся день она проплакала в туалете для девочек и даже не пошла на праздничный пир, и поэтому ничего не знала о тролле, проникшем в Школу. Вспомнив, что Гермиона ничего не знает, Гарри и Рон улизнули ото всех и смогли запереть тролля; как стало ясно спустя несколько секунд — в том самом туалете, где отсиживалась девочка. Мальчишкам пришлось с риском для жизни вступить в схватку, лишь чудом эта история закончилась для них благополучно. Прибежавшим на шум учителям Гермиона (правдивая Гермиона!) врёт прямо в глаза, заявляя, что вина за происшедшее лежит только на ней: дескать, она отправилась посмотреть на тролля, поскольку полагала, что справится с ним сама. После этого случая Гарри, Рон и Гермиона стали лучшими друзьями.\\nВ целом, роль Гермионы в событиях этого учебного года оказывается очень значительной. — Она участвует в так называемой «полночной дуэли» и обращает внимание ребят на люк, который охраняет трёхглавый пёс. Спасает Гарри во время матча по квиддичу. Снабжает друзей информацией о Николасе Фламеле, что позволяет им сделать вывод о том, что в замке спрятан Философский камень. Непосредственно участвует в отправке дракончика в Румынию. Попадает в Запретный лес. И, наконец, вместе с друзьями отправляется в поход за Философским камнем, во время которого помогает Гарри успешно преодолеть одно из препятствий. «За умение использовать холодную логику перед лицом пламени» во время прощального банкета получает в награду от Дамблдора 50 очков, к бурному восторгу всех гриффиндорцев...\\n\\nВторой год в Хогвартсе\\nGranger 1992\\nГермиона на втором году обучения\\n\\nНа летних каникулах Гермиона, по своему обыкновению, прочитывает учебники на следующий учебный год. Большинство из них принадлежат перу Златопуста Локонса. Девочка, привыкшая верить всему, что пишут в книгах, проникается к автору неподдельным восхищением. Какое счастье, что профессор Локонс будет преподавать у них Защиту от Тёмных искусств!\\nОднако учёба в Хогвартсе не принесла ожидаемых радостей. Уже через месяц после начала занятий в Школе объявился некий «наследник Слизерина», открывший Тайную комнату и начавший нападать на учеников. Гарри, Рон и Гермиона не менее других студентов ломают голову над тем, кто это может быть. А поскольку опасности подвергаются в первую очередь полукровки и, особенно, маглорождённые, Гермиону это волнует очень сильно. Не только потому, что она сама из маглов, а больше оттого, что это ставит одну часть студентов в более опасное положение, чем другую. А это несправедливо. В результате, девочка совершает попросту беспрецедентный для себя поступок, пойдя на нарушение сразу множества школьных правил (чего стоит одна только совершенная ею кража ингредиентов из кабинета Снегга!). Увы, успешно приготовленное Гермионой Оборотное зелье не оказало друзьям той помощи в расследовании, на которую они рассчитывали, а сама девочка при этом в результате случайной ошибки приобрела кошачью внешность и потом долго возвращалась к нормальному виду в больничном крыле.\\n\\nОкаменелая Гермиона\\nОкаменевшая Гермиона в больничном крыле\\n\\nПод конец учебного года на неё напал тот самый «Ужас Слизерина», но девочке в какой-то мере повезло: она увидела нападавшего в зеркало, не взглянув ему прямо в глаза, и поэтому не погибла, а лишь окаменела. В библиотечных книгах девочка вычитала, что «Ужас Слизерина» — это василиск, огромная змея со смертоносным взглядом; также Гермиона догадалась, что передвигаться он может по трубам замка. Слово «трубы» она записала на полях страницы о василиске и вырвала её из книги, чтобы показать Гарри и Рону. Уже один этот «акт вандализма» со стороны Гермионы, которая чуть ли не преклонялась перед печатным словом, говорит о том, как серьёзно девочка относилась к проблеме. Эту страницу, зажатую в руке Гермионы, нашли Гарри и Рон во время посещения больничного крыла. Именно это помогло им понять, кто прячется в Тайной комнате, и в конечном итоге победить чудовище. Почти одновременно оказались полностью исцелены и все его жертвы, включая саму Гермиону, которая смогла вместе с друзьями и всей школой отпраздновать благополучное завершение столь драматичной истории.\\n\\nТретий год в Хогвартсе\\nHermioneRonPoA\\nРон и Гермиона в Хогсмиде\\n\\nГермиона проводит каникулы во Франции, но и там не забывает о друзьях. Она посылает Гарри Поттеру с совиной почтой подарок на день рождения. Причём, что примечательно: посылает набор по уходу за метлой. То есть, учитывает интересы Гарри, а не дарит то, что нравится ей самой. А себе она покупает кота Живоглота, очень помогшего друзьям в расследовании одной истории.\\nГермиона вообще очень внимательна. Например, когда в «Хогвартс-экспрессе» ребятам встретился спящий в купе взрослый (обычно в поезде едут только ученики Хогвартса), именно Гермиона увидела метки на его вещах и объяснила остальным, что это новый профессор по ЗОТИ профессор Люпин. Позже она подмечает и некоторые странные детали в его поведении. А когда Северус Снегг задаёт эссе об оборотнях, Гермиона, как всегда глубоко проработав тему, окончательно убеждается, что Люпин болен ликантропией. Правда, преподаватель Защиты от Тёмных искусств настолько симпатичен девочке и как учитель, и как человек, что она до последнего никому не рассказывает о своих догадках. Кроме того, Гермиона одна из всех догадалась, что к получению Поттером в подарок новой метлы «Молния» мог приложить руку Сириус Блэк.\\n\\nГермиона, Гарри и Рон в ГП-3\\nРебята покидают хижину Хагрида перед казнью Клювокрыла\\n\\nНа третьем курсе появляются предметы, посещение которых необязательно. Студенты сами выбирают из них те, которые хотят изучать. Гермиона выбрала... все! Чтобы помочь ей бывать на всех уроках, профессор Макгонагалл арендовала в Министерстве магии Маховик времени. Теперь девочка может проживать одни и те же часы по нескольку раз, посещая в одно и то же время различные предметы. Это оказалось как нельзя кстати в конце учебного года, когда Гарри и Гермиона вернулись на три часа назад, чтобы спасти Сириуса Блэка от поцелуя дементора, а гиппогрифа Клювокрыла — от казни. А до того Драко Малфой, едва не ставший виновником гибели Клювокрыла, получил от девочки пощёчину (а в экранизации — хороший хук правой).\\nHermione hitting Draco\\nГермиона ударила Драко Малфоя\\n\\nПостоянные перемещения во времени и изучение всех предметов сразу настолько измотали Гермиону, что после спасения Сириуса и Клювокрыла она решает уменьшить свои учебные нагрузки. В последний день в Хогвартсе Гермиона встречается с профессором Макгонагалл, отказывается от дальнейшего изучения магловедения (хотя сдала по нему экзамен на 320 процентов) и прорицаний, и возвращает маховик времени.\\n\\nЧетвёртый год в Хогвартсе\\nЛетом семья Уизли приглашает Гермиону погостить у них, а заодно и посетить знаменательное событие в мире волшебников — Чемпионат мира по квиддичу. После матча происходит жуткий переполох: на лагерь болельщиков нападают Пожиратели смерти, и кто-то запускает в небо Чёрную метку. Гермиона становится свидетельницей того, как министерский работник Барти Крауч бездоказательно обвиняет в этом свою домовуху Винки и увольняет её. Бесправное положение эльфов-домовиков так потрясает девочку, что отныне она решает посвятить свою жизнь борьбе за их права.\\n\\nEmma Watson as Hermione Granger (GoF-promo-05)\\nГермиона в бальном платье\\n\\nПо приезде в школу студентов ждёт сюрприз: после многолетнего перерыва возрождён Турнир Трёх Волшебников. В Хогвартс приезжают делегации иностранных школ магии и волшебства: Дурмстранга и Шармбатона. Но когда на Хэллоуин происходит жеребьёвка, Чемпионами объявляются не три человека, а... четыре. И четвёртым назван Гарри Поттер, который по условиям отбора вообще не должен был участвовать в жеребьёвке. Только Гермиона, да ещё некоторые студенты-гриффиндорцы (например, Фред и Джордж Уизли) не отвернулись от Гарри. Все остальные сочли 14-летнего гриффиндорца мошенником.\\nНа Святочный бал Гермиона идет с Виктором Крамом, что вызывает сильнейшую ревность Рона Уизли, который давно был к ней неравнодушен. После бала они ссорятся.\\n\\nГермиона и Рон помогали Гарри готовиться к заданиям турнира. Кроме того, ещё в начале года Гермиона создала так называемую Гражданскую Ассоциацию Восстановления Независимости Эльфов (Г.А.В.Н.Э.). Была одним из пленников во втором задании. Раздумывая, как Рита добывает информацию, Гермиона заметила: «Мне кажется, что эта Скитер есть везде. Даже там, где её просто не может быть». И в итоге девушка выяснила, что Рита — незарегистрированный анимаг. Она превращалась в жука и поэтому незаметно могла подглядывать и подслушивать. Это разоблачение очень поможет друзьям на следующий год.\\n\\nПятый год в Хогвартсе\\nГермиона подаёт идею и фактически создаёт Отряд Дамблдора с Гарри во главе, хотя позже начинает сомневаться в правильности этого шага. Дело в том, что создание ОД горячо приветствует Сириус Блэк, которого Гермиона считает слишком авантюрным для серьёзных дел. Впрочем, она успокаивается, когда в Выручай-комнате, которую ребята решили использовать для своих тренировок, находит целую подборку книг по защитной магии.\\n\\nEmma-watson-hermionegranger\\nГермиона на пятом курсе\\n\\nВоспользовавшись наличием компромата на Риту Скитер, Гермиона прибегает к своего рода шантажу, заставляя журналистку записать интервью с Гарри Поттером о возрождении Волан-де-Морта. В дальнейшем эта публикация сыграет немалую роль в раскрытии правды, неугодной Министерству.\\n\\nИменно Гермиона, взывая к доводам рассудка, пыталась отговорить Гарри Поттера от рискованных вылазок в кабинет Долорес Амбридж (чей метод преподавания вместе с книгой «Теория защитной магии» Слинкхарда она, кстати говоря, раскритиковала на первом же уроке).\\n\\nВ критический момент, когда Гермиону и её друзей схватили враги (в лице Амбридж и её подручных), девушка смогла найти выход из, казалось, безнадёжной ситуации, что позволило ребятам оперативно отправиться на помощь Сириусу.\\n\\nОна приняла участие в Сражении в Министерстве магии и серьёзно пострадала при этом от руки Пожирателя Долохова. Впрочем, за несколько дней нахождения в больничном крыле под наблюдением мадам Помфри Гермиона полностью выздоровела.\\n\\nШестой год в Хогвартсе\\nGranger Weasley HP6\\nГермиона и Рон Уизли\\n\\nВо время посещения Косого переулка, Гермионе с друзьями удаётся засечь Драко Малфоя, посещающего магазин «Горбин и Бэркес». Проанализировав поведение недруга, Гарри решает, что Драко стал Пожирателем смерти вместо отца, отправленного в Азкабан. Приехав в школу, Поттер окончательно убеждается в том, что Малфой замыслил что-то недоброе. Гермиона, которую полностью поддерживает Рон, возражает Гарри, и почти на весь год поведение Драко становится поводом для споров между ними. Только после смерти Дамблдора становится ясно, что Гарри был прав.\\n\\nВ этом году зельеварение преподает не Северус Снегг, а Гораций Слизнорт. К Гарри попадает старый учебник по зельеварению, где на полях его прежним владельцем записаны ценные советы. Следуя им, Гарри становится лучшим учеником по этому предмету, что всерьёз задевает чувства Гермионы. Она-то до всего доходит собственным умом! А Гарри становится лучшим в классе, почти ничего для этого не делая. Это настраивает девушку против книги и её прежнего владельца, называвшего себя «Принцем-полукровкой».\\n\\nКроме советов по зельеварению, на полях учебника встречаются самодельные заклинания. Их применение тоже не одобряется Гермионой. Она говорит, что у Принца извращённое чувство юмора. Зато Гарри пребывает в восторге от того, сколько нового и полезного он узнал от этого «учителя». Интересно, что (как выяснилось в итоге) Принцем-полукровкой называл себя в школьные годы Северус Снегг — человек, которого Гарри никогда не любил (а к концу учебного года люто возненавидел), а Гермиона наоборот пыталась объективно его оценивать и защищала от нападок Поттера.\\n\\nВ этом учебном году у девушки осложняются отношения с Роном Уизли. Несмотря на взаимные нежные чувства, они не сближаются, а, наоборот, ссорятся, пытаясь вызвать у друг друга ревность. Рон, начав встречаться с Лавандой Браун, тем самым настолько оскорбляет Гермиону, что это приводит к тяжелому и длительному разрыву каких бы то ни было отношений (в течение нескольких месяцев — с ноября и до начала марта — они даже не разговаривали друг с другом). И только несчастный случай (отравление Рона, едва не приведшее к его гибели) помогает им помириться.\\n\\nПеред нападением Пожирателей смерти на Хогвартс девушка участвует в патрулировании школы, а затем, по-видимому, вступает в схватку на стороне защитников замка.\\n\\nОхота за Крестражами\\nX 9ef1fda9\\nГермиона покидает свой дом\\n\\nГермиона решила не ехать в этом году в Хогвартс, а отправиться с Гарри и Роном на поиски крестражей. Перед уходом из дома она стерла память о себе своим родителям, сменила им имена и отправила их в Австралию. Подальше от Англии, подальше от Пожирателей смерти... Чтобы, во-первых, обезопасить их и, во-вторых, чтобы в случае её смерти, они не переживали и жили спокойной жизнью.\\n\\nОперация «Семь Поттеров»\\nГермиона участвует в операции «Семь Поттеров». Она — один из ложных «Поттеров». Её сопровождал Кингсли, с которым она летела на фестрале. Одно время их пару преследовал лично Волан-де-Морт и отстал от них только тогда, когда ему доложили, что обнаружен настоящий Поттер.\\n\\nПодготовка к поискам. Свадьба Билла и Флёр\\n84499--35611120-\\nСкримджер принёс завещание Дамблдора в Нору\\n\\nВ конце шестого курса Школа потеряла своего директора, Дамблдора. Месяц спустя Гермиона неожиданно для себя получает в наследство от него старинную книгу «Сказки барда Бидля», написанную рунами. Девушка очень растрогана этим неожиданным подарком. На вопрос Руфуса Скримджера, отдававшего наследство, почему вдруг Дамблдор завещал ей столь редкий экземпляр, Гермиона со слезами на глазах ответила: «Наверное, он думал, что это будет мне интересно. Он знал, что я люблю читать...»\\n\\n1 августа состоялась свадьба брата Рона Билла Уизли и его невесты Флёр Делакур. Гарри выпил оборотное зелье и теперь спокойно ходит неузнанным. Среди гостей — давний приятель Гермионы Виктор Крам и школьная подруга ребят Полумна Лавгуд, пришедшая с отцом. Крам замечает странный треугольный глаз на шее мистера Лавгуда и зло говорит Гарри, что это знак Грин-де-Вальда.\\n\\nВ разгар праздника в «Норе» появляется патронус Кингсли и предупреждает собравшихся: «Министерство пало. Скримджер убит. Они уже близко». Убедившись в том, что защитные заклинания с дома сняты, гости трансгрессируют со свадьбы.\\n\\nХорошо, что Гермиона много читает и знает заклинания, не входящие в школьный курс. Ей удалось наложить заклинание незримого расширения на маленькую бисерную сумочку и заранее поместить туда все необходимые им для путешествия вещи, и это оказало друзьям огромную услугу.\\n\\nР.А.Б., обретение медальона, потеря убежища\\n223878 10151058878651235 1850358453 n\\nГермиона и Гарри в комнате Сириуса\\n\\nВынужденные скрываться в доме Сириуса, ребята находят комнату его брата, Регулуса Арктуруса Блэка, и понимают, что искомый Р.А.Б. — это именно он. Перебрав комнату чуть ли не по сантиметру, они вынужденно признают, что медальон либо спрятан в другом месте, либо... «Там был медальон...», — говорит вдруг Гермиона, занеся ногу, да так и застыв в воздухе. И все трое вспоминают: когда Орден Феникса обосновался в доме, и они с миссис Уизли, близнецами и Джинни разбирали фамильный хлам Блэков, там был и медальон, который никто так и не смог открыть... Гарри кидается к последней надежде — закутку Кикимера, ведь эльф тайком вытаскивал вещи из мусорных мешков и прятал у себя. Но и Кикимерова конурка оказывается пустой. Тогда Гарри, как хозяин эльфа, призывает его к себе и велит рассказать всё, что тот знает о медальоне.\\n\\nТак они узнали, что Медальон похищен Наземникусом Флетчером. Велев Кикимеру изловить вора, ребята остаются в доме Сириуса. Маленькая деталь: Гермиона в эти дни безуспешно пытается трансфигурировать до съедобного состояния еду, которая сохранилась на кухне, но у неё ничего не выходит. Потом этот пробел в её магических умениях ещё аукнется, но девушка пропускает намёк судьбы мимо.\\n\\nHermione (6)\\nГермиона накладывает защитные заклинания на лагерь\\n\\nЧерез несколько дней Кикимер доставляет Наземникуса в дом на пл. Гриммо. Флетчер неохотно рассказывает, что да, действительно среди украденных им вещей был медальон, но его отобрала какая-то «мымра из Министерства». По описанию ребята понимают, что Наземникус говорит о Долорес Амбридж. Решив выкрасть медальон прямо из Министерства, ребята достаточно долго готовятся к вылазке, но всё равно не обошлось без неприятных неожиданностей. Когда «спецоперация» была, по сути, уже завершена, Яксли в последний момент смог ухватиться за Гермиону и трансгрессировал с ней на порог дома, сломав тем самым заклятие Фиделиус. Гермионе удалось оторваться от Яксли, и она перенеслась с ребятами в лес, подальше от Лондона. При этом Рона расщепило, пласт мышц плеча так и остался на пл. Гриммо. Хорошо, что у запасливой Грейнджер нашёлся экстракт бадьяна. А также волшебная палатка и нехитрая утварь. Увы, еду она захватить не додумалась...\\n\\nСсора с Роном, Рождество в Годриковой впадине\\nГарри, Рон и Гермиона думают, что им дальше делать с добытым медальоном: для разрушения крестражей нужна сильная магическая субстанция. Достоверно им известно об уничтожении только одного крестража — дневника Тома Реддла. Но ни самих клыков василиска, ни вобравшего в себя яд василиска меча Гриффиндора у них нет. Уничтожение крестража откладывается. Боясь потерять артефакт, они носят его постоянно при себе и замечают неприятную особенность: медальон усиливает в человеке страх, раздражительность, неверие, подозрительность; ведёт к упадку сил... Хуже всего крестраж влияет на Рона. Юный мистер Уизли постоянно недоволен то бытовыми условиями, то отсутствием вестей от родных, то вынужденным бездельем и тупиковостью ситуации... В один из дней Рон все эти претензии вываливает Гарри. В возникшей ссоре Поттер предлагает Рону, раз уж ему так не нравится вся эта охота за крестражами, просто уйти. Рон зло соглашается и зовёт с собой Гермиону, ставя её тем самым перед выбором — потерять любимого человека или предать друга и главное дело своей жизни. Отказ Гермионы бросить Гарри Рон расценивает как измену.\\n\\nПосле ухода Рона Гарри и Гермиона пытаются всё же продолжить поиски. Гарри давно хотел посетить Годрикову Впадину, но Гермиона каждый раз его отговаривала: деревня, где погибли родители Гарри — самое вероятное место, где его будут поджидать Пожиратели смерти. Однако теперь, когда Гарри вернулся к этой теме, девушка неожиданно соглашается. Она приходит к выводу, что у Батильды Бэгшот, которая живёт в Годриковой Впадине и является старой знакомой Альбуса Дамблдора, директор перед своей смертью мог оставить меч Гриффиндора.\\n\\nГарри и Гермиона кладбище\\nГарри и Гермиона на могиле Джеймса и Лили в Годриковой впадине\\n\\nПредприняв, как им казалось, все возможные меры безопасности, ребята трансгрессируют на околицу Годриковой Впадины. Не зная точного адреса старой волшебницы, они проходят через селение, посещают кладбище, где находят могилы родителей Гарри, и останавливаются у невидимых для маглов руин дома Поттеров. Тут Гермиона замечает старуху, следящую за ними, которая манит их за собой. Ребята понимают, что это и есть Батильда. Вместе с ней они приходят в её дом. Батильда даёт понять, что разговаривать она будет только с Поттером и уводит его на второй этаж. Гермионе не нравятся ни странное поведение молчаливой старухи, ни этот уж слишком запущенный дом. И её недобрые предчувствия оправдываются. Услышав наверху крик Гарри, девушка кидается к нему и застаёт в комнате змею Волан-де-Морта Нагайну, набросившуюся на Поттера. Мгновенно оценив ситуацию, Гермиона заклинанием отбрасывает змею от Гарри и тут же трансгрессирует вместе с ним. Гарри, связанный ментальным узами с Тёмным Лордом, понимает — они разминулись буквально на доли секунды.\\n\\nВозвращение Рона, Ксенофилиус Лавгуд и Дары Смерти\\nВо время бегства из Годриковой Впадины случайно ломается палочка Гарри. Гермиона винит в этом себя: это её заклинание срикошетило в палочку. Гарри умом понимает, что вины Гермионы в этом нет, но какое-то время старается лишний раз с ней не общаться.\\n\\nКак-то под утро Гарри вваливается в их палатку мокрый, но удивительно счастливый и с криком: «Посмотри, кто пришёл!», заводит... Рона! Если он думал, что Гермиона обрадуется, он жестоко ошибся... Прошло немало времени и бурных событий, прежде чем девушка смогла полностью простить своего парня.\\n\\nВ очередной раз встретив изображение таинственного символа, который до этого ребята видели на шее у Ксенофилиуса Лавгуда, Гермиона решает всё выяснить непосредственно у отца Полумны. Тот рассказывает ребятам о Дарах Смерти. В дальнейшем выясняется, что Лавгуд решил выдать Поттера Пожирателям смерти в обмен на свою дочь, взятую в заложники. Гермиона не только в очередной раз находит выход из непростой ситуации, но и убивает одним выстрелом сразу трёх зайцев — благополучно спасает себя и своих друзей от ареста, при этом прячет под мантией-невидимкой Рона (тем самым выводя из-под удара его родственников) и даёт возможность Пожирателям увидеть Гарри (дабы не навредить самому Лавгуду и особенно его дочери)...\\n\\nПлен в поместье Малфоев. Побег в Коттедж «Ракушка»\\nПосле посещения Ксенофилиуса Лавгуда, узнав всю правду о Дарах Смерти, Гарри догадывается, что он сам является владельцем легендарной мантии-невидимки, в завещанном Дамблдором снитче спрятан Воскрешающий камень, а Волан-де-Морт ищет Бузинную палочку. Поттер задаётся целью — опередить Волан-де-Морта и самому отыскать её. Гермиона считает, что Гарри неправ и слишком увлекается, забыв о своей миссии — поиске крестражей. Они постоянно спорят по этому поводу. Однажды Рону, знающему о волшебной радиостанции «Поттеровский дозор», удаётся настроиться на её волну. Услышав подтверждение предположения, что Волан-де-Морт ищет Бузинную палочку, Гарри снова начинает убеждать в этом Гермиону и при этом называет своего врага по имени, от избытка эмоций забыв о Табу. Мгновенно все защитные заклинания спадают, и троица попадает в лапы егерей. \\n\\nGreyback captured Hermione and Ron\\nПойманные Сивым Рон и Гермиона в Поместье Малфоев\\n\\nВ самый последний момент не растерявшаяся Гермиона насылает на Гарри жалящее заклятие, но этой маскировки оказывается недостаточно. Егеря волокут пленников в поместье Малфоев, в надежде сорвать куш побольше. Там Гермиону жестоко пытает Беллатриса Лестрейндж, которой, однако, так и не удаётся узнать от девушки правду. В итоге друзей спасает домовик Добби, который при этом гибнет сам.\\nОграбление Гринготтса.\\nСмерть Добби будто отрезвила Гарри. Выбирая между поисками Даров и крестражей, он возвращается к первоначальному замыслу Дамблдора и решает, что теперь должен добыть тот крестраж, который находится в сейфе Лестрейнджей в Гринготтсе. Позвав с собой Рона и едва оправившуюся от пыток Гермиону, так и не успев сказать друзьям, что он задумал, Гарри приходит в комнату, где лежит Крюкохват. Из разговора Гермиона понимает, чего добивается Гарри, и тут же его поддерживает. Когда гоблин спрашивает, кто из волшебников протестовал против угнетения других магических существ, девушка честно отвечает: «Мы». И продолжает: «Я — грязнокровка. И горжусь этим. При новом режиме мне живётся ничуть не лучше, чем гоблинам и домовикам...» Крюкохват посмотрел на Гермиону с таким же интересом, как только что смотрел на Гарри Поттера. Гоблин, в принципе, уже согласен помочь ребятам ограбить родной банк.\\n\\nH. J. Granger\\nГермиона нашла волос Беллатрисы\\n\\nНачинается кропотливая подготовка к вылазке. Решено, что Гермиона с помощью оборотного зелья и волоса Беллатрисы, оказавшегося на её свитере, примет облик мадам Лестрейндж. Всё время подготовки Гермиона тренируется колдовать с её палочкой и постепенно приучает её к своей руке. Видимо, настойчивость Гермионы чем-то сродни сильной воле Беллатрисы, потому что палочка мало-помалу начинает слушаться новую хозяйку.\\nDH-Part-II-bellatrix-lestrange\\nГермиона и Рон в Гринготтсе 1 мая 1998 года\\n\\nС помощью оборотного зелья, мантии-невидимки и заклятия Империус, прокатившись на гринготтской тележке под водопадом Гибель воров, друзья наконец-то проникают в сейф Беллатрисы и забирают из него Чашу Пенелопы Пуффендуй. После этого Крюкохват сбегает, прихватив с собой меч Гриффиндора, а Золотое Трио с большим трудом выбирается из подземелья Гринготтса, освободив дракона, которого гоблины использовали как стража.\\n\\nОграбление банка в конечном итоге удалось. Но это потребовало от Гермионы и её друзей большого мужества, выдержки и настоящей гриффиндорской храбрости.\\n\\nБитва за Хогвартс\\nИз банка Гринготтс Гермиона с друзьями улетает верхом на драконе, охранявшем сейф Беллатрисы Лестрейндж. Они не могут управлять этим животным и надеются только на удачу, да на то, что дракон не может не устать... Им вновь везёт — пролетая достаточно низко над незнакомым озером, они благополучно спрыгивают в воду.\\n\\nHermione-granger-gallery\\nГермиона в Битве за Хогвартс\\n\\nЧерез свою связь с Тёмным Лордом Гарри видит, что Волан-де-Морт отправляется проверять тайники, в которых спрятаны крестражи, и скоро узнает, что почти все они похищены. Последний крестраж находится где-то в Хогвартсе. Ребята решают трансгрессировать в Хогсмид, деревню недалеко от Хогвартса. Там их принимает младший брат Альбуса Дамблдора, Аберфорт. Через потайной ход, спрятанный за картиной, они попадают в Выручай-комнату, где их восторженно приветствуют ученики, скрывающиеся от нового школьного начальства.\\nГермиона с Роном решают уничтожить найденный крестраж-Чашу ядовитым клыком василиска, останки которого по-прежнему находятся в Тайной комнате. Завершающую часть этой операции девушка проделывает собственноручно. Прихватив с собой «про запас» ещё несколько клыков, Рон и Гермиона возвращаются к Гарри и сообщают ему об очередной победе. Рон высказывает беспокойство за судьбу эльфов-домовиков, работающих в Хогвартсе, и Гермиона впервые дарит ему свой поцелуй.\\n\\nПосле этого девушка участвует в схватке в Выручай-комнате (в ходе которой оказывается уничтожен крестраж из Диадемы Кандиды Когтевран), становится свидетельницей гибели Фреда Уизли и Северуса Снегга, сражается с Беллатрисой Лестрейндж в конце Битвы за Хогвартс... В дальнейшем вместе с друзьями она приходит в кабинет директора, становясь участницей события, по сути, поставившего точку во всей эпопее.\\n\\nДальнейшая жизнь\\nВскоре после окончания Второй магической войны Гермиона вернула из Австралии своих родителей и восстановила им память. В дальнейшем она вернулась в Хогвартс для того, чтобы завершить обучение, став единственной из «троицы», кто это сделал.\\n\\nКарьера\\nГермиона начала свою карьеру с Отдела регулирования и контроля за магическими существами, где она способствовала значительному улучшению жизни эльфов-домовиков и их собратьев.\\nПотом она перешла в Отдел магического правопорядка, где занималась искоренением несправедливых законов, защищающих только чистокровных магов.\\nПозднее, в 20-х годах XXI века, она заняла пост Министра Магии[9].\\n830px-Hermione and Rose\\nГермиона обнимает дочь Розу перед её отъездом в Хогвартс.\\n\\nЛичная жизнь\\nГермиона вышла замуж за Рона Уизли и стала матерью их двоих детей — Розы и Хьюго. Также она стала крестной матерью Джеймса Сириуса Поттера — старшего ребёнка Гарри Поттера и его жены Джинни[10].\\n\\nМагическая сила и навыки\\nПоражает наблюдательность Гермионы. Например, она единственная замечает, на чём стоит Пушок, в то время как Гарри и Рон не сводят глаз с трёх страшных голов монстра[7]. Одного взгляда на багаж спящего в купе преподавателя ей оказывается достаточно, чтобы увидеть метку профессора Люпина[11]. В то время как внимание всех приковано к Кубку Огня, который вдруг вздумал выбросить имя четвёртого Чемпиона, Гермиона всматривается в Гарри[4]. Выражение лица друга не оставляет никаких сомнений: выбор Кубка для Гарри — полная неожиданность. Очень долго, до конца первого тура Турнира Трёх Волшебников, Гермиона оставалась едва ли не единственной студенткой Хогвартса, кто не обвинял Поттера в обмане.\\n\\nTumblr mznx5vKrVR1rfdneqo3 250\\nПатронус Гермионы — Выдра\\n\\nГермиона — храбрая и отважная девочка, готовая прийти на помощь друзьям всегда и везде. Тем не менее, можно сказать, что одно из её слабых мест — это неумение действовать в нестандартной ситуации, когда нужно быстро принимать решение. С годами и эта её черта меняется. Можно сказать, что цепкая наблюдательность Гермионы постепенно заменяется умением быстро ориентироваться в обстановке. Если ей дать хотя бы минутку спокойно подумать, она найдёт наилучшее решение. Это особо ярко проявилось при изъятии Медальона Слизерина (она единственная догадалась наколдовать копию Медальона, чтобы Долорес Амбридж не сразу заметила пропажу); а также когда Гермиона буквально в последнюю секунду трансгрессировала себя и Гарри из дома Батильды Бэгшот, буквально из лап Волан-де-Морта... Когда же ребята покидали выдавшего их Пожирателям смерти Ксенофилиуса Лавгуда, Гермиона гениально решила несколько задач сразу: спрятала Рона под Мантией-невидимкой (и тем оберегла всю семью Уизли от расследования), стёрла память мистера Лавгуда об их визите и на короткий миг показала преследователям Гарри Поттера, спасая тем самым отца и дочь Лавгудов от расправы Пожирателей за «ложный вызов».\\n\\nЕё знания неизменно помогают Гарри — во время Турнира Трех Волшебников, в борьбе с Волан-де-Мортом... Особенно важна и сильна поддержка Гермионы в решающий период поиска крестражей. Вообще, в их троице мисс Грейнджер — ходячий справочник. Рон даже свято верит, что в мире найдётся не слишком много книг, которые не прочла Гермиона.\\n\\nГермиона проявляет особый талант в разжигании огня и в разгадывании загадок (это ее «конёк», по мнению Гарри). Стройная фигура и маленький рост (в «Дарах Смерти» упоминается, что Гермиона ниже Гарри, который ниже Рона) дают ей преимущество в дальнем бою — в книгах и в фильмах нет ни единого случая, чтобы враг смог каким-либо заклинанием в неё попасть, если только он не оказывался достаточно близко. Её длинные волосы также имеют особое свойство: они никогда не мешают ей, ни за что не цепляются, и никому не удается её за них схватить.\\n\\nВзаимоотношения\\nГермиона очень болезненно переживает унижение любого разумного существа. Даже если ей кто-то не нравится (кентавры, например), она никогда не скажет худого слова о целом народе. Когда девочка узнаёт о существовании домашних эльфов и о том положении, которое они занимают в магическом мире, она загорается идеей освободить домовиков от рабства. И в конце концов посвящает этому свою жизнь.\\n\\nГермиона регулярно помогает в учёбе Гарри и Рону, объясняет им материал, даёт читать свои конспекты и, хотя никогда не разрешает списывать у себя домашнее задание, всегда готова проверить правильность выполнения и указать на ошибки. Часто они признаются, что без Гермионы им было бы гораздо сложней учиться, и её помощь очень важна для них. Правда, мальчишки, особенно Рон, иногда откровенно ей льстят, чтобы задобрить. («Просто у нас нет ни твоей сосредоточенности, ни твоего ума. С твоей стороны не очень вежливо подчёркивать своё превосходство»).\\n\\nРодители\\nГрейнджеры Флориш и Блоттс (ГПиТК)\\nГермиона с родителями\\n\\nРодители Гермионы — маглы и, как все маглорождённые волшебники, она время от времени слышит в свой адрес оскорбительное «грязнокровка», но старается не обращать на это внимание: собака лает, ветер носит. Деньги, которые ей дали родители ко дню рождения (купи, что хочешь и считай это нашим подарком) она потратила на Живоглота, огромного рыжего котяру с приплюснутой мордой, который оказался очень умным и не лишённым некоторых магических способностей. К матери и отцу Гермиона относится слегка снисходительно, постоянно делая поправку на их неосведомлённость в магических порядках. Например, она откликается на предложение Рона спросить у родителей о Фламеле: «Они же не маги, они просто дантисты». Или просит у Гарри одолжить ей Буклю, чтобы послать письмо родителям о том, что её выбрали старостой: «Староста — это доступно их (родителей) пониманию».\\nПодруги\\nHermione-Ginny-hermione-and-ginny\\nГермиона и Джинни\\n\\nДо начала третьего курса у Гермионы не было подруг, хотя она поддерживала дружеские отношения со многими девочками в школе. Во время летних каникул 1993 года она близко сошлась с Джинни Уизли, которая младше её почти на два года[12]. Видимо, девочек сблизило то, что обе не могут добиться взаимности от мальчиков, которые им нравятся. Джинни влюблена в Гарри Поттера, а Гермиона тайком заглядывается на Рона Уизли. Недаром обе они жадно внимают рассказам мамы Джинни о приворотных зельях. Думается, потом девочки обсуждали между собой эту тему. И пришли к выводу, что искусственная любовь им не нужна. Год спустя Гермиона, а за ней и Джинни пытаются найти способ избавиться от чрезмерной привязанности к Гарри и Рону. Сперва Гермиона позволяет ухаживать за собой Виктору Краму, а после и Джинни принимает приглашение на бал от Невилла Долгопупса. По некоторым репликам ясно, что девочки делятся между собой многим сокровенным. Единственный раз между ними возникло разногласие, когда Гарри по незнанию применил к Драко Малфою тёмное заклинание Сектумсемпра. Гермиона пришла в ужас от того, что Гарри использовал на человеке непроверенную магию, а Джинни, напротив, встала на его сторону.\\nБлизкие приятельские отношения связывали Гермиону и Нимфадору Тонкс. Впрочем, молодая Тонкс (она старше Гермионы на четыре-пять лет) обладает лёгким характером, и с ней приятно общаться.\\n\\nНеровно начиналась дружба Гермионы и Полумны Лавгуд. Девочки настолько по-разному относятся к окружающему миру! Если мисс Грейнджер верит книгам и логике, то Полумна верит любым фактам, не получившим опровержения. И своими утверждениями нередко ставит Гермиону в тупик. Очень медленно, но девушки всё же сближаются. Во-первых, ни в одной из них нет открытой агрессии; во-вторых, Полумна умеет быть верным другом, а это дорогого стоит; в-третьих, их объединил, так сказать, «совместный боевой опыт»: и в сражении в Отделе Тайн, и в отражении нападения на Хогвартс, и в последней битве второй магической войны девушки сражались плечом к плечу. В конце концов, Гермиона закрывает глаза на неординарные суждения Полумны и полагает, что всякий имеет право на невинный недостаток.\\n\\nПоклонники\\n562px-Ron-y-Hermione-en-la-Madriguera\\nРон и Гермиона (1997)\\n\\nЧуть ли не с первого курса внимание Гермионы отдано Рону Уизли. Но мальчик этого не замечает. Пока что Гермиона для него — просто друг, «свой парень» (с поправкой на её девчоночьи заскоки), ходячий справочник и шпаргалка. К четвёртому курсу разрыв в психологическом возрасте между Роном и Гермионой становится колоссальным. Мало того, что Грейнджер старше Гарри и Рона почти на год, она ещё и прошлый учебный год прожила в режиме «год за два», благодаря маховику времени. К тому же, девочки взрослеют раньше сверстников... В общем, пока Рон всё ещё не вышел из детства, Гермиона — уже вполне взрослая девушка. \\nHermione-granger-gallery (5)\\nГермиона и Виктор Крам на свадьбе Билла и Флёр\\n\\nПоэтому, когда знаменитый Виктор Крам обращает на неё внимание, а потом и начинает ухаживать, Гермионе это льстит. Сначала — только льстит. Потом между ними завязываются романтические отношения, и Гермиона пару раз встречается с Виктором. Но вскоре понимает, что «это не то»: к болгарину у неё дружеские, и только дружеские чувства. После расставания молодые люди продолжают переписываться, но не более того. \\nMclaggen\\nКормак\\n\\nНесколько иначе в жизнь Гермионы входит Кормак Маклагген. Мисс Грейнджер начинает встречаться с ним исключительно для того, чтобы досадить Рону. Точнее, Рон узнал, что два года назад Гермиона целовалась с Крамом и жутко её приревновал. Мстя за ту, давнюю «измену», он заводит романчик с Лавандой Браун, а уж Гермиона в ответ делает вид, что увлечена Маклаггеном. Но из самовлюблённого Кормака ухажёр, как... Короче, по словам той же Гермионы, «Грохх рядом с ним — истинный джентльмен!» Выбрав себе в поклонники самого неприятного для Рона человека, Гермиона вынуждена теперь прятаться от назойливого Маклаггена. И, выходит, наказала... саму себя.\\nПреподаватели\\nMcGonagall Minerva HP 6\\nМинерва Макгонагалл\\n\\nЗа редким исключением (Северус Снегг, Сивилла Трелони, Долорес Амбридж) профессора Хогвартса очень довольны Гермионой. Всегда можно рассчитывать, что она ответит на поставленный вопрос, даже если он задан по совершенно новому материалу: Гермиона читает учебники перед учебным годом, а не во время него. Многие преподаватели проникаются к ней уважением за тягу к знаниям, ответственность, ум и хорошее поведение. Когда Гермиона высказала желания посещать все (!) второстепенные предметы на третьем курсе[13], профессор МакГонагалл выхлопотала ей разрешение пользоваться маховиком времени, уверенная, что четырнадцатилетняя мисс Грейнджер употребит прибор только для возможности успевать посещать занятия и выполнять задания.\\nФилиус Флитвик\\nФилиус Флитвик\\n\\nДружеские отношения связывают Гермиону с профессором Флитвиком. Крошечный преподаватель заклинаний не только даёт девочке различные советы[14], но и (правда, под большим секретом) сообщает ей закрытую информацию. Например, о том, что веселящие чары, урок по которым Гермиона нечаянно пропустила, войдут в годовой экзамен.\\n\\nSeverusSnape\\nСеверус Снегг\\n\\nИнтересны отношения между Гермионой и Северусом Снеггом. На первом же уроке девочка нечаянно ломает Снеггу все планы поведения с Гарри Поттером. На все вопросы, на которые «заносчивый мальчишка» (Снегг автоматически переносит на Гарри черты характера его отца) не знает ответов, она с готовностью тянет руку. Это замечает и Поттер: «Я не знаю, сэр. Но, похоже, Гермиона знает ответ. Почему бы Вам не спросить её?» Злопамятный Северус с этой минуты невзлюбил Грейнджер. Хотя, справедливости ради, надо сказать, что на её оценках это никак не сказалось. \\nDolores umbridge\\nДолорес Амбридж\\n\\nИнтересно, что схожая причина нелюбви появилась и у Долорес Амбридж. Гермиона настолько внимательно вчитывается в демагогию Слинхарда, что единственная из класса замечает: «Но в его принципах нет положения о том, как противостоять тёмной магии! Мы не будем учиться практической защите от Тёмных искусств?» И своим вопросом спровоцировала целую бурю возмущения одноклассников, которую Амбридж с трудом подавила.\\nГарри Поттер\\nJanuary-harryandhermione\\nГермиона и Гарри\\n\\nЕщё до того, как поехать в Хогвартс Гермиона прочитала несколько книг, рассказывающих о «Мальчике, который выжил»[15]. Поэтому с момента знакомства в Хогвартс-экспрессе у неё повышенное внимание к Гарри. С первого курса Гермиона видит, что Гарри приходится преодолевать препятствия, которые редко выпадают на долю людей его возраста. «Ты великий волшебник, Гарри», — говорит она ему ещё в июне 1992 года. Стремление помочь Поттеру в различных ситуациях постепенно формируют у неё к нему крепкие дружеские чувства.\\nРональд Уизли\\n4FNZJ7A2Id4\\nДружеское рукопожатие Рона и Гермионы\\n\\nКогда Гермиона увидела Рона в первый раз, его нос был вымазан в чём-то чёрном. По сравнению с другими учениками, ехавшими в Хогвартс-экспрессе и выглядевшими в первый школьный день празднично и «с иголочки», Рон сильно выделялся. Это заставило девочку обратить на него внимание. Пока что не более того. Чуть позже Гермиона заметила, что Рон считает её знания и активность на уроках чем-то нехорошим. То есть то, чем она гордилась в себе, кто-то не то что не оценил, а оценил со знаком «минус»! Это задевает её, она старается заниматься ещё больше, а в результате только получает фразу: «На самом деле она — ходячий кошмар!» Но когда Гарри и Рон спасают её от тролля, пробравшегося в замок, девочка выгораживает мальчишек перед учителями. Она говорит, что искала встречи с чудовищем, полагая, что справится с ним сама. И если бы не Гарри и Рон, она бы погибла. На самом деле мальчишки закрыли тролля в женском туалете, где, к несчастью, была в это время Гермиона. Но что да, то да: они спасли её. Причём Рон в критический момент очень ловко использовал «Вингардиум Левиоса», чары, которые ему ещё пару часов назад никак не давались. С тех пор Гарри, Рон и Гермиона стали лучшими друзьями.\\n\\nПервый поцелуй Рона и Гермионы в фильме\\nПервый поцелуй\\n\\nУже со второго курса становится заметно, что Гермиона значит для Рона несколько больше, чем он старается показать. Так, когда надо было идти в Запретный лес за пауками, Рон, страдающий острой арахнофобией[16], соглашается пойти туда только ради Гермионы, которая сейчас лежит окаменевшая в больничном крыле. Гермиону тоже привлекает Рон с его мягким юмором, с его умением на любую сложную ситуацию взглянуть с улыбкой. Однако ни один из них не показывает другому своих чувств. Или думает, что не показывает... Со временем они начинают ревновать друг друга к каким-либо поклонникам или поклонницам. И лишь через эту ревность становится заметно, насколько неравнодушны они друг к другу. Но, к счастью, в конце они нашли в себе смелость признаться в своих чувствах. Гермиона стала женой Рона, у них родились дети, которых Рон и Гермиона очень любили.\\nСемья Уизли\\nF 14827243\\nЧетверо счастливых детей Молли и Артура Уизли: Рон, Джинни, Джордж и Фред.\\n\\nУизли — одна из немногих оставшихся чистокровных семей, однако поборники чистоты крови считают их предателями, поскольку они не гнушаются общением с грязнокровками и маглами (Артур даже обожает их технические штучки). Поэтому тот факт, что Гермиона — маглорождённая, никак не влияет на отношение к ней членов семейства. Молли и Артур хорошо относятся к умной и порядочной девочке, охотно принимают её в своём доме, и Гермиона в ответ старается быть с ними вежливой, предупредительной и услужливой. Хорошие отношения связывают её и с другими представителями семейства.\\n\\nС пятерыми младшими детьми Уизли Гермиона знакомится в свой первый год в Хогвартсе. Летом 1993 года перед отправкой в Хогвартс ей удаётся пообщаться и с родителями семейства, и уже на следующий год Гермиона приезжает к ним на каникулы погостить. В последующие годы девочка проводит в «Норе» даже больше времени, чем в родном доме. Возможно, это связано либо со сложностями в отношениях с родителями, либо чрезмерной привязанностью к Рону, а также к Гарри, который тоже часто гостит в доме Уизли.\\n\\nГермиону связывают с семьёй Уизли довольно дружеские отношения, хотя иногда ей приходится конфликтовать с хулиганистыми близнецами. Впрочем, эти стычки вполне безобидны и никогда не заканчиваются крупными ссорами. Даже с Перси, который не очень-то ладит со своими родными братьями, она вполне находит общий язык.\\n\\nПосле замужества Гермиона становится членом этой семьи.\\n\\nНевилл Долгопупс\\nНевилл Долгопупс\\nС Невиллом Гермиону связывают дружеские чувства. Во время учёбы в Хогвартсе именно она много раз спасала его на уроках зельеварения, вовремя указав на ошибку, или же вообще сделав всё за него. Ей искренне жаль человека, который прикладывает столько усилий, чтобы хорошо учиться, но вот не выходит у него, и всё... На четвёртом курсе Невилл пригласил Гермиону на Святочный бал, но она отказала ему, поскольку уже была приглашена. Позже становится известно, что Невилл довольно часто говорил о Гермионе и её помощи своей бабушке.\\n\\nСлизеринцы\\nDraco-malfoy-hbp-promo-2133733315\\nДрако Малфой\\n\\nСреди слизеринцев наиболее высок процент людей, которые обзывают Гермиону грязнокровкой. Больше всех достаёт мисс Грейнджер однокурсница-слизеринка по имени Пэнси Паркинсон. Поэтому Гермиона весьма развеселилась, когда на пятом курсе кто-то наколдовал Пэнси рожки, и она вынуждена была провести несколько дней в больничном крыле.\\nДрузей Гермионы, Рона и Гарри, постоянно преследует другой слизеринец, Драко Малфой. Девушке он просто омерзителен. Пика это отношение достигло на третьем курсе. Ребята возвращались с урока ухода за магическими существами, и Драко стал пренебрежительно, просто по-хамски отзываться о профессоре Хагриде. Гермиона не выдержала, развернулась и отвесила негоднику пощёчину. Опешивший Драко поспешил убежать, пока Гермиона не схватилась за палочку[17].\\n\\nРита Скитер\\nHP4 promo Rita Skeeter\\nРита Скитер\\n\\nПервый раз столкнувшись с Ритой лицом к лицу, Гермиона резко отозвалась о её статьях о Гарри Поттере и посоветовала журналистке перестать писать всякую чушь. Скитер в ответ написала статью в «Ведьмином досуге», обвиняющую гордую девушку в поочерёдном «закадривании» знаменитостей. Эта статья повлекла за собой множество неприятностей для Гермионы: читательницы принялись присылать мисс Грейнджер резкие письма, особо эмоциональные — даже громовещатели. А одна особа прислала конверт с гноем бубонтюбера. Это не считая постоянных насмешек слизеринцев. В конце года, всерьёз настроившись отомстить, Гермиона выясняет, что Рита — незарегистрированный анимаг, и под угрозой разоблачения заставляет её прекратить писать очерняющие статьи.\\nПозднее Гермиона предлагает Рите работу — взять интервью у Гарри Поттера. И, неожиданно мило пообщавшись с ней, вместе с Полумной Лавгуд вынуждает её работать бесплатно. В дальнейшем почвы для контакта двух женщин практически не возникало, и книгой «Жизнь и обманы Альбуса Дамблдора» Гермиона вынуждена возмущаться заочно. Но ругается она серьёзно, а коротко упоминая, называет Риту старой обманщицей.\\n\\nРубеус Хагрид\\nRubeus Hagrid\\nХагрид\\n\\nГермиона, как и Гарри с Роном, любит заходить к Хагриду в гости. Полувеликан отзывается о ней очень уважительно, хвалит за её успехи в учёбе. Также Хагрид помогает ей научиться уважать себя даже после насмешек слизеринцев и приклеившейся кличке «грязнокровка», которую ей презрительно бросил Драко Малфой. На третьем курсе девочка потратила не один десяток часов, перелопачивая книги в библиотеке, в поисках материалов в защиту Клювокрыла. Увы, её старания были обречены на провал: судьи оказались подкуплены или запуганы, и Хагрид дело проиграл, его гиппогрифа осудили на казнь. И когда подошло время, вся троица отправилась к Хагриду, чтобы поддержать его в трудную минуту...\\nПолтора года спустя[18] Гермиона помогала профессору Хагриду готовиться к урокам. Дело в том, что Долорес Амбридж назначила полувеликану испытательный срок, и девочка пыталась лишить Генерального инспектора поводов для нареканий.\\n\\nРимус Люпин\\nLupin\\nПрофессор Люпин\\n\\nГермиона относится к Люпину очень уважительно, это её любимый учитель по Защите от Тёмных искусств. Но уже в середине учебного года она начала догадываться, что профессор Люпин болен ликантропией. Однако он симпатичен ей и как учитель, и как человек, поэтому она никому не говорит о своих догадках.\\nСам профессор Люпин относится к Гермионе тоже уважительно. Люпин вообще способен уважать людей, несмотря на их возраст и убеждения, если они этого уважения достойны. Обладая хорошим педагогическим чутьём, тактом и спокойным характером, он всегда внимательно выслушивает Гермиону и старается дать дельный совет. Без разницы, касается ли это его предмета, каких-то житейских ситуаций или идеи девочки бороться за права домовых эльфов. Также он хвалит её на уроке, говоря: «Даже я не смог бы ответить точнее, мисс Грейнджер».\\n\\nВ общем, отношения у Люпина и Гермионы очень тёплые.\\n\\nСириус Блэк\\nSirius-Black-Wallpaper-sirius-black-32913977-1024-768\\nСириус Блэк\\n\\nОтношение к Сириусу у Гермионы претерпевает множество изменений. Сначала это — ужас перед преступником, способным единым взмахом палочки забрать жизни у тринадцати людей, двенадцать из которых вообще случайно попались ему под руку. Когда девочка узнаёт правду, её отношение к несправедливо осуждённому резко меняется. Именно Гермиона после стольких лет называет Сириуса снова уважительно «мистер Блэк». И это не остаётся им незамеченным.\\nНо позже, знакомясь с Сириусом ближе, Гермиона чувствует в нём авантюрную жилку, тягу к приключениям, которая перекрывает все доводы разума. И к советам Блэка мисс Грейнджер относится осторожно. Сириус не является для неё таким авторитетом, как Дамблдор или даже как Люпин. Несколько позже к такому отношению придёт и Гарри Поттер, только чувства к Сириусу у Гарри будут намного теплее. В отстранении Гермионы от Блэка свою роль сыграло и пренебрежение, выказываемое им по отношению к своему домашнему эльфу Кикимеру.\\n\\nАльбус Дамблдор\\nDumbledorephilstone\\nАльбус Дамблдор\\n\\nГермиона восхищается Дамблдором как великим волшебником ещё заочно, лишь прочитав несколько книг по волшебству. После поступления в Хогвартс, к чувству восхищения добавляются и почтение, и безграничная уверенность, что для Дамблдора нет ничего невозможного. Для Гермионы директор — неоспоримый авторитет. Его поистине мудрые советы и фразы вызывают у девочки глубочайшее уважение. Хотя некоторые его поступки повергают её в священный ужас[19].\\nНе последнюю роль в отношении Гермионы к Дамблдору играют рассказы Гарри про общение с директором. В свою очередь, она часто советует Поттеру делиться с Дамблдором своими проблемами (болью в шраме и наказаниями у Амбридж), считая, что только он может помочь в полной мере. Дамблдор также относится к мисс Грейнджер весьма уважительно и советует Гарри (ирония судьбы!) поделиться тайными знаниями лишь с ней и Роном Уизли. После его смерти Гермионе от него досталась книга сказок Барда Бидля. Получив эту старинную книгу из рук Руфуса Скримджера, девушка расплакалась, вновь ощутив, насколько тяжёлую утрату понесли они все.\\nИсточник текста. Распространяется на условиях CC-BY-SA\\n\\n\", '\\n\\n\\nСириус Блэк\\n\\n\\nСириус Блэк III (англ. Sirius Black) — сын Ориона и Вальбурги Блэков. Лучший друг Джеймса Поттера и один из Мародёров, крёстный отец Гарри Поттера, член Ордена Феникса.\\n\\nБыл несправедливо обвинён в убийстве 12-ти маглов, которое совершил Питер Петтигрю, и помещён в тюрьму Азкабан. После 12 лет заключения сумел сбежать, однако в июне 1996 года был убит Беллатрисой Лестрейндж[2].\\n\\nСемья\\nSirius Disowned.jpg\\nСириус на семейном древе Блэков\\nYoung Sirius.jpg\\nСириус на первом курсе\\nThe Blacks - Pottermore.png\\nСириус с семьёй\\nРодился 3 ноября[1] 1959 года. Его родители — Орион Блэк и Вальбурга Блэк — были помешаны на чистоте крови. Имя «Сириус» было очень распространено в семействе Блэков, вероятно, поэтому родители и дали новорождённому такое имя. Кроме того, у Сириуса был младший брат — Регулус Блэк, который полностью разделял взгляды родителей. Орион и Вальбурга любили обоих сыновей. Но Сириус, сперва из вредности, а потом и по своему убеждению, становится в оппозицию ко всей чистокровной родне. Утверждение Кикимера, что Сириус «разбил сердце матери», не лишено основания. При поступлении в Хогвартс юный Блэк попадает, и не случайно, в Гриффиндор: он не делал различий между чистокровными волшебниками и полукровками, он считал ниже своего достоинства юлить и приспосабливаться, строить интриги и заниматься карьерой. У Сириуса есть два дяди по матери: Альфард Блэк и Сигнус Блэк III, одна тётя по отцу: Лукреция Пруэтт (Блэк), двоюродные сестры: Беллатриса Лестрейндж, Андромеда Тонкс и Нарцисса Малфой.\\n\\nРодители приветствовали решение Беллатрисы и Нарциссы соединиться с чистокровными семействами Лестрейнджей и Малфоев, тогда как имя Андромеды за брак с маглорождённым было удалено с гобелена родового древа Блэков. Та же участь постигла дядю Альфарда за помощь взрослому Сириусу деньгами и домом. Регулусом же родители были очень довольны: он проявлял все качества «истинных Блэков» и даже стал в весьма юном возрасте Пожирателем смерти. То есть принял сторону Волан-де-Морта, чью борьбу за предоставление всей полноты власти исключительно чистокровным волшебникам старшее поколение этой семьи считало правым делом.\\n\\nБиография\\nУчёба в Хогвартсе\\nJames Sirius youth\\nСириус и Джеймс в 15 лет\\n\\nСириус был лучшим другом отца Гарри Поттера — Джеймса Поттера, ещё с Хогвартса (мальчики были связаны родственными узами посредством брака Карлуса Поттера и Дореи Блэк — двоюродной бабушки Сириуса). Помимо Джеймса Сириус дружил с Римусом Люпином и Питером Петтигрю. Четверо друзей называли себя «Мародёрами» и частенько хулиганили, иногда весьма зло. Изготовили «Карту Мародёров». Вскоре после знакомства Сириус и его друзья узнают, что Люпин — оборотень. Но вместо того, чтобы отвернуться от Люпина, друзья решают стать анимагами, чтобы составлять компанию Люпину во время его ночных «прогулок». И уже к 5 курсу вся компания без проблем стала превращаться в животных: Сириус — в большого чёрного пса, Джеймс — в большого оленя, а Питер становился маленькой крысой.\\n\\nОт рождения до крестин Гарри\\nДомашняя обстановка Сириусу очень не нравилась и даже раздражала его. В раннем детстве он привык получать всё, что пожелает: ну как же, «быть Блэком, это почти то же самое, что быть отпрыском королевской крови». Некоторые замашки представителя «золотой молодёжи» остались у него даже после Азкабана. Однако после того, как Сириус столь неожиданно для родителей попал в Гриффиндор, они к нему постепенно охладели. Пытаясь вернуть сына «на путь истинный», постоянно ставили ему в пример младшего брата и читали нравоучения. И так ему надоели «со своей манией чистой крови», что в шестнадцать лет Сириус бежал из дома и поселился в доме Поттеров, где его встретили как родного сына — с распростёртыми объятиями. Альфард Блэк очень симпатизировал своему молодому племяннику, поэтому оставил ему в завещание большую сумму денег и собственный дом. За это Вальбурга Блэк выжгла имя Альфарда на гобелене семейного древа Блэков: она так надеялась, что лишённый средств Сириус вернётся в семью... Сириус переехал в дом, подаренный дядей в 17 лет, оставшись желанным гостем в доме Поттеров[3]. Он был шафером на свадьбе Джеймса и Лили. Затем, когда родился Гарри, Сириус стал его крёстным отцом.\\n\\nНоябрьское происшествие с Петтигрю\\nSirius\\nСириус в Ордене Феникса\\n\\nОсенью 1980 года стало известно, что за новорожденным сыном Поттеров начал охоту Волан-де-Морт, Альбус Дамблдор предложил этой молодой семье укрыться в доме, защищенном заклятием «Фиделиус» и даже предлагал себя в качестве Хранителя Тайны. Однако Джеймс и Лили видели в этой роли Сириуса. Но Сириус в последний момент убедил Поттеров, что более надёжным хранителем будет Питер Петтигрю: «никто и не подумает на такое ничтожество, как Хвост, что он ваш Хранитель». В результате, все считали Сириуса Хранителем Тайны Поттеров. Незадолго до этого среди членов Ордена Феникса пополз слушок, что один из «мародёров» переметнулся на сторону Тёмного Лорда. Кстати, Блэк подозревал в этом Римуса. Ну ещё бы! Джеймс — такой же незамысловатый и открытый человек, как и сам Сириус, к тому же за ним идёт охота. Питер — полное ничтожество, зачем такой помощник Пожирателям? А вот Римус — тихоня, человек немногословный, кто его знает, что у него на уме? Из Блэка получился никудышный психолог: Хвост примкнул в своё время к «мародёрам» в поисках сильных личностей, в тени которых ему будет спокойно и комфортно жить. Поэтому, когда покровительство Джеймса, Римуса и Сириуса стало шатким, Питер начал поиски нового хозяина. Именно Питер Петтигрю и стал тем предателем, о котором догадывались орденцы. Он выдал Волан-де-Морту местоположение семьи Поттеров и тем обрёк их, беззащитных, на верную смерть. Волан-де-Морт явился в дом Поттеров на исходе дня 31 октября 1981 года, убил Джеймса и Лили, и попытался убить маленького Гарри, но... вместо этого исчез сам. Сириус, узнав о несчастье, сразу же отправился к руинам дома Поттеров на своём летающем мотоцикле. Там он встретил Хагрида, который получил приказ от Дамблдора доставить Гарри к Дурслям. Сириус дал Хагриду свой мотоцикл, а сам отправился разыскивать Петтигрю (Сириус догадался, что только он мог сообщить местоположение Поттеров Волан-де-Морту). Петтигрю был вскоре найден Сириусом на одной людной магловской улице Лондона. Здесь произошла их схватка. Петтигрю прилюдно обвинил Сириуса в предательстве Поттеров, отрезал себе палец и превратился в крысу, создав при этом оглушительный взрыв. Петтигрю исчез, а Сириус был схвачен прибывшими из министерства мракоборцами. Свидетели-маглы безусловно признали виновным Сириуса. (После опроса маглам стёрли память специальными заклинаниями). Сириус же за убийство маглов и Петтигрю получил пожизненный срок в Азкабане, причём без какого-либо расследования или суда. Гарри узнаёт об этом от Сириуса и Люпина на третьем курсе.\\n\\nЗаключение в Азкабане\\nСириус Блэк\\nСириус после побега из Азкабана\\n\\nСириус долгое время провёл в Азкабане — с ноября 1981 по июнь 1993 года (то есть почти 12 лет). В этот период времени Сириус непрерывно сражался за свою жизнь, и ещё больше — за свой рассудок, ведь в Азкабане заключённые рано или поздно сходят с ума. Сириусу значительно помогали его магические возможности анимага. Превращаясь в большую чёрную собаку, Сириус практически не замечал дементоров, точнее — они теряли к нему интерес. Навязчивая мысль о том, что он сидит за чужую вину, а предатель разгуливает на свободе, не была счастливой, поэтому дементоры её не могли высосать. И эта мысль была тем стержнем, за который держался разум Блэка. За время заключения Сириус так отощал, что смог пролезть через решётку камеры, и в образе пса незамеченным сбежать из Азкабана.\\n\\nБегство из Азкабана и знакомство с Гарри\\nWanted\\nФотография Сириуса Блэка в «Пророке» с объявлением о розыске\\n\\nВ июне 1993 года Азкабан посещал Корнелиус Фадж — министр магии. Он привёз газеты заключённым, одна из которых досталась Сириусу. На её первой странице было изображено семейство Уизли, выигравшее тур в Египет. Сириуса заинтересовала на этой фотографии маленькая крыса, сидевшая на плече у Рона Уизли. У неё не доставало одного пальца на лапе. Сириус сразу же понял, что крыса — это Петтигрю, которому он должен отомстить. Эта идея завладела Сириусом. Даже стража Азкабана заметила, что он каждую ночь шептал: «Он в Хогвартсе…». После бегства Сириуса из Азкабана многие считали, что эти слова относятся к Гарри, но это оказалось не так. В одно июньское утро, когда дементоры разносили еду по камерам, Сириус выскочил через приоткрытую дверь камеры в облике пса. Так как дементорам чуждо восприятие животных, некоторое время никто не поднимал тревоги по поводу его исчезновения. Сириус же покинул остров-тюрьму, и, переплыв пролив между островом и материком, долго скитался, уходя как можно дальше от дементоров. В конце июля он добрался до городка, в котором жил Гарри. Это был большой крюк на пути к Хогвартсу, куда стремился Блэк, но, во-первых, времени до сентября, когда начнутся занятия и старая крыса Питер появится в замке с младшим Уизли, было достаточно, а во-вторых, ему очень хотелось взглянуть на выросшего крестника.\\n\\nPadfoot Sir\\nВ анимагическом образе\\n\\nПоздним вечером Гарри, который только что сбежал от Дурслей, заметил Сириуса между домами в облике огромного пса. Мальчик так при этом испугался, что едва не попал под колёса автобуса «Ночной Рыцарь». После этого происшествия Сириус добрался до Хогсмида, где устроил своеобразную «штаб-квартиру» в старой доброй «Визжащей хижине», дожидаясь приезда учеников в Хогвартс. Его не остановило даже присутствие дементоров, специально из-за него патрулирующих периметр территории замка. В этом году в школу в качестве преподавателя Защиты от Тёмных искусств приглашён Римус Люпин, но на помощь старого школьного товарища Сириусу рассчитывать не приходится: Люпин уверен в виновности Блэка. Вот с кем он действительно подружился, и кто всячески помогал Сириусу проникнуть в Хогвартс — это… кот Гермионы Живоглот. Сириусу удалось сделать это трижды. Первый раз он появился на стадионе во время матча Гриффиндор-Пуффендуй, правда, он вновь сильно напугал Гарри (тот принял Сириуса за пса Грима — предвестника скоропостижной кончины).\\n\\nHP3 В визжащей хижине\\nРон, Гермиона, Люпин, Гарри и Сириус в Визжащей хижине\\n\\nВторой раз Сириус, пробравшись в замок через потайной лаз, попытался заставить Полную Даму открыть дверь в общую гостиную Гриффиндора, после чего перепуганные преподаватели прочесали Хогвартс, но никого не нашли. Министерство после этого ужесточило охрану замка и окрестностей дементорами. Из всех портретов Хогвартса охранять вход в гостиную Гриффиндора согласился лишь Сэр Кэдоган, и так замучил учеников частой сменой паролей, что Невилл Долгопупс вынужден был все пароли записать на бумажку… которую благополучно из спальни мальчиков стащил Живоглот. Пробравшийся ночью в замок Сириус торжественно зачитал «грозному стражу» все пароли, спокойно прошёл в спальню, и попытался убить Питера. Питера, а не проснувшегося и заоравшего с перепугу Рона... Петтигрю понял, что Блэк не успокоится, пока не найдёт его. Поэтому он инсценировал свою смерть (перепачканная кровью простыня и пара волосков из шерсти Живоглота — не так это было и сложно) и сбежал. Правда, недалеко: в хижину Хагрида, где его случайно обнаружили Гарри, Рон и Гермиона. Был конец учебного года (июнь 1994 года), когда в результате погони за крысой Коростой (под этим именем Рон знал Питера Петтигрю) ребята попадают в «логово Блэка» — Визжащую Хижину. Там они поначалу приняли Сириуса за врага — Пожирателя смерти, но после разговора с прибежавшим Люпином (он давно уже присматривал за Гарри с помощью «карты Мародёров») и с самим Сириусом, а главное, после превращения крысы Рона в Петтигрю, достаточно быстро разобрались, кто кого действительно предал 13 лет назад (Сириус поведал друзьям всю правду про события октября-ноября 1981 года).\\nПотом... Потом случилось много событий: Люпина так не вовремя настиг приступ ликантропии, Питер воспользовался заминкой и, вновь обратившись в крысу, сбежал, а стараниями Снегга Сириуса схватили и посадили в башню замка до наказания — поцелуя дементора. Но Гарри и Гермиона, воспользовавшись маховиком времени, спасли Сириуса — он улетел на приговорённом к смерти (и также несправедливо) и спасённом ребятами гиппогрифе Клювокрыле.\\n\\nПоследний промежуток жизни\\n1172949499 53\\nЛицо Сириуса в камине Гриффиндорской гостиной\\n\\nПоследние 2 года жизни Сириуса — с июня 1994 по июнь 1996 года — от его встречи с Гарри и его друзьями в Визжащей хижине и до смерти в Министерстве Магии. За этот короткий промежуток мы узнали о Сириусе больше всего, т.к. он принимает живейшее участие в жизни Гарри, даже когда не может быть рядом с крестником. Вначале (лето 1994 года) Сириус покидает территорию замка и отправляется совсем в другую часть Англии, там он как бы случайно показывается маглам, чтобы дементоров убрали с охраны замка. Затем Сириус перемещается в дальние южные страны, время от времени связывается с Гарри, а 22 ноября 1994 даже общается с ним с помощью Летучего пороха (специальная каминная связь). Сириус постоянно даёт Гарри советы, наставления и становится для Гарри больше, чем другом, он становится кем-то вроде старшего брата и отца в одном лице: он становится для Гарри родным. Зимой 1994-95 года Гарри, Рон и Гермиона встречаются с Сириусом в Хогсмиде, и он оседает в Англии после долгих странствий вне дома. С лета 1995 года Сириус проживает в доме своей покойной матушки — Вальбурги Блэк. Здесь он томится от запрета покидать дом (Дамблдор боится за его жизнь и высказывается категорически против его «прогулок» даже в облике собаки), остро переживает свою неспособность активно помогать вновь восстановленному Ордену феникса. Чуть позже, после прочтения седьмой книги читателям представляется возможность провести параллель между сидением Джеймса Поттера и его семьи под заклятием Фиделиус и «вынужденным заключением» Сириуса. В августе 1981 Лили в своём письме пеняет Блэку, что тот не навещает друга. Всю безрадостность их положения Сириус ощутил лишь сейчас. Его одиночество скрашивают приезды Гарри и друзей летом 1995 года и в январе 1996 года. В это время Сириус пишет Гарри письма, ухаживает за Клювокрылом. Так проходит всё время Сириуса до рокового июня 1996 года. Эти события описаны в четвёртой и пятой книгах.\\n\\nСражение в Отделе тайн. Смерть\\nЗззз.png\\nСражение\\nSirius-black.jpgЖжж.pngСириус Блэк и Гарри Поттер.jpg\\nСириус приказывает Гарри собирать друзей и бежать\\nЬлолд.png\\nСириус умирает\\nВолан-де-Морт обманом заманивает Гарри Поттера в Министерство магии. Об этом Ордену Феникса становится известно от Северуса Снегга.\\n\\nНа подмогу Гарри в Отдел тайн Дамблдор отправляет лучших бойцов Ордена. В их число входит и Сириус Блэк (он сам настоял на отправке на это задание). На месте Сириус яростно сражается с Долоховым, потом перебрасывается парой слов с Гарри, спасает его от смертоносного луча и предлагает ему бежать. После этого Сириус вступает в сражение с Беллой. От первого луча Сириус уворачивается, а второй попадает ему в грудь, Сириус падает и исчезает за чёрной завесой. Гарри пытается спасти Сириуса, хочет последовать за ним, но Люпин запрещает Гарри идти туда, говоря, что Сириус погиб (из-за занавеса живыми не выходят). После Гарри много горевал, злился на себя и окружающих (в особенности в кабинете Дамблдора сразу после сражения в Отделе тайн), но всё-таки понемногу успокоился после наставлений Дамблдора и разговора с Полумной Лавгуд.[4]\\n\\nВзаимоотношения\\nМного внимания разбору образа Сириуса Блэка и его взаимоотношений с различными персонажами уделили авторы БИ. Интересующиеся этой темой могут почитать эти материалы.\\n\\nБлэки\\nLeft pointing double angle quotation mark sh4\\tДа, её мать, Андромеда, была моей любимой двоюродной сестрицей.\\tRight pointing double angle quotation mark sh4\\nСириус о Нимфадоре Тонкс\\nBellatrix Lestrange\\nБеллатриса Лестрейндж\\n\\nК своей семье Сириус относился весьма неоднозначно. Ни слова мы не слышим от Сириуса об отце, но о матери и брате он отзывается без всякой теплоты. Чересчур властная Вальбурга своими нравоучениями, похоже, настроила сына против себя, а похвалы послушному Регулусу отдалили Сириуса и от брата. Уже к одиннадцати годам юный Блэк настолько ненавидит всё, что олицетворяют Блэки, что с удовольствием поступает на Гриффиндор.\\n\\nLeft pointing double angle quotation mark sh4\\tОна уж точно мне не родня.\\tRight pointing double angle quotation mark sh4\\nСириус про Беллатрису\\nКузину Беллатрису Сириус Блэк ненавидел всей душой. Именно он сражался с ней в Министерстве магии. Это был его последний поединок, кузина Беллатриса с радостью убила его.\\n\\nЕдинственные члены семьи, которых Сириус любил — это кузина Андромеда и дядя Альфард.\\n\\nГарри Поттер\\nTumblr muy4ukPUhi1qdab59o4 250\\nГарри и Сириус\\n\\nИзначально Сириус чувствует вину перед Гарри за то, что не сумел спасти его родителей. Поэтому первым делом, сбежав из Азкабана, Блэк решил повидать юного Гарри и был поражён внешним сходством мальчика с Джеймсом. Иногда Сириус даже говорит: «Браво, Джеймс!», но это скорее из-за того, что полное имя Гарри — Гарри Джеймс Поттер. В свою очередь Гарри узнаёт сначала ту версию событий в Годриковой впадине, по которой в смерти его отца и матери обвиняется именно Блэк. Поэтому он люто ненавидит сбежавшего узника. При первой встрече Сириус никак не защищается от Гарри. Его цель — убить Петтигрю, за которым он так долго охотился и по вине которого на самом деле умерли Джеймс и Лили, а выпады Гарри он считает вполне заслуженными. Когда же всё выясняется, у Сириуса появляется робкая надежда наладить отношения с крестником. Каково же было его удивление, когда предложение пожить с ним Гарри радостно принимает.\\nГарри становится для Сириуса самым главным человеком в жизни. Из-за внешнего сходства с Джеймсом Блэку иногда кажется, что его друг ожил.[6] Он поддерживает любые начинания крестника, особенно — идею создания ОД. Правда, когда Гарри теряет осторожность, Сириус вспоминает свою роль старшего товарища и предупреждает об опасности. В стремлении защитить мальчика Блэк не останавливается перед трудностями и не задумывается о своей безопасности. В результате Гарри теряет того, кто заменил ему отца и старшего брата.[7]\\n\\nНасколько дорог крестный для Гарри видно из того, что во время действия воскрешающего камня к Поттеру приходят тени отца, матери, Римуса Люпина и Сириуса. И своего сына-первенца взрослый Гарри называет в честь самых любимых людей — Джеймс Сириус.\\n\\nАльбус Дамблдор\\nAlbus Dumbledore (HBP promo) 1\\nСириус всегда уважал Дамблдора и полностью ему доверял. Когда-то давно директору стало известно, что пятикурсник Блэк подстроил встречу слизеринца Снегга с оборотнем[8], и только по счастливой случайности дело не кончилось трагически. Тогда Дамблдор замял этот случай. Позже, когда Альбус Дамблдор создал Орден Феникса, он пригласил туда и Сириуса Блэка.\\n\\nПосле побега из Азкабана отношения между Блэком и Дамблдором стали несколько натянутыми. Хотя Сириус понимал, что директор Хогвартса желает ему добра, он всё же постепенно накапливал раздражение, подчиняясь его требованиям, которые шли вразрез с натурой Сириуса. Блэк, вынужденный скрываться в родительском доме (который, кстати, не переваривает ещё с детства), ощущает себя как в тюрьме. Любые попытки активно поучаствовать в работе Ордена Феникса натыкаются на вежливые, но настойчивые увещевания Дамблдора не подвергать себя опасности. Он нарушает запрет Дамблдора и пробирается в образе пса проводить Гарри на поезд. Появление собаки на закрытой от маглов платформе 9¾ привлекло внимание министерских мракоборцев, что в свою очередь сделало невозможным дальнейшие вылазки Сириуса из дома на пл. Гриммо, 12. В следующий раз Блэк покидает убежище, узнав, что Гарри грозит опасность в Отделе тайн...\\n\\nТакже Сириус знает о том, что Дамблдора и Грин-де-Вальда некогда связывала дружба, ведь в августе 1981 года Лили Поттер пишет ему:\\n\\nLeft pointing double angle quotation mark sh4\\tБатильда забегает к нам почти каждый день. Она очаровательная старушка, рассказывает о Дамблдоре совершенно поразительные вещи, не уверена, что он был бы доволен, узнав об этом! Не знаю, впрочем, можно ли им верить, потому что мне кажется невероятным, чтобы Дамблдор мог дружить с Геллертом Грин-де-Вальдом.\\tRight pointing double angle quotation mark sh4\\nОтрывок письма Лили, Гарри Поттер и Дары Смерти, глава 10.\\nВозможно, Сириус не поверил этому, возможно — не запомнил, но факт передачи информации остается фактом.\\n\\nДжеймс и Лили Поттер\\nПоцелуй Лили и Джеймса\\nДжеймс Поттер — лучший друг Сириуса. Именно он принял Сириуса в «мародёры». Они сдружились с первой поездки в Хогвартс, 1 сентября 1971 года. Тогда они ехали в одном купе и одинаково возненавидели Снегга.\\n\\nК Лили Поттер Сириус относился так же, как и к Джеймсу.\\n\\nОн был в ярости, когда Питер предал их, и готов был убить его.\\n\\nРимус Люпин\\nRemusHBP\\nРимус Люпин\\n\\nЛюпин был «мародёром» и другом Сириуса. Однако Римус был более осторожным и серьёзным, нежели Джеймс и Сириус. Римус, в отличие от своих друзей, никогда не участвовал в травле Северуса Снегга (и, вероятно, других студентов): из-за неизлечимой болезни он очень остро ощущал чужую боль. Но при этом Люпин никогда не останавливал товарищей в их «забавах»: слишком уж он дорожил их дружбой и боялся её потерять. Даже спустя годы Люпин сожалеет о том, что проявлял трусость и нерешительность. Возможно, в юные годы это стало причиной непонимания между ним и Сириусом. И, вероятно, это непонимание стало причиной того, что Сириус решил, что среди «мародёров» только Люпин способен стать предателем, а Люпин, напротив, поверил в виновность Сириуса. Но после побега Сириуса из Азкабана, они, скорее всего, смогли поговорить по душам и до конца понять друг друга. До самой смерти Сириуса у них сохраняются очень тёплые, дружеские отношения. Римус был сильно огорчён смертью друга, но, несмотря на собственную боль, смог удержать Гарри от побега в Арку Смерти.\\n\\nКикимер\\nСириус испытывает к домашнему эльфу острую неприязнь, ведь он — часть нелюбимого отчего дома. Впрочем, Кикимер отвечает ему взаимностью. «Хозяин Сириус» всячески шпыняет и унижает домовика. Гермиона и Дамблдор уговаривают Сириуса относиться к Кикимеру помягче, но тот всё пропускает мимо ушей, что в итоге приводит к трагедии.\\n\\nПеред Рождеством 1995 года Кикимер, воспользовавшись мимоходом брошенным Сириусом приказанием («Вон!»), покидает дом Блэков и отправляется к двоюродной сестре Сириуса Нарциссе Малфой. В доме Малфоев Кикимера принимают хорошо, а тот рассказывает там о Сириусе всё, что может и в дальнейшем продолжает поддерживать отношения с Малфоями. В конечном итоге, несколько месяцев спустя Волан-де-Морт использует домовика, чтобы заманить Гарри в Отдел тайн. Когда Орден спешит на выручку Гарри, Сириус настаивает, чтобы орденцы его взяли с собой. И в сражении в Комнате смерти он погибает.\\n\\nПозже Гермиона, ярая защитница домашних эльфов, так выскажется по этому поводу: «Маги ещё поплатятся за своё отношение к домовикам,<...> Волан-де-Морт, вон, уже поплатился... Да и Сириус тоже».\\nИсточник текста. Распространяется на условиях CC-BY-SA\\n\\n', '\\n\\n\\nРубеус Хагрид\\n\\n\\nРубеус Хагрид (англ. Rubeus Hagrid; род. 6 декабря 1928 года[2][3]) — преподаватель ухода за магическими существами и лесничий в Школе чародейства и волшебства «Хогвартс». Все зовут его просто Хагрид.\\n\\nПроисхождение\\nХагрид — наполовину человек, наполовину великан (рост не менее 11 футов). Его мать — великанша Фридвульфа, покинула его отца, когда Рубеус был ещё ребёнком. У Хагрида есть единоутробный брат-великан, которого зовут Грохх, которого Хагрид пытался учить английскому языку. Великаны имеют репутацию огромных и тупых убийц, которые, к тому же, в первую войну волшебников были на стороне Лорда Волан-де-Морта, поэтому Хагрид держит своё происхождение в секрете.\\n\\nХарактер\\nRubeushagrid\\nХагрид\\n\\nХагрид добродушен, терпелив, внимателен и раним. Он испытывает огромную любовь к животным, готов в каждом монстре разглядеть милого домашнего любимца, поэтому у него получается приручить даже самых свирепых из них. Некоторые считают, что он нелюдим, неуклюж, невежественен... Но это не так. Если Хагрид с кем-либо подружится, то более преданного друга вы не найдёте. Особую теплоту он питает к Гарри Поттеру и его друзьям, и всегда был рад видеть их у себя в гостях.\\nТакже Хагрид не честолюбив и не пытается нажить себе врагов. Он работает лесничим, и его это вполне устраивает. Даже после того, как его восстановили в правах на использование магии, а Дамблдор принял его на должность профессора по уходу за магическими существами, жизнь Хагрида не слишком изменилась. Он продолжал жить в своей хижине, ухаживать за Запретным лесом и его обитателями и даже не расстался со своей старой сломанной палочкой. Уроки со студентами он вёл на открытом воздухе и в соответствии со своими представлениями о том, какие животные опасны, а какие нет.\\n\\nИстория жизни\\nОт рождения до поступления в Хогвартс\\nХагрид и пара\\nХагрид с отцом\\n\\nРубеуса вырастил отец. Мать, великанша Фридвульфа, бросила и мужа, и сына. Тем не менее, Хагрид-старший смог заменить ребёнку мать. Правда, довольно скоро он умер. По крайней мере, к тринадцати годам Рубеус остался сиротой. Возможно, это является одной из причин, по которым Хагрид так привязан к Гарри — они оба выросли без родителей. На пятом курсе Гарри встречает в пабе пьяного лесничего, который разглагольствует о том, как похожи их судьбы. О смерти отца Хагрид вспоминает и в шестой книге, опять-таки будучи пьяным: он напился вместе со Слизнортом после похорон Арагога. Опечаленный смертью любимца, Хагрид вспоминает по аналогии и смерть отца, и страшную гибель Поттеров, искренне сочувствуя Гарри.\\nХагрид рос в географической области Глостершира, в лесу Дин.[4].\\n\\nГоды учёбы, 1940-1943\\nХагрид и арагог\\nЮный Хагрид\\n\\nХагрид учился в Школе чародейства и волшебства «Хогвартс» на факультете Гриффиндор[3] в одно время с Томом Реддлом (он на два курса младше будущего Тёмного Лорда). Когда полувеликан был на третьем курсе, Том Реддл обвинил его в том, что Хагрид открыл Тайную комнату и выпустил на волю Ужас Слизерина, из-за чего умерла студентка. Хотя обвинения не были ничем подтверждены, Министерство магии исключило Хагрида из школы и даже переломило его волшебную палочку. Альбус Дамблдор, тогдашний преподаватель трансфигурации, смог уговорить директора школы Армандо Диппета оставить Хагрида в школе на должности лесничего. С тех пор он живет в хижине около замка. Несмотря на запрет использовать волшебство, Хагрид сохранил обломки своей волшебной палочки и встроил их (вероятно, каким-то образом починив её) в розовый зонт, которым изредка тайно творит несложные заклинания.\\nПервая магическая война\\nМинерва 1 состав\\nХагрид в первом составе Ордена Феникса\\n\\nВ годы первого пришествия Волан-де-Морта Хагрид вступает в Орден Феникса. В этой организации он остаётся и во время второй магической войны. Дамблдор очень доверяет полувеликану. Именно Хагрид отыскал Гарри под обломками дома Поттеров в ночь гибели его родителей и привёз его к тёте и дяде. Именно он прибывает за одиннадцатилетним Гарри и говорит мальчику, что тот волшебник. Именно ему поручено забрать философский камень из Гринготтса[5]. И именно он везёт настоящего Гарри во время операции «Семь Поттеров».\\n\\nПреподаватель в Хогвартсе\\nUhodZaSusch\\nПервый урок Хагрида\\n\\nК моменту ухода профессора Кеттлберна на пенсию Рубеус Хагрид полностью реабилитирован в глазах магического сообщества (это заслуга Гарри и его друзей[6]). Поэтому Дамблдор назначает его преподавателем ухода за магическими существами.\\n\\nНа следующий год Хогвартс принимал у себя Турнир Трёх Волшебников[7]. Вместе с делегацией академии Шармбатон приезжает и её директор, Олимпия Максим. Она тоже — полувеликанша. Между ней и Хагридом завязываются весьма тёплые отношения. После возрождения Волан-де-Морта Дамблдор пытается собрать как можно больше сторонников. Те же задачи ставит себе и Тёмный Лорд. К колонии великанов, живущих где-то в горах, уходят Хагрид и мадам Максим.[8] Их миссия терпит фиаско, поскольку в игру вступили Пожиратели смерти. Великаны разделились на два лагеря: те, кто за Дамблдора и те, кто за Волан-де-Морта.\\n\\n9 Hagrid\\nВ ночном побоище великанов сторонники Тёмного Лорда победили. Хагрид и мадам Максим вынуждены вернуться ни с чем. Хагрид ведёт с собой ещё и великана Грохха, который оказался его единоутробным братом.[9] Этот попутчик весьма задержал Рубеуса в дороге, и мадам Максим, спешащая к началу учебного года в Шармбатон, оставляет их одних. \\nRubiest Hagrid\\nХагрид в 1996 году\\n\\nВернувшись в Хогвартс, профессор ухода за магическими существами сталкивается с новоиспечённым генеральным инспектором Долорес Амбридж. Целый год Амбридж, ненавидящая полукровок и полулюдей, придирается к Хагриду, выставляет его посмешищем перед учениками. В конце концов, она оставила его на испытательный срок, который Хагрид игнорирует, а затем попыталась его уволить и арестовать. Рубеус вынужден был бежать из замка.[10]После увольнения Амбридж Хагрид был восстановлен в должности.\\nКак ни странно, именно нежная и беззаветная любовь Хагрида к опасным чудовищам помогает Гарри Поттеру в его стараниях узнать у профессора Слизнорта истинное содержание подправленного воспоминания о будущем Волан-де-Морте. Когда весной 1997 года умирает Арагог, огромный паук, бывший когда-то домашним питомцем лесничего, Гарри приводит Слизнорта на похороны акромантула. А позже, когда профессор размяк от выпитого на поминках, убеждает его поделиться настоящим воспоминанием.\\n\\nЛетом 1997 года Хагрид участвует в операции «Семь Поттеров» и чуть не погибает, пытаясь спасти Гарри от нападающих Пожирателей смерти.[11]\\n\\nРубеус Хагрид остаётся в Хогвартсе и тогда, когда директором школы становится Северус Снегг. После рождественских каникул лесничий устроил в школе вечеринку в поддержку Гарри Поттера и вынужден был опять бежать из Хогвартса.[12]\\n\\nРубеус Хагрид и его брат Грохх участвовали в Битве за Хогвартс. Хагрид был взят в плен Пожирателями смерти, его связали и привели на ту самую поляну, где Тёмный Лорд ожидал, когда Мальчик, Который Выжил придёт на свидание с собственной смертью. И когда Гарри «умер», обезумевший от горя лесничий на руках понёс его в замок...\\n\\nХагрид несет мертвого Гарри\\nХагрид несет «мёртвого» Гарри\\n\\nВ эпилоге седьмой книги (а это 2017 год) говорится, что Хагрид продолжает работать в Хогвартсе.\\n\\nДрузья\\nХагрид дружит с Роном, Гарри и Гермионой. Дамблдор доверяет Хагриду, ведь преданность полувеликана директору безгранична. И доверяет ему такие секреты, которые потом Хагрид как бы нечаянно выбалтывает троице друзей.\\n\\nHarry and Hagrid 250\\nГарри и Хагрид после битвы\\n\\nУ Хагрида вообще славно получается «нечаянное выбалтывание секретов».\\n\\nВ книге «Гарри Поттер и Орден Феникса» Хагрид вместе с мадам Максим получил от Дамблдора задание: поговорить с великанами и убедить их быть на стороне Дамблдора, а не Волан-де-Морта, но миссия не завершается успехом, так как среди великанов поднимается бунт и их прошлого лояльного к Ордену Феникса главаря убивают, а его место занимает тот, кто относится положительно к Пожирателям смерти. Хагрид возвращается в Хогвартс вместе со своим братом-великаном Гроххом, которого скрытно провёл в Запретный лес на территории школы и привязал его к самым крепким деревьям, чтобы тот не сбежал. Хагрид начал воспитывать его и учить английскому языку.\\n\\nЛюбимые магические существа\\nХагрид испытывает привязанность к всевозможным огромным животным и монстрам. Точнее, во всяком монстре он готов рассмотреть милого домашнего любимца. И относится с искренней любовью даже к самым кровожадным из них. Во время своего обучения в школе Хагрид тайно пронёс в Хогвартс детёныша акромантула Арагога, и растил его там. Среди его питомцев — волкодав Клык и трёхголовый пёс Пушок, гиппогриф Клювокрыл и выведенные им соплохвосты...\\n\\nНа первом курсе обучения Гарри Поттера Хагрид купил у незнакомца (которым оказался профессор Квиррелл) драконье яйцо. Он набрал в хогвартской библиотеке книги по выведению драконов (громадный косматый полувеликан на фоне книжных полок — это что-то!) и трепетно начал выхаживать драконье яйцо. Когда вылупился дракончик, которого Хагрид назвал Норбертом, радости лесничего не было предела. Ни сомнения Гарри и Рона, ни резонные доводы Гермионы не могли заставить Хагрида отказаться от радости выращивать у себя в хижине живого дракона. И только явное несоответствие подросшего Норберта размерам домика Хагрида (а вовсе не его манера всё поджигать и кусать) убедили полувеликана отдать Норберта брату Рона Чарли, занимающемуся разведением драконов в Румынии. Впоследствии Хагрид признавался, что прощание с Норбертом (который в последствии оказался самкой) было одним из его самых тяжёлых воспоминаний.\\n\\nВо время битвы за Хогвартс, когда в замок врываются акромантулы, Хагрид кричит: «Не трогайте их, не убивайте». И не вполне понятно, кому он это кричит: паукам, в надежде, что они прекратят нападать на замок, или волшебникам, которые могут погубить глупых зверушек. Хагрид — единственный в Англии, кто смог приручить фестралов. Его любимец был первым рождённым на территории Запретного леса фестралом. Хагрид дал ему имя — Тенебрус.\\n\\nАрагог\\nПаук-акромантул Арагог\\nКлык\\nВолкодав Клык\\nНорберт\\nДракончик Норберт\\nКлювокрыл\\nГиппогриф Клювокрыл\\nПушок\\nПушок\\nОтношения с другими персонажами\\nГарри Поттер, Рон Уизли и Гермиона Грейнджер.\\nTrio after battle\\nГарри, Рон и Гермиона\\n\\nТрио друзей всегда было в дружбе с Хагридом. Гарри познакомился с Хагридом в 11 лет. Именно Рубеус Хагрид рассказал Гарри, что он является волшебником. Именно Хагрид показал Гарри первые чудеса. И именно Хагрид стал тем человеком, который забрал его от Дурслей. Хагрид отвёл Гарри в Косой переулок и открыл ему основные тайны мира волшебников. С таким защитником Гарри впервые в жизни чувствует себя в безопасности, ведь никакому Дадли с дружками не придёт в голову тебя обижать, если рядом шагает грозный и сильный Хагрид... Чуть позже Гарри знакомит с Хагридом своих хогвартских друзей, Рона и Гермиону. После этого они часто ходили к нему в гости. Рубеус угощал их кексами собственного изготовления и чаем. Правда, кулинар из него не ахти какой, поэтому ребята из вежливости лишь делали вид, что едят эти угощения.\\nАльбус Дамблдор\\nDumbledorephilstone\\nАльбус Дамблдор\\n\\nLeft pointing double angle quotation mark sh4\\tСкорее, Невилла возьмут в сборную Англии по квиддичу, чем Хагрид предаст Дамблдора.\\tRight pointing double angle quotation mark sh4\\nРон Уизли о Хагриде[13]\\nДля Хагрида Дамблдор был эталоном совершенного волшебника. Хагрид умеет разглядеть в человеке доброту и умеет быть благодарным. Он предан Дамблдору с самого дня своего исключения из Хогвартса, когда профессор позволил остаться ему при замке и работать в качестве лесничего.\\n\\nХагрид никому не позволит оскорбить профессора Дамблдора в его присутствии. Дамблдор тоже высоко ценит Хагрида. «Я бы доверил ему свою жизнь», — абсолютно серьёзно говорит старый директор и это подтверждает его отношение к Хагриду. Сам Дамблдор не раз поддерживал Хагрида в трудные минуты — и когда стало широко известно, что мать Хагрида великанша, и Хагриду стали приходить громовещатели с требованием уволиться из школы, и когда гиппогрифа Клювокрыла приказали казнить, Дамблдор всегда был рядом. Ещё в конце 70-ых, вступив в Орден Феникса, Хагрид активно принимал участие в Первой магической войне. А в начале второй по поручению Дамблдора возглавлял операцию по переговорам с великанами. Смерть Дамблдора стала для Хагрида трагедией. Он очень долго не мог прийти в себя после похорон.\\n\\nДрако Малфой\\nDraco6\\nДрако Малфой\\n\\nС детства Драко слышал о Хагриде, что тот дикарь — какой-то прислужник в Хогвартсе и вообще «дубина неотёсанная». Увидев, что Гарри тепло относится к Рубеусу, Драко начинает всё чаще отзываться о нём пренебрежительно. Правда, делает это больше за глаза. Высказывать свои претензии преподавателю прямо в лицо Малфой не привык. Тем более, что такие попытки Хагрид достаточно твёрдо пресекает. Не поменяло ничего в отношении Драко к Хагриду и то, что профессор стал между ним и разъярённым гиппогрифом, спасая жизнь Малфоя. Впрочем, чувство благодарности — редкий гость в душе Драко.\\nТом Реддл\\nTeenagetomriddle\\nТом Реддл\\n\\nЕщё в школе Хагрид и будущий Тёмный лорд Том Реддл были врагами. Том, открыв Тайную комнату и выпустив из неё василиска, начал истребление нечистокровных волшебников. Узнав о том, что Хагрид держит у себя акромантула Арагога, Том решает воспользоваться этим. Он застаёт Хагрида, прячущего паука и убеждает директора, что именно полувеликан стоит за смертью Миртл. Хагрида исключают из школы, но стараниями Дамблдора он становится лесничим Хогвартса.\\nИсточник текста. Распространяется на условиях CC-BY-SA\\n\\n', '\\n\\n\\nРональд Уизли\\n\\n\\nРональд Билиус «Рон» Уизли (англ. Ronald Bilius «Ron» Weasley) — один из главных персонажей Поттерианы, друг и одноклассник Гарри Поттера и Гермионы Грейнджер, член Золотого Трио.\\n\\nОбладатель специальной награды Хогвартса «За заслуги перед школой», полученной в 1993 году за спасение школы от чудовища Тайной комнаты — василиска.\\n\\nБиография\\nУчёба в Хогвартсе\\nПервый год в Хогвартсе\\nРон поступил в Хогвартс в 1991 году. Ещё в Хогвартс-экспрессе он познакомился и подружился с Гарри Поттером. Честный, открытый, дружелюбный и простой Рон очень понравился Гарри, а не страдающий «звёздной болезнью» знаменитый Мальчик-Который-Выжил точно так же пришёлся по душе Рону. Тот факт, что ни один из них не считал себя в чём-то лучше и выше другого, заложил основы крепкой и долгой дружбы.\\n\\nТам же в поезде Рон познакомился ещё с несколькими ребятами, но отношения с ними не заладились с самого начала. Драко Малфой вслед за отцом пренебрежительно отозвался о всей семье Уизли, а Рон помнил отзывы своего отца о Малфоях, поэтому возникшая между ними враждебность была предопределена.\\n\\nЛёгкая неприязнь, которую Рон при знакомстве почувствовал к Гермионе Грейнджер, имеет более интересную причину. Девочка, несмотря на то, что она маглорождённая, с первых минут знакомства демонстрирует свою начитанность и умение колдовать. А Рон и так опасается, что не дотянет до уровня старших братьев, ведь ему хочется выделиться, превзойти их. Всезнайка Гермиона — лишнее напоминание о неполноте знаний самого Рона, лишний повод для него чувствовать себя неуверенно.\\n\\nPromoHP1 Ron and Harry\\nГарри и Рон на первом курсе\\n\\nРон попал на факультет Гриффиндор, как и все остальные члены его семьи. Как и Гарри Поттер, как и (не всё ж коту масленица!) раздражающая его Гермиона. Недовольство безапелляционной «выскочкой» достигает своей наивысшей точки незадолго до Хэллоуина, и Рон признаётся Гарри, что «эта Грейнджер» — просто ходячий кошмар!\\n\\nHP1 Тролль побеждён\\nТролль, сраженный Роном\\n\\nК сожалению, девочка услышала их разговор. Она и раньше замечала, что её знание ответов на все вопросы преподавателей не радует одноклассников, но слова Рона стали для неё последней каплей. Спрятавшись от всех в туалете для девочек, она пропустила праздничный пир. Пропустила заявление профессора Квирелла, что тролль попал в подземелье замка. Пропустила охватившую учеников панику и всеобщую эвакуацию из Большого зала. И чуть было не стала жертвой тролля, который как раз решил заглянуть в злосчастный туалет. Однако Рон и Гарри вовремя подоспели на выручку. (Перед этим мальчики случайно заперли тролля в одном туалете с Гермионой, но вовремя осознали это). Им удалось вывести тролля из строя. При этом особенно отличился Рон. Недавно выученное заклинание «Вингардиум Левиоса», которое до этого раза никак не получалось у мальчика, сыграло решающую роль.\\nМальчишки, спасшие девочку от вполне реальной опасности, почувствовали себя героями, а прилюдное признание Гермионы, что если бы не Уизли и Поттер, она была бы сейчас мертва, и вовсе вознесло их на небывалые высоты самоутверждения. С другой стороны, Гермиона испытывала к мальчикам искреннюю благодарность, да и после этого случая стала менее щепетильно относиться к школьным правилам. Короче, с этого дня все трое стали лучшими друзьями.\\n\\nLeft pointing double angle quotation mark sh4\\t— Да… Это единственный способ… Мне придётся пожертвовать собой.\\tRight pointing double angle quotation mark sh4\\nРон во время игры в шахматы Макгонагалл\\nRon-knight\\nРон на коне жертвует собой\\n\\nВ конце первого года они защитили Философский камень от Квиррелла и лорда Волан-де-Морта. Талант Рона к игре в волшебные шахматы стал ключом к победе в партии в заколдованные шахматы Макгонагалл. Во время игры Рон пожертвовал собой, чтобы Гарри мог объявить мат вражескому королю, и это дало возможность Гарри и Гермионе идти дальше. В конечном счёте Гарри победил Квиррелла и защитил Философский камень, а Рон был награжден 50 очками от Альбуса Дамблдора за «лучшую шахматную партию в истории Хогвартса».\\nВторой год в Хогвартсе\\nЛетом 1992 Рон и его старшие братья — близнецы Фред и Джордж увезли Гарри Поттера с Тисовой улицы 4. Они втайне от отца и матери[5] взяли летающий автомобиль отца — Фордик марки «Англия».\\n\\nHarryRonFlyingCar\\nРон и Гарри в угнанном летающем форде\\n\\nЗатем в начале школьного семестра Рон и Гарри не смогли попасть на Хогвартс-экспресс (как потом выяснилось, эльф-домовик Добби заколдовал проход на платформу 9¾) и были вынуждены снова использовать Фордик, чтобы попасть в школу.\\nВ конце их поездки волшебный автомобиль так устал, что слишком резко пошёл на посадку, и Рон с Гарри врезались в Гремучую иву. Дерево тут же начало хлестать обидчиков ветвями. Собрав последние силы, Фордик вырвался из цепких ветвей Ивы, выпихнул из салона своих пассажиров и их багаж и скрылся в Запретном лесу.\\n\\nЗа столь нетрадиционное прибытие в школу (ребята нечаянно нарушили «Международный статут о секретности» и сильно подвели отца Рона) их наказали, написав письма родственникам домой. Дядя и тётя Гарри письмо проигнорировали, а вот Рону досталось по полной программе: мама прислала ему громовещатель — специальное письмо, которое гневно отчитало Рона на весь Большой зал.\\n\\nLeft pointing double angle quotation mark sh4\\t— Палочка!.. Палочка сломалась!\\n— Скажи спасибо, что не шея.\\tRight pointing double angle quotation mark sh4\\nРон и Гарри\\nВо время аварии волшебная палочка Рона раскололась на две части. Он пытался её починить, но целый год палочка постоянно подводила своего владельца. Мало того, что на уроках она выдавала ошибку за ошибкой, так ещё и рикошетила обратно в своего владельца. Самым неприятным случаем стала попытка Рона проклясть Драко Малфоя за то, что тот назвал Гермиону «грязнокровкой». Заклятие Рона ударило по нему самому, и Рону некоторое время пришлось отрыгивать слизняков.\\n\\nВ этом году кто-то открыл Тайную комнату и выпустил на свободу «Ужас Слизерина», который стал нападать на маглорождённых учеников и полукровок. Троица подозревала в этом Драко Малфоя, который открыто восхищался Наследником Слизерина и предрекал полное очищение Хогвартса от «грязнокровок».\\n\\nОкаменелая Гермиона\\nМинерва Макгонагалл, ребята и Мадам Помфри у постели окаменевшей Гермионы\\n\\nЧтобы подтвердить свои догадки о том, что именно Драко открыл Тайную Комнату, было решено обманным путём расспросить самого Малфоя. Гермиона приготовила Оборотное зелье. Рон превратился в Винсента Крэбба, а Гарри — в Грегори Гойла. Гермиона собиралась превратиться в одну из девочек-слизеринок, но её превращение оказалось неудачным: она добавила в зелье не волос Милисенты Булстроуд (как она считала), а волос её кошки. Увы, вся эта рискованная затея почти ничего не принесла — Рон и Гарри узнали, что Малфой не был Наследником Слизерина.\\n\\nНо вот жертвой чудовища неожиданно стала сама Гермиона. Только ради неё Рон, страдавший арахнофобией (боязнью пауков), нашёл в себе силы пойти в Запретный лес в логово пауков-акромантулов. Их патриарх Арагог дал мальчикам ценную информацию, но они едва вырвались оттуда: ведь только Рубеус Хагрид мог посещать эти места без опаски. А спас друзей одичавший в лесу Фордик.\\n\\n«Следствие» Гарри и Рона позволило им понять, что Ужас Слизерина — это василиск, а вход в Тайную Комнату находится в туалете Плаксы Миртл. Очередной жертвой стала младшая сестра Рона, Джинни, которую (как было заявлено) монстр утащил к себе в логово. И мальчики бросились её спасать, обезоружив и вынудив следовать за собой подвернувшегося на пути учителя Локонса.\\n\\nMedium 456c37d0358cdb431d1f899eb98d765f\\nРон и Гарри угрожают Локонсу\\n\\nПрофессор, оказавшийся трусом, единственный навык которого заключался лишь в умении вовремя стереть память настоящим авторам подвигов, которые он описывал в своих книгах, попытался увильнуть от этой миссии. Улучив возможность завладеть сломанной палочкой Рона, Локонс попытался со всей силы (чтобы перебороть сопротивление палочки) наложить на ребят заклинание, стирающее память (предположительно, Обливиэйт). Палочка привычно срикошетила назад и отшибла Локонсу память настолько основательно, что он забыл даже своё имя. Кроме того, палочка добавила немного пиротехники, так что потолок пещеры, ведущей в Тайную комнату, частично обвалился, и Рон оказался отделён от Гарри грудой камней. И пока Поттер сражался с василиском и Томом Реддлом и спасал Джинни, младший Уизли в одиночку расчищал завал: впавший в детство профессор ничем помочь ему не мог, а на хромую палочку надеяться и вовсе было опасно. За эту «операцию» Рон был наравне с Гарри удостоен Специальной премии за Заслуги перед Школой, а также получил двести очков для факультета от директора школы Альбуса Дамблдора.\\nТретий год в Хогвартсе\\nWeasley family\\nСемейство Уизли на отдыхе в Египте\\n\\nЛето 1993 года было для Рона запоминающимся. Отец выиграл главный приз «Ежедневного пророка», и на полученные деньги вся семья съездила в Египет, чтобы проведать работающего там старшего сына Билла. Но когда они вернулись, всё волшебное общество Великобритании было взбудоражено известием о побеге из Азкабана узника по имени Сириус Блэк.\\nВсе считали Сириуса приспешником Волан-де-Морта, убийцей Питера Петтигрю и ещё двенадцати ни в чём не повинных маглов. Блэк, как полагали, стремится убить Гарри, завершить дело Хозяина, и с этой целью будет преследовать мальчика. Некоторые знали ещё больше: Блэк предал Джеймса и Лили Поттеров Тёмному Лорду, когда Гарри был младенцем. В этом году Министерство магии поставило оцепление дементоров вокруг Хогвартса и ввело их патрулирование в ближайшей деревушке Хогсмид.\\n\\nLeft pointing double angle quotation mark sh4\\t— Сириус Блэк! С ножом! Был здесь! Только что! Разрезал полог! Разбудил меня!\\tRight pointing double angle quotation mark sh4\\nРон о Сириусе Блэке[6]\\nНо это не помогло. Однажды ночью Сириус Блэк проник не просто в школу, а в спальню мальчиков-гриффиндорцев. И (как казалось) едва не напал на Рона. На некоторое время младший Уизли попал в центр всеобщего внимания и был весьма доволен этим. Между тем, Гермиона ещё летом купила себе кота Живоглота, который сразу невзлюбил крысу Рона Коросту. Постоянные попытки Живоглота поймать бедную крыску изрядно портили отношения между хозяевами животных. И когда Короста пропала, а в спальне мальчиков Рон нашел кровавое пятно и три рыжих кошачьих волоска на его простынях, он сразу обвинил Живоглота.\\n\\nHP3 Ron and Hermione\\nРон и Гермиона на третьем курсе\\n\\nУтверждения Гермионы, что пропажа крысы — не дело лап её домашнего любимца, поссорило друзей окончательно. До этого они поссорились, когда кто-то неизвестный подарил Гарри метлу «Молнию», и Гермиона поделилась с профессором Макгонагалл подозрениями, что метлу мог прислать Блэк, наделив подарок каким-нибудь опасным подвохом. Целый месяц профессора Хогвартса проверяли метлу. И целый месяц Рон и Гарри дулись на девочку.\\nСитуацию изменил Рубеус Хагрид. Он вызвал друзей на откровенный разговор и попенял им, что «для вас метла и крыса дороже друга». Мальчики помирились с Гермионой. Рон предложил помочь ей в поисках материалов для защиты Клювокрыла. Этот гиппогриф Хагрида напал на Драко Малфоя во время первого урока по Уходу за магическими существами, и лесничему предстояло на суде отстаивать жизнь гиппогрифа. Однако их усилия оказались бесполезны, и Клювокрыла приговорили к смертной казни.\\n\\nПридя к Хагриду перед казнью, чтобы поддержать полувеликана, ребята нашли в его хижине... Коросту. Живую и невредимую. Но стоило Рону с друзьями выйти на улицу, как крыса укусила мальчика и попыталась сбежать. Погоня за ней привела ребят к Гремучей Иве. И тут на Рона, успевшего ухватить Коросту, напал огромный волкодав, затащивший обоих куда-то в лаз под корнями драчливого дерева. Гарри и Гермионе не оставалось ничего другого, как последовать за другом.\\n\\nKinopoiskruHarryPotterandthePrisonerofAzkaban1558459\\nРон с Коростой в Визжащей Хижине\\n\\nЛаз привёл их в Визжащую хижину, а волкодав оказался анимагом Сириусом Блэком. Сидя на старой пыльной кровати и баюкая сломанную ногу, Рон пытался предупредить друзей о ловушке, но было слишком поздно. Удивительно, но сбежавший узник Азкабана не спешил убивать Гарри. Оказалось, он охотился за Коростой. Дело в том, что крыса Рона была никакой не крысой, а давним приятелем Сириуса, тоже анимагом Питером Петтигрю, за убийство которого Блэк отсидел 12 лет. Это Петтигрю, а не Блэк, переметнулся на сторону Того-Кого-Нельзя-Называть. Это Петтигрю, а не Блэк, предал родителей Гарри. Это Петтигрю, а не Блэк, устроил взрыв, унесший жизни 12 маглов. Рон был потрясен тем, что крыса, с которой он делил свою кровать, прятал за пазухой, таскал везде с собой в течение многих лет, оказалась на поверку Пожирателем смерти.\\nРебята вернулись в замок. Но совсем не так, как планировали вначале. Они-то думали привести живого Петтигрю, доказать невиновность Сириуса и восстановить справедливость. Но пришедшие в Хижину Римус Люпин и Северус Снегг изменили финал происшествия. Да, Люпин помог ребятам разобраться в том кто есть кто, но он, оборотень, на выходе из лаза в Гремучей Иве попал в лучи лунного света. От монстра, в которого превратился Римус, ребят спас Сириус, ставший громадной собакой. А сначала оглушённый в Визжащей хижине, а потом пришедший в себя (и благополучно пропустивший весь «разбор полётов») Снегг доставил в Хогвартс и трёх третьекурсников, и сбежавшего обессиленного узника. Петтигрю, воспользовавшись суматохой, превратился в крысу и был таков.\\n\\nDumbleronfeet\\nВ Больничном крыле\\n\\nВ то время, как Рон лежал без сознания в больничном крыле, Гарри и Гермиона смогли спасти Клювокрыла от казни и Сириуса от поцелуя дементора, используя маховик времени Гермионы. Позже Сириус послал Рону маленького совёнка, чтобы тот стал заменой Коросте. Совёнок был породы карликовый сыч, и Джинни назвала его Сычиком.\\nЧетвёртый год в Хогвартсе\\nЛетом 1994 года Артур Уизли через Людо Бэгмена достал несколько хороших билетов на Чемпионат мира по квиддичу. Это событие было весьма знаменательным для мира волшебников, и семья Уизли пригласила живущих в магловском мире Гарри и Гермиону поехать с ними.\\n\\nПеред матчем Рон купил миниатюрную фигурку любимого игрока — ловца сборной Болгарии Виктора Крама, и ещё пару сувениров, потратив все свои карманные деньги. Поэтому, когда на глаза ребятам попался продавец омниноклей, денег у Рона не осталось. «Не страшно», — сказал Гарри и купил волшебные бинокли и себе, и Рону с Гермионой. А закомплексовавшего по поводу долга Рона он успокоил обещанием не дарить тому подарков на Рождество.\\n\\nПозже, когда талисманы ирландской сборной осыпали стадион золотом, Рон, набравший полные карманы монет, с радостью расплатился ими с Гарри. Позже Рон узнаёт, что лепреконское золото бесследно исчезает уже через сутки. И очень огорчился, что долг, который он считал уплаченным сполна, на самом деле так и не был отдан.\\n\\nLeft pointing double angle quotation mark sh4\\t— Должно быть, здорово иметь кучу денег и даже не заметить, что целый карман галлеонов исчез... Я думал, что отдаю тебе долг... Ненавижу бедность.\\tRight pointing double angle quotation mark sh4\\nРон говорит Гарри об отданном долге.[7]\\nВ этом году в Хогвартсе проводился Турнир Трёх Волшебников, для участия в котором приехали делегации студентов Дурмстранга и Шармбатона. Рон был в восторге, когда увидел, что Виктор Крам тоже приехал на Турнир. Самый младший Уизли хотел бы участвовать в соревновании (приз в 1000 галлеонов!), но устроители Турнира ввели ограничение по возрасту. Только те, кому исполнилось 17 лет, могли быть выбраны Чемпионами своих школ.\\n\\nКогда Гарри неожиданно стал четвёртым чемпионом от несуществующей школы, Рон был среди многих студентов, которые сочли Поттера мошенником. Это привело к ссоре, несмотря на попытки Гермионы помирить их. После первого задания Рон понял, что Гарри в действительности не бросал своё имя в Кубок Огня, и что тот, кто это сделал, хотел смерти Поттера. И сам первый попросил прощения.\\n\\nВ конце первого семестра профессор Макгонагалл объявила, что в Хогвартсе будет проводиться традиционный Святочный бал. Очарованный красотой Флёр Делакур, Чемпионки от Шармбатона, Рон пригласил её, но гордая внучка вейлы окатила его таким холодным взглядом, что он убежал, сгорая от стыда: все вокруг видели его унижение.\\n\\nОтчаявшись найти партнёршу, Рон пригласил Гермиону. К его удивлению, она тоже отказалась. Как считал Рон, из чистой вредности. Впрочем, утверждение самой Гермионы, что её уже пригласили, заставляет Рона раз за разом спрашивать её: «Кто?». Не получая ответа, он начинает ревновать Гермиону, неизвестно к кому.\\n\\nНаконец, в последний день Гарри нашёл и себе, и Рону пары. С Гарри согласилась пойти Парвати Патил, а с Роном — её сестра-близнец Падма. Купленная по дешёвке матерью Рона выходная мантия (ещё одно напоминание о бедности) была настолько старомодна и уродлива, что Рон попытался её переделать с помощью магии. С минимальным эффектом. И без того неважное настроение мальчика испортилось вконец, когда он увидел, что Гермиона действительно пошла на Бал с другим. Теперь он точно знал, к кому ревновать подругу: к дурмстранговцу Виктору Краму.\\n\\nНи Гарри, ни Рон не имели желания веселиться: девушка, на которую засматривался Гарри, тоже пришла на Бал с другим. Рон стал обвинять Гермиону в том, что она пошла на бал «с врагом», та в ответ заявила, что её надо было приглашать не в последний момент, когда «всех хорошеньких» разобрали... Короче, Рон с Гермионой опять жутко поссорились.\\n\\nВо время Второго Задания Турнира Рон был «заложником», которого должен был спасти Гарри, в то время как Гермиона была «заложником» для Виктора Крама. Несмотря на то, что до своего «спасения» от водяного народа ребята были в состоянии волшебного сна, Рон принялся рассказывать, что на него напали, оглушили, уволокли в Озеро... С каждым разом его рассказ становился всё красочней, а деяния всё героичней, собирая вокруг доверчивых слушателей. Пока Гермиона не бросила ироничное замечание: «Интересно, что ты с этими тритонами делал?»[8]\\n\\nТретье задание окончилось трагедией — Седрик Диггори был убит Питером Петтигрю по приказу Волан-де-Морта. В конечном итоге Тёмный лорд возродился, и это фактически ознаменовало начало Второй магической войны. Об этом рассказал вернувшийся с телом Седрика Гарри.\\n\\nНа этот раз Рон верит другу безоговорочно. Перед лицом нависшей над всем волшебным миром опасности отходят на второй план мелкие обиды. Уизли даже просит автограф у Виктор Крама, тем более, роман Гермионы с болгарином, похоже, не задался...\\n\\nПятый год в Хогвартсе\\nС возрождением Волан-де-Морта уже через несколько часов была возрождена и организация под названием Орден Феникса. Рон, Гарри и Гермиона помогали обустраивать штаб-квартиру Ордена на Площади Гриммо, 12. Большинство членов семьи Рона было участниками Ордена, хотя его брат Перси рассорился со всеми своими близкими из-за того, что заодно с министерским начальством не желал признавать возрождения Волан-де-Морта, при этом негативно отзываясь о Дамблдоре и Гарри.\\n\\nДля всех стало неожиданностью назначение Рона старостой Гриффиндора. Даже сам Рон был уверен, что эта должность достанется Гарри. Старостой у девочек стала Гермиона. В первые дни учебного года Перси написал Рону письмо, в котором поздравил его с назначением старостой и посоветовал перестать дружить с Гарри Поттером, если брат хочет в будущем хорошего карьерного роста. Рон был разъярён и порвал письмо.\\n\\nНовым преподавателем Защиты от Тёмных искусств стала Долорес Амбридж, первый заместитель министра. Корнелиус Фадж назначил её на эту должность, чтобы та присматривала за делами в Хогвартсе, и особо — за его директором. Амбридж запрещала студентам пользоваться защитными заклинаниями, утверждая, что теоретических знаний на экзамене будет вполне достаточно.\\n\\nРон и Гермиона предложили Гарри создать кружок по обучению защите от Тёмных искусств, чтобы научиться практической защитной магии. Впоследствии они назвали этот кружок Отрядом Дамблдора.\\n\\nВ начале сентября Рон пробовался на испытаниях, чтобы стать вратарём Гриффиндорской команды по квиддичу взамен окончившего школу Оливера Вуда. Рон выиграл испытания, но слабым его местом оказалась неуверенность в себе.\\n\\nДрако Малфой сочинил песню «Рональд Уизли — наш король», где высмеивал Рона. И слизеринцы с удовольствием пели эту песню во время матчей гриффиндорской команды, чем выводили из себя не только Уизли, но и весь факультет Гриффиндор. Однако благодаря блестящей игре Рона в последнем матче гриффиндорцы выиграли Кубок школы по Квиддичу.\\n\\nНезадолго до Рождества Гарри привиделось, что Артур Уизли подвергся нападению Нагайны в Отделе тайн. Видение оказалось настоящим. Рон вместе с учившимися в Хогвартсе братьями и сестрой были отправлены Дамблдором в Лондон, в дом Сириуса, чтобы быть поближе к попавшему в больницу отцу.\\n\\nСпустя несколько месяцев, когда Гарри, задремав на экзамене, увидел, как Сириуса пытает лорд Волан-де-Морт, мальчик был уверен, что этот случай настолько же реален, насколько было реально нападение на мистера Уизли.\\n\\nГарри, Рон, Гермиона, Джинни, Полумна Лавгуд и Невилл Долгопупс полетели на фестралах в Министерство, чтобы спасти Сириуса. Там их уже поджидали Пожиратели смерти. Во время развернувшейся битвы кто-то послал в Рона Веселящие чары, и Рон стал как бы не в себе. Потом он по незнанию притянул к себе с помощью Манящих чар заколдованный мозг, от которого сильно пострадал, и несколько дней пролежал в больничном крыле Хогвартса.\\n\\nШестой год в Хогвартсе\\nЛетом Рон узнал, что сдал семь экзаменов СОВ, провалив Прорицания и Историю магии. К своему удовольствию, он продолжил посещать все те занятия, что Гарри и Гермиона. Рон принял участие в отборочных пробах на вратаря и показал лучший результат, оторвавшись на один мяч от Кормака Маклаггена. Юноша не знал, что сидевшая на стадионе Гермиона послала в Кормака заклятие Конфундус, заставляющее человека потерять ориентацию в пространстве, и это помешало тому поймать последний мяч.\\n\\nВ этот год Рон стремительно взрослеет. Он попытался отругать сестру за то, что она целовалась с Дином Томасом. Но в ответ Джинни напустилась на брата: Рон ведёт себя как маленький! Вон Гарри целовался с Чжоу, Гермиона — с Виктором Крамом, один Рон считает поцелуи чем-то грязным. Рон, приревновав Гермиону к позапрошлогоднему ухажёру, решил завести роман с кем-нибудь из однокурсниц. На эту роль он выбрал милую Лаванду Браун.\\n\\nРон неплохо играет в квиддич только тогда, когда не волнуется. А волнуется он практически всегда. Решив заняться этой проблемой, Гарри перед первой игрой в году сделал вид, что добавил в тыквенный сок Рона Феликс Фелицис (зелье удачи). Это увидела Гермиона, и, решив, что это произошло на самом деле, стала отговаривать мальчишек от жульничества. Уверенный, что удача на его стороне, Уизли сыграл великолепно, и Гриффиндор победил. Однако, когда после матча Гарри сказал, что это была уловка, что все голы Рон брал сам, вратарь Гриффиндора обвинил Гермиону в том, что она не верит в его способности. Гарри, который надеялся, что после матча друзья помирятся, был обескуражен таким побочным эффектом.\\n\\nВ пику Рону Гермиона начинает встречаться с Кормаком Маклаггеном, справедливо полагая, что этот ухажёр вызовет в Роне наибольшую неприязнь. Однако через некоторое время она прекращает с Маклаггеном всякие отношения и стоически пытается не замечать, как Рон милуется с Лавандой на глазах у всего факультета.\\n\\nВместе с тем у Рона и Лаванды всё шло не так уж и гладко. Привычка Лаванды называть Рона «Бон-Бон» («Конфетка»), целоваться, где только можно, её гламурненькие подарки вызывают у мальчика глухую неприязнь.\\n\\nПервого марта Рон случайно съел шоколадные котелки, которые Гарри подарила Ромильда Вейн. Они оказались пропитаны любовным напитком, поскольку мисс Вейн надеялась таким образом заполучить сердце знаменитого Поттера. В итоге Рон внезапно воспылал страстью к Ромильде. Тогда Гарри, не зная как самому привести его в чувство, привёл друга к профессору Слизнорту. Рон выпил зелье, нейтрализующее действие Амортенции, и пришёл в себя. \\n\\nЧтобы отметить это событие, а также день рождения Рона, профессор угостил мальчиков медовухой. К ужасу Гарри, Рон, выпивший свой бокал сразу, стал синеть и задыхаться. Хорошо, что Поттер вовремя нашёл в саквояже Слизнорта безоаровый камень.\\n\\nЭто противоядие почти ко всем известным ядам подействовало, но Рону пришлось провести несколько дней в больничном крыле. Охваченная паникой Гермиона прибежала в палату Рона, забыв, что они в ссоре. В бреду Рон звал Гермиону, а когда его выписали, решил расстаться с Лавандой.\\n\\nВ день нападения Пожирателей на Хогвартс Рон вместе с некоторыми членами Отряда Дамблдора выпил глоток «Феликса» и патрулировал коридор: Гарри подозревал, что как только Дамблдор отлучится из школы, Драко Малфой сделает что-то нехорошее.\\n\\nВо время нападения Рон, Гермиона, Джинни, Невилл и Полумна сражались наравне с охранявшими замок мракоборцами и членами Ордена Феникса. Его старшего брата Билла покусал оборотень, Фенрир Сивый. Но, к счастью, это случилось не при полной луне, и Билл остался вполне нормальным человеком. Вскоре после похорон Альбуса Дамблдора Рон и Гермиона решили помочь Гарри с поисками крестражей.\\n\\nПоиск крестражей\\nВ течение лета 1997 года Рон начал планировать поиск крестражей с Гарри и Гермионой. С помощью своего отца, Фреда и Джорджа Рон преобразовал семейного упыря. Тому надо было играть роль младшего Уизли во время участия реального Рона в поиске крестражей.\\n\\nОперация Семь Поттеров\\nВ конце июля Рон участвовал в операции Ордена по спасению Гарри с Тисовой улицы. Выпив Оборотное зелье и превратившись в одного из «семи Поттеров», он полетел с Тонкс.\\n\\nВо время погони за ними следовали по крайней мере три Пожирателя Смерти, включая Беллатрису и Родольфуса Лестрейнджей. Рон оглушил одного из Пожирателей в воздухе, чем заслужил восторженное одобрение своей спутницы-мракоборки.\\n\\nЗавещание Дамблдора\\nМинистр магии Руфус Скримджер по завещанию Альбуса Дамблдора отдал Рону делюминатор. 1 августа все трое друзей присутствовали на свадьбе старшего брата Рона Билла и Флёр Делакур, где Рон достаточно мрачно посматривал на Виктора Крама. Ведь Гермиона до сих пор переписывалась с болгарином.\\n\\nПобег из Норы\\nПразднование было прервано появлением патронуса Кингсли Бруствера, сообщившего, что Министерство магии пало, Руфус Скримджер убит, а Волан-де-Морт с Пожирателями захватили власть. Гермиона, Рон и Гарри трансгрессировали в Лондон, на улицу Тотнем-Корт-Роуд и зашли в обычное магловское кафе. Однако вслед за ними туда заявились Антонин Долохов и Торфинн Роули. Как выяснилось позже, они напали на след ребят из-за того, что Гарри произнёс вслух имя Волан-де-Морта: на это имя отныне было наложено заклинание Табу.\\n\\nРасправившись с пожирателями, ребята трансгрессировали на площадь Гриммо, в дом Сириуса Блэка. Расспросив Кикимера, друзья узнали, что в 1979 году Регулус Блэк выкрал из пещеры крестраж Волан-де-Морта — медальон Салазара Слизерина, но при этом героически погиб. На вопрос друзей, где сейчас находится этот медальон, Кикимер заявил, что эта вещь из дома пропала, поскольку её украл Наземникус Флетчер. Гарри дал домовику задание найти и доставить мерзкого воришку.\\n\\nПроникновение в Министерство\\nОсновная статья: Налёт на Министерство магии\\nКогда спустя несколько дней Кикимер притащил Наземникуса, друзья узнали, что медальон у того конфисковала Долорес Амбридж. Гарри, Рон и Гермиона придумали план, в соответствии с которым проникли в Министерство магии, приняв с помощью Оборотного зелья облик его сотрудников. Рон, превратившийся в Реджинальда Кроткотта, быстро отделился от друзей, так как Пожиратель смерти Яксли приказал ему остановить дождь в его кабинете.\\nLeft pointing double angle quotation mark sh4\\t— В моем кабинете все еще идет дождь. Уже два дня!\\n— Ну так купите зонтик!\\tRight pointing double angle quotation mark sh4\\nЯксли и Рон\\nДрузья воссоединились после того, как Гарри и Гермиона украли медальон у Амбридж и освободили некоторых маглорождённых волшебников. Они трансгрессировали, но впредь были вынуждены оставить дом на площади Гриммо, из-за того, что Яксли зацепился за Гермиону и в итоге получил доступ в их укрытие.\\n\\nСсора и возвращение\\nПри спешной повторной трансгрессии с площади Гриммо в лес, Рона расщепило, и он без сил пролежал в палатке несколько дней, хотя Гермиона сразу же промыла рану экстрактом бадьяна и, как могла, вылечила его больную руку.\\n\\nПервый день они провели в лесу (рядом с тем местом, где тремя годами раньше проходил финал чемпионата мира по квиддичу), а на следующий трансгрессировали в какую-то рощицу. Они были голодны, и Гарри попытался добыть еду, однако ему помешали дементоры, а Поттер, из-за висящего на груди крестража, не смог их прогнать. Друзья решили в этом месте более не задерживаться и трансгрессировали в Уэльс.\\n\\nИм удалось подслушать разговор скрывающихся от новой власти Дирка Крессвелла, Теда Тонкса, Дина Томаса и двух гоблинов — Кровняка и Крюкохвата, из которого узнали, что Джинни, Невилл и Полумна пытались выкрасть меч Гриффиндора из кабинета нового директора Хогвартса — Северуса Снегга.\\n\\nПытаясь разузнать подробности, Гермиона вытащила из своей бисерной сумочки портрет Финеаса Блэка, который ранее сняла со стены в доме Сириуса, и стала расспрашивать его о мече. После этого разговора взвинченный из-за вредно действовавшего на него медальона Рон обвинил Гарри в том, что у того нет никакого плана действий и заявил о своём уходе. Спросив Гермиону, уходит ли она с ним и получив отрицательный ответ, Рон оставил медальон и трансгрессировал. Гарри с Гермионой остались одни.\\n\\nСовершив трансгрессию, Уизли наткнулся на егерей, которым заявил, что его зовут Стэн Шанпайк. Егеря заспорили, а Рон тем временем отобрал палочку у того, кто его держал, и трансгрессировал, попытавшись вернуться к друзьям, но это ему не удалось. После этого Рон решил направиться не домой, а к старшему брату Биллу в коттедж «Ракушка».\\n\\nРон пробыл у Билла и Флёр до Рождества, а потом услышал из делюминатора голос Гермионы и щёлкнул переключателем. Из делюминатора вылетел световой шар, который подплыл к Рону, а затем переместился прямо в него. Поняв, что это поможет найти друзей, Рон трансгрессировал, но не смог их сразу отыскать из-за наложенных на их лагерь защитных заклинаний.\\n\\nИ лишь когда вслед за ними он прибыл в Королевский лес Дин, ему удалось отыскать Гарри и спасти его от смерти в замёрзшем озере, а заодно и достать со дна неведомо как попавший туда Меч Годрика Гриффиндора. Но когда Рон попытался его использовать, чтобы разрушить медальон Слизерина, крестраж Волан-де-Морта явил ему ужасные сцены. Запаниковавший Рон всё-таки уничтожил крестраж. Благодарный Гарри простил друга сразу же, а вот чтобы наладить отношения с Гермионой, пришлось приложить немало усилий.\\n\\nЕдва не лишившись из-за собственного каприза лучшего друга и девушки, Рон глубоко прочувствовал свою ошибку и в дальнейшем (в куда более трудных обстоятельствах) вёл себя безупречно.\\n\\nЗасада в Доме Лавгудов\\nДрузья решили посетить Ксенофилиуса Лавгуда, чтобы тот рассказал о знаке, с которым приходил на свадьбу Билла и Флёр. Ксенофилиус скрыл от друзей тот факт, что его дочь Полумна была схвачена Пожирателями смерти прямо в Хогвартс-экспрессе в качестве заложницы, чтобы заставить незадачливого издателя прекратить правдивые публикации в журнале «Придира».\\n\\nПоставленный перед жестоким выбором, Лавгуд посчитал, что поимка с его помощью самого Гарри Поттера поможет спасти дочь, поэтому он отправил сообщение Пожирателям и попытался задержать друзей. Спаслись они благодаря находчивой Гермионе, которая спрятала Рона под мантией-невидимкой (так как он якобы лежал дома, болея обсыпным лишаем, и видеть его Пожирателям не полагалось) и позволила прибывшим мельком увидеть Поттера, чтобы те не наказали Лавгуда за «ложный вызов».\\n\\nПобег из особняка Малфоев\\nВо время пасхальных каникул 1998 года трио было схвачено бригадой Егерей во главе с Фенриром Сивым после того, как Гарри произнёс вслух имя Волан-де-Морта.\\n\\nПленников отправили в Поместье Малфоев, где Рон попытался убедить Беллатрису Лестрейндж, что для допроса лучше взять его, а не Гермиону, но та лишь презрительно заявила, что когда «грязнокровка» умрёт, следующим будет Рон, так как для неё «предатели чистокровных немногим лучше грязнокровок», и велела Сивому отвести друзей в подвал.\\n\\nВ подземелье Гарри и Рона встретила Полумна Лавгуд. Кроме неё, в подвале находился ещё старик Олливандер. Попросив у него гвоздик, Полумна принялась распутывать верёвки, которыми были связаны друзья. Рон, услышав визжащую Беллатрису и ужасные крики пытаемой Гермионы, совсем обезумел и начал вырываться. Когда Полумна сказала, что в полной темноте работа стопорится, Рон вдруг вспомнил о делюминаторе. После того, как три светящихся шарика повисли под потолком, дело пошло быстрее.\\n\\nСлыша крики Гермионы, Рон бегал по помещению, стучал в стены, а «Гарри в отчаянии сорвал с шеи мешочек Хагрида и стал шарить в нем.»[9] Когда в выпавшем осколке зеркала он увидел чей-то голубой глаз, он, словно обезумев, закричал: «Помогите! <...> Мы в подвале, в доме Малфоев, помогите нам!»\\n\\nГермиона храбро переносила пытки Круциатусом и упорно твердила, что ни в какую ячейку Гринготтса они не забирались, что с гоблином она встретилась лишь сегодня и что этот меч — «подделка, всего лишь подделка». Чтобы убедиться в последнем, в подвал отправили Драко, чтобы тот привёл Крюкохвата. Гарри успел шепнуть гоблину, чтобы тот подтвердил слова Гермионы, а Рон щёлкнул делюминатором, выключив свет. Ничего не заподозривший Малфой отвёл Крюкохвата наверх, после чего в подвале неожиданно материализовался домовик Добби, которого, как оказалось впоследствии, прислал на помощь Аберфорт Дамблдор.\\n\\nДобби по просьбе Гарри переправил Полумну, Дина и Олливандера в коттедж «Ракушка» на окраине Тинворта, но шум трансгрессии услышал Люциус Малфой. Когда Питер Петтигрю спустился для проверки в подвал, на него напали Гарри с Роном. Рон поймал руку с волшебной палочкой и рванул её вверх, а Гарри зажал рот Питера рукой.\\n\\nКогда сверху раздался нетерпеливый вопрос Люциуса, что там происходит, Рон проорал в ответ, довольно похоже подражая сиплому голосу Хвоста: «Ничего! <...> Всё в порядке!»\\n\\nКогда серебряная рука Петтигрю схватила Гарри за горло и стала душить, Гарри напомнил Питеру, что тот у него в долгу, поскольку когда-то он спас Хвосту жизнь. Петтигрю в замешательстве ослабил хватку, Гарри неожиданно вырвался, а Рон вырвал палочку. Эта минутная слабость стоила Петтигрю жизни — серебряная рука, подаренная предателю Волан-де-Мортом, не простила своему хозяину этой слабости и сомкнулась у него на горле...\\n\\nДрузья отправились спасать Гермиону и Крюкохвата, они смогли даже обезоружить своих врагов, но нож Беллатрисы у горла Гермионы заставил их отступить и бросить палочки на пол. Однако, вернувшийся Добби обрушил огромную люстру на голову Беллатрисе, которая едва успела отскочить в сторону. Рон вытащил Гермиону из обломков люстры, Гарри схватил палочки и Крюкохвата, и им, перед самым прибытием Волан-де-Морта, удалось всем вместе трансгрессировать из поместья Малфоев. Однако, Беллатриса успела в самый последний момент метнуть им вслед серебряный кинжал, который вонзился в грудь Добби. Рана оказалась смертельной и славный домовик погиб.\\n\\nОграбление Гринготтса\\nПосле того, как Гермиона выздоровела, друзья решили пробраться в Гринготтс, чтобы украсть Крестраж из хранилища Лестрейнджей. Гоблин согласился помочь им в обмен на Меч Гриффиндора. Они превратили с помощью оборотного зелья Гермиону в Беллатрису. Рон пошёл, как вымышленный иностранный волшебник по имени Драгомир Деспард. Гарри с Крюкохватом спрятались под мантией-невидимкой. В конечном итоге, несмотря на предательство Крюкохвата, трио добыло Чашу Пенелопы Пуффендуй и улетело из банка на драконе. Затем Гарри решил попасть в Хогвартс, где, как оказалось, находился очередной крестраж.\\n\\nБитва за Хогвартс\\nВ то время как Гарри искал Диадему Кандиды Когтевран, Рон и Гермиона отправились в Тайную комнату за клыками Василиска. Рону, слышавшему как Гарри говорит «Откройся» на Парселтанге, после нескольких попыток удалось открыть вход в логово мертвого Василиска, где Гермиона и уничтожила Крестраж — чашу Пенелопы Пуффендуй с помощью яда одного из клыков змея. Воссоединившись с Гарри, друзья отправились в Выручай-комнату. Рядом с ней Рон высказался за то, чтобы эвакуировать эльфов из кухонь Хогвартса, а Гермиона, постоянно отстаивавшая права эльфов, с которыми так плохо обращалось общество, была столь тронута, что поцеловала его, к восхищению Рона. Их поцелуй был прерван Гарри, сказавшим, что битва продолжается.\\n\\nГарри, Рон и Гермиона вошли в Выручай-комнату, чтобы найти диадему Когтевран, туда же проникли Малфой, Крэбб и Гойл. В попытке убить Гарри, Крэбб использовал адское пламя, но потерял над ним контроль. Трио удалось выбраться с помощью мётел, и даже спасти двух слизеринцев — Гарри вытащил Драко, а Рон и Гермиона — Гойла.\\n\\nОни стали свидетелями смерти брата Рона — Фреда, ставшей для Рона большим потрясением. Гермиона, однако, привела его в чувство, напомнив о необходимости найти Нагайну, представляющую собой последний крестраж Волан-де-Морта. Друзья пробрались к Визжащей Хижине, где на их глазах змея убила Северуса Снегга по приказу Тёмного Лорда. Во время паузы в битве Рон и Гермиона присоединились в Большом Зале к остальным Уизли, оплакивавшим Фреда, тогда как Гарри в это время отправился вначале в кабинет директора для просмотра воспоминаний Снегга, а оттуда — в Запретный лес, к Волан-де-Морту. На завершающем этапе битвы Рон не только не пострадал сам, но и сразил (на пару с Невиллом) Фенрира Сивого и первым (вместе с Гермионой) подбежал к Гарри после его победы над Волан-де-Мортом.\\n\\nДальнейшая судьба\\nРон женился на Гермионе Грейнджер. У них родились дочь Роза и сын Хьюго, которые были уже полукровками (Рон — чистокровный, Гермиона — маглорождённая). Также Рон является крестным отцом Джеймса Сириуса Поттера — старшего ребёнка своей сестры Джинни и её мужа Гарри.[10] После сравнительно непродолжительной (два года) службы в Министерстве магии в качестве мракоборца, он занял место Фреда, став вместе с Джорджем совладельцем магазина «Всевозможные волшебные вредилки». В 2017 году Рон наконец-то сдаёт экзамен на магловские водительские права. Правда, для этого ему пришлось наложить на инструктора заклинание «Конфундус»...\\n\\nВ пьесе «Гарри Поттер и Проклятое дитя» описывается альтернативная реальность, созданная Альбусом Поттером и Скорпиусом Малфоем. В этом изменённом мире Рон женат не на Гермионе, а на Падме Патил, и у них есть сын Панжу Уизли.\\n\\nПозже, когда реальность вернулась к исходному состоянию, Рон вместе с Гарри, Джинни, Гермионой и Драко Малфоем отправляется с помощью маховика времени в 1981 год, чтобы спасти своего племянника Альбуса и его друга, застрявших в прошлом.\\n\\nHarry Potter & Ron Weasley\\nРон со своим лучшим другом\\n\\nХарактер\\nРон — самый младший сын в семье Уизли. У него пятеро старших братьев (Чарли, Билл, Перси, близнецы Фред и Джордж) и младшая сестра Джинни. Привычка матери Рона ставить старших детей в пример младшим выработала у него своеобразный комплекс «второсортности», который он остро переживает, стараясь превзойти старших братьев. Тот факт, что Гермиона учится лучше него по всем предметам, а Гарри с каждым годом становится все известнее, заставляет Рона искать различные пути для достижения поставленной цели.\\n\\nСамый большой страх Рон испытывает перед пауками. И на то есть причина: давно, в детстве, один из близнецов Уизли превратил его плюшевого мишку в громадного паука. С тех пор даже безобидные домашние паучки вызывают у Рона приступ паники. Однако, несмотря на свои страхи, Рон способен пожертвовать собой ради благополучия близких людей. Он становится смелым и самоотверженным, когда друзьям требуется помощь.\\n\\nИз-за несерьезного отношения к учебе Рон кажется ленивым и инфантильным. Гермиона описывала его как незрелого человека, не способного догадаться о чувствах окружающих. Умеющий в нужный момент разрядить обстановку, лучший друг Гарри Поттера имеет особое восприятие морали, часто обижающее товарищей.\\n\\nВнешний вид\\nВ книгах Рон описан как худой и долговязый мальчик с рыжими волосами и голубыми глазами, лицо его усыпано веснушками. Из всех братьев он больше всего похож по телосложению на Перси.\\n\\nМагическая сила и навыки\\nИнтересно, что наиболее ярко силы Рона проявляются в те моменты, когда он чувствует ответственность за кого-то другого. Он великолепно применил чары «Вингардиум Левиоса», спасая от тролля Гермиону и беспомощно висящего на тролле Гарри.[11] А ведь ещё пару часов назад они у него не получались никак! Он защищал Тонкс во время операции «Семь Поттеров», сидя на метле за её спиной. И Нимфадора отзывалась о нём с неподдельным восхищением: так здорово применять заклятия по движущейся мишени!\\n\\nВзаимоотношения\\nСемья\\nРон был довольно близок со своей семьей, и хотя ему иногда стыдно за отсутствие денег, Рон всегда яростно защищает своих родителей, братьев и сестру.\\n\\nПосле второй магической войны семейство Уизли возросло, когда четверо его братьев и сестра сыграли свадьбы и родили детей. Гермиона Грейнджер и Рон тоже поженились и у них появились дети — Роза и Хьюго Уизли.\\n\\nГарри Поттер\\nГарри и Рон\\nГарри и Рон на втором курсе\\n\\nГарри Поттер был лучшим другом Рона с 1991 года. Эти двое были близки, как братья. Они подружились ещё в поезде. Когда Драко Малфой уничижительно высказался в адрес Рона и его семьи, Гарри отказался от рукопожатия Драко в пользу дружбы с Роном. Несмотря на взаимопонимание, Рону часто бывает неуютно из-за того, что Гарри знаменит, а он находится как бы в его тени. Если в первое время он с этим как-то смирялся, то на четвёртом курсе тот факт, что Гарри стал Чемпионом и теперь примет участие в Турнире Трёх Волшебников, вызвал у него острую зависть. Это привело к их первой ссоре. Усугубляет ситуацию то, что Рон вечно переживает из-за своей бедности, в то время как Гарри неплохо обеспечен. С годами Рон постепенно начинает понимать, насколько обременительна для Гарри его слава, и постепенно справляется со своими чувствами, да и из-за бедности переживает всё меньше и меньше. Но во время уничтожения медальона-крестража Гарри узнаёт нечто новое: мало того, что Рон ревнует к нему Гермиону, он также считает, что родная мать любит Гарри больше, чем его. Гарри удаётся объяснить другу, что он ошибается, после чего в их отношениях не остаётся никаких недомолвок и сложностей.\\n\\nГермиона Грейнджер\\nОтношения Рона с Гермионой были неровными, но, по большому счету, значительную часть времени они были хорошими друзьями, между которыми порой пробегала романтическая напряжённость.\\n\\nС того времени, когда Рон впервые встретил Гермиону в Хогвартс-экспрессе в начале первого года, он был раздражён её «показухой» и «педантичностью». Мальчик даже расстроился из-за того, что она попала на тот же факультет, куда он так стремился. Но после того, как Гарри и Рон спасли Гермиону от тролля, эти трое гриффиндорцев стали лучшими друзьями, несмотря на постоянные препирания Рона и Гермионы. Рон частенько поддевал Гермиону, но тут же вставал за неё горой, если кто-то пытался обидеть девочку.\\n\\nНа четвёртом курсе Рон впервые начинает смотреть на Гермиону как на девушку и даже её ревновать. Толчком для этого становятся отношения Гермионы с болгарином Виктором Крамом.\\n\\nНа шестом курсе становится заметно, что постепенно дружеские чувства начинают перерастать во влюблённость, но бесконечные ссоры и взаимная ревность мешают тому, чтобы отношения перешли на новый уровень.\\n\\nСитуация изменилась с момента поцелуя во время Битвы за Хогвартс — с тех пор отношения этой пары окончательно перешли на романтический лад.\\n\\nДрако Малфой\\nСемейства Рона и Драко враждовали ещё до того, как мальчики пошли в школу, и поэтому, даже не зная друг друга лично, они относились друг к другу предвзято, что вылилось в ссору при первой же встрече в «Хогвартс-экспрессе». Унизив семью Рона в присутствии его нового друга Гарри Поттера, Драко настраивает против себя обоих мальчишек. На протяжении всех школьных лет Драко не упускает возможности поиздеваться над Роном. И это, похоже, доставляет ему большее удовольствие, нежели подколки в адрес Гарри и Гермионы, так как последние редко реагируют на его выходки. А Рон, в отличие своих друзей, принимает всё близко к сердцу.\\n\\nЛаванда Браун\\nЛаванда Браун является однокурсницей Рона и его друзей. До шестнадцати лет они не обращают друг на друга никакого внимания. Но на шестом курсе Лаванда начинает испытывать к юноше определённый интерес. Когда после Битвы в Отделе тайн имя Рона в числе других попадает в газеты, тот в некоторой степени становится знаменитым, и поэтому девушка смотрит на него уже другими глазами. Рону, не пользующемуся успехом у девушек, льстит её внимание. Поссорившись с сестрой Джинни и приревновав Гермиону к её давней истории с Крамом, Рон пользуется случаем и начинает встречаться с Лавандой. Но со временем он начинает осознавать, что эти отношения ему в тягость. Встречаться с девушкой только ради того, чтобы быть «как все», становится неинтересным. Также он понимает, что начав встречаться с Лавандой, он нанёс глубокую, несправедливую обиду Гермионе. Но открыто порвать с Лавандой Рон не может и ждёт, когда она сама это сделает, что в конце концов и происходит.\\n\\nСеверус Снегг\\n— Может, он заболел, — с надеждой в голосе предположил Рон.\\n— А может, совсем ушёл? Из-за того, что место преподавателя защиты от тёмных искусств снова досталось не ему?\\n— А может, его выгнали? — вдохновенно произнёс Рон. — Его все терпеть не могут…\\n— А может быть, — промолвил сзади чей-то ледяной голос, — он сейчас стоит и ждёт, когда вы двое расскажете ему, почему вы вернулись в школу не поездом.\\nКак и большинство учеников, Рон сторонится Снегга и пытается угодить ему, чтобы не вызвать гнев одного из самых строгих преподавателей. Однако герой не надеется наладить контакт с учителем, который, в свою очередь, выражает неприязнь по отношению к его друзьям. Уизли описывает Северуса как придирчивого человека со скверным характером. Тем не менее, Рон готов преодолеть свой страх перед профессором ради защиты товарищей, что неоднократно и демонстрировал.\\nИсточник текста. Распространяется на условиях CC-BY-SA\\n\\n', '\\n\\n\\nАстория Гринграсс\\n\\n\\nАстория Малфой (урождённая Гринграсс) (англ. Astoria Malfoy (née Greengrass)) — чистокровная волшебница[1], младшая сестра Дафны Гринграсс, жена Драко Малфоя и мать Скорпиуса Малфоя.\\n\\nБиография\\nДетские годы (1982-1993)\\nРодившись в древней чистокровной семье Гринграсс, Астория в детстве верила в превосходство чистой крови. События Второй магической войны во время её подросткового возраста, однако, изменили её отношение к маглам и маглорождённым волшебникам, и в этом вопросе она стала более толерантной.\\n\\nВ Хогвартсе (1993-2000)\\nВ 1993 году Астория поступила в Школу Чародейства и Волшебства Хогвартс. Подробности её жизни во время учебы остаются неизвестными. Установлено лишь, что в школе она познакомилась с Драко Малфоем который был на два года старше её, и в последствии они начали встречаться. Очевидно, завершила все семь курсов, а на протяжении Битвы за Хогвартс в сражениях участия не принимала.\\n\\nВ семье Малфоев (2000-2019)\\nСемья Малфой в 2017 году\\nС мужем и сыном в 2017 году\\n\\nВ конечном счете Астория вышла замуж за Драко. Оказалось, что один из её предков проклял их род. Проклятие спустя годы передалось Астории, что сделало возможные роды крайне рискованными. Несмотря на это, Драко принял решение завести ребенка и даже сказал ей, что ничего страшного, если родословная Малфоев завершится на них. В 2006 году у пары родился первый и единственный сын, которого назвали Скорпиусом. Астория отказывалась воспитывать ребенка в убеждении, что маглы (и, вероятно, маглорождённые волшебники, полукровки и сквибы) являются отбросами мира волшебников. Это привело к разочарованию Люциуса и Нарциссы, родителей её мужа, и в дальнейшем неоднократно вызывало напряженные отношения. Неизвестно, как на все реагировал Драко, но, учитывая, что он пережил во время второй войны, можно предположить, что в тайне он всё-таки поддерживал супругу. В 2017 году вместе с Драко провожала своего сына на первый курс в Хогвартс.\\n\\nСмерть  \\nЧерез несколько лет после рождения сына Скорпиуса Астория стала часто болеть: на неё сильно действовали слухи, ходившие в волшебном сообществе, что отцом Скорпиуса был Волан-де-Морт.\\n\\nЛетом 2019 года, когда Скорпиус готовился перейти на третий курс Хогвартса, 37-летняя Астория скончалась из-за последствий семейного проклятия. \\nИсточник текста. Распространяется на условиях CC-BY-SA\\n\\n', '\\n\\n\\nЛюциус Малфой\\n\\n\\nЛюциус Малфой II (англ. Lucius Malfoy II; род. 4 апреля 1954)  — пожиратель смерти, муж Нарциссы Малфой, отец Драко Малфоя и дед Скорпиуса Малфоя. Люциус Малфой обучался факультете Слизерин, на последнем курсе был старостой школы. Люциус всегда кичился своим чистокровным происхождением и презирал маглорождённых волшебников.\\n\\nБиография\\nРанние годы\\nЛюциус Малфой родился в очень древней, состоятельной и знатной чистокровной семье. Подрастал он в роскоши в родовом поместье, великолепном особняке в Уилтшире. С детства Люциуса приучили к тому, что он особенный, ведь: во-первых, он волшебник, во-вторых, он чистокровный, и в третьих он - Малфой, чья семья внушает доверие в глазах магической общественности и имеет большое влияние в Министерстве магии. Отец Люциуса, Абраксас Малфой, учил его сохранять прежде всего благоразумие и респектабельный внешний вид, демонстрируя привилегированное положение среди им подобных, а также выказывать почтение представителям правящего класса, из общения с которыми семья может извлечь колоссальную выгоду. Кроме того, так как Малфои являются сторонниками превосходства чистой крови, Люциус с ранних лет гордился своим происхождением и общался с детьми исключительно из проверенных чистокровных семей, так же как и он веривших в генетическое превосходство тех, кто является «чистокровным».\\n\\nВ 1965 году одиннадцатилетний Люциус получил приглашение в школу чародейства и волшебства Хогвартс. Будучи распределённым на Слизерин, Люциус быстро нашел своё место среди таких же хитрых и амбициозных снобов, как и он, с которыми можно спокойно обсудить будущее пришествие Темного Лорда и выразить стремление однажды присоединиться к нему. В учёбе Люциус преуспевал, чем и привлек к себе внимание тогдашнего декана Слизерина Горация Слизнорта, любившего «коллекционировать» перспективных студентов. В 1968 году, когда Люциус обучался на третьем курсе, его отца заподозрили в том, что он наложил заклятие на Нобби Лича, первого маглорожденного Министра магии, в связи с чем тот был вынужден снять с себя полномочия, но Малфои вновь вышли сухими из воды. В 1970 году Люциус стал старостой факультета, являясь примерным учеником в глазах преподавателей. В следующем году он одним из первых приветствует первокурсника Северуса Снегга, попавшего на Слизерин. В 1972 году Люциус выпускается из школы.\\n\\nSlug Club3\\nЛюциус в школьные годы\\n\\nПожиратель смерти\\nD1e170f5b41e\\nМалфой в своем особняке\\n\\nСпустя какое-то время после окончания Хогвартса Люциус Малфой примкнул к Пожирателям смерти. И даже был среди особо приближённых к Тёмному Лорду. Из слов Волан-де-Морта в день возрождения можно сделать вывод, что до его исчезновения Люциус возглавлял группу Пожирателей, специализировавшихся на пытках маглов.\\nНе позже 1979 года женился на Нарциссе Блэк, а в 1980 году у них родился сын Драко. После падения Волан-де-Морта в 1981 году Малфой сделал всё возможное, чтобы обелить себя. И это ему удалось, хотя Люциус тайком продолжал заниматься Тёмной магией.\\n\\nС чистенькой репутацией\\nЖенившись, обзаведясь первым и единственным ребенком и отбросив от себя все обвинения в верном сотрудничестве с Волан-де-Мортом, Люциус зажил спокойной семейной жизнью. Финансово обеспеченный, а соответственно и лишенный необходимости работать, Люциус стал довольствоваться оседлой жизнью, поддерживая необходимые связи в Министерстве магии и продолжая тайно коллекционировать различные темные артефакты. Своего сына Драко он воспитывал в атмосфере сожаления, что Темный Лорд не смог достичь цели: господства над волшебниками, но в то же время скользкий Люциус абсолютно ничего не предпринимал для поиска своего повелителя, будучи убежденным в том, что тот умер в Годриковой впадине 31 октября 1981.\\n\\nНесмотря на свое высокое положение в рядах Темных волшебников, его лояльность к кому-либо в первую очередь основывалось на стремлении к собственной выгоде, а не на человеке, которому он якобы верен. Люциус продолжает поддерживать дружеские отношения с Пожирателями, которые, как и он, остались на свободе, сдав своих соратников или голося о невиновности и нахождении под действием Империуса. Так, Люциус даже не разорвал отношения с Игорем Каркаровым, который сдал всех приспешников Волан-де-Морта, о которых только был осведомлен и был в результате амнистирован. От своего прошлого Малфой-старший явно пытался откреститься, уговаривая себя, что Волан-де-Морт погиб и до последнего игнорируя все знаки и намеки на его постепенное возвращение и, наверное, лелеял мечту лично свергнуть Министерство. В 1980-х годах ходило очень много всевозможных теорий о том, как так случилось, что маленький Гарри Поттер выжил после смертельного заклятия, и некоторые были убеждены в том, что Гарри является новым великим темным волшебником. Люциус охотно верил этим сплетням и раздумывал над тем, как бы снова получить шанс на мировое господство при Гарри Поттере, который стал бы новым властелином магов Великобритании. Но все его планы провалились.\\n\\nВремя шло, Драко подрастал в полной уверенности в превосходстве чистокровных волшебников, и в семье возник вопрос о том, в какую школу волшебства отправить единственного отпрыска. Люциус намеревался зачислить его в Дурмстранг, где директором был ранее упомянутый Каркаров и где более свободно практиковалась темная магия, а маглорожденных волшебников так и вовсе не принимали. Но жена его, Нарцисса, была против идеи мужа, поскольку не желала, чтобы её сын учился так далеко, и в конце концов Люциус, наверняка скрипя зубами, согласился отдать его в Хогвартс, где на посту директора находился Дамблдор, имевший репутацию «маглолюба» и противника темных искусств.\\n\\nВ промежутке между войнами Люциус горел желанием подобраться к власти в Хогвартсе и, в конце концов, подорвать авторитет и влияние Дамблдора. С этой целью он становится членом, а впоследствии и председателем Попечительского совета Хогвартса. Как председатель, Малфой-старший пытается запретить в Хогвартсе сказку «Фонтан феи Фортуны», поскольку там рассказывалось о любви волшебницы к маглу. Люциус опасался, что Драко, находясь в школе, прочитает книгу, в которой приветствуются браки между маглами и волшебниками и, не дай Бог, под влиянием сказки станет сторонником этой идеи, опорочив «благородное» семейство Малфоев. Дамблдор же, естественно, отказался идти на поводу у Люциуса.\\n\\nМежду тем, Драко поступил на Слизерин и успешно закончил первый курс Хогвартса. Находясь на летних каникулах, он рассказал отцу, что Гарри Поттер оказался совсем не таким, как его себе представлял Люциус, что он ответил отказом на предложение дружбы и сблизился с Роном Уизли, чья семья была полной противоположностью Малфоям. Несмотря на разочарование, Люциус все же пытался внушить Драко, чтобы он не выражал открытой неприязни к Поттеру и открыто не враждовал с ним. Ведь Гарри одолел самого Волан-де-Морта, верным прислужником которого все считали Люциуса, а значит негативное отношение Драко к человеку, давшему магическому народу мир и спокойствие после террора Темного Лорда, могло неблагоприятно сказаться на общественном положении их семьи.\\n\\nДневник Тома Реддла\\nВ августе 1992 года он встречается в магазине «Флориш и Блоттс» в Косом переулке с семьёй Уизли и тайком подбрасывает один из крестражей Волан-де-Морта — его дневник, в набор учебников Джинни Уизли. Он так высокомерно разговаривает с Артуром Уизли, что всем сразу становится ясно, в кого пошёл его сын Драко. Малфой-старший полагает, что подсунув дневник «малявке Уизли», он сможет достичь сразу трёх целей:\\n\\nизбавиться от «грязнокровок» с помощью Василиска из вновь открытой Тайной комнаты;\\nотстранить Альбуса Дамблдора от руководства Хогвартсом как потерявшего контроль над школой;\\nдискредитировать Артура Уизли, своего идейного противника.\\nFudgecos\\nПриказ об отстранении Дамблдора\\n\\nПоначалу всё идёт по плану. Школа, в которой происходит несколько нападений, на грани закрытия. Остальные попечители запуганы тем же Малфоем (или его старыми знакомыми, Пожирателями), Дамблдор временно отстранён от директорства, его место занимает заместитель директора Минерва Макгонагалл... Но вдруг план Люциуса начинает трещать по швам: Гарри Поттер убивает Василиска и изгоняет воспоминание Тома Реддла из дневника. Мало того, он приносит этот дневник Дамблдору, чем доказывает невиновность Джинни Уизли. А ведь Малфой собирался попутно убрать её отца из Министерства. В придачу, мальчик смог хитростью освободить домового эльфа Малфоев Добби, который до этого пытался предупредить Гарри о планах своего хозяина. Люциус был крайне разгневан и затаил на Поттера нешуточную злобу.\\n\\nВ 1993 году Люциус Малфой был исключён из совета попечителей.\\n\\nСудебное разбирательство с Хагридом\\nВ начале 1993-94 учебного года на Драко Малфоя нападает гиппогриф Клювокрыл после того, как сам же Малфой-младший спровоцировал животное во время урока по уходу за магическими существами, несмотря на все предупреждения Хагрида. Люциус быстренько взял дело под свой контроль, подал иск и настаивал на казни «Клювика». Хагрид отчаянно пытался защитить гиппогрифа и, напутствуемый Гермионой Грейнджер, заявлял, что Драко сам виноват в произошедшем и что он спровоцировал Клювокрыла на естественную для него самооборону. Но, к сожалению Хагрида и золотого трио, Люциус выиграл судебное разбирательство и добился смертной казни для Клювокрыла. Однако, к глубочайшему неудовольствию Малфоев, прежде, чем палач Министерства Уолден Макнейр привёл приговор в исполнение, Гарри и Гермиона спасли Клювокрыла и отдали его на попечение Сириуса Блэка.\\n\\nЧемпионат мира по квиддичу 1994\\nВ августе 1994 года Люциус вместе со своей семьей посетил финал Чемпионата мира по квиддичу. Находясь в министерской ложе, Люциус был крайне недоволен присутствием там же семьи Уизли, имеющей репутацию «предателей крови» среди чистокровного общества, маглорожденной Грейнджер и «святого Поттера», как с издёвкой называл его Драко. Свои эмоции Малфой-старший все-таки скрывал, поскольку в ложе присутствовал сам Министр магии Фадж. После того, как финальная игра завершилась, Люциус навел большого шороху в лагере зрителей. Он и его лучшие друзья Пожиратели начали издеваться над маглами и крушить всё вокруг, и только внезапно запущенная «Черная метка» спугнула Люциуса и его шайку.\\n\\nВторая магическая война\\nLucius2\\nЛюциус в Азкабане\\n\\nМалфой имел много давних полезных связей в магическом обществе, которые он не уставал подпитывать финансово. Он продолжает эту деятельность и после возрождения Тёмного Лорда, не забывая нашёптывать нужным людям, что Тот-кого-нельзя-называть вовсе не вернулся в мир, а Альбус Дамблдор всего лишь мутит воду...\\n\\nВся карьера Люциуса рухнула в июне 1996 года. За нападение на Министерство магии вместе с одиннадцатью другими Пожирателями смерти и попытку похитить Пророчество Малфой был арестован и отправлен в Азкабан[1]. Год спустя он был освобождён оттуда Тёмным Лордом[2], и его дом стал использоваться как штаб-квартира Пожирателей смерти. Теперь Люциус находится в опале. При его попустительстве уничтожен Дневник Тома Реддла и он не смог добыть запись Пророчества. Провал этой операции Волан-де-Морт ставит в вину исключительно Малфою-старшему. Перед нападением на дом Поттера [3] в июле 1997 года Волан-де-Морт берёт у Люциуса его палочку, которую позже ломает в схватке.\\n\\nCe0bb117d53c\\nВолан-де-Морт требует палочку у Люциуса Малфоя\\n\\nКогда в дом Малфоев приводят пленных Гарри и его друзей, Люциус хочет первым вызвать Хозяина, чтобы хоть как-то выслужиться. После побега Поттера он был жестоко наказан Тёмным Лордом.\\n\\nLucius-Malfoy-and-Lord-Voldemort-lucius-and-narcissa-malfoy-28194796-1280-853\\nМалфой и Тёмный Лорд (почему-то с носом)\\n\\nВ битве за Хогвартс не участвовал, находился при Волан-де-Морте. Люциус приложил все усилия, чтобы узнать жив ли Драко, который не примкнул к Пожирателям, как многие слизеринцы, а остался в замке (кстати, Тёмный Лорд и это ставит в вину Малфоям). В большом зале в конце битвы они с женой даже не пытаются сражаться, а взволнованно ищут сына. То, что Люциус и Нарцисса вовремя покинули ряды сражающихся Пожирателей, избавило Малфоя от строгого приговора. По крайней мере, ничего не известно об ещё одной его отсидке в Азкабане.\\n\\nИнтересно, что чем больше Люциус пытается в этой жизни завоевать, тем больше он теряет. И только когда он отказывается от дальнейшей борьбы — выигрывает.\\n\\nПосле 1998 года\\nПосле окончания Второй магической войны Люциус и Драко были, по всей видимости, амнистированы, поскольку вовремя дезертировали из армии Волан-де-Морта, а Люциус дал показания против Пожирателей смерти и помог в поимке множества скрывавшихся последователей Волан-де-Морта. К тому же Нарцисса спасла Гарри Поттера в Запретном лесу во время битвы за Хогвартс, солгав Тёмному Лорду о том, что мальчишка мёртв.\\n\\nЧерез некоторое время Драко женился на Астории Гринграсс, и у Малфоя-старшего появился внук, Скорпиус. Однако, Люциус и Нарцисса скоро разочаровались в своей чистокровной невестке. После войны Астория коренным образом изменила своё отношение к доктрине чистой крови и стала более терпимо относиться к маглам, полукровкам и маглорождённым волшебникам. В этом же духе она воспитывала и Скорпиуса, в котором дед мечтал увидеть продолжателя семейной чистокровной традиции.\\n\\nЛюциус продолжал коллекционировать Тёмные артефакты, особенно предпочитая уникальные предметы. Около 2020 года Теодор Нотт по заказу Люциуса Малфоя создаёт экспериментальную модель Маховика времени, вероятно, в надежде спасти Волан-де-Морта. Этот прототип позволяет путешественнику во времени оставаться в прошлом только пять минут, однако, волшебник может погружаться в глубь времён так далеко, как захочет.\\n\\nПозже Нотт создаёт усовершенствованный Маховик. С его помощью можно оставаться в прошлом сколь угодно долго и возвращаться в будущее, когда необходимо. Эту продвинутую модель хранит у себя Люциус Малфой, а Нотт — прототип. Однако, Малфой-самый-старший так никогда и не использовал Маховик, что утвердило Драко во мнении, что на самом деле отец предпочитает мир без Волан-де-Морта.\\n\\nЭтот усовершенствованный Маховик Драко позаимствовал у отца и с его помощью спас Скорпиуса и его друга, застрявших в прошлом.\\n\\nЛичные качества\\nPromoHP2 Lucius Malfoy\\nИроничен, самоуверен, честолюбив. Всегда идёт к намеченной цели, не замечая препятствий. Артистичен, изворотлив, осторожен. Холоден, презрительно относится ко всем, кого считает ниже себя по социальному статусу. Отличается гибкостью ума и поведения, легко лавирует в любых обстоятельствах («Люциус, мой скользкий друг...»). Внешне принимая любой удобный для себя образ, внутренне всегда сохраняет своё Я. Не растрачивает свои силы и внимание на то, что не интересно лично ему, но в нужный момент действует быстро, очень быстро. И обдуманно. Тщательно обдуманно. Везёт тем людям, кого он считает друзьями, им он предан... но лишь до тех пор, пока это не угрожает его интересам. Всегда принимает сторону заведомо выигрывающего, идет на поводу своим сиюминутным желаниям. Паразитирует на более сильных.\\nВнешность\\n250px-Lucius Malfoy\\nВысокий и стройный, длинные платиновые волосы, струящиеся по плечам, лицо чисто выбрито, бледная кожа, холодные серые стальные глаза. Пронзительный взгляд и непроницаемые черты лица пугают очень многих. Часто реагирует на реплики оппонентов едва заметной саркастической улыбкой. Одевается всегда с большим вкусом.\\nИмущество\\nВолшебная палочка\\nПалочка Люциуса Малфоя была семейной реликвией и передавалась от отца к сыну. Палочка спрятана внутри трости Малфоя, которая увенчана серебряной змеиной головой с изумрудными глазами, которая и является рукояткой палочки. Увы, но палочке пришел конец в 1997 году, когда Лорд Волан-де-Морт воспользовался ею в дуэли с Гарри Поттером. \\n\\nУкрашения Люциуса Малфоя\\nNN7223Lh.jpg\\nКольцо Люциуса в виде змеи\\nNN7225Lh.jpg\\nКольцо Люциуса в виде змеи\\nNN7227Lh.jpg\\nБрошь Люциуса\\nLuciusmask.jpg\\nМаска Люциуса\\nВзаимоотношения\\nСемья\\nРодители\\nО родителях Люциуса известно очень немного, кроме того, что оба были чистокровными волшебниками. Так его отец, Абраксас Малфой, умер в старости от драконьей оспы. Он дружил с Горацием Слизнортом, поэтому, кстати, Люциус и попал в Клуб слизней.\\n\\nЖена и сын\\nMalfoy Family in 1998.\\nЛюциус, Драко, Нарцисса и Беллатриса Лестрейндж\\n\\nЛюциус и его жена, Нарцисса, имеют по-видимому, тесные и нежные отношения. Они оба наслаждались пребыванием в элите волшебного мира. Малфой согласился с желаниями своей жены, когда она хотела, чтобы их сын обучался в Хогвартсе, а не в Дурмстранге. Нарцисса была подавлена после того, как Люциуса упекли в Азкабан, и жестко отвечала всем, кто что-либо об этом спрашивал. В 1997 году, когда Лорду Волан-де-Морту потребовалась палочка Люциуса, он взглянул жене в глаза, а она только коснулась его запястья, давая понять, что ему нужно сохранять спокойствие.\\nХотя Люциус и Нарцисса избаловали сына, Люциус был более требовательным родителем. Драко везде и всюду кичился своим благородным происхождением и просто копировал модель поведения своего отца.\\n\\nАртур Уизли\\nArthur Weasley\\nЛюциус и Артур Уизли презирали друг друга, часто обменивались оскорблениями при встречах, и даже затеяли драку, по крайней мере, однажды точно. Люциус презирал семью Уизли за бедность и считал их предателями крови.\\nСеверус Снегг\\nSeverus-Snape-severus-snape-32973389-640-960\\nСеверус Снегг\\n\\nЛюциус вращался в тех же кругах, что и Северус Снегг, как во время обучения в Хогвартсе (Малфой был старостой факультета Слизерин), так и после (Пожиратели смерти). Сириус Блэк как-то подметил, что Снегг был собачкой Люциуса[4]. Впрочем, именно к Северусу обращается Нарцисса за помощью, когда Люциуса посадили, так что, возможно, Сириус мог и ошибаться.\\nДобби\\nDobby\\nДобби был домовиком Малфоев. Люциус обращался с Добби с особой жестокостью. Добби боялся своего хозяина, но сделал все, что тот приказывал ему. В 1993 году Гарри Поттер хитростью смог освободить Добби. Люциус очень рассердился и попытался убить Гарри, но Добби вступился за своего освободителя и отшвырнул бывшего хозяина. Последний раз Люциус видел Добби в 1998 году, когда тот прибыл поместье Малфоев, чтобы спасти Гарри Поттера и его друзей. Добби был убит Беллатрисой Лестрейндж. Неизвестно, как Люциус отреагировал, когда узнал это.\\nЛорд Волан-де-Морт\\nMylord\\nЛорд Волан-де-Морт\\n\\nЛюциус был одним из самых авторитетных и высокопоставленных Пожирателей Смерти, приближенным к Тёмному Лорду, служившим ему в первой и второй волшебных войнах. По возрождении в 1995 году, Лорд Волан-де-Морт стал сомневаться в верности Малфоя и дал ему задание заполучить пророчество. Задание Люциус провалил и попал в Азкабан, но этого Лорду показалось мало, и он поручил Драко убить Альбуса Дамблдора.\\nХотя Тёмный Лорд и освободил всех пожирателей из Азкабана в 1997 году, теперь, за двойной промах, Люциус и все Малфои упали в глазах повелителя. В конце-концов, в Битве за Хогвартс, когда стало ясно, что шансов у Тёмного Лорда все меньше, Малфои дезертируют с поля брани.\\nИсточник текста. Распространяется на условиях CC-BY-SA\\n\\n', '\\n\\n\\nДрако Малфой\\n\\n\\nДрако Люциус Малфой (англ. Draco Lucius Malfoy) — чистокровный волшебник, студент Хогвартса, ровесник Гарри Поттера. По многим причинам мальчики ещё на первом курсе стали заклятыми врагами. Учился на факультете Слизерин, как и многие его родственники до него. Будучи сыном Пожирателя смерти Люциуса Малфоя, Драко полностью перенял его воинственное отношение к маглам, став приверженцем чистокровной доктрины. Он довольно умён, активен, амбициозен.\\n\\nБиография\\nПроисхождение\\nDraco Black Malfoy\\nДрако на Гобелене Блэков\\n\\nДрако принадлежит к чистокровной семье волшебников, среди его родственников — Сириус Блэк, Нимфадора Тонкс, Андромеда Тонкс, Беллатриса Лестрейндж, также он состоит в дальнем родстве с семьями Уизли и Поттеров, а также многими другими волшебными семьями.\\nБольшинство его близких разделяли идеи Волан-де-Морта о привилегированности чистокровных волшебников и встали на сторону Тёмного Лорда ещё в годы Первой магической войны.\\n\\nДетство\\nИзвестно, что Драко Малфой родился 5 июня 1980 года.\\n\\nЕдинственный ребёнок Люциуса Малфоя и Нарциссы Малфой (в девичестве Блэк), которые были рождены в древних чистокровных магических семьях.\\n\\nДрако Малфой рос единственным ребёнком в Поместье Малфоев, великолепном поместье в Уилтшире, принадлежавшем его семье на протяжении многих столетий. Едва мальчик научился говорить, он уяснил для себя то, что является трижды особенным: во-первых, он — волшебник, во-вторых, чистокровный и в-третьих, он — Малфой. Драко рос в атмосфере сожаления, что Тёмный Лорд не преуспел в том, чтобы возглавить магическое сообщество, хотя мальчику постоянно напоминали, что подобные мысли нельзя высказывать за пределами семьи и узкого круга её друзей; в противном случае «у папы будут проблемы». В детстве Драко общался с отпрысками чистокровных семей таких же, как и его отец, бывших Пожирателей Смерти и прибыл в Хогвартс с небольшим кругом друзей, включавшем, в частности, Теодора Нотта и Винсента Крэбба.\\n\\nКак любой другой ребёнок, ровесник Гарри Поттера, Драко слышал истории о Мальчике-Который-Выжил всё свое детство. В течение многих лет среди волшебников вращалось множество различных теорий, о том, как Гарри пережил смертоносное нападение, и одна из самых стойких теорий заключалась в том, что сам Гарри был великим Тёмным волшебником. Тот факт, что он был изолирован от магического сообщества казался всем тем, кто желал так думать, весомым аргументом в поддержку этой точки зрения, и отец Драко, хитрый Люциус Малфой, был одним из тех, кто наиболее охотно поддерживал эту теорию. Он утешал себя мыслью, что ему, Люциусу, может предоставиться второй шанс на мировое господство, если этот мальчик Поттер окажется другим, ещё более великим лидером чистокровных. Поэтому, осознавая, что если он ничего не предпримет, то его отец этого явно не одобрит, а также в надежде, что он сможет передать домой некоторые интересные новости, Драко Малфой протягивает Гарри Поттеру свою руку, когда узнаёт, кто он есть, в Хогвартс-экспрессе. Отказ Гарри от дружественных попыток Драко познакомиться, так же как и тот факт, что Гарри уже сдружился с Роном Уизли, из семьи, проклинаемой Малфоями, тотчас настроили Малфоя против него. Драко правильно понял, что нелепые надежды бывших Пожирателей Смерти на то, что Гарри Поттер будет ещё одним, даже лучшим, Волан-де-Мортом — абсолютно безосновательны, и с того самого момента и возникает их взаимная неприязнь.[2].\\n\\nУчёба в Хогвартсе\\nПервый курс\\nLeft pointing double angle quotation mark sh4\\t— Кажется, я понял, по какому критерию в Гриффиндор набирают сборную по квиддичу, — громко заявил Малфой несколько минут спустя, когда Снегг снова наказал Гриффиндор штрафными очками, причем абсолютно без повода. — Жалость — вот чем они там руководствуются. Вот возьмем Поттера — он сирота. Возьмем близнецов Уизли — они абсолютно нищие. Так что странно, что они не взяли в команду тебя, Долгопупс, — ведь у тебя начисто отсутствуют мозги.\\tRight pointing double angle quotation mark sh4\\nHP1 Draco Malfoy In The Sorting Hat\\nДрако на церемонии распределения\\n\\nДрако один из лучших учеников, и, в силу своей принадлежности к полностью магической семье, знает много о магическом мире, его обитателях, а также магических предметах. Он пользуется покровительством со стороны Северуса Снегга, который был школьным другом отца Драко, Люциуса Малфоя, а также в своё время состоял в рядах Пожирателей Смерти.\\n\\nПеред поступлением в Хогвартс в 1991 году Драко с родителями отправляется в Косой переулок, чтобы приобрести школьные принадлежности. И там, в магазине мадам Малкин, он встречает Гарри Поттера. Гарри чем-то очень заинтересовал Драко. И, чтобы произвести на нового знакомца наиболее сильное впечатление, юный Малфой строит из себя «крутого парня», делает вид, будто весь мир крутится вокруг него, а такие людишки, как маглорождённые волшебники или, например, Рубеус Хагрид, мизинца его не стоят. Такое отношение к окружающим настраивает Гарри против Драко, который очень напоминает ему кузена Дадли, а уж его сарказм в сторону Хагрида, первого, и, пока что, единственного друга Поттера, и вовсе отталкивает.\\n\\nПозже, в Хогвартс-экспрессе Драко в открытую предлагает дружбу Гарри, всё ещё не замечая, как он несимпатичен этому черноволосому мальчику. Попутно он мимоходом оскорбляет сидевшего в купе Рона Уизли, с которым Гарри уже успел подружиться. Гарри отказывает Малфою в дружбе и не отвечает на рукопожатие. Такого оскорбления юный отпрыск древнего чистокровного рода волшебников не простит никогда. Отныне Поттер и Малфой могут быть только врагами.\\n\\nHP1 Malfoy Crabbe Goyle\\nДрако вместе со своими лучшими друзьями — Крэббом и Гойлом\\n\\nВ основном, поведение Драко в школе было выстроено по образцу поведения самого впечатляющего человека, которого он знал — его отца — и он подробно копирует холодность и презрительную манеру Люциуса по отношению к каждому, кто находится за пределами его ближайшего окружения. Решив привлечь второго приспешника (Крэбб занимал это положение ещё до Хогвартса) в поезде до школы, менее физически внушительный Малфой использует Крэбба и Гойла, как в качестве прихвостней, так и телохранителей на протяжении шести лет своей школьной жизни.[2]\\nПри распределении на факультеты Драко попадает в Слизерин, как и многие члены его семьи. На этот же факультет зачислены и его друзья.\\n\\nПостепенно взаимная неприязнь между Гарри и Драко нарастает. Дважды Драко пытается добиться исключения Гарри. Так, осенью он вызывает его на ночную дуэль, но, сообщив своему декану, что Поттер сегодня ночью будет в Зале Наград, на встречу не является. Это была всего лишь приманка для Гарри, чтобы он был пойман разгуливающим по коридорам в неположенное время.\\n\\nHP1 Draco Malfoy Harry Potter\\nДрако и Гарри в Запретном лесу\\n\\nПозже Драко узнаёт о том, что Хагрид растит у себя в хижине дракончика Норберта. А так как разведение драконов незаконно, Гарри, Рон и Гермиона уговаривают Хагрида отдать малыша в заповедник в Румынии, где работает брат Рона, Чарли. Случайно к Драко попадает письмо Чарли, в котором тот оговаривает, где и когда его друзья заберут «контрабандного» зверя. Драко выдаёт ненавистного Поттера начальству, но и сам оказывается наказан: в нетерпении самому увидеть побеждённого Гарри, юный Малфой тоже оказывается среди ночи не в своей спальне. В качестве наказания все четверо (Гарри, Гермиона, Драко и Невилл Долгопупс, попытавшийся предупредить друзей о коварных планах Драко) отправляются в Запретный лес помогать Хагриду искать раненого единорога. Подобное наказание вызвало страх и показное возмущение Драко. А зря. Возможно, это был его последний шанс стать другом Гарри, если бы в нужный момент у него хватило смелости остаться с Гарри и встретить опасность плечом к плечу.\\nКроме этого, Драко не устаёт издеваться и подтрунивать над бедностью Рона Уизли и над слабостями Невилла Долгопупса. Если Рон ещё готов дать достойный отпор неприятелю (в общем-то, он просто кидается на него с кулаками), то Невилл становится куклой для битья. Драко постоянно задирает ранимого мальчика, резко указывая и высмеивая его недостатки, потешаясь над его неуверенной и замкнутой натурой и практикуя на нём новые заклинания.[3]\\n\\nВторой курс\\nLeft pointing double angle quotation mark sh4\\tСвятой Поттер, друг грязнокровок, [...] Нуль без палочки, вот он кто. У него нет никакого чувства гордости. Настоящий чародей никогда бы не стал дружить с этой зубрилой, грязнокровкой Грейнджер. А еще говорят, что он наследник Слизерина!\\tRight pointing double angle quotation mark sh4\\nДрако размышляет о «Гарри-Наследнике-Слизерина»\\nHP2 Draco Malfoy 2\\nДрако Малфой — новый член факультетской сборной\\n\\nНа втором курсе, чтобы обеспечить Драко вожделенное место ловца в сборной Слизерина по квиддичу, его отец дарит каждому члену команды Слизерина по летающей метле последней модели. Коим фактом новый ловец спешит похвастаться во всеуслышание. Драко не понимает отцовских политических игр. Ведь Люциус не столько делает подарок сыну, сколько пытается с помощью Драко поднять свой имидж. Нелишне услышать в свой адрес: «Ах, это тот самый Люциус Малфой, у него ещё сын — ловец слизеринской команды, той, которая выиграла в этом году кубок школы!». Особенно, когда пытаешься сместить с поста директора этой самой школы.\\n\\nВ этом году некий «наследник Слизерина» открывает Тайную комнату, начинаются нападения на студентов, и в Хогвартсе поселяется страх. Драко импонирует сложившаяся в школе атмосфера. В недавно организованном Дуэльном клубе Драко сражается с Гарри Поттером и во время схватки вызывает змею. Неожиданно для всех, Гарри начинает говорить с ней на змеином языке. Это заставляет многих учеников задуматься, а что если Гарри и есть настоящий Наследник Слизерина.[4]\\n\\n199\\nДрако во время дуэли с Поттером\\n\\nТем не менее, Гарри, Рон и Гермиона думают, что наследник Слизерина — это Драко, поскольку он нетерпим к маглорождённым, и вся его семья всегда попадала на факультет Слизерина. Гермиона готовит Оборотное зелье, чтобы Гарри и Рон под видом Крэбба и Гойла расспросили Малфоя в точности. Но из этого разговора друзья узнают, что на самом деле Драко никакой не Наследник и понятия не имеет, кто и зачем открыл Комнату. Хотя уверяет, что с удовольствием помог бы этому человеку. Единственная ценная информация, которую Драко удалось узнать у отца — это то, что в последний раз Комнату открывали 50 лет назад, и тогда был убит кто-то из грязнокровок.\\n\\nНа самом же деле открытие Тайной комнаты было частью плана отца Драко, который хотел устранить неудобного для него Альбуса Дамблдора с поста директора Хогвартса. Ради этого, он ещё в августе подкладывает Дневник Тома Реддла, который ему на хранение оставил Волан-де-Морт, Джинни Уизли, убивая при этом двух зайцев: беспорядки в школе приведут к вынужденной отставке директора, а ненавистная семья Уизли опорочит своё звание защитников грязнокровок, когда обнаружится, что натворила их дочь. Впрочем, в эти планы Драко не был посвящён. Зная характер своего сына, Люциус не открыл ему своих тайных замыслов, чтобы тот ненароком не сболтнул лишнего.\\n\\nПосле того, как его планы были открыты, Люциуса исключили из Попечительского совета Хогвартса, что сильно сказалось на Драко. Теперь он «перестал разгуливать по школе с таким видом, будто весь Хогвартс — его вотчина», а стал обиженным и угрюмым.[4]\\n\\nТретий курс\\nПо прибытии в Хогвартс Драко начинает высмеивать реакцию Гарри на дементоров, которые патрулируют окрестности замка и Хогсмид, чтобы поймать бежавшего из Азкабана Сириуса Блэка, несмотря на то, что сам ничем не лучше. Нет, Малфой не падает в обморок как Поттер, но так перетрухнул, что вбежал за защитой в купе к самым гриффиндористым гриффиндорцам — к Фреду и Джорджу. Драко стыдно за этот поступок. Ведь он пытается всем и каждому доказать, что он смелый, сильный, уникальный. А тут так опростоволосился. Вот и развлекает несколько дней слизеринцев пантомимой на тему «Гарри Поттер падает в обморок при виде дементоров».\\n\\nГиппогриф против Малфоя\\nГиппогриф нападает на Драко\\n\\nНа занятиях по уходу за магическими существами Драко, пытаясь посоревноваться с Поттером в «крутизне», провоцирует гиппогрифа Клювокрыла, и тот нападает на него. Хотя раны Драко незначительны и быстро были залечены мадам Помфри, он всячески демонстрирует свои физические страдания, чтобы усилить последствия этого инцидента для Хагрида. Целый учебный год время от времени Драко отзывается крайне пренебрежительно о профессоре Хагриде, лелея надежду, что этот «неотёсанный чурбан» скоро покинет Хогвартс. Пока не выводит из себя Гермиону. Девочка на глазах у Крэбба и Гойла отвешивает зарвавшемуся Малфою хорошую затрещину. Тем не менее, Драко никак не отвечает Гермионе. Ни кулаками, ни заклятиями. А ведь мог бы. И уж точно великолепно понимал, что бездействие против ударившей его «грязнокровки» роняет его в глазах его подпевал. Однако ударить девочку юному Малфою не позволяет воспитание. Всё-таки есть в Драко и положительные черты, по крайней мере понятие о чести ему не чуждо. Но постоянно надоедать отцу по поводу Хагрида и Клювокрыла он не устаёт. И Люциус делает всё, чтобы невинное животное было казнено. Правда, к моменту казни оно бесследно исчезает (не без помощи Гарри и Гермионы), но это совсем не по вине мистера Малфоя.\\nОт отца Драко знает кое-что о Блэке, поэтому не упускает возможности намекнуть Гарри, что преступление Сириуса имеет отношение к его погибшим родителям. Но Гарри и понятия не имеет об этой истории, и потому все подначки Малфоя («я бы не простил, я бы сам его выследил») приводят Поттера лишь в недоумение.\\n\\nHP3 Draco gang\\nСлизеринцы дразнят Гарри, изображая дементоров\\n\\nЗато Гарри, сам того не зная, примерно наказывает Драко за подлость. Во время очередного матча по квиддичу, Малфой и трое других слизеринцев переодеваются дементорами, полагая, что Поттер опять испугается и опять свалится с метлы, как на матче Гриффиндор — Пуффендуй. Если бы Гарри пугался просто вида этих тварей, что-нибудь и могло бы получиться. Но дементоры погружают Поттера в самое страшное его воспоминание, при их появлении он слышит последние крики своих родителей и именно поэтому теряет сознание. На ложных «дементоров» Гарри реагирует совершенно иначе: он вызывает патронуса (кстати, впервые ему это удаётся так легко) и, не обращая больше на них внимания, ловит снитч. Барахтающиеся в своих балахонах слизеринцы получают нагоняй от декана Гриффиндора, которая к тому же сняла с них штрафные баллы, и позже, надо думать, от декана своего собственного факультета.[5]\\n\\nЧетвёртый курс\\nLeft pointing double angle quotation mark sh4\\t— Эй, парни, смотрите, кто здесь. Сам чемпион Гриффиндора! — увидев Гарри, обратился Малфой к верным телохранителям Крэббу и Гойлу. — Захватили блокноты? Спешите взять автограф! Ему недолго осталось быть среди нас, грешных! На Турнирах выживает — кошмар! — половина участников. Сколько надеешься протянуть, Поттер? Держу пари, десять минут первого тура — и тебе конец!\\tRight pointing double angle quotation mark sh4\\nHP4 Draco Lucius Malfoy\\nЛюциус и Драко на Чемпионате мира по квиддичу в 1994 году\\n\\nВ августе 1994 года Драко с отцом и матерью посещает Чемпионат мира по квиддичу. Общественное положение их семьи настолько высоко, что они сидят в персональной ложе министра магии. Неприятным сюрпризом для Малфоев было увидеть нет, не в самой ложе министра, но на соседних местах Артура Уизли с детьми, Гарри Поттером и… «грязнокровкой» Грейнджер. Люциус не упускает возможности уколоть мистера Уизли: «Боже правый, Артур, что же тебе пришлось продать, чтобы купить места в верхней ложе? Уверен, ты за весь свой дом столько бы не выручил». Драко разозлён: отец только сейчас представил Корнелиусу Фаджу его и его мать, а с Гарри Поттером министр уже явно давно знаком. Мысленно соревнующийся с Поттером слизеринец записывает очко на счёт противника. И когда после матча на лагерь болельщиков нападают Пожиратели смерти, Драко находит Поттера в лесу. Просто посмотреть, как тот ведёт себя в нештатной ситуации. А заодно и сказать пару обидных слов его друзьям. Интересная деталь: Драко предупреждает об опасности маглорождённую Гермиону. Правда, в издевательской манере, но всё же…\\n\\nAkCoQ1TQK8I\\nДрако за одним столом с самим Виктором Крамом\\n\\nВ этот год в Хогвартсе организуется Турнир Трёх Волшебников, где к большому неудовольствию Драко Гарри Поттера избирают одним из участников состязания. Четвёртым. Несмотря на то, что Поттер по правилам не подходит по возрасту. И Поттер при этом заявляет, что он тут ни при чём. Врёт, небось: кому же не хочется быть в центре внимания? Вот Драко, например, не отказался бы от такой известности… И он тут же начинает болеть за другого хогвартского «чемпиона» Седрика Диггори (даром, что обычно слизеринцы относятся с пренебрежением к пуффендуйцам). С подачи Малфоя многие студенты не только факультета Слизерин, но и Пуффендуя и Когтеврана теперь носят наколдованные Драко значки с надписью «Седрик — чемпион, Поттер — смердяк». Он не упускает возможность сказать Гарри какую-нибудь гадость. Один раз дело закончилось краткой дуэлью. Правда, от срикошетивших заклятий пострадали Гойл и Гермиона. В другой раз Драко попытался наслать проклятие Гарри в спину. Но тут его опередил профессор Грюм. «Только у нас. Драко Малфой — замечательный прыгающий хорёк», — не уставал вспоминать этот случай Рон. И очень при этом жалел, что профессор Макгонагалл так быстро расколдовала Драко.[6].\\n\\nНе сумев поквитаться с Поттером собственными силами, Драко неожиданно для себя находит союзника в лице журналистки Риты Скитер. Увидев, с какой дотошностью она выискивает «компромат» на Гарри и его друзей, он с радостью предоставляет ей различные сведения, даёт интервью сам и организует её встречи с другими слизеринцами.\\n\\nДрако появился на святочном балу вместе с Пэнси Паркинсон. И был поражён, что знаменитый Виктор Крам, болгарин из Дурмстранга, из школы, славящейся своей терпимостью к Тёмным искусствам, пригласил «грязнокровку» Грейнджер.\\n\\nВ конце года смерть Седрика Диггори и возрождение Волан-де-Морта внушают юному Малфою ложное чувство победы. «Я говорил тебе не общаться с этими отбросами, — заявляет он Гарри в Хогвартс-экспрессе, на пути домой. — Слишком поздно, Поттер! Они умрут первыми… Грязнокровки, маглолюбцы будут первыми! Нет… вторыми, первым был Диггори…» Договорить он не успел. Гарри, Рон, Гермиона, и следившие за Драко и его дружками Фред с Джорджем наслали на трёх слизеринцев столько заклятий, что Малфой, Крэбб и Гойл до самого Лондона были без сознания и выглядели совершенно омерзительно.[7]\\n\\nПятый курс\\nLeft pointing double angle quotation mark sh4\\t— Инспекционная дружина, Грейнджер. — Малфой показал на крошечное серебряное «И», вышитое на его мантии прямо под значком старосты. — Особая группа учащихся, поддерживающих Министерство магии и отобранных лично профессором Амбридж. Так вот, члены Инспекционной дружины имеют право снимать очки... так что, Грейнджер, тебе минус пять очков за грубость в адрес нового директора. С Макмиллана пять за то, что возражал мне. Поттер, с тебя пять за то, что ты мне не нравишься. А у тебя, Уизли, рубашка не заправлена, поэтому с тебя тоже пять. Ах да, чуть не забыл — ты же грязнокровка, Грейнджер, так что с тебя за это еще десять.\\tRight pointing double angle quotation mark sh4\\nHp5 0098\\nДрако Малфой на пятом курсе\\n\\nВ 1995 году Драко и Пэнси Паркинсон становятся старостами своего факультета (Слизерин). Многие ожидали, что аналогичную должность в Гриффиндоре займёт Гарри Поттер, но старостой назначают Рона Уизли. Это известие поражает Малфоя. Как только Хогвартс-экспресс отошёл от платформы, он вваливается в купе Гарри: «Скажи-ка, Поттер, каково это: быть вторым после Уизли?» Логика Драко понятна. По его мнению, Уизли стоят намного ниже Малфоев, а уж если Поттер спустился ещё на ступеньку ниже Рона, то Драко сейчас вообще на высоте! Но вот Рон становится вратарём гриффиндорской команды по квиддичу и Малфой занервничал. Что-то этот Уизли слишком быстро пошёл вверх. Тогда Драко сочиняет издевательскую песенку «Уизли — наш король», в которой «прославляется» вратарь, приносящий победу только своим противникам. Но, несмотря на психологическое давление на команду Гриффиндора и подлые приёмы во время игры, Слизерин проигрывает матч. Взбешённый Малфой осыпает оскорблениями родителей Уизли и мать Гарри. Его провокация удалась: устроившие на поле «магловский мордобой» близнецы Уизли и Гарри Поттер были отстранены от игры в квиддич «навсегда».\\nВ то время, как многие думали, что Гарри Поттер, который был свидетелем возрождения Тёмного Лорда, — лгун и фантазёр, Драко Малфой был одним из немногих, кто знал, что Гарри говорит правду. Его собственный отец почувствовал, как горит его Тёмная метка и прилетел, чтобы присоединиться к Тёмному лорду, став свидетелем кладбищенской дуэли между Гарри и Волан-де-Мортом.\\n\\nОбсуждение этих событий в поместье Малфоев породило противоречивые чувства в Драко Малфое. С одной стороны, он был в восторге от тайного знания о том, что Волан-де-Морт вернулся, и то, что снова вернулись, как говорил его отец, славные дни семьи. С другой стороны, перешёптывания о том, как Гарри опять удалось уйти от попытки Тёмного лорда убить его, вызывали в Драко приступы злости и зависти. Пожиратели Смерти не любили Гарри, как препятствие на пути и как определённый символ, но всё же обсуждали его всерьёз, как настоящего противника, в то время, как Драко был для них всего лишь школьником, которого они встречали в доме его родителей. Хотя они и находились по разные стороны баррикад, Драко завидовал положению Гарри. Он воодушевлялся, представляя триумф Волан-де-Морта, мечтая о том, что его семью будут почитать при новом режиме, а его самого чествовать в Хогвартсе как важного и влиятельного сына правой руки Волан-де-Морта.\\n\\nInquisitorialSquadUmbridge\\nДрако и остальные слизеринцы вступают в ряды Инспекционной дружины\\n\\nШкольная жизнь Драко на пятом курсе только улучшается. И хотя ему было запрещено обсуждать в Хогвартсе то, что он слышал дома, Драко находит удовольствие в мелких достижениях: он становится старостой (а Гарри нет) и Долорес Амбридж, новый преподаватель Защиты от Тёмных искусств, кажется, испытывает совершенно такую же неприязнь к Гарри, что и он. Он становится членом Инспекционной дружины Долорес Амбридж и занимается тем, что пытается обнаружить запретную организацию Отряд Дамблдора, которую образовали Гарри и разношёрстная группа студентов, чтобы тайком обучаться практической магии. Однако, прямо в момент триумфа, когда Драко припирает Гарри и его товарищей к стенке и когда ему кажется, что на этот раз Гарри просто обязан быть исключён профессором Амбридж, Гарри ускользает у него из пальцев.[2]\\n\\nInquistorialSquadOffice\\nИнспекционная дружина поймала членов ОД\\n\\nБудучи членом Дружины, Драко упивается своей властью над другими студентами (например, снимает баллы по совершенно надуманным причинам). Потом, в составе этой бригады принимает участие в поимке Гарри и его друзей (Рона, Невилла и Полумны, Гермионы, Джинни), когда те попытались связаться с Сириусом Блэком через камин в кабинете нового директора Амбридж. После допроса профессор Амбридж отправляется с Гарри и Гермионой в Запретный Лес, полагая, что ей сейчас покажут некое секретное оружие Альбуса Дамблдора. С членами ИД, охранявшими остальных пленных, за старшего оставался Драко Малфой. Однако пленники разоружили своих сторожей и, вырвавшись на свободу, присоединились к Гарри и Гермионе, которые тем временем избавились от присутствия мадам директора. Все шестеро отправились в Министерство магии, где встретились с командой Пожирателей, которой руководил уже Малфой-старший.\\n\\nОтец Драко тоже потерпел поражение в миссии, которую возглавлял. Подоспевшие на помощь ребятам члены Ордена Феникса передали почти всю команду напавших на Министерство Пожирателей мракоборцам, а те в свою очередь отправили их в Азкабан. В одночасье Малфои потеряли своё высокое общественное положение. Драко и Гарри как бы поменялись местами: теперь Поттер, на которого весь год лилась грязь со страниц «Ежедневного пророка» снова стал «Мальчиком-который-выжил», а на Малфоя падает теперь не отсвет папочкиного богатства, а тень его позора. Когда в коридоре Хогвартс-экспресса Драко попытался рассчитаться за всё это с Гарри, на выручку своему руководителю поспешил практически весь Отряд Дамблдора… Нет, всё-таки в прошлом году Малфой, Крэбб и Гойл выглядели куда как лучше, когда прибыли в Лондон…[8]\\n\\nШестой курс\\nLeft pointing double angle quotation mark sh4\\t— Ой, смотрите, Дамблдора здесь нет! Чего же вы ждете, пользуйтесь случаем! Может, для вас подберут двухместную камеру в Азкабане, будете сидеть вместе со своим бездарным мужем!\\nМалфой сделал движение, как будто хотел кинуться на Гарри, но споткнулся, наступив на подол слишком длинной мантии. Рон громко захохотал.\\n— Не смей так разговаривать с моей мамой, Поттер! — прорычал Малфой.\\n— Ничего страшного, Драко. — Нарцисса удержала сына, положив ему на плечо руку с тонкими белыми пальцами. — Я думаю, Поттер встретится со своим обожаемым Сириусом раньше, чем я с Люциусом.\\tRight pointing double angle quotation mark sh4\\nС этого момента мир Драко начинает распадаться. Казалось бы, только что он и его отец верили, что стоят на пороге власти и авторитета, такого, какого они никогда не знали раньше, как его отца забирают из дома и заключают в далёкую грозную волшебную тюрьму, охраняемую дементорами. Люциус был образцом для подражания и героем Драко с рождения. А теперь он и его мать стали изгоями среди Пожирателей Смерти: Люциус был неудачником и опорочил себя в глазах разгневанного лорда Волан-де-Морта.\\n\\nДо этого момента Драко жил уединённо и под полной защитой родителей; он был привилегированным мальчиком, которого мало что беспокоило, уверенный в своём положении в мире и с головой, полной мелких забот. Теперь, из-за ухода отца и безумного испуга матери, ему пришлось взять на себя мужские обязанности.\\n\\nHP6 Draco Malfoy 3\\nДрако на шестом курсе\\n\\nХудшее было впереди. Волан-де-Морт, стремясь ещё сильнее наказать Люциуса Малфоя за неудавшуюся поимку Гарри, потребовал, чтобы Драко выполнил задание настолько сложное, что он почти наверняка провалит его — и поплатится своей жизнью. Драко должен был убить Альбуса Дамблдора, как — Волан-де-Морт сказать не потрудился. Драко был предоставлен собственный выбор, но Нарцисса правильно догадалась, что её сына обрёк на провальный результат волшебник, который был лишён жалости и отказа не потерпел бы..[2]\\n\\nВ расстроенных чувствах она спешит за помощью к Северусу Снеггу, несмотря на предостережения своей старшей сестры. Но Снегг не отказывает ей в помощи и даже приносит Непреложный обет.\\n\\nВ ярости на мир, который, казалось, внезапно отвернулся от его отца, Драко стал полноправным членом в рядах Пожирателей Смерти и согласился совершить убийство по приказу Волан-де-Морта. На этой ранней стадии, переполненный желанием отомстить и вернуть своего отца в фавориты Волан-де-Морта, Драко едва осмысливает, что его просят сделать. Всё, что он знал, это то, что Дамблдор олицетворял собой всё, что не любил его пленённый отец; Драко довольно легко удалось убедить себя, что он тоже думает, что мир будет лучше без директора Хогвартса, вокруг которого всегда сплачивались противники Волан-де-Морта.\\n\\nВ плену идеи, что он — настоящий Пожиратель Смерти, Драко отправляется в Хогвартс, горящий целеустремлённостью. Тем не менее, постепенно он обнаруживает, что его задание намного сложнее, чем он ожидал, и после того, как он случайно чуть не убил двух других человек вместо Дамблдора, нервы Драко начали сдавать. Над ним как Дамоклов меч нависает угроза причинения вреда семье и себе самому, и он начинает под этим давлением сдавать позиции. Мысли, которые были у Драко о себе и своём месте в мире, рассыпались в прах. Всю свою жизнь он боготворил отца, который призывал к насилию и не боялся прибегать к нему сам, и теперь, когда он, его сын, обнаружил в себе стойкое отвращение к убийству, он почувствовал, что это просто позорный провал. Даже так он не мог освободиться от своей заносчивости: он неоднократно отказывался от помощи Северуса Снегга, потому что боялся, что Снегг попытается украсть его «славу».[2]\\n\\nНовоиспечённый Пожиратель планирует восстановить Исчезательный шкаф. Он выяснил, что тот шкаф, который находится в Хогвартсе, связан с таким же шкафом в лавке «Горбин и Бэркес». По задумке Драко, через этот своеобразный коридор можно переправить отряд Пожирателей смерти прямо в замок. Правда, хогвартский шкаф поломан Пивзом ещё четыре года назад. Малфой пытается выяснить у хозяина лавки как можно починить Исчезательный шкаф, а чтобы старый торгаш был посговорчивей, Драко показывает ему Тёмную метку на своей руке, и намекает, что мистером Горбином, если что, может заняться и вожак оборотней Фенрир Сивый. По его, Драко, просьбе.\\n\\nОднако изначальную задумку никак не удаётся воплотить в жизнь. Шкаф починить не получается. Драко пытается как-то иначе устранить директора (проклятое ожерелье, отравленное вино), но эти попытки оканчиваются неудачей. Об отчаянии, в котором находится Малфой, говорит то, что он идёт к цели, не обращая внимания на случайные жертвы своих покушений. Из-за преследующих его неудач Драко всё больше чувствует себя загнанным в ловушку. В какой-то момент он рассказывает о своих страхах Плаксе Миртл. Лишь с этим призраком он может быть откровенным. Ещё одна подробность: Драко настолько сближается с Миртл, что только ей может пожаловаться на свои неудачи. Причём Миртл сама находит Драко, ей доставляет удовольствие поплакать с кем-нибудь вдвоём. Взгляд, который Драко кинул на вернувшуюся из больницы Кэти Белл, был замечен Гарри и окончательно подтвердил подозрения Поттера (да-да, гриффиндорец давно был уверен, что Малфой причастен к несчастным случаям с Роном и Кэти) и он кидается вслед за Драко. В произошедшей дуэли Малфой был тяжело ранен, и если бы не своевременное вмешательство профессора Снегга, наверное, истёк бы кровью. Гарри, который не знал, на что способно применённое им заклинание Сектумсемпра, будто отрезвел. Вся злость на Малфоя, накопленная им за эти годы, словно пропала. Он понял, что не хочет смерти этого человека, как не хочет смерти никого из людей.\\n\\nHP6 Draco Malfoy 4\\nДрако пытается убить Дамблдора\\n\\nНаконец, Драко удалось починить Исчезательный шкаф, и он не замедлил им воспользоваться, чтобы провести в Хогвартс Пожирателей, среди которых также был кровожадный оборотень Фенрир Сивый. После чего была устроена засада для Дамблдора в башне астрономии. Однако, когда представился удобный случай, чтобы убить директора, Драко замешкался и опустил свою палочку. К счастью для Малфоев вмешательство Северуса Снегга на этом последнем этапе (именно его «Авада Кедавра» убивает старого директора) не было расценено Тёмным Лордом как измена Драко. После чего Драко покинул Хогвартс.[9]\\n\\nВолан-де-Морт и Снегг недооценили Драко. Он доказал свои навыки в окклюменции (магическом искусстве отражения попыток чтения мыслей), которая была просто необходима для прикрытия работы, за которую он взялся. После двух неудачных покушений на жизнь Дамблдора, Драко удалось согласно своему изобретательному плану ввести целую группу Пожирателей Смерти в Хогвартс, в результате чего Дамблдор был действительно убит — пусть и не рукой Драко.\\n\\nHP6 Draco Malfoy\\nДрако после случившегося на Астрономической башне\\n\\nДаже встретившись лицом к лицу со слабым и лишённым палочки Дамблдором, Драко оказался не в состоянии нанести «завершающий смертельный удар», потому что, вопреки самому себе, его тронули доброта и жалость Дамблдора к своему потенциальному убийце. Снегг впоследствии прикрыл Драко, умолчав перед Волан-де-Мортом, что Драко опустил свою палочку до его появления на вершине Астрономической Башни; Снейп подчеркнул мастерство Драко при введении Пожирателей Смерти в школу, а также то, что именно он припёр Дамблдора к стенке, чтобы он, Снегг, мог убить его.[2]\\n\\nСедьмой курс\\nHP7 Malfoys 2\\nМалфои на собрании Пожирателей смерти\\n\\nКогда, вскоре после этого, Люциус был освобождён из Азкабана, семье Малфоев позволили вернуться в поместье живыми. Однако, теперь они были полностью дискредитированы. От грёз о высоком статусе при новом режиме Волан-де-Морта Малфои спустились к низшему уровню в рядах Пожирателей Смерти; слабаки и неудачники, над которыми Волан-де-Морт отныне насмехался и которых презирал.[2]\\n\\nПоследний год учёбы в Хогвартсе был для Драко самым мрачным. В усадьбе Малфоев поселился Волан-де-Морт и устроил там нечто вроде штаб-квартиры. Родные пенаты Драко превратились в форменный застенок: здесь, прямо над столом в трапезной была убита преподаватель магловедения, сюда притаскивали маглорождённых волшебников и представителей других магических народов, скрывающихся от Министерства, тут пытали Олливандера… В школе балом правили сестра и брат Кэрроу при поддержке Северуса Снегга, «большие любители наказывать» (как говорит Невилл Долгопупс). Причём, наказывать «Круциатусом». Так что и в Хогвартсе Драко не мог отвлечься от ужасов, преследовавших его в родном доме.\\n\\nHP7 Draco Malfoy\\nДрако «пытается» узнать Гарри Поттера после поимки егерями\\n\\nПеремены, пока ещё противоречивые, в личности Драко проявились в его действиях в оставшееся время войны между Волан-де-Мортом и теми, кто пытался его остановить. Хотя Драко до сих пор так и не избавился от надежды, что него семья вернётся к своему прежнему высокому положению, его не вовремя проснувшаяся совесть привела его к слабой попытке (но возможно, это лучшее, что он только мог сделать в данных обстоятельствах) спасти Гарри от Волан-де-Морта, когда Гарри поймали и притащили в поместье Малфоев. Впрочем, в ходе финальной битвы в Хогвартсе Малфой предпринял ещё одну попытку поймать Гарри и тем самым спасти честь своих родителей и, возможно, их жизни. Смог бы он на самом деле сдать Гарри — спорный вопрос; вероятно, как и с попыткой убийства Дамблдора, он снова бы пришёл к выводу, что на самом деле убийство другого человека на практике сильно отличается от теории.[2]\\n\\nБитва за Хогвартс\\nHP8 Draco Zabini Goyle\\nГойл, Малфой и Забини в Битве за Хогвартс\\n\\nМногое в этой жизни было переосмыслено Малфоем-младшим в этот учебный год. От его былого позёрства и нарочито растянутой манеры разговаривать не осталось и следа. Как не осталось и следа от его былого восхищения Тёмным Лордом. И хотя во время Битвы за Хогвартс он с Крэббом и Гойлом остаётся в замке и проникает в Выручай-комнату, складывается впечатление, что Драко хочет не столько помешать Гарри Поттеру и его друзьям, сколько помочь. Что он наплёл своим «телохранителям» — дело десятое, но два пункта прорисовываются точно: Драко хочет заполучить вещь, которую ищет Поттер (видимо, всё ещё колеблясь, может отдать Волан-де-Морту, и тогда семью простят?), и при этом он защищает Гарри от своих же друзей. Причём, в этом он становится похож на Северуса Снегга. Практически теми же словами: «Не трогайте его! Тёмный Лорд сам хочет убить Поттера» он останавливает Крэбба и Гойла.[10]\\n\\nДрако пережил осаду Хогвартса Волан-де-Мортом во многом потому, что Гарри и Рон спасли ему жизнь. После битвы его отец избегает заключения, предоставив доказательства против товарищей-Пожирателей Смерти, помогая обеспечить поимку многих последователей лорда Волан-де-Морта, которые ушли в подполье.\\n\\nSnitchseeker-dh2promos 52-1024x682\\nДрако с родителями во второй половине Битвы\\n\\nСобытия поздней юности Драко навсегда изменили его жизнь. Его убеждения, с которыми он вырос, были скомпрометированы самым страшным способом: он испытал ужас и отчаяние, видел своих родителей страдающими за свою верность и стал свидетелем крушения всего того, во что его семья верила. Люди, которых Драко учили ненавидеть, такие как Дамблдор, предложили свою помощь и доброту, а Гарри Поттер подарил ему жизнь. После событий Второй магической войны Люциус обнаруживает, что сын привязан к нему, как никогда, но отказывается следовать всё той же старой чистокровной линии.[2]\\n\\nДальнейшие сведения\\nДрако и его семья избегают заключения в Азкабан благодаря тому, что они в последнюю минуту покинули Тёмного лорда.\\n\\nДрако так и не понимает, что он на целый год становится настоящим владельцем Бузинной палочки. Хорошо, что он не знал этого, отчасти потому, что Тёмный лорд сведущ в легилименции, и убил бы Драко в мгновение ока, если бы заподозрил правду, но и потому, что, несмотря на свою скрытую совесть, Драко остаётся добычей для всех тех искушений, которыми его научили восхищаться, среди них — насилие и власть.\\n\\nMalfoys2017\\nДрако и его семья на Платформе 9¾ в 2017 году\\n\\nДрако женился на младшей сестре своей слизеринской однокурсницы. Астория Гринграсс[11], которая прошла через похожий (хотя и менее жестокий и пугающий) путь от чистокровных идеалов к большей терпимости, что и Драко, воспринималась Нарциссой и Люциусом с некоторым разочарованием. Они возлагали высокие надежды на девушку, чья семья входила в список «Священных Двадцати Восьми» фамилий, но когда Астория отказалась воспитывать их внука Скорпиуса в убеждении, что маглы — те ещё сволочи, семейные собрания стали чреваты некоторой напряжённостью.[2]\\n\\n1 сентября 2017 года уже немолодой Драко встречает Гарри, Рона, Гермиону и Джинни на платформе 9¾. Все они приехали сюда проводить детей в Хогвартс. Сухой кивок в сторону бывших школьных знакомых и не менее сдержанный ответ Гарри говорит о многом. Драко помнит, что ему когда-то спасли жизнь, Гарри помнит, что Драко пытался их как-то защитить от собственной тётки, но дружба между ними невозможна: обе стороны помнят слишком много обид, причинённых друг другу.[10]\\n\\nДрако становится усовершенствованной версией своего отца: обеспеченный, без необходимости работать, Драко живёт с женой и сыном в поместье Малфоев. Его увлечения дополнительно подтверждают двойственность его натуры. Коллекционирование Тёмных артефактов восходит к семейным традициям, хотя он держит их в стеклянных витринах и не использует. Однако, его странный интерес к алхимическим рукописям, по которым он так и не попытался создать философский камень, намекает на желание чего-то другого, отличного от богатства, возможно даже желание стать лучше. Есть все основания полагать, что он вырастит Скорпиуса более добрым и более терпимым, чем был он сам в детстве.[2]\\n\\nГарри Поттер и Проклятое дитя\\nВ 2020 году Драко вместе с Гарри, Джинни, Роном и Гермионой (бывшие недруги объединились в минуту опасности) отправляется с помощью Маховика времени, который он позаимствовал у отца, в 1981 год, чтобы спасти своего сына Скорпиуса и его друга, застрявших в прошлом.\\n\\nВнешний вид\\nДрако высокий и худой, с гладкими светлыми волосами, заострённым лицом, холодными серыми глазами, бледной кожей, тонкими чертами лица и острым носом. Аристократичен и важен, так как считает себя выше других из-за статуса крови. Когда он смущён или в ярости на его бледных щеках появляются розовые пятна. Имеет привычку манерно растягивать слова.\\n\\nЧерты характера\\n0 61bf5 43ef780f XL\\nДрако на третьем курсе\\n\\nУ Драко Малфоя сложный характер, в котором намешаны и положительные и отрицательные качества. К тому же мальчик растёт, и с этим ростом одни черты его натуры проявляются чётче, другие, наоборот, затухают. Очень ясно характер юного Малфоя проявился дважды: при знакомстве с Гарри Поттером в магазине Мадам Малкин и в попытке продолжения этого знакомства в Хогвартс-экспрессе.[3] Он надменен, амбициозен, изображает из себя «крутого парня» и душевно ещё не развит.\\n\\nПостепенно жизнь преподаёт Драко урок за уроком, которые он поначалу не усваивает. Очень тяжело понять избалованному отпрыску древнего аристократического рода, что ни великое богатство, ни высокое общественное положение, ни даже большая подлость не способны сделать тебя победителем, подарить власть над миром и людьми, даже просто дать тебе то, что ты хочешь. Иногда для этого надо измениться самому. И Драко меняется. Правда, очень медленно. Порой, когда его поступки выбиваются из образа «высокородного чистокровного волшебника-аристократа», Драко комплексует и начинает доказывать всем вокруг, что это была досадная случайность. Он долго и упорно цепляется за те качества, которые ему прививали в семье.\\n\\nD i h 1\\nГарри Поттер — заклятый враг Драко\\n\\nМалфою повезло в самом начале школьных лет встретить Гарри Поттера. Мысленное сравнение с этим другом-врагом на протяжении шести лет заставляет Драко душевно развиваться. Пожалуй, пика это сравнение достигло на пятом курсе, когда Драко становится и старостой факультета, и любимчиком нового директора, получает власть над всеми студентами Хогвартса (статус члена Инспекционной дружины давал много привилегий), завоевывает благосклонность министра Фаджа, и ощущает за собой уже не только силу отца, но и тень могущества Волан-де-Морта. А Гарри, у которого нет ничего из этого, опять выходит победителем. К тому же, взлетевшему так высоко Драко в конце года пришлось больно упасть: Амбридж уволена из Хогвартса, Фадж — с поста министра, отец посажен в Азкабан. А такие резкие перемены всегда дают пищу для размышления. Последующее вступление в ряды Пожирателей смерти, данное Тёмным Лордом задание, реальная опасность, нависшая над семьёй Малфоев в случае невыполнения этой задачи, окончательно выдёргивают Драко из детства и заставляют его переосмыслить очень многие вещи. Недаром, год спустя — это уже совсем другой Драко. И теперь Гарри, который уже давно все эти «уроки жизни» выучил, искренне сочувствует Малфою, понимая, перед каким выбором поставил юношу Хозяин.\\n\\nПлохой характер Драко во многом не его вина, а результат ошибочных принципов воспитания в его семье. Правда, к чести сказать, огромный плюс семьи Малфоев в том, что они на самом деле любят друг друга. Страх того, что что-то ужасное может случиться с ним и его семьёй, служит достаточной мотивацией для Драко. В то же время Нарцисса Малфой лжёт в глаза Волан-де-Морту в конце седьмой книги и говорит ему, что Гарри мёртв только для того, чтобы добраться до своего сына и спасти его.\\n\\nНавыки и умения\\nPromoHP2 Draco Malfoy 2\\nДрако в форме сборной факультета\\n\\nМалфой хорошо летает на метле и даже входил в сборную Слизерина по квиддичу ловцом. Драко хорошо учится, особенно преуспевает на уроках по Защите от Тёмных искусств и Зельеварению. Также Малфой владеет окклюменцией на достаточно высоком уровне. Этот навык прекрасно согласуется с характером Драко. Ему было лёгко «отключить» эмоции, отрезать и отвергнуть важные части себя, что необходимо при окклюменции.\\n\\nВ конце пятой книги Дамблдор говорит Гарри, что то, что он может чувствовать такую боль, является неотъемлемой частью его человечности; с Драко же всё наоборот — это наглядный пример, что отрицание боли и подавление внутреннего конфликта могут привести только к разрушению личности (что наиболее вероятно, чем нанесение ущерба другим).[2]\\n\\nИмущество\\nимущество\\t\\nВолшебная палочка\\tКуплена в лавке Олливандера 31 июля 1991 года, в конце марта — начале апреля 1998 года сменила хозяина\\nМетла Комета-260\\tМетла, на которой Драко летал дома до 1992 года\\nМетла Нимбус-2001\\tКуплена летом 1992 года его отцом, копии данной метлы были подарены сборной Слизерина (не по доброте душевной, а из желания нажить славы)\\nРука славы\\tПриобретена в лавке «Горбин и Бэркес» не позже июня 1997 года\\nФилин\\tИспользуется в качестве Почтовой совы как минимум с 1991 года\\nТакже после смерти родителей Драко унаследует фамильное поместье Малфоев.\\n\\nВзаимоотношения\\nСемья\\nMalfoy Family in 1998.\\nЧета Малфоев с сыном Драко и Беллатрисой Лестрейндж\\n\\nЛюциус и Нарцисса Малфои любят своего единственного сына. Но при этом каждый из них любит Драко по-своему. Если Нарциссе мальчик дорог как таковой, то для Люциуса большую роль Драко имеет как продолжатель рода, преемник имени и чести семьи. В 1992 году чтобы Драко взяли ловцом в команду по квиддичу родного факультета, он подарил самые лучшие летающие мётлы всей команде Слизерина. А вот Нарцисса с первого курса каждую неделю отсылает всевозможные лакомства драгоценному сыночку. Это она отклонила попытку отца послать сына в далёкий Дурмстранг, где Тёмные искусства изучаются глубже, настояв, чтобы Драко поступил в британский Хогвартс. Люциус не очень одобрял Хогвартс, в частности из-за того, что там позволено учиться «грязнокровкам». Драко восхищался своим отцом, часто хвастался его влиятельностью и как мог старался быть похожим на него. Чувства к матери у него проявлялись не так ярко, но он явно любит её и уважает. Если при нём кто-то задевал доброе имя Нарциссы, Драко мгновенно хватался за палочку[7]\\n\\nДля того чтобы родители не поплатились за прошлые неудачи Люциуса, Драко взялся за невыполнимое задание Тёмного лорда, которое заключалось в убийстве Альбуса Дамблдора. С этим парень еле справляется с помощью профессора Снегга, который и убил директора.[9]\\n\\nС началом Второй магической войны Малфои больше заботились о благополучии своего родного сына, чем об успехе Волан-де-Морта. Так во время битвы за Хогвартс Нарцисса и Люциус покидают поле боя, чтобы найти своего сына, а Нарцисса до этого напрямую солгала Волан-де-Морту о смерти Гарри Поттера.[10]\\n\\nУ Драко множество родственников, в том числе и Беллатриса Лестрейндж, тётя со стороны матери, которая учила его Окклюменции в 1996 году, готовя его к миссии убийства. Она же одобрила вступление Драко в раннем возрасте в ряды Пожирателей смерти, но не поощряла излишнюю заботу сестры о сыне.[10]\\n\\nВ то же время Драко, как и все Малфои, отдалился от тёти Андромеды, которая вышла замуж за маглорождённого Теда Тонкса, и не общался со своей кузиной Нимфадорой Тонкс. Как и многие члены его семьи, Драко с презрением относился к предателям крови Тонксам и подобно им открещивался от родства с Сириусом Блэком.[8]\\n\\nДрузья\\nДрако: \"Почему ты в очках?\"\\nГарри (в образе Гойла): \"Я... читал.\"\\nДрако: \"Читал? Не знал, что ты умеешь.\"\\n— Драко говорит с Гарри, который, превратившись в Гойла, забыл снять свои очки.[12]\\nInquistorialSquad\\nБанда Драко Малфоя (Крэбб, Гойл, сам Малфой и Пэнси Паркинсон)\\n\\nУ Драко в Хогвартсе были его вечные спутники Винсент Крэбб и Грегори Гойл. Как бы то ни было, Драко регулярно обсуждал их недалёкость, и они были, пожалуй, больше слугами, чем товарищами.[5]\\n\\nКрэбб с Гойлом часто вступали в столкновения с Гарри Поттером и его друзьями, поддерживая Драко. Но, начиная с середины шестого курса, эти «подпевалы» начинают выходить из повиновения. Чем человечней становится Малфой, тем менее послушными — Крэбб и Гойл. В последний учебный год они почувствовали себя намного уверенней в учёбе, ведь Амикус Кэрроу заставлял одних учеников применять непростительные заклятия к другим, а это у Крэбба и Гойла получалось великолепно. И в последней стычке в Выручай-комнате во время битвы за Хогвартс, Драко утратил контроль над своими друзьями почти полностью. Крэбб попытался убить Гарри Поттера, а когда это не вышло, поджег Выручай-комнату адским огнём и сам сгорел. Спасённый Гарри, Роном и Гермионой Драко, сжимая бесчувственное тело Гойла, сквозь кашель произносит только одно слово: «Крэбб…». Всё же Малфой на самом деле был к мальчишкам привязан. Может, даже сам не понимал, насколько.[10]\\n\\nПэнси Паркинсон, девушка-слизеринка, ровесница Драко, была его девушкой в годы учёбы в Хогвартсе и часто просто восхищалась им. Она ухаживала за Драко, когда он был ранен Клювокрылом.[5] Драко и Пэнси вместе стали членами инспекционной дружины и старостами.[9] Тем не менее, в дальнейшем их пути разошлись, и Драко женился на Астории Гринграсс.\\n\\nДрако также дружил с Теодором Ноттом, одним из немногих, в котором он видел равного, который наряду с чистокровностью был чуть ли не умнее его. Как бы то ни было, Теодор держался отстранённо и не собирался вступать в «банду» Драко.[13]\\n\\nПреподаватели Хогвартса\\nК большинству преподавателей Драко относится снисходительно и пренебрежительно. Как к людям, удостоенным чести работать и обслуживать таких чистокровных аристократов, как Малфой. Однако мальчику хватает ума не показывать своё отношение. Лишь раз это проявилось наглядно. Когда Малфой познакомился с Римусом Люпином и не успел скрыть своё презрение к поношенным вещам этого взрослого волшебника, неизвестно как оказавшегося в Хогвартс-экспрессе. Но стоило ему услышать, что это новый преподаватель защиты от Тёмных искусств, как он взял себя в руки и спрятал брезгливость под напускным равнодушием.\\n\\nВпрочем, некоторых профессоров он вполне заслуженно опасается. Ведь учитель может при желании устроить «сложную жизнь». Это сильные маги с не менее сильным характером (профессора Альбус Дамблдор, Минерва Макгонагалл…). Единственный профессор, которого юный Малфой действительно боялся, был лже-Грозный Глаз Грюм, который однажды превратил его в хорька. К очень немногим Драко питает тёплые чувства. Ну, например, к другу и соратнику отца Северусу Снеггу. От некоторых ждёт покровительства (Долорес Амбридж и Гораций Слизнорт). Но в целом, отношения с учителями диктуются карьерными соображениями Драко.\\n\\nГарри Поттер\\nPromoHP6 Harry Potter\\nГарри Поттер\\n\\nЧувства Драко по отношению к Гарри в большинстве своём основывались на зависти. И хотя Гарри никогда не стремился к славе, он был, несомненно, самой знаменитой и обсуждаемой фигурой в школе, и это, естественно, коробило мальчика, который был воспитан в уверенности, что он занимает почти королевское положение в волшебном сообществе. Более того, Гарри оказался более талантливым в полётах на метле, в том искусстве, в котором Малфой надеялся затмить всех остальных первокурсников. Тот факт, что профессор зельеварения Снегг благосклонно относился к Малфою и презирал Гарри, служил слабым утешением.[2]\\nДрако стал соперником, а так же и одним из врагов Гарри Поттера чуть ли не с первых дней их знакомства. Несмотря на то, что Драко хотел с самого начала дружить с Гарри, первое впечатление при знакомстве и оскорбления в адрес Рубеуса Хагрида поставили на этом крест. Дальнейшее столкновение в Хогвартс-экспрессе, когда Драко принялся высмеивать и нового знакомого Гарри, Рона, окончательно сделали обоих чуть ли не врагами.[3]\\n\\nНа протяжения всего времени пребывания в Хогвартсе между ними происходили многочисленные стычки. Так постепенно всё и шло, пока Люциуса Малфоя не заключили в Азкабан после битвы в Министерстве магии, в чём Драко винил исключительно Гарри и просто возненавидел его.[8]\\n\\nНо несмотря на всё это, при возрастающей силе Тёмного лорда, Драко неохотно опознаёт Гарри, Рона и Гермиону, когда их поймали и привели в Особняк Малфоев. В Выручай-комнате он не дал Крэббу убить их, а Гарри в этот день дважды спас Драко жизнь.[10]\\n\\nМногие фанаты считают, что поведение Драко по отношению к Гарри свидетельствует не о ненависти и вражде, а, напротив, о желании дружить. А постоянные придирки к Гарри и его друзьям продиктованы ревностью и обидой на то, что его дружеские чувства были отвергнуты. Эта теория имеет право на существование, так как, действительно, отношения Драко и Гарри строятся следующим образом: Драко из кожи вон лезет, пытаясь прилечь внимание Гарри, унижая и оскорбляя его и Рона с Гермионой, а Гарри вообще не замечает Драко до тех пор, пока тот не начинает на него «наезжать». Частенько это приводит к многчисленным стычкам, причём с каждым годом они становятся все серьёзней и серьёзней. А заключение в Азкабан отца Драко сильно меняет отношения между мальчиками — в ход идут даже непростительные заклятия.[9]\\n\\nКак бы там ни было, повзрослев, Драко и Гарри примирились, но из-за многочисленных обид, нанесённых ранее, так и не стали друзьями.[10]\\n\\nСемья Уизли\\nLeft pointing double angle quotation mark sh4\\tДаже не буду спрашивать, как тебя зовут. Мой отец рассказывал мне, что если видишь рыжего и веснушчатого мальчишку, значит, он из семьи Уизли. Семьи, в которой больше детей, чем могут себе позволить их родители.\\tRight pointing double angle quotation mark sh4\\nДрако Рону Уизли при первой встрече[3]\\nWeasleys2\\nСемья Уизли\\n\\nВсе Малфои презрительно относились к Уизли, потому что те не обладают таким состоянием, как они и, к тому же, «предатели крови». Это отношение Драко перенёс на Рона Уизли и всё высказал при первой же встрече по пути в Хогвартс.[3]\\n\\nПодобно их отцам, Рональд и Драко открыто враждовали, что приводило к регулярным перепалкам, причем не только на словах — они частенько чесали друг о друга кулаки. Также Драко сочинил издевательский стишок в честь Рона — нового вратаря команды Гриффиндора по квиддичу — «Уизли — наш король».[8]\\n\\nКогда Крэбб поджигает Выручай-комнату адским огнём, Рон помогает Гарри вытащить оттуда Драко и оставляет Гойла наедине с Гермионой, но делает это всё с большим отвращением. И когда позже в этот же день он с друзьями спасает Малфоя от Пожирателей смерти, Рон называет Драко «двуличным подонком». По всей видимости ненависть Рона не угасла с годами, потому что позже он предостерегает свою дочь от каких-либо отношений со Скорпиусом, сыном Драко.[10]\\n\\nС остальными Уизли Драко меньше пересекался, но Фред и Джордж Уизли во время побега из Хогвартса наслали проклятье на Драко и других членов Инспекционной дружины, а Джинни навела на Драко отменный Летучемышиный сглаз, когда он в составе Инспекционной дружины пытался задержать её, Рона, Невилла Долгопупса и Полумну Лавгуд.[8]\\n\\nГермиона Грейнджер\\nДрако: \"Хороши, а? <...> Не расстраивайтесь, соберите с болельщиков деньги и тоже такие купите. Или выставьте на аукцион свои «Чистомёты-5». Музеи всего мира из-за них подерутся.\"\\nГермиона: \"Зато ни один игрок нашей сборной не покупал себе место в команде. Все они попали туда благодаря таланту.\"\\nДрако: \"А твоего мнения, грязнокровка, никто не спрашивает!\"\\n— после того как Драко взяли ловцом в команду по квиддичу Слизерина[4]\\nHermione Granger (HP promo 6)\\nГермиона Грейнджер\\n\\nДрако верил, что маглорождённые волшебники — люди низшего сорта. Так его учили с детских лет. Но Гермиона Грейнджер почему-то упорно не вписывалась в отталкивающий образ «грязнокровок». Во-первых, она не отвечает на его подколки. Просто игнорирует его. А ведь Драко всегда пытается привлечь к себе внимание. Особенно внимание Гарри Поттера. А эта магла всё время шепчет ему: «Не обращай внимания, не обращай внимания…» Во-вторых, то, что она — одна из лучших учениц школы с первого курса, не видел разве что слепой. Драко попытался поплакаться об этом отцу, но получил отповедь, что надо не жаловаться на Грейнджер, а самому лучше учиться. В-третьих, Гермиона, как и Драко, умеет смотреть в корень проблемы, и потому умеет «срезать» всё удовольствие одним замечанием (см. цитату). Только что Драко чувствовал себя крутым, богатым сынком всесильного папочки, благодетелем всей слизеринской сборной, а Гермионе хватило одной фразы, чтобы сделать его бездарностью, вынужденной покупать себе место под солнцем. Конечно, он тут же обзывает её! Он взбешён.[4]\\n\\nПостепенно у Драко, возможно, незаметно даже для него самого, меняется отношение к Гермионе. Он никак не отвечает на её оплеуху, полученную за оскорбления в адрес Хагрида[5], а спустя несколько месяцев даже предупреждает её об опасности («На твоём месте, Грейнджер, я бы не высовывал сейчас свою лохматую голову»).[7] Но когда он это осознаёт, то всячески пытается себя обелить в своих же собственных глазах, усиленно обзывая Гермиону «грязнокровкой» и демонстрируя всем свою к ней брезгливость. А вот Виктор Крам, знаменитый ловец болгарской сборной, оказался выше этого. Почувствовал симпатию к Гермионе — и не побоялся пригласить её на Святочный бал, чем вызвал великое неудовольствие своего директора. Так что Драко перестаёт по поводу и без повода задевать Гермиону («Ой, Грейнджер, отойди! Я только что вымыл руки, не хочу запачкаться о какую-то грязнокровку»). Видимо, Крам является неким авторитетом для Малфоя, и его позиция заставляет Драко задуматься.\\n\\nПлакса Миртл\\nLeft pointing double angle quotation mark sh4\\t...скажи мне, что не так... я могу тебе помочь...\\tRight pointing double angle quotation mark sh4\\nПлакса Миртл успокаивает Драко[9]\\nMyrtle human\\nПлакса Миртл\\n\\nНа шестом году обучения Драко сталкивается с неразрешимыми вопросами. Столь лестное внимание Тёмного Лорда оборачивается сложнейшим заданием, невыполнение которого грозит младшему Малфою и его семье смертью. Драко преследуют сплошные неудачи. А ведь он так стремится быть известным, великолепным, особенным. Он ссорится со своими «телохранителями» Крэббом и Гойлом (Гарри сам слышал, как они препирались). Психологически Драко нужна разрядка. Место, где можно побыть самим собой и не заботиться о сохранении маски успешного мальчика. Однажды, ища уединения, он набредает на неработающий женский туалет на втором этаже. Он доверяется Плаксе Миртл, живущей там, и рассказывает ей о своих страхах. Заметьте, не давним знакомым Крэббу и Гойлу, а привидению прыщавой маглорождённой когтевранки. Она, в свою очередь, пытается успокоить его. Драко, конечно, вряд ли рассказывает ей о сути задания Тёмного Лорда, да и упоминания Того-кого-нельзя называть, скорее всего, не было. Но Малфой искренне переживает неудачи, искренне боится за свою жизнь и жизнь своих родителей (возможно, тогда он начал понимать чувства Гарри, понимать, что значит потерять дорогих людей). Миртл может многого не знать о Драко, но она чувствует его состояние и искренне за него переживает. Печально, когда единственное существо, которому можно открыться, — всего лишь привидение.\\nИсточник текста. Распространяется на условиях CC-BY-SA\\n\\n', 'File not found.\\n', 'File not found.\\n']\n"
     ]
    }
   ],
   "source": [
    "# перейди по всем ссылкам и собери тексты\n",
    "texts = [] # пустой список для сохранения текстов\n",
    "for i in links:\n",
    "    page = rq.get('https://online.hse.ru/python-as-foreign/1/' + i)\n",
    "    page.encoding = 'utf-8'\n",
    "    soup = BeautifulSoup(page.text, features='html.parser')\n",
    "    texts.append(soup.text)\n",
    "    # t = soup.find('body') #список по тегу\n",
    "print(texts)"
   ]
  },
  {
   "cell_type": "code",
   "execution_count": 77,
   "metadata": {},
   "outputs": [
    {
     "data": {
      "text/html": [
       "<div>\n",
       "<style scoped>\n",
       "    .dataframe tbody tr th:only-of-type {\n",
       "        vertical-align: middle;\n",
       "    }\n",
       "\n",
       "    .dataframe tbody tr th {\n",
       "        vertical-align: top;\n",
       "    }\n",
       "\n",
       "    .dataframe thead th {\n",
       "        text-align: right;\n",
       "    }\n",
       "</style>\n",
       "<table border=\"1\" class=\"dataframe\">\n",
       "  <thead>\n",
       "    <tr style=\"text-align: right;\">\n",
       "      <th></th>\n",
       "      <th>name</th>\n",
       "      <th>url</th>\n",
       "      <th>text</th>\n",
       "    </tr>\n",
       "  </thead>\n",
       "  <tbody>\n",
       "    <tr>\n",
       "      <th>0</th>\n",
       "      <td>Гарри Поттер</td>\n",
       "      <td>https://online.hse.ru/python-as-foreign/1/1.html</td>\n",
       "      <td>\\n\\n\\nГарри Поттер\\n\\n\\nГарри Джеймс Поттер (а...</td>\n",
       "    </tr>\n",
       "    <tr>\n",
       "      <th>1</th>\n",
       "      <td>Джинни Уизли</td>\n",
       "      <td>https://online.hse.ru/python-as-foreign/1/2.html</td>\n",
       "      <td>\\n\\n\\nДжинни Уизли\\n\\nДжиневра Молли «Джинни» ...</td>\n",
       "    </tr>\n",
       "    <tr>\n",
       "      <th>2</th>\n",
       "      <td>Лили Поттер</td>\n",
       "      <td>https://online.hse.ru/python-as-foreign/1/3.html</td>\n",
       "      <td>\\n\\n\\nЛили Поттер\\n\\n\\nЯ и вообразить себе не ...</td>\n",
       "    </tr>\n",
       "    <tr>\n",
       "      <th>3</th>\n",
       "      <td>Гермиона Грейнджер</td>\n",
       "      <td>https://online.hse.ru/python-as-foreign/1/4.html</td>\n",
       "      <td>\\n\\n\\nГермиона Грейнджер\\n\\n\\nГермиона Джин Гр...</td>\n",
       "    </tr>\n",
       "    <tr>\n",
       "      <th>4</th>\n",
       "      <td>Сириус Блэк</td>\n",
       "      <td>https://online.hse.ru/python-as-foreign/1/5.html</td>\n",
       "      <td>\\n\\n\\nСириус Блэк\\n\\n\\nСириус Блэк III (англ. ...</td>\n",
       "    </tr>\n",
       "    <tr>\n",
       "      <th>5</th>\n",
       "      <td>Рубеус Хагрид</td>\n",
       "      <td>https://online.hse.ru/python-as-foreign/1/6.html</td>\n",
       "      <td>\\n\\n\\nРубеус Хагрид\\n\\n\\nРубеус Хагрид (англ. ...</td>\n",
       "    </tr>\n",
       "    <tr>\n",
       "      <th>6</th>\n",
       "      <td>Рон Уизли</td>\n",
       "      <td>https://online.hse.ru/python-as-foreign/1/7.html</td>\n",
       "      <td>\\n\\n\\nРональд Уизли\\n\\n\\nРональд Билиус «Рон» ...</td>\n",
       "    </tr>\n",
       "    <tr>\n",
       "      <th>7</th>\n",
       "      <td>Астория Гринграсс</td>\n",
       "      <td>https://online.hse.ru/python-as-foreign/1/8.html</td>\n",
       "      <td>\\n\\n\\nАстория Гринграсс\\n\\n\\nАстория Малфой (у...</td>\n",
       "    </tr>\n",
       "    <tr>\n",
       "      <th>8</th>\n",
       "      <td>Люциус Малфой</td>\n",
       "      <td>https://online.hse.ru/python-as-foreign/1/9.html</td>\n",
       "      <td>\\n\\n\\nЛюциус Малфой\\n\\n\\nЛюциус Малфой II (анг...</td>\n",
       "    </tr>\n",
       "    <tr>\n",
       "      <th>9</th>\n",
       "      <td>Драко Малфой</td>\n",
       "      <td>https://online.hse.ru/python-as-foreign/1/10.html</td>\n",
       "      <td>\\n\\n\\nДрако Малфой\\n\\n\\nДрако Люциус Малфой (а...</td>\n",
       "    </tr>\n",
       "    <tr>\n",
       "      <th>10</th>\n",
       "      <td>Беллатриса Лестрейндж</td>\n",
       "      <td>https://online.hse.ru/python-as-foreign/1/11.html</td>\n",
       "      <td>File not found.\\n</td>\n",
       "    </tr>\n",
       "    <tr>\n",
       "      <th>11</th>\n",
       "      <td>Гарри Поттер вики</td>\n",
       "      <td>https://online.hse.ru/python-as-foreign/1/http...</td>\n",
       "      <td>File not found.\\n</td>\n",
       "    </tr>\n",
       "  </tbody>\n",
       "</table>\n",
       "</div>"
      ],
      "text/plain": [
       "                     name                                                url  \\\n",
       "0            Гарри Поттер   https://online.hse.ru/python-as-foreign/1/1.html   \n",
       "1            Джинни Уизли   https://online.hse.ru/python-as-foreign/1/2.html   \n",
       "2             Лили Поттер   https://online.hse.ru/python-as-foreign/1/3.html   \n",
       "3      Гермиона Грейнджер   https://online.hse.ru/python-as-foreign/1/4.html   \n",
       "4             Сириус Блэк   https://online.hse.ru/python-as-foreign/1/5.html   \n",
       "5           Рубеус Хагрид   https://online.hse.ru/python-as-foreign/1/6.html   \n",
       "6               Рон Уизли   https://online.hse.ru/python-as-foreign/1/7.html   \n",
       "7       Астория Гринграсс   https://online.hse.ru/python-as-foreign/1/8.html   \n",
       "8           Люциус Малфой   https://online.hse.ru/python-as-foreign/1/9.html   \n",
       "9            Драко Малфой  https://online.hse.ru/python-as-foreign/1/10.html   \n",
       "10  Беллатриса Лестрейндж  https://online.hse.ru/python-as-foreign/1/11.html   \n",
       "11      Гарри Поттер вики  https://online.hse.ru/python-as-foreign/1/http...   \n",
       "\n",
       "                                                 text  \n",
       "0   \\n\\n\\nГарри Поттер\\n\\n\\nГарри Джеймс Поттер (а...  \n",
       "1   \\n\\n\\nДжинни Уизли\\n\\nДжиневра Молли «Джинни» ...  \n",
       "2   \\n\\n\\nЛили Поттер\\n\\n\\nЯ и вообразить себе не ...  \n",
       "3   \\n\\n\\nГермиона Грейнджер\\n\\n\\nГермиона Джин Гр...  \n",
       "4   \\n\\n\\nСириус Блэк\\n\\n\\nСириус Блэк III (англ. ...  \n",
       "5   \\n\\n\\nРубеус Хагрид\\n\\n\\nРубеус Хагрид (англ. ...  \n",
       "6   \\n\\n\\nРональд Уизли\\n\\n\\nРональд Билиус «Рон» ...  \n",
       "7   \\n\\n\\nАстория Гринграсс\\n\\n\\nАстория Малфой (у...  \n",
       "8   \\n\\n\\nЛюциус Малфой\\n\\n\\nЛюциус Малфой II (анг...  \n",
       "9   \\n\\n\\nДрако Малфой\\n\\n\\nДрако Люциус Малфой (а...  \n",
       "10                                  File not found.\\n  \n",
       "11                                  File not found.\\n  "
      ]
     },
     "execution_count": 77,
     "metadata": {},
     "output_type": "execute_result"
    }
   ],
   "source": [
    "df['text'] = texts\n",
    "# df['text']\n",
    "df"
   ]
  },
  {
   "cell_type": "markdown",
   "metadata": {
    "id": "OdOaCoseqGoy"
   },
   "source": [
    "## Практика\n",
    "\n",
    "давайте попарсим другой адрес и вытащим оттуда весь текст"
   ]
  },
  {
   "cell_type": "code",
   "execution_count": 2,
   "metadata": {
    "id": "oRw_mCmXqGoy"
   },
   "outputs": [],
   "source": [
    "url = \"https://en.wikipedia.org/wiki/Welsh_Corgi\""
   ]
  },
  {
   "cell_type": "code",
   "execution_count": 3,
   "metadata": {},
   "outputs": [
    {
     "name": "stdout",
     "output_type": "stream",
     "text": [
      "Requirement already satisfied: html5lib in /Library/Frameworks/Python.framework/Versions/3.10/lib/python3.10/site-packages (1.1)\r\n",
      "Requirement already satisfied: webencodings in /Library/Frameworks/Python.framework/Versions/3.10/lib/python3.10/site-packages (from html5lib) (0.5.1)\r\n",
      "Requirement already satisfied: six>=1.9 in /Library/Frameworks/Python.framework/Versions/3.10/lib/python3.10/site-packages (from html5lib) (1.16.0)\r\n"
     ]
    }
   ],
   "source": [
    "!pip3 install html5lib"
   ]
  },
  {
   "cell_type": "code",
   "execution_count": 4,
   "metadata": {
    "id": "csD84n82cBt7"
   },
   "outputs": [
    {
     "name": "stdout",
     "output_type": "stream",
     "text": [
      "<Response [200]>\n",
      "<class 'requests.models.Response'>\n"
     ]
    }
   ],
   "source": [
    "# ваш код ниже\n",
    "# передаем в rq\n",
    "\n",
    "import requests as rq\n",
    "from bs4 import BeautifulSoup\n",
    "\n",
    "corgi = rq.get(url) \n",
    "\n",
    "print(corgi) # посмотрим на код ответа, если 200, все хорошо\n",
    "print(type(corgi))\n",
    "\n",
    "#corgi.encoding = 'utf-8'"
   ]
  },
  {
   "cell_type": "code",
   "execution_count": 12,
   "metadata": {
    "id": "QDv9Tgz-cF2p"
   },
   "outputs": [
    {
     "name": "stdout",
     "output_type": "stream",
     "text": [
      "[                                          Welsh Corgi  \\\n",
      "0                                Pembroke Welsh Corgi   \n",
      "1                                              Origin   \n",
      "2   TraitsHeight Dogs Cardigan: 27–32 cm (11–13 in...   \n",
      "3                                              Traits   \n",
      "4                                              Height   \n",
      "5                                                 NaN   \n",
      "6                                              Weight   \n",
      "7                                                 NaN   \n",
      "8                                                Coat   \n",
      "9                                               Color   \n",
      "10                                          Life span   \n",
      "11                                 Dog (domestic dog)   \n",
      "\n",
      "                                        Welsh Corgi.1  \\\n",
      "0                                Pembroke Welsh Corgi   \n",
      "1                                               Wales   \n",
      "2   TraitsHeight Dogs Cardigan: 27–32 cm (11–13 in...   \n",
      "3                                              Traits   \n",
      "4                                                Dogs   \n",
      "5                                             Bitches   \n",
      "6                                                Dogs   \n",
      "7                                             Bitches   \n",
      "8   Cardigan: Short or medium length, hard texture...   \n",
      "9   Cardigan: Any colour, with or without white ma...   \n",
      "10  Cardigan: Average of 12 years and two months[3...   \n",
      "11                                 Dog (domestic dog)   \n",
      "\n",
      "                                           Unnamed: 2  \\\n",
      "0                                                 NaN   \n",
      "1                                                 NaN   \n",
      "2                                                 NaN   \n",
      "3                                              Traits   \n",
      "4   Cardigan: 27–32 cm (11–13 in)Pembroke: 25–30 c...   \n",
      "5   Cardigan: 27–32 cm (11–13 in)Pembroke: 25–30 c...   \n",
      "6   Cardigan: 14–17 kg (31–37 lb)Pembroke: No grea...   \n",
      "7   Cardigan: 14–17 kg (31–37 lb)Pembroke: No grea...   \n",
      "8   Cardigan: Short or medium length, hard texture...   \n",
      "9   Cardigan: Any colour, with or without white ma...   \n",
      "10  Cardigan: Average of 12 years and two months[3...   \n",
      "11                                                NaN   \n",
      "\n",
      "                                           Unnamed: 3  \n",
      "0                                                 NaN  \n",
      "1                                                 NaN  \n",
      "2                                                 NaN  \n",
      "3                                              Traits  \n",
      "4                                                 NaN  \n",
      "5                                                 NaN  \n",
      "6                                                 NaN  \n",
      "7                                                 NaN  \n",
      "8   Cardigan: Short or medium length, hard texture...  \n",
      "9   Cardigan: Any colour, with or without white ma...  \n",
      "10  Cardigan: Average of 12 years and two months[3...  \n",
      "11                                                NaN  ,       Traits                                           Traits.1  \\\n",
      "0     Height                                               Dogs   \n",
      "1        NaN                                            Bitches   \n",
      "2     Weight                                               Dogs   \n",
      "3        NaN                                            Bitches   \n",
      "4       Coat  Cardigan: Short or medium length, hard texture...   \n",
      "5      Color  Cardigan: Any colour, with or without white ma...   \n",
      "6  Life span  Cardigan: Average of 12 years and two months[3...   \n",
      "\n",
      "                                            Traits.2  \\\n",
      "0  Cardigan: 27–32 cm (11–13 in)Pembroke: 25–30 c...   \n",
      "1  Cardigan: 27–32 cm (11–13 in)Pembroke: 25–30 c...   \n",
      "2  Cardigan: 14–17 kg (31–37 lb)Pembroke: No grea...   \n",
      "3  Cardigan: 14–17 kg (31–37 lb)Pembroke: No grea...   \n",
      "4  Cardigan: Short or medium length, hard texture...   \n",
      "5  Cardigan: Any colour, with or without white ma...   \n",
      "6  Cardigan: Average of 12 years and two months[3...   \n",
      "\n",
      "                                            Traits.3  \n",
      "0                                                NaN  \n",
      "1                                                NaN  \n",
      "2                                                NaN  \n",
      "3                                                NaN  \n",
      "4  Cardigan: Short or medium length, hard texture...  \n",
      "5  Cardigan: Any colour, with or without white ma...  \n",
      "6  Cardigan: Average of 12 years and two months[3...  ,   .mw-parser-output .navbar{display:inline;font-size:88%;font-weight:normal}.mw-parser-output .navbar-collapse{float:left;text-align:left}.mw-parser-output .navbar-boxtext{word-spacing:0}.mw-parser-output .navbar ul{display:inline-block;white-space:nowrap;line-height:inherit}.mw-parser-output .navbar-brackets::before{margin-right:-0.125em;content:\"[ \"}.mw-parser-output .navbar-brackets::after{margin-left:-0.125em;content:\" ]\"}.mw-parser-output .navbar li{word-spacing:-0.125em}.mw-parser-output .navbar a>span,.mw-parser-output .navbar a>abbr{text-decoration:inherit}.mw-parser-output .navbar-mini abbr{font-variant:small-caps;border-bottom:none;text-decoration:none;cursor:inherit}.mw-parser-output .navbar-ct-full{font-size:114%;margin:0 7em}.mw-parser-output .navbar-ct-mini{font-size:114%;margin:0 4em}vteDogs originating in Great Britain  \\\n",
      "0                                             Hounds                                                                                                                                                                                                                                                                                                                                                                                                                                                                                                                                                                                                                                                                                                                                                                                                                             \n",
      "1                                           Gun dogs                                                                                                                                                                                                                                                                                                                                                                                                                                                                                                                                                                                                                                                                                                                                                                                                                             \n",
      "2                                           Terriers                                                                                                                                                                                                                                                                                                                                                                                                                                                                                                                                                                                                                                                                                                                                                                                                                             \n",
      "3                                     Working breeds                                                                                                                                                                                                                                                                                                                                                                                                                                                                                                                                                                                                                                                                                                                                                                                                                             \n",
      "4                                         Toy breeds                                                                                                                                                                                                                                                                                                                                                                                                                                                                                                                                                                                                                                                                                                                                                                                                                             \n",
      "5                                         Bull types                                                                                                                                                                                                                                                                                                                                                                                                                                                                                                                                                                                                                                                                                                                                                                                                                             \n",
      "6                                       Herding dogs                                                                                                                                                                                                                                                                                                                                                                                                                                                                                                                                                                                                                                                                                                                                                                                                                             \n",
      "7                                              Other                                                                                                                                                                                                                                                                                                                                                                                                                                                                                                                                                                                                                                                                                                                                                                                                                             \n",
      "8                                            Extinct                                                                                                                                                                                                                                                                                                                                                                                                                                                                                                                                                                                                                                                                                                                                                                                                                             \n",
      "9  Types: Collies, Fell Terriers, Fox Terriers, L...                                                                                                                                                                                                                                                                                                                                                                                                                                                                                                                                                                                                                                                                                                                                                                                                                             \n",
      "\n",
      "  .mw-parser-output .navbar{display:inline;font-size:88%;font-weight:normal}.mw-parser-output .navbar-collapse{float:left;text-align:left}.mw-parser-output .navbar-boxtext{word-spacing:0}.mw-parser-output .navbar ul{display:inline-block;white-space:nowrap;line-height:inherit}.mw-parser-output .navbar-brackets::before{margin-right:-0.125em;content:\"[ \"}.mw-parser-output .navbar-brackets::after{margin-left:-0.125em;content:\" ]\"}.mw-parser-output .navbar li{word-spacing:-0.125em}.mw-parser-output .navbar a>span,.mw-parser-output .navbar a>abbr{text-decoration:inherit}.mw-parser-output .navbar-mini abbr{font-variant:small-caps;border-bottom:none;text-decoration:none;cursor:inherit}.mw-parser-output .navbar-ct-full{font-size:114%;margin:0 7em}.mw-parser-output .navbar-ct-mini{font-size:114%;margin:0 4em}vteDogs originating in Great Britain.1  \n",
      "0  Beagle Bloodhound English Foxhound Greyhound H...                                                                                                                                                                                                                                                                                                                                                                                                                                                                                                                                                                                                                                                                                                                                                                                                                              \n",
      "1  Clumber Spaniel Curly-Coated Retriever English...                                                                                                                                                                                                                                                                                                                                                                                                                                                                                                                                                                                                                                                                                                                                                                                                                              \n",
      "2  Working breeds Airedale Terrier Bedlington Ter...                                                                                                                                                                                                                                                                                                                                                                                                                                                                                                                                                                                                                                                                                                                                                                                                                              \n",
      "3  Airedale Terrier Bedlington Terrier Border Ter...                                                                                                                                                                                                                                                                                                                                                                                                                                                                                                                                                                                                                                                                                                                                                                                                                              \n",
      "4  English Toy Terrier (Black & Tan) Yorkshire Te...                                                                                                                                                                                                                                                                                                                                                                                                                                                                                                                                                                                                                                                                                                                                                                                                                              \n",
      "5  Bull and terrier Bull Terrier Miniature Bull T...                                                                                                                                                                                                                                                                                                                                                                                                                                                                                                                                                                                                                                                                                                                                                                                                                              \n",
      "6  Bearded Collie Border Collie Cardigan Welsh Co...                                                                                                                                                                                                                                                                                                                                                                                                                                                                                                                                                                                                                                                                                                                                                                                                                              \n",
      "7  Bulldog Bullmastiff Cavalier King Charles Span...                                                                                                                                                                                                                                                                                                                                                                                                                                                                                                                                                                                                                                                                                                                                                                                                                              \n",
      "8  Black and Tan Terrier Blue Paul Terrier Buckho...                                                                                                                                                                                                                                                                                                                                                                                                                                                                                                                                                                                                                                                                                                                                                                                                                              \n",
      "9  Types: Collies, Fell Terriers, Fox Terriers, L...                                                                                                                                                                                                                                                                                                                                                                                                                                                                                                                                                                                                                                                                                                                                                                                                                              ,                 0                                                  1\n",
      "0  Working breeds  Airedale Terrier Bedlington Terrier Border Ter...\n",
      "1      Toy breeds  English Toy Terrier (Black & Tan) Yorkshire Te...\n",
      "2      Bull types  Bull and terrier Bull Terrier Miniature Bull T...]\n"
     ]
    }
   ],
   "source": [
    "# передаем в BeautifulSoup\n",
    "soup = BeautifulSoup(corgi.text, features=\"html.parser\")\n",
    "# print(soup.text)\n",
    "import pandas as pd\n",
    "\n",
    "dogs = pd.read_html(url)\n",
    "data = pd.DataFrame(dogs[0]) # 0 объект списка - наша едиснтвенная табличка на странице\n",
    "data.to_csv(\"dogs.csv\")\n",
    "#pd.DataFrame(data, columns=[\"name\", \"url\"])\n",
    "\n",
    "print(dogs)\n",
    "\n",
    "with open(\"Corgi.txt\", \"w\", encoding='utf-8') as file:\n",
    "    file.write(soup.text)"
   ]
  },
  {
   "cell_type": "code",
   "execution_count": null,
   "metadata": {
    "id": "xGlsPkkTcIIx"
   },
   "outputs": [],
   "source": [
    "# сохраняем\n"
   ]
  },
  {
   "cell_type": "markdown",
   "metadata": {
    "id": "kwtSDxP_cLOX"
   },
   "source": [
    "##Бонус (в т.ч. для домашнего задания)\n",
    "\n",
    "Как заставить код спарсить несколько страничек"
   ]
  },
  {
   "cell_type": "code",
   "execution_count": null,
   "metadata": {
    "id": "UMiTiwiDcTs9"
   },
   "outputs": [],
   "source": [
    "url = 'https://nplus1.ru/' # сохраняем\n",
    "page = rq.get(url) # загружаем страницу по ссылке\n",
    "print(page.status_code)  # 200 - страница загружена"
   ]
  },
  {
   "cell_type": "code",
   "execution_count": null,
   "metadata": {
    "id": "E4Bf__jRceK1"
   },
   "outputs": [],
   "source": [
    "soup = BeautifulSoup(page.text, features=\"html.parser\")\n",
    "print(soup.prettify())"
   ]
  },
  {
   "cell_type": "markdown",
   "metadata": {
    "id": "3QwH7zace4sn"
   },
   "source": [
    "шаг 1 - соберем с главной страницы ссылки на те, которые хотим спарсить"
   ]
  },
  {
   "cell_type": "code",
   "execution_count": null,
   "metadata": {
    "id": "08GU8o_pcnG2"
   },
   "outputs": [],
   "source": [
    "urls = []\n",
    "\n",
    "for link in soup.find_all('a'):\n",
    "    urls.append(link.get('href'))\n",
    "\n",
    "urls\n",
    "#print(urls)\n",
    "\n",
    "# много лишних ссылок и повторов, оставим только ссылки на новости"
   ]
  },
  {
   "cell_type": "code",
   "execution_count": null,
   "metadata": {
    "id": "j5_a2Fz2c7zx"
   },
   "outputs": [],
   "source": [
    "full_urls = []\n",
    "\n",
    "for link in soup.find_all('a'):\n",
    "  if 'news' in link.get('href') and 'https://nplus1.ru' in link.get('href') and link.get('href') not in full_urls:\n",
    "    full_urls.append(link.get('href')) \n",
    "\n",
    "full_urls\n",
    "# print(full_urls)"
   ]
  },
  {
   "cell_type": "code",
   "execution_count": null,
   "metadata": {
    "id": "kt_BuUBjg36M"
   },
   "outputs": [],
   "source": [
    "# первая ссылка - попала в выдачу не совсем корректно (тематически нам не подходит), ее можно удалить или позже указать срез ссылок для обработки, пропустив ее\n",
    "# удалим сразу\n",
    "\n",
    "del full_urls[0]\n",
    "print(full_urls)"
   ]
  },
  {
   "cell_type": "markdown",
   "metadata": {
    "id": "Zyi6cWrPe6MC"
   },
   "source": [
    "шаг 2 - посмотрим, что можно спарсить со страницы 1 любой новости"
   ]
  },
  {
   "cell_type": "code",
   "execution_count": null,
   "metadata": {
    "id": "KroD1763c-I4"
   },
   "outputs": [],
   "source": [
    "url0 = full_urls[0]\n",
    "\n",
    "page0 = rq.get(url0)\n",
    "soup0 = BeautifulSoup(page0.text)\n",
    "print(soup0.prettify())"
   ]
  },
  {
   "cell_type": "code",
   "execution_count": null,
   "metadata": {
    "id": "Bxff_Dfofdde"
   },
   "outputs": [],
   "source": [
    "# случай сложный: самая интересная информация хранится в теге meta\n",
    "\n",
    "soup0.find_all('meta')\n",
    "#print(soup0.find_all('meta'))"
   ]
  },
  {
   "cell_type": "markdown",
   "metadata": {
    "id": "Egn2nWLnfJZI"
   },
   "source": [
    "Соберем информацию об авторе, дате публикации, заголовке \n",
    "Какие атрибуты нам нужны? \n",
    "\n",
    "author, datePublished, og:title"
   ]
  },
  {
   "cell_type": "code",
   "execution_count": null,
   "metadata": {
    "id": "PnEXVZccfKYT"
   },
   "outputs": [],
   "source": [
    "# атрибуты прописаны внутри тега meta, как их извлечь?\n",
    "# передадим нужный атрибут как словарь \n",
    "\n",
    "author = soup0.find_all('meta', {'name' : 'author'})[0].attrs['content'] # вызовем автора по ключу (content) и сохраним в переменную\n",
    "date = soup0.find_all('meta', {'itemprop' : 'datePublished'})[0].attrs['content']\n",
    "title = soup0.find_all('meta', {'property' : 'og:title'})[0].attrs['content']\n",
    "\n",
    "print(author, date, title)"
   ]
  },
  {
   "cell_type": "markdown",
   "metadata": {
    "id": "hJywp95fhURo"
   },
   "source": [
    "Извлечем текст новости, используя тэг p с атрибутом mb-6"
   ]
  },
  {
   "cell_type": "code",
   "execution_count": null,
   "metadata": {
    "id": "cT6eJ8SUhRu_"
   },
   "outputs": [],
   "source": [
    "text_list = soup0.find_all('p', {'class' : 'mb-6'})\n",
    "text_list\n",
    "#print(text_list)"
   ]
  },
  {
   "cell_type": "code",
   "execution_count": null,
   "metadata": {
    "id": "oiMw6r17iTbD"
   },
   "outputs": [],
   "source": [
    "text = []\n",
    "for i in text_list:\n",
    "  text.append(i.text)\n",
    "text\n",
    "#print(text)"
   ]
  },
  {
   "cell_type": "code",
   "execution_count": null,
   "metadata": {
    "id": "gg_9SEt6immG"
   },
   "outputs": [],
   "source": [
    "# слегка поправим текст:\n",
    "final_text = ' '.join(text)\n",
    "final_text = final_text.replace('\\xa0', ' ')\n",
    "final_text\n",
    "#print(final_text)"
   ]
  },
  {
   "cell_type": "markdown",
   "metadata": {
    "id": "Hi6THR89i5sy"
   },
   "source": [
    "шаг 3: напишем функцию, которая будет идти по ссылкам из full_urls и парсить каждую страницу"
   ]
  },
  {
   "cell_type": "code",
   "execution_count": null,
   "metadata": {
    "id": "IY59cx7ei4IO"
   },
   "outputs": [],
   "source": [
    "def GetNews(url0):\n",
    "  page0 = rq.get(url0)\n",
    "  soup0 = BeautifulSoup(page0.text, features=\"html.parser\")\n",
    "  author = soup0.find_all('meta', {'name' : 'author'})[0].attrs['content'] \n",
    "  date = soup0.find_all('meta', {'itemprop' : 'datePublished'})[0].attrs['content']\n",
    "  title = soup0.find_all('meta', {'property' : 'og:title'})[0].attrs['content']\n",
    "  text_list = soup0.find_all('p', {'class' : 'mb-6'})\n",
    "  text = []\n",
    "  for i in text_list:\n",
    "    text.append(i.text)\n",
    "  final_text = ' '.join(text)\n",
    "  final_text = final_text.replace('\\xa0', ' ')\n",
    "  return url0, author, date, title, final_text"
   ]
  },
  {
   "cell_type": "code",
   "execution_count": null,
   "metadata": {
    "id": "IhoOb2fYjKSJ"
   },
   "outputs": [],
   "source": [
    "news = [] # список с новостями\n",
    "\n",
    "for link in full_urls:\n",
    "  new = GetNews(link)\n",
    "  news.append(new)"
   ]
  },
  {
   "cell_type": "code",
   "execution_count": null,
   "metadata": {
    "id": "l3nBbYTWjVvN"
   },
   "outputs": [],
   "source": [
    "df = pd.DataFrame(news)\n",
    "df.head()"
   ]
  },
  {
   "cell_type": "code",
   "execution_count": null,
   "metadata": {
    "id": "B-nDj4NyjY13"
   },
   "outputs": [],
   "source": [
    "df.columns = ['link', 'author', 'date', 'title', 'text']"
   ]
  },
  {
   "cell_type": "code",
   "execution_count": null,
   "metadata": {
    "id": "LcQpUHS2jntE"
   },
   "outputs": [],
   "source": [
    "df.head(1)"
   ]
  },
  {
   "cell_type": "code",
   "execution_count": null,
   "metadata": {
    "id": "6GeygSd9jxl5"
   },
   "outputs": [],
   "source": [
    "df.to_excel('nplus_news.xlsx')"
   ]
  },
  {
   "cell_type": "markdown",
   "metadata": {
    "id": "QQpr82aNkOOF"
   },
   "source": [
    "### Как парсить сайты, не раздражая сервера"
   ]
  },
  {
   "cell_type": "markdown",
   "metadata": {
    "id": "6QfkgcxbkRk-"
   },
   "source": [
    "Выше мы пробовали скрейпить сайт циклом. Скорость такого скрейпинга ограничена только скоростью сети и быстродействием компьютеров. То есть может быть довольно высокой\n",
    "\n",
    "Это нагрузка на сервера, и иногда владельцы блокируют скрейперов"
   ]
  },
  {
   "cell_type": "code",
   "execution_count": null,
   "metadata": {
    "id": "H8kwG5ADkgy1"
   },
   "outputs": [],
   "source": [
    "%%time \n",
    "\n",
    "for i in range(10): # 10 раз запроси одну и ту же страницу\n",
    "    rq.get('https://quotes.toscrape.com')"
   ]
  },
  {
   "cell_type": "markdown",
   "metadata": {
    "id": "Rwp77g5Ukcg-"
   },
   "source": [
    "1. Использовать sleep из модуля time"
   ]
  },
  {
   "cell_type": "code",
   "execution_count": null,
   "metadata": {
    "id": "St6FpgbJlAt2"
   },
   "outputs": [],
   "source": [
    "import time"
   ]
  },
  {
   "cell_type": "code",
   "execution_count": null,
   "metadata": {
    "id": "_2R3les6kPro"
   },
   "outputs": [],
   "source": [
    "%%time \n",
    "\n",
    "for i in range(10):\n",
    "    rq.get('https://quotes.toscrape.com')\n",
    "    time.sleep(1) # ждем 1 секунду после каждого шага"
   ]
  },
  {
   "cell_type": "markdown",
   "metadata": {
    "id": "O9xoHliKlbld"
   },
   "source": [
    "2. Мимикрировать под человека с помощью fake_useragent"
   ]
  },
  {
   "cell_type": "markdown",
   "metadata": {
    "id": "CKp3fL4UlhsQ"
   },
   "source": [
    "Допустим, вы решили парсить мемы:"
   ]
  },
  {
   "cell_type": "code",
   "execution_count": null,
   "metadata": {
    "id": "xyDGQxailfVV"
   },
   "outputs": [],
   "source": [
    "page_link = 'https://knowyourmeme.com/memes/all/page/1'\n",
    "response = rq.get(page_link)"
   ]
  },
  {
   "cell_type": "code",
   "execution_count": null,
   "metadata": {
    "id": "gzqMDVg_ln_5"
   },
   "outputs": [],
   "source": [
    "soup = BeautifulSoup(response.text)\n",
    "print(soup.find(\"table\")) # спасим таблицу с мемами"
   ]
  },
  {
   "cell_type": "code",
   "execution_count": null,
   "metadata": {
    "id": "ns_O7AeMl0as"
   },
   "outputs": [],
   "source": [
    "print(response.status_code)"
   ]
  },
  {
   "cell_type": "code",
   "execution_count": null,
   "metadata": {
    "id": "E-3AcB16l1fK"
   },
   "outputs": [],
   "source": [
    "print(response.text)\n",
    "# для нас запрещено!\n",
    "# сервер видит, что к нему пришла программа, а не человек"
   ]
  },
  {
   "cell_type": "code",
   "execution_count": null,
   "metadata": {
    "colab": {
     "base_uri": "https://localhost:8080/"
    },
    "id": "49SuOg4slySL",
    "outputId": "511de7a8-8fc3-441e-9c4b-2095902a052f"
   },
   "outputs": [
    {
     "name": "stdout",
     "output_type": "stream",
     "text": [
      "Looking in indexes: https://pypi.org/simple, https://us-python.pkg.dev/colab-wheels/public/simple/\n",
      "Collecting fake_useragent\n",
      "  Downloading fake_useragent-1.1.0-py3-none-any.whl (50 kB)\n",
      "\u001b[K     |████████████████████████████████| 50 kB 3.8 MB/s \n",
      "\u001b[?25hRequirement already satisfied: importlib-metadata~=4.0 in /usr/local/lib/python3.7/dist-packages (from fake_useragent) (4.13.0)\n",
      "Requirement already satisfied: importlib-resources>=5.0 in /usr/local/lib/python3.7/dist-packages (from fake_useragent) (5.10.0)\n",
      "Requirement already satisfied: typing-extensions>=3.6.4 in /usr/local/lib/python3.7/dist-packages (from importlib-metadata~=4.0->fake_useragent) (4.1.1)\n",
      "Requirement already satisfied: zipp>=0.5 in /usr/local/lib/python3.7/dist-packages (from importlib-metadata~=4.0->fake_useragent) (3.10.0)\n",
      "Installing collected packages: fake-useragent\n",
      "Successfully installed fake-useragent-1.1.0\n"
     ]
    }
   ],
   "source": [
    "!pip install fake_useragent"
   ]
  },
  {
   "cell_type": "code",
   "execution_count": null,
   "metadata": {
    "id": "lbdRMx4KmDJ2"
   },
   "outputs": [],
   "source": [
    "from fake_useragent import UserAgent\n",
    "print(UserAgent().chrome)"
   ]
  },
  {
   "cell_type": "code",
   "execution_count": null,
   "metadata": {
    "id": "ufdxvq4umHUq"
   },
   "outputs": [],
   "source": [
    "page_link = 'https://knowyourmeme.com/memes/all/page/1'\n",
    "response = rq.get(page_link, headers={'User-Agent': UserAgent().chrome})"
   ]
  },
  {
   "cell_type": "code",
   "execution_count": null,
   "metadata": {
    "id": "ywW_RAhOmPSI"
   },
   "outputs": [],
   "source": [
    "print(response.status_code)"
   ]
  },
  {
   "cell_type": "code",
   "execution_count": null,
   "metadata": {
    "id": "T_BbU055mRBi"
   },
   "outputs": [],
   "source": [
    "print(response.text)"
   ]
  },
  {
   "cell_type": "code",
   "execution_count": null,
   "metadata": {
    "id": "ahE_m4clmNGz"
   },
   "outputs": [],
   "source": [
    "soup = BeautifulSoup(response.text)\n",
    "soup.find('table')"
   ]
  },
  {
   "cell_type": "markdown",
   "metadata": {
    "id": "S19Su_LdoTOr"
   },
   "source": [
    "3. В крайних случаях можно использовать тор/прокси-серверы для смены IP\n",
    "\n",
    "* [Раз](https://habr.com/ru/company/ods/blog/346632/#22-tor---syn-odina)\n",
    "* [Два](https://stackoverflow.com/questions/30286293/make-requests-using-python-over-tor)\n"
   ]
  },
  {
   "cell_type": "markdown",
   "metadata": {
    "id": "rWlWI_6aoGPL"
   },
   "source": [
    "## Полезный совет про try / except!\n",
    "\n",
    "Когда парсите много страниц разом, велик риск получить ошибки (какая-то страница не ответила, сервер начал нас блокировать и т.д.)\n",
    "\n",
    "Используйте try / except"
   ]
  },
  {
   "cell_type": "code",
   "execution_count": null,
   "metadata": {
    "id": "BKRWxU8uoFgH"
   },
   "outputs": [],
   "source": [
    "for i in range(0,10):\n",
    "    print(100/i)\n",
    "\n",
    "print('Все в порядке!')"
   ]
  },
  {
   "cell_type": "code",
   "execution_count": null,
   "metadata": {
    "id": "Qk0Q4UPVozIz"
   },
   "outputs": [],
   "source": [
    "for i in range(0,10):\n",
    "    try:\n",
    "        print(100/i)\n",
    "    except: \n",
    "        print(f'с числом {i} не работает')\n",
    "\n",
    "print('Все в порядке!')"
   ]
  },
  {
   "cell_type": "markdown",
   "metadata": {
    "id": "vd-y0l-hp_EI"
   },
   "source": [
    "Как использовать при парсинге:"
   ]
  },
  {
   "cell_type": "code",
   "execution_count": null,
   "metadata": {
    "id": "WarQ7vJ6pFBk"
   },
   "outputs": [],
   "source": [
    "unis_to_parse = ['hse', 'itmo', 'msu', 'hsе', 'spbu']"
   ]
  },
  {
   "cell_type": "code",
   "execution_count": null,
   "metadata": {
    "id": "JUut8t2tpGeC"
   },
   "outputs": [],
   "source": [
    "for address in unis_to_parse:\n",
    "    page_response = rq.get(f'https://{address}.ru')\n",
    "    current_html = BeautifulSoup(page_response.text)\n",
    "    print(current_html.title)"
   ]
  },
  {
   "cell_type": "code",
   "execution_count": null,
   "metadata": {
    "id": "gUowN922pI1g"
   },
   "outputs": [],
   "source": [
    "for address in unis_to_parse:\n",
    "    try:\n",
    "        page_response = rq.get(f'https://{address}.ru')\n",
    "        current_html = BeautifulSoup(page_response.text)\n",
    "        print(current_html.title)\n",
    "    except:\n",
    "        print(f'С сайтом https://{address}.ru не работает')\n",
    "\n",
    "# hse - во втором случае использована е кириллицей"
   ]
  },
  {
   "cell_type": "markdown",
   "metadata": {
    "id": "tF72_zk5ak4g"
   },
   "source": [
    "# Полезные ссылки"
   ]
  },
  {
   "cell_type": "markdown",
   "metadata": {
    "id": "gtTvDwFoqGox"
   },
   "source": [
    "Что почитать об использовании данных\n",
    "- [как устроен сбор данных](https://en.wikipedia.org/wiki/Web_scraping)\n",
    "\n",
    "\n",
    "- закон об авторском праве ([в деталях](http://www.consultant.ru/document/cons_doc_LAW_64629/0b318126c43879a845405f1fb1f4342f473a1eda/), [вкратце](https://ru.wikipedia.org/wiki/%D0%90%D0%B2%D1%82%D0%BE%D1%80%D1%81%D0%BA%D0%BE%D0%B5_%D0%BF%D1%80%D0%B0%D0%B2%D0%BE_%D0%B2_%D0%A0%D0%BE%D1%81%D1%81%D0%B8%D0%B8))\n",
    "- [закон о персональных данных](http://www.consultant.ru/document/cons_doc_LAW_61801/)\n",
    "- [типы лицензирования данных](https://docs.github.com/en/repositories/managing-your-repositorys-settings-and-features/customizing-your-repository/licensing-a-repository)\n",
    "- [FAIR data](https://en.wikipedia.org/wiki/FAIR_data)\n",
    "- [OpenData](https://en.wikipedia.org/wiki/Open_data)\n",
    "\n"
   ]
  },
  {
   "cell_type": "markdown",
   "metadata": {
    "id": "zlEvq5ofqGox"
   },
   "source": [
    "Гайды и туториалы\n",
    "\n",
    "- [документация requests и быстрый гайд](https://requests.readthedocs.io/en/master/user/quickstart/)\n",
    "\n",
    "\n",
    "- [документация Beautiful Soup](https://www.crummy.com/software/BeautifulSoup/bs4/doc/)\n",
    "\n",
    "- [text-only](https://sjmulder.nl/en/textonly.html) веб-сайты, чтобы легко начать парсить\n",
    "\n",
    "\n",
    "\n",
    "- [здесь](https://www.york.ac.uk/teaching/cws/wws/webpage1.html) можно почитать про структуру html подробнее\n",
    "\n",
    "\n",
    "- [здесь](https://www.w3schools.com/html/html_examples.asp) еще и потренироваться в режиме онлайн (с этой ссылки мы начали занятие)"
   ]
  },
  {
   "cell_type": "markdown",
   "metadata": {
    "id": "ILp0Ke2daokq"
   },
   "source": [
    "Чем парсить соцсети (не исчерпывающий список)\n",
    "\n",
    "(стало сложнее, в России 1 и 2 ссылка не откроются без VPN...) \n",
    "\n",
    "- [Twitter](https://developer.twitter.com/en/docs/twitter-api/tools-and-libraries/v2)\n",
    "- [Meta](https://developers.facebook.com/docs/graph-api/)\n",
    "- [VK](https://vk-api.readthedocs.io/en/latest/), [положения о прайваси](https://vk.com/dev/uprivacy)"
   ]
  },
  {
   "cell_type": "markdown",
   "metadata": {
    "id": "7oTag2sOt78g"
   },
   "source": [
    "## Посмотрите дополнительные тетрадки! \n",
    "\n",
    "[Здесь](https://github.com/AnnSenina/Python_for_CL/tree/main/notebooks/дополнительные%20тетрадки) появились новые тетрадки про скрейпинг"
   ]
  }
 ],
 "metadata": {
  "colab": {
   "collapsed_sections": [
    "tQiBPzaI6F4y",
    "X5cEfTSEYhcY",
    "TjED1MGgqGot",
    "x3x43B4Qypk0",
    "bVR8OVuRUaO1",
    "yPczVAd5qGov",
    "OdOaCoseqGoy",
    "kwtSDxP_cLOX",
    "QQpr82aNkOOF",
    "rWlWI_6aoGPL",
    "tF72_zk5ak4g"
   ],
   "include_colab_link": true,
   "provenance": []
  },
  "kernelspec": {
   "display_name": "Python 3 (ipykernel)",
   "language": "python",
   "name": "python3"
  },
  "language_info": {
   "codemirror_mode": {
    "name": "ipython",
    "version": 3
   },
   "file_extension": ".py",
   "mimetype": "text/x-python",
   "name": "python",
   "nbconvert_exporter": "python",
   "pygments_lexer": "ipython3",
   "version": "3.10.1"
  }
 },
 "nbformat": 4,
 "nbformat_minor": 1
}

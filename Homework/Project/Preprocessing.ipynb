{
 "cells": [
  {
   "cell_type": "markdown",
   "id": "64bde908",
   "metadata": {},
   "source": [
    "## Предварительная обработка текста"
   ]
  },
  {
   "cell_type": "code",
   "execution_count": 2,
   "id": "f617766d",
   "metadata": {},
   "outputs": [],
   "source": [
    "import re"
   ]
  },
  {
   "cell_type": "code",
   "execution_count": 23,
   "id": "b354fc7c",
   "metadata": {},
   "outputs": [],
   "source": [
    "# Регулярные выражения для поиска нужных фрагментов текста, таких как пунктуация, \n",
    "# номера телефонов, адреса электронной почты и URL в разных форматах.\n",
    "# Регулярные выражения разбиты на логические части и присвоены переменным, \n",
    "# которые позволяют их использовать в разных комбинациях,\n",
    "# в том числе для составления сложных паттернов и объектов для выполнения с ними операций далее\n",
    "# (методов модуля re)"
   ]
  },
  {
   "cell_type": "code",
   "execution_count": 21,
   "id": "fcfab377",
   "metadata": {},
   "outputs": [],
   "source": [
    "FRAG_PUNCT_OUTER = r'\\[\\]*()<>/?!+&€₤$%#“”\":;`*=|\\\\'\n",
    "FRAG_PUNCT_INNER = r'.,'\n",
    "RE_PUNCT = re.compile(r'([{punct_outer}])'.format(punct_outer=FRAG_PUNCT_OUTER))\n",
    "RE_PUNCT_INNER = re.compile(r'([{punct_inner}])'.format(punct_inner=FRAG_PUNCT_INNER))\n",
    "RE_PUNCT_ALL = re.compile(r'([{punct_inner}{punct_outer}])'.format(punct_inner=FRAG_PUNCT_INNER, punct_outer=FRAG_PUNCT_OUTER))\n",
    "RE_NUMBERS = re.compile(r'\\b[0-9]+(?:(?:\\.[0-9]+)+|(?:,[0-9]+))?\\b') # Ловит цифры, числа, номера версий.\n",
    "RE_PHONE = re.compile(r'\\+(?:\\s*(?:-\\s*)?\\001){3,}') # Номера телефонов в международном формате с дефисом и без.\n",
    "FRAG_URL_PATH_COMPONENT = r'[a-zA-Z0-9_.-]+'\n",
    "FRAG_DOMAIN_NAME = r'(?:[a-zA-Z][a-zA-Z0-9-]*\\.)+[a-z]{2,}'\n",
    "FRAG_URL_FREEFORM = r'[/a-zA-Z0-9_.-]+'\n",
    "FRAG_URL_QUERYPARAM = r'[a-zA-Z0-9_]+={}'.format(FRAG_URL_FREEFORM)\n",
    "FRAG_NON_TEXT = r'(?:\\001|\\002|[{punct_inner}{punct_outer}]+)'.format(punct_inner=FRAG_PUNCT_INNER, punct_outer=FRAG_PUNCT_OUTER)\n",
    "RE_URL_OR_EMAIL = re.compile(r'\\b(?:(http)s?://{dn}(?:/(?:(?:{pathcomp}/)*{pathcomp})?(?:\\?{queryparam}(?:\\&{queryparam})*)?(?:#{freeform})?)?|(www)\\.{dn}\\b|{dn}@{dn}\\b)'.format(\n",
    "    dn=FRAG_DOMAIN_NAME, pathcomp=FRAG_URL_PATH_COMPONENT, queryparam=FRAG_URL_QUERYPARAM, freeform=FRAG_URL_FREEFORM))\n",
    "RE_LEAD_PUNCT = re.compile(r'^\\s*(?:{non_text}\\s+)*'.format(non_text=FRAG_NON_TEXT))\n",
    "RE_TRAIL_PUNCT = re.compile(r'(?:\\s+{non_text})*\\s*$'.format(non_text=FRAG_NON_TEXT))\n",
    "RE_ALL_PUNCT = re.compile(r'^\\s*{non_text}\\s*$'.format(non_text=FRAG_NON_TEXT))"
   ]
  },
  {
   "cell_type": "code",
   "execution_count": 27,
   "id": "2d30539b",
   "metadata": {},
   "outputs": [],
   "source": [
    "# Функция предварительной обработки текста:\n",
    "# Переводит в нижний регистр, отбивает пунктуацию пробелами, заменяет номера телефонов и числа на заглушки,\n",
    "# отдельно обрабатывая дробные числа и номера версий, удаляет пунктуацию и числа в начале и конце строки.\n",
    "# В качестве заглушек выбраны первые пять ASCII символов (крайне маловероятно, что они где-то встретятся в памяти)."
   ]
  },
  {
   "cell_type": "code",
   "execution_count": 13,
   "id": "cc41df5a",
   "metadata": {},
   "outputs": [],
   "source": [
    "def mangle_text_inner(s):\n",
    "    s = s.strip().lower()\n",
    "    \n",
    "    # Отбивка пунктуации \n",
    "    s = RE_PUNCT.sub(r' \\1 ', s)\n",
    "    \n",
    "    # Замена чисел, включая номера версий, на заглушку\n",
    "    s = RE_NUMBERS.sub(' \\001 ', s)\n",
    "\n",
    "    # Отбивка пунктуации слева от числовой замены\n",
    "    s = RE_PUNCT_INNER.sub(r' \\1 ', s)\n",
    "\n",
    "    # Постобработка: замена номеров телефона на заглушку\n",
    "    s = RE_PHONE.sub(' \\002 ', s)\n",
    "\n",
    "    # Постобработка: удаление чисел и пунктуации в начале и конце строки\n",
    "    s = RE_LEAD_PUNCT.sub('', RE_TRAIL_PUNCT.sub('', RE_ALL_PUNCT.sub('', s)))\n",
    "\n",
    "    return s"
   ]
  },
  {
   "cell_type": "code",
   "execution_count": null,
   "id": "9850e801",
   "metadata": {},
   "outputs": [],
   "source": [
    "# Основная функция обработки текста"
   ]
  },
  {
   "cell_type": "code",
   "execution_count": 28,
   "id": "2a5affc6",
   "metadata": {},
   "outputs": [],
   "source": [
    "def mangle_text(s):\n",
    "\n",
    "    fragments = []\n",
    "\n",
    "    # Отдельно ищем URL и адреса электронной почты или URL во всех возможных форматах\n",
    "    while True:\n",
    "        m = RE_URL_OR_EMAIL.search(s)\n",
    "\n",
    "        if m is None:\n",
    "            break\n",
    "\n",
    "        # Когда находим, обрабатываем текст до и после как фрагменты, после чего соединяем обратно в строку.\n",
    "        text_before = s[:m.start()]\n",
    "        if text_before.strip():\n",
    "            fragments.append(mangle_text_inner(text_before))\n",
    "\n",
    "        # Заменяем на разные заглушки, в зависимости от типа совпадения.\n",
    "        if m.group(2) == 'www':\n",
    "            prefix = '\\003'\n",
    "        elif m.group(1) == 'http':\n",
    "            prefix = '\\004'\n",
    "        else:\n",
    "            prefix = '\\005'\n",
    "            \n",
    "        # Присоединяем заглушку ко всему найденному паттерну\n",
    "        fragments.append(prefix + m.group(0)) \n",
    "\n",
    "        # Проверяем строку дальше\n",
    "        s = s[m.end():]\n",
    "\n",
    "    # Если строка содержит какие-то символы кроме пробельных, обрабатываем ее и добавляем к фрагментам\n",
    "    if s.strip():\n",
    "        fragments.append(mangle_text_inner(s))\n",
    "\n",
    "    s = ' '.join(fragments)\n",
    "\n",
    "    # Разбиваем на слова и снова соединяем, чтобы избавиться от лишних пробелов\n",
    "    words = s.split()\n",
    "    s = ' '.join(words)\n",
    "\n",
    "    return s"
   ]
  },
  {
   "cell_type": "code",
   "execution_count": null,
   "id": "51d2a423",
   "metadata": {},
   "outputs": [],
   "source": [
    "### Примеры работы кода"
   ]
  },
  {
   "cell_type": "code",
   "execution_count": 30,
   "id": "cc01053e",
   "metadata": {},
   "outputs": [
    {
     "data": {
      "text/plain": [
       "'компания \\x03www.basler.com была основана в \\x01 году , и вот уже \\x01 лет работает в сфере видеотехники , из которых \\x01 лет занимается разработкой и производством высококлассных цифровых камер'"
      ]
     },
     "execution_count": 30,
     "metadata": {},
     "output_type": "execute_result"
    }
   ],
   "source": [
    "s = '''\n",
    "Компания www.basler.com была основана в 1988 году, и вот уже 25 лет работает в сфере видеотехники, \n",
    "из которых 15 лет занимается разработкой и производством высококлассных цифровых камер.\n",
    "'''\n",
    "m = mangle_text(s)\n",
    "m"
   ]
  },
  {
   "cell_type": "code",
   "execution_count": 11,
   "id": "313d7a4f",
   "metadata": {},
   "outputs": [
    {
     "data": {
      "text/plain": [
       "'an der strusbek \\x01 -'"
      ]
     },
     "execution_count": 11,
     "metadata": {},
     "output_type": "execute_result"
    }
   ],
   "source": [
    "s = 'An der Strusbek 60-62'\n",
    "m = mangle_text(s)\n",
    "m"
   ]
  },
  {
   "cell_type": "code",
   "execution_count": 19,
   "id": "e581717b",
   "metadata": {},
   "outputs": [
    {
     "data": {
      "text/plain": [
       "'please download pylon version \\x01 for'"
      ]
     },
     "execution_count": 19,
     "metadata": {},
     "output_type": "execute_result"
    }
   ],
   "source": [
    "s = '   Please download pylon version 7.1.9 for '\n",
    "m = mangle_text(s)\n",
    "m"
   ]
  },
  {
   "cell_type": "code",
   "execution_count": 20,
   "id": "5dca5f06",
   "metadata": {},
   "outputs": [
    {
     "data": {
      "text/plain": [
       "'please download pylon version'"
      ]
     },
     "execution_count": 20,
     "metadata": {},
     "output_type": "execute_result"
    }
   ],
   "source": [
    "s = '   Please download pylon version 7.1.9  '\n",
    "m = mangle_text(s)\n",
    "m"
   ]
  },
  {
   "cell_type": "code",
   "execution_count": null,
   "id": "6a95fcc3",
   "metadata": {},
   "outputs": [],
   "source": [
    "s = '   8434 call me at +45  '\n",
    "m = mangle_text(s)\n",
    "m"
   ]
  }
 ],
 "metadata": {
  "kernelspec": {
   "display_name": "Python 3 (ipykernel)",
   "language": "python",
   "name": "python3"
  },
  "language_info": {
   "codemirror_mode": {
    "name": "ipython",
    "version": 3
   },
   "file_extension": ".py",
   "mimetype": "text/x-python",
   "name": "python",
   "nbconvert_exporter": "python",
   "pygments_lexer": "ipython3",
   "version": "3.10.1"
  }
 },
 "nbformat": 4,
 "nbformat_minor": 5
}
